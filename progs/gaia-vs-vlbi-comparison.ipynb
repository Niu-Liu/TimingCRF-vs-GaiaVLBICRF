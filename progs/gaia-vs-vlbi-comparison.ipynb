{
 "cells": [
  {
   "cell_type": "markdown",
   "id": "1b929766",
   "metadata": {},
   "source": [
    "This notebook is intended to compare the Gaia DR3 and VLBI astrometry."
   ]
  },
  {
   "cell_type": "code",
   "execution_count": 1,
   "id": "f2475c25",
   "metadata": {
    "ExecuteTime": {
     "end_time": "2022-08-16T04:44:19.456641Z",
     "start_time": "2022-08-16T04:44:18.719038Z"
    }
   },
   "outputs": [],
   "source": [
    "import numpy as np\n",
    "from numpy import concatenate, cos, pi, sin, sqrt\n",
    "\n",
    "from astropy.table import Table, join\n",
    "from astropy import units as u\n",
    "from astropy.time import Time"
   ]
  },
  {
   "cell_type": "markdown",
   "id": "1ab0a554",
   "metadata": {},
   "source": [
    "Load the PSR$\\pi$ table, which contains 61 pulsars."
   ]
  },
  {
   "cell_type": "code",
   "execution_count": 2,
   "id": "adb2e5e9",
   "metadata": {
    "ExecuteTime": {
     "end_time": "2022-08-16T04:44:19.474785Z",
     "start_time": "2022-08-16T04:44:19.458685Z"
    }
   },
   "outputs": [],
   "source": [
    "vlbi_table = Table.read(\"../data/psrpi.dat\", format=\"ascii\")\n",
    "\n",
    "\n",
    "vlbi_table[\"ra\"].unit = u.deg\n",
    "vlbi_table[\"dec\"].unit = u.deg\n",
    "vlbi_table[\"pmra\"].unit = u.mas / u.yr\n",
    "vlbi_table[\"pmdec\"].unit = u.mas / u.yr\n",
    "vlbi_table[\"plx\"].unit = u.mas\n",
    "vlbi_table[\"ra_err\"].unit = u.mas\n",
    "vlbi_table[\"dec_err\"].unit = u.mas\n",
    "vlbi_table[\"pmra_err\"].unit = u.mas / u.yr\n",
    "vlbi_table[\"pmdec_err\"].unit = u.mas / u.yr\n",
    "vlbi_table[\"plx_err\"].unit = u.mas\n"
   ]
  },
  {
   "cell_type": "markdown",
   "id": "27cfaacb",
   "metadata": {},
   "source": [
    "Load the Gaia DR3 pulsar table."
   ]
  },
  {
   "cell_type": "code",
   "execution_count": 3,
   "id": "5f0cfe98",
   "metadata": {
    "ExecuteTime": {
     "end_time": "2022-08-16T04:44:19.524895Z",
     "start_time": "2022-08-16T04:44:19.478938Z"
    }
   },
   "outputs": [],
   "source": [
    "gaia_table = Table.read(\"../data/edr3_psrcatv1.67.fits\")\n",
    "\n",
    "gaia_table = gaia_table[\n",
    "    \"name\",\n",
    "    \"source_id\",\n",
    "    \"ra\",\n",
    "    \"ra_error\",\n",
    "    \"dec\",\n",
    "    \"dec_error\",\n",
    "    \"parallax\",\n",
    "    \"parallax_error\",\n",
    "    \"pmra\",\n",
    "    \"pmra_error\",\n",
    "    \"pmdec\",\n",
    "    \"pmdec_error\",\n",
    "]\n",
    "\n",
    "gaia_table.rename_columns(\n",
    "    [\n",
    "        \"name\",\n",
    "        \"ra_error\",\n",
    "        \"dec_error\",\n",
    "        \"parallax\",\n",
    "        \"parallax_error\",\n",
    "        \"pmra_error\",\n",
    "        \"pmdec_error\",\n",
    "    ],\n",
    "    [\"psr_name\", \"ra_err\", \"dec_err\", \"plx\", \"plx_err\", \"pmra_err\", \"pmdec_err\"],\n",
    ")\n",
    "\n",
    "gaia_table[\"ra\"].unit = u.deg\n",
    "gaia_table[\"dec\"].unit = u.deg\n",
    "gaia_table[\"pmra\"].unit = u.mas / u.yr\n",
    "gaia_table[\"pmdec\"].unit = u.mas / u.yr\n",
    "gaia_table[\"plx\"].unit = u.mas\n",
    "gaia_table[\"ra_err\"].unit = u.mas\n",
    "gaia_table[\"dec_err\"].unit = u.mas\n",
    "gaia_table[\"pmra_err\"].unit = u.mas / u.yr\n",
    "gaia_table[\"pmdec_err\"].unit = u.mas / u.yr\n",
    "gaia_table[\"plx_err\"].unit = u.mas\n"
   ]
  },
  {
   "cell_type": "markdown",
   "id": "5f135f47",
   "metadata": {},
   "source": [
    "Find the common pulsars."
   ]
  },
  {
   "cell_type": "code",
   "execution_count": 4,
   "id": "6c9f84c0",
   "metadata": {
    "ExecuteTime": {
     "end_time": "2022-08-16T04:44:19.534339Z",
     "start_time": "2022-08-16T04:44:19.527564Z"
    }
   },
   "outputs": [],
   "source": [
    "com_table = join(gaia_table, vlbi_table, keys=\"psr_name\", table_names=[\"g\", \"v\"])"
   ]
  },
  {
   "cell_type": "markdown",
   "id": "ac271c4c",
   "metadata": {},
   "source": [
    "Computed the differences."
   ]
  },
  {
   "cell_type": "code",
   "execution_count": 5,
   "id": "65c9654d",
   "metadata": {
    "ExecuteTime": {
     "end_time": "2022-08-16T04:44:19.546390Z",
     "start_time": "2022-08-16T04:44:19.536722Z"
    }
   },
   "outputs": [],
   "source": [
    "gaia_epoch = Time(\"2016.0\", format=\"jyear\").mjd\n",
    "# 57388.5\n",
    "\n",
    "# Epoch difference in Julian year\n",
    "dt_y = -(com_table[\"pos_epoch\"] - gaia_epoch) / 365.25 * u.yr\n",
    "\n",
    "# Cos(decl.) factor for the difference in R.A.\n",
    "dec_fac = cos(np.deg2rad(com_table[\"dec_v\"].value))\n",
    "\n",
    "dra = (\n",
    "    com_table[\"ra_g\"] - com_table[\"ra_v\"]\n",
    ") * dec_fac - dt_y * com_table[\"pmra_v\"]\n",
    "\n",
    "ddec = com_table[\"dec_g\"] - com_table[\"dec_v\"] - \\\n",
    "    dt_y * com_table[\"pmdec_v\"]\n",
    "\n",
    "dra = dra.to(u.mas)\n",
    "ddec = ddec.to(u.mas)\n",
    "\n",
    "com_table.add_columns([dra, ddec], names=[\"dra\", \"ddec\"])\n",
    "\n",
    "com_table[\"ra_err_v\"] = com_table[\"ra_err_v\"] * dec_fac\n",
    "\n",
    "dra_err = sqrt(\n",
    "    com_table[\"ra_err_g\"] ** 2\n",
    "    + com_table[\"ra_err_v\"] ** 2\n",
    "    + (dt_y * com_table[\"pmra_err_v\"]).value ** 2\n",
    ")\n",
    "\n",
    "ddec_err = sqrt(\n",
    "    com_table[\"dec_err_g\"] ** 2\n",
    "    + com_table[\"dec_err_v\"] ** 2\n",
    "    + (dt_y * com_table[\"pmdec_err_v\"]).value ** 2\n",
    ")\n",
    "\n",
    "com_table.add_columns([dra_err, ddec_err], names=[\"dra_err\", \"ddec_err\"])"
   ]
  },
  {
   "cell_type": "markdown",
   "id": "cbd77c9d",
   "metadata": {},
   "source": [
    "Format the results."
   ]
  },
  {
   "cell_type": "code",
   "execution_count": 6,
   "id": "a33759a0",
   "metadata": {
    "ExecuteTime": {
     "end_time": "2022-08-16T04:44:19.557706Z",
     "start_time": "2022-08-16T04:44:19.548974Z"
    }
   },
   "outputs": [
    {
     "name": "stdout",
     "output_type": "stream",
     "text": [
      "----------------------------------------------------\n",
      "PSR J0614+2229\n",
      "----------------------------------------------------\n",
      "Parameters            :      VLBI  |      Gaia\n",
      "Position comparison\n",
      "ra_err                :     1.281  |     0.544\n",
      "dec_err               :     1.000  |     0.535\n",
      "Delta_ra              :   361.408 +/-     1.404\n",
      "Delta_dec             :   160.566 +/-     1.165\n",
      "Proper motion comparison\n",
      "pmra                  :    -0.230  |    -0.531\n",
      "pmra_err              :     0.050  |     0.678\n",
      "pmdec                 :    -1.220  |    -0.872\n",
      "pmdec_err             :     0.070  |     0.461\n",
      "Parallax comparison\n",
      "plx                   :     0.280  |    -1.224\n",
      "plx_err               :     0.030  |     0.678\n",
      "----------------------------------------------------\n",
      "PSR J1012+5307\n",
      "----------------------------------------------------\n",
      "Parameters            :      VLBI  |      Gaia\n",
      "Position comparison\n",
      "ra_err                :     0.540  |     0.204\n",
      "dec_err               :     1.000  |     0.204\n",
      "Delta_ra              :    -2.149 +/-     0.583\n",
      "Delta_dec             :    -0.858 +/-     1.028\n",
      "Proper motion comparison\n",
      "pmra                  :     2.670  |     2.736\n",
      "pmra_err              :     0.090  |     0.292\n",
      "pmdec                 :   -25.400  |   -25.921\n",
      "pmdec_err             :     0.140  |     0.271\n",
      "Parallax comparison\n",
      "plx                   :     1.210  |     1.745\n",
      "plx_err               :     0.080  |     0.291\n"
     ]
    }
   ],
   "source": [
    "for i in range(len(com_table)):\n",
    "\n",
    "    print(\"----------------------------------------------------\")\n",
    "    print(\"PSR\", com_table[i][\"psr_name\"])\n",
    "    print(\"----------------------------------------------------\")\n",
    "    print(\"{:20s}  :  {:>8s}  |  {:>8s}\".format(\"Parameters\", \"VLBI\", \"Gaia\"))\n",
    "\n",
    "    print(\"Position comparison\")\n",
    "    print(\"{:20s}  :  {:>8.3f}  |  {:>8.3f}\".format(\n",
    "        \"ra_err\", com_table[i][\"ra_err_v\"], com_table[i][\"ra_err_g\"]))\n",
    "    print(\"{:20s}  :  {:>8.3f}  |  {:>8.3f}\".format(\n",
    "        \"dec_err\", com_table[i][\"dec_err_v\"], com_table[i][\"dec_err_g\"]))\n",
    "    print(\"{:20s}  :  {:>8.3f} +/-  {:>8.3f}\".format(\n",
    "        \"Delta_ra\", com_table[i][\"dra\"], com_table[i][\"dra_err\"]))\n",
    "    print(\"{:20s}  :  {:>8.3f} +/-  {:>8.3f}\".format(\n",
    "        \"Delta_dec\", com_table[i][\"ddec\"], com_table[i][\"ddec_err\"]))\n",
    "\n",
    "    print(\"Proper motion comparison\")\n",
    "    print(\"{:20s}  :  {:>8.3f}  |  {:>8.3f}\".format(\n",
    "        \"pmra\", com_table[i][\"pmra_v\"], com_table[i][\"pmra_g\"]))\n",
    "    print(\"{:20s}  :  {:>8.3f}  |  {:>8.3f}\".format(\n",
    "        \"pmra_err\", com_table[i][\"pmra_err_v\"], com_table[i][\"pmra_err_g\"]))\n",
    "\n",
    "    print(\"{:20s}  :  {:>8.3f}  |  {:>8.3f}\".format(\n",
    "        \"pmdec\", com_table[i][\"pmdec_v\"], com_table[i][\"pmdec_g\"]))\n",
    "    print(\"{:20s}  :  {:>8.3f}  |  {:>8.3f}\".format(\n",
    "        \"pmdec_err\", com_table[i][\"pmdec_err_v\"], com_table[i][\"pmdec_err_g\"]))\n",
    "\n",
    "    print(\"Parallax comparison\")\n",
    "    print(\"{:20s}  :  {:>8.3f}  |  {:>8.3f}\".format(\n",
    "        \"plx\", com_table[i][\"plx_v\"], com_table[i][\"plx_g\"]))\n",
    "    print(\"{:20s}  :  {:>8.3f}  |  {:>8.3f}\".format(\n",
    "        \"plx_err\", com_table[i][\"plx_err_v\"], com_table[i][\"plx_err_g\"]))\n"
   ]
  }
 ],
 "metadata": {
  "hide_input": false,
  "kernelspec": {
   "display_name": "Python 3 (ipykernel)",
   "language": "python",
   "name": "python3"
  },
  "language_info": {
   "codemirror_mode": {
    "name": "ipython",
    "version": 3
   },
   "file_extension": ".py",
   "mimetype": "text/x-python",
   "name": "python",
   "nbconvert_exporter": "python",
   "pygments_lexer": "ipython3",
   "version": "3.9.12"
  }
 },
 "nbformat": 4,
 "nbformat_minor": 5
}
