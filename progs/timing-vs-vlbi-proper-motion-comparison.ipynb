{
 "cells": [
  {
   "cell_type": "markdown",
   "id": "7f4d401e",
   "metadata": {},
   "source": [
    "This code is used to compare the pulsar proper motions from timing and VLBI astrometry."
   ]
  },
  {
   "cell_type": "code",
   "execution_count": 1,
   "id": "9dbaa63a",
   "metadata": {
    "ExecuteTime": {
     "end_time": "2022-08-20T08:27:50.713672Z",
     "start_time": "2022-08-20T08:27:49.000517Z"
    }
   },
   "outputs": [
    {
     "name": "stderr",
     "output_type": "stream",
     "text": [
      "/Users/Neo/Scisoft/miniconda3/lib/python3.9/site-packages/scipy/__init__.py:146: UserWarning: A NumPy version >=1.16.5 and <1.23.0 is required for this version of SciPy (detected version 1.23.1\n",
      "  warnings.warn(f\"A NumPy version >={np_minversion} and <{np_maxversion}\"\n"
     ]
    }
   ],
   "source": [
    "from functools import reduce\n",
    "\n",
    "import numpy as np\n",
    "from matplotlib import pyplot as plt\n",
    "from matplotlib.ticker import MultipleLocator\n",
    "\n",
    "from astropy.table import Table, join\n",
    "from astropy import units as u\n",
    "import seaborn as sns\n",
    "\n",
    "from psrcrf_tools import *"
   ]
  },
  {
   "cell_type": "markdown",
   "id": "962f0eb3",
   "metadata": {},
   "source": [
    "# 1 Data preparation"
   ]
  },
  {
   "cell_type": "markdown",
   "id": "810e7295",
   "metadata": {},
   "source": [
    "Load timing astrometric data."
   ]
  },
  {
   "cell_type": "code",
   "execution_count": 2,
   "id": "c7a33833",
   "metadata": {
    "ExecuteTime": {
     "end_time": "2022-08-20T08:27:50.734922Z",
     "start_time": "2022-08-20T08:27:50.715973Z"
    }
   },
   "outputs": [],
   "source": [
    "timing_table = Table.read(\"../data/timing_vlbi.fits\")\n",
    "timing_table.sort(\"psr_name\")"
   ]
  },
  {
   "cell_type": "code",
   "execution_count": 3,
   "id": "e40db2ab",
   "metadata": {
    "ExecuteTime": {
     "end_time": "2022-08-20T08:27:50.741719Z",
     "start_time": "2022-08-20T08:27:50.738786Z"
    }
   },
   "outputs": [],
   "source": [
    "timing_table[\"pmra\"].unit = u.mas / u.yr\n",
    "timing_table[\"pmdec\"].unit = u.mas / u.yr\n",
    "timing_table[\"pmra_err\"].unit = u.mas / u.yr\n",
    "timing_table[\"pmdec_err\"].unit = u.mas / u.yr"
   ]
  },
  {
   "cell_type": "markdown",
   "id": "1e04fb29",
   "metadata": {},
   "source": [
    "Load the VLBI solutions."
   ]
  },
  {
   "cell_type": "code",
   "execution_count": 4,
   "id": "019dde64",
   "metadata": {
    "ExecuteTime": {
     "end_time": "2022-08-20T08:27:50.756176Z",
     "start_time": "2022-08-20T08:27:50.743855Z"
    }
   },
   "outputs": [],
   "source": [
    "vlbi_table = Table.read(\"../data/psrpi.dat\", format=\"ascii\")"
   ]
  },
  {
   "cell_type": "code",
   "execution_count": 5,
   "id": "379b114a",
   "metadata": {
    "ExecuteTime": {
     "end_time": "2022-08-20T08:27:50.764274Z",
     "start_time": "2022-08-20T08:27:50.757590Z"
    }
   },
   "outputs": [],
   "source": [
    "vlbi_timing = join(timing_table,\n",
    "                   vlbi_table,\n",
    "                   keys=\"psr_name\",\n",
    "                   join_type=\"left\",\n",
    "                   table_names=[\"t\", \"v\"])\n",
    "\n",
    "vlbi_timing.rename_column(\"pos_epoch_t\", \"pos_epoch\")"
   ]
  },
  {
   "cell_type": "code",
   "execution_count": 6,
   "id": "464cd4e5",
   "metadata": {
    "ExecuteTime": {
     "end_time": "2022-08-20T08:27:50.770951Z",
     "start_time": "2022-08-20T08:27:50.766628Z"
    }
   },
   "outputs": [
    {
     "name": "stdout",
     "output_type": "stream",
     "text": [
      "There are 55 pulsars with 109 measurements.\n"
     ]
    }
   ],
   "source": [
    "pm_tab = vlbi_timing[(vlbi_timing[\"pmra_err_t\"] != 0)\n",
    "                     & (vlbi_timing[\"pmdec_err_t\"] != 0)]\n",
    "\n",
    "count_psr_nb(pm_tab)"
   ]
  },
  {
   "cell_type": "markdown",
   "id": "45aedfe1",
   "metadata": {},
   "source": [
    "Compute proper motion differences."
   ]
  },
  {
   "cell_type": "code",
   "execution_count": 7,
   "id": "2ebc8e00",
   "metadata": {
    "ExecuteTime": {
     "end_time": "2022-08-20T08:27:50.778152Z",
     "start_time": "2022-08-20T08:27:50.773375Z"
    }
   },
   "outputs": [],
   "source": [
    "dpmra = pm_tab[\"pmra_t\"] - pm_tab[\"pmra_v\"]\n",
    "dpmdec = pm_tab[\"pmdec_t\"] - pm_tab[\"pmdec_v\"]\n",
    "\n",
    "dpmra_err = sqrt(pm_tab[\"pmra_err_t\"]**2 + pm_tab[\"pmra_err_v\"]**2)\n",
    "dpmdec_err = sqrt(pm_tab[\"pmdec_err_t\"]**2 + pm_tab[\"pmdec_err_v\"]**2)\n",
    "\n",
    "X_pmra = dpmra / dpmra_err\n",
    "X_pmdec = dpmdec / dpmdec_err\n",
    "\n",
    "pm_tab.add_columns([dpmra, dpmdec, dpmra_err, dpmdec_err, X_pmra, X_pmdec], names=[\n",
    "                   \"dpmra\", \"dpmdec\", \"dpmra_err\", \"dpmdec_err\", \"X_pmra\", \"X_pmdec\"])"
   ]
  },
  {
   "cell_type": "markdown",
   "id": "ae548a2b",
   "metadata": {},
   "source": [
    "## 1.1 DE200 vs. VLBI"
   ]
  },
  {
   "cell_type": "code",
   "execution_count": 8,
   "id": "fd4ab27b",
   "metadata": {
    "ExecuteTime": {
     "end_time": "2022-08-20T08:27:50.785174Z",
     "start_time": "2022-08-20T08:27:50.780399Z"
    },
    "scrolled": true
   },
   "outputs": [],
   "source": [
    "mask = pm_tab[\"eph\"] == \"DE200\"\n",
    "pm_tab200 = pm_tab[mask]\n",
    "\n",
    "# pm_tab200"
   ]
  },
  {
   "cell_type": "markdown",
   "id": "97674f3a",
   "metadata": {},
   "source": [
    "## 1.2 DE405 vs. VLBI"
   ]
  },
  {
   "cell_type": "code",
   "execution_count": 9,
   "id": "70fd9735",
   "metadata": {
    "ExecuteTime": {
     "end_time": "2022-08-20T08:27:50.799568Z",
     "start_time": "2022-08-20T08:27:50.789839Z"
    },
    "scrolled": false
   },
   "outputs": [
    {
     "data": {
      "text/html": [
       "<div><i>Table length=3</i>\n",
       "<table id=\"table140312968535728\" class=\"table-striped table-bordered table-condensed\">\n",
       "<thead><tr><th>psr_bname</th><th>psr_name</th><th>pos_epoch</th><th>eph</th><th>ra_t</th><th>dec_t</th><th>pmra_t</th><th>pmdec_t</th><th>plx_t</th><th>ra_err_t</th><th>dec_err_t</th><th>pmra_err_t</th><th>pmdec_err_t</th><th>plx_err_t</th><th>ref</th><th>comment</th><th>pos_epoch_v</th><th>ra_v</th><th>dec_v</th><th>pmra_v</th><th>pmdec_v</th><th>plx_v</th><th>ra_err_v</th><th>dec_err_v</th><th>pmra_err_v</th><th>pmdec_err_v</th><th>plx_err_v</th><th>dpmra</th><th>dpmdec</th><th>dpmra_err</th><th>dpmdec_err</th><th>X_pmra</th><th>X_pmdec</th></tr></thead>\n",
       "<thead><tr><th></th><th></th><th>d</th><th></th><th></th><th></th><th>mas / yr</th><th>mas / yr</th><th></th><th></th><th></th><th>mas / yr</th><th>mas / yr</th><th></th><th></th><th></th><th></th><th></th><th></th><th></th><th></th><th></th><th></th><th></th><th></th><th></th><th></th><th>mas / yr</th><th>mas / yr</th><th>mas / yr</th><th>mas / yr</th><th>mas / yr</th><th>mas / yr</th></tr></thead>\n",
       "<thead><tr><th>bytes10</th><th>str11</th><th>float64</th><th>bytes5</th><th>float64</th><th>float64</th><th>float64</th><th>float64</th><th>float64</th><th>float64</th><th>float64</th><th>float64</th><th>float64</th><th>float64</th><th>bytes6</th><th>bytes13</th><th>float64</th><th>float64</th><th>float64</th><th>float64</th><th>float64</th><th>float64</th><th>float64</th><th>float64</th><th>float64</th><th>float64</th><th>float64</th><th>float64</th><th>float64</th><th>float64</th><th>float64</th><th>float64</th><th>float64</th></tr></thead>\n",
       "<tr><td>J1012+5307</td><td>J1012+5307</td><td>50700.0</td><td>DE405</td><td>153.13930875416665</td><td>53.117389083333336</td><td>2.562</td><td>-25.61</td><td>1.22</td><td>0.08912635815241264</td><td>0.13</td><td>0.014</td><td>0.02</td><td>0.26</td><td>lwj+09</td><td></td><td>57700.0</td><td>153.13933291666663</td><td>53.11725361111111</td><td>2.67</td><td>-25.4</td><td>1.21</td><td>0.9</td><td>1.0</td><td>0.09</td><td>0.14</td><td>0.08</td><td>-0.1080000000000001</td><td>-0.21000000000000085</td><td>0.0910823802938856</td><td>0.14142135623730953</td><td>-1.18573976274586</td><td>-1.4849242404917555</td></tr>\n",
       "<tr><td>J2145-0750</td><td>J2145-0750</td><td>53040.0</td><td>DE405</td><td>326.4602671666666</td><td>-7.838455527777778</td><td>-9.66</td><td>-8.9</td><td>1.6</td><td>0.4457954377559239</td><td>1.4000000000000001</td><td>0.15</td><td>0.4</td><td>0.5</td><td>vbc+09</td><td></td><td>56000.0</td><td>326.460245</td><td>-7.8384761111</td><td>-9.51</td><td>-9.1</td><td>1.6</td><td>1.486</td><td>4.0</td><td>0.04</td><td>0.09</td><td>0.03</td><td>-0.15000000000000036</td><td>0.1999999999999993</td><td>0.15524174696260024</td><td>0.41000000000000003</td><td>-0.9662349396012486</td><td>0.4878048780487787</td></tr>\n",
       "<tr><td>J2145-0750</td><td>J2145-0750</td><td>53070.0</td><td>DE405</td><td>326.4602666666666</td><td>-7.838455277777777</td><td>-9.0</td><td>-10.0</td><td>0.0</td><td>2.9719695868247094</td><td>6.0</td><td>2.0</td><td>6.0</td><td>0.0</td><td>hbo06</td><td></td><td>56000.0</td><td>326.460245</td><td>-7.8384761111</td><td>-9.51</td><td>-9.1</td><td>1.6</td><td>1.486</td><td>4.0</td><td>0.04</td><td>0.09</td><td>0.03</td><td>0.5099999999999998</td><td>-0.9000000000000004</td><td>2.000399960007998</td><td>6.000674962035521</td><td>0.2549490152949017</td><td>-0.14998312784712248</td></tr>\n",
       "</table></div>"
      ],
      "text/plain": [
       "<Table length=3>\n",
       "psr_bname   psr_name  pos_epoch ...        X_pmra             X_pmdec       \n",
       "                          d     ...       mas / yr            mas / yr      \n",
       " bytes10     str11     float64  ...       float64             float64       \n",
       "---------- ---------- --------- ... ------------------- --------------------\n",
       "J1012+5307 J1012+5307   50700.0 ...   -1.18573976274586  -1.4849242404917555\n",
       "J2145-0750 J2145-0750   53040.0 ... -0.9662349396012486   0.4878048780487787\n",
       "J2145-0750 J2145-0750   53070.0 ...  0.2549490152949017 -0.14998312784712248"
      ]
     },
     "execution_count": 9,
     "metadata": {},
     "output_type": "execute_result"
    }
   ],
   "source": [
    "mask = pm_tab[\"eph\"] == \"DE405\"\n",
    "pm_tab405 = pm_tab[mask]\n",
    "\n",
    "pm_tab405"
   ]
  },
  {
   "cell_type": "markdown",
   "id": "dcb208fc",
   "metadata": {},
   "source": [
    "## 1.3 DE421 vs. VLBI"
   ]
  },
  {
   "cell_type": "code",
   "execution_count": 10,
   "id": "d1d032fd",
   "metadata": {
    "ExecuteTime": {
     "end_time": "2022-08-20T08:27:50.806548Z",
     "start_time": "2022-08-20T08:27:50.802080Z"
    },
    "scrolled": false
   },
   "outputs": [],
   "source": [
    "mask = pm_tab[\"eph\"] == \"DE421\"\n",
    "pm_tab421 = pm_tab[mask]\n",
    "\n",
    "# pm_tab421"
   ]
  },
  {
   "cell_type": "markdown",
   "id": "cde03c3a",
   "metadata": {},
   "source": [
    "## 1.4 DE430 vs. VLBI"
   ]
  },
  {
   "cell_type": "code",
   "execution_count": 11,
   "id": "934556e6",
   "metadata": {
    "ExecuteTime": {
     "end_time": "2022-08-20T08:27:50.817810Z",
     "start_time": "2022-08-20T08:27:50.808741Z"
    },
    "scrolled": false
   },
   "outputs": [
    {
     "data": {
      "text/html": [
       "<div><i>Table length=6</i>\n",
       "<table id=\"table140311348839760\" class=\"table-striped table-bordered table-condensed\">\n",
       "<thead><tr><th>psr_bname</th><th>psr_name</th><th>pos_epoch</th><th>eph</th><th>ra_t</th><th>dec_t</th><th>pmra_t</th><th>pmdec_t</th><th>plx_t</th><th>ra_err_t</th><th>dec_err_t</th><th>pmra_err_t</th><th>pmdec_err_t</th><th>plx_err_t</th><th>ref</th><th>comment</th><th>pos_epoch_v</th><th>ra_v</th><th>dec_v</th><th>pmra_v</th><th>pmdec_v</th><th>plx_v</th><th>ra_err_v</th><th>dec_err_v</th><th>pmra_err_v</th><th>pmdec_err_v</th><th>plx_err_v</th><th>dpmra</th><th>dpmdec</th><th>dpmra_err</th><th>dpmdec_err</th><th>X_pmra</th><th>X_pmdec</th></tr></thead>\n",
       "<thead><tr><th></th><th></th><th>d</th><th></th><th></th><th></th><th>mas / yr</th><th>mas / yr</th><th></th><th></th><th></th><th>mas / yr</th><th>mas / yr</th><th></th><th></th><th></th><th></th><th></th><th></th><th></th><th></th><th></th><th></th><th></th><th></th><th></th><th></th><th>mas / yr</th><th>mas / yr</th><th>mas / yr</th><th>mas / yr</th><th>mas / yr</th><th>mas / yr</th></tr></thead>\n",
       "<thead><tr><th>bytes10</th><th>str11</th><th>float64</th><th>bytes5</th><th>float64</th><th>float64</th><th>float64</th><th>float64</th><th>float64</th><th>float64</th><th>float64</th><th>float64</th><th>float64</th><th>float64</th><th>bytes6</th><th>bytes13</th><th>float64</th><th>float64</th><th>float64</th><th>float64</th><th>float64</th><th>float64</th><th>float64</th><th>float64</th><th>float64</th><th>float64</th><th>float64</th><th>float64</th><th>float64</th><th>float64</th><th>float64</th><th>float64</th><th>float64</th></tr></thead>\n",
       "<tr><td>B0149-16</td><td>J0152-1637</td><td>57600.0</td><td>DE430</td><td>28.04521666666667</td><td>-16.63163888888889</td><td>1.0</td><td>-36.0</td><td>0.0</td><td>86.23482034068115</td><td>100.0</td><td>4.0</td><td>4.0</td><td>0.0</td><td>jbs+19</td><td>UTMOST-I</td><td>56000.0</td><td>28.0452245833</td><td>-16.6315669444</td><td>0.8</td><td>-31.37</td><td>0.44</td><td>1.437</td><td>2.0</td><td>0.23</td><td>0.42</td><td>0.21</td><td>0.19999999999999996</td><td>-4.629999999999999</td><td>4.0066070433722345</td><td>4.021989557420556</td><td>0.04991754814858666</td><td>-1.1511715617107123</td></tr>\n",
       "<tr><td>B0559-05</td><td>J0601-0527</td><td>57600.0</td><td>DE430</td><td>90.49572083333334</td><td>-5.464172222222222</td><td>-5.0</td><td>-21.0</td><td>0.0</td><td>29.863678119609652</td><td>60.0</td><td>2.0</td><td>3.0</td><td>0.0</td><td>jbs+19</td><td>UTMOST-I</td><td>56000.0</td><td>90.49573</td><td>-5.4641308333</td><td>-7.35</td><td>-15.23</td><td>0.48</td><td>2.986</td><td>4.0</td><td>0.08</td><td>0.1</td><td>0.04</td><td>2.3499999999999996</td><td>-5.77</td><td>2.001599360511489</td><td>3.0016662039607267</td><td>1.1740611264981022</td><td>-1.92226570442324</td></tr>\n",
       "<tr><td>B1133+16</td><td>J1136+1551</td><td>57600.0</td><td>DE430</td><td>174.0128</td><td>15.854305555555555</td><td>-82.0</td><td>358.0</td><td>0.0</td><td>101.00574657828585</td><td>200.0</td><td>3.0</td><td>5.0</td><td>0.0</td><td>jbs+19</td><td>UTMOST-I</td><td>56000.0</td><td>174.0129991667</td><td>15.8539397222</td><td>-73.78</td><td>366.57</td><td>2.69</td><td>1.443</td><td>1.0</td><td>0.03</td><td>0.07</td><td>0.02</td><td>-8.219999999999999</td><td>-8.569999999999993</td><td>3.0001499962501876</td><td>5.000489975992353</td><td>-2.7398630102741435</td><td>-1.7138320526878503</td></tr>\n",
       "<tr><td>B1818-04</td><td>J1820-0427</td><td>57600.0</td><td>DE430</td><td>275.21913333333333</td><td>-4.460311111111111</td><td>-8.0</td><td>30.0</td><td>0.0</td><td>29.90914329919069</td><td>70.0</td><td>1.0</td><td>3.0</td><td>0.0</td><td>jbs+19</td><td>UTMOST-I</td><td>56000.0</td><td>275.2191391667</td><td>-4.4604755556</td><td>-7.32</td><td>15.88</td><td>0.35</td><td>1.495</td><td>2.0</td><td>0.07</td><td>0.09</td><td>0.06</td><td>-0.6799999999999997</td><td>14.12</td><td>1.0024470060806208</td><td>3.001349696386611</td><td>-0.6783400976563059</td><td>4.704550095245272</td></tr>\n",
       "<tr><td>B1831-03</td><td>J1833-0338</td><td>57600.0</td><td>DE430</td><td>278.4245375</td><td>-3.6512305555555553</td><td>-16.0</td><td>-3.0</td><td>0.0</td><td>14.969552787705906</td><td>70.0</td><td>3.0</td><td>9.0</td><td>0.0</td><td>jbs+19</td><td>UTMOST-I</td><td>56000.0</td><td>278.4245604167</td><td>-3.6511827778</td><td>-17.41</td><td>15.04</td><td>0.41</td><td>1.497</td><td>1.0</td><td>0.16</td><td>0.34</td><td>0.07</td><td>1.4100000000000001</td><td>-18.04</td><td>3.004263636900064</td><td>9.006419932470394</td><td>0.46933297819857855</td><td>-2.003015641649274</td></tr>\n",
       "<tr><td>J2145-0750</td><td>J2145-0750</td><td>57600.0</td><td>DE430</td><td>326.4602329166667</td><td>-7.838497222222222</td><td>-9.4</td><td>-12.8</td><td>0.0</td><td>2.9719692873042374</td><td>7.0</td><td>0.3</td><td>0.8</td><td>0.0</td><td>jbs+19</td><td>UTMOST-I</td><td>56000.0</td><td>326.460245</td><td>-7.8384761111</td><td>-9.51</td><td>-9.1</td><td>1.6</td><td>1.486</td><td>4.0</td><td>0.04</td><td>0.09</td><td>0.03</td><td>0.10999999999999943</td><td>-3.700000000000001</td><td>0.3026549190084311</td><td>0.8050465825031494</td><td>0.3634502302502975</td><td>-4.596007337234459</td></tr>\n",
       "</table></div>"
      ],
      "text/plain": [
       "<Table length=6>\n",
       "psr_bname   psr_name  pos_epoch ...        X_pmra             X_pmdec      \n",
       "                          d     ...       mas / yr            mas / yr     \n",
       " bytes10     str11     float64  ...       float64             float64      \n",
       "---------- ---------- --------- ... ------------------- -------------------\n",
       "  B0149-16 J0152-1637   57600.0 ... 0.04991754814858666 -1.1511715617107123\n",
       "  B0559-05 J0601-0527   57600.0 ...  1.1740611264981022   -1.92226570442324\n",
       "  B1133+16 J1136+1551   57600.0 ... -2.7398630102741435 -1.7138320526878503\n",
       "  B1818-04 J1820-0427   57600.0 ... -0.6783400976563059   4.704550095245272\n",
       "  B1831-03 J1833-0338   57600.0 ... 0.46933297819857855  -2.003015641649274\n",
       "J2145-0750 J2145-0750   57600.0 ...  0.3634502302502975  -4.596007337234459"
      ]
     },
     "execution_count": 11,
     "metadata": {},
     "output_type": "execute_result"
    }
   ],
   "source": [
    "mask = pm_tab[\"eph\"] == \"DE430\"\n",
    "pm_tab430 = pm_tab[mask]\n",
    "\n",
    "pm_tab430"
   ]
  },
  {
   "cell_type": "markdown",
   "id": "10ddf857",
   "metadata": {},
   "source": [
    "## 1.5 DE436 vs. VLBI"
   ]
  },
  {
   "cell_type": "code",
   "execution_count": 12,
   "id": "6394b944",
   "metadata": {
    "ExecuteTime": {
     "end_time": "2022-08-20T08:27:50.823336Z",
     "start_time": "2022-08-20T08:27:50.819925Z"
    }
   },
   "outputs": [],
   "source": [
    "mask = pm_tab[\"eph\"] == \"DE436\"\n",
    "pm_tab436 = pm_tab[mask]\n",
    "\n",
    "# pm_tab436"
   ]
  },
  {
   "cell_type": "markdown",
   "id": "4334fad7",
   "metadata": {},
   "source": [
    "# 2. Plots to show PM differences"
   ]
  },
  {
   "cell_type": "markdown",
   "id": "fdaf0b2c",
   "metadata": {},
   "source": [
    "## 2.1 Direction comparison"
   ]
  },
  {
   "cell_type": "code",
   "execution_count": 13,
   "id": "f2038201",
   "metadata": {
    "ExecuteTime": {
     "end_time": "2022-08-20T08:27:51.522154Z",
     "start_time": "2022-08-20T08:27:50.825867Z"
    }
   },
   "outputs": [
    {
     "data": {
      "text/plain": [
       "<matplotlib.legend.Legend at 0x7f9d28aa2c10>"
      ]
     },
     "execution_count": 13,
     "metadata": {},
     "output_type": "execute_result"
    },
    {
     "data": {
      "image/png": "[encoded data removed]",
      "text/plain": [
       "<Figure size 432x432 with 1 Axes>"
      ]
     },
     "metadata": {
      "needs_background": "light"
     },
     "output_type": "display_data"
    }
   ],
   "source": [
    "fig, ax = plt.subplots(figsize=(6, 6))\n",
    "\n",
    "ax.errorbar(np.fabs(pm_tab200[\"pmra_t\"]),\n",
    "            np.fabs(pm_tab200[\"pmra_v\"]),\n",
    "            xerr=pm_tab200[\"pmra_err_t\"],\n",
    "            yerr=pm_tab200[\"pmra_err_v\"],\n",
    "            fmt=\"b^\",\n",
    "            ecolor=\"k\",\n",
    "            elinewidth=0.5,\n",
    "            capsize=1,\n",
    "            label=\"DE200\")\n",
    "\n",
    "ax.errorbar(np.fabs(pm_tab405[\"pmra_t\"]),\n",
    "            np.fabs(pm_tab405[\"pmra_v\"]),\n",
    "            xerr=pm_tab405[\"pmra_err_t\"],\n",
    "            yerr=pm_tab405[\"pmra_err_v\"],\n",
    "            fmt=\"gx\",\n",
    "            ecolor=\"k\",\n",
    "            elinewidth=0.5,\n",
    "            capsize=1,\n",
    "            label=\"DE405\")\n",
    "\n",
    "ax.errorbar(np.fabs(pm_tab421[\"pmra_t\"]),\n",
    "            np.fabs(pm_tab421[\"pmra_v\"]),\n",
    "            xerr=pm_tab421[\"pmra_err_t\"],\n",
    "            yerr=pm_tab421[\"pmra_err_v\"],\n",
    "            fmt=\"v\",\n",
    "            color=\"purple\",\n",
    "            ecolor=\"k\",\n",
    "            elinewidth=0.5,\n",
    "            capsize=1,\n",
    "            label=\"DE421\")\n",
    "\n",
    "ax.errorbar(np.fabs(pm_tab430[\"pmra_t\"]),\n",
    "            np.fabs(pm_tab430[\"pmra_v\"]),\n",
    "            xerr=pm_tab430[\"pmra_err_t\"],\n",
    "            yerr=pm_tab430[\"pmra_err_v\"],\n",
    "            fmt=\"ys\",\n",
    "            ecolor=\"k\",\n",
    "            elinewidth=0.5,\n",
    "            capsize=1,\n",
    "            label=\"DE430\")\n",
    "\n",
    "ax.errorbar(np.fabs(pm_tab436[\"pmra_t\"]),\n",
    "            np.fabs(pm_tab436[\"pmra_v\"]),\n",
    "            xerr=pm_tab436[\"pmra_err_t\"],\n",
    "            yerr=pm_tab436[\"pmra_err_v\"],\n",
    "            fmt=\"ro\",\n",
    "            ecolor=\"k\",\n",
    "            elinewidth=0.5,\n",
    "            capsize=1,\n",
    "            label=\"DE436\")\n",
    "\n",
    "x = np.arange(0.01, 2500, 5)\n",
    "ax.plot(x, x, \"k--\", lw=1)\n",
    "ax.plot(x, x, \"--\", color=\"tab:grey\", lw=1)\n",
    "ax.text(150, 220, \"$y=x$\", rotation=45, color=\"tab:grey\", fontsize=12)\n",
    "\n",
    "ax.text(30, 9.5, \"PSR J2145-0750\", color=\"purple\")\n",
    "\n",
    "ax.set_yscale(\"log\")\n",
    "ax.set_xscale(\"log\")\n",
    "ax.axis(\"square\")\n",
    "ax.axis([0.5, 450, 0.5, 450])\n",
    "\n",
    "ax.set_xlabel(\n",
    "    \"$|\\mu_{\\\\alpha*}|$ from timing (mas yr$^{-1}$)\", fontsize=15)\n",
    "ax.set_ylabel(\n",
    "    \"$|\\mu_{\\\\alpha*}|$ from VLBI (mas yr$^{-1}$)\", fontsize=15)\n",
    "\n",
    "\n",
    "# plt.grid(lw=1)\n",
    "plt.tight_layout()\n",
    "plt.legend(loc=\"upper left\")\n",
    "\n",
    "# plt.savefig(\"../plots/vlbi_pmra-com.eps\")"
   ]
  },
  {
   "cell_type": "code",
   "execution_count": 14,
   "id": "1496c26a",
   "metadata": {
    "ExecuteTime": {
     "end_time": "2022-08-20T08:27:52.211902Z",
     "start_time": "2022-08-20T08:27:51.523577Z"
    },
    "scrolled": false
   },
   "outputs": [
    {
     "data": {
      "text/plain": [
       "<matplotlib.legend.Legend at 0x7f9d297d5040>"
      ]
     },
     "execution_count": 14,
     "metadata": {},
     "output_type": "execute_result"
    },
    {
     "data": {
      "image/png": "[encoded data removed]",
      "text/plain": [
       "<Figure size 432x432 with 1 Axes>"
      ]
     },
     "metadata": {
      "needs_background": "light"
     },
     "output_type": "display_data"
    }
   ],
   "source": [
    "fig, ax = plt.subplots(figsize=(6, 6))\n",
    "\n",
    "ax.errorbar(np.fabs(pm_tab200[\"pmdec_t\"]),\n",
    "            np.fabs(pm_tab200[\"pmdec_v\"]),\n",
    "            xerr=pm_tab200[\"pmdec_err_t\"],\n",
    "            yerr=pm_tab200[\"pmdec_err_v\"],\n",
    "            fmt=\"b^\",\n",
    "            ecolor=\"k\",\n",
    "            elinewidth=0.5,\n",
    "            capsize=1,\n",
    "            label=\"DE200\")\n",
    "\n",
    "ax.errorbar(np.fabs(pm_tab405[\"pmdec_t\"]),\n",
    "            np.fabs(pm_tab405[\"pmdec_v\"]),\n",
    "            xerr=pm_tab405[\"pmdec_err_t\"],\n",
    "            yerr=pm_tab405[\"pmdec_err_v\"],\n",
    "            fmt=\"gx\",\n",
    "            ecolor=\"k\",\n",
    "            elinewidth=0.5,\n",
    "            capsize=1,\n",
    "            label=\"DE405\")\n",
    "\n",
    "ax.errorbar(np.fabs(pm_tab421[\"pmdec_t\"]),\n",
    "            np.fabs(pm_tab421[\"pmdec_v\"]),\n",
    "            xerr=pm_tab421[\"pmdec_err_t\"],\n",
    "            yerr=pm_tab421[\"pmdec_err_v\"],\n",
    "            fmt=\"v\",\n",
    "            color=\"purple\",\n",
    "            ecolor=\"k\",\n",
    "            elinewidth=0.5,\n",
    "            capsize=1,\n",
    "            label=\"DE421\")\n",
    "\n",
    "ax.errorbar(np.fabs(pm_tab430[\"pmdec_t\"]),\n",
    "            np.fabs(pm_tab430[\"pmdec_v\"]),\n",
    "            xerr=pm_tab430[\"pmdec_err_t\"],\n",
    "            yerr=pm_tab430[\"pmdec_err_v\"],\n",
    "            fmt=\"ys\",\n",
    "            ecolor=\"k\",\n",
    "            elinewidth=0.5,\n",
    "            capsize=1,\n",
    "            label=\"DE430\")\n",
    "\n",
    "ax.errorbar(np.fabs(pm_tab436[\"pmdec_t\"]),\n",
    "            np.fabs(pm_tab436[\"pmdec_v\"]),\n",
    "            xerr=pm_tab436[\"pmdec_err_t\"],\n",
    "            yerr=pm_tab436[\"pmdec_err_v\"],\n",
    "            fmt=\"ro\",\n",
    "            ecolor=\"k\",\n",
    "            elinewidth=0.5,\n",
    "            capsize=1,\n",
    "            label=\"DE436\")\n",
    "\n",
    "x = np.arange(0.01, 2500, 5)\n",
    "ax.plot(x, x, \"--\", color=\"tab:grey\", lw=1)\n",
    "ax.text(500, 800, \"$y=x$\", rotation=45, color=\"tab:grey\", fontsize=12)\n",
    "\n",
    "ax.text(110, 23, \"PSR J0407+6138\", color=\"b\")\n",
    "ax.text(30, 16, \"PSR J1820-0427\", color=\"y\")\n",
    "ax.text(13, 9, \"PSR J2145-0750\", color=\"purple\")\n",
    "\n",
    "ax.set_yscale(\"log\")\n",
    "ax.set_xscale(\"log\")\n",
    "ax.axis(\"square\")\n",
    "ax.axis([0.08, 2000, 0.08, 2000])\n",
    "\n",
    "ax.set_xlabel(\"$|\\mu_{\\delta}|$ from timing (mas yr$^{-1}$)\", fontsize=15)\n",
    "ax.set_ylabel(\"$|\\mu_{\\delta}|$ from VLBI (mas yr$^{-1}$)\", fontsize=15)\n",
    "\n",
    "# plt.grid(lw=1)\n",
    "plt.tight_layout()\n",
    "plt.legend(loc=\"upper left\")\n",
    "\n",
    "# plt.savefig(\"../plots/vlbi_pmdec-com.eps\")"
   ]
  },
  {
   "cell_type": "markdown",
   "id": "86d4db04",
   "metadata": {},
   "source": [
    "## 2.2 Distribution of normalized PM differences"
   ]
  },
  {
   "cell_type": "code",
   "execution_count": 15,
   "id": "1bac8316",
   "metadata": {
    "ExecuteTime": {
     "end_time": "2022-08-20T08:27:52.610093Z",
     "start_time": "2022-08-20T08:27:52.214292Z"
    }
   },
   "outputs": [
    {
     "data": {
      "text/plain": [
       "<Figure size 432x288 with 0 Axes>"
      ]
     },
     "metadata": {},
     "output_type": "display_data"
    },
    {
     "data": {
      "image/png": "[encoded data removed]",
      "text/plain": [
       "<Figure size 360x360 with 1 Axes>"
      ]
     },
     "metadata": {
      "needs_background": "light"
     },
     "output_type": "display_data"
    },
    {
     "data": {
      "image/png": "[encoded data removed]",
      "text/plain": [
       "<Figure size 360x360 with 1 Axes>"
      ]
     },
     "metadata": {
      "needs_background": "light"
     },
     "output_type": "display_data"
    }
   ],
   "source": [
    "plt.clf()\n",
    "sns.displot(\n",
    "    X_pmra,\n",
    "    binwidth=0.2, height=5, facet_kws=dict(margin_titles=True),\n",
    ")\n",
    "plt.xlim([-5, 5])\n",
    "plt.xlabel(\"Normalized difference for $\\mu_{\\\\alpha,*}$\")\n",
    "plt.tight_layout()\n",
    "\n",
    "sns.displot(\n",
    "    X_pmdec,\n",
    "    binwidth=0.2, height=5, facet_kws=dict(margin_titles=True),\n",
    ")\n",
    "plt.xlim([-5, 5])\n",
    "plt.xlabel(\"Normalized difference for $\\mu_{\\delta}$\")\n",
    "plt.tight_layout()"
   ]
  },
  {
   "cell_type": "code",
   "execution_count": 16,
   "id": "5dc136ae",
   "metadata": {
    "ExecuteTime": {
     "end_time": "2022-08-20T08:27:52.617453Z",
     "start_time": "2022-08-20T08:27:52.612028Z"
    }
   },
   "outputs": [
    {
     "name": "stdout",
     "output_type": "stream",
     "text": [
      "N      RA     DEC\n",
      "sigma  %      %\n",
      " 1     74     66\n",
      " 2     94     89\n",
      " 3     97     95\n",
      " 4     97     97\n",
      " 5     97     100\n",
      " 6     99     100\n",
      " 7     99     100\n",
      " 8     100     100\n",
      " 9     100     100\n",
      "10     100     100\n"
     ]
    }
   ],
   "source": [
    "print(\"N      RA     DEC\")\n",
    "print(\"sigma  %      %\")\n",
    "for i in range(1, 11):\n",
    "    per_ra = count_sigma(X_pmra, i)\n",
    "    per_dec = count_sigma(X_pmdec, i)\n",
    "\n",
    "    print(\"{:2d}     {:2.0f}     {:2.0f}\".format(i, per_ra, per_dec))"
   ]
  },
  {
   "cell_type": "code",
   "execution_count": 17,
   "id": "1ac4931c",
   "metadata": {
    "ExecuteTime": {
     "end_time": "2022-08-20T08:27:52.626251Z",
     "start_time": "2022-08-20T08:27:52.619759Z"
    }
   },
   "outputs": [
    {
     "name": "stdout",
     "output_type": "stream",
     "text": [
      "Delta pmra < -300 mas/yr\n"
     ]
    },
    {
     "data": {
      "text/html": [
       "<div><i>Table length=1</i>\n",
       "<table id=\"table140312724652912\" class=\"table-striped table-bordered table-condensed\">\n",
       "<thead><tr><th>psr_name</th><th>eph</th><th>pmra_t</th><th>pmra_err_t</th><th>pmra_v</th><th>pmra_err_v</th><th>dpmra</th><th>X_pmra</th><th>ref</th></tr></thead>\n",
       "<thead><tr><th></th><th></th><th>mas / yr</th><th>mas / yr</th><th></th><th></th><th>mas / yr</th><th>mas / yr</th><th></th></tr></thead>\n",
       "<thead><tr><th>str11</th><th>bytes5</th><th>float64</th><th>float64</th><th>float64</th><th>float64</th><th>float64</th><th>float64</th><th>bytes6</th></tr></thead>\n",
       "<tr><td>J1022+1001</td><td>DE200</td><td>-361.0</td><td>167.0</td><td>-14.89</td><td>0.05</td><td>-346.11</td><td>-2.0725148771686497</td><td>hlk+04</td></tr>\n",
       "</table></div>"
      ],
      "text/plain": [
       "<Table length=1>\n",
       " psr_name   eph    pmra_t  pmra_err_t ...  dpmra          X_pmra        ref  \n",
       "                  mas / yr  mas / yr  ... mas / yr       mas / yr            \n",
       "  str11    bytes5 float64   float64   ... float64        float64       bytes6\n",
       "---------- ------ -------- ---------- ... -------- ------------------- ------\n",
       "J1022+1001  DE200   -361.0      167.0 ...  -346.11 -2.0725148771686497 hlk+04"
      ]
     },
     "execution_count": 17,
     "metadata": {},
     "output_type": "execute_result"
    }
   ],
   "source": [
    "print(\"Delta pmra < -300 mas/yr\")\n",
    "\n",
    "mask = dpmra < -300\n",
    "pm_tab[mask][\"psr_name\", \"eph\", \"pmra_t\", \"pmra_err_t\",\n",
    "             \"pmra_v\", \"pmra_err_v\", \"dpmra\", \"X_pmra\", \"ref\"]"
   ]
  },
  {
   "cell_type": "code",
   "execution_count": 18,
   "id": "72f66a75",
   "metadata": {
    "ExecuteTime": {
     "end_time": "2022-08-20T08:27:52.636033Z",
     "start_time": "2022-08-20T08:27:52.627980Z"
    }
   },
   "outputs": [
    {
     "name": "stdout",
     "output_type": "stream",
     "text": [
      "Delta pmdec < -800 mas/yr\n"
     ]
    },
    {
     "data": {
      "text/html": [
       "<div><i>Table length=1</i>\n",
       "<table id=\"table140312724655552\" class=\"table-striped table-bordered table-condensed\">\n",
       "<thead><tr><th>psr_name</th><th>eph</th><th>pmdec_t</th><th>pmdec_err_t</th><th>pmdec_v</th><th>pmdec_err_v</th><th>dpmdec</th><th>X_pmdec</th><th>ref</th></tr></thead>\n",
       "<thead><tr><th></th><th></th><th>mas / yr</th><th>mas / yr</th><th></th><th></th><th>mas / yr</th><th>mas / yr</th><th></th></tr></thead>\n",
       "<thead><tr><th>str11</th><th>bytes5</th><th>float64</th><th>float64</th><th>float64</th><th>float64</th><th>float64</th><th>float64</th><th>bytes6</th></tr></thead>\n",
       "<tr><td>J1022+1001</td><td>DE200</td><td>-900.0</td><td>500.0</td><td>5.59</td><td>0.03</td><td>-905.59</td><td>-1.811179996739876</td><td>hlk+04</td></tr>\n",
       "</table></div>"
      ],
      "text/plain": [
       "<Table length=1>\n",
       " psr_name   eph   pmdec_t  pmdec_err_t ...  dpmdec       X_pmdec        ref  \n",
       "                  mas / yr   mas / yr  ... mas / yr      mas / yr            \n",
       "  str11    bytes5 float64    float64   ... float64       float64       bytes6\n",
       "---------- ------ -------- ----------- ... -------- ------------------ ------\n",
       "J1022+1001  DE200   -900.0       500.0 ...  -905.59 -1.811179996739876 hlk+04"
      ]
     },
     "execution_count": 18,
     "metadata": {},
     "output_type": "execute_result"
    }
   ],
   "source": [
    "print(\"Delta pmdec < -800 mas/yr\")\n",
    "\n",
    "mask = dpmdec < -300\n",
    "pm_tab[mask][\"psr_name\", \"eph\", \"pmdec_t\", \"pmdec_err_t\",\n",
    "             \"pmdec_v\", \"pmdec_err_v\", \"dpmdec\", \"X_pmdec\", \"ref\"]"
   ]
  },
  {
   "cell_type": "code",
   "execution_count": 19,
   "id": "6e217aa4",
   "metadata": {
    "ExecuteTime": {
     "end_time": "2022-08-20T08:27:52.646812Z",
     "start_time": "2022-08-20T08:27:52.638466Z"
    }
   },
   "outputs": [
    {
     "name": "stdout",
     "output_type": "stream",
     "text": [
      "Delta pmdec > 300 mas/yr\n"
     ]
    },
    {
     "data": {
      "text/html": [
       "<div><i>Table length=2</i>\n",
       "<table id=\"table140312724654400\" class=\"table-striped table-bordered table-condensed\">\n",
       "<thead><tr><th>psr_name</th><th>eph</th><th>pmdec_t</th><th>pmdec_err_t</th><th>pmdec_v</th><th>pmdec_err_v</th><th>dpmdec</th><th>X_pmdec</th><th>ref</th></tr></thead>\n",
       "<thead><tr><th></th><th></th><th>mas / yr</th><th>mas / yr</th><th></th><th></th><th>mas / yr</th><th>mas / yr</th><th></th></tr></thead>\n",
       "<thead><tr><th>str11</th><th>bytes5</th><th>float64</th><th>float64</th><th>float64</th><th>float64</th><th>float64</th><th>float64</th><th>bytes6</th></tr></thead>\n",
       "<tr><td>J0629+2415</td><td>DE200</td><td>400.0</td><td>300.0</td><td>-4.61</td><td>0.15</td><td>404.61</td><td>1.3486998314125316</td><td>hlk+04</td></tr>\n",
       "<tr><td>J0629+2415</td><td>DE421</td><td>400.0</td><td>300.0</td><td>-4.61</td><td>0.15</td><td>404.61</td><td>1.3486998314125316</td><td>lys+20</td></tr>\n",
       "</table></div>"
      ],
      "text/plain": [
       "<Table length=2>\n",
       " psr_name   eph   pmdec_t  pmdec_err_t ...  dpmdec       X_pmdec        ref  \n",
       "                  mas / yr   mas / yr  ... mas / yr      mas / yr            \n",
       "  str11    bytes5 float64    float64   ... float64       float64       bytes6\n",
       "---------- ------ -------- ----------- ... -------- ------------------ ------\n",
       "J0629+2415  DE200    400.0       300.0 ...   404.61 1.3486998314125316 hlk+04\n",
       "J0629+2415  DE421    400.0       300.0 ...   404.61 1.3486998314125316 lys+20"
      ]
     },
     "execution_count": 19,
     "metadata": {},
     "output_type": "execute_result"
    }
   ],
   "source": [
    "print(\"Delta pmdec > 300 mas/yr\")\n",
    "\n",
    "mask = dpmdec > 300\n",
    "pm_tab[mask][\"psr_name\", \"eph\", \"pmdec_t\", \"pmdec_err_t\",\n",
    "             \"pmdec_v\", \"pmdec_err_v\", \"dpmdec\", \"X_pmdec\", \"ref\"]"
   ]
  },
  {
   "cell_type": "code",
   "execution_count": 20,
   "id": "1cfafc89",
   "metadata": {
    "ExecuteTime": {
     "end_time": "2022-08-20T08:27:52.657816Z",
     "start_time": "2022-08-20T08:27:52.649565Z"
    },
    "scrolled": false
   },
   "outputs": [
    {
     "data": {
      "text/html": [
       "<div><i>Table length=3</i>\n",
       "<table id=\"table140312724652192\" class=\"table-striped table-bordered table-condensed\">\n",
       "<thead><tr><th>psr_name</th><th>eph</th><th>pmra_v</th><th>pmra_err_v</th><th>pmra_t</th><th>pmra_err_t</th><th>dpmra</th><th>X_pmra</th><th>ref</th></tr></thead>\n",
       "<thead><tr><th></th><th></th><th></th><th></th><th>mas / yr</th><th>mas / yr</th><th>mas / yr</th><th>mas / yr</th><th></th></tr></thead>\n",
       "<thead><tr><th>str11</th><th>bytes5</th><th>float64</th><th>float64</th><th>float64</th><th>float64</th><th>float64</th><th>float64</th><th>bytes6</th></tr></thead>\n",
       "<tr><td>J1022+1001</td><td>DE200</td><td>-14.89</td><td>0.05</td><td>-361.0</td><td>167.0</td><td>-346.11</td><td>-2.0725148771686497</td><td>hlk+04</td></tr>\n",
       "<tr><td>J1022+1001</td><td>DE421</td><td>-14.89</td><td>0.05</td><td>-18.2</td><td>6.4</td><td>-3.3099999999999987</td><td>-0.5171717174125291</td><td>dcl+16</td></tr>\n",
       "<tr><td>J1022+1001</td><td>DE436</td><td>-14.89</td><td>0.05</td><td>-19.0</td><td>3.0</td><td>-4.109999999999999</td><td>-1.3698097618542517</td><td>rsc+21</td></tr>\n",
       "</table></div>"
      ],
      "text/plain": [
       "<Table length=3>\n",
       " psr_name   eph    pmra_v ...        dpmra               X_pmra        ref  \n",
       "                          ...       mas / yr            mas / yr            \n",
       "  str11    bytes5 float64 ...       float64             float64       bytes6\n",
       "---------- ------ ------- ... ------------------- ------------------- ------\n",
       "J1022+1001  DE200  -14.89 ...             -346.11 -2.0725148771686497 hlk+04\n",
       "J1022+1001  DE421  -14.89 ... -3.3099999999999987 -0.5171717174125291 dcl+16\n",
       "J1022+1001  DE436  -14.89 ...  -4.109999999999999 -1.3698097618542517 rsc+21"
      ]
     },
     "execution_count": 20,
     "metadata": {},
     "output_type": "execute_result"
    }
   ],
   "source": [
    "pm_tab[pm_tab[\"psr_name\"] == \"J1022+1001\"][\"psr_name\",\n",
    "                                           \"eph\", \"pmra_v\", \"pmra_err_v\", \"pmra_t\", \"pmra_err_t\", \"dpmra\", \"X_pmra\", \"ref\"]"
   ]
  },
  {
   "cell_type": "code",
   "execution_count": 21,
   "id": "c3dba42d",
   "metadata": {
    "ExecuteTime": {
     "end_time": "2022-08-20T08:27:52.667707Z",
     "start_time": "2022-08-20T08:27:52.659978Z"
    }
   },
   "outputs": [
    {
     "data": {
      "text/html": [
       "<div><i>Table length=3</i>\n",
       "<table id=\"table140311637189488\" class=\"table-striped table-bordered table-condensed\">\n",
       "<thead><tr><th>psr_name</th><th>eph</th><th>pmdec_v</th><th>pmdec_err_v</th><th>pmdec_t</th><th>pmdec_err_t</th><th>dpmdec</th><th>X_pmdec</th><th>ref</th></tr></thead>\n",
       "<thead><tr><th></th><th></th><th></th><th></th><th>mas / yr</th><th>mas / yr</th><th>mas / yr</th><th>mas / yr</th><th></th></tr></thead>\n",
       "<thead><tr><th>str11</th><th>bytes5</th><th>float64</th><th>float64</th><th>float64</th><th>float64</th><th>float64</th><th>float64</th><th>bytes6</th></tr></thead>\n",
       "<tr><td>J1022+1001</td><td>DE200</td><td>5.59</td><td>0.03</td><td>-900.0</td><td>500.0</td><td>-905.59</td><td>-1.811179996739876</td><td>hlk+04</td></tr>\n",
       "<tr><td>J1022+1001</td><td>DE421</td><td>5.59</td><td>0.03</td><td>-3.0</td><td>16.0</td><td>-8.59</td><td>-0.5368740562769024</td><td>dcl+16</td></tr>\n",
       "<tr><td>J1022+1001</td><td>DE436</td><td>5.59</td><td>0.03</td><td>-5.0</td><td>9.0</td><td>-10.59</td><td>-1.1766601296841044</td><td>rsc+21</td></tr>\n",
       "</table></div>"
      ],
      "text/plain": [
       "<Table length=3>\n",
       " psr_name   eph   pmdec_v pmdec_err_v ...  dpmdec        X_pmdec        ref  \n",
       "                                      ... mas / yr       mas / yr            \n",
       "  str11    bytes5 float64   float64   ... float64        float64       bytes6\n",
       "---------- ------ ------- ----------- ... -------- ------------------- ------\n",
       "J1022+1001  DE200    5.59        0.03 ...  -905.59  -1.811179996739876 hlk+04\n",
       "J1022+1001  DE421    5.59        0.03 ...    -8.59 -0.5368740562769024 dcl+16\n",
       "J1022+1001  DE436    5.59        0.03 ...   -10.59 -1.1766601296841044 rsc+21"
      ]
     },
     "execution_count": 21,
     "metadata": {},
     "output_type": "execute_result"
    }
   ],
   "source": [
    "pm_tab[pm_tab[\"psr_name\"] == \"J1022+1001\"][\"psr_name\",\n",
    "                                           \"eph\", \"pmdec_v\", \"pmdec_err_v\", \"pmdec_t\", \"pmdec_err_t\", \"dpmdec\", \"X_pmdec\", \"ref\"]"
   ]
  },
  {
   "cell_type": "code",
   "execution_count": 22,
   "id": "15b9eee6",
   "metadata": {
    "ExecuteTime": {
     "end_time": "2022-08-20T08:27:52.678497Z",
     "start_time": "2022-08-20T08:27:52.671042Z"
    },
    "scrolled": false
   },
   "outputs": [
    {
     "data": {
      "text/html": [
       "<div><i>Table length=2</i>\n",
       "<table id=\"table140312724814528\" class=\"table-striped table-bordered table-condensed\">\n",
       "<thead><tr><th>psr_name</th><th>eph</th><th>pmra_v</th><th>pmra_err_v</th><th>pmra_t</th><th>pmra_err_t</th><th>dpmra</th><th>X_pmra</th><th>ref</th></tr></thead>\n",
       "<thead><tr><th></th><th></th><th></th><th></th><th>mas / yr</th><th>mas / yr</th><th>mas / yr</th><th>mas / yr</th><th></th></tr></thead>\n",
       "<thead><tr><th>str11</th><th>bytes5</th><th>float64</th><th>float64</th><th>float64</th><th>float64</th><th>float64</th><th>float64</th><th>bytes6</th></tr></thead>\n",
       "<tr><td>J0629+2415</td><td>DE200</td><td>3.63</td><td>0.19</td><td>32.0</td><td>15.0</td><td>28.37</td><td>1.8911816246257407</td><td>hlk+04</td></tr>\n",
       "<tr><td>J0629+2415</td><td>DE421</td><td>3.63</td><td>0.19</td><td>32.0</td><td>15.0</td><td>28.37</td><td>1.8911816246257407</td><td>lys+20</td></tr>\n",
       "</table></div>"
      ],
      "text/plain": [
       "<Table length=2>\n",
       " psr_name   eph    pmra_v pmra_err_v ...  dpmra         X_pmra        ref  \n",
       "                                     ... mas / yr      mas / yr            \n",
       "  str11    bytes5 float64  float64   ... float64       float64       bytes6\n",
       "---------- ------ ------- ---------- ... -------- ------------------ ------\n",
       "J0629+2415  DE200    3.63       0.19 ...    28.37 1.8911816246257407 hlk+04\n",
       "J0629+2415  DE421    3.63       0.19 ...    28.37 1.8911816246257407 lys+20"
      ]
     },
     "execution_count": 22,
     "metadata": {},
     "output_type": "execute_result"
    }
   ],
   "source": [
    "pm_tab[pm_tab[\"psr_name\"] == \"J0629+2415\"][\"psr_name\",\n",
    "                                           \"eph\", \"pmra_v\", \"pmra_err_v\", \"pmra_t\", \"pmra_err_t\", \"dpmra\", \"X_pmra\", \"ref\"]"
   ]
  },
  {
   "cell_type": "code",
   "execution_count": 23,
   "id": "aa056f84",
   "metadata": {
    "ExecuteTime": {
     "end_time": "2022-08-20T08:27:52.689364Z",
     "start_time": "2022-08-20T08:27:52.680499Z"
    }
   },
   "outputs": [
    {
     "data": {
      "text/html": [
       "<div><i>Table length=2</i>\n",
       "<table id=\"table140312724652960\" class=\"table-striped table-bordered table-condensed\">\n",
       "<thead><tr><th>psr_name</th><th>eph</th><th>pmdec_v</th><th>pmdec_err_v</th><th>pmdec_t</th><th>pmdec_err_t</th><th>dpmdec</th><th>X_pmdec</th><th>ref</th></tr></thead>\n",
       "<thead><tr><th></th><th></th><th></th><th></th><th>mas / yr</th><th>mas / yr</th><th>mas / yr</th><th>mas / yr</th><th></th></tr></thead>\n",
       "<thead><tr><th>str11</th><th>bytes5</th><th>float64</th><th>float64</th><th>float64</th><th>float64</th><th>float64</th><th>float64</th><th>bytes6</th></tr></thead>\n",
       "<tr><td>J0629+2415</td><td>DE200</td><td>-4.61</td><td>0.15</td><td>400.0</td><td>300.0</td><td>404.61</td><td>1.3486998314125316</td><td>hlk+04</td></tr>\n",
       "<tr><td>J0629+2415</td><td>DE421</td><td>-4.61</td><td>0.15</td><td>400.0</td><td>300.0</td><td>404.61</td><td>1.3486998314125316</td><td>lys+20</td></tr>\n",
       "</table></div>"
      ],
      "text/plain": [
       "<Table length=2>\n",
       " psr_name   eph   pmdec_v pmdec_err_v ...  dpmdec       X_pmdec        ref  \n",
       "                                      ... mas / yr      mas / yr            \n",
       "  str11    bytes5 float64   float64   ... float64       float64       bytes6\n",
       "---------- ------ ------- ----------- ... -------- ------------------ ------\n",
       "J0629+2415  DE200   -4.61        0.15 ...   404.61 1.3486998314125316 hlk+04\n",
       "J0629+2415  DE421   -4.61        0.15 ...   404.61 1.3486998314125316 lys+20"
      ]
     },
     "execution_count": 23,
     "metadata": {},
     "output_type": "execute_result"
    }
   ],
   "source": [
    "pm_tab[pm_tab[\"psr_name\"] == \"J0629+2415\"][\"psr_name\",\n",
    "                                           \"eph\", \"pmdec_v\", \"pmdec_err_v\", \"pmdec_t\", \"pmdec_err_t\", \"dpmdec\", \"X_pmdec\", \"ref\"]"
   ]
  },
  {
   "cell_type": "code",
   "execution_count": 24,
   "id": "3faf4844",
   "metadata": {
    "ExecuteTime": {
     "end_time": "2022-08-20T08:27:52.700617Z",
     "start_time": "2022-08-20T08:27:52.691610Z"
    }
   },
   "outputs": [
    {
     "name": "stdout",
     "output_type": "stream",
     "text": [
      "X_ra >= 3\n"
     ]
    },
    {
     "data": {
      "text/html": [
       "<div><i>Table length=3</i>\n",
       "<table id=\"table140312724811984\" class=\"table-striped table-bordered table-condensed\">\n",
       "<thead><tr><th>psr_name</th><th>eph</th><th>pmra_v</th><th>pmra_err_v</th><th>pmra_t</th><th>pmra_err_t</th><th>dpmra</th><th>X_pmra</th><th>ref</th></tr></thead>\n",
       "<thead><tr><th></th><th></th><th></th><th></th><th>mas / yr</th><th>mas / yr</th><th>mas / yr</th><th>mas / yr</th><th></th></tr></thead>\n",
       "<thead><tr><th>str11</th><th>bytes5</th><th>float64</th><th>float64</th><th>float64</th><th>float64</th><th>float64</th><th>float64</th><th>bytes6</th></tr></thead>\n",
       "<tr><td>J1537+1155</td><td>DE200</td><td>1.51</td><td>0.02</td><td>1.32</td><td>0.03</td><td>-0.18999999999999995</td><td>-5.269651864139676</td><td>stt+02</td></tr>\n",
       "<tr><td>J1537+1155</td><td>DE200</td><td>1.51</td><td>0.02</td><td>1.34</td><td>0.01</td><td>-0.16999999999999993</td><td>-7.602631123499282</td><td>kwh03</td></tr>\n",
       "<tr><td>J2145-0750</td><td>DE421</td><td>-9.51</td><td>0.04</td><td>-10.1</td><td>0.1</td><td>-0.5899999999999999</td><td>-5.478012476223028</td><td>mnf+16</td></tr>\n",
       "</table></div>"
      ],
      "text/plain": [
       "<Table length=3>\n",
       " psr_name   eph    pmra_v ...        dpmra               X_pmra        ref  \n",
       "                          ...       mas / yr            mas / yr            \n",
       "  str11    bytes5 float64 ...       float64             float64       bytes6\n",
       "---------- ------ ------- ... -------------------- ------------------ ------\n",
       "J1537+1155  DE200    1.51 ... -0.18999999999999995 -5.269651864139676 stt+02\n",
       "J1537+1155  DE200    1.51 ... -0.16999999999999993 -7.602631123499282  kwh03\n",
       "J2145-0750  DE421   -9.51 ...  -0.5899999999999999 -5.478012476223028 mnf+16"
      ]
     },
     "execution_count": 24,
     "metadata": {},
     "output_type": "execute_result"
    }
   ],
   "source": [
    "print(\"X_ra >= 3\")\n",
    "\n",
    "mask = np.fabs(X_pmra) >= 3\n",
    "pm_tab[mask][\"psr_name\",\n",
    "             \"eph\", \"pmra_v\", \"pmra_err_v\", \"pmra_t\", \"pmra_err_t\", \"dpmra\", \"X_pmra\", \"ref\"]"
   ]
  },
  {
   "cell_type": "code",
   "execution_count": 25,
   "id": "a41a7692",
   "metadata": {
    "ExecuteTime": {
     "end_time": "2022-08-20T08:27:52.711881Z",
     "start_time": "2022-08-20T08:27:52.703519Z"
    }
   },
   "outputs": [
    {
     "data": {
      "text/html": [
       "<div><i>Table length=12</i>\n",
       "<table id=\"table140312724793136\" class=\"table-striped table-bordered table-condensed\">\n",
       "<thead><tr><th>psr_name</th><th>eph</th><th>pmra_v</th><th>pmra_err_v</th><th>pmra_t</th><th>pmra_err_t</th><th>dpmra</th><th>X_pmra</th><th>ref</th></tr></thead>\n",
       "<thead><tr><th></th><th></th><th></th><th></th><th>mas / yr</th><th>mas / yr</th><th>mas / yr</th><th>mas / yr</th><th></th></tr></thead>\n",
       "<thead><tr><th>str11</th><th>bytes5</th><th>float64</th><th>float64</th><th>float64</th><th>float64</th><th>float64</th><th>float64</th><th>bytes6</th></tr></thead>\n",
       "<tr><td>J2145-0750</td><td>DE405</td><td>-9.51</td><td>0.04</td><td>-9.66</td><td>0.15</td><td>-0.15000000000000036</td><td>-0.9662349396012486</td><td>vbc+09</td></tr>\n",
       "<tr><td>J2145-0750</td><td>DE430</td><td>-9.51</td><td>0.04</td><td>-9.4</td><td>0.3</td><td>0.10999999999999943</td><td>0.3634502302502975</td><td>jbs+19</td></tr>\n",
       "<tr><td>J2145-0750</td><td>DE421</td><td>-9.51</td><td>0.04</td><td>-9.58</td><td>0.04</td><td>-0.07000000000000028</td><td>-1.2374368670764633</td><td>dcl+16</td></tr>\n",
       "<tr><td>J2145-0750</td><td>DE200</td><td>-9.51</td><td>0.04</td><td>-10.0</td><td>1.7</td><td>-0.4900000000000002</td><td>-0.2881555389157558</td><td>hlk+04</td></tr>\n",
       "<tr><td>J2145-0750</td><td>DE421</td><td>-9.51</td><td>0.04</td><td>-9.559</td><td>0.041103</td><td>-0.04899999999999949</td><td>-0.8543464103348531</td><td>vlh+16</td></tr>\n",
       "<tr><td>J2145-0750</td><td>DE436</td><td>-9.51</td><td>0.04</td><td>-9.48</td><td>0.02</td><td>0.02999999999999936</td><td>0.6708203932499226</td><td>rsc+21</td></tr>\n",
       "<tr><td>J2145-0750</td><td>DE421</td><td>-9.51</td><td>0.04</td><td>-9.586</td><td>0.078031</td><td>-0.07600000000000051</td><td>-0.8667288770342572</td><td>rhc+16</td></tr>\n",
       "<tr><td>J2145-0750</td><td>DE421</td><td>-9.51</td><td>0.04</td><td>-10.1</td><td>0.1</td><td>-0.5899999999999999</td><td>-5.478012476223028</td><td>mnf+16</td></tr>\n",
       "<tr><td>J2145-0750</td><td>DE436</td><td>-9.51</td><td>0.04</td><td>-9.583</td><td>0.025382</td><td>-0.0730000000000004</td><td>-1.5409467726085</td><td>pdd+19</td></tr>\n",
       "<tr><td>J2145-0750</td><td>DE405</td><td>-9.51</td><td>0.04</td><td>-9.0</td><td>2.0</td><td>0.5099999999999998</td><td>0.2549490152949017</td><td>hbo06</td></tr>\n",
       "<tr><td>J2145-0750</td><td>DE200</td><td>-9.51</td><td>0.04</td><td>-9.1</td><td>0.7000000000000001</td><td>0.41000000000000014</td><td>0.5847603530197579</td><td>tsb+99</td></tr>\n",
       "<tr><td>J2145-0750</td><td>DE436</td><td>-9.51</td><td>0.04</td><td>-10.0</td><td>0.2</td><td>-0.4900000000000002</td><td>-2.4024226554427552</td><td>abb+18</td></tr>\n",
       "</table></div>"
      ],
      "text/plain": [
       "<Table length=12>\n",
       " psr_name   eph    pmra_v ...        dpmra                X_pmra        ref  \n",
       "                          ...       mas / yr             mas / yr            \n",
       "  str11    bytes5 float64 ...       float64              float64       bytes6\n",
       "---------- ------ ------- ... -------------------- ------------------- ------\n",
       "J2145-0750  DE405   -9.51 ... -0.15000000000000036 -0.9662349396012486 vbc+09\n",
       "J2145-0750  DE430   -9.51 ...  0.10999999999999943  0.3634502302502975 jbs+19\n",
       "J2145-0750  DE421   -9.51 ... -0.07000000000000028 -1.2374368670764633 dcl+16\n",
       "J2145-0750  DE200   -9.51 ...  -0.4900000000000002 -0.2881555389157558 hlk+04\n",
       "J2145-0750  DE421   -9.51 ... -0.04899999999999949 -0.8543464103348531 vlh+16\n",
       "J2145-0750  DE436   -9.51 ...  0.02999999999999936  0.6708203932499226 rsc+21\n",
       "J2145-0750  DE421   -9.51 ... -0.07600000000000051 -0.8667288770342572 rhc+16\n",
       "J2145-0750  DE421   -9.51 ...  -0.5899999999999999  -5.478012476223028 mnf+16\n",
       "J2145-0750  DE436   -9.51 ...  -0.0730000000000004    -1.5409467726085 pdd+19\n",
       "J2145-0750  DE405   -9.51 ...   0.5099999999999998  0.2549490152949017  hbo06\n",
       "J2145-0750  DE200   -9.51 ...  0.41000000000000014  0.5847603530197579 tsb+99\n",
       "J2145-0750  DE436   -9.51 ...  -0.4900000000000002 -2.4024226554427552 abb+18"
      ]
     },
     "execution_count": 25,
     "metadata": {},
     "output_type": "execute_result"
    }
   ],
   "source": [
    "pm_tab[pm_tab[\"psr_name\"] == \"J2145-0750\"][\"psr_name\",\n",
    "                                           \"eph\", \"pmra_v\", \"pmra_err_v\", \"pmra_t\", \"pmra_err_t\", \"dpmra\", \"X_pmra\", \"ref\"]"
   ]
  },
  {
   "cell_type": "code",
   "execution_count": 26,
   "id": "0b2af49b",
   "metadata": {
    "ExecuteTime": {
     "end_time": "2022-08-20T08:27:52.724161Z",
     "start_time": "2022-08-20T08:27:52.714178Z"
    }
   },
   "outputs": [
    {
     "name": "stdout",
     "output_type": "stream",
     "text": [
      "3 > X_ra >= 2\n"
     ]
    },
    {
     "data": {
      "text/html": [
       "<div><i>Table length=4</i>\n",
       "<table id=\"table140312724792128\" class=\"table-striped table-bordered table-condensed\">\n",
       "<thead><tr><th>psr_name</th><th>eph</th><th>pmra_t</th><th>pmra_err_t</th><th>pmra_v</th><th>pmra_err_v</th><th>dpmra</th><th>X_pmra</th><th>ref</th></tr></thead>\n",
       "<thead><tr><th></th><th></th><th>mas / yr</th><th>mas / yr</th><th></th><th></th><th>mas / yr</th><th>mas / yr</th><th></th></tr></thead>\n",
       "<thead><tr><th>str11</th><th>bytes5</th><th>float64</th><th>float64</th><th>float64</th><th>float64</th><th>float64</th><th>float64</th><th>bytes6</th></tr></thead>\n",
       "<tr><td>J1022+1001</td><td>DE200</td><td>-361.0</td><td>167.0</td><td>-14.89</td><td>0.05</td><td>-346.11</td><td>-2.0725148771686497</td><td>hlk+04</td></tr>\n",
       "<tr><td>J1136+1551</td><td>DE430</td><td>-82.0</td><td>3.0</td><td>-73.78</td><td>0.03</td><td>-8.219999999999999</td><td>-2.7398630102741435</td><td>jbs+19</td></tr>\n",
       "<tr><td>J1937+2544</td><td>DE421</td><td>-21.0</td><td>4.0</td><td>-10.05</td><td>0.04</td><td>-10.95</td><td>-2.73736313526477</td><td>dym+20</td></tr>\n",
       "<tr><td>J2145-0750</td><td>DE436</td><td>-10.0</td><td>0.2</td><td>-9.51</td><td>0.04</td><td>-0.4900000000000002</td><td>-2.4024226554427552</td><td>abb+18</td></tr>\n",
       "</table></div>"
      ],
      "text/plain": [
       "<Table length=4>\n",
       " psr_name   eph    pmra_t  ...        dpmra               X_pmra        ref  \n",
       "                  mas / yr ...       mas / yr            mas / yr            \n",
       "  str11    bytes5 float64  ...       float64             float64       bytes6\n",
       "---------- ------ -------- ... ------------------- ------------------- ------\n",
       "J1022+1001  DE200   -361.0 ...             -346.11 -2.0725148771686497 hlk+04\n",
       "J1136+1551  DE430    -82.0 ...  -8.219999999999999 -2.7398630102741435 jbs+19\n",
       "J1937+2544  DE421    -21.0 ...              -10.95   -2.73736313526477 dym+20\n",
       "J2145-0750  DE436    -10.0 ... -0.4900000000000002 -2.4024226554427552 abb+18"
      ]
     },
     "execution_count": 26,
     "metadata": {},
     "output_type": "execute_result"
    }
   ],
   "source": [
    "print(\"3 > X_ra >= 2\")\n",
    "\n",
    "mask = (np.fabs(X_pmra) >= 2) & (np.fabs(X_pmra) < 3)\n",
    "pm_tab[mask][\"psr_name\", \"eph\", \"pmra_t\", \"pmra_err_t\",\n",
    "             \"pmra_v\", \"pmra_err_v\", \"dpmra\", \"X_pmra\", \"ref\"]"
   ]
  },
  {
   "cell_type": "code",
   "execution_count": 27,
   "id": "4eaca708",
   "metadata": {
    "ExecuteTime": {
     "end_time": "2022-08-20T08:27:52.743271Z",
     "start_time": "2022-08-20T08:27:52.736358Z"
    }
   },
   "outputs": [
    {
     "data": {
      "text/html": [
       "<div><i>Table length=2</i>\n",
       "<table id=\"table140312724791504\" class=\"table-striped table-bordered table-condensed\">\n",
       "<thead><tr><th>psr_name</th><th>eph</th><th>pmra_v</th><th>pmra_err_v</th><th>pmra_t</th><th>pmra_err_t</th><th>dpmra</th><th>X_pmra</th><th>ref</th></tr></thead>\n",
       "<thead><tr><th></th><th></th><th></th><th></th><th>mas / yr</th><th>mas / yr</th><th>mas / yr</th><th>mas / yr</th><th></th></tr></thead>\n",
       "<thead><tr><th>str11</th><th>bytes5</th><th>float64</th><th>float64</th><th>float64</th><th>float64</th><th>float64</th><th>float64</th><th>bytes6</th></tr></thead>\n",
       "<tr><td>J1136+1551</td><td>DE200</td><td>-73.78</td><td>0.03</td><td>-69.0</td><td>3.0</td><td>4.780000000000001</td><td>1.593253672641169</td><td>hlk+04</td></tr>\n",
       "<tr><td>J1136+1551</td><td>DE430</td><td>-73.78</td><td>0.03</td><td>-82.0</td><td>3.0</td><td>-8.219999999999999</td><td>-2.7398630102741435</td><td>jbs+19</td></tr>\n",
       "</table></div>"
      ],
      "text/plain": [
       "<Table length=2>\n",
       " psr_name   eph    pmra_v ...       dpmra               X_pmra        ref  \n",
       "                          ...      mas / yr            mas / yr            \n",
       "  str11    bytes5 float64 ...      float64             float64       bytes6\n",
       "---------- ------ ------- ... ------------------ ------------------- ------\n",
       "J1136+1551  DE200  -73.78 ...  4.780000000000001   1.593253672641169 hlk+04\n",
       "J1136+1551  DE430  -73.78 ... -8.219999999999999 -2.7398630102741435 jbs+19"
      ]
     },
     "execution_count": 27,
     "metadata": {},
     "output_type": "execute_result"
    }
   ],
   "source": [
    "pm_tab[pm_tab[\"psr_name\"] == \"J1136+1551\"][\"psr_name\",\n",
    "                                           \"eph\", \"pmra_v\", \"pmra_err_v\", \"pmra_t\", \"pmra_err_t\", \"dpmra\", \"X_pmra\", \"ref\"]"
   ]
  },
  {
   "cell_type": "code",
   "execution_count": 28,
   "id": "bc8d8bf0",
   "metadata": {
    "ExecuteTime": {
     "end_time": "2022-08-20T08:27:52.753528Z",
     "start_time": "2022-08-20T08:27:52.744831Z"
    }
   },
   "outputs": [
    {
     "data": {
      "text/html": [
       "<div><i>Table length=2</i>\n",
       "<table id=\"table140312724873616\" class=\"table-striped table-bordered table-condensed\">\n",
       "<thead><tr><th>psr_name</th><th>eph</th><th>pmra_v</th><th>pmra_err_v</th><th>pmra_t</th><th>pmra_err_t</th><th>dpmra</th><th>X_pmra</th><th>ref</th></tr></thead>\n",
       "<thead><tr><th></th><th></th><th></th><th></th><th>mas / yr</th><th>mas / yr</th><th>mas / yr</th><th>mas / yr</th><th></th></tr></thead>\n",
       "<thead><tr><th>str11</th><th>bytes5</th><th>float64</th><th>float64</th><th>float64</th><th>float64</th><th>float64</th><th>float64</th><th>bytes6</th></tr></thead>\n",
       "<tr><td>J1937+2544</td><td>DE200</td><td>-10.05</td><td>0.04</td><td>-10.0</td><td>4.0</td><td>0.05000000000000071</td><td>0.012499375046871273</td><td>hlk+04</td></tr>\n",
       "<tr><td>J1937+2544</td><td>DE421</td><td>-10.05</td><td>0.04</td><td>-21.0</td><td>4.0</td><td>-10.95</td><td>-2.73736313526477</td><td>dym+20</td></tr>\n",
       "</table></div>"
      ],
      "text/plain": [
       "<Table length=2>\n",
       " psr_name   eph    pmra_v ...        dpmra               X_pmra         ref  \n",
       "                          ...       mas / yr            mas / yr             \n",
       "  str11    bytes5 float64 ...       float64             float64        bytes6\n",
       "---------- ------ ------- ... ------------------- -------------------- ------\n",
       "J1937+2544  DE200  -10.05 ... 0.05000000000000071 0.012499375046871273 hlk+04\n",
       "J1937+2544  DE421  -10.05 ...              -10.95    -2.73736313526477 dym+20"
      ]
     },
     "execution_count": 28,
     "metadata": {},
     "output_type": "execute_result"
    }
   ],
   "source": [
    "pm_tab[pm_tab[\"psr_name\"] == \"J1937+2544\"][\"psr_name\",\n",
    "                                           \"eph\", \"pmra_v\", \"pmra_err_v\", \"pmra_t\", \"pmra_err_t\", \"dpmra\", \"X_pmra\", \"ref\"]"
   ]
  },
  {
   "cell_type": "code",
   "execution_count": 29,
   "id": "902ffe6e",
   "metadata": {
    "ExecuteTime": {
     "end_time": "2022-08-20T08:27:52.766466Z",
     "start_time": "2022-08-20T08:27:52.755606Z"
    }
   },
   "outputs": [
    {
     "name": "stdout",
     "output_type": "stream",
     "text": [
      "2 > X_ra >= 1\n"
     ]
    },
    {
     "data": {
      "text/html": [
       "<div><i>Table length=21</i>\n",
       "<table id=\"table140312724988928\" class=\"table-striped table-bordered table-condensed\">\n",
       "<thead><tr><th>psr_name</th><th>eph</th><th>pmra_t</th><th>pmra_err_t</th><th>pmra_v</th><th>pmra_err_v</th><th>dpmra</th><th>X_pmra</th><th>ref</th></tr></thead>\n",
       "<thead><tr><th></th><th></th><th>mas / yr</th><th>mas / yr</th><th></th><th></th><th>mas / yr</th><th>mas / yr</th><th></th></tr></thead>\n",
       "<thead><tr><th>str11</th><th>bytes5</th><th>float64</th><th>float64</th><th>float64</th><th>float64</th><th>float64</th><th>float64</th><th>bytes6</th></tr></thead>\n",
       "<tr><td>J0040+5716</td><td>DE200</td><td>-4.0</td><td>15.0</td><td>12.4</td><td>0.06</td><td>-16.4</td><td>-1.093324586771625</td><td>hlk+04</td></tr>\n",
       "<tr><td>J0147+5922</td><td>DE200</td><td>-10.0</td><td>3.0</td><td>-6.38</td><td>0.1</td><td>-3.62</td><td>-1.205996854421513</td><td>hlk+04</td></tr>\n",
       "<tr><td>J0157+6212</td><td>DE421</td><td>-51.0</td><td>36.0</td><td>1.52</td><td>0.1</td><td>-52.52</td><td>-1.4588832604921054</td><td>lys+20</td></tr>\n",
       "<tr><td>J0157+6212</td><td>DE200</td><td>-51.0</td><td>36.0</td><td>1.52</td><td>0.1</td><td>-52.52</td><td>-1.4588832604921054</td><td>hlk+04</td></tr>\n",
       "<tr><td>J0332+5434</td><td>DE200</td><td>12.0</td><td>4.0</td><td>16.97</td><td>0.03</td><td>-4.969999999999999</td><td>-1.242465056161686</td><td>hlk+04</td></tr>\n",
       "<tr><td>...</td><td>...</td><td>...</td><td>...</td><td>...</td><td>...</td><td>...</td><td>...</td><td>...</td></tr>\n",
       "<tr><td>J2113+2754</td><td>DE200</td><td>-19.0</td><td>6.0</td><td>-27.98</td><td>0.05</td><td>8.98</td><td>1.496614701780563</td><td>hlk+04</td></tr>\n",
       "<tr><td>J2113+4644</td><td>DE421</td><td>-4.0</td><td>13.0</td><td>9.53</td><td>0.15</td><td>-13.53</td><td>-1.040699955710991</td><td>lwy+16</td></tr>\n",
       "<tr><td>J2145-0750</td><td>DE421</td><td>-9.58</td><td>0.04</td><td>-9.51</td><td>0.04</td><td>-0.07000000000000028</td><td>-1.2374368670764633</td><td>dcl+16</td></tr>\n",
       "<tr><td>J2145-0750</td><td>DE436</td><td>-9.583</td><td>0.025382</td><td>-9.51</td><td>0.04</td><td>-0.0730000000000004</td><td>-1.5409467726085</td><td>pdd+19</td></tr>\n",
       "<tr><td>J2317+2149</td><td>DE200</td><td>-3.0</td><td>11.0</td><td>8.52</td><td>0.1</td><td>-11.52</td><td>-1.0472294542223906</td><td>hlk+04</td></tr>\n",
       "</table></div>"
      ],
      "text/plain": [
       "<Table length=21>\n",
       " psr_name   eph    pmra_t  ...        dpmra                X_pmra        ref  \n",
       "                  mas / yr ...       mas / yr             mas / yr            \n",
       "  str11    bytes5 float64  ...       float64              float64       bytes6\n",
       "---------- ------ -------- ... -------------------- ------------------- ------\n",
       "J0040+5716  DE200     -4.0 ...                -16.4  -1.093324586771625 hlk+04\n",
       "J0147+5922  DE200    -10.0 ...                -3.62  -1.205996854421513 hlk+04\n",
       "J0157+6212  DE421    -51.0 ...               -52.52 -1.4588832604921054 lys+20\n",
       "J0157+6212  DE200    -51.0 ...               -52.52 -1.4588832604921054 hlk+04\n",
       "J0332+5434  DE200     12.0 ...   -4.969999999999999  -1.242465056161686 hlk+04\n",
       "       ...    ...      ... ...                  ...                 ...    ...\n",
       "J2113+2754  DE200    -19.0 ...                 8.98   1.496614701780563 hlk+04\n",
       "J2113+4644  DE421     -4.0 ...               -13.53  -1.040699955710991 lwy+16\n",
       "J2145-0750  DE421    -9.58 ... -0.07000000000000028 -1.2374368670764633 dcl+16\n",
       "J2145-0750  DE436   -9.583 ...  -0.0730000000000004    -1.5409467726085 pdd+19\n",
       "J2317+2149  DE200     -3.0 ...               -11.52 -1.0472294542223906 hlk+04"
      ]
     },
     "execution_count": 29,
     "metadata": {},
     "output_type": "execute_result"
    }
   ],
   "source": [
    "print(\"2 > X_ra >= 1\")\n",
    "\n",
    "mask = (np.fabs(X_pmra) >= 1) & (np.fabs(X_pmra) < 2)\n",
    "pm_tab[mask][\"psr_name\", \"eph\", \"pmra_t\", \"pmra_err_t\",\n",
    "             \"pmra_v\", \"pmra_err_v\", \"dpmra\", \"X_pmra\", \"ref\"]"
   ]
  },
  {
   "cell_type": "code",
   "execution_count": 30,
   "id": "469eca48",
   "metadata": {
    "ExecuteTime": {
     "end_time": "2022-08-20T08:27:52.776553Z",
     "start_time": "2022-08-20T08:27:52.769167Z"
    }
   },
   "outputs": [
    {
     "data": {
      "text/html": [
       "<div><i>Table length=1</i>\n",
       "<table id=\"table140312724874048\" class=\"table-striped table-bordered table-condensed\">\n",
       "<thead><tr><th>psr_name</th><th>eph</th><th>pmra_v</th><th>pmra_err_v</th><th>pmra_t</th><th>pmra_err_t</th><th>dpmra</th><th>X_pmra</th><th>ref</th></tr></thead>\n",
       "<thead><tr><th></th><th></th><th></th><th></th><th>mas / yr</th><th>mas / yr</th><th>mas / yr</th><th>mas / yr</th><th></th></tr></thead>\n",
       "<thead><tr><th>str11</th><th>bytes5</th><th>float64</th><th>float64</th><th>float64</th><th>float64</th><th>float64</th><th>float64</th><th>bytes6</th></tr></thead>\n",
       "<tr><td>J0040+5716</td><td>DE200</td><td>12.4</td><td>0.06</td><td>-4.0</td><td>15.0</td><td>-16.4</td><td>-1.093324586771625</td><td>hlk+04</td></tr>\n",
       "</table></div>"
      ],
      "text/plain": [
       "<Table length=1>\n",
       " psr_name   eph    pmra_v pmra_err_v ...  dpmra         X_pmra        ref  \n",
       "                                     ... mas / yr      mas / yr            \n",
       "  str11    bytes5 float64  float64   ... float64       float64       bytes6\n",
       "---------- ------ ------- ---------- ... -------- ------------------ ------\n",
       "J0040+5716  DE200    12.4       0.06 ...    -16.4 -1.093324586771625 hlk+04"
      ]
     },
     "execution_count": 30,
     "metadata": {},
     "output_type": "execute_result"
    }
   ],
   "source": [
    "pm_tab[pm_tab[\"psr_name\"] == \"J0040+5716\"][\"psr_name\",\n",
    "                                           \"eph\", \"pmra_v\", \"pmra_err_v\", \"pmra_t\", \"pmra_err_t\", \"dpmra\", \"X_pmra\", \"ref\"]"
   ]
  },
  {
   "cell_type": "code",
   "execution_count": 31,
   "id": "e5d678b3",
   "metadata": {
    "ExecuteTime": {
     "end_time": "2022-08-20T08:27:52.786927Z",
     "start_time": "2022-08-20T08:27:52.778383Z"
    }
   },
   "outputs": [
    {
     "data": {
      "text/html": [
       "<div><i>Table length=1</i>\n",
       "<table id=\"table140312986497232\" class=\"table-striped table-bordered table-condensed\">\n",
       "<thead><tr><th>psr_name</th><th>eph</th><th>pmra_v</th><th>pmra_err_v</th><th>pmra_t</th><th>pmra_err_t</th><th>dpmra</th><th>X_pmra</th><th>ref</th></tr></thead>\n",
       "<thead><tr><th></th><th></th><th></th><th></th><th>mas / yr</th><th>mas / yr</th><th>mas / yr</th><th>mas / yr</th><th></th></tr></thead>\n",
       "<thead><tr><th>str11</th><th>bytes5</th><th>float64</th><th>float64</th><th>float64</th><th>float64</th><th>float64</th><th>float64</th><th>bytes6</th></tr></thead>\n",
       "<tr><td>J0147+5922</td><td>DE200</td><td>-6.38</td><td>0.1</td><td>-10.0</td><td>3.0</td><td>-3.62</td><td>-1.205996854421513</td><td>hlk+04</td></tr>\n",
       "</table></div>"
      ],
      "text/plain": [
       "<Table length=1>\n",
       " psr_name   eph    pmra_v pmra_err_v ...  dpmra         X_pmra        ref  \n",
       "                                     ... mas / yr      mas / yr            \n",
       "  str11    bytes5 float64  float64   ... float64       float64       bytes6\n",
       "---------- ------ ------- ---------- ... -------- ------------------ ------\n",
       "J0147+5922  DE200   -6.38        0.1 ...    -3.62 -1.205996854421513 hlk+04"
      ]
     },
     "execution_count": 31,
     "metadata": {},
     "output_type": "execute_result"
    }
   ],
   "source": [
    "pm_tab[pm_tab[\"psr_name\"] == \"J0147+5922\"][\"psr_name\",\n",
    "                                           \"eph\", \"pmra_v\", \"pmra_err_v\", \"pmra_t\", \"pmra_err_t\", \"dpmra\", \"X_pmra\", \"ref\"]"
   ]
  },
  {
   "cell_type": "code",
   "execution_count": 32,
   "id": "0de72cd3",
   "metadata": {
    "ExecuteTime": {
     "end_time": "2022-08-20T08:27:52.797552Z",
     "start_time": "2022-08-20T08:27:52.789620Z"
    }
   },
   "outputs": [
    {
     "data": {
      "text/html": [
       "<div><i>Table length=3</i>\n",
       "<table id=\"table140312986498432\" class=\"table-striped table-bordered table-condensed\">\n",
       "<thead><tr><th>psr_name</th><th>eph</th><th>pmra_v</th><th>pmra_err_v</th><th>pmra_t</th><th>pmra_err_t</th><th>dpmra</th><th>X_pmra</th><th>ref</th></tr></thead>\n",
       "<thead><tr><th></th><th></th><th></th><th></th><th>mas / yr</th><th>mas / yr</th><th>mas / yr</th><th>mas / yr</th><th></th></tr></thead>\n",
       "<thead><tr><th>str11</th><th>bytes5</th><th>float64</th><th>float64</th><th>float64</th><th>float64</th><th>float64</th><th>float64</th><th>bytes6</th></tr></thead>\n",
       "<tr><td>J0157+6212</td><td>DE421</td><td>1.52</td><td>0.1</td><td>-51.0</td><td>36.0</td><td>-52.52</td><td>-1.4588832604921054</td><td>lys+20</td></tr>\n",
       "<tr><td>J0157+6212</td><td>DE421</td><td>1.52</td><td>0.1</td><td>-11.0</td><td>23.0</td><td>-12.52</td><td>-0.5443426810953818</td><td>dym+20</td></tr>\n",
       "<tr><td>J0157+6212</td><td>DE200</td><td>1.52</td><td>0.1</td><td>-51.0</td><td>36.0</td><td>-52.52</td><td>-1.4588832604921054</td><td>hlk+04</td></tr>\n",
       "</table></div>"
      ],
      "text/plain": [
       "<Table length=3>\n",
       " psr_name   eph    pmra_v pmra_err_v ...  dpmra          X_pmra        ref  \n",
       "                                     ... mas / yr       mas / yr            \n",
       "  str11    bytes5 float64  float64   ... float64        float64       bytes6\n",
       "---------- ------ ------- ---------- ... -------- ------------------- ------\n",
       "J0157+6212  DE421    1.52        0.1 ...   -52.52 -1.4588832604921054 lys+20\n",
       "J0157+6212  DE421    1.52        0.1 ...   -12.52 -0.5443426810953818 dym+20\n",
       "J0157+6212  DE200    1.52        0.1 ...   -52.52 -1.4588832604921054 hlk+04"
      ]
     },
     "execution_count": 32,
     "metadata": {},
     "output_type": "execute_result"
    }
   ],
   "source": [
    "pm_tab[pm_tab[\"psr_name\"] == \"J0157+6212\"][\"psr_name\",\n",
    "                                           \"eph\", \"pmra_v\", \"pmra_err_v\", \"pmra_t\", \"pmra_err_t\", \"dpmra\", \"X_pmra\", \"ref\"]"
   ]
  },
  {
   "cell_type": "code",
   "execution_count": 33,
   "id": "870c73f3",
   "metadata": {
    "ExecuteTime": {
     "end_time": "2022-08-20T08:27:52.807676Z",
     "start_time": "2022-08-20T08:27:52.800669Z"
    }
   },
   "outputs": [
    {
     "data": {
      "text/html": [
       "<div><i>Table length=1</i>\n",
       "<table id=\"table140312986499536\" class=\"table-striped table-bordered table-condensed\">\n",
       "<thead><tr><th>psr_name</th><th>eph</th><th>pmra_v</th><th>pmra_err_v</th><th>pmra_t</th><th>pmra_err_t</th><th>dpmra</th><th>X_pmra</th><th>ref</th></tr></thead>\n",
       "<thead><tr><th></th><th></th><th></th><th></th><th>mas / yr</th><th>mas / yr</th><th>mas / yr</th><th>mas / yr</th><th></th></tr></thead>\n",
       "<thead><tr><th>str11</th><th>bytes5</th><th>float64</th><th>float64</th><th>float64</th><th>float64</th><th>float64</th><th>float64</th><th>bytes6</th></tr></thead>\n",
       "<tr><td>J0406+6138</td><td>DE200</td><td>12.4</td><td>0.15</td><td>0.0</td><td>9.0</td><td>-12.4</td><td>-1.3775864596101155</td><td>hlk+04</td></tr>\n",
       "</table></div>"
      ],
      "text/plain": [
       "<Table length=1>\n",
       " psr_name   eph    pmra_v pmra_err_v ...  dpmra          X_pmra        ref  \n",
       "                                     ... mas / yr       mas / yr            \n",
       "  str11    bytes5 float64  float64   ... float64        float64       bytes6\n",
       "---------- ------ ------- ---------- ... -------- ------------------- ------\n",
       "J0406+6138  DE200    12.4       0.15 ...    -12.4 -1.3775864596101155 hlk+04"
      ]
     },
     "execution_count": 33,
     "metadata": {},
     "output_type": "execute_result"
    }
   ],
   "source": [
    "pm_tab[pm_tab[\"psr_name\"] == \"J0406+6138\"][\"psr_name\",\n",
    "                                           \"eph\", \"pmra_v\", \"pmra_err_v\", \"pmra_t\", \"pmra_err_t\", \"dpmra\", \"X_pmra\", \"ref\"]"
   ]
  },
  {
   "cell_type": "code",
   "execution_count": 34,
   "id": "31e538bf",
   "metadata": {
    "ExecuteTime": {
     "end_time": "2022-08-20T08:27:52.816797Z",
     "start_time": "2022-08-20T08:27:52.809272Z"
    }
   },
   "outputs": [
    {
     "data": {
      "text/html": [
       "<div><i>Table length=1</i>\n",
       "<table id=\"table140312986497904\" class=\"table-striped table-bordered table-condensed\">\n",
       "<thead><tr><th>psr_name</th><th>eph</th><th>pmra_v</th><th>pmra_err_v</th><th>pmra_t</th><th>pmra_err_t</th><th>dpmra</th><th>X_pmra</th><th>ref</th></tr></thead>\n",
       "<thead><tr><th></th><th></th><th></th><th></th><th>mas / yr</th><th>mas / yr</th><th>mas / yr</th><th>mas / yr</th><th></th></tr></thead>\n",
       "<thead><tr><th>str11</th><th>bytes5</th><th>float64</th><th>float64</th><th>float64</th><th>float64</th><th>float64</th><th>float64</th><th>bytes6</th></tr></thead>\n",
       "<tr><td>J0406+6138</td><td>DE200</td><td>12.4</td><td>0.15</td><td>0.0</td><td>9.0</td><td>-12.4</td><td>-1.3775864596101155</td><td>hlk+04</td></tr>\n",
       "</table></div>"
      ],
      "text/plain": [
       "<Table length=1>\n",
       " psr_name   eph    pmra_v pmra_err_v ...  dpmra          X_pmra        ref  \n",
       "                                     ... mas / yr       mas / yr            \n",
       "  str11    bytes5 float64  float64   ... float64        float64       bytes6\n",
       "---------- ------ ------- ---------- ... -------- ------------------- ------\n",
       "J0406+6138  DE200    12.4       0.15 ...    -12.4 -1.3775864596101155 hlk+04"
      ]
     },
     "execution_count": 34,
     "metadata": {},
     "output_type": "execute_result"
    }
   ],
   "source": [
    "pm_tab[pm_tab[\"psr_name\"] == \"J0406+6138\"][\"psr_name\",\n",
    "                                           \"eph\", \"pmra_v\", \"pmra_err_v\", \"pmra_t\", \"pmra_err_t\", \"dpmra\", \"X_pmra\", \"ref\"]"
   ]
  },
  {
   "cell_type": "code",
   "execution_count": 35,
   "id": "27a12690",
   "metadata": {
    "ExecuteTime": {
     "end_time": "2022-08-20T08:27:52.827907Z",
     "start_time": "2022-08-20T08:27:52.820237Z"
    }
   },
   "outputs": [
    {
     "data": {
      "text/html": [
       "<div><i>Table length=2</i>\n",
       "<table id=\"table140311638849328\" class=\"table-striped table-bordered table-condensed\">\n",
       "<thead><tr><th>psr_name</th><th>eph</th><th>pmra_v</th><th>pmra_err_v</th><th>pmra_t</th><th>pmra_err_t</th><th>dpmra</th><th>X_pmra</th><th>ref</th></tr></thead>\n",
       "<thead><tr><th></th><th></th><th></th><th></th><th>mas / yr</th><th>mas / yr</th><th>mas / yr</th><th>mas / yr</th><th></th></tr></thead>\n",
       "<thead><tr><th>str11</th><th>bytes5</th><th>float64</th><th>float64</th><th>float64</th><th>float64</th><th>float64</th><th>float64</th><th>bytes6</th></tr></thead>\n",
       "<tr><td>J0629+2415</td><td>DE200</td><td>3.63</td><td>0.19</td><td>32.0</td><td>15.0</td><td>28.37</td><td>1.8911816246257407</td><td>hlk+04</td></tr>\n",
       "<tr><td>J0629+2415</td><td>DE421</td><td>3.63</td><td>0.19</td><td>32.0</td><td>15.0</td><td>28.37</td><td>1.8911816246257407</td><td>lys+20</td></tr>\n",
       "</table></div>"
      ],
      "text/plain": [
       "<Table length=2>\n",
       " psr_name   eph    pmra_v pmra_err_v ...  dpmra         X_pmra        ref  \n",
       "                                     ... mas / yr      mas / yr            \n",
       "  str11    bytes5 float64  float64   ... float64       float64       bytes6\n",
       "---------- ------ ------- ---------- ... -------- ------------------ ------\n",
       "J0629+2415  DE200    3.63       0.19 ...    28.37 1.8911816246257407 hlk+04\n",
       "J0629+2415  DE421    3.63       0.19 ...    28.37 1.8911816246257407 lys+20"
      ]
     },
     "execution_count": 35,
     "metadata": {},
     "output_type": "execute_result"
    }
   ],
   "source": [
    "pm_tab[pm_tab[\"psr_name\"] == \"J0629+2415\"][\"psr_name\",\n",
    "                                           \"eph\", \"pmra_v\", \"pmra_err_v\", \"pmra_t\", \"pmra_err_t\", \"dpmra\", \"X_pmra\", \"ref\"]"
   ]
  },
  {
   "cell_type": "code",
   "execution_count": 36,
   "id": "194b9d60",
   "metadata": {
    "ExecuteTime": {
     "end_time": "2022-08-20T08:27:52.837987Z",
     "start_time": "2022-08-20T08:27:52.829781Z"
    }
   },
   "outputs": [
    {
     "data": {
      "text/html": [
       "<div><i>Table length=2</i>\n",
       "<table id=\"table140311638850096\" class=\"table-striped table-bordered table-condensed\">\n",
       "<thead><tr><th>psr_name</th><th>eph</th><th>pmra_v</th><th>pmra_err_v</th><th>pmra_t</th><th>pmra_err_t</th><th>dpmra</th><th>X_pmra</th><th>ref</th></tr></thead>\n",
       "<thead><tr><th></th><th></th><th></th><th></th><th>mas / yr</th><th>mas / yr</th><th>mas / yr</th><th>mas / yr</th><th></th></tr></thead>\n",
       "<thead><tr><th>str11</th><th>bytes5</th><th>float64</th><th>float64</th><th>float64</th><th>float64</th><th>float64</th><th>float64</th><th>bytes6</th></tr></thead>\n",
       "<tr><td>J2113+2754</td><td>DE200</td><td>-27.98</td><td>0.05</td><td>-19.0</td><td>6.0</td><td>8.98</td><td>1.496614701780563</td><td>hlk+04</td></tr>\n",
       "<tr><td>J2113+2754</td><td>DE421</td><td>-27.98</td><td>0.05</td><td>-35.0</td><td>13.0</td><td>-7.02</td><td>-0.5399960059614722</td><td>dym+20</td></tr>\n",
       "</table></div>"
      ],
      "text/plain": [
       "<Table length=2>\n",
       " psr_name   eph    pmra_v pmra_err_v ...  dpmra          X_pmra        ref  \n",
       "                                     ... mas / yr       mas / yr            \n",
       "  str11    bytes5 float64  float64   ... float64        float64       bytes6\n",
       "---------- ------ ------- ---------- ... -------- ------------------- ------\n",
       "J2113+2754  DE200  -27.98       0.05 ...     8.98   1.496614701780563 hlk+04\n",
       "J2113+2754  DE421  -27.98       0.05 ...    -7.02 -0.5399960059614722 dym+20"
      ]
     },
     "execution_count": 36,
     "metadata": {},
     "output_type": "execute_result"
    }
   ],
   "source": [
    "pm_tab[pm_tab[\"psr_name\"] == \"J2113+2754\"][\"psr_name\",\n",
    "                                           \"eph\", \"pmra_v\", \"pmra_err_v\", \"pmra_t\", \"pmra_err_t\", \"dpmra\", \"X_pmra\", \"ref\"]"
   ]
  },
  {
   "cell_type": "code",
   "execution_count": 37,
   "id": "abdf41a1",
   "metadata": {
    "ExecuteTime": {
     "end_time": "2022-08-20T08:27:52.845796Z",
     "start_time": "2022-08-20T08:27:52.839643Z"
    }
   },
   "outputs": [
    {
     "data": {
      "text/html": [
       "<div><i>Table length=2</i>\n",
       "<table id=\"table140311638848128\" class=\"table-striped table-bordered table-condensed\">\n",
       "<thead><tr><th>psr_name</th><th>eph</th><th>pmra_v</th><th>pmra_err_v</th><th>pmra_t</th><th>pmra_err_t</th><th>dpmra</th><th>X_pmra</th><th>ref</th></tr></thead>\n",
       "<thead><tr><th></th><th></th><th></th><th></th><th>mas / yr</th><th>mas / yr</th><th>mas / yr</th><th>mas / yr</th><th></th></tr></thead>\n",
       "<thead><tr><th>str11</th><th>bytes5</th><th>float64</th><th>float64</th><th>float64</th><th>float64</th><th>float64</th><th>float64</th><th>bytes6</th></tr></thead>\n",
       "<tr><td>J2113+4644</td><td>DE200</td><td>9.53</td><td>0.15</td><td>9.0</td><td>15.0</td><td>-0.5299999999999994</td><td>-0.035331566799155584</td><td>hlk+04</td></tr>\n",
       "<tr><td>J2113+4644</td><td>DE421</td><td>9.53</td><td>0.15</td><td>-4.0</td><td>13.0</td><td>-13.53</td><td>-1.040699955710991</td><td>lwy+16</td></tr>\n",
       "</table></div>"
      ],
      "text/plain": [
       "<Table length=2>\n",
       " psr_name   eph    pmra_v ...        dpmra                X_pmra         ref  \n",
       "                          ...       mas / yr             mas / yr             \n",
       "  str11    bytes5 float64 ...       float64              float64        bytes6\n",
       "---------- ------ ------- ... ------------------- --------------------- ------\n",
       "J2113+4644  DE200    9.53 ... -0.5299999999999994 -0.035331566799155584 hlk+04\n",
       "J2113+4644  DE421    9.53 ...              -13.53    -1.040699955710991 lwy+16"
      ]
     },
     "execution_count": 37,
     "metadata": {},
     "output_type": "execute_result"
    }
   ],
   "source": [
    "pm_tab[pm_tab[\"psr_name\"] == \"J2113+4644\"][\"psr_name\",\n",
    "                                           \"eph\", \"pmra_v\", \"pmra_err_v\", \"pmra_t\", \"pmra_err_t\", \"dpmra\", \"X_pmra\", \"ref\"]"
   ]
  },
  {
   "cell_type": "code",
   "execution_count": 38,
   "id": "0adc831f",
   "metadata": {
    "ExecuteTime": {
     "end_time": "2022-08-20T08:27:52.855754Z",
     "start_time": "2022-08-20T08:27:52.848295Z"
    }
   },
   "outputs": [
    {
     "data": {
      "text/html": [
       "<div><i>Table length=1</i>\n",
       "<table id=\"table140311638850912\" class=\"table-striped table-bordered table-condensed\">\n",
       "<thead><tr><th>psr_name</th><th>eph</th><th>pmra_v</th><th>pmra_err_v</th><th>pmra_t</th><th>pmra_err_t</th><th>dpmra</th><th>X_pmra</th><th>ref</th></tr></thead>\n",
       "<thead><tr><th></th><th></th><th></th><th></th><th>mas / yr</th><th>mas / yr</th><th>mas / yr</th><th>mas / yr</th><th></th></tr></thead>\n",
       "<thead><tr><th>str11</th><th>bytes5</th><th>float64</th><th>float64</th><th>float64</th><th>float64</th><th>float64</th><th>float64</th><th>bytes6</th></tr></thead>\n",
       "<tr><td>J2317+2149</td><td>DE200</td><td>8.52</td><td>0.1</td><td>-3.0</td><td>11.0</td><td>-11.52</td><td>-1.0472294542223906</td><td>hlk+04</td></tr>\n",
       "</table></div>"
      ],
      "text/plain": [
       "<Table length=1>\n",
       " psr_name   eph    pmra_v pmra_err_v ...  dpmra          X_pmra        ref  \n",
       "                                     ... mas / yr       mas / yr            \n",
       "  str11    bytes5 float64  float64   ... float64        float64       bytes6\n",
       "---------- ------ ------- ---------- ... -------- ------------------- ------\n",
       "J2317+2149  DE200    8.52        0.1 ...   -11.52 -1.0472294542223906 hlk+04"
      ]
     },
     "execution_count": 38,
     "metadata": {},
     "output_type": "execute_result"
    }
   ],
   "source": [
    "pm_tab[pm_tab[\"psr_name\"] == \"J2317+2149\"][\"psr_name\",\n",
    "                                           \"eph\", \"pmra_v\", \"pmra_err_v\", \"pmra_t\", \"pmra_err_t\", \"dpmra\", \"X_pmra\", \"ref\"]"
   ]
  },
  {
   "cell_type": "code",
   "execution_count": 39,
   "id": "6c27b3c2",
   "metadata": {
    "ExecuteTime": {
     "end_time": "2022-08-20T08:27:52.867361Z",
     "start_time": "2022-08-20T08:27:52.857971Z"
    }
   },
   "outputs": [
    {
     "name": "stdout",
     "output_type": "stream",
     "text": [
      "X_dec >= 3\n"
     ]
    },
    {
     "data": {
      "text/html": [
       "<div><i>Table length=5</i>\n",
       "<table id=\"table140311638901280\" class=\"table-striped table-bordered table-condensed\">\n",
       "<thead><tr><th>psr_name</th><th>eph</th><th>pmdec_t</th><th>pmdec_err_t</th><th>pmdec_v</th><th>pmdec_err_v</th><th>dpmdec</th><th>X_pmdec</th><th>ref</th></tr></thead>\n",
       "<thead><tr><th></th><th></th><th>mas / yr</th><th>mas / yr</th><th></th><th></th><th>mas / yr</th><th>mas / yr</th><th></th></tr></thead>\n",
       "<thead><tr><th>str11</th><th>bytes5</th><th>float64</th><th>float64</th><th>float64</th><th>float64</th><th>float64</th><th>float64</th><th>bytes6</th></tr></thead>\n",
       "<tr><td>J0406+6138</td><td>DE200</td><td>70.0</td><td>13.0</td><td>22.72</td><td>0.1</td><td>47.28</td><td>3.636815480423581</td><td>hlk+04</td></tr>\n",
       "<tr><td>J1537+1155</td><td>DE200</td><td>-25.05</td><td>0.02</td><td>-25.31</td><td>0.05</td><td>0.259999999999998</td><td>4.828078792603311</td><td>kwh03</td></tr>\n",
       "<tr><td>J1820-0427</td><td>DE430</td><td>30.0</td><td>3.0</td><td>15.88</td><td>0.09</td><td>14.12</td><td>4.704550095245272</td><td>jbs+19</td></tr>\n",
       "<tr><td>J2145-0750</td><td>DE430</td><td>-12.8</td><td>0.8</td><td>-9.1</td><td>0.09</td><td>-3.700000000000001</td><td>-4.596007337234459</td><td>jbs+19</td></tr>\n",
       "<tr><td>J2145-0750</td><td>DE421</td><td>-7.5</td><td>0.4</td><td>-9.1</td><td>0.09</td><td>1.5999999999999996</td><td>3.902439024390243</td><td>mnf+16</td></tr>\n",
       "</table></div>"
      ],
      "text/plain": [
       "<Table length=5>\n",
       " psr_name   eph   pmdec_t  ...       dpmdec            X_pmdec        ref  \n",
       "                  mas / yr ...      mas / yr           mas / yr            \n",
       "  str11    bytes5 float64  ...      float64            float64       bytes6\n",
       "---------- ------ -------- ... ------------------ ------------------ ------\n",
       "J0406+6138  DE200     70.0 ...              47.28  3.636815480423581 hlk+04\n",
       "J1537+1155  DE200   -25.05 ...  0.259999999999998  4.828078792603311  kwh03\n",
       "J1820-0427  DE430     30.0 ...              14.12  4.704550095245272 jbs+19\n",
       "J2145-0750  DE430    -12.8 ... -3.700000000000001 -4.596007337234459 jbs+19\n",
       "J2145-0750  DE421     -7.5 ... 1.5999999999999996  3.902439024390243 mnf+16"
      ]
     },
     "execution_count": 39,
     "metadata": {},
     "output_type": "execute_result"
    }
   ],
   "source": [
    "print(\"X_dec >= 3\")\n",
    "\n",
    "mask = np.fabs(X_pmdec) >= 3\n",
    "pm_tab[mask][\"psr_name\", \"eph\", \"pmdec_t\",\n",
    "             \"pmdec_err_t\", \"pmdec_v\", \"pmdec_err_v\", \"dpmdec\", \"X_pmdec\", \"ref\"]"
   ]
  },
  {
   "cell_type": "code",
   "execution_count": 40,
   "id": "9536cca7",
   "metadata": {
    "ExecuteTime": {
     "end_time": "2022-08-20T08:27:52.877120Z",
     "start_time": "2022-08-20T08:27:52.869571Z"
    }
   },
   "outputs": [
    {
     "data": {
      "text/html": [
       "<div><i>Table length=1</i>\n",
       "<table id=\"table140311638849136\" class=\"table-striped table-bordered table-condensed\">\n",
       "<thead><tr><th>psr_name</th><th>eph</th><th>pmdec_t</th><th>pmdec_err_t</th><th>pmdec_v</th><th>pmdec_err_v</th><th>dpmdec</th><th>X_pmdec</th><th>ref</th></tr></thead>\n",
       "<thead><tr><th></th><th></th><th>mas / yr</th><th>mas / yr</th><th></th><th></th><th>mas / yr</th><th>mas / yr</th><th></th></tr></thead>\n",
       "<thead><tr><th>str11</th><th>bytes5</th><th>float64</th><th>float64</th><th>float64</th><th>float64</th><th>float64</th><th>float64</th><th>bytes6</th></tr></thead>\n",
       "<tr><td>J0406+6138</td><td>DE200</td><td>70.0</td><td>13.0</td><td>22.72</td><td>0.1</td><td>47.28</td><td>3.636815480423581</td><td>hlk+04</td></tr>\n",
       "</table></div>"
      ],
      "text/plain": [
       "<Table length=1>\n",
       " psr_name   eph   pmdec_t  pmdec_err_t ...  dpmdec       X_pmdec       ref  \n",
       "                  mas / yr   mas / yr  ... mas / yr      mas / yr           \n",
       "  str11    bytes5 float64    float64   ... float64       float64      bytes6\n",
       "---------- ------ -------- ----------- ... -------- ----------------- ------\n",
       "J0406+6138  DE200     70.0        13.0 ...    47.28 3.636815480423581 hlk+04"
      ]
     },
     "execution_count": 40,
     "metadata": {},
     "output_type": "execute_result"
    }
   ],
   "source": [
    "pm_tab[pm_tab[\"psr_name\"] == \"J0406+6138\"][\"psr_name\", \"eph\", \"pmdec_t\",\n",
    "                                           \"pmdec_err_t\", \"pmdec_v\", \"pmdec_err_v\", \"dpmdec\", \"X_pmdec\", \"ref\"]"
   ]
  },
  {
   "cell_type": "code",
   "execution_count": 41,
   "id": "65d31292",
   "metadata": {
    "ExecuteTime": {
     "end_time": "2022-08-20T08:27:52.888455Z",
     "start_time": "2022-08-20T08:27:52.878703Z"
    }
   },
   "outputs": [
    {
     "data": {
      "text/html": [
       "<div><i>Table length=1</i>\n",
       "<table id=\"table140311638903632\" class=\"table-striped table-bordered table-condensed\">\n",
       "<thead><tr><th>psr_name</th><th>eph</th><th>pmdec_v</th><th>pmdec_err_v</th><th>pmdec_t</th><th>pmdec_err_t</th><th>dpmdec</th><th>X_pmdec</th><th>ref</th></tr></thead>\n",
       "<thead><tr><th></th><th></th><th></th><th></th><th>mas / yr</th><th>mas / yr</th><th>mas / yr</th><th>mas / yr</th><th></th></tr></thead>\n",
       "<thead><tr><th>str11</th><th>bytes5</th><th>float64</th><th>float64</th><th>float64</th><th>float64</th><th>float64</th><th>float64</th><th>bytes6</th></tr></thead>\n",
       "<tr><td>J0406+6138</td><td>DE200</td><td>22.72</td><td>0.1</td><td>70.0</td><td>13.0</td><td>47.28</td><td>3.636815480423581</td><td>hlk+04</td></tr>\n",
       "</table></div>"
      ],
      "text/plain": [
       "<Table length=1>\n",
       " psr_name   eph   pmdec_v pmdec_err_v ...  dpmdec       X_pmdec       ref  \n",
       "                                      ... mas / yr      mas / yr           \n",
       "  str11    bytes5 float64   float64   ... float64       float64      bytes6\n",
       "---------- ------ ------- ----------- ... -------- ----------------- ------\n",
       "J0406+6138  DE200   22.72         0.1 ...    47.28 3.636815480423581 hlk+04"
      ]
     },
     "execution_count": 41,
     "metadata": {},
     "output_type": "execute_result"
    }
   ],
   "source": [
    "pm_tab[pm_tab[\"psr_name\"] == \"J0406+6138\"][\"psr_name\",\n",
    "                                           \"eph\", \"pmdec_v\", \"pmdec_err_v\", \"pmdec_t\", \"pmdec_err_t\", \"dpmdec\", \"X_pmdec\", \"ref\"]"
   ]
  },
  {
   "cell_type": "code",
   "execution_count": 42,
   "id": "f32dd277",
   "metadata": {
    "ExecuteTime": {
     "end_time": "2022-08-20T08:27:52.899452Z",
     "start_time": "2022-08-20T08:27:52.890700Z"
    }
   },
   "outputs": [
    {
     "name": "stdout",
     "output_type": "stream",
     "text": [
      "3 > X_dec >= 2\n"
     ]
    },
    {
     "data": {
      "text/html": [
       "<div><i>Table length=7</i>\n",
       "<table id=\"table140311638902000\" class=\"table-striped table-bordered table-condensed\">\n",
       "<thead><tr><th>psr_name</th><th>eph</th><th>pmdec_t</th><th>pmdec_err_t</th><th>pmdec_v</th><th>pmdec_err_v</th><th>dpmdec</th><th>X_pmdec</th><th>ref</th></tr></thead>\n",
       "<thead><tr><th></th><th></th><th>mas / yr</th><th>mas / yr</th><th></th><th></th><th>mas / yr</th><th>mas / yr</th><th></th></tr></thead>\n",
       "<thead><tr><th>str11</th><th>bytes5</th><th>float64</th><th>float64</th><th>float64</th><th>float64</th><th>float64</th><th>float64</th><th>bytes6</th></tr></thead>\n",
       "<tr><td>J0102+6537</td><td>DE200</td><td>55.0</td><td>26.0</td><td>1.83</td><td>0.21</td><td>53.17</td><td>2.0449332987516744</td><td>hlk+04</td></tr>\n",
       "<tr><td>J1537+1155</td><td>DE200</td><td>-25.12</td><td>0.05</td><td>-25.31</td><td>0.05</td><td>0.18999999999999773</td><td>2.6870057685088478</td><td>stt+02</td></tr>\n",
       "<tr><td>J1833-0338</td><td>DE430</td><td>-3.0</td><td>9.0</td><td>15.04</td><td>0.34</td><td>-18.04</td><td>-2.003015641649274</td><td>jbs+19</td></tr>\n",
       "<tr><td>J2010-1323</td><td>DE421</td><td>-6.9</td><td>0.4</td><td>-5.61</td><td>0.3</td><td>-1.29</td><td>-2.58</td><td>mnf+16</td></tr>\n",
       "<tr><td>J2145-0750</td><td>DE436</td><td>-8.872</td><td>0.069265</td><td>-9.1</td><td>0.09</td><td>0.22799999999999976</td><td>2.007611699312878</td><td>pdd+19</td></tr>\n",
       "<tr><td>J2145-0750</td><td>DE200</td><td>-15.0</td><td>2.0</td><td>-9.1</td><td>0.09</td><td>-5.9</td><td>-2.9470176536749118</td><td>tsb+99</td></tr>\n",
       "<tr><td>J2145-0750</td><td>DE436</td><td>-8.0</td><td>0.5</td><td>-9.1</td><td>0.09</td><td>1.0999999999999996</td><td>2.165203312742129</td><td>abb+18</td></tr>\n",
       "</table></div>"
      ],
      "text/plain": [
       "<Table length=7>\n",
       " psr_name   eph   pmdec_t  ...        dpmdec             X_pmdec        ref  \n",
       "                  mas / yr ...       mas / yr            mas / yr            \n",
       "  str11    bytes5 float64  ...       float64             float64       bytes6\n",
       "---------- ------ -------- ... ------------------- ------------------- ------\n",
       "J0102+6537  DE200     55.0 ...               53.17  2.0449332987516744 hlk+04\n",
       "J1537+1155  DE200   -25.12 ... 0.18999999999999773  2.6870057685088478 stt+02\n",
       "J1833-0338  DE430     -3.0 ...              -18.04  -2.003015641649274 jbs+19\n",
       "J2010-1323  DE421     -6.9 ...               -1.29               -2.58 mnf+16\n",
       "J2145-0750  DE436   -8.872 ... 0.22799999999999976   2.007611699312878 pdd+19\n",
       "J2145-0750  DE200    -15.0 ...                -5.9 -2.9470176536749118 tsb+99\n",
       "J2145-0750  DE436     -8.0 ...  1.0999999999999996   2.165203312742129 abb+18"
      ]
     },
     "execution_count": 42,
     "metadata": {},
     "output_type": "execute_result"
    }
   ],
   "source": [
    "print(\"3 > X_dec >= 2\")\n",
    "\n",
    "mask = (np.fabs(X_pmdec) >= 2) & (np.fabs(X_pmdec) < 3)\n",
    "pm_tab[mask][\"psr_name\", \"eph\", \"pmdec_t\",\n",
    "             \"pmdec_err_t\", \"pmdec_v\", \"pmdec_err_v\", \"dpmdec\", \"X_pmdec\", \"ref\"]"
   ]
  },
  {
   "cell_type": "code",
   "execution_count": 43,
   "id": "45d0ac10",
   "metadata": {
    "ExecuteTime": {
     "end_time": "2022-08-20T08:27:52.910160Z",
     "start_time": "2022-08-20T08:27:52.902408Z"
    }
   },
   "outputs": [
    {
     "data": {
      "text/html": [
       "<div><i>Table length=1</i>\n",
       "<table id=\"table140311638851296\" class=\"table-striped table-bordered table-condensed\">\n",
       "<thead><tr><th>psr_name</th><th>eph</th><th>pmdec_v</th><th>pmdec_err_v</th><th>pmdec_t</th><th>pmdec_err_t</th><th>dpmdec</th><th>X_pmdec</th><th>ref</th></tr></thead>\n",
       "<thead><tr><th></th><th></th><th></th><th></th><th>mas / yr</th><th>mas / yr</th><th>mas / yr</th><th>mas / yr</th><th></th></tr></thead>\n",
       "<thead><tr><th>str11</th><th>bytes5</th><th>float64</th><th>float64</th><th>float64</th><th>float64</th><th>float64</th><th>float64</th><th>bytes6</th></tr></thead>\n",
       "<tr><td>J0102+6537</td><td>DE200</td><td>1.83</td><td>0.21</td><td>55.0</td><td>26.0</td><td>53.17</td><td>2.0449332987516744</td><td>hlk+04</td></tr>\n",
       "</table></div>"
      ],
      "text/plain": [
       "<Table length=1>\n",
       " psr_name   eph   pmdec_v pmdec_err_v ...  dpmdec       X_pmdec        ref  \n",
       "                                      ... mas / yr      mas / yr            \n",
       "  str11    bytes5 float64   float64   ... float64       float64       bytes6\n",
       "---------- ------ ------- ----------- ... -------- ------------------ ------\n",
       "J0102+6537  DE200    1.83        0.21 ...    53.17 2.0449332987516744 hlk+04"
      ]
     },
     "execution_count": 43,
     "metadata": {},
     "output_type": "execute_result"
    }
   ],
   "source": [
    "pm_tab[pm_tab[\"psr_name\"] == \"J0102+6537\"][\"psr_name\",\n",
    "                                           \"eph\", \"pmdec_v\", \"pmdec_err_v\", \"pmdec_t\", \"pmdec_err_t\", \"dpmdec\", \"X_pmdec\", \"ref\"]"
   ]
  },
  {
   "cell_type": "code",
   "execution_count": 44,
   "id": "ef40fa4e",
   "metadata": {
    "ExecuteTime": {
     "end_time": "2022-08-20T08:27:52.922242Z",
     "start_time": "2022-08-20T08:27:52.913355Z"
    }
   },
   "outputs": [
    {
     "data": {
      "text/html": [
       "<div><i>Table length=1</i>\n",
       "<table id=\"table140311638904112\" class=\"table-striped table-bordered table-condensed\">\n",
       "<thead><tr><th>psr_name</th><th>eph</th><th>pmdec_v</th><th>pmdec_err_v</th><th>pmdec_t</th><th>pmdec_err_t</th><th>dpmdec</th><th>X_pmdec</th><th>ref</th></tr></thead>\n",
       "<thead><tr><th></th><th></th><th></th><th></th><th>mas / yr</th><th>mas / yr</th><th>mas / yr</th><th>mas / yr</th><th></th></tr></thead>\n",
       "<thead><tr><th>str11</th><th>bytes5</th><th>float64</th><th>float64</th><th>float64</th><th>float64</th><th>float64</th><th>float64</th><th>bytes6</th></tr></thead>\n",
       "<tr><td>J1833-0338</td><td>DE430</td><td>15.04</td><td>0.34</td><td>-3.0</td><td>9.0</td><td>-18.04</td><td>-2.003015641649274</td><td>jbs+19</td></tr>\n",
       "</table></div>"
      ],
      "text/plain": [
       "<Table length=1>\n",
       " psr_name   eph   pmdec_v pmdec_err_v ...  dpmdec       X_pmdec        ref  \n",
       "                                      ... mas / yr      mas / yr            \n",
       "  str11    bytes5 float64   float64   ... float64       float64       bytes6\n",
       "---------- ------ ------- ----------- ... -------- ------------------ ------\n",
       "J1833-0338  DE430   15.04        0.34 ...   -18.04 -2.003015641649274 jbs+19"
      ]
     },
     "execution_count": 44,
     "metadata": {},
     "output_type": "execute_result"
    }
   ],
   "source": [
    "pm_tab[pm_tab[\"psr_name\"] == \"J1833-0338\"][\"psr_name\",\n",
    "                                           \"eph\", \"pmdec_v\", \"pmdec_err_v\", \"pmdec_t\", \"pmdec_err_t\", \"dpmdec\", \"X_pmdec\", \"ref\"]"
   ]
  },
  {
   "cell_type": "code",
   "execution_count": 45,
   "id": "9152b288",
   "metadata": {
    "ExecuteTime": {
     "end_time": "2022-08-20T08:27:52.930306Z",
     "start_time": "2022-08-20T08:27:52.924100Z"
    }
   },
   "outputs": [
    {
     "data": {
      "text/html": [
       "<div><i>Table length=5</i>\n",
       "<table id=\"table140311638934288\" class=\"table-striped table-bordered table-condensed\">\n",
       "<thead><tr><th>psr_name</th><th>eph</th><th>pmdec_v</th><th>pmdec_err_v</th><th>pmdec_t</th><th>pmdec_err_t</th><th>dpmdec</th><th>X_pmdec</th><th>ref</th></tr></thead>\n",
       "<thead><tr><th></th><th></th><th></th><th></th><th>mas / yr</th><th>mas / yr</th><th>mas / yr</th><th>mas / yr</th><th></th></tr></thead>\n",
       "<thead><tr><th>str11</th><th>bytes5</th><th>float64</th><th>float64</th><th>float64</th><th>float64</th><th>float64</th><th>float64</th><th>bytes6</th></tr></thead>\n",
       "<tr><td>J2010-1323</td><td>DE421</td><td>-5.61</td><td>0.3</td><td>-5.798</td><td>0.470333</td><td>-0.18799999999999972</td><td>-0.33699921784915515</td><td>vlh+16</td></tr>\n",
       "<tr><td>J2010-1323</td><td>DE436</td><td>-5.61</td><td>0.3</td><td>-6.0</td><td>0.2</td><td>-0.3899999999999997</td><td>-1.0816653826391958</td><td>abb+18</td></tr>\n",
       "<tr><td>J2010-1323</td><td>DE436</td><td>-5.61</td><td>0.3</td><td>-5.862</td><td>0.237561</td><td>-0.2519999999999998</td><td>-0.658533322825922</td><td>pdd+19</td></tr>\n",
       "<tr><td>J2010-1323</td><td>DE421</td><td>-5.61</td><td>0.3</td><td>-5.7</td><td>0.4</td><td>-0.08999999999999986</td><td>-0.17999999999999972</td><td>dcl+16</td></tr>\n",
       "<tr><td>J2010-1323</td><td>DE421</td><td>-5.61</td><td>0.3</td><td>-6.9</td><td>0.4</td><td>-1.29</td><td>-2.58</td><td>mnf+16</td></tr>\n",
       "</table></div>"
      ],
      "text/plain": [
       "<Table length=5>\n",
       " psr_name   eph   pmdec_v ...        dpmdec              X_pmdec         ref  \n",
       "                          ...       mas / yr             mas / yr             \n",
       "  str11    bytes5 float64 ...       float64              float64        bytes6\n",
       "---------- ------ ------- ... -------------------- -------------------- ------\n",
       "J2010-1323  DE421   -5.61 ... -0.18799999999999972 -0.33699921784915515 vlh+16\n",
       "J2010-1323  DE436   -5.61 ...  -0.3899999999999997  -1.0816653826391958 abb+18\n",
       "J2010-1323  DE436   -5.61 ...  -0.2519999999999998   -0.658533322825922 pdd+19\n",
       "J2010-1323  DE421   -5.61 ... -0.08999999999999986 -0.17999999999999972 dcl+16\n",
       "J2010-1323  DE421   -5.61 ...                -1.29                -2.58 mnf+16"
      ]
     },
     "execution_count": 45,
     "metadata": {},
     "output_type": "execute_result"
    }
   ],
   "source": [
    "pm_tab[pm_tab[\"psr_name\"] == \"J2010-1323\"][\"psr_name\",\n",
    "                                           \"eph\", \"pmdec_v\", \"pmdec_err_v\", \"pmdec_t\", \"pmdec_err_t\", \"dpmdec\", \"X_pmdec\", \"ref\"]"
   ]
  },
  {
   "cell_type": "code",
   "execution_count": 46,
   "id": "641e72e4",
   "metadata": {
    "ExecuteTime": {
     "end_time": "2022-08-20T08:27:52.940422Z",
     "start_time": "2022-08-20T08:27:52.932375Z"
    }
   },
   "outputs": [
    {
     "data": {
      "text/html": [
       "<div><i>Table length=12</i>\n",
       "<table id=\"table140311638935056\" class=\"table-striped table-bordered table-condensed\">\n",
       "<thead><tr><th>psr_name</th><th>eph</th><th>pmdec_v</th><th>pmdec_err_v</th><th>pmdec_t</th><th>pmdec_err_t</th><th>dpmdec</th><th>X_pmdec</th><th>ref</th></tr></thead>\n",
       "<thead><tr><th></th><th></th><th></th><th></th><th>mas / yr</th><th>mas / yr</th><th>mas / yr</th><th>mas / yr</th><th></th></tr></thead>\n",
       "<thead><tr><th>str11</th><th>bytes5</th><th>float64</th><th>float64</th><th>float64</th><th>float64</th><th>float64</th><th>float64</th><th>bytes6</th></tr></thead>\n",
       "<tr><td>J2145-0750</td><td>DE405</td><td>-9.1</td><td>0.09</td><td>-8.9</td><td>0.4</td><td>0.1999999999999993</td><td>0.4878048780487787</td><td>vbc+09</td></tr>\n",
       "<tr><td>J2145-0750</td><td>DE430</td><td>-9.1</td><td>0.09</td><td>-12.8</td><td>0.8</td><td>-3.700000000000001</td><td>-4.596007337234459</td><td>jbs+19</td></tr>\n",
       "<tr><td>J2145-0750</td><td>DE421</td><td>-9.1</td><td>0.09</td><td>-8.86</td><td>0.1</td><td>0.2400000000000002</td><td>1.7839059509932005</td><td>dcl+16</td></tr>\n",
       "<tr><td>J2145-0750</td><td>DE200</td><td>-9.1</td><td>0.09</td><td>-10.0</td><td>5.0</td><td>-0.9000000000000004</td><td>-0.17997084708396743</td><td>hlk+04</td></tr>\n",
       "<tr><td>J2145-0750</td><td>DE421</td><td>-9.1</td><td>0.09</td><td>-8.923</td><td>0.110009</td><td>0.1769999999999996</td><td>1.245306620817291</td><td>vlh+16</td></tr>\n",
       "<tr><td>J2145-0750</td><td>DE436</td><td>-9.1</td><td>0.09</td><td>-9.11</td><td>0.07</td><td>-0.009999999999999787</td><td>-0.08770580193070104</td><td>rsc+21</td></tr>\n",
       "<tr><td>J2145-0750</td><td>DE421</td><td>-9.1</td><td>0.09</td><td>-8.936</td><td>0.206479</td><td>0.1639999999999997</td><td>0.7281085055310742</td><td>rhc+16</td></tr>\n",
       "<tr><td>J2145-0750</td><td>DE421</td><td>-9.1</td><td>0.09</td><td>-7.5</td><td>0.4</td><td>1.5999999999999996</td><td>3.902439024390243</td><td>mnf+16</td></tr>\n",
       "<tr><td>J2145-0750</td><td>DE436</td><td>-9.1</td><td>0.09</td><td>-8.872</td><td>0.069265</td><td>0.22799999999999976</td><td>2.007611699312878</td><td>pdd+19</td></tr>\n",
       "<tr><td>J2145-0750</td><td>DE405</td><td>-9.1</td><td>0.09</td><td>-10.0</td><td>6.0</td><td>-0.9000000000000004</td><td>-0.14998312784712248</td><td>hbo06</td></tr>\n",
       "<tr><td>J2145-0750</td><td>DE200</td><td>-9.1</td><td>0.09</td><td>-15.0</td><td>2.0</td><td>-5.9</td><td>-2.9470176536749118</td><td>tsb+99</td></tr>\n",
       "<tr><td>J2145-0750</td><td>DE436</td><td>-9.1</td><td>0.09</td><td>-8.0</td><td>0.5</td><td>1.0999999999999996</td><td>2.165203312742129</td><td>abb+18</td></tr>\n",
       "</table></div>"
      ],
      "text/plain": [
       "<Table length=12>\n",
       " psr_name   eph   pmdec_v ...         dpmdec              X_pmdec         ref  \n",
       "                          ...        mas / yr             mas / yr             \n",
       "  str11    bytes5 float64 ...        float64              float64        bytes6\n",
       "---------- ------ ------- ... --------------------- -------------------- ------\n",
       "J2145-0750  DE405    -9.1 ...    0.1999999999999993   0.4878048780487787 vbc+09\n",
       "J2145-0750  DE430    -9.1 ...    -3.700000000000001   -4.596007337234459 jbs+19\n",
       "J2145-0750  DE421    -9.1 ...    0.2400000000000002   1.7839059509932005 dcl+16\n",
       "J2145-0750  DE200    -9.1 ...   -0.9000000000000004 -0.17997084708396743 hlk+04\n",
       "J2145-0750  DE421    -9.1 ...    0.1769999999999996    1.245306620817291 vlh+16\n",
       "J2145-0750  DE436    -9.1 ... -0.009999999999999787 -0.08770580193070104 rsc+21\n",
       "J2145-0750  DE421    -9.1 ...    0.1639999999999997   0.7281085055310742 rhc+16\n",
       "J2145-0750  DE421    -9.1 ...    1.5999999999999996    3.902439024390243 mnf+16\n",
       "J2145-0750  DE436    -9.1 ...   0.22799999999999976    2.007611699312878 pdd+19\n",
       "J2145-0750  DE405    -9.1 ...   -0.9000000000000004 -0.14998312784712248  hbo06\n",
       "J2145-0750  DE200    -9.1 ...                  -5.9  -2.9470176536749118 tsb+99\n",
       "J2145-0750  DE436    -9.1 ...    1.0999999999999996    2.165203312742129 abb+18"
      ]
     },
     "execution_count": 46,
     "metadata": {},
     "output_type": "execute_result"
    }
   ],
   "source": [
    "pm_tab[pm_tab[\"psr_name\"] == \"J2145-0750\"][\"psr_name\",\n",
    "                                           \"eph\", \"pmdec_v\", \"pmdec_err_v\", \"pmdec_t\", \"pmdec_err_t\", \"dpmdec\", \"X_pmdec\", \"ref\"]"
   ]
  },
  {
   "cell_type": "code",
   "execution_count": 47,
   "id": "0c2615f1",
   "metadata": {
    "ExecuteTime": {
     "end_time": "2022-08-20T08:27:52.952868Z",
     "start_time": "2022-08-20T08:27:52.943108Z"
    }
   },
   "outputs": [
    {
     "name": "stdout",
     "output_type": "stream",
     "text": [
      "2 > X_dec >= 1\n"
     ]
    },
    {
     "data": {
      "text/html": [
       "<div><i>Table length=25</i>\n",
       "<table id=\"table140311638933952\" class=\"table-striped table-bordered table-condensed\">\n",
       "<thead><tr><th>psr_name</th><th>eph</th><th>pmdec_t</th><th>pmdec_err_t</th><th>pmdec_v</th><th>pmdec_err_v</th><th>dpmdec</th><th>X_pmdec</th><th>ref</th></tr></thead>\n",
       "<thead><tr><th></th><th></th><th>mas / yr</th><th>mas / yr</th><th></th><th></th><th>mas / yr</th><th>mas / yr</th><th></th></tr></thead>\n",
       "<thead><tr><th>str11</th><th>bytes5</th><th>float64</th><th>float64</th><th>float64</th><th>float64</th><th>float64</th><th>float64</th><th>bytes6</th></tr></thead>\n",
       "<tr><td>J0055+5117</td><td>DE421</td><td>-1.0</td><td>12.0</td><td>-17.35</td><td>0.2</td><td>16.35</td><td>1.362310803303955</td><td>dym+20</td></tr>\n",
       "<tr><td>J0147+5922</td><td>DE200</td><td>10.0</td><td>4.0</td><td>3.83</td><td>0.1</td><td>6.17</td><td>1.542018194584529</td><td>hlk+04</td></tr>\n",
       "<tr><td>J0152-1637</td><td>DE430</td><td>-36.0</td><td>4.0</td><td>-31.37</td><td>0.42</td><td>-4.629999999999999</td><td>-1.1511715617107123</td><td>jbs+19</td></tr>\n",
       "<tr><td>J0157+6212</td><td>DE421</td><td>81.0</td><td>33.0</td><td>44.81</td><td>0.05</td><td>36.19</td><td>1.0966654078687115</td><td>lys+20</td></tr>\n",
       "<tr><td>J0157+6212</td><td>DE200</td><td>81.0</td><td>33.0</td><td>44.81</td><td>0.05</td><td>36.19</td><td>1.0966654078687115</td><td>hlk+04</td></tr>\n",
       "<tr><td>...</td><td>...</td><td>...</td><td>...</td><td>...</td><td>...</td><td>...</td><td>...</td><td>...</td></tr>\n",
       "<tr><td>J2149+6329</td><td>DE421</td><td>21.0</td><td>6.0</td><td>11.26</td><td>0.28</td><td>9.74</td><td>1.6215685856024602</td><td>dym+20</td></tr>\n",
       "<tr><td>J2150+5247</td><td>DE200</td><td>2.0</td><td>4.0</td><td>-4.43</td><td>0.35</td><td>6.43</td><td>1.6013814008750016</td><td>hlk+04</td></tr>\n",
       "<tr><td>J2225+6535</td><td>DE200</td><td>109.0</td><td>13.0</td><td>126.53</td><td>0.12</td><td>-17.53</td><td>-1.348404092883615</td><td>hlk+04</td></tr>\n",
       "<tr><td>J2305+3100</td><td>DE421</td><td>-40.0</td><td>18.0</td><td>-15.57</td><td>0.16</td><td>-24.43</td><td>-1.3571686067437223</td><td>dym+20</td></tr>\n",
       "<tr><td>J2305+3100</td><td>DE200</td><td>-45.0</td><td>28.0</td><td>-15.57</td><td>0.16</td><td>-29.43</td><td>-1.0510542686418163</td><td>hlk+04</td></tr>\n",
       "</table></div>"
      ],
      "text/plain": [
       "<Table length=25>\n",
       " psr_name   eph   pmdec_t  ...       dpmdec             X_pmdec        ref  \n",
       "                  mas / yr ...      mas / yr            mas / yr            \n",
       "  str11    bytes5 float64  ...      float64             float64       bytes6\n",
       "---------- ------ -------- ... ------------------ ------------------- ------\n",
       "J0055+5117  DE421     -1.0 ...              16.35   1.362310803303955 dym+20\n",
       "J0147+5922  DE200     10.0 ...               6.17   1.542018194584529 hlk+04\n",
       "J0152-1637  DE430    -36.0 ... -4.629999999999999 -1.1511715617107123 jbs+19\n",
       "J0157+6212  DE421     81.0 ...              36.19  1.0966654078687115 lys+20\n",
       "J0157+6212  DE200     81.0 ...              36.19  1.0966654078687115 hlk+04\n",
       "       ...    ...      ... ...                ...                 ...    ...\n",
       "J2149+6329  DE421     21.0 ...               9.74  1.6215685856024602 dym+20\n",
       "J2150+5247  DE200      2.0 ...               6.43  1.6013814008750016 hlk+04\n",
       "J2225+6535  DE200    109.0 ...             -17.53  -1.348404092883615 hlk+04\n",
       "J2305+3100  DE421    -40.0 ...             -24.43 -1.3571686067437223 dym+20\n",
       "J2305+3100  DE200    -45.0 ...             -29.43 -1.0510542686418163 hlk+04"
      ]
     },
     "execution_count": 47,
     "metadata": {},
     "output_type": "execute_result"
    }
   ],
   "source": [
    "print(\"2 > X_dec >= 1\")\n",
    "\n",
    "mask = (np.fabs(X_pmdec) >= 1) & (np.fabs(X_pmdec) < 2)\n",
    "pm_tab[mask][\"psr_name\", \"eph\", \"pmdec_t\",\n",
    "             \"pmdec_err_t\", \"pmdec_v\", \"pmdec_err_v\", \"dpmdec\", \"X_pmdec\", \"ref\"]"
   ]
  },
  {
   "cell_type": "code",
   "execution_count": 48,
   "id": "f0a691f9",
   "metadata": {
    "ExecuteTime": {
     "end_time": "2022-08-20T08:27:52.961778Z",
     "start_time": "2022-08-20T08:27:52.954290Z"
    }
   },
   "outputs": [
    {
     "data": {
      "text/html": [
       "<div><i>Table length=3</i>\n",
       "<table id=\"table140311638936688\" class=\"table-striped table-bordered table-condensed\">\n",
       "<thead><tr><th>psr_name</th><th>eph</th><th>pmdec_v</th><th>pmdec_err_v</th><th>pmdec_t</th><th>pmdec_err_t</th><th>dpmdec</th><th>X_pmdec</th><th>ref</th></tr></thead>\n",
       "<thead><tr><th></th><th></th><th></th><th></th><th>mas / yr</th><th>mas / yr</th><th>mas / yr</th><th>mas / yr</th><th></th></tr></thead>\n",
       "<thead><tr><th>str11</th><th>bytes5</th><th>float64</th><th>float64</th><th>float64</th><th>float64</th><th>float64</th><th>float64</th><th>bytes6</th></tr></thead>\n",
       "<tr><td>J1022+1001</td><td>DE200</td><td>5.59</td><td>0.03</td><td>-900.0</td><td>500.0</td><td>-905.59</td><td>-1.811179996739876</td><td>hlk+04</td></tr>\n",
       "<tr><td>J1022+1001</td><td>DE421</td><td>5.59</td><td>0.03</td><td>-3.0</td><td>16.0</td><td>-8.59</td><td>-0.5368740562769024</td><td>dcl+16</td></tr>\n",
       "<tr><td>J1022+1001</td><td>DE436</td><td>5.59</td><td>0.03</td><td>-5.0</td><td>9.0</td><td>-10.59</td><td>-1.1766601296841044</td><td>rsc+21</td></tr>\n",
       "</table></div>"
      ],
      "text/plain": [
       "<Table length=3>\n",
       " psr_name   eph   pmdec_v pmdec_err_v ...  dpmdec        X_pmdec        ref  \n",
       "                                      ... mas / yr       mas / yr            \n",
       "  str11    bytes5 float64   float64   ... float64        float64       bytes6\n",
       "---------- ------ ------- ----------- ... -------- ------------------- ------\n",
       "J1022+1001  DE200    5.59        0.03 ...  -905.59  -1.811179996739876 hlk+04\n",
       "J1022+1001  DE421    5.59        0.03 ...    -8.59 -0.5368740562769024 dcl+16\n",
       "J1022+1001  DE436    5.59        0.03 ...   -10.59 -1.1766601296841044 rsc+21"
      ]
     },
     "execution_count": 48,
     "metadata": {},
     "output_type": "execute_result"
    }
   ],
   "source": [
    "pm_tab[pm_tab[\"psr_name\"] == \"J1022+1001\"][\"psr_name\",\n",
    "                                           \"eph\", \"pmdec_v\", \"pmdec_err_v\", \"pmdec_t\", \"pmdec_err_t\", \"dpmdec\", \"X_pmdec\", \"ref\"]"
   ]
  },
  {
   "cell_type": "code",
   "execution_count": 49,
   "id": "bd866d20",
   "metadata": {
    "ExecuteTime": {
     "end_time": "2022-08-20T08:27:52.972748Z",
     "start_time": "2022-08-20T08:27:52.963732Z"
    }
   },
   "outputs": [
    {
     "data": {
      "text/html": [
       "<div><i>Table length=2</i>\n",
       "<table id=\"table140311638931008\" class=\"table-striped table-bordered table-condensed\">\n",
       "<thead><tr><th>psr_name</th><th>eph</th><th>pmdec_v</th><th>pmdec_err_v</th><th>pmdec_t</th><th>pmdec_err_t</th><th>dpmdec</th><th>X_pmdec</th><th>ref</th></tr></thead>\n",
       "<thead><tr><th></th><th></th><th></th><th></th><th>mas / yr</th><th>mas / yr</th><th>mas / yr</th><th>mas / yr</th><th></th></tr></thead>\n",
       "<thead><tr><th>str11</th><th>bytes5</th><th>float64</th><th>float64</th><th>float64</th><th>float64</th><th>float64</th><th>float64</th><th>bytes6</th></tr></thead>\n",
       "<tr><td>J0629+2415</td><td>DE200</td><td>-4.61</td><td>0.15</td><td>400.0</td><td>300.0</td><td>404.61</td><td>1.3486998314125316</td><td>hlk+04</td></tr>\n",
       "<tr><td>J0629+2415</td><td>DE421</td><td>-4.61</td><td>0.15</td><td>400.0</td><td>300.0</td><td>404.61</td><td>1.3486998314125316</td><td>lys+20</td></tr>\n",
       "</table></div>"
      ],
      "text/plain": [
       "<Table length=2>\n",
       " psr_name   eph   pmdec_v pmdec_err_v ...  dpmdec       X_pmdec        ref  \n",
       "                                      ... mas / yr      mas / yr            \n",
       "  str11    bytes5 float64   float64   ... float64       float64       bytes6\n",
       "---------- ------ ------- ----------- ... -------- ------------------ ------\n",
       "J0629+2415  DE200   -4.61        0.15 ...   404.61 1.3486998314125316 hlk+04\n",
       "J0629+2415  DE421   -4.61        0.15 ...   404.61 1.3486998314125316 lys+20"
      ]
     },
     "execution_count": 49,
     "metadata": {},
     "output_type": "execute_result"
    }
   ],
   "source": [
    "pm_tab[pm_tab[\"psr_name\"] == \"J0629+2415\"][\"psr_name\",\n",
    "                                           \"eph\", \"pmdec_v\", \"pmdec_err_v\", \"pmdec_t\",  \"pmdec_err_t\", \"dpmdec\", \"X_pmdec\", \"ref\"]"
   ]
  },
  {
   "cell_type": "code",
   "execution_count": 50,
   "id": "c89d4e06",
   "metadata": {
    "ExecuteTime": {
     "end_time": "2022-08-20T08:27:52.981124Z",
     "start_time": "2022-08-20T08:27:52.974768Z"
    }
   },
   "outputs": [
    {
     "data": {
      "text/html": [
       "<div><i>Table length=1</i>\n",
       "<table id=\"table140311638929520\" class=\"table-striped table-bordered table-condensed\">\n",
       "<thead><tr><th>psr_name</th><th>eph</th><th>pmdec_v</th><th>pmdec_err_v</th><th>pmdec_t</th><th>pmdec_err_t</th><th>dpmdec</th><th>X_pmdec</th><th>ref</th></tr></thead>\n",
       "<thead><tr><th></th><th></th><th></th><th></th><th>mas / yr</th><th>mas / yr</th><th>mas / yr</th><th>mas / yr</th><th></th></tr></thead>\n",
       "<thead><tr><th>str11</th><th>bytes5</th><th>float64</th><th>float64</th><th>float64</th><th>float64</th><th>float64</th><th>float64</th><th>bytes6</th></tr></thead>\n",
       "<tr><td>J1912+2104</td><td>DE200</td><td>-5.77</td><td>0.12</td><td>72.0</td><td>49.0</td><td>77.77</td><td>1.5871380977187963</td><td>hlk+04</td></tr>\n",
       "</table></div>"
      ],
      "text/plain": [
       "<Table length=1>\n",
       " psr_name   eph   pmdec_v pmdec_err_v ...  dpmdec       X_pmdec        ref  \n",
       "                                      ... mas / yr      mas / yr            \n",
       "  str11    bytes5 float64   float64   ... float64       float64       bytes6\n",
       "---------- ------ ------- ----------- ... -------- ------------------ ------\n",
       "J1912+2104  DE200   -5.77        0.12 ...    77.77 1.5871380977187963 hlk+04"
      ]
     },
     "execution_count": 50,
     "metadata": {},
     "output_type": "execute_result"
    }
   ],
   "source": [
    "pm_tab[pm_tab[\"psr_name\"] == \"J1912+2104\"][\"psr_name\",\n",
    "                                           \"eph\", \"pmdec_v\", \"pmdec_err_v\", \"pmdec_t\", \"pmdec_err_t\", \"dpmdec\", \"X_pmdec\", \"ref\"]"
   ]
  },
  {
   "cell_type": "code",
   "execution_count": 51,
   "id": "34e64966",
   "metadata": {
    "ExecuteTime": {
     "end_time": "2022-08-20T08:27:52.990797Z",
     "start_time": "2022-08-20T08:27:52.983436Z"
    }
   },
   "outputs": [
    {
     "data": {
      "text/html": [
       "<div><i>Table length=1</i>\n",
       "<table id=\"table140311638904784\" class=\"table-striped table-bordered table-condensed\">\n",
       "<thead><tr><th>psr_name</th><th>eph</th><th>pmdec_v</th><th>pmdec_err_v</th><th>pmdec_t</th><th>pmdec_err_t</th><th>dpmdec</th><th>X_pmdec</th><th>ref</th></tr></thead>\n",
       "<thead><tr><th></th><th></th><th></th><th></th><th>mas / yr</th><th>mas / yr</th><th>mas / yr</th><th>mas / yr</th><th></th></tr></thead>\n",
       "<thead><tr><th>str11</th><th>bytes5</th><th>float64</th><th>float64</th><th>float64</th><th>float64</th><th>float64</th><th>float64</th><th>bytes6</th></tr></thead>\n",
       "<tr><td>J1919+0021</td><td>DE200</td><td>-4.71</td><td>0.1</td><td>-65.0</td><td>50.0</td><td>-60.29</td><td>-1.2057975884072347</td><td>hlk+04</td></tr>\n",
       "</table></div>"
      ],
      "text/plain": [
       "<Table length=1>\n",
       " psr_name   eph   pmdec_v pmdec_err_v ...  dpmdec        X_pmdec        ref  \n",
       "                                      ... mas / yr       mas / yr            \n",
       "  str11    bytes5 float64   float64   ... float64        float64       bytes6\n",
       "---------- ------ ------- ----------- ... -------- ------------------- ------\n",
       "J1919+0021  DE200   -4.71         0.1 ...   -60.29 -1.2057975884072347 hlk+04"
      ]
     },
     "execution_count": 51,
     "metadata": {},
     "output_type": "execute_result"
    }
   ],
   "source": [
    "pm_tab[pm_tab[\"psr_name\"] == \"J1919+0021\"][\"psr_name\",\n",
    "                                           \"eph\", \"pmdec_v\", \"pmdec_err_v\", \"pmdec_t\", \"pmdec_err_t\", \"dpmdec\", \"X_pmdec\", \"ref\"]"
   ]
  },
  {
   "cell_type": "code",
   "execution_count": 52,
   "id": "0c9c7ed9",
   "metadata": {
    "ExecuteTime": {
     "end_time": "2022-08-20T08:27:53.000045Z",
     "start_time": "2022-08-20T08:27:52.992841Z"
    }
   },
   "outputs": [
    {
     "data": {
      "text/html": [
       "<div><i>Table length=3</i>\n",
       "<table id=\"table140311638932064\" class=\"table-striped table-bordered table-condensed\">\n",
       "<thead><tr><th>psr_name</th><th>eph</th><th>pmdec_v</th><th>pmdec_err_v</th><th>pmdec_t</th><th>pmdec_err_t</th><th>dpmdec</th><th>X_pmdec</th><th>ref</th></tr></thead>\n",
       "<thead><tr><th></th><th></th><th></th><th></th><th>mas / yr</th><th>mas / yr</th><th>mas / yr</th><th>mas / yr</th><th></th></tr></thead>\n",
       "<thead><tr><th>str11</th><th>bytes5</th><th>float64</th><th>float64</th><th>float64</th><th>float64</th><th>float64</th><th>float64</th><th>bytes6</th></tr></thead>\n",
       "<tr><td>J0157+6212</td><td>DE421</td><td>44.81</td><td>0.05</td><td>81.0</td><td>33.0</td><td>36.19</td><td>1.0966654078687115</td><td>lys+20</td></tr>\n",
       "<tr><td>J0157+6212</td><td>DE421</td><td>44.81</td><td>0.05</td><td>30.0</td><td>30.0</td><td>-14.810000000000002</td><td>-0.493665981019947</td><td>dym+20</td></tr>\n",
       "<tr><td>J0157+6212</td><td>DE200</td><td>44.81</td><td>0.05</td><td>81.0</td><td>33.0</td><td>36.19</td><td>1.0966654078687115</td><td>hlk+04</td></tr>\n",
       "</table></div>"
      ],
      "text/plain": [
       "<Table length=3>\n",
       " psr_name   eph   pmdec_v ...        dpmdec            X_pmdec        ref  \n",
       "                          ...       mas / yr           mas / yr            \n",
       "  str11    bytes5 float64 ...       float64            float64       bytes6\n",
       "---------- ------ ------- ... ------------------- ------------------ ------\n",
       "J0157+6212  DE421   44.81 ...               36.19 1.0966654078687115 lys+20\n",
       "J0157+6212  DE421   44.81 ... -14.810000000000002 -0.493665981019947 dym+20\n",
       "J0157+6212  DE200   44.81 ...               36.19 1.0966654078687115 hlk+04"
      ]
     },
     "execution_count": 52,
     "metadata": {},
     "output_type": "execute_result"
    }
   ],
   "source": [
    "pm_tab[pm_tab[\"psr_name\"] == \"J0157+6212\"][\"psr_name\",\n",
    "                                           \"eph\", \"pmdec_v\", \"pmdec_err_v\", \"pmdec_t\", \"pmdec_err_t\", \"dpmdec\", \"X_pmdec\", \"ref\"]"
   ]
  },
  {
   "cell_type": "code",
   "execution_count": 53,
   "id": "ba6a4c4c",
   "metadata": {
    "ExecuteTime": {
     "end_time": "2022-08-20T08:27:53.012044Z",
     "start_time": "2022-08-20T08:27:53.003950Z"
    }
   },
   "outputs": [
    {
     "data": {
      "text/html": [
       "<div><i>Table length=2</i>\n",
       "<table id=\"table140312986499104\" class=\"table-striped table-bordered table-condensed\">\n",
       "<thead><tr><th>psr_name</th><th>eph</th><th>pmdec_v</th><th>pmdec_err_v</th><th>pmdec_t</th><th>pmdec_err_t</th><th>dpmdec</th><th>X_pmdec</th><th>ref</th></tr></thead>\n",
       "<thead><tr><th></th><th></th><th></th><th></th><th>mas / yr</th><th>mas / yr</th><th>mas / yr</th><th>mas / yr</th><th></th></tr></thead>\n",
       "<thead><tr><th>str11</th><th>bytes5</th><th>float64</th><th>float64</th><th>float64</th><th>float64</th><th>float64</th><th>float64</th><th>bytes6</th></tr></thead>\n",
       "<tr><td>J2305+3100</td><td>DE421</td><td>-15.57</td><td>0.16</td><td>-40.0</td><td>18.0</td><td>-24.43</td><td>-1.3571686067437223</td><td>dym+20</td></tr>\n",
       "<tr><td>J2305+3100</td><td>DE200</td><td>-15.57</td><td>0.16</td><td>-45.0</td><td>28.0</td><td>-29.43</td><td>-1.0510542686418163</td><td>hlk+04</td></tr>\n",
       "</table></div>"
      ],
      "text/plain": [
       "<Table length=2>\n",
       " psr_name   eph   pmdec_v pmdec_err_v ...  dpmdec        X_pmdec        ref  \n",
       "                                      ... mas / yr       mas / yr            \n",
       "  str11    bytes5 float64   float64   ... float64        float64       bytes6\n",
       "---------- ------ ------- ----------- ... -------- ------------------- ------\n",
       "J2305+3100  DE421  -15.57        0.16 ...   -24.43 -1.3571686067437223 dym+20\n",
       "J2305+3100  DE200  -15.57        0.16 ...   -29.43 -1.0510542686418163 hlk+04"
      ]
     },
     "execution_count": 53,
     "metadata": {},
     "output_type": "execute_result"
    }
   ],
   "source": [
    "pm_tab[pm_tab[\"psr_name\"] == \"J2305+3100\"][\"psr_name\",\n",
    "                                           \"eph\", \"pmdec_v\", \"pmdec_err_v\", \"pmdec_t\", \"pmdec_err_t\", \"dpmdec\", \"X_pmdec\", \"ref\"]"
   ]
  },
  {
   "cell_type": "code",
   "execution_count": 54,
   "id": "42df71c6",
   "metadata": {
    "ExecuteTime": {
     "end_time": "2022-08-20T08:27:53.021533Z",
     "start_time": "2022-08-20T08:27:53.014159Z"
    }
   },
   "outputs": [
    {
     "data": {
      "text/html": [
       "<div><i>Table length=2</i>\n",
       "<table id=\"table140311639032496\" class=\"table-striped table-bordered table-condensed\">\n",
       "<thead><tr><th>psr_name</th><th>eph</th><th>pmdec_v</th><th>pmdec_err_v</th><th>pmdec_t</th><th>pmdec_err_t</th><th>dpmdec</th><th>X_pmdec</th><th>ref</th></tr></thead>\n",
       "<thead><tr><th></th><th></th><th></th><th></th><th>mas / yr</th><th>mas / yr</th><th>mas / yr</th><th>mas / yr</th><th></th></tr></thead>\n",
       "<thead><tr><th>str11</th><th>bytes5</th><th>float64</th><th>float64</th><th>float64</th><th>float64</th><th>float64</th><th>float64</th><th>bytes6</th></tr></thead>\n",
       "<tr><td>J0055+5117</td><td>DE200</td><td>-17.35</td><td>0.2</td><td>-29.0</td><td>21.0</td><td>-11.649999999999999</td><td>-0.5547367472032331</td><td>hlk+04</td></tr>\n",
       "<tr><td>J0055+5117</td><td>DE421</td><td>-17.35</td><td>0.2</td><td>-1.0</td><td>12.0</td><td>16.35</td><td>1.362310803303955</td><td>dym+20</td></tr>\n",
       "</table></div>"
      ],
      "text/plain": [
       "<Table length=2>\n",
       " psr_name   eph   pmdec_v ...        dpmdec             X_pmdec        ref  \n",
       "                          ...       mas / yr            mas / yr            \n",
       "  str11    bytes5 float64 ...       float64             float64       bytes6\n",
       "---------- ------ ------- ... ------------------- ------------------- ------\n",
       "J0055+5117  DE200  -17.35 ... -11.649999999999999 -0.5547367472032331 hlk+04\n",
       "J0055+5117  DE421  -17.35 ...               16.35   1.362310803303955 dym+20"
      ]
     },
     "execution_count": 54,
     "metadata": {},
     "output_type": "execute_result"
    }
   ],
   "source": [
    "pm_tab[pm_tab[\"psr_name\"] == \"J0055+5117\"][\"psr_name\",\n",
    "                                           \"eph\", \"pmdec_v\", \"pmdec_err_v\", \"pmdec_t\", \"pmdec_err_t\", \"dpmdec\", \"X_pmdec\", \"ref\"]"
   ]
  },
  {
   "cell_type": "code",
   "execution_count": 55,
   "id": "fc0bbeb3",
   "metadata": {
    "ExecuteTime": {
     "end_time": "2022-08-20T08:27:53.029931Z",
     "start_time": "2022-08-20T08:27:53.022976Z"
    }
   },
   "outputs": [
    {
     "data": {
      "text/html": [
       "<div><i>Table length=1</i>\n",
       "<table id=\"table140311639032832\" class=\"table-striped table-bordered table-condensed\">\n",
       "<thead><tr><th>psr_name</th><th>eph</th><th>pmdec_v</th><th>pmdec_err_v</th><th>pmdec_t</th><th>pmdec_err_t</th><th>dpmdec</th><th>X_pmdec</th><th>ref</th></tr></thead>\n",
       "<thead><tr><th></th><th></th><th></th><th></th><th>mas / yr</th><th>mas / yr</th><th>mas / yr</th><th>mas / yr</th><th></th></tr></thead>\n",
       "<thead><tr><th>str11</th><th>bytes5</th><th>float64</th><th>float64</th><th>float64</th><th>float64</th><th>float64</th><th>float64</th><th>bytes6</th></tr></thead>\n",
       "<tr><td>J0147+5922</td><td>DE200</td><td>3.83</td><td>0.1</td><td>10.0</td><td>4.0</td><td>6.17</td><td>1.542018194584529</td><td>hlk+04</td></tr>\n",
       "</table></div>"
      ],
      "text/plain": [
       "<Table length=1>\n",
       " psr_name   eph   pmdec_v pmdec_err_v ...  dpmdec       X_pmdec       ref  \n",
       "                                      ... mas / yr      mas / yr           \n",
       "  str11    bytes5 float64   float64   ... float64       float64      bytes6\n",
       "---------- ------ ------- ----------- ... -------- ----------------- ------\n",
       "J0147+5922  DE200    3.83         0.1 ...     6.17 1.542018194584529 hlk+04"
      ]
     },
     "execution_count": 55,
     "metadata": {},
     "output_type": "execute_result"
    }
   ],
   "source": [
    "pm_tab[pm_tab[\"psr_name\"] == \"J0147+5922\"][\"psr_name\",\n",
    "                                           \"eph\", \"pmdec_v\", \"pmdec_err_v\", \"pmdec_t\", \"pmdec_err_t\", \"dpmdec\", \"X_pmdec\", \"ref\"]"
   ]
  },
  {
   "cell_type": "code",
   "execution_count": 56,
   "id": "8ac240b3",
   "metadata": {
    "ExecuteTime": {
     "end_time": "2022-08-20T08:27:53.040869Z",
     "start_time": "2022-08-20T08:27:53.032777Z"
    }
   },
   "outputs": [
    {
     "data": {
      "text/html": [
       "<div><i>Table length=2</i>\n",
       "<table id=\"table140311639035280\" class=\"table-striped table-bordered table-condensed\">\n",
       "<thead><tr><th>psr_name</th><th>eph</th><th>pmdec_v</th><th>pmdec_err_v</th><th>pmdec_t</th><th>pmdec_err_t</th><th>dpmdec</th><th>X_pmdec</th><th>ref</th></tr></thead>\n",
       "<thead><tr><th></th><th></th><th></th><th></th><th>mas / yr</th><th>mas / yr</th><th>mas / yr</th><th>mas / yr</th><th></th></tr></thead>\n",
       "<thead><tr><th>str11</th><th>bytes5</th><th>float64</th><th>float64</th><th>float64</th><th>float64</th><th>float64</th><th>float64</th><th>bytes6</th></tr></thead>\n",
       "<tr><td>J0152-1637</td><td>DE200</td><td>-31.37</td><td>0.42</td><td>-32.0</td><td>7.0</td><td>-0.629999999999999</td><td>-0.08983843609191994</td><td>hlk+04</td></tr>\n",
       "<tr><td>J0152-1637</td><td>DE430</td><td>-31.37</td><td>0.42</td><td>-36.0</td><td>4.0</td><td>-4.629999999999999</td><td>-1.1511715617107123</td><td>jbs+19</td></tr>\n",
       "</table></div>"
      ],
      "text/plain": [
       "<Table length=2>\n",
       " psr_name   eph   pmdec_v ...       dpmdec             X_pmdec         ref  \n",
       "                          ...      mas / yr            mas / yr             \n",
       "  str11    bytes5 float64 ...      float64             float64        bytes6\n",
       "---------- ------ ------- ... ------------------ -------------------- ------\n",
       "J0152-1637  DE200  -31.37 ... -0.629999999999999 -0.08983843609191994 hlk+04\n",
       "J0152-1637  DE430  -31.37 ... -4.629999999999999  -1.1511715617107123 jbs+19"
      ]
     },
     "execution_count": 56,
     "metadata": {},
     "output_type": "execute_result"
    }
   ],
   "source": [
    "pm_tab[pm_tab[\"psr_name\"] == \"J0152-1637\"][\"psr_name\",\n",
    "                                           \"eph\", \"pmdec_v\", \"pmdec_err_v\", \"pmdec_t\", \"pmdec_err_t\", \"dpmdec\", \"X_pmdec\", \"ref\"]"
   ]
  },
  {
   "cell_type": "code",
   "execution_count": 57,
   "id": "f9046ff9",
   "metadata": {
    "ExecuteTime": {
     "end_time": "2022-08-20T08:27:53.051467Z",
     "start_time": "2022-08-20T08:27:53.043328Z"
    }
   },
   "outputs": [
    {
     "data": {
      "text/html": [
       "<div><i>Table length=2</i>\n",
       "<table id=\"table140311639035568\" class=\"table-striped table-bordered table-condensed\">\n",
       "<thead><tr><th>psr_name</th><th>eph</th><th>pmdec_v</th><th>pmdec_err_v</th><th>pmdec_t</th><th>pmdec_err_t</th><th>dpmdec</th><th>X_pmdec</th><th>ref</th></tr></thead>\n",
       "<thead><tr><th></th><th></th><th></th><th></th><th>mas / yr</th><th>mas / yr</th><th>mas / yr</th><th>mas / yr</th><th></th></tr></thead>\n",
       "<thead><tr><th>str11</th><th>bytes5</th><th>float64</th><th>float64</th><th>float64</th><th>float64</th><th>float64</th><th>float64</th><th>bytes6</th></tr></thead>\n",
       "<tr><td>J0601-0527</td><td>DE200</td><td>-15.23</td><td>0.1</td><td>-17.0</td><td>11.0</td><td>-1.7699999999999996</td><td>-0.16090244218521102</td><td>hlk+04</td></tr>\n",
       "<tr><td>J0601-0527</td><td>DE430</td><td>-15.23</td><td>0.1</td><td>-21.0</td><td>3.0</td><td>-5.77</td><td>-1.92226570442324</td><td>jbs+19</td></tr>\n",
       "</table></div>"
      ],
      "text/plain": [
       "<Table length=2>\n",
       " psr_name   eph   pmdec_v ...        dpmdec             X_pmdec         ref  \n",
       "                          ...       mas / yr            mas / yr             \n",
       "  str11    bytes5 float64 ...       float64             float64        bytes6\n",
       "---------- ------ ------- ... ------------------- -------------------- ------\n",
       "J0601-0527  DE200  -15.23 ... -1.7699999999999996 -0.16090244218521102 hlk+04\n",
       "J0601-0527  DE430  -15.23 ...               -5.77    -1.92226570442324 jbs+19"
      ]
     },
     "execution_count": 57,
     "metadata": {},
     "output_type": "execute_result"
    }
   ],
   "source": [
    "pm_tab[pm_tab[\"psr_name\"] == \"J0601-0527\"][\"psr_name\",\n",
    "                                           \"eph\", \"pmdec_v\", \"pmdec_err_v\", \"pmdec_t\", \"pmdec_err_t\", \"dpmdec\", \"X_pmdec\", \"ref\"]"
   ]
  },
  {
   "cell_type": "code",
   "execution_count": 58,
   "id": "e71c6869",
   "metadata": {
    "ExecuteTime": {
     "end_time": "2022-08-20T08:27:53.060954Z",
     "start_time": "2022-08-20T08:27:53.053225Z"
    }
   },
   "outputs": [
    {
     "data": {
      "text/html": [
       "<div><i>Table length=8</i>\n",
       "<table id=\"table140311639033408\" class=\"table-striped table-bordered table-condensed\">\n",
       "<thead><tr><th>psr_name</th><th>eph</th><th>pmdec_v</th><th>pmdec_err_v</th><th>pmdec_t</th><th>pmdec_err_t</th><th>dpmdec</th><th>X_pmdec</th><th>ref</th></tr></thead>\n",
       "<thead><tr><th></th><th></th><th></th><th></th><th>mas / yr</th><th>mas / yr</th><th>mas / yr</th><th>mas / yr</th><th></th></tr></thead>\n",
       "<thead><tr><th>str11</th><th>bytes5</th><th>float64</th><th>float64</th><th>float64</th><th>float64</th><th>float64</th><th>float64</th><th>bytes6</th></tr></thead>\n",
       "<tr><td>J1012+5307</td><td>DE421</td><td>-25.4</td><td>0.14</td><td>-25.482</td><td>0.011</td><td>-0.08200000000000074</td><td>-0.5839146692423021</td><td>dcl+16</td></tr>\n",
       "<tr><td>J1012+5307</td><td>DE436</td><td>-25.4</td><td>0.14</td><td>-25.5</td><td>0.04</td><td>-0.10000000000000142</td><td>-0.6868028197434548</td><td>abb+18</td></tr>\n",
       "<tr><td>J1012+5307</td><td>DE421</td><td>-25.4</td><td>0.14</td><td>-25.6</td><td>0.2</td><td>-0.20000000000000284</td><td>-0.819231920519052</td><td>mnf+16</td></tr>\n",
       "<tr><td>J1012+5307</td><td>DE200</td><td>-25.4</td><td>0.14</td><td>-25.8</td><td>0.8</td><td>-0.40000000000000213</td><td>-0.4925152335778547</td><td>hlk+04</td></tr>\n",
       "<tr><td>J1012+5307</td><td>DE405</td><td>-25.4</td><td>0.14</td><td>-25.61</td><td>0.02</td><td>-0.21000000000000085</td><td>-1.4849242404917555</td><td>lwj+09</td></tr>\n",
       "<tr><td>J1012+5307</td><td>DE200</td><td>-25.4</td><td>0.14</td><td>-25.2</td><td>0.2</td><td>0.1999999999999993</td><td>0.8192319205190375</td><td>lcw+01</td></tr>\n",
       "<tr><td>J1012+5307</td><td>DE436</td><td>-25.4</td><td>0.14</td><td>-25.486</td><td>0.013773</td><td>-0.08600000000000207</td><td>-0.6113344853278828</td><td>pdd+19</td></tr>\n",
       "<tr><td>J1012+5307</td><td>DE421</td><td>-25.4</td><td>0.14</td><td>-25.458</td><td>0.013951</td><td>-0.05799999999999983</td><td>-0.4122439540152934</td><td>vlh+16</td></tr>\n",
       "</table></div>"
      ],
      "text/plain": [
       "<Table length=8>\n",
       " psr_name   eph   pmdec_v ...        dpmdec              X_pmdec        ref  \n",
       "                          ...       mas / yr             mas / yr            \n",
       "  str11    bytes5 float64 ...       float64              float64       bytes6\n",
       "---------- ------ ------- ... -------------------- ------------------- ------\n",
       "J1012+5307  DE421   -25.4 ... -0.08200000000000074 -0.5839146692423021 dcl+16\n",
       "J1012+5307  DE436   -25.4 ... -0.10000000000000142 -0.6868028197434548 abb+18\n",
       "J1012+5307  DE421   -25.4 ... -0.20000000000000284  -0.819231920519052 mnf+16\n",
       "J1012+5307  DE200   -25.4 ... -0.40000000000000213 -0.4925152335778547 hlk+04\n",
       "J1012+5307  DE405   -25.4 ... -0.21000000000000085 -1.4849242404917555 lwj+09\n",
       "J1012+5307  DE200   -25.4 ...   0.1999999999999993  0.8192319205190375 lcw+01\n",
       "J1012+5307  DE436   -25.4 ... -0.08600000000000207 -0.6113344853278828 pdd+19\n",
       "J1012+5307  DE421   -25.4 ... -0.05799999999999983 -0.4122439540152934 vlh+16"
      ]
     },
     "execution_count": 58,
     "metadata": {},
     "output_type": "execute_result"
    }
   ],
   "source": [
    "pm_tab[pm_tab[\"psr_name\"] == \"J1012+5307\"][\"psr_name\",\n",
    "                                           \"eph\", \"pmdec_v\", \"pmdec_err_v\", \"pmdec_t\", \"pmdec_err_t\", \"dpmdec\", \"X_pmdec\", \"ref\"]"
   ]
  },
  {
   "cell_type": "code",
   "execution_count": 59,
   "id": "5e27b6c2",
   "metadata": {
    "ExecuteTime": {
     "end_time": "2022-08-20T08:27:53.072273Z",
     "start_time": "2022-08-20T08:27:53.063938Z"
    }
   },
   "outputs": [
    {
     "data": {
      "text/html": [
       "<div><i>Table length=2</i>\n",
       "<table id=\"table140312452114224\" class=\"table-striped table-bordered table-condensed\">\n",
       "<thead><tr><th>psr_name</th><th>eph</th><th>pmdec_v</th><th>pmdec_err_v</th><th>pmdec_t</th><th>pmdec_err_t</th><th>dpmdec</th><th>X_pmdec</th><th>ref</th></tr></thead>\n",
       "<thead><tr><th></th><th></th><th></th><th></th><th>mas / yr</th><th>mas / yr</th><th>mas / yr</th><th>mas / yr</th><th></th></tr></thead>\n",
       "<thead><tr><th>str11</th><th>bytes5</th><th>float64</th><th>float64</th><th>float64</th><th>float64</th><th>float64</th><th>float64</th><th>bytes6</th></tr></thead>\n",
       "<tr><td>J1136+1551</td><td>DE200</td><td>366.57</td><td>0.07</td><td>372.0</td><td>5.0</td><td>5.430000000000007</td><td>1.0858935876423625</td><td>hlk+04</td></tr>\n",
       "<tr><td>J1136+1551</td><td>DE430</td><td>366.57</td><td>0.07</td><td>358.0</td><td>5.0</td><td>-8.569999999999993</td><td>-1.7138320526878503</td><td>jbs+19</td></tr>\n",
       "</table></div>"
      ],
      "text/plain": [
       "<Table length=2>\n",
       " psr_name   eph   pmdec_v ...       dpmdec             X_pmdec        ref  \n",
       "                          ...      mas / yr            mas / yr            \n",
       "  str11    bytes5 float64 ...      float64             float64       bytes6\n",
       "---------- ------ ------- ... ------------------ ------------------- ------\n",
       "J1136+1551  DE200  366.57 ...  5.430000000000007  1.0858935876423625 hlk+04\n",
       "J1136+1551  DE430  366.57 ... -8.569999999999993 -1.7138320526878503 jbs+19"
      ]
     },
     "execution_count": 59,
     "metadata": {},
     "output_type": "execute_result"
    }
   ],
   "source": [
    "pm_tab[pm_tab[\"psr_name\"] == \"J1136+1551\"][\"psr_name\",\n",
    "                                           \"eph\", \"pmdec_v\", \"pmdec_err_v\", \"pmdec_t\", \"pmdec_err_t\", \"dpmdec\", \"X_pmdec\", \"ref\"]"
   ]
  },
  {
   "cell_type": "code",
   "execution_count": 60,
   "id": "2159c9c9",
   "metadata": {
    "ExecuteTime": {
     "end_time": "2022-08-20T08:27:53.080121Z",
     "start_time": "2022-08-20T08:27:53.073651Z"
    }
   },
   "outputs": [
    {
     "data": {
      "text/html": [
       "<div><i>Table length=2</i>\n",
       "<table id=\"table140311639032976\" class=\"table-striped table-bordered table-condensed\">\n",
       "<thead><tr><th>psr_name</th><th>eph</th><th>pmdec_v</th><th>pmdec_err_v</th><th>pmdec_t</th><th>pmdec_err_t</th><th>dpmdec</th><th>X_pmdec</th><th>ref</th></tr></thead>\n",
       "<thead><tr><th></th><th></th><th></th><th></th><th>mas / yr</th><th>mas / yr</th><th>mas / yr</th><th>mas / yr</th><th></th></tr></thead>\n",
       "<thead><tr><th>str11</th><th>bytes5</th><th>float64</th><th>float64</th><th>float64</th><th>float64</th><th>float64</th><th>float64</th><th>bytes6</th></tr></thead>\n",
       "<tr><td>J2113+2754</td><td>DE200</td><td>-54.43</td><td>0.1</td><td>-60.0</td><td>7.0</td><td>-5.57</td><td>-0.795633102804753</td><td>hlk+04</td></tr>\n",
       "<tr><td>J2113+2754</td><td>DE421</td><td>-54.43</td><td>0.1</td><td>-74.0</td><td>15.0</td><td>-19.57</td><td>-1.304637675040458</td><td>dym+20</td></tr>\n",
       "</table></div>"
      ],
      "text/plain": [
       "<Table length=2>\n",
       " psr_name   eph   pmdec_v pmdec_err_v ...  dpmdec       X_pmdec        ref  \n",
       "                                      ... mas / yr      mas / yr            \n",
       "  str11    bytes5 float64   float64   ... float64       float64       bytes6\n",
       "---------- ------ ------- ----------- ... -------- ------------------ ------\n",
       "J2113+2754  DE200  -54.43         0.1 ...    -5.57 -0.795633102804753 hlk+04\n",
       "J2113+2754  DE421  -54.43         0.1 ...   -19.57 -1.304637675040458 dym+20"
      ]
     },
     "execution_count": 60,
     "metadata": {},
     "output_type": "execute_result"
    }
   ],
   "source": [
    "pm_tab[pm_tab[\"psr_name\"] == \"J2113+2754\"][\"psr_name\",\n",
    "                                           \"eph\", \"pmdec_v\", \"pmdec_err_v\", \"pmdec_t\", \"pmdec_err_t\", \"dpmdec\", \"X_pmdec\", \"ref\"]"
   ]
  },
  {
   "cell_type": "code",
   "execution_count": 61,
   "id": "57babdf7",
   "metadata": {
    "ExecuteTime": {
     "end_time": "2022-08-20T08:27:53.090738Z",
     "start_time": "2022-08-20T08:27:53.082200Z"
    }
   },
   "outputs": [
    {
     "data": {
      "text/html": [
       "<div><i>Table length=2</i>\n",
       "<table id=\"table140312452115424\" class=\"table-striped table-bordered table-condensed\">\n",
       "<thead><tr><th>psr_name</th><th>eph</th><th>pmdec_v</th><th>pmdec_err_v</th><th>pmdec_t</th><th>pmdec_err_t</th><th>dpmdec</th><th>X_pmdec</th><th>ref</th></tr></thead>\n",
       "<thead><tr><th></th><th></th><th></th><th></th><th>mas / yr</th><th>mas / yr</th><th>mas / yr</th><th>mas / yr</th><th></th></tr></thead>\n",
       "<thead><tr><th>str11</th><th>bytes5</th><th>float64</th><th>float64</th><th>float64</th><th>float64</th><th>float64</th><th>float64</th><th>bytes6</th></tr></thead>\n",
       "<tr><td>J2149+6329</td><td>DE421</td><td>11.26</td><td>0.28</td><td>21.0</td><td>6.0</td><td>9.74</td><td>1.6215685856024602</td><td>dym+20</td></tr>\n",
       "<tr><td>J2149+6329</td><td>DE200</td><td>11.26</td><td>0.28</td><td>6.0</td><td>7.0</td><td>-5.26</td><td>-0.7508281489823732</td><td>hlk+04</td></tr>\n",
       "</table></div>"
      ],
      "text/plain": [
       "<Table length=2>\n",
       " psr_name   eph   pmdec_v pmdec_err_v ...  dpmdec        X_pmdec        ref  \n",
       "                                      ... mas / yr       mas / yr            \n",
       "  str11    bytes5 float64   float64   ... float64        float64       bytes6\n",
       "---------- ------ ------- ----------- ... -------- ------------------- ------\n",
       "J2149+6329  DE421   11.26        0.28 ...     9.74  1.6215685856024602 dym+20\n",
       "J2149+6329  DE200   11.26        0.28 ...    -5.26 -0.7508281489823732 hlk+04"
      ]
     },
     "execution_count": 61,
     "metadata": {},
     "output_type": "execute_result"
    }
   ],
   "source": [
    "pm_tab[pm_tab[\"psr_name\"] == \"J2149+6329\"][\"psr_name\",\n",
    "                                           \"eph\", \"pmdec_v\", \"pmdec_err_v\", \"pmdec_t\", \"pmdec_err_t\", \"dpmdec\", \"X_pmdec\", \"ref\"]"
   ]
  },
  {
   "cell_type": "code",
   "execution_count": 62,
   "id": "bc888d11",
   "metadata": {
    "ExecuteTime": {
     "end_time": "2022-08-20T08:27:53.102075Z",
     "start_time": "2022-08-20T08:27:53.093792Z"
    }
   },
   "outputs": [
    {
     "data": {
      "text/html": [
       "<div><i>Table length=1</i>\n",
       "<table id=\"table140312452202560\" class=\"table-striped table-bordered table-condensed\">\n",
       "<thead><tr><th>psr_name</th><th>eph</th><th>pmdec_v</th><th>pmdec_err_v</th><th>pmdec_t</th><th>pmdec_err_t</th><th>dpmdec</th><th>X_pmdec</th><th>ref</th></tr></thead>\n",
       "<thead><tr><th></th><th></th><th></th><th></th><th>mas / yr</th><th>mas / yr</th><th>mas / yr</th><th>mas / yr</th><th></th></tr></thead>\n",
       "<thead><tr><th>str11</th><th>bytes5</th><th>float64</th><th>float64</th><th>float64</th><th>float64</th><th>float64</th><th>float64</th><th>bytes6</th></tr></thead>\n",
       "<tr><td>J2150+5247</td><td>DE200</td><td>-4.43</td><td>0.35</td><td>2.0</td><td>4.0</td><td>6.43</td><td>1.6013814008750016</td><td>hlk+04</td></tr>\n",
       "</table></div>"
      ],
      "text/plain": [
       "<Table length=1>\n",
       " psr_name   eph   pmdec_v pmdec_err_v ...  dpmdec       X_pmdec        ref  \n",
       "                                      ... mas / yr      mas / yr            \n",
       "  str11    bytes5 float64   float64   ... float64       float64       bytes6\n",
       "---------- ------ ------- ----------- ... -------- ------------------ ------\n",
       "J2150+5247  DE200   -4.43        0.35 ...     6.43 1.6013814008750016 hlk+04"
      ]
     },
     "execution_count": 62,
     "metadata": {},
     "output_type": "execute_result"
    }
   ],
   "source": [
    "pm_tab[pm_tab[\"psr_name\"] == \"J2150+5247\"][\"psr_name\",\n",
    "                                           \"eph\", \"pmdec_v\", \"pmdec_err_v\", \"pmdec_t\", \"pmdec_err_t\", \"dpmdec\", \"X_pmdec\", \"ref\"]"
   ]
  },
  {
   "cell_type": "code",
   "execution_count": 63,
   "id": "73138585",
   "metadata": {
    "ExecuteTime": {
     "end_time": "2022-08-20T08:27:53.111156Z",
     "start_time": "2022-08-20T08:27:53.103998Z"
    }
   },
   "outputs": [
    {
     "data": {
      "text/html": [
       "<div><i>Table length=1</i>\n",
       "<table id=\"table140312452203280\" class=\"table-striped table-bordered table-condensed\">\n",
       "<thead><tr><th>psr_name</th><th>eph</th><th>pmdec_v</th><th>pmdec_err_v</th><th>pmdec_t</th><th>pmdec_err_t</th><th>dpmdec</th><th>X_pmdec</th><th>ref</th></tr></thead>\n",
       "<thead><tr><th></th><th></th><th></th><th></th><th>mas / yr</th><th>mas / yr</th><th>mas / yr</th><th>mas / yr</th><th></th></tr></thead>\n",
       "<thead><tr><th>str11</th><th>bytes5</th><th>float64</th><th>float64</th><th>float64</th><th>float64</th><th>float64</th><th>float64</th><th>bytes6</th></tr></thead>\n",
       "<tr><td>J2225+6535</td><td>DE200</td><td>126.53</td><td>0.12</td><td>109.0</td><td>13.0</td><td>-17.53</td><td>-1.348404092883615</td><td>hlk+04</td></tr>\n",
       "</table></div>"
      ],
      "text/plain": [
       "<Table length=1>\n",
       " psr_name   eph   pmdec_v pmdec_err_v ...  dpmdec       X_pmdec        ref  \n",
       "                                      ... mas / yr      mas / yr            \n",
       "  str11    bytes5 float64   float64   ... float64       float64       bytes6\n",
       "---------- ------ ------- ----------- ... -------- ------------------ ------\n",
       "J2225+6535  DE200  126.53        0.12 ...   -17.53 -1.348404092883615 hlk+04"
      ]
     },
     "execution_count": 63,
     "metadata": {},
     "output_type": "execute_result"
    }
   ],
   "source": [
    "pm_tab[pm_tab[\"psr_name\"] == \"J2225+6535\"][\"psr_name\",\n",
    "                                           \"eph\", \"pmdec_v\", \"pmdec_err_v\", \"pmdec_t\", \"pmdec_err_t\", \"dpmdec\", \"X_pmdec\", \"ref\"]"
   ]
  },
  {
   "cell_type": "markdown",
   "id": "aa54101f",
   "metadata": {},
   "source": [
    "## 2.3 PM differences vs. VLBI PM"
   ]
  },
  {
   "cell_type": "code",
   "execution_count": 64,
   "id": "0b63306d",
   "metadata": {
    "ExecuteTime": {
     "end_time": "2022-08-20T08:27:53.116444Z",
     "start_time": "2022-08-20T08:27:53.113264Z"
    }
   },
   "outputs": [],
   "source": [
    "elw = 0.05"
   ]
  },
  {
   "cell_type": "code",
   "execution_count": 65,
   "id": "151a4413",
   "metadata": {
    "ExecuteTime": {
     "end_time": "2022-08-20T08:27:53.377778Z",
     "start_time": "2022-08-20T08:27:53.119315Z"
    },
    "scrolled": false
   },
   "outputs": [
    {
     "data": {
      "text/plain": [
       "<matplotlib.legend.Legend at 0x7f9d09dfdf70>"
      ]
     },
     "execution_count": 65,
     "metadata": {},
     "output_type": "execute_result"
    },
    {
     "data": {
      "image/png": "[encoded data removed]",
      "text/plain": [
       "<Figure size 576x432 with 1 Axes>"
      ]
     },
     "metadata": {
      "needs_background": "light"
     },
     "output_type": "display_data"
    }
   ],
   "source": [
    "fig, ax = plt.subplots(figsize=(8, 6))\n",
    "\n",
    "ax.errorbar(pm_tab200[\"pmra_v\"], pm_tab200[\"dpmra\"],\n",
    "            xerr=pm_tab200[\"pmra_err_v\"],\n",
    "            yerr=pm_tab200[\"dpmra_err\"],\n",
    "            fmt=\"b^\",\n",
    "            ecolor=\"k\",\n",
    "            elinewidth=elw,\n",
    "            capsize=2,\n",
    "            label=\"DE200\")\n",
    "\n",
    "ax.errorbar(pm_tab405[\"pmra_v\"], pm_tab405[\"dpmra\"],\n",
    "            xerr=pm_tab405[\"pmra_err_v\"],\n",
    "            yerr=pm_tab405[\"dpmra_err\"],\n",
    "            fmt=\"gx\",\n",
    "            ecolor=\"k\",\n",
    "            elinewidth=elw,\n",
    "            capsize=2,\n",
    "            label=\"DE405\")\n",
    "\n",
    "ax.errorbar(pm_tab421[\"pmra_v\"], pm_tab421[\"dpmra\"],\n",
    "            xerr=pm_tab421[\"pmra_err_v\"],\n",
    "            yerr=pm_tab421[\"dpmra_err\"],\n",
    "            fmt=\"v\",\n",
    "            color=\"purple\",\n",
    "            ecolor=\"k\",\n",
    "            elinewidth=elw,\n",
    "            capsize=2,\n",
    "            label=\"DE421\")\n",
    "\n",
    "ax.errorbar(pm_tab430[\"pmra_v\"], pm_tab430[\"dpmra\"],\n",
    "            xerr=pm_tab430[\"pmra_err_v\"],\n",
    "            yerr=pm_tab430[\"dpmra_err\"],\n",
    "            fmt=\"ys\",\n",
    "            ecolor=\"k\",\n",
    "            elinewidth=elw,\n",
    "            capsize=2,\n",
    "            label=\"DE430\")\n",
    "\n",
    "ax.errorbar(pm_tab436[\"pmra_v\"], pm_tab436[\"dpmra\"],\n",
    "            xerr=pm_tab436[\"pmra_err_v\"],\n",
    "            yerr=pm_tab436[\"dpmra_err\"],\n",
    "            fmt=\"ro\",\n",
    "            ecolor=\"k\",\n",
    "            elinewidth=elw,\n",
    "            capsize=2,\n",
    "            label=\"DE436\")\n",
    "\n",
    "ax.hlines(0, -100, 250, ls=\"dashed\", color=\"tab:grey\", lw=1)\n",
    "\n",
    "\n",
    "ax.axis([-80, 150, -400, 100])\n",
    "\n",
    "ax.set_ylabel(\"$\\mu_{\\\\alpha*, {\\\\rm timing}} - \\mu_{\\\\alpha\\cos\\delta, {\\\\rm VLBI}}$(mas yr$^{-1}$)\",\n",
    "              fontsize=15)\n",
    "ax.set_xlabel(\"$\\mu_{\\\\alpha*, {\\\\rm VLBI}}$ (mas yr$^{-1}$)\",\n",
    "              fontsize=15)\n",
    "\n",
    "plt.tight_layout()\n",
    "plt.legend()\n",
    "\n",
    "# plt.savefig(\"../plots/vlbi_pmra-com.eps\")"
   ]
  },
  {
   "cell_type": "code",
   "execution_count": 66,
   "id": "d82536f5",
   "metadata": {
    "ExecuteTime": {
     "end_time": "2022-08-20T08:27:53.909857Z",
     "start_time": "2022-08-20T08:27:53.379931Z"
    }
   },
   "outputs": [
    {
     "data": {
      "text/plain": [
       "<matplotlib.legend.Legend at 0x7f9cd981d370>"
      ]
     },
     "execution_count": 66,
     "metadata": {},
     "output_type": "execute_result"
    },
    {
     "data": {
      "image/png": "[encoded data removed]",
      "text/plain": [
       "<Figure size 576x432 with 1 Axes>"
      ]
     },
     "metadata": {
      "needs_background": "light"
     },
     "output_type": "display_data"
    }
   ],
   "source": [
    "fig, ax = plt.subplots(figsize=(8, 6))\n",
    "\n",
    "ax.errorbar(np.fabs(pm_tab200[\"pmra_v\"]), pm_tab200[\"dpmra\"],\n",
    "            xerr=pm_tab200[\"pmra_err_v\"],\n",
    "            yerr=pm_tab200[\"dpmra_err\"],\n",
    "            fmt=\"b^\",\n",
    "            ecolor=\"k\",\n",
    "            elinewidth=elw,\n",
    "            capsize=2,\n",
    "            label=\"DE200\")\n",
    "\n",
    "ax.errorbar(np.fabs(pm_tab405[\"pmra_v\"]), pm_tab405[\"dpmra\"],\n",
    "            xerr=pm_tab405[\"pmra_err_v\"],\n",
    "            yerr=pm_tab405[\"dpmra_err\"],\n",
    "            fmt=\"gx\",\n",
    "            ecolor=\"k\",\n",
    "            elinewidth=elw,\n",
    "            capsize=2,\n",
    "            label=\"DE405\")\n",
    "\n",
    "ax.errorbar(np.fabs(pm_tab421[\"pmra_v\"]), pm_tab421[\"dpmra\"],\n",
    "            xerr=pm_tab421[\"pmra_err_v\"],\n",
    "            yerr=pm_tab421[\"dpmra_err\"],\n",
    "            fmt=\"v\",\n",
    "            color=\"purple\",\n",
    "            ecolor=\"k\",\n",
    "            elinewidth=elw,\n",
    "            capsize=2,\n",
    "            label=\"DE421\")\n",
    "\n",
    "ax.errorbar(np.fabs(pm_tab430[\"pmra_v\"]), pm_tab430[\"dpmra\"],\n",
    "            xerr=pm_tab430[\"pmra_err_v\"],\n",
    "            yerr=pm_tab430[\"dpmra_err\"],\n",
    "            fmt=\"ys\",\n",
    "            ecolor=\"k\",\n",
    "            elinewidth=elw,\n",
    "            capsize=2,\n",
    "            label=\"DE430\")\n",
    "\n",
    "ax.errorbar(np.fabs(pm_tab436[\"pmra_v\"]), pm_tab436[\"dpmra\"],\n",
    "            xerr=pm_tab436[\"pmra_err_v\"],\n",
    "            yerr=pm_tab436[\"dpmra_err\"],\n",
    "            fmt=\"ro\",\n",
    "            ecolor=\"k\",\n",
    "            elinewidth=elw,\n",
    "            capsize=2,\n",
    "            label=\"DE436\")\n",
    "\n",
    "ax.hlines(0, -100, 250, ls=\"dashed\", color=\"tab:grey\", lw=1)\n",
    "# ax.hlines(-0.59, -100, 250, ls=\"dashed\", color=\"tab:grey\", lw=1)\n",
    "# ax.vlines(9.5, -100, 250, ls=\"dashed\", color=\"tab:grey\", lw=1)\n",
    "\n",
    "ax.axis([0.3, 200, -75, 75])\n",
    "ax.set_xscale(\"log\")\n",
    "\n",
    "ax.set_ylabel(\"$\\mu_{\\\\alpha*, {\\\\rm timing}} - \\mu_{\\\\alpha*, {\\\\rm VLBI}}$(mas yr$^{-1}$)\",\n",
    "              fontsize=15)\n",
    "ax.set_xlabel(\"$|\\mu_{\\\\alpha*, {\\\\rm VLBI}}|$ (mas yr$^{-1}$)\",\n",
    "              fontsize=15)\n",
    "\n",
    "\n",
    "# ax.set_yscale(\"log\")\n",
    "\n",
    "plt.tight_layout()\n",
    "plt.legend()\n",
    "\n",
    "# plt.savefig(\"../plots/vlbi_pmra-com.eps\")"
   ]
  },
  {
   "cell_type": "code",
   "execution_count": 67,
   "id": "29b20a81",
   "metadata": {
    "ExecuteTime": {
     "end_time": "2022-08-20T08:27:54.462920Z",
     "start_time": "2022-08-20T08:27:53.912209Z"
    }
   },
   "outputs": [
    {
     "name": "stderr",
     "output_type": "stream",
     "text": [
      "The PostScript backend does not support transparency; partially transparent artists will be rendered opaque.\n"
     ]
    },
    {
     "data": {
      "image/png": "[encoded data removed]",
      "text/plain": [
       "<Figure size 576x432 with 1 Axes>"
      ]
     },
     "metadata": {
      "needs_background": "light"
     },
     "output_type": "display_data"
    }
   ],
   "source": [
    "fig, ax = plt.subplots(figsize=(8, 6))\n",
    "\n",
    "ax.errorbar(pm_tab200[\"pmra_v\"], pm_tab200[\"dpmra\"],\n",
    "            xerr=pm_tab200[\"pmra_err_v\"],\n",
    "            yerr=pm_tab200[\"dpmra_err\"],\n",
    "            fmt=\"b^\",\n",
    "            ecolor=\"k\",\n",
    "            elinewidth=elw,\n",
    "            capsize=2,\n",
    "            label=\"DE200\")\n",
    "\n",
    "ax.errorbar(pm_tab405[\"pmra_v\"], pm_tab405[\"dpmra\"],\n",
    "            xerr=pm_tab405[\"pmra_err_v\"],\n",
    "            yerr=pm_tab405[\"dpmra_err\"],\n",
    "            fmt=\"gx\",\n",
    "            ecolor=\"k\",\n",
    "            elinewidth=elw,\n",
    "            capsize=2,\n",
    "            label=\"DE405\")\n",
    "\n",
    "ax.errorbar(pm_tab421[\"pmra_v\"], pm_tab421[\"dpmra\"],\n",
    "            xerr=pm_tab421[\"pmra_err_v\"],\n",
    "            yerr=pm_tab421[\"dpmra_err\"],\n",
    "            fmt=\"v\",\n",
    "            color=\"purple\",\n",
    "            ecolor=\"k\",\n",
    "            elinewidth=elw,\n",
    "            capsize=2,\n",
    "            label=\"DE421\")\n",
    "\n",
    "ax.errorbar(pm_tab430[\"pmra_v\"], pm_tab430[\"dpmra\"],\n",
    "            xerr=pm_tab430[\"pmra_err_v\"],\n",
    "            yerr=pm_tab430[\"dpmra_err\"],\n",
    "            fmt=\"ys\",\n",
    "            ecolor=\"k\",\n",
    "            elinewidth=elw,\n",
    "            capsize=2,\n",
    "            label=\"DE430\")\n",
    "\n",
    "ax.errorbar(pm_tab436[\"pmra_v\"], pm_tab436[\"dpmra\"],\n",
    "            xerr=pm_tab436[\"pmra_err_v\"],\n",
    "            yerr=pm_tab436[\"dpmra_err\"],\n",
    "            fmt=\"ro\",\n",
    "            ecolor=\"k\",\n",
    "            elinewidth=elw,\n",
    "            capsize=2,\n",
    "            label=\"DE436\")\n",
    "\n",
    "ax.hlines(0, -100, 250, ls=\"dashed\", color=\"tab:grey\", lw=1)\n",
    "# ax.hlines(9, -100, 250, ls=\"dashed\", color=\"tab:grey\", lw=1)\n",
    "# ax.vlines(-28, -100, 250, ls=\"dashed\", color=\"tab:grey\", lw=1)\n",
    "\n",
    "ax.text(-70, -10, \"J1136+1551\", color=\"k\", rotation=90)\n",
    "\n",
    "ax.text(5, -53, \"J0157+6212\", color=\"k\")\n",
    "\n",
    "ax.text(-29, 12, \"J2113+2754\", color=\"k\", rotation=90)\n",
    "\n",
    "ax.axis([-80, 150, -60, 40])\n",
    "ax.xaxis.set_minor_locator(MultipleLocator(10))\n",
    "# ax.axis([0.3, 200, -75, 75])\n",
    "# ax.set_xscale(\"log\")\n",
    "\n",
    "ax.set_ylabel(\"$\\mu_{\\\\alpha*, {\\\\rm timing}} - \\mu_{\\\\alpha*, {\\\\rm VLBI}}$(mas yr$^{-1}$)\",\n",
    "              fontsize=15)\n",
    "ax.set_xlabel(\"$\\mu_{\\\\alpha*, {\\\\rm VLBI}}$ (mas yr$^{-1}$)\",\n",
    "              fontsize=15)\n",
    "ax.set_xticks(np.arange(-80, 150, 20))\n",
    "\n",
    "# ax.set_yscale(\"log\")\n",
    "\n",
    "plt.tight_layout()\n",
    "plt.legend()\n",
    "\n",
    "plt.savefig(\"../plots/vlbi_pmra-com.eps\")"
   ]
  },
  {
   "cell_type": "code",
   "execution_count": 68,
   "id": "49a9e3c7",
   "metadata": {
    "ExecuteTime": {
     "end_time": "2022-08-20T08:27:55.114752Z",
     "start_time": "2022-08-20T08:27:54.464714Z"
    }
   },
   "outputs": [
    {
     "name": "stderr",
     "output_type": "stream",
     "text": [
      "The PostScript backend does not support transparency; partially transparent artists will be rendered opaque.\n"
     ]
    },
    {
     "data": {
      "image/png": "[encoded data removed]",
      "text/plain": [
       "<Figure size 576x432 with 1 Axes>"
      ]
     },
     "metadata": {
      "needs_background": "light"
     },
     "output_type": "display_data"
    }
   ],
   "source": [
    "fig, ax = plt.subplots(figsize=(8, 6))\n",
    "\n",
    "ax.errorbar(pm_tab200[\"pmra_v\"], pm_tab200[\"dpmra\"],\n",
    "            xerr=pm_tab200[\"pmra_err_v\"],\n",
    "            yerr=pm_tab200[\"dpmra_err\"],\n",
    "            fmt=\"b^\",\n",
    "            ecolor=\"k\",\n",
    "            elinewidth=elw,\n",
    "            capsize=2,\n",
    "            label=\"DE200\")\n",
    "\n",
    "ax.errorbar(pm_tab405[\"pmra_v\"], pm_tab405[\"dpmra\"],\n",
    "            xerr=pm_tab405[\"pmra_err_v\"],\n",
    "            yerr=pm_tab405[\"dpmra_err\"],\n",
    "            fmt=\"gx\",\n",
    "            ecolor=\"k\",\n",
    "            elinewidth=elw,\n",
    "            capsize=2,\n",
    "            label=\"DE405\")\n",
    "\n",
    "ax.errorbar(pm_tab421[\"pmra_v\"], pm_tab421[\"dpmra\"],\n",
    "            xerr=pm_tab421[\"pmra_err_v\"],\n",
    "            yerr=pm_tab421[\"dpmra_err\"],\n",
    "            fmt=\"v\",\n",
    "            color=\"purple\",\n",
    "            ecolor=\"k\",\n",
    "            elinewidth=elw,\n",
    "            capsize=2,\n",
    "            label=\"DE421\")\n",
    "\n",
    "ax.errorbar(pm_tab430[\"pmra_v\"], pm_tab430[\"dpmra\"],\n",
    "            xerr=pm_tab430[\"pmra_err_v\"],\n",
    "            yerr=pm_tab430[\"dpmra_err\"],\n",
    "            fmt=\"ys\",\n",
    "            ecolor=\"k\",\n",
    "            elinewidth=elw,\n",
    "            capsize=2,\n",
    "            label=\"DE430\")\n",
    "\n",
    "ax.errorbar(pm_tab436[\"pmra_v\"], pm_tab436[\"dpmra\"],\n",
    "            xerr=pm_tab436[\"pmra_err_v\"],\n",
    "            yerr=pm_tab436[\"dpmra_err\"],\n",
    "            fmt=\"ro\",\n",
    "            ecolor=\"k\",\n",
    "            elinewidth=elw,\n",
    "            capsize=2,\n",
    "            label=\"DE436\")\n",
    "\n",
    "ax.hlines(0, -100, 250, ls=\"dashed\", color=\"tab:grey\", lw=1)\n",
    "# ax.hlines(-4, -100, 250, ls=\"dashed\", color=\"tab:grey\", lw=1)\n",
    "# ax.vlines(-15, -100, 250, ls=\"dashed\", color=\"tab:grey\", lw=1)\n",
    "\n",
    "# J2145-0750\n",
    "\n",
    "ax.text(-9.1, -15, \"J1937+2544\", color=\"k\")\n",
    "ax.arrow(-8.5, -13.2, -1, 1, width=0.1, color=\"tab:grey\")\n",
    "\n",
    "ax.text(13, -17, \"J0040+5716\", color=\"k\")\n",
    "\n",
    "ax.text(-8.5, -10, \"J0147+5922\", color=\"k\")\n",
    "ax.arrow(-5, -8.5, -1, 3, width=0.1, color=\"tab:grey\")\n",
    "\n",
    "ax.text(19, -5, \"J0332+5434\", color=\"k\", rotation=90)\n",
    "ax.arrow(18.5, -1, -1, -3, width=0.1, color=\"tab:grey\")\n",
    "\n",
    "ax.text(15, 5, \"J0357+5236\", color=\"k\", rotation=90)\n",
    "ax.arrow(14.8, 5, -0.5, -9, width=0.1, color=\"tab:grey\")\n",
    "\n",
    "ax.text(13, -13, \"J0406+6138\", color=\"k\")\n",
    "\n",
    "ax.text(-9, 10, \"J0601$-$0527\", color=\"k\", rotation=90)\n",
    "ax.arrow(-8.5, 9, 0.8, -5, width=0.1, color=\"tab:grey\")\n",
    "\n",
    "ax.text(5, 27.5, \"J0629+2415\", color=\"k\")\n",
    "ax.arrow(-8.5, 9, 0.8, -5, width=0.1, color=\"tab:grey\")\n",
    "\n",
    "# J1012+5307, too crowded\n",
    "\n",
    "ax.text(-18, -10, \"J1022+1001\", color=\"k\")\n",
    "ax.arrow(-14, -9, -0.5, 3.5, width=0.1, color=\"tab:grey\")\n",
    "\n",
    "# J2010-1323\n",
    "\n",
    "ax.text(4, -18, \"J2113+4644\", color=\"k\")\n",
    "ax.arrow(6, -16.5, 2.8, 2.5, width=0.1, color=\"tab:grey\")\n",
    "\n",
    "ax.text(3, -8, \"J2317+2149\", color=\"k\")\n",
    "ax.arrow(6, -9, 2, -2, width=0.1, color=\"tab:grey\")\n",
    "\n",
    "ax.axis([-20, 20, -20, 30])\n",
    "ax.xaxis.set_minor_locator(MultipleLocator(1))\n",
    "# ax.axis([0.3, 200, -75, 75])\n",
    "\n",
    "ax.set_ylabel(\"$\\mu_{\\\\alpha*, {\\\\rm timing}} - \\mu_{\\\\alpha\\cos\\delta, {\\\\rm VLBI}}$(mas yr$^{-1}$)\",\n",
    "              fontsize=15)\n",
    "ax.set_xlabel(\"$\\mu_{\\\\alpha*, {\\\\rm VLBI}}$ (mas yr$^{-1}$)\",\n",
    "              fontsize=15)\n",
    "\n",
    "plt.tight_layout()\n",
    "plt.legend()\n",
    "\n",
    "plt.savefig(\"../plots/vlbi_pmra-com-zoomin.eps\")\n"
   ]
  },
  {
   "cell_type": "code",
   "execution_count": 69,
   "id": "b3229517",
   "metadata": {
    "ExecuteTime": {
     "end_time": "2022-08-20T08:27:55.547609Z",
     "start_time": "2022-08-20T08:27:55.117791Z"
    }
   },
   "outputs": [
    {
     "data": {
      "text/plain": [
       "<matplotlib.legend.Legend at 0x7f9d0a11ea00>"
      ]
     },
     "execution_count": 69,
     "metadata": {},
     "output_type": "execute_result"
    },
    {
     "data": {
      "image/png": "[encoded data removed]",
      "text/plain": [
       "<Figure size 576x432 with 1 Axes>"
      ]
     },
     "metadata": {
      "needs_background": "light"
     },
     "output_type": "display_data"
    }
   ],
   "source": [
    "fig, ax = plt.subplots(figsize=(8, 6))\n",
    "\n",
    "ax.errorbar(pm_tab200[\"pmdec_v\"], pm_tab200[\"dpmdec\"],\n",
    "            xerr=pm_tab200[\"pmdec_err_v\"],\n",
    "            yerr=pm_tab200[\"dpmdec_err\"],\n",
    "            fmt=\"b^\",\n",
    "            ecolor=\"k\",\n",
    "            elinewidth=elw,\n",
    "            capsize=2,\n",
    "            label=\"DE200\")\n",
    "\n",
    "ax.errorbar(pm_tab405[\"pmdec_v\"], pm_tab405[\"dpmdec\"],\n",
    "            xerr=pm_tab405[\"pmdec_err_v\"],\n",
    "            yerr=pm_tab405[\"dpmdec_err\"],\n",
    "            fmt=\"gx\",\n",
    "            ecolor=\"k\",\n",
    "            elinewidth=elw,\n",
    "            capsize=2,\n",
    "            label=\"DE405\")\n",
    "\n",
    "ax.errorbar(pm_tab421[\"pmdec_v\"], pm_tab421[\"dpmdec\"],\n",
    "            xerr=pm_tab421[\"pmdec_err_v\"],\n",
    "            yerr=pm_tab421[\"dpmdec_err\"],\n",
    "            fmt=\"v\",\n",
    "            color=\"purple\",\n",
    "            ecolor=\"k\",\n",
    "            elinewidth=elw,\n",
    "            capsize=2,\n",
    "            label=\"DE421\")\n",
    "\n",
    "ax.errorbar(pm_tab430[\"pmdec_v\"], pm_tab430[\"dpmdec\"],\n",
    "            xerr=pm_tab430[\"pmdec_err_v\"],\n",
    "            yerr=pm_tab430[\"dpmdec_err\"],\n",
    "            fmt=\"ys\",\n",
    "            ecolor=\"k\",\n",
    "            elinewidth=elw,\n",
    "            capsize=2,\n",
    "            label=\"DE430\")\n",
    "\n",
    "ax.errorbar(pm_tab436[\"pmdec_v\"], pm_tab436[\"dpmdec\"],\n",
    "            xerr=pm_tab436[\"pmdec_err_v\"],\n",
    "            yerr=pm_tab436[\"dpmdec_err\"],\n",
    "            fmt=\"ro\",\n",
    "            ecolor=\"k\",\n",
    "            elinewidth=elw,\n",
    "            capsize=2,\n",
    "            label=\"DE436\")\n",
    "\n",
    "ax.hlines(0, -150, 400, ls=\"dashed\", color=\"tab:grey\", lw=1)\n",
    "\n",
    "ax.axis([-120, 400, -1000, 500])\n",
    "\n",
    "ax.set_ylabel(\"$\\mu_{\\delta, {\\\\rm timing}} - \\mu_{\\delta, {\\\\rm VLBI}}$(mas yr$^{-1}$)\",\n",
    "              fontsize=15)\n",
    "ax.set_xlabel(\"$\\mu_{\\delta, {\\\\rm VLBI}}$ (mas yr$^{-1}$)\",\n",
    "              fontsize=15)\n",
    "\n",
    "plt.tight_layout()\n",
    "plt.legend()\n",
    "\n",
    "# plt.savefig(\"../plots/vlbi_pmdec-com.eps\")"
   ]
  },
  {
   "cell_type": "code",
   "execution_count": 70,
   "id": "cac8626a",
   "metadata": {
    "ExecuteTime": {
     "end_time": "2022-08-20T08:27:56.157164Z",
     "start_time": "2022-08-20T08:27:55.550501Z"
    }
   },
   "outputs": [
    {
     "name": "stderr",
     "output_type": "stream",
     "text": [
      "The PostScript backend does not support transparency; partially transparent artists will be rendered opaque.\n"
     ]
    },
    {
     "data": {
      "image/png": "[encoded data removed]",
      "text/plain": [
       "<Figure size 576x432 with 1 Axes>"
      ]
     },
     "metadata": {
      "needs_background": "light"
     },
     "output_type": "display_data"
    }
   ],
   "source": [
    "fig, ax = plt.subplots(figsize=(8, 6))\n",
    "\n",
    "ax.errorbar(pm_tab200[\"pmdec_v\"], pm_tab200[\"dpmdec\"],\n",
    "            xerr=pm_tab200[\"pmdec_err_v\"],\n",
    "            yerr=pm_tab200[\"dpmdec_err\"],\n",
    "            fmt=\"b^\",\n",
    "            ecolor=\"k\",\n",
    "            elinewidth=elw,\n",
    "            capsize=2,\n",
    "            label=\"DE200\")\n",
    "\n",
    "ax.errorbar(pm_tab405[\"pmdec_v\"], pm_tab405[\"dpmdec\"],\n",
    "            xerr=pm_tab405[\"pmdec_err_v\"],\n",
    "            yerr=pm_tab405[\"dpmdec_err\"],\n",
    "            fmt=\"gx\",\n",
    "            ecolor=\"k\",\n",
    "            elinewidth=elw,\n",
    "            capsize=2,\n",
    "            label=\"DE405\")\n",
    "\n",
    "ax.errorbar(pm_tab421[\"pmdec_v\"], pm_tab421[\"dpmdec\"],\n",
    "            xerr=pm_tab421[\"pmdec_err_v\"],\n",
    "            yerr=pm_tab421[\"dpmdec_err\"],\n",
    "            fmt=\"v\",\n",
    "            color=\"purple\",\n",
    "            ecolor=\"k\",\n",
    "            elinewidth=elw,\n",
    "            capsize=2,\n",
    "            label=\"DE421\")\n",
    "\n",
    "ax.errorbar(pm_tab430[\"pmdec_v\"], pm_tab430[\"dpmdec\"],\n",
    "            xerr=pm_tab430[\"pmdec_err_v\"],\n",
    "            yerr=pm_tab430[\"dpmdec_err\"],\n",
    "            fmt=\"ys\",\n",
    "            ecolor=\"k\",\n",
    "            elinewidth=elw,\n",
    "            capsize=2,\n",
    "            label=\"DE430\")\n",
    "\n",
    "ax.errorbar(pm_tab436[\"pmdec_v\"], pm_tab436[\"dpmdec\"],\n",
    "            xerr=pm_tab436[\"pmdec_err_v\"],\n",
    "            yerr=pm_tab436[\"dpmdec_err\"],\n",
    "            fmt=\"ro\",\n",
    "            ecolor=\"k\",\n",
    "            elinewidth=elw,\n",
    "            capsize=2,\n",
    "            label=\"DE436\")\n",
    "\n",
    "ax.hlines(0, -150, 400, ls=\"dashed\", color=\"tab:grey\", lw=1)\n",
    "# ax.hlines(36, -100, 250, ls=\"dashed\", color=\"tab:grey\", lw=1)\n",
    "# ax.vlines(45, -100, 250, ls=\"dashed\", color=\"tab:grey\", lw=1)\n",
    "\n",
    "ax.text(25, 75, \"J1912+2104\", color=\"k\")\n",
    "ax.arrow(23, 77, -22, 0, width=0.5, color=\"tab:grey\")\n",
    "\n",
    "ax.text(30, -50, \"J1919+0021\", color=\"k\")\n",
    "ax.arrow(30, -50, -25, -10, width=0.5, color=\"tab:grey\")\n",
    "\n",
    "ax.text(50, 35, \"J0157+6212\", color=\"k\")\n",
    "\n",
    "ax.text(290, -10, \"J1136+1551\", color=\"k\")\n",
    "\n",
    "ax.text(-105, -30, \"J2113+2754\", color=\"k\")\n",
    "ax.arrow(-80, -25, 15, 5, width=0.5, color=\"tab:grey\")\n",
    "\n",
    "ax.text(135, -20, \"J2225+6535\", color=\"k\")\n",
    "\n",
    "ax.axis([-110, 380, -90, 90])\n",
    "ax.set_xticks(np.arange(-100, 400, 50))\n",
    "ax.xaxis.set_minor_locator(MultipleLocator(10))\n",
    "\n",
    "ax.set_ylabel(\"$\\mu_{\\delta, {\\\\rm timing}} - \\mu_{\\delta, {\\\\rm VLBI}}$(mas yr$^{-1}$)\",\n",
    "              fontsize=15)\n",
    "ax.set_xlabel(\"$\\mu_{\\delta, {\\\\rm VLBI}}$ (mas yr$^{-1}$)\",\n",
    "              fontsize=15)\n",
    "\n",
    "plt.tight_layout()\n",
    "plt.legend()\n",
    "\n",
    "plt.savefig(\"../plots/vlbi_pmdec-com.eps\")"
   ]
  },
  {
   "cell_type": "code",
   "execution_count": 71,
   "id": "7d2ec529",
   "metadata": {
    "ExecuteTime": {
     "end_time": "2022-08-20T08:27:56.829537Z",
     "start_time": "2022-08-20T08:27:56.160805Z"
    }
   },
   "outputs": [
    {
     "name": "stderr",
     "output_type": "stream",
     "text": [
      "The PostScript backend does not support transparency; partially transparent artists will be rendered opaque.\n"
     ]
    },
    {
     "data": {
      "image/png": "[encoded data removed]",
      "text/plain": [
       "<Figure size 576x432 with 1 Axes>"
      ]
     },
     "metadata": {
      "needs_background": "light"
     },
     "output_type": "display_data"
    }
   ],
   "source": [
    "fig, ax = plt.subplots(figsize=(8, 6))\n",
    "\n",
    "ax.errorbar(pm_tab200[\"pmdec_v\"], pm_tab200[\"dpmdec\"],\n",
    "            xerr=pm_tab200[\"pmdec_err_v\"],\n",
    "            yerr=pm_tab200[\"dpmdec_err\"],\n",
    "            fmt=\"b^\",\n",
    "            ecolor=\"k\",\n",
    "            elinewidth=elw,\n",
    "            capsize=2,\n",
    "            label=\"DE200\")\n",
    "\n",
    "ax.errorbar(pm_tab405[\"pmdec_v\"], pm_tab405[\"dpmdec\"],\n",
    "            xerr=pm_tab405[\"pmdec_err_v\"],\n",
    "            yerr=pm_tab405[\"dpmdec_err\"],\n",
    "            fmt=\"gx\",\n",
    "            ecolor=\"k\",\n",
    "            elinewidth=elw,\n",
    "            capsize=2,\n",
    "            label=\"DE405\")\n",
    "\n",
    "ax.errorbar(pm_tab421[\"pmdec_v\"], pm_tab421[\"dpmdec\"],\n",
    "            xerr=pm_tab421[\"pmdec_err_v\"],\n",
    "            yerr=pm_tab421[\"dpmdec_err\"],\n",
    "            fmt=\"v\",\n",
    "            color=\"purple\",\n",
    "            ecolor=\"k\",\n",
    "            elinewidth=elw,\n",
    "            capsize=2,\n",
    "            label=\"DE421\")\n",
    "\n",
    "ax.errorbar(pm_tab430[\"pmdec_v\"], pm_tab430[\"dpmdec\"],\n",
    "            xerr=pm_tab430[\"pmdec_err_v\"],\n",
    "            yerr=pm_tab430[\"dpmdec_err\"],\n",
    "            fmt=\"ys\",\n",
    "            ecolor=\"k\",\n",
    "            elinewidth=elw,\n",
    "            capsize=2,\n",
    "            label=\"DE430\")\n",
    "\n",
    "ax.errorbar(pm_tab436[\"pmdec_v\"], pm_tab436[\"dpmdec\"],\n",
    "            xerr=pm_tab436[\"pmdec_err_v\"],\n",
    "            yerr=pm_tab436[\"dpmdec_err\"],\n",
    "            fmt=\"ro\",\n",
    "            ecolor=\"k\",\n",
    "            elinewidth=elw,\n",
    "            capsize=2,\n",
    "            label=\"DE436\")\n",
    "\n",
    "ax.hlines(0, -150, 400, ls=\"dashed\", color=\"tab:grey\", lw=1)\n",
    "# ax.hlines(14, -100, 250, ls=\"dashed\", color=\"tab:grey\", lw=1)\n",
    "# ax.vlines(16, -100, 250, ls=\"dashed\", color=\"tab:grey\", lw=1)\n",
    "\n",
    "ax.text(24, 57, \"J0406+6138\", color=\"k\")\n",
    "ax.arrow(26, 55, -2.5, -5, width=0.1, color=\"tab:grey\")\n",
    "\n",
    "ax.text(20, 30, \"J1820$-$0427\", color=\"k\")\n",
    "ax.arrow(22, 28, -4.5, -12, width=0.1, color=\"tab:grey\")\n",
    "\n",
    "ax.text(5, 70, \"J0102+6537\", color=\"k\")\n",
    "ax.arrow(6, 67, -3, -10, width=0.1, color=\"tab:grey\")\n",
    "\n",
    "ax.text(5, -40, \"J1833$-$0338\", color=\"k\")\n",
    "ax.arrow(10, -35, 4.5, 14, width=0.1, color=\"tab:grey\")\n",
    "\n",
    "ax.text(-18, 40, \"J2010$-$1323\", color=\"k\")\n",
    "ax.arrow(-15, 38, 9, -35, width=0.1, color=\"tab:grey\")\n",
    "\n",
    "ax.text(-10, -50, \"J2145$-$0750\", color=\"k\")\n",
    "ax.arrow(-5, -48, -3.5, 38, width=0.1, color=\"tab:grey\")\n",
    "\n",
    "ax.text(0, -30, \"J1022+1001\", color=\"k\")\n",
    "ax.arrow(3, -25, 2, 10, width=0.1, color=\"tab:grey\")\n",
    "\n",
    "# J0629+2415\n",
    "\n",
    "ax.text(-30, -20, \"J2305+3100\", color=\"k\")\n",
    "ax.arrow(-22, -22, 5, -5, width=0.1, color=\"tab:grey\")\n",
    "\n",
    "ax.text(-27, 20, \"J0055+5117\", color=\"k\")\n",
    "\n",
    "ax.text(3, 20, \"J0147+5922\", color=\"k\", rotation=90)\n",
    "ax.arrow(3, 18, 1, -10, width=0.1, color=\"tab:grey\")\n",
    "\n",
    "ax.text(-38, 10, \"J0152$-$1637\", color=\"k\")\n",
    "ax.arrow(-36, 9, 3, -12, width=0.1, color=\"tab:grey\")\n",
    "\n",
    "ax.text(-15, -42, \"J0601$-$0527\", color=\"k\")\n",
    "ax.arrow(-10, -38, -4, 28, width=0.1, color=\"tab:grey\")\n",
    "\n",
    "ax.text(8, 20, \"J2149+6329\", color=\"k\", rotation=90)\n",
    "ax.arrow(9, 18, 1.5, -4.5, width=0.1, color=\"tab:grey\")\n",
    "\n",
    "ax.text(-15, 30, \"J2150+5247\", color=\"k\")\n",
    "ax.arrow(-10, 28, 5, -20, width=0.1, color=\"tab:grey\")\n",
    "\n",
    "ax.axis([-40, 40, -85, 85])\n",
    "ax.xaxis.set_minor_locator(MultipleLocator(2))\n",
    "\n",
    "ax.set_ylabel(\"$\\mu_{\\delta, {\\\\rm timing}} - \\mu_{\\delta, {\\\\rm VLBI}}$(mas yr$^{-1}$)\",\n",
    "              fontsize=15)\n",
    "ax.set_xlabel(\"$\\mu_{\\delta, {\\\\rm VLBI}}$ (mas yr$^{-1}$)\",\n",
    "              fontsize=15)\n",
    "\n",
    "plt.tight_layout()\n",
    "plt.legend()\n",
    "\n",
    "plt.savefig(\"../plots/vlbi_pmdec-com-zoomin.eps\")\n"
   ]
  },
  {
   "cell_type": "code",
   "execution_count": 72,
   "id": "c048ed7c",
   "metadata": {
    "ExecuteTime": {
     "end_time": "2022-08-20T08:27:56.840203Z",
     "start_time": "2022-08-20T08:27:56.831611Z"
    }
   },
   "outputs": [
    {
     "name": "stdout",
     "output_type": "stream",
     "text": [
      "PMRA\n",
      "J1012+5307 2.609 0.008 2.67 0.09\n",
      "PMDEC\n",
      "J1012+5307 -25.482 0.011 -25.4 0.14\n",
      "PMRA\n",
      "J1012+5307 2.66 0.03 2.67 0.09\n",
      "PMDEC\n",
      "J1012+5307 -25.5 0.04 -25.4 0.14\n",
      "PMRA\n",
      "J1012+5307 2.562 0.014 2.67 0.09\n",
      "PMDEC\n",
      "J1012+5307 -25.61 0.02 -25.4 0.14\n",
      "PMRA\n",
      "J1012+5307 2.614 0.010224 2.67 0.09\n",
      "PMDEC\n",
      "J1012+5307 -25.486 0.013773 -25.4 0.14\n",
      "PMRA\n",
      "J1012+5307 2.627 0.010222 2.67 0.09\n",
      "PMDEC\n",
      "J1012+5307 -25.458 0.013951 -25.4 0.14\n",
      "PMRA\n",
      "J1537+1155 1.482 0.007 1.51 0.02\n",
      "PMDEC\n",
      "J1537+1155 -25.285 0.012 -25.31 0.05\n",
      "PMRA\n",
      "J1537+1155 1.34 0.01 1.51 0.02\n",
      "PMDEC\n",
      "J1537+1155 -25.05 0.02 -25.31 0.05\n",
      "PMRA\n",
      "J2010-1323 2.499 0.114483 2.36 0.33\n",
      "PMRA\n",
      "J2010-1323 2.59 0.05 2.36 0.33\n",
      "PMDEC\n",
      "J2010-1323 -6.0 0.2 -5.61 0.3\n",
      "PMRA\n",
      "J2010-1323 2.557 0.056236 2.36 0.33\n",
      "PMDEC\n",
      "J2010-1323 -5.862 0.237561 -5.61 0.3\n",
      "PMRA\n",
      "J2010-1323 2.53 0.09 2.36 0.33\n",
      "PMRA\n",
      "J2010-1323 2.71 0.09 2.36 0.33\n",
      "PMRA\n",
      "J2145-0750 -9.48 0.02 -9.51 0.04\n",
      "PMDEC\n",
      "J2145-0750 -9.11 0.07 -9.1 0.09\n",
      "PMRA\n",
      "J2145-0750 -9.583 0.025382 -9.51 0.04\n",
      "PMDEC\n",
      "J2145-0750 -8.872 0.069265 -9.1 0.09\n",
      "PMRA\n",
      "J2317+1439 -1.39 0.03 -1.48 0.47\n",
      "PMDEC\n",
      "J2317+1439 3.55 0.06 3.81 0.7\n",
      "PMRA\n",
      "J2317+1439 -1.334 0.025798 -1.48 0.47\n",
      "PMDEC\n",
      "J2317+1439 3.507 0.050316 3.81 0.7\n",
      "PMRA\n",
      "J2317+1439 -1.36 0.02 -1.48 0.47\n",
      "PMDEC\n",
      "J2317+1439 3.49 0.04 3.81 0.7\n",
      "PMRA\n",
      "J2317+1439 -1.19 0.07 -1.48 0.47\n",
      "PMDEC\n",
      "J2317+1439 3.33 0.13 3.81 0.7\n",
      "PMRA\n",
      "J2317+1439 -1.377 0.071944 -1.48 0.47\n",
      "PMDEC\n",
      "J2317+1439 3.618 0.138142 3.81 0.7\n"
     ]
    }
   ],
   "source": [
    "for i in range(len(pm_tab)):\n",
    "    \n",
    "    if pm_tab[i][\"pmra_err_t\"] < pm_tab[i][\"pmra_err_v\"]:\n",
    "        print(\"PMRA\")\n",
    "        print(pm_tab[\"psr_name\"][i], pm_tab[\"pmra_t\"][i], pm_tab[\"pmra_err_t\"][i], pm_tab[\"pmra_v\"][i], pm_tab[\"pmra_err_v\"][i]) \n",
    "    \n",
    "    if pm_tab[i][\"pmdec_err_t\"] < pm_tab[i][\"pmdec_err_v\"]:\n",
    "        print(\"PMDEC\")\n",
    "        print(pm_tab[\"psr_name\"][i], pm_tab[\"pmdec_t\"][i], pm_tab[\"pmdec_err_t\"][i], pm_tab[\"pmdec_v\"][i], pm_tab[\"pmdec_err_v\"][i]) \n",
    "    "
   ]
  }
 ],
 "metadata": {
  "hide_input": false,
  "kernelspec": {
   "display_name": "Python 3 (ipykernel)",
   "language": "python",
   "name": "python3"
  },
  "language_info": {
   "codemirror_mode": {
    "name": "ipython",
    "version": 3
   },
   "file_extension": ".py",
   "mimetype": "text/x-python",
   "name": "python",
   "nbconvert_exporter": "python",
   "pygments_lexer": "ipython3",
   "version": "3.9.12"
  }
 },
 "nbformat": 4,
 "nbformat_minor": 5
}
