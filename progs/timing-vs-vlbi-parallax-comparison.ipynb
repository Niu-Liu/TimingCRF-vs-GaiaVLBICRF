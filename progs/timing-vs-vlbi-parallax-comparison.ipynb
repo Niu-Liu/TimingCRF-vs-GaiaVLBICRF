{
 "cells": [
  {
   "cell_type": "markdown",
   "id": "7f4d401e",
   "metadata": {},
   "source": [
    "This code is used to reformat the data quoted from various papers, \n",
    "then compare the pulsar positions from timing and VLBI astrometry."
   ]
  },
  {
   "cell_type": "code",
   "execution_count": 1,
   "id": "9dbaa63a",
   "metadata": {
    "ExecuteTime": {
     "end_time": "2022-08-20T08:28:06.031389Z",
     "start_time": "2022-08-20T08:28:04.266199Z"
    }
   },
   "outputs": [
    {
     "name": "stderr",
     "output_type": "stream",
     "text": [
      "/Users/Neo/Scisoft/miniconda3/lib/python3.9/site-packages/scipy/__init__.py:146: UserWarning: A NumPy version >=1.16.5 and <1.23.0 is required for this version of SciPy (detected version 1.23.1\n",
      "  warnings.warn(f\"A NumPy version >={np_minversion} and <{np_maxversion}\"\n"
     ]
    }
   ],
   "source": [
    "from functools import reduce\n",
    "\n",
    "import numpy as np\n",
    "from matplotlib import pyplot as plt\n",
    "from matplotlib.ticker import MultipleLocator\n",
    "\n",
    "from astropy.table import Table, join\n",
    "from astropy import units as u\n",
    "\n",
    "import seaborn as sns\n",
    "\n",
    "from psrcrf_tools import *"
   ]
  },
  {
   "cell_type": "markdown",
   "id": "9e42255c",
   "metadata": {},
   "source": [
    "# 1. Data preparation"
   ]
  },
  {
   "cell_type": "markdown",
   "id": "638fbd76",
   "metadata": {},
   "source": [
    "Read the timing solution data."
   ]
  },
  {
   "cell_type": "code",
   "execution_count": 2,
   "id": "7bc0f6e1",
   "metadata": {
    "ExecuteTime": {
     "end_time": "2022-08-20T08:28:06.055651Z",
     "start_time": "2022-08-20T08:28:06.036512Z"
    },
    "scrolled": true
   },
   "outputs": [],
   "source": [
    "timing_table = Table.read(\"../data/timing_vlbi.fits\",)\n",
    "timing_table.sort(\"psr_name\")"
   ]
  },
  {
   "cell_type": "markdown",
   "id": "c47143ce",
   "metadata": {},
   "source": [
    "Add unit information"
   ]
  },
  {
   "cell_type": "code",
   "execution_count": 3,
   "id": "2448bb60",
   "metadata": {
    "ExecuteTime": {
     "end_time": "2022-08-20T08:28:06.062588Z",
     "start_time": "2022-08-20T08:28:06.059941Z"
    }
   },
   "outputs": [],
   "source": [
    "timing_table[\"plx\"].unit = u.mas\n",
    "timing_table[\"plx_err\"].unit = u.mas"
   ]
  },
  {
   "cell_type": "markdown",
   "id": "61b7c9f6",
   "metadata": {},
   "source": [
    "Load the cross-match table."
   ]
  },
  {
   "cell_type": "code",
   "execution_count": 4,
   "id": "de73f913",
   "metadata": {
    "ExecuteTime": {
     "end_time": "2022-08-20T08:28:06.077656Z",
     "start_time": "2022-08-20T08:28:06.066909Z"
    }
   },
   "outputs": [],
   "source": [
    "vlbi_table = Table.read(\"../data/psrpi.dat\", format=\"ascii\")"
   ]
  },
  {
   "cell_type": "markdown",
   "id": "d227530d",
   "metadata": {},
   "source": [
    "Add unit information"
   ]
  },
  {
   "cell_type": "code",
   "execution_count": 5,
   "id": "5622099d",
   "metadata": {
    "ExecuteTime": {
     "end_time": "2022-08-20T08:28:06.082567Z",
     "start_time": "2022-08-20T08:28:06.079461Z"
    }
   },
   "outputs": [],
   "source": [
    "vlbi_table[\"plx\"].unit = u.mas\n",
    "vlbi_table[\"plx_err\"].unit = u.mas"
   ]
  },
  {
   "cell_type": "markdown",
   "id": "0ad2adb4",
   "metadata": {},
   "source": [
    "Supplement the timing table with the Gaia astrometrical information."
   ]
  },
  {
   "cell_type": "code",
   "execution_count": 6,
   "id": "66180e36",
   "metadata": {
    "ExecuteTime": {
     "end_time": "2022-08-20T08:28:06.094121Z",
     "start_time": "2022-08-20T08:28:06.087086Z"
    }
   },
   "outputs": [],
   "source": [
    "vlbi_timing = join(timing_table,\n",
    "                   vlbi_table,\n",
    "                   keys=\"psr_name\",\n",
    "                   join_type=\"left\",\n",
    "                   table_names=[\"t\", \"v\"])"
   ]
  },
  {
   "cell_type": "code",
   "execution_count": 7,
   "id": "6bb629c2",
   "metadata": {
    "ExecuteTime": {
     "end_time": "2022-08-20T08:28:06.101316Z",
     "start_time": "2022-08-20T08:28:06.096315Z"
    }
   },
   "outputs": [
    {
     "name": "stdout",
     "output_type": "stream",
     "text": [
      "There are 6 pulsars with 26 measurements.\n"
     ]
    }
   ],
   "source": [
    "vlbi_timing_pm = vlbi_timing[(vlbi_timing[\"plx_err_t\"] != 0)]\n",
    "count_psr_nb(vlbi_timing_pm)"
   ]
  },
  {
   "cell_type": "markdown",
   "id": "b9ec2374",
   "metadata": {
    "ExecuteTime": {
     "end_time": "2021-12-04T07:04:27.717360Z",
     "start_time": "2021-12-04T07:04:27.711021Z"
    }
   },
   "source": [
    "## DE200 vs VLBI"
   ]
  },
  {
   "cell_type": "code",
   "execution_count": 8,
   "id": "b1dc5193",
   "metadata": {
    "ExecuteTime": {
     "end_time": "2022-08-20T08:28:06.113113Z",
     "start_time": "2022-08-20T08:28:06.103395Z"
    }
   },
   "outputs": [
    {
     "data": {
      "text/html": [
       "<div><i>Table length=0</i>\n",
       "<table id=\"table140311892012672\" class=\"table-striped table-bordered table-condensed\">\n",
       "<thead><tr><th>psr_bname</th><th>psr_name</th><th>pos_epoch_t</th><th>eph</th><th>ra_t</th><th>dec_t</th><th>pmra_t</th><th>pmdec_t</th><th>plx_t</th><th>ra_err_t</th><th>dec_err_t</th><th>pmra_err_t</th><th>pmdec_err_t</th><th>plx_err_t</th><th>ref</th><th>comment</th><th>pos_epoch_v</th><th>ra_v</th><th>dec_v</th><th>pmra_v</th><th>pmdec_v</th><th>plx_v</th><th>ra_err_v</th><th>dec_err_v</th><th>pmra_err_v</th><th>pmdec_err_v</th><th>plx_err_v</th></tr></thead>\n",
       "<thead><tr><th></th><th></th><th>d</th><th></th><th></th><th></th><th></th><th></th><th>mas</th><th></th><th></th><th></th><th></th><th>mas</th><th></th><th></th><th></th><th></th><th></th><th></th><th></th><th>mas</th><th></th><th></th><th></th><th></th><th>mas</th></tr></thead>\n",
       "<thead><tr><th>bytes10</th><th>str11</th><th>float64</th><th>bytes5</th><th>float64</th><th>float64</th><th>float64</th><th>float64</th><th>float64</th><th>float64</th><th>float64</th><th>float64</th><th>float64</th><th>float64</th><th>bytes6</th><th>bytes13</th><th>float64</th><th>float64</th><th>float64</th><th>float64</th><th>float64</th><th>float64</th><th>float64</th><th>float64</th><th>float64</th><th>float64</th><th>float64</th></tr></thead>\n",
       "</table></div>"
      ],
      "text/plain": [
       "<Table length=0>\n",
       "psr_bname psr_name pos_epoch_t  eph   ... pmra_err_v pmdec_err_v plx_err_v\n",
       "                        d             ...                           mas   \n",
       " bytes10   str11     float64   bytes5 ...  float64     float64    float64 \n",
       "--------- -------- ----------- ------ ... ---------- ----------- ---------"
      ]
     },
     "execution_count": 8,
     "metadata": {},
     "output_type": "execute_result"
    }
   ],
   "source": [
    "mask = vlbi_timing_pm[\"eph\"] == \"DE200\"\n",
    "pm_tab200 = vlbi_timing_pm[mask]\n",
    "\n",
    "pm_tab200"
   ]
  },
  {
   "cell_type": "markdown",
   "id": "40053ab4",
   "metadata": {
    "ExecuteTime": {
     "end_time": "2021-12-04T07:04:27.717360Z",
     "start_time": "2021-12-04T07:04:27.711021Z"
    }
   },
   "source": [
    "## DE405 vs VLBI"
   ]
  },
  {
   "cell_type": "code",
   "execution_count": 9,
   "id": "b9c9cc3b",
   "metadata": {
    "ExecuteTime": {
     "end_time": "2022-08-20T08:28:06.123287Z",
     "start_time": "2022-08-20T08:28:06.115605Z"
    }
   },
   "outputs": [
    {
     "data": {
      "text/html": [
       "<div><i>Table length=3</i>\n",
       "<table id=\"table140311908764880\" class=\"table-striped table-bordered table-condensed\">\n",
       "<thead><tr><th>psr_bname</th><th>psr_name</th><th>pos_epoch_t</th><th>eph</th><th>ra_t</th><th>dec_t</th><th>pmra_t</th><th>pmdec_t</th><th>plx_t</th><th>ra_err_t</th><th>dec_err_t</th><th>pmra_err_t</th><th>pmdec_err_t</th><th>plx_err_t</th><th>ref</th><th>comment</th><th>pos_epoch_v</th><th>ra_v</th><th>dec_v</th><th>pmra_v</th><th>pmdec_v</th><th>plx_v</th><th>ra_err_v</th><th>dec_err_v</th><th>pmra_err_v</th><th>pmdec_err_v</th><th>plx_err_v</th></tr></thead>\n",
       "<thead><tr><th></th><th></th><th>d</th><th></th><th></th><th></th><th></th><th></th><th>mas</th><th></th><th></th><th></th><th></th><th>mas</th><th></th><th></th><th></th><th></th><th></th><th></th><th></th><th>mas</th><th></th><th></th><th></th><th></th><th>mas</th></tr></thead>\n",
       "<thead><tr><th>bytes10</th><th>str11</th><th>float64</th><th>bytes5</th><th>float64</th><th>float64</th><th>float64</th><th>float64</th><th>float64</th><th>float64</th><th>float64</th><th>float64</th><th>float64</th><th>float64</th><th>bytes6</th><th>bytes13</th><th>float64</th><th>float64</th><th>float64</th><th>float64</th><th>float64</th><th>float64</th><th>float64</th><th>float64</th><th>float64</th><th>float64</th><th>float64</th></tr></thead>\n",
       "<tr><td>J1012+5307</td><td>J1012+5307</td><td>50700.0</td><td>DE405</td><td>153.13930875416665</td><td>53.117389083333336</td><td>2.562</td><td>-25.61</td><td>1.22</td><td>0.08912635815241264</td><td>0.13</td><td>0.014</td><td>0.02</td><td>0.26</td><td>lwj+09</td><td></td><td>57700.0</td><td>153.13933291666663</td><td>53.11725361111111</td><td>2.67</td><td>-25.4</td><td>1.21</td><td>0.9</td><td>1.0</td><td>0.09</td><td>0.14</td><td>0.08</td></tr>\n",
       "<tr><td>J1022+1001</td><td>J1022+1001</td><td>53589.0</td><td>DE405</td><td>155.74167916666667</td><td>10.031322222222222</td><td>-17.02</td><td>0.0</td><td>1.8</td><td>44.312070446316405</td><td>130.0</td><td>0.14</td><td>0.0</td><td>0.6000000000000001</td><td>vbc+09</td><td></td><td>56000.0</td><td>155.74164875</td><td>10.0313236111</td><td>-14.89</td><td>5.59</td><td>1.39</td><td>1.477</td><td>2.0</td><td>0.05</td><td>0.03</td><td>0.04</td></tr>\n",
       "<tr><td>J2145-0750</td><td>J2145-0750</td><td>53040.0</td><td>DE405</td><td>326.4602671666666</td><td>-7.838455527777778</td><td>-9.66</td><td>-8.9</td><td>1.6</td><td>0.4457954377559239</td><td>1.4000000000000001</td><td>0.15</td><td>0.4</td><td>0.5</td><td>vbc+09</td><td></td><td>56000.0</td><td>326.460245</td><td>-7.8384761111</td><td>-9.51</td><td>-9.1</td><td>1.6</td><td>1.486</td><td>4.0</td><td>0.04</td><td>0.09</td><td>0.03</td></tr>\n",
       "</table></div>"
      ],
      "text/plain": [
       "<Table length=3>\n",
       "psr_bname   psr_name  pos_epoch_t  eph   ... pmra_err_v pmdec_err_v plx_err_v\n",
       "                           d             ...                           mas   \n",
       " bytes10     str11      float64   bytes5 ...  float64     float64    float64 \n",
       "---------- ---------- ----------- ------ ... ---------- ----------- ---------\n",
       "J1012+5307 J1012+5307     50700.0  DE405 ...       0.09        0.14      0.08\n",
       "J1022+1001 J1022+1001     53589.0  DE405 ...       0.05        0.03      0.04\n",
       "J2145-0750 J2145-0750     53040.0  DE405 ...       0.04        0.09      0.03"
      ]
     },
     "execution_count": 9,
     "metadata": {},
     "output_type": "execute_result"
    }
   ],
   "source": [
    "mask = vlbi_timing_pm[\"eph\"] == \"DE405\"\n",
    "pm_tab405 = vlbi_timing_pm[mask]\n",
    "\n",
    "pm_tab405"
   ]
  },
  {
   "cell_type": "markdown",
   "id": "1795d2c2",
   "metadata": {
    "ExecuteTime": {
     "end_time": "2021-12-04T07:04:27.717360Z",
     "start_time": "2021-12-04T07:04:27.711021Z"
    }
   },
   "source": [
    "## DE421 vs VLBI"
   ]
  },
  {
   "cell_type": "code",
   "execution_count": 10,
   "id": "651a6acf",
   "metadata": {
    "ExecuteTime": {
     "end_time": "2022-08-20T08:28:06.137462Z",
     "start_time": "2022-08-20T08:28:06.125356Z"
    }
   },
   "outputs": [
    {
     "data": {
      "text/html": [
       "<div><i>Table length=13</i>\n",
       "<table id=\"table140311351383088\" class=\"table-striped table-bordered table-condensed\">\n",
       "<thead><tr><th>psr_bname</th><th>psr_name</th><th>pos_epoch_t</th><th>eph</th><th>ra_t</th><th>dec_t</th><th>pmra_t</th><th>pmdec_t</th><th>plx_t</th><th>ra_err_t</th><th>dec_err_t</th><th>pmra_err_t</th><th>pmdec_err_t</th><th>plx_err_t</th><th>ref</th><th>comment</th><th>pos_epoch_v</th><th>ra_v</th><th>dec_v</th><th>pmra_v</th><th>pmdec_v</th><th>plx_v</th><th>ra_err_v</th><th>dec_err_v</th><th>pmra_err_v</th><th>pmdec_err_v</th><th>plx_err_v</th></tr></thead>\n",
       "<thead><tr><th></th><th></th><th>d</th><th></th><th></th><th></th><th></th><th></th><th>mas</th><th></th><th></th><th></th><th></th><th>mas</th><th></th><th></th><th></th><th></th><th></th><th></th><th></th><th>mas</th><th></th><th></th><th></th><th></th><th>mas</th></tr></thead>\n",
       "<thead><tr><th>bytes10</th><th>str11</th><th>float64</th><th>bytes5</th><th>float64</th><th>float64</th><th>float64</th><th>float64</th><th>float64</th><th>float64</th><th>float64</th><th>float64</th><th>float64</th><th>float64</th><th>bytes6</th><th>bytes13</th><th>float64</th><th>float64</th><th>float64</th><th>float64</th><th>float64</th><th>float64</th><th>float64</th><th>float64</th><th>float64</th><th>float64</th><th>float64</th></tr></thead>\n",
       "<tr><td>J1012+5307</td><td>J1012+5307</td><td>55000.0</td><td>DE421</td><td>153.13932300416664</td><td>53.11730555277778</td><td>2.609</td><td>-25.482</td><td>0.71</td><td>0.0450133996565745</td><td>0.060000000000000005</td><td>0.008</td><td>0.011</td><td>0.17</td><td>dcl+16</td><td>EPTA</td><td>57700.0</td><td>153.13933291666663</td><td>53.11725361111111</td><td>2.67</td><td>-25.4</td><td>1.21</td><td>0.9</td><td>1.0</td><td>0.09</td><td>0.14</td><td>0.08</td></tr>\n",
       "<tr><td>J1012+5307</td><td>J1012+5307</td><td>54902.0</td><td>DE421</td><td>153.1393227083333</td><td>53.117307527777776</td><td>2.5</td><td>-25.6</td><td>1.0</td><td>0.5401607710644697</td><td>0.7000000000000001</td><td>0.2</td><td>0.2</td><td>3.0</td><td>mnf+16</td><td>NANOGrav-9yr</td><td>57700.0</td><td>153.13933291666663</td><td>53.11725361111111</td><td>2.67</td><td>-25.4</td><td>1.21</td><td>0.9</td><td>1.0</td><td>0.09</td><td>0.14</td><td>0.08</td></tr>\n",
       "<tr><td>J1012+5307</td><td>J1012+5307</td><td>55000.0</td><td>DE421</td><td>153.1393230512</td><td>53.1173055972</td><td>2.627</td><td>-25.458</td><td>0.782</td><td>0.05085026</td><td>0.06366704</td><td>0.010222</td><td>0.013951</td><td>0.193807</td><td>vlh+16</td><td>IPTA-DR1</td><td>57700.0</td><td>153.13933291666663</td><td>53.11725361111111</td><td>2.67</td><td>-25.4</td><td>1.21</td><td>0.9</td><td>1.0</td><td>0.09</td><td>0.14</td><td>0.08</td></tr>\n",
       "<tr><td>J1022+1001</td><td>J1022+1001</td><td>54500.0</td><td>DE421</td><td>155.7416695983</td><td>10.0313269472</td><td>-17.086</td><td>0.0</td><td>1.105</td><td>17.74507973</td><td>45.60201434</td><td>0.025302</td><td>0.0</td><td>0.201815</td><td>rhc+16</td><td>PPTA-DR1e</td><td>56000.0</td><td>155.74164875</td><td>10.0313236111</td><td>-14.89</td><td>5.59</td><td>1.39</td><td>1.477</td><td>2.0</td><td>0.05</td><td>0.03</td><td>0.04</td></tr>\n",
       "<tr><td>J1022+1001</td><td>J1022+1001</td><td>55000.0</td><td>DE421</td><td>155.74166333333332</td><td>10.03132777777778</td><td>-18.2</td><td>-3.0</td><td>0.72</td><td>22.156034843142056</td><td>60.0</td><td>6.4</td><td>16.0</td><td>0.2</td><td>dcl+16</td><td>EPTA</td><td>56000.0</td><td>155.74164875</td><td>10.0313236111</td><td>-14.89</td><td>5.59</td><td>1.39</td><td>1.477</td><td>2.0</td><td>0.05</td><td>0.03</td><td>0.04</td></tr>\n",
       "<tr><td>...</td><td>...</td><td>...</td><td>...</td><td>...</td><td>...</td><td>...</td><td>...</td><td>...</td><td>...</td><td>...</td><td>...</td><td>...</td><td>...</td><td>...</td><td>...</td><td>...</td><td>...</td><td>...</td><td>...</td><td>...</td><td>...</td><td>...</td><td>...</td><td>...</td><td>...</td><td>...</td></tr>\n",
       "<tr><td>J2145-0750</td><td>J2145-0750</td><td>55000.0</td><td>DE421</td><td>326.4602524875</td><td>-7.8384688361</td><td>-9.559</td><td>-8.923</td><td>1.771</td><td>0.20547531</td><td>0.55725038</td><td>0.041103</td><td>0.110009</td><td>0.163626</td><td>vlh+16</td><td>IPTA-DR1</td><td>56000.0</td><td>326.460245</td><td>-7.8384761111</td><td>-9.51</td><td>-9.1</td><td>1.6</td><td>1.486</td><td>4.0</td><td>0.04</td><td>0.09</td><td>0.03</td></tr>\n",
       "<tr><td>J2145-0750</td><td>J2145-0750</td><td>54500.0</td><td>DE421</td><td>326.4602561887</td><td>-7.8384655361</td><td>-9.586</td><td>-8.936</td><td>1.84</td><td>0.42937992</td><td>1.17424372</td><td>0.078031</td><td>0.206479</td><td>0.167091</td><td>rhc+16</td><td>PPTA-DR1e</td><td>56000.0</td><td>326.460245</td><td>-7.8384761111</td><td>-9.51</td><td>-9.1</td><td>1.6</td><td>1.486</td><td>4.0</td><td>0.04</td><td>0.09</td><td>0.03</td></tr>\n",
       "<tr><td>J2145-0750</td><td>J2145-0750</td><td>54903.0</td><td>DE421</td><td>326.46025370833325</td><td>-7.8384697222222215</td><td>-10.1</td><td>-7.5</td><td>1.3</td><td>0.4457954225518149</td><td>1.0</td><td>0.1</td><td>0.4</td><td>0.2</td><td>mnf+16</td><td>NANOGrav-9yr</td><td>56000.0</td><td>326.460245</td><td>-7.8384761111</td><td>-9.51</td><td>-9.1</td><td>1.6</td><td>1.486</td><td>4.0</td><td>0.04</td><td>0.09</td><td>0.03</td></tr>\n",
       "<tr><td>J2317+1439</td><td>J2317+1439</td><td>54977.0</td><td>DE421</td><td>349.28848601666664</td><td>14.658682138888889</td><td>-1.39</td><td>3.55</td><td>0.7</td><td>0.13060581674543076</td><td>0.2</td><td>0.03</td><td>0.06</td><td>0.2</td><td>mnf+16</td><td>NANOGrav-9yr</td><td>56000.0</td><td>349.288485</td><td>14.6586847222</td><td>-1.48</td><td>3.81</td><td>0.6</td><td>1.451</td><td>1.0</td><td>0.47</td><td>0.7</td><td>1.53</td></tr>\n",
       "<tr><td>J2317+1439</td><td>J2317+1439</td><td>55000.0</td><td>DE421</td><td>349.28848589166665</td><td>14.658682305555557</td><td>-1.19</td><td>3.33</td><td>0.7</td><td>0.15962933145628844</td><td>0.4</td><td>0.07</td><td>0.13</td><td>0.3</td><td>dcl+16</td><td>EPTA</td><td>56000.0</td><td>349.288485</td><td>14.6586847222</td><td>-1.48</td><td>3.81</td><td>0.6</td><td>1.451</td><td>1.0</td><td>0.47</td><td>0.7</td><td>1.53</td></tr>\n",
       "</table></div>"
      ],
      "text/plain": [
       "<Table length=13>\n",
       "psr_bname   psr_name  pos_epoch_t  eph   ... pmra_err_v pmdec_err_v plx_err_v\n",
       "                           d             ...                           mas   \n",
       " bytes10     str11      float64   bytes5 ...  float64     float64    float64 \n",
       "---------- ---------- ----------- ------ ... ---------- ----------- ---------\n",
       "J1012+5307 J1012+5307     55000.0  DE421 ...       0.09        0.14      0.08\n",
       "J1012+5307 J1012+5307     54902.0  DE421 ...       0.09        0.14      0.08\n",
       "J1012+5307 J1012+5307     55000.0  DE421 ...       0.09        0.14      0.08\n",
       "J1022+1001 J1022+1001     54500.0  DE421 ...       0.05        0.03      0.04\n",
       "J1022+1001 J1022+1001     55000.0  DE421 ...       0.05        0.03      0.04\n",
       "       ...        ...         ...    ... ...        ...         ...       ...\n",
       "J2145-0750 J2145-0750     55000.0  DE421 ...       0.04        0.09      0.03\n",
       "J2145-0750 J2145-0750     54500.0  DE421 ...       0.04        0.09      0.03\n",
       "J2145-0750 J2145-0750     54903.0  DE421 ...       0.04        0.09      0.03\n",
       "J2317+1439 J2317+1439     54977.0  DE421 ...       0.47         0.7      1.53\n",
       "J2317+1439 J2317+1439     55000.0  DE421 ...       0.47         0.7      1.53"
      ]
     },
     "execution_count": 10,
     "metadata": {},
     "output_type": "execute_result"
    }
   ],
   "source": [
    "mask = vlbi_timing_pm[\"eph\"] == \"DE421\"\n",
    "pm_tab421 = vlbi_timing_pm[mask]\n",
    "\n",
    "pm_tab421"
   ]
  },
  {
   "cell_type": "markdown",
   "id": "0b5ccf23",
   "metadata": {
    "ExecuteTime": {
     "end_time": "2021-12-04T07:04:27.717360Z",
     "start_time": "2021-12-04T07:04:27.711021Z"
    }
   },
   "source": [
    "## DE430 vs VLBI"
   ]
  },
  {
   "cell_type": "code",
   "execution_count": 11,
   "id": "ce40e10e",
   "metadata": {
    "ExecuteTime": {
     "end_time": "2022-08-20T08:28:06.146584Z",
     "start_time": "2022-08-20T08:28:06.139378Z"
    },
    "scrolled": true
   },
   "outputs": [
    {
     "data": {
      "text/html": [
       "<div><i>Table length=0</i>\n",
       "<table id=\"table140311908764016\" class=\"table-striped table-bordered table-condensed\">\n",
       "<thead><tr><th>psr_bname</th><th>psr_name</th><th>pos_epoch_t</th><th>eph</th><th>ra_t</th><th>dec_t</th><th>pmra_t</th><th>pmdec_t</th><th>plx_t</th><th>ra_err_t</th><th>dec_err_t</th><th>pmra_err_t</th><th>pmdec_err_t</th><th>plx_err_t</th><th>ref</th><th>comment</th><th>pos_epoch_v</th><th>ra_v</th><th>dec_v</th><th>pmra_v</th><th>pmdec_v</th><th>plx_v</th><th>ra_err_v</th><th>dec_err_v</th><th>pmra_err_v</th><th>pmdec_err_v</th><th>plx_err_v</th></tr></thead>\n",
       "<thead><tr><th></th><th></th><th>d</th><th></th><th></th><th></th><th></th><th></th><th>mas</th><th></th><th></th><th></th><th></th><th>mas</th><th></th><th></th><th></th><th></th><th></th><th></th><th></th><th>mas</th><th></th><th></th><th></th><th></th><th>mas</th></tr></thead>\n",
       "<thead><tr><th>bytes10</th><th>str11</th><th>float64</th><th>bytes5</th><th>float64</th><th>float64</th><th>float64</th><th>float64</th><th>float64</th><th>float64</th><th>float64</th><th>float64</th><th>float64</th><th>float64</th><th>bytes6</th><th>bytes13</th><th>float64</th><th>float64</th><th>float64</th><th>float64</th><th>float64</th><th>float64</th><th>float64</th><th>float64</th><th>float64</th><th>float64</th><th>float64</th></tr></thead>\n",
       "</table></div>"
      ],
      "text/plain": [
       "<Table length=0>\n",
       "psr_bname psr_name pos_epoch_t  eph   ... pmra_err_v pmdec_err_v plx_err_v\n",
       "                        d             ...                           mas   \n",
       " bytes10   str11     float64   bytes5 ...  float64     float64    float64 \n",
       "--------- -------- ----------- ------ ... ---------- ----------- ---------"
      ]
     },
     "execution_count": 11,
     "metadata": {},
     "output_type": "execute_result"
    }
   ],
   "source": [
    "mask = vlbi_timing_pm[\"eph\"] == \"DE430\"\n",
    "pm_tab430 = vlbi_timing_pm[mask]\n",
    "\n",
    "pm_tab430"
   ]
  },
  {
   "cell_type": "markdown",
   "id": "50fd13dd",
   "metadata": {
    "ExecuteTime": {
     "end_time": "2021-12-04T07:04:27.717360Z",
     "start_time": "2021-12-04T07:04:27.711021Z"
    }
   },
   "source": [
    "## DE436 vs VLBI"
   ]
  },
  {
   "cell_type": "code",
   "execution_count": 12,
   "id": "ebcdd7ad",
   "metadata": {
    "ExecuteTime": {
     "end_time": "2022-08-20T08:28:06.157729Z",
     "start_time": "2022-08-20T08:28:06.149354Z"
    },
    "scrolled": false
   },
   "outputs": [
    {
     "data": {
      "text/html": [
       "<div><i>Table length=10</i>\n",
       "<table id=\"table140311351481536\" class=\"table-striped table-bordered table-condensed\">\n",
       "<thead><tr><th>psr_bname</th><th>psr_name</th><th>pos_epoch_t</th><th>eph</th><th>ra_t</th><th>dec_t</th><th>pmra_t</th><th>pmdec_t</th><th>plx_t</th><th>ra_err_t</th><th>dec_err_t</th><th>pmra_err_t</th><th>pmdec_err_t</th><th>plx_err_t</th><th>ref</th><th>comment</th><th>pos_epoch_v</th><th>ra_v</th><th>dec_v</th><th>pmra_v</th><th>pmdec_v</th><th>plx_v</th><th>ra_err_v</th><th>dec_err_v</th><th>pmra_err_v</th><th>pmdec_err_v</th><th>plx_err_v</th></tr></thead>\n",
       "<thead><tr><th></th><th></th><th>d</th><th></th><th></th><th></th><th></th><th></th><th>mas</th><th></th><th></th><th></th><th></th><th>mas</th><th></th><th></th><th></th><th></th><th></th><th></th><th></th><th>mas</th><th></th><th></th><th></th><th></th><th>mas</th></tr></thead>\n",
       "<thead><tr><th>bytes10</th><th>str11</th><th>float64</th><th>bytes5</th><th>float64</th><th>float64</th><th>float64</th><th>float64</th><th>float64</th><th>float64</th><th>float64</th><th>float64</th><th>float64</th><th>float64</th><th>bytes6</th><th>bytes13</th><th>float64</th><th>float64</th><th>float64</th><th>float64</th><th>float64</th><th>float64</th><th>float64</th><th>float64</th><th>float64</th><th>float64</th><th>float64</th></tr></thead>\n",
       "<tr><td>J1012+5307</td><td>J1012+5307</td><td>55291.0</td><td>DE436</td><td>153.139324</td><td>53.11730002777778</td><td>2.66</td><td>-25.5</td><td>1.3</td><td>0.09002681088274288</td><td>0.1</td><td>0.03</td><td>0.04</td><td>0.4</td><td>abb+18</td><td>NANOGrav-11yr</td><td>57700.0</td><td>153.13933291666663</td><td>53.11725361111111</td><td>2.67</td><td>-25.4</td><td>1.21</td><td>0.9</td><td>1.0</td><td>0.09</td><td>0.14</td><td>0.08</td></tr>\n",
       "<tr><td>J1012+5307</td><td>J1012+5307</td><td>55000.0</td><td>DE436</td><td>153.1393230429</td><td>53.1173056083</td><td>2.614</td><td>-25.486</td><td>0.933</td><td>0.04953387</td><td>0.06394984</td><td>0.010224</td><td>0.013773</td><td>0.192303</td><td>pdd+19</td><td>IPTA-DR2</td><td>57700.0</td><td>153.13933291666663</td><td>53.11725361111111</td><td>2.67</td><td>-25.4</td><td>1.21</td><td>0.9</td><td>1.0</td><td>0.09</td><td>0.14</td><td>0.08</td></tr>\n",
       "<tr><td>J1022+1001</td><td>J1022+1001</td><td>55637.0</td><td>DE436</td><td>155.7416458333333</td><td>10.031302777777778</td><td>-19.0</td><td>-5.0</td><td>1.55</td><td>14.77069103547538</td><td>40.0</td><td>3.0</td><td>9.0</td><td>0.16</td><td>rsc+21</td><td>PPTA-DR2e</td><td>56000.0</td><td>155.74164875</td><td>10.0313236111</td><td>-14.89</td><td>5.59</td><td>1.39</td><td>1.477</td><td>2.0</td><td>0.05</td><td>0.03</td><td>0.04</td></tr>\n",
       "<tr><td>J2010-1323</td><td>J2010-1323</td><td>56235.0</td><td>DE436</td><td>302.6913384833333</td><td>-13.398912611111111</td><td>2.59</td><td>-6.0</td><td>0.3</td><td>0.07295852071991889</td><td>0.30000000000000004</td><td>0.05</td><td>0.2</td><td>0.1</td><td>abb+18</td><td>NANOGrav-11yr</td><td>56000.0</td><td>302.6913379167</td><td>-13.3989119444</td><td>2.36</td><td>-5.61</td><td>0.48</td><td>1.459</td><td>4.0</td><td>0.33</td><td>0.3</td><td>0.17</td></tr>\n",
       "<tr><td>J2010-1323</td><td>J2010-1323</td><td>55000.0</td><td>DE436</td><td>302.691336045</td><td>-13.3989073306</td><td>2.557</td><td>-5.862</td><td>0.161</td><td>0.14829902</td><td>0.61558418</td><td>0.056236</td><td>0.237561</td><td>0.136243</td><td>pdd+19</td><td>IPTA-DR2</td><td>56000.0</td><td>302.6913379167</td><td>-13.3989119444</td><td>2.36</td><td>-5.61</td><td>0.48</td><td>1.459</td><td>4.0</td><td>0.33</td><td>0.3</td><td>0.17</td></tr>\n",
       "<tr><td>J2145-0750</td><td>J2145-0750</td><td>55657.0</td><td>DE436</td><td>326.46024782499995</td><td>-7.838473555555555</td><td>-9.48</td><td>-9.11</td><td>1.4</td><td>0.08915908368916164</td><td>0.2</td><td>0.02</td><td>0.07</td><td>0.08</td><td>rsc+21</td><td>PPTA-DR2e</td><td>56000.0</td><td>326.460245</td><td>-7.8384761111</td><td>-9.51</td><td>-9.1</td><td>1.6</td><td>1.486</td><td>4.0</td><td>0.04</td><td>0.09</td><td>0.03</td></tr>\n",
       "<tr><td>J2145-0750</td><td>J2145-0750</td><td>55000.0</td><td>DE436</td><td>326.4602525237</td><td>-7.8384688</td><td>-9.583</td><td>-8.872</td><td>1.535</td><td>0.09782672</td><td>0.27072793</td><td>0.025382</td><td>0.069265</td><td>0.095284</td><td>pdd+19</td><td>IPTA-DR2</td><td>56000.0</td><td>326.460245</td><td>-7.8384761111</td><td>-9.51</td><td>-9.1</td><td>1.6</td><td>1.486</td><td>4.0</td><td>0.04</td><td>0.09</td><td>0.03</td></tr>\n",
       "<tr><td>J2145-0750</td><td>J2145-0750</td><td>55322.0</td><td>DE436</td><td>326.4602505833333</td><td>-7.838471944444444</td><td>-10.0</td><td>-8.0</td><td>1.6</td><td>0.5943938935620285</td><td>2.0</td><td>0.2</td><td>0.5</td><td>0.4</td><td>abb+18</td><td>NANOGrav-11yr</td><td>56000.0</td><td>326.460245</td><td>-7.8384761111</td><td>-9.51</td><td>-9.1</td><td>1.6</td><td>1.486</td><td>4.0</td><td>0.04</td><td>0.09</td><td>0.03</td></tr>\n",
       "<tr><td>J2317+1439</td><td>J2317+1439</td><td>55000.0</td><td>DE436</td><td>349.2884860412</td><td>14.6586821778</td><td>-1.334</td><td>3.507</td><td>0.083</td><td>0.09056583</td><td>0.17883921</td><td>0.025798</td><td>0.050316</td><td>0.102997</td><td>pdd+19</td><td>IPTA-DR2</td><td>56000.0</td><td>349.288485</td><td>14.6586847222</td><td>-1.48</td><td>3.81</td><td>0.6</td><td>1.451</td><td>1.0</td><td>0.47</td><td>0.7</td><td>1.53</td></tr>\n",
       "<tr><td>J2317+1439</td><td>J2317+1439</td><td>54977.0</td><td>DE436</td><td>349.2884860958333</td><td>14.658682111111112</td><td>-1.36</td><td>3.49</td><td>0.5</td><td>0.11609405934399424</td><td>0.2</td><td>0.02</td><td>0.04</td><td>0.08</td><td>abb+18</td><td>NANOGrav-11yr</td><td>56000.0</td><td>349.288485</td><td>14.6586847222</td><td>-1.48</td><td>3.81</td><td>0.6</td><td>1.451</td><td>1.0</td><td>0.47</td><td>0.7</td><td>1.53</td></tr>\n",
       "</table></div>"
      ],
      "text/plain": [
       "<Table length=10>\n",
       "psr_bname   psr_name  pos_epoch_t  eph   ... pmra_err_v pmdec_err_v plx_err_v\n",
       "                           d             ...                           mas   \n",
       " bytes10     str11      float64   bytes5 ...  float64     float64    float64 \n",
       "---------- ---------- ----------- ------ ... ---------- ----------- ---------\n",
       "J1012+5307 J1012+5307     55291.0  DE436 ...       0.09        0.14      0.08\n",
       "J1012+5307 J1012+5307     55000.0  DE436 ...       0.09        0.14      0.08\n",
       "J1022+1001 J1022+1001     55637.0  DE436 ...       0.05        0.03      0.04\n",
       "J2010-1323 J2010-1323     56235.0  DE436 ...       0.33         0.3      0.17\n",
       "J2010-1323 J2010-1323     55000.0  DE436 ...       0.33         0.3      0.17\n",
       "J2145-0750 J2145-0750     55657.0  DE436 ...       0.04        0.09      0.03\n",
       "J2145-0750 J2145-0750     55000.0  DE436 ...       0.04        0.09      0.03\n",
       "J2145-0750 J2145-0750     55322.0  DE436 ...       0.04        0.09      0.03\n",
       "J2317+1439 J2317+1439     55000.0  DE436 ...       0.47         0.7      1.53\n",
       "J2317+1439 J2317+1439     54977.0  DE436 ...       0.47         0.7      1.53"
      ]
     },
     "execution_count": 12,
     "metadata": {},
     "output_type": "execute_result"
    }
   ],
   "source": [
    "mask = vlbi_timing_pm[\"eph\"] == \"DE436\"\n",
    "pm_tab436 = vlbi_timing_pm[mask]\n",
    "\n",
    "pm_tab436"
   ]
  },
  {
   "cell_type": "markdown",
   "id": "d82e959e",
   "metadata": {},
   "source": [
    "# 2. Parallax comparison"
   ]
  },
  {
   "cell_type": "markdown",
   "id": "0b248cbc",
   "metadata": {},
   "source": [
    "## 2.1 Significant differences"
   ]
  },
  {
   "cell_type": "code",
   "execution_count": 13,
   "id": "13459522",
   "metadata": {
    "ExecuteTime": {
     "end_time": "2022-08-20T08:28:06.163860Z",
     "start_time": "2022-08-20T08:28:06.160203Z"
    }
   },
   "outputs": [],
   "source": [
    "dplx = vlbi_timing_pm[\"plx_t\"] - vlbi_timing_pm[\"plx_v\"]\n",
    "dplx_err = np.sqrt(vlbi_timing_pm[\"plx_err_v\"]**2 +\n",
    "                   vlbi_timing_pm[\"plx_err_t\"]**2)\n",
    "\n",
    "X_plx = dplx / dplx_err"
   ]
  },
  {
   "cell_type": "code",
   "execution_count": 14,
   "id": "6850b484",
   "metadata": {
    "ExecuteTime": {
     "end_time": "2022-08-20T08:28:06.548905Z",
     "start_time": "2022-08-20T08:28:06.166767Z"
    }
   },
   "outputs": [
    {
     "data": {
      "text/plain": [
       "<Figure size 432x288 with 0 Axes>"
      ]
     },
     "metadata": {},
     "output_type": "display_data"
    },
    {
     "data": {
      "image/png": "[encoded data removed]",
      "text/plain": [
       "<Figure size 360x360 with 1 Axes>"
      ]
     },
     "metadata": {
      "needs_background": "light"
     },
     "output_type": "display_data"
    }
   ],
   "source": [
    "plt.clf()\n",
    "sns.displot(\n",
    "    X_plx,\n",
    "    binwidth=0.2, height=5, facet_kws=dict(margin_titles=True),\n",
    ")\n",
    "plt.xlim([-5, 5])\n",
    "plt.xlabel(\"Normalized difference for $\\\\varpi$\")\n",
    "plt.tight_layout()"
   ]
  },
  {
   "cell_type": "code",
   "execution_count": 15,
   "id": "42c8afb5",
   "metadata": {
    "ExecuteTime": {
     "end_time": "2022-08-20T08:28:06.555103Z",
     "start_time": "2022-08-20T08:28:06.550803Z"
    }
   },
   "outputs": [
    {
     "name": "stdout",
     "output_type": "stream",
     "text": [
      "N      PLX\n",
      "sigma  %\n",
      " 1     54 \n",
      " 2     85 \n",
      " 3     96 \n",
      " 4     100 \n",
      " 5     100 \n",
      " 6     100 \n",
      " 7     100 \n",
      " 8     100 \n",
      " 9     100 \n",
      "10     100 \n"
     ]
    }
   ],
   "source": [
    "print(\"N      PLX\")\n",
    "print(\"sigma  %\")\n",
    "for i in range(1, 11):\n",
    "    per_plx = count_sigma(X_plx, i)\n",
    "\n",
    "    print(\"{:2d}     {:2.0f} \".format(i, per_plx))"
   ]
  },
  {
   "cell_type": "code",
   "execution_count": 16,
   "id": "0235535c",
   "metadata": {
    "ExecuteTime": {
     "end_time": "2022-08-20T08:28:06.565754Z",
     "start_time": "2022-08-20T08:28:06.556754Z"
    }
   },
   "outputs": [
    {
     "name": "stdout",
     "output_type": "stream",
     "text": [
      "X_plx >= 3\n"
     ]
    },
    {
     "data": {
      "text/html": [
       "<div><i>Table length=1</i>\n",
       "<table id=\"table140312435513088\" class=\"table-striped table-bordered table-condensed\">\n",
       "<thead><tr><th>psr_name</th><th>eph</th><th>plx_t</th><th>plx_err_t</th><th>plx_v</th><th>plx_err_v</th><th>ref</th></tr></thead>\n",
       "<thead><tr><th></th><th></th><th>mas</th><th>mas</th><th>mas</th><th>mas</th><th></th></tr></thead>\n",
       "<thead><tr><th>str11</th><th>bytes5</th><th>float64</th><th>float64</th><th>float64</th><th>float64</th><th>bytes6</th></tr></thead>\n",
       "<tr><td>J1022+1001</td><td>DE421</td><td>0.72</td><td>0.2</td><td>1.39</td><td>0.04</td><td>dcl+16</td></tr>\n",
       "</table></div>"
      ],
      "text/plain": [
       "<Table length=1>\n",
       " psr_name   eph    plx_t  plx_err_t  plx_v  plx_err_v  ref  \n",
       "                    mas      mas      mas      mas          \n",
       "  str11    bytes5 float64  float64  float64  float64  bytes6\n",
       "---------- ------ ------- --------- ------- --------- ------\n",
       "J1022+1001  DE421    0.72       0.2    1.39      0.04 dcl+16"
      ]
     },
     "execution_count": 16,
     "metadata": {},
     "output_type": "execute_result"
    }
   ],
   "source": [
    "print(\"X_plx >= 3\")\n",
    "\n",
    "mask = np.fabs(X_plx) >= 3\n",
    "vlbi_timing_pm[mask][\"psr_name\", \"eph\", \"plx_t\", \"plx_err_t\", \"plx_v\",\n",
    "                     \"plx_err_v\", \"ref\"]"
   ]
  },
  {
   "cell_type": "markdown",
   "id": "a174c3f1",
   "metadata": {},
   "source": [
    "## 2.2 VLBI (y) vs. Timing (x)"
   ]
  },
  {
   "cell_type": "code",
   "execution_count": 17,
   "id": "39857614",
   "metadata": {
    "ExecuteTime": {
     "end_time": "2022-08-20T08:28:06.581317Z",
     "start_time": "2022-08-20T08:28:06.567908Z"
    }
   },
   "outputs": [
    {
     "data": {
      "text/html": [
       "<table class=\"simpletable\">\n",
       "<caption>WLS Regression Results</caption>\n",
       "<tr>\n",
       "  <th>Dep. Variable:</th>            <td>y</td>        <th>  R-squared:         </th> <td>   0.807</td>\n",
       "</tr>\n",
       "<tr>\n",
       "  <th>Model:</th>                   <td>WLS</td>       <th>  Adj. R-squared:    </th> <td>   0.799</td>\n",
       "</tr>\n",
       "<tr>\n",
       "  <th>Method:</th>             <td>Least Squares</td>  <th>  F-statistic:       </th> <td>   100.6</td>\n",
       "</tr>\n",
       "<tr>\n",
       "  <th>Date:</th>             <td>Sat, 20 Aug 2022</td> <th>  Prob (F-statistic):</th> <td>4.62e-10</td>\n",
       "</tr>\n",
       "<tr>\n",
       "  <th>Time:</th>                 <td>16:28:06</td>     <th>  Log-Likelihood:    </th> <td>0.056312</td>\n",
       "</tr>\n",
       "<tr>\n",
       "  <th>No. Observations:</th>      <td>    26</td>      <th>  AIC:               </th> <td>   3.887</td>\n",
       "</tr>\n",
       "<tr>\n",
       "  <th>Df Residuals:</th>          <td>    24</td>      <th>  BIC:               </th> <td>   6.404</td>\n",
       "</tr>\n",
       "<tr>\n",
       "  <th>Df Model:</th>              <td>     1</td>      <th>                     </th>     <td> </td>   \n",
       "</tr>\n",
       "<tr>\n",
       "  <th>Covariance Type:</th>      <td>nonrobust</td>    <th>                     </th>     <td> </td>   \n",
       "</tr>\n",
       "</table>\n",
       "<table class=\"simpletable\">\n",
       "<tr>\n",
       "    <td></td>       <th>coef</th>     <th>std err</th>      <th>t</th>      <th>P>|t|</th>  <th>[0.025</th>    <th>0.975]</th>  \n",
       "</tr>\n",
       "<tr>\n",
       "  <th>const</th> <td>    0.5687</td> <td>    0.088</td> <td>    6.467</td> <td> 0.000</td> <td>    0.387</td> <td>    0.750</td>\n",
       "</tr>\n",
       "<tr>\n",
       "  <th>x1</th>    <td>    0.6621</td> <td>    0.066</td> <td>   10.032</td> <td> 0.000</td> <td>    0.526</td> <td>    0.798</td>\n",
       "</tr>\n",
       "</table>\n",
       "<table class=\"simpletable\">\n",
       "<tr>\n",
       "  <th>Omnibus:</th>       <td> 1.368</td> <th>  Durbin-Watson:     </th> <td>   2.343</td>\n",
       "</tr>\n",
       "<tr>\n",
       "  <th>Prob(Omnibus):</th> <td> 0.505</td> <th>  Jarque-Bera (JB):  </th> <td>   0.875</td>\n",
       "</tr>\n",
       "<tr>\n",
       "  <th>Skew:</th>          <td> 0.448</td> <th>  Prob(JB):          </th> <td>   0.646</td>\n",
       "</tr>\n",
       "<tr>\n",
       "  <th>Kurtosis:</th>      <td> 2.922</td> <th>  Cond. No.          </th> <td>    6.00</td>\n",
       "</tr>\n",
       "</table><br/><br/>Notes:<br/>[1] Standard Errors assume that the covariance matrix of the errors is correctly specified."
      ],
      "text/plain": [
       "<class 'statsmodels.iolib.summary.Summary'>\n",
       "\"\"\"\n",
       "                            WLS Regression Results                            \n",
       "==============================================================================\n",
       "Dep. Variable:                      y   R-squared:                       0.807\n",
       "Model:                            WLS   Adj. R-squared:                  0.799\n",
       "Method:                 Least Squares   F-statistic:                     100.6\n",
       "Date:                Sat, 20 Aug 2022   Prob (F-statistic):           4.62e-10\n",
       "Time:                        16:28:06   Log-Likelihood:               0.056312\n",
       "No. Observations:                  26   AIC:                             3.887\n",
       "Df Residuals:                      24   BIC:                             6.404\n",
       "Df Model:                           1                                         \n",
       "Covariance Type:            nonrobust                                         \n",
       "==============================================================================\n",
       "                 coef    std err          t      P>|t|      [0.025      0.975]\n",
       "------------------------------------------------------------------------------\n",
       "const          0.5687      0.088      6.467      0.000       0.387       0.750\n",
       "x1             0.6621      0.066     10.032      0.000       0.526       0.798\n",
       "==============================================================================\n",
       "Omnibus:                        1.368   Durbin-Watson:                   2.343\n",
       "Prob(Omnibus):                  0.505   Jarque-Bera (JB):                0.875\n",
       "Skew:                           0.448   Prob(JB):                        0.646\n",
       "Kurtosis:                       2.922   Cond. No.                         6.00\n",
       "==============================================================================\n",
       "\n",
       "Notes:\n",
       "[1] Standard Errors assume that the covariance matrix of the errors is correctly specified.\n",
       "\"\"\""
      ]
     },
     "execution_count": 17,
     "metadata": {},
     "output_type": "execute_result"
    }
   ],
   "source": [
    "results = fit_plx_offset(vlbi_timing_pm[\"plx_t\"], vlbi_timing_pm[\"plx_v\"],\n",
    "                         dplx_err)\n",
    "results.summary()"
   ]
  },
  {
   "cell_type": "code",
   "execution_count": 18,
   "id": "f18413eb",
   "metadata": {
    "ExecuteTime": {
     "end_time": "2022-08-20T08:28:06.601812Z",
     "start_time": "2022-08-20T08:28:06.583897Z"
    }
   },
   "outputs": [
    {
     "data": {
      "text/html": [
       "<table class=\"simpletable\">\n",
       "<caption>WLS Regression Results</caption>\n",
       "<tr>\n",
       "  <th>Dep. Variable:</th>            <td>y</td>        <th>  R-squared:         </th> <td>   0.849</td>\n",
       "</tr>\n",
       "<tr>\n",
       "  <th>Model:</th>                   <td>WLS</td>       <th>  Adj. R-squared:    </th> <td>   0.842</td>\n",
       "</tr>\n",
       "<tr>\n",
       "  <th>Method:</th>             <td>Least Squares</td>  <th>  F-statistic:       </th> <td>   128.9</td>\n",
       "</tr>\n",
       "<tr>\n",
       "  <th>Date:</th>             <td>Sat, 20 Aug 2022</td> <th>  Prob (F-statistic):</th> <td>6.64e-11</td>\n",
       "</tr>\n",
       "<tr>\n",
       "  <th>Time:</th>                 <td>16:28:06</td>     <th>  Log-Likelihood:    </th> <td>  2.1072</td>\n",
       "</tr>\n",
       "<tr>\n",
       "  <th>No. Observations:</th>      <td>    25</td>      <th>  AIC:               </th> <td> -0.2143</td>\n",
       "</tr>\n",
       "<tr>\n",
       "  <th>Df Residuals:</th>          <td>    23</td>      <th>  BIC:               </th> <td>   2.223</td>\n",
       "</tr>\n",
       "<tr>\n",
       "  <th>Df Model:</th>              <td>     1</td>      <th>                     </th>     <td> </td>   \n",
       "</tr>\n",
       "<tr>\n",
       "  <th>Covariance Type:</th>      <td>nonrobust</td>    <th>                     </th>     <td> </td>   \n",
       "</tr>\n",
       "</table>\n",
       "<table class=\"simpletable\">\n",
       "<tr>\n",
       "    <td></td>       <th>coef</th>     <th>std err</th>      <th>t</th>      <th>P>|t|</th>  <th>[0.025</th>    <th>0.975]</th>  \n",
       "</tr>\n",
       "<tr>\n",
       "  <th>const</th> <td>    0.5122</td> <td>    0.083</td> <td>    6.184</td> <td> 0.000</td> <td>    0.341</td> <td>    0.684</td>\n",
       "</tr>\n",
       "<tr>\n",
       "  <th>x1</th>    <td>    0.6967</td> <td>    0.061</td> <td>   11.351</td> <td> 0.000</td> <td>    0.570</td> <td>    0.824</td>\n",
       "</tr>\n",
       "</table>\n",
       "<table class=\"simpletable\">\n",
       "<tr>\n",
       "  <th>Omnibus:</th>       <td> 0.495</td> <th>  Durbin-Watson:     </th> <td>   2.591</td>\n",
       "</tr>\n",
       "<tr>\n",
       "  <th>Prob(Omnibus):</th> <td> 0.781</td> <th>  Jarque-Bera (JB):  </th> <td>   0.528</td>\n",
       "</tr>\n",
       "<tr>\n",
       "  <th>Skew:</th>          <td> 0.290</td> <th>  Prob(JB):          </th> <td>   0.768</td>\n",
       "</tr>\n",
       "<tr>\n",
       "  <th>Kurtosis:</th>      <td> 2.588</td> <th>  Cond. No.          </th> <td>    6.15</td>\n",
       "</tr>\n",
       "</table><br/><br/>Notes:<br/>[1] Standard Errors assume that the covariance matrix of the errors is correctly specified."
      ],
      "text/plain": [
       "<class 'statsmodels.iolib.summary.Summary'>\n",
       "\"\"\"\n",
       "                            WLS Regression Results                            \n",
       "==============================================================================\n",
       "Dep. Variable:                      y   R-squared:                       0.849\n",
       "Model:                            WLS   Adj. R-squared:                  0.842\n",
       "Method:                 Least Squares   F-statistic:                     128.9\n",
       "Date:                Sat, 20 Aug 2022   Prob (F-statistic):           6.64e-11\n",
       "Time:                        16:28:06   Log-Likelihood:                 2.1072\n",
       "No. Observations:                  25   AIC:                           -0.2143\n",
       "Df Residuals:                      23   BIC:                             2.223\n",
       "Df Model:                           1                                         \n",
       "Covariance Type:            nonrobust                                         \n",
       "==============================================================================\n",
       "                 coef    std err          t      P>|t|      [0.025      0.975]\n",
       "------------------------------------------------------------------------------\n",
       "const          0.5122      0.083      6.184      0.000       0.341       0.684\n",
       "x1             0.6967      0.061     11.351      0.000       0.570       0.824\n",
       "==============================================================================\n",
       "Omnibus:                        0.495   Durbin-Watson:                   2.591\n",
       "Prob(Omnibus):                  0.781   Jarque-Bera (JB):                0.528\n",
       "Skew:                           0.290   Prob(JB):                        0.768\n",
       "Kurtosis:                       2.588   Cond. No.                         6.15\n",
       "==============================================================================\n",
       "\n",
       "Notes:\n",
       "[1] Standard Errors assume that the covariance matrix of the errors is correctly specified.\n",
       "\"\"\""
      ]
     },
     "execution_count": 18,
     "metadata": {},
     "output_type": "execute_result"
    }
   ],
   "source": [
    "mask = np.fabs(X_plx) < 3\n",
    "\n",
    "results = fit_plx_offset(vlbi_timing_pm[mask][\"plx_t\"], vlbi_timing_pm[mask][\"plx_v\"],\n",
    "                         dplx_err[mask])\n",
    "results.summary()"
   ]
  },
  {
   "cell_type": "code",
   "execution_count": 19,
   "id": "a4d99518",
   "metadata": {
    "ExecuteTime": {
     "end_time": "2022-08-20T08:28:06.849653Z",
     "start_time": "2022-08-20T08:28:06.603623Z"
    }
   },
   "outputs": [
    {
     "data": {
      "text/plain": [
       "<matplotlib.legend.Legend at 0x7f9ce9925e50>"
      ]
     },
     "execution_count": 19,
     "metadata": {},
     "output_type": "execute_result"
    },
    {
     "data": {
      "image/png": "[encoded data removed]",
      "text/plain": [
       "<Figure size 432x432 with 1 Axes>"
      ]
     },
     "metadata": {
      "needs_background": "light"
     },
     "output_type": "display_data"
    }
   ],
   "source": [
    "fig, ax = plt.subplots(figsize=(6, 6))\n",
    "\n",
    "# ax.errorbar(pm_tab200[\"plx_t\"],\n",
    "#             pm_tab200[\"plx_v\"],\n",
    "#             xerr=pm_tab200[\"plx_err_v\"],\n",
    "#             yerr=pm_tab200[\"plx_err_v\"],\n",
    "#             fmt=\"b^\",\n",
    "#             ecolor=\"k\",\n",
    "#             elinewidth=1,\n",
    "#             label=\"DE200\")\n",
    "\n",
    "ax.errorbar(pm_tab405[\"plx_t\"],\n",
    "            pm_tab405[\"plx_v\"],\n",
    "            xerr=pm_tab405[\"plx_err_t\"],\n",
    "            yerr=pm_tab405[\"plx_err_v\"],\n",
    "            fmt=\"gx\",\n",
    "            ecolor=\"k\",\n",
    "            elinewidth=0.5,\n",
    "            capsize=1,\n",
    "            label=\"DE405\")\n",
    "\n",
    "ax.errorbar(pm_tab421[\"plx_t\"],\n",
    "            pm_tab421[\"plx_v\"],\n",
    "            xerr=pm_tab421[\"plx_err_t\"],\n",
    "            yerr=pm_tab421[\"plx_err_v\"],\n",
    "            fmt=\"v\",\n",
    "            color=\"purple\",\n",
    "            ecolor=\"k\",\n",
    "            elinewidth=0.5,\n",
    "            capsize=1,\n",
    "            label=\"DE421\")\n",
    "\n",
    "ax.errorbar(pm_tab430[\"plx_t\"],\n",
    "            pm_tab430[\"plx_v\"],\n",
    "            xerr=pm_tab430[\"plx_err_t\"],\n",
    "            yerr=pm_tab430[\"plx_err_v\"],\n",
    "            fmt=\"ys\",\n",
    "            ecolor=\"k\",\n",
    "            elinewidth=0.5,\n",
    "            capsize=1,\n",
    "            label=\"DE430\")\n",
    "\n",
    "ax.errorbar(pm_tab436[\"plx_t\"],\n",
    "            pm_tab436[\"plx_v\"],\n",
    "            xerr=pm_tab436[\"plx_err_t\"],\n",
    "            yerr=pm_tab436[\"plx_err_v\"],\n",
    "            fmt=\"ro\",\n",
    "            ecolor=\"k\",\n",
    "            elinewidth=0.5,\n",
    "            capsize=1,\n",
    "            label=\"DE436\")\n",
    "\n",
    "x = np.arange(-1, 4, 0.1)\n",
    "ax.plot(x, x, \"--\", color=\"tab:grey\", lw=1)\n",
    "ax.text(1.7, 1.8, \"$y=x$\", rotation=45, color=\"tab:grey\", fontsize=12)\n",
    "\n",
    "ax.text(1.2, 1.25, \"PSR J1022+1001\", color=\"k\")\n",
    "ax.text(0.05, 0.4, \"PSR J2010-1323\", color=\"k\")\n",
    "ax.text(0.8, 1.45, \"PSR J1012+5307\", color=\"k\")\n",
    "ax.text(1.4, 1.65, \"PSR J2145-0750\", color=\"k\")\n",
    "ax.text(1., 0.6, \"PSR J2317+1439\", color=\"k\")\n",
    "\n",
    "\n",
    "# ax.plot(x, 0.7 * x + 0.5, \"-.\", lw=1, color=\"tab:grey\")\n",
    "# ax.text(0.5, .95, \"$y=0.70x+0.50$\", rotation=35, color=\"tab:grey\", fontsize=12)\n",
    "\n",
    "ax.axis(\"square\")\n",
    "ax.axis([0., 2.0, 0., 2.0])\n",
    "\n",
    "ax.set_xlabel(\"$\\\\varpi$ from timing (mas)\", fontsize=15)\n",
    "ax.set_ylabel(\"$\\\\varpi$ from VLBI (mas)\", fontsize=15)\n",
    "\n",
    "\n",
    "# plt.grid(lw=1)\n",
    "plt.tight_layout()\n",
    "plt.legend()\n",
    "\n",
    "# plt.savefig(\"../plots/vlbi_plx-com.eps\")"
   ]
  },
  {
   "cell_type": "markdown",
   "id": "c7d96b93",
   "metadata": {},
   "source": [
    "## 2.2 VLBI (x) vs. Timing (y)"
   ]
  },
  {
   "cell_type": "code",
   "execution_count": 20,
   "id": "b3368fc4",
   "metadata": {
    "ExecuteTime": {
     "end_time": "2022-08-20T08:28:06.864614Z",
     "start_time": "2022-08-20T08:28:06.851492Z"
    }
   },
   "outputs": [
    {
     "data": {
      "text/html": [
       "<table class=\"simpletable\">\n",
       "<caption>WLS Regression Results</caption>\n",
       "<tr>\n",
       "  <th>Dep. Variable:</th>            <td>y</td>        <th>  R-squared:         </th> <td>   0.807</td>\n",
       "</tr>\n",
       "<tr>\n",
       "  <th>Model:</th>                   <td>WLS</td>       <th>  Adj. R-squared:    </th> <td>   0.799</td>\n",
       "</tr>\n",
       "<tr>\n",
       "  <th>Method:</th>             <td>Least Squares</td>  <th>  F-statistic:       </th> <td>   100.6</td>\n",
       "</tr>\n",
       "<tr>\n",
       "  <th>Date:</th>             <td>Sat, 20 Aug 2022</td> <th>  Prob (F-statistic):</th> <td>4.62e-10</td>\n",
       "</tr>\n",
       "<tr>\n",
       "  <th>Time:</th>                 <td>16:28:06</td>     <th>  Log-Likelihood:    </th> <td> -7.8826</td>\n",
       "</tr>\n",
       "<tr>\n",
       "  <th>No. Observations:</th>      <td>    26</td>      <th>  AIC:               </th> <td>   19.77</td>\n",
       "</tr>\n",
       "<tr>\n",
       "  <th>Df Residuals:</th>          <td>    24</td>      <th>  BIC:               </th> <td>   22.28</td>\n",
       "</tr>\n",
       "<tr>\n",
       "  <th>Df Model:</th>              <td>     1</td>      <th>                     </th>     <td> </td>   \n",
       "</tr>\n",
       "<tr>\n",
       "  <th>Covariance Type:</th>      <td>nonrobust</td>    <th>                     </th>     <td> </td>   \n",
       "</tr>\n",
       "</table>\n",
       "<table class=\"simpletable\">\n",
       "<tr>\n",
       "    <td></td>       <th>coef</th>     <th>std err</th>      <th>t</th>      <th>P>|t|</th>  <th>[0.025</th>    <th>0.975]</th>  \n",
       "</tr>\n",
       "<tr>\n",
       "  <th>const</th> <td>   -0.4521</td> <td>    0.175</td> <td>   -2.586</td> <td> 0.016</td> <td>   -0.813</td> <td>   -0.091</td>\n",
       "</tr>\n",
       "<tr>\n",
       "  <th>x1</th>    <td>    1.2195</td> <td>    0.122</td> <td>   10.032</td> <td> 0.000</td> <td>    0.969</td> <td>    1.470</td>\n",
       "</tr>\n",
       "</table>\n",
       "<table class=\"simpletable\">\n",
       "<tr>\n",
       "  <th>Omnibus:</th>       <td> 1.922</td> <th>  Durbin-Watson:     </th> <td>   2.745</td>\n",
       "</tr>\n",
       "<tr>\n",
       "  <th>Prob(Omnibus):</th> <td> 0.383</td> <th>  Jarque-Bera (JB):  </th> <td>   0.809</td>\n",
       "</tr>\n",
       "<tr>\n",
       "  <th>Skew:</th>          <td>-0.371</td> <th>  Prob(JB):          </th> <td>   0.667</td>\n",
       "</tr>\n",
       "<tr>\n",
       "  <th>Kurtosis:</th>      <td> 3.441</td> <th>  Cond. No.          </th> <td>    9.13</td>\n",
       "</tr>\n",
       "</table><br/><br/>Notes:<br/>[1] Standard Errors assume that the covariance matrix of the errors is correctly specified."
      ],
      "text/plain": [
       "<class 'statsmodels.iolib.summary.Summary'>\n",
       "\"\"\"\n",
       "                            WLS Regression Results                            \n",
       "==============================================================================\n",
       "Dep. Variable:                      y   R-squared:                       0.807\n",
       "Model:                            WLS   Adj. R-squared:                  0.799\n",
       "Method:                 Least Squares   F-statistic:                     100.6\n",
       "Date:                Sat, 20 Aug 2022   Prob (F-statistic):           4.62e-10\n",
       "Time:                        16:28:06   Log-Likelihood:                -7.8826\n",
       "No. Observations:                  26   AIC:                             19.77\n",
       "Df Residuals:                      24   BIC:                             22.28\n",
       "Df Model:                           1                                         \n",
       "Covariance Type:            nonrobust                                         \n",
       "==============================================================================\n",
       "                 coef    std err          t      P>|t|      [0.025      0.975]\n",
       "------------------------------------------------------------------------------\n",
       "const         -0.4521      0.175     -2.586      0.016      -0.813      -0.091\n",
       "x1             1.2195      0.122     10.032      0.000       0.969       1.470\n",
       "==============================================================================\n",
       "Omnibus:                        1.922   Durbin-Watson:                   2.745\n",
       "Prob(Omnibus):                  0.383   Jarque-Bera (JB):                0.809\n",
       "Skew:                          -0.371   Prob(JB):                        0.667\n",
       "Kurtosis:                       3.441   Cond. No.                         9.13\n",
       "==============================================================================\n",
       "\n",
       "Notes:\n",
       "[1] Standard Errors assume that the covariance matrix of the errors is correctly specified.\n",
       "\"\"\""
      ]
     },
     "execution_count": 20,
     "metadata": {},
     "output_type": "execute_result"
    }
   ],
   "source": [
    "results = fit_plx_offset(vlbi_timing_pm[\"plx_v\"], vlbi_timing_pm[\"plx_t\"],\n",
    "                         dplx_err)\n",
    "results.summary()"
   ]
  },
  {
   "cell_type": "code",
   "execution_count": 21,
   "id": "1420f218",
   "metadata": {
    "ExecuteTime": {
     "end_time": "2022-08-20T08:28:06.883351Z",
     "start_time": "2022-08-20T08:28:06.867081Z"
    }
   },
   "outputs": [
    {
     "data": {
      "text/html": [
       "<table class=\"simpletable\">\n",
       "<caption>WLS Regression Results</caption>\n",
       "<tr>\n",
       "  <th>Dep. Variable:</th>            <td>y</td>        <th>  R-squared:         </th> <td>   0.849</td>\n",
       "</tr>\n",
       "<tr>\n",
       "  <th>Model:</th>                   <td>WLS</td>       <th>  Adj. R-squared:    </th> <td>   0.842</td>\n",
       "</tr>\n",
       "<tr>\n",
       "  <th>Method:</th>             <td>Least Squares</td>  <th>  F-statistic:       </th> <td>   128.9</td>\n",
       "</tr>\n",
       "<tr>\n",
       "  <th>Date:</th>             <td>Sat, 20 Aug 2022</td> <th>  Prob (F-statistic):</th> <td>6.64e-11</td>\n",
       "</tr>\n",
       "<tr>\n",
       "  <th>Time:</th>                 <td>16:28:06</td>     <th>  Log-Likelihood:    </th> <td> -4.8741</td>\n",
       "</tr>\n",
       "<tr>\n",
       "  <th>No. Observations:</th>      <td>    25</td>      <th>  AIC:               </th> <td>   13.75</td>\n",
       "</tr>\n",
       "<tr>\n",
       "  <th>Df Residuals:</th>          <td>    23</td>      <th>  BIC:               </th> <td>   16.19</td>\n",
       "</tr>\n",
       "<tr>\n",
       "  <th>Df Model:</th>              <td>     1</td>      <th>                     </th>     <td> </td>   \n",
       "</tr>\n",
       "<tr>\n",
       "  <th>Covariance Type:</th>      <td>nonrobust</td>    <th>                     </th>     <td> </td>   \n",
       "</tr>\n",
       "</table>\n",
       "<table class=\"simpletable\">\n",
       "<tr>\n",
       "    <td></td>       <th>coef</th>     <th>std err</th>      <th>t</th>      <th>P>|t|</th>  <th>[0.025</th>    <th>0.975]</th>  \n",
       "</tr>\n",
       "<tr>\n",
       "  <th>const</th> <td>   -0.4309</td> <td>    0.154</td> <td>   -2.790</td> <td> 0.010</td> <td>   -0.750</td> <td>   -0.111</td>\n",
       "</tr>\n",
       "<tr>\n",
       "  <th>x1</th>    <td>    1.2179</td> <td>    0.107</td> <td>   11.351</td> <td> 0.000</td> <td>    0.996</td> <td>    1.440</td>\n",
       "</tr>\n",
       "</table>\n",
       "<table class=\"simpletable\">\n",
       "<tr>\n",
       "  <th>Omnibus:</th>       <td> 0.159</td> <th>  Durbin-Watson:     </th> <td>   2.918</td>\n",
       "</tr>\n",
       "<tr>\n",
       "  <th>Prob(Omnibus):</th> <td> 0.924</td> <th>  Jarque-Bera (JB):  </th> <td>   0.014</td>\n",
       "</tr>\n",
       "<tr>\n",
       "  <th>Skew:</th>          <td> 0.006</td> <th>  Prob(JB):          </th> <td>   0.993</td>\n",
       "</tr>\n",
       "<tr>\n",
       "  <th>Kurtosis:</th>      <td> 2.884</td> <th>  Cond. No.          </th> <td>    8.98</td>\n",
       "</tr>\n",
       "</table><br/><br/>Notes:<br/>[1] Standard Errors assume that the covariance matrix of the errors is correctly specified."
      ],
      "text/plain": [
       "<class 'statsmodels.iolib.summary.Summary'>\n",
       "\"\"\"\n",
       "                            WLS Regression Results                            \n",
       "==============================================================================\n",
       "Dep. Variable:                      y   R-squared:                       0.849\n",
       "Model:                            WLS   Adj. R-squared:                  0.842\n",
       "Method:                 Least Squares   F-statistic:                     128.9\n",
       "Date:                Sat, 20 Aug 2022   Prob (F-statistic):           6.64e-11\n",
       "Time:                        16:28:06   Log-Likelihood:                -4.8741\n",
       "No. Observations:                  25   AIC:                             13.75\n",
       "Df Residuals:                      23   BIC:                             16.19\n",
       "Df Model:                           1                                         \n",
       "Covariance Type:            nonrobust                                         \n",
       "==============================================================================\n",
       "                 coef    std err          t      P>|t|      [0.025      0.975]\n",
       "------------------------------------------------------------------------------\n",
       "const         -0.4309      0.154     -2.790      0.010      -0.750      -0.111\n",
       "x1             1.2179      0.107     11.351      0.000       0.996       1.440\n",
       "==============================================================================\n",
       "Omnibus:                        0.159   Durbin-Watson:                   2.918\n",
       "Prob(Omnibus):                  0.924   Jarque-Bera (JB):                0.014\n",
       "Skew:                           0.006   Prob(JB):                        0.993\n",
       "Kurtosis:                       2.884   Cond. No.                         8.98\n",
       "==============================================================================\n",
       "\n",
       "Notes:\n",
       "[1] Standard Errors assume that the covariance matrix of the errors is correctly specified.\n",
       "\"\"\""
      ]
     },
     "execution_count": 21,
     "metadata": {},
     "output_type": "execute_result"
    }
   ],
   "source": [
    "mask = np.fabs(X_plx) < 3\n",
    "\n",
    "results = fit_plx_offset(vlbi_timing_pm[mask][\"plx_v\"], vlbi_timing_pm[mask][\"plx_t\"],\n",
    "                         dplx_err[mask])\n",
    "results.summary()"
   ]
  },
  {
   "cell_type": "code",
   "execution_count": 22,
   "id": "448f6094",
   "metadata": {
    "ExecuteTime": {
     "end_time": "2022-08-20T08:28:07.384597Z",
     "start_time": "2022-08-20T08:28:06.885057Z"
    }
   },
   "outputs": [
    {
     "name": "stderr",
     "output_type": "stream",
     "text": [
      "The PostScript backend does not support transparency; partially transparent artists will be rendered opaque.\n"
     ]
    },
    {
     "data": {
      "image/png": "[encoded data removed]",
      "text/plain": [
       "<Figure size 432x432 with 1 Axes>"
      ]
     },
     "metadata": {
      "needs_background": "light"
     },
     "output_type": "display_data"
    }
   ],
   "source": [
    "fig, ax = plt.subplots(figsize=(6, 6))\n",
    "\n",
    "# ax.errorbar(pm_tab200[\"plx_v\"], pm_tab200[\"plx_t\"],\n",
    "#             yerr=pm_tab200[\"plx_err_v\"],\n",
    "#             xerr=pm_tab200[\"plx_err_v\"],\n",
    "#             fmt=\"b^\",\n",
    "#             ecolor=\"k\",\n",
    "#             elinewidth=1,\n",
    "#             label=\"DE200\")\n",
    "\n",
    "ax.errorbar(pm_tab405[\"plx_v\"], pm_tab405[\"plx_t\"],\n",
    "            yerr=pm_tab405[\"plx_err_t\"],\n",
    "            xerr=pm_tab405[\"plx_err_v\"],\n",
    "            fmt=\"gx\",\n",
    "            ecolor=\"k\",\n",
    "            elinewidth=0.1,\n",
    "            capsize=1,\n",
    "            label=\"DE405\")\n",
    "\n",
    "ax.errorbar(pm_tab421[\"plx_v\"], pm_tab421[\"plx_t\"],\n",
    "            yerr=pm_tab421[\"plx_err_t\"],\n",
    "            xerr=pm_tab421[\"plx_err_v\"],\n",
    "            fmt=\"v\",\n",
    "            color=\"purple\",\n",
    "            ecolor=\"k\",\n",
    "            elinewidth=0.1,\n",
    "            capsize=1,\n",
    "            label=\"DE421\")\n",
    "\n",
    "ax.errorbar(pm_tab430[\"plx_v\"], pm_tab430[\"plx_t\"],\n",
    "            yerr=pm_tab430[\"plx_err_t\"],\n",
    "            xerr=pm_tab430[\"plx_err_v\"],\n",
    "            fmt=\"ys\",\n",
    "            ecolor=\"k\",\n",
    "            elinewidth=0.1,\n",
    "            capsize=1,\n",
    "            label=\"DE430\")\n",
    "\n",
    "ax.errorbar(pm_tab436[\"plx_v\"], pm_tab436[\"plx_t\"],\n",
    "            yerr=pm_tab436[\"plx_err_t\"],\n",
    "            xerr=pm_tab436[\"plx_err_v\"],\n",
    "            fmt=\"ro\",\n",
    "            ecolor=\"k\",\n",
    "            elinewidth=0.1,\n",
    "            capsize=1,\n",
    "            label=\"DE436\")\n",
    "\n",
    "x = np.arange(-1, 4, 0.1)\n",
    "ax.plot(x, x, \"--\", color=\"tab:grey\", lw=1)\n",
    "ax.text(1.7, 1.8, \"$y=x$\", rotation=45, color=\"tab:grey\", fontsize=12)\n",
    "\n",
    "ax.text(.8, 1.25, \"J1012+5307\", color=\"k\")\n",
    "ax.text(1.45, 0.8, \"J1022+1001\", color=\"k\", rotation=90)\n",
    "ax.text(0.025, 0.4, \"J2010$-$1323\", color=\"k\")\n",
    "\n",
    "ax.text(1.65, 1.2, \"J2145$-$0750\", color=\"k\", rotation=90)\n",
    "ax.text(0.2, 0.75, \"J2317+1439\", color=\"k\")\n",
    "\n",
    "ax.text(.5, 1., \"J1537+1155\", color=\"k\")\n",
    "ax.arrow(.85, 1.0, 0.18, -0.1, width=0.005, color=\"tab:grey\")\n",
    "\n",
    "# ax.plot(x, 0.7 * x + 0.5, \"-.\", lw=1, color=\"tab:grey\")\n",
    "# ax.text(0.5, .95, \"$y=0.70x+0.50$\", rotation=35, color=\"tab:grey\", fontsize=12)\n",
    "\n",
    "ax.axis(\"square\")\n",
    "ax.axis([-0., 2.0, -0., 2.0])\n",
    "ax.set_xticks(np.arange(0, 2.1, 0.5))\n",
    "ax.set_yticks(np.arange(0, 2.1, 0.5))\n",
    "ax.xaxis.set_minor_locator(MultipleLocator(0.1))\n",
    "ax.yaxis.set_minor_locator(MultipleLocator(0.1))\n",
    "\n",
    "ax.set_xlabel(\"$\\\\varpi$ from VLBI (mas)\", fontsize=15)\n",
    "ax.set_ylabel(\"$\\\\varpi$ from timing (mas)\", fontsize=15)\n",
    "\n",
    "\n",
    "# plt.grid(lw=1)\n",
    "plt.tight_layout()\n",
    "plt.legend()\n",
    "\n",
    "plt.savefig(\"../plots/vlbi_plx-com.eps\")"
   ]
  },
  {
   "cell_type": "code",
   "execution_count": 23,
   "id": "09bf9d45",
   "metadata": {
    "ExecuteTime": {
     "end_time": "2022-08-20T08:28:07.394562Z",
     "start_time": "2022-08-20T08:28:07.386719Z"
    }
   },
   "outputs": [
    {
     "data": {
      "text/html": [
       "<div><i>Table length=1</i>\n",
       "<table id=\"table140312712929184\" class=\"table-striped table-bordered table-condensed\">\n",
       "<thead><tr><th>psr_bname</th><th>psr_name</th><th>pos_epoch_t</th><th>eph</th><th>ra_t</th><th>dec_t</th><th>pmra_t</th><th>pmdec_t</th><th>plx_t</th><th>ra_err_t</th><th>dec_err_t</th><th>pmra_err_t</th><th>pmdec_err_t</th><th>plx_err_t</th><th>ref</th><th>comment</th><th>pos_epoch_v</th><th>ra_v</th><th>dec_v</th><th>pmra_v</th><th>pmdec_v</th><th>plx_v</th><th>ra_err_v</th><th>dec_err_v</th><th>pmra_err_v</th><th>pmdec_err_v</th><th>plx_err_v</th></tr></thead>\n",
       "<thead><tr><th></th><th></th><th>d</th><th></th><th></th><th></th><th></th><th></th><th>mas</th><th></th><th></th><th></th><th></th><th>mas</th><th></th><th></th><th></th><th></th><th></th><th></th><th></th><th>mas</th><th></th><th></th><th></th><th></th><th>mas</th></tr></thead>\n",
       "<thead><tr><th>bytes10</th><th>str11</th><th>float64</th><th>bytes5</th><th>float64</th><th>float64</th><th>float64</th><th>float64</th><th>float64</th><th>float64</th><th>float64</th><th>float64</th><th>float64</th><th>float64</th><th>bytes6</th><th>bytes13</th><th>float64</th><th>float64</th><th>float64</th><th>float64</th><th>float64</th><th>float64</th><th>float64</th><th>float64</th><th>float64</th><th>float64</th><th>float64</th></tr></thead>\n",
       "<tr><td>B1534+12</td><td>J1537+1155</td><td>52077.0</td><td>DE421</td><td>234.29150720833331</td><td>11.93206496388889</td><td>1.482</td><td>-25.285</td><td>0.86</td><td>0.04402770443689709</td><td>0.06</td><td>0.007</td><td>0.012</td><td>0.18</td><td>fst14</td><td></td><td>57964.0</td><td>234.29151444583334</td><td>11.931952055555556</td><td>1.51</td><td>-25.31</td><td>1.07</td><td>0.802</td><td>0.825</td><td>0.02</td><td>0.05</td><td>0.09</td></tr>\n",
       "</table></div>"
      ],
      "text/plain": [
       "<Table length=1>\n",
       "psr_bname  psr_name  pos_epoch_t  eph   ... pmra_err_v pmdec_err_v plx_err_v\n",
       "                          d             ...                           mas   \n",
       " bytes10    str11      float64   bytes5 ...  float64     float64    float64 \n",
       "--------- ---------- ----------- ------ ... ---------- ----------- ---------\n",
       " B1534+12 J1537+1155     52077.0  DE421 ...       0.02        0.05      0.09"
      ]
     },
     "execution_count": 23,
     "metadata": {},
     "output_type": "execute_result"
    }
   ],
   "source": [
    "vlbi_timing_pm[vlbi_timing_pm[\"psr_name\"] == \"J1537+1155\"]"
   ]
  }
 ],
 "metadata": {
  "hide_input": false,
  "kernelspec": {
   "display_name": "Python 3 (ipykernel)",
   "language": "python",
   "name": "python3"
  },
  "language_info": {
   "codemirror_mode": {
    "name": "ipython",
    "version": 3
   },
   "file_extension": ".py",
   "mimetype": "text/x-python",
   "name": "python",
   "nbconvert_exporter": "python",
   "pygments_lexer": "ipython3",
   "version": "3.9.12"
  }
 },
 "nbformat": 4,
 "nbformat_minor": 5
}
