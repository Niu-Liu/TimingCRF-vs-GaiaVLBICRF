{
 "cells": [
  {
   "cell_type": "markdown",
   "id": "cb74f8ed",
   "metadata": {},
   "source": [
    "In this notebook, I classified pulsars into two classes following the definition given in J. Antoniadis (MNRAS 501, 1116-1126 (2021)).\n",
    "\n",
    "Antoniadis' classification is based on a paramater of $B/G \\equiv 3.2 \\times 10^{19}(P \\cdot \\dot{P}~{\\rm s}^{-1})^{1/2}$, including\n",
    "\n",
    "- fully recycled MSPs: $(B/G) \\leq 10^9$\n",
    "\n",
    "- mild MSPs: $10^9 \\lt (B/G) \\leq 10^{10}$\n",
    "\n",
    "- young, non-recycled pulsars: $(B/G) \\gt 10^{10}$"
   ]
  },
  {
   "cell_type": "code",
   "execution_count": 1,
   "id": "316cac97",
   "metadata": {
    "ExecuteTime": {
     "end_time": "2022-08-15T06:53:10.742502Z",
     "start_time": "2022-08-15T06:53:10.361007Z"
    }
   },
   "outputs": [],
   "source": [
    "import numpy as np\n",
    "\n",
    "from astropy.table import Table, join"
   ]
  },
  {
   "cell_type": "markdown",
   "id": "c09cf54d",
   "metadata": {},
   "source": [
    "# Gaia DR3 pulsar sample."
   ]
  },
  {
   "cell_type": "code",
   "execution_count": 2,
   "id": "f3155604",
   "metadata": {
    "ExecuteTime": {
     "end_time": "2022-08-15T06:53:10.784900Z",
     "start_time": "2022-08-15T06:53:10.745055Z"
    }
   },
   "outputs": [],
   "source": [
    "gaia_psr = Table.read(\"../data/edr3_psrcatv1.67.fits\")\n",
    "\n",
    "B_over_G = 3.2e19 * np.sqrt(gaia_psr[\"p0\"] * gaia_psr[\"p1\"])"
   ]
  },
  {
   "cell_type": "code",
   "execution_count": 3,
   "id": "98b104a7",
   "metadata": {
    "ExecuteTime": {
     "end_time": "2022-08-15T06:53:10.791726Z",
     "start_time": "2022-08-15T06:53:10.788365Z"
    }
   },
   "outputs": [],
   "source": [
    "cls = []\n",
    "\n",
    "for pmri in B_over_G:\n",
    "    \n",
    "    if pmri < 1e9:\n",
    "        cls.append(\"MSP\")\n",
    "    elif pmri <= 1e10:\n",
    "        cls.append(\"mild-MSP\")\n",
    "    else:\n",
    "        cls.append(\"Non-MSP\")"
   ]
  },
  {
   "cell_type": "code",
   "execution_count": 4,
   "id": "705cc269",
   "metadata": {
    "ExecuteTime": {
     "end_time": "2022-08-15T06:53:10.802325Z",
     "start_time": "2022-08-15T06:53:10.794422Z"
    }
   },
   "outputs": [
    {
     "name": "stdout",
     "output_type": "stream",
     "text": [
      "J0045-7319 Non-MSP\n",
      "J0337+1715 MSP\n",
      "J0348+0432 mild-MSP\n",
      "J0437-4715 MSP\n",
      "J0534+2200 Non-MSP\n",
      "J0534-6703 Non-MSP\n",
      "J0540-6919 Non-MSP\n",
      "J0614+2229 Non-MSP\n",
      "J0857-4424 Non-MSP\n",
      "J1012+5307 MSP\n",
      "J1023+0038 MSP\n",
      "J1024-0719 MSP\n",
      "J1036-8317 Non-MSP\n",
      "J1048+2339 MSP\n",
      "J1227-4853 MSP\n",
      "J1302-6350 Non-MSP\n",
      "J1305-6455 Non-MSP\n",
      "J1306-4035 Non-MSP\n",
      "J1311-3430 MSP\n",
      "J1417-4402 Non-MSP\n",
      "J1431-4715 MSP\n",
      "J1435-6100 MSP\n",
      "J1509-6015 Non-MSP\n",
      "J1542-5133 Non-MSP\n",
      "J1546-5302 Non-MSP\n",
      "J1622-0315 MSP\n",
      "J1624-4411 Non-MSP\n",
      "J1624-4721 Non-MSP\n",
      "J1653-0158 MSP\n",
      "J1723-2837 MSP\n",
      "J1810+1744 Non-MSP\n",
      "J1816+4510 MSP\n",
      "J1817-3618 Non-MSP\n",
      "J1839-0905 Non-MSP\n",
      "J1851+1259 Non-MSP\n",
      "J1852+0040 Non-MSP\n",
      "J1903-0258 Non-MSP\n",
      "J1928+1245 MSP\n",
      "J1946+2052 mild-MSP\n",
      "J1955+2908 MSP\n",
      "J1957+2516 MSP\n",
      "J1958+2846 Non-MSP\n",
      "J1959+2048 MSP\n",
      "J2027+4557 Non-MSP\n",
      "J2032+4127 Non-MSP\n",
      "J2039-5617 MSP\n",
      "J2129-0429 Non-MSP\n",
      "J2215+5135 MSP\n",
      "J2339-0533 MSP\n"
     ]
    }
   ],
   "source": [
    "for i in range(len(gaia_psr)):\n",
    "    print(gaia_psr[\"name\"][i], cls[i])"
   ]
  },
  {
   "cell_type": "markdown",
   "id": "afd17297",
   "metadata": {},
   "source": [
    "# VLBI pulsar sample"
   ]
  },
  {
   "cell_type": "markdown",
   "id": "7faeb782",
   "metadata": {},
   "source": [
    "Load the ANTF catalog."
   ]
  },
  {
   "cell_type": "code",
   "execution_count": 5,
   "id": "9743a68f",
   "metadata": {
    "ExecuteTime": {
     "end_time": "2022-08-15T06:53:16.017125Z",
     "start_time": "2022-08-15T06:53:10.803972Z"
    }
   },
   "outputs": [],
   "source": [
    "antf_cat = Table.read(\"pulsar-jname.txt\", format=\"ascii\")"
   ]
  },
  {
   "cell_type": "code",
   "execution_count": 6,
   "id": "a32019f1",
   "metadata": {
    "ExecuteTime": {
     "end_time": "2022-08-15T06:53:16.024501Z",
     "start_time": "2022-08-15T06:53:16.019810Z"
    }
   },
   "outputs": [],
   "source": [
    "antf_cat.rename_columns([\"col2\", \"col21\", \"col24\"], [\"psr_name\", \"p0\", \"p1\"])\n",
    "antf_cat.keep_columns([\"psr_name\", \"p0\", \"p1\"])"
   ]
  },
  {
   "cell_type": "markdown",
   "id": "db58d8cc",
   "metadata": {},
   "source": [
    "Load the PSR$\\pi$ sample."
   ]
  },
  {
   "cell_type": "code",
   "execution_count": 7,
   "id": "e14c38e5",
   "metadata": {
    "ExecuteTime": {
     "end_time": "2022-08-15T06:53:16.042209Z",
     "start_time": "2022-08-15T06:53:16.026183Z"
    }
   },
   "outputs": [],
   "source": [
    "psrpi_table = Table.read(\"../data/psrpi.dat\", format=\"ascii\")\n",
    "\n",
    "psrpi_table = join(psrpi_table, antf_cat, keys=\"psr_name\")\n",
    "\n",
    "B_over_G = [3.2e19 * np.sqrt(float(psrpi_table[\"p0\"][i]) *\n",
    "                             float(psrpi_table[\"p1\"][i])) for i in range(len(psrpi_table))]"
   ]
  },
  {
   "cell_type": "code",
   "execution_count": 8,
   "id": "d3c7c72c",
   "metadata": {
    "ExecuteTime": {
     "end_time": "2022-08-15T06:53:16.049668Z",
     "start_time": "2022-08-15T06:53:16.045471Z"
    }
   },
   "outputs": [],
   "source": [
    "cls = []\n",
    "\n",
    "for pmri in B_over_G:\n",
    "    \n",
    "    if pmri < 1e9:\n",
    "        cls.append(\"MSP\")\n",
    "    elif pmri <= 1e10:\n",
    "        cls.append(\"mild-MSP\")\n",
    "    else:\n",
    "        cls.append(\"Non-MSP\")"
   ]
  },
  {
   "cell_type": "code",
   "execution_count": 9,
   "id": "f2413012",
   "metadata": {
    "ExecuteTime": {
     "end_time": "2022-08-15T06:53:16.061963Z",
     "start_time": "2022-08-15T06:53:16.054288Z"
    }
   },
   "outputs": [
    {
     "name": "stdout",
     "output_type": "stream",
     "text": [
      "J0040+5716 Non-MSP\n",
      "J0055+5117 Non-MSP\n",
      "J0102+6537 Non-MSP\n",
      "J0108+6608 Non-MSP\n",
      "J0147+5922 Non-MSP\n",
      "J0151-0635 Non-MSP\n",
      "J0152-1637 Non-MSP\n",
      "J0157+6212 Non-MSP\n",
      "J0323+3944 Non-MSP\n",
      "J0332+5434 Non-MSP\n",
      "J0335+4555 Non-MSP\n",
      "J0357+5236 Non-MSP\n",
      "J0406+6138 Non-MSP\n",
      "J0601-0527 Non-MSP\n",
      "J0614+2229 Non-MSP\n",
      "J0629+2415 Non-MSP\n",
      "J0729-1836 Non-MSP\n",
      "J0823+0159 Non-MSP\n",
      "J0826+2637 Non-MSP\n",
      "J1012+5307 MSP\n",
      "J1022+1001 MSP\n",
      "J1136+1551 Non-MSP\n",
      "J1257-1027 Non-MSP\n",
      "J1321+8323 Non-MSP\n",
      "J1532+2745 Non-MSP\n",
      "J1543-0620 Non-MSP\n",
      "J1607-0032 Non-MSP\n",
      "J1623-0908 Non-MSP\n",
      "J1645-0317 Non-MSP\n",
      "J1650-1654 Non-MSP\n",
      "J1703-1846 Non-MSP\n",
      "J1735-0724 Non-MSP\n",
      "J1741-0840 Non-MSP\n",
      "J1754+5201 Non-MSP\n",
      "J1820-0427 Non-MSP\n",
      "J1833-0338 Non-MSP\n",
      "J1840+5640 Non-MSP\n",
      "J1901-0906 Non-MSP\n",
      "J1912+2104 Non-MSP\n",
      "J1913+1400 Non-MSP\n",
      "J1917+1353 Non-MSP\n",
      "J1919+0021 Non-MSP\n",
      "J1937+2544 Non-MSP\n",
      "J2006-0807 Non-MSP\n",
      "J2010-1323 MSP\n",
      "J2046+1540 Non-MSP\n",
      "J2046-0421 Non-MSP\n",
      "J2113+2754 Non-MSP\n",
      "J2113+4644 Non-MSP\n",
      "J2145-0750 MSP\n",
      "J2149+6329 Non-MSP\n",
      "J2150+5247 Non-MSP\n",
      "J2212+2933 Non-MSP\n",
      "J2225+6535 Non-MSP\n",
      "J2248-0101 Non-MSP\n",
      "J2305+3100 Non-MSP\n",
      "J2317+1439 MSP\n",
      "J2317+2149 Non-MSP\n",
      "J2325+6316 Non-MSP\n",
      "J2346-0609 Non-MSP\n",
      "J2354+6155 Non-MSP\n"
     ]
    }
   ],
   "source": [
    "for i in range(len(psrpi_table)):\n",
    "    print(psrpi_table[\"psr_name\"][i], cls[i])"
   ]
  }
 ],
 "metadata": {
  "hide_input": false,
  "kernelspec": {
   "display_name": "Python 3 (ipykernel)",
   "language": "python",
   "name": "python3"
  },
  "language_info": {
   "codemirror_mode": {
    "name": "ipython",
    "version": 3
   },
   "file_extension": ".py",
   "mimetype": "text/x-python",
   "name": "python",
   "nbconvert_exporter": "python",
   "pygments_lexer": "ipython3",
   "version": "3.9.12"
  }
 },
 "nbformat": 4,
 "nbformat_minor": 5
}
