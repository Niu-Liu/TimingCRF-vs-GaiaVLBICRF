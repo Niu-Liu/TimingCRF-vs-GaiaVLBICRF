{
 "cells": [
  {
   "cell_type": "markdown",
   "id": "703977be",
   "metadata": {},
   "source": [
    "This notebook shows the position uncertainties of pulsars from various techniques."
   ]
  },
  {
   "cell_type": "code",
   "execution_count": 1,
   "id": "919b4396",
   "metadata": {
    "ExecuteTime": {
     "end_time": "2022-08-20T03:05:48.901137Z",
     "start_time": "2022-08-20T03:05:47.334067Z"
    }
   },
   "outputs": [
    {
     "name": "stderr",
     "output_type": "stream",
     "text": [
      "/Users/Neo/Scisoft/miniconda3/lib/python3.9/site-packages/scipy/__init__.py:146: UserWarning: A NumPy version >=1.16.5 and <1.23.0 is required for this version of SciPy (detected version 1.23.1\n",
      "  warnings.warn(f\"A NumPy version >={np_minversion} and <{np_maxversion}\"\n"
     ]
    }
   ],
   "source": [
    "import sys\n",
    "\n",
    "import numpy as np\n",
    "\n",
    "import matplotlib.pyplot as plt\n",
    "from matplotlib.ticker import MultipleLocator\n",
    "from statsmodels.iolib.table import SimpleTable\n",
    "\n",
    "from astropy.table import Table, join, vstack, unique, Column\n",
    "from astropy.time import Time\n",
    "from psrcrf_tools import count_psr_nb\n",
    "import seaborn as sns"
   ]
  },
  {
   "cell_type": "markdown",
   "id": "20e7fd55",
   "metadata": {},
   "source": [
    "Define some functions."
   ]
  },
  {
   "cell_type": "code",
   "execution_count": 2,
   "id": "7cb68bf4",
   "metadata": {
    "ExecuteTime": {
     "end_time": "2022-08-20T03:05:48.907370Z",
     "start_time": "2022-08-20T03:05:48.903076Z"
    }
   },
   "outputs": [],
   "source": [
    "def divide_table(psr_table, msp_list):\n",
    "    \"\"\"Divide table into MSP and non-MSP\n",
    "    \"\"\"\n",
    "\n",
    "    # MSP table\n",
    "    temp_table1 = Table([])\n",
    "\n",
    "    # Non-MSP table\n",
    "    temp_table2 = Table(psr_table)\n",
    "\n",
    "    for msp_name in msp_list:\n",
    "\n",
    "        mask = ((psr_table[\"psr_name\"] == msp_name))\n",
    "        temp_table1 = vstack((temp_table1, psr_table[mask]))\n",
    "\n",
    "        mask = ((temp_table2[\"psr_name\"] != msp_name))\n",
    "        temp_table2 = temp_table2[mask]\n",
    "\n",
    "    msp_table = Table(temp_table1, masked=False)\n",
    "    nmp_table = Table(temp_table2, masked=False)\n",
    "\n",
    "    return msp_table, nmp_table"
   ]
  },
  {
   "cell_type": "markdown",
   "id": "904bc0dc",
   "metadata": {},
   "source": [
    "# 1 Gaia pulsar"
   ]
  },
  {
   "cell_type": "code",
   "execution_count": 3,
   "id": "edd9652d",
   "metadata": {
    "ExecuteTime": {
     "end_time": "2022-08-20T03:05:48.949855Z",
     "start_time": "2022-08-20T03:05:48.910594Z"
    }
   },
   "outputs": [],
   "source": [
    "# gaia_tab = Table.read(\"../data/edr3_psrcatv1.65.fits\")\n",
    "# gaia_tab = Table.read(\"../data/edr3_psrcatv1.66.fits\")\n",
    "gaia_tab = Table.read(\"../data/edr3_psrcatv1.67.fits\")"
   ]
  },
  {
   "cell_type": "markdown",
   "id": "8f1baaae",
   "metadata": {},
   "source": [
    "Find the list of MSPs in the *Gaia* list."
   ]
  },
  {
   "cell_type": "code",
   "execution_count": 4,
   "id": "4f06f1ed",
   "metadata": {
    "ExecuteTime": {
     "end_time": "2022-08-20T03:05:48.992304Z",
     "start_time": "2022-08-20T03:05:48.951213Z"
    }
   },
   "outputs": [],
   "source": [
    "edr3_antf_table = Table.read(\"../data/edr3_psrcatv1.67.fits\")\n",
    "edr3_antf_table.sort(\"name\")\n",
    "\n",
    "B_over_G = 3.2e19 * np.sqrt(edr3_antf_table[\"p0\"] * edr3_antf_table[\"p1\"])\n",
    "\n",
    "mask = (B_over_G <= 1e10)\n",
    "gaia_msp_list = edr3_antf_table[\"name\"][mask]\n",
    "\n",
    "gaia_msp_list = gaia_msp_list.tolist()"
   ]
  },
  {
   "cell_type": "markdown",
   "id": "15dca30e",
   "metadata": {},
   "source": [
    "Remove useless columns."
   ]
  },
  {
   "cell_type": "code",
   "execution_count": 5,
   "id": "ca4532dc",
   "metadata": {
    "ExecuteTime": {
     "end_time": "2022-08-20T03:05:48.998148Z",
     "start_time": "2022-08-20T03:05:48.994294Z"
    }
   },
   "outputs": [],
   "source": [
    "gaia_tab = gaia_tab['name', 'source_id', 'ra', 'ra_error', 'dec',\n",
    "                    'dec_error', 'parallax', 'parallax_error',\n",
    "                    'pmra', 'pmra_error', 'pmdec',\n",
    "                    'pmdec_error', ]\n",
    "\n",
    "gaia_tab.rename_columns([\n",
    "    \"name\", \"ra_error\", \"dec_error\", \"parallax\", \"parallax_error\",\n",
    "    \"pmra_error\", \"pmdec_error\"\n",
    "], [\n",
    "    \"psr_name\", \"ra_err\", \"dec_err\", \"plx\", \"plx_err\", \"pmra_err\", \"pmdec_err\"\n",
    "])"
   ]
  },
  {
   "cell_type": "markdown",
   "id": "4837e4ca",
   "metadata": {},
   "source": [
    "Add a column for the position epoch."
   ]
  },
  {
   "cell_type": "code",
   "execution_count": 6,
   "id": "d91ebe50",
   "metadata": {
    "ExecuteTime": {
     "end_time": "2022-08-20T03:05:49.003220Z",
     "start_time": "2022-08-20T03:05:49.000204Z"
    }
   },
   "outputs": [],
   "source": [
    "pos_epoch = 2016.0 * np.ones(len(gaia_tab))\n",
    "pos_epoch = Column(pos_epoch, name=\"jyr\")\n",
    "gaia_tab.add_column(pos_epoch)"
   ]
  },
  {
   "cell_type": "markdown",
   "id": "03a669e4",
   "metadata": {},
   "source": [
    "Divide the *Gaia* table into two subtables."
   ]
  },
  {
   "cell_type": "code",
   "execution_count": 7,
   "id": "1706560e",
   "metadata": {
    "ExecuteTime": {
     "end_time": "2022-08-20T03:05:49.131218Z",
     "start_time": "2022-08-20T03:05:49.005742Z"
    }
   },
   "outputs": [],
   "source": [
    "gaia_msp_tab, gaia_nmp_tab = divide_table(gaia_tab, gaia_msp_list)"
   ]
  },
  {
   "cell_type": "markdown",
   "id": "f4df0ffd",
   "metadata": {},
   "source": [
    "Check if all pulsars have *Gaia* proper motion."
   ]
  },
  {
   "cell_type": "code",
   "execution_count": 8,
   "id": "241d4683",
   "metadata": {
    "ExecuteTime": {
     "end_time": "2022-08-20T03:05:49.138242Z",
     "start_time": "2022-08-20T03:05:49.133664Z"
    }
   },
   "outputs": [
    {
     "name": "stdout",
     "output_type": "stream",
     "text": [
      "1 PSRs in the Gaia EDR3 have a 2p solution:\n",
      " psr_name \n",
      "----------\n",
      "J1546-5302\n"
     ]
    }
   ],
   "source": [
    "# Sources without PM estimates\n",
    "mask = (gaia_tab[\"pmra\"] > 1e10)\n",
    "nb_gaia_2sol = len(gaia_tab[mask])\n",
    "\n",
    "print(\"{} PSRs in the Gaia EDR3 have a 2p solution:\".format(nb_gaia_2sol))\n",
    "print(gaia_tab[mask][\"psr_name\"])"
   ]
  },
  {
   "cell_type": "markdown",
   "id": "37fdb750",
   "metadata": {},
   "source": [
    "Plot the position formal uncertainties in the *Gaia* EDR3."
   ]
  },
  {
   "cell_type": "code",
   "execution_count": 9,
   "id": "6b94bf96",
   "metadata": {
    "ExecuteTime": {
     "end_time": "2022-08-20T03:05:49.916839Z",
     "start_time": "2022-08-20T03:05:49.142729Z"
    }
   },
   "outputs": [
    {
     "data": {
      "text/plain": [
       "<Figure size 432x288 with 0 Axes>"
      ]
     },
     "metadata": {},
     "output_type": "display_data"
    },
    {
     "data": {
      "image/png": "[encoded data removed]",
      "text/plain": [
       "<Figure size 360x360 with 1 Axes>"
      ]
     },
     "metadata": {
      "needs_background": "light"
     },
     "output_type": "display_data"
    },
    {
     "data": {
      "image/png": "[encoded data removed]",
      "text/plain": [
       "<Figure size 360x360 with 1 Axes>"
      ]
     },
     "metadata": {
      "needs_background": "light"
     },
     "output_type": "display_data"
    }
   ],
   "source": [
    "# sns.set_theme(style=\"darkgrid\")\n",
    "df = gaia_tab.to_pandas()\n",
    "\n",
    "plt.clf()\n",
    "sns.displot(\n",
    "    df[\"ra_err\"],\n",
    "    binwidth=0.05, height=5, facet_kws=dict(margin_titles=True),\n",
    ")\n",
    "plt.xlim([0, 1.5])\n",
    "plt.tight_layout()\n",
    "\n",
    "sns.displot(\n",
    "    df[\"dec_err\"],\n",
    "    binwidth=0.05, height=5, facet_kws=dict(margin_titles=True),\n",
    ")\n",
    "plt.xlim([0, 1.5])\n",
    "plt.tight_layout()"
   ]
  },
  {
   "cell_type": "markdown",
   "id": "39908354",
   "metadata": {},
   "source": [
    "# 2 VLBI pulsars"
   ]
  },
  {
   "cell_type": "code",
   "execution_count": 10,
   "id": "9fee8d0f",
   "metadata": {
    "ExecuteTime": {
     "end_time": "2022-08-20T03:05:49.930780Z",
     "start_time": "2022-08-20T03:05:49.918683Z"
    }
   },
   "outputs": [],
   "source": [
    "vlbi_tab = Table.read(\"../data/psrpi.dat\", format=\"ascii\")\n",
    "\n",
    "vlbi_tab.sort(\"psr_name\")"
   ]
  },
  {
   "cell_type": "markdown",
   "id": "acd7a148",
   "metadata": {},
   "source": [
    "Transform the position epoch from the MJD format to Julian year."
   ]
  },
  {
   "cell_type": "code",
   "execution_count": 11,
   "id": "3a0243d1",
   "metadata": {
    "ExecuteTime": {
     "end_time": "2022-08-20T03:05:49.937169Z",
     "start_time": "2022-08-20T03:05:49.933260Z"
    }
   },
   "outputs": [],
   "source": [
    "jyr = Time(vlbi_tab[\"pos_epoch\"], format=\"mjd\")\n",
    "jyr = Column(jyr.jyear, name=\"jyr\")\n",
    "\n",
    "vlbi_tab.add_column(jyr)"
   ]
  },
  {
   "cell_type": "markdown",
   "id": "a806c4ee",
   "metadata": {},
   "source": [
    "Add the list of VLBI MSPs."
   ]
  },
  {
   "cell_type": "code",
   "execution_count": 12,
   "id": "be6c3284",
   "metadata": {
    "ExecuteTime": {
     "end_time": "2022-08-20T03:05:49.941499Z",
     "start_time": "2022-08-20T03:05:49.939159Z"
    }
   },
   "outputs": [],
   "source": [
    "vlbi_msp_list = [\"J1022+1001\", \"J2010-1323\",\n",
    "                 \"J2145-0750\", \"J2317+1439\", \"J1012+5307\", \"J1537+1155\"]"
   ]
  },
  {
   "cell_type": "markdown",
   "id": "af916c05",
   "metadata": {},
   "source": [
    "Divide the VLBI pulsar table into two sub-tables."
   ]
  },
  {
   "cell_type": "code",
   "execution_count": 13,
   "id": "e1752ec0",
   "metadata": {
    "ExecuteTime": {
     "end_time": "2022-08-20T03:05:49.986696Z",
     "start_time": "2022-08-20T03:05:49.943099Z"
    }
   },
   "outputs": [],
   "source": [
    "vlbi_msp_tab, vlbi_nmp_tab = divide_table(vlbi_tab, vlbi_msp_list)"
   ]
  },
  {
   "cell_type": "markdown",
   "id": "4afaf4fa",
   "metadata": {},
   "source": [
    "Plot the VLBI position formal uncertainties."
   ]
  },
  {
   "cell_type": "code",
   "execution_count": 14,
   "id": "60ef64de",
   "metadata": {
    "ExecuteTime": {
     "end_time": "2022-08-20T03:05:50.637190Z",
     "start_time": "2022-08-20T03:05:49.988457Z"
    }
   },
   "outputs": [
    {
     "data": {
      "text/plain": [
       "<Figure size 432x288 with 0 Axes>"
      ]
     },
     "metadata": {},
     "output_type": "display_data"
    },
    {
     "data": {
      "image/png": "[encoded data removed]",
      "text/plain": [
       "<Figure size 720x360 with 1 Axes>"
      ]
     },
     "metadata": {
      "needs_background": "light"
     },
     "output_type": "display_data"
    },
    {
     "data": {
      "image/png": "[encoded data removed]",
      "text/plain": [
       "<Figure size 720x360 with 1 Axes>"
      ]
     },
     "metadata": {
      "needs_background": "light"
     },
     "output_type": "display_data"
    }
   ],
   "source": [
    "df = vlbi_tab.to_pandas()\n",
    "\n",
    "plt.clf()\n",
    "sns.displot(\n",
    "    df[\"ra_err\"],\n",
    "    binwidth=0.1, aspect=2, height=5, facet_kws=dict(margin_titles=True),\n",
    ")\n",
    "plt.xlim([0, 5])\n",
    "plt.tight_layout()\n",
    "\n",
    "sns.displot(\n",
    "    df[\"dec_err\"],\n",
    "    binwidth=0.1, aspect=2, height=5, facet_kws=dict(margin_titles=True),\n",
    ")\n",
    "plt.xlim([0, 5])\n",
    "plt.tight_layout()"
   ]
  },
  {
   "cell_type": "markdown",
   "id": "5c7affed",
   "metadata": {},
   "source": [
    "# 3 Timing pulsars"
   ]
  },
  {
   "cell_type": "code",
   "execution_count": 15,
   "id": "641d4713",
   "metadata": {
    "ExecuteTime": {
     "end_time": "2022-08-20T03:05:50.658226Z",
     "start_time": "2022-08-20T03:05:50.638944Z"
    }
   },
   "outputs": [
    {
     "name": "stdout",
     "output_type": "stream",
     "text": [
      "There are 33 Gaia pulsars having 70 positional measurements.\n"
     ]
    }
   ],
   "source": [
    "timing_gaia = Table.read(\"../data/timing_edr3.fits\",)\n",
    "timing_gaia.sort(\"psr_name\")\n",
    "\n",
    "nb_psr = len(timing_gaia.group_by(\"psr_name\").groups)\n",
    "nb_obs = len(timing_gaia)\n",
    "\n",
    "print(\"There are {} Gaia pulsars having {} positional measurements.\".format(\n",
    "    nb_psr, nb_obs))"
   ]
  },
  {
   "cell_type": "code",
   "execution_count": 16,
   "id": "7f1b13e1",
   "metadata": {
    "ExecuteTime": {
     "end_time": "2022-08-20T03:05:50.678970Z",
     "start_time": "2022-08-20T03:05:50.660439Z"
    }
   },
   "outputs": [
    {
     "name": "stdout",
     "output_type": "stream",
     "text": [
      "There are 62 vlbi pulsars having 221 positional measurements.\n"
     ]
    }
   ],
   "source": [
    "timing_vlbi = Table.read(\"../data/timing_vlbi.fits\",)\n",
    "timing_vlbi.sort(\"psr_name\")\n",
    "\n",
    "nb_psr = len(timing_vlbi.group_by(\"psr_name\").groups)\n",
    "nb_obs = len(timing_vlbi)\n",
    "\n",
    "print(\"There are {} vlbi pulsars having {} positional measurements.\".format(\n",
    "    nb_psr, nb_obs))"
   ]
  },
  {
   "cell_type": "markdown",
   "id": "95579c5a",
   "metadata": {},
   "source": [
    "Find the common pulsars between the Gaia and VLBI pulsar samples.\n",
    "\n",
    "And I got one."
   ]
  },
  {
   "cell_type": "code",
   "execution_count": 17,
   "id": "62686f27",
   "metadata": {
    "ExecuteTime": {
     "end_time": "2022-08-20T03:05:50.689156Z",
     "start_time": "2022-08-20T03:05:50.680963Z"
    }
   },
   "outputs": [
    {
     "data": {
      "text/html": [
       "<div><i>Table length=2</i>\n",
       "<table id=\"table140163460935584\" class=\"table-striped table-bordered table-condensed\">\n",
       "<thead><tr><th>psr_name</th></tr></thead>\n",
       "<thead><tr><th>str10</th></tr></thead>\n",
       "<tr><td>J0614+2229</td></tr>\n",
       "<tr><td>J1012+5307</td></tr>\n",
       "</table></div>"
      ],
      "text/plain": [
       "<Table length=2>\n",
       " psr_name \n",
       "  str10   \n",
       "----------\n",
       "J0614+2229\n",
       "J1012+5307"
      ]
     },
     "execution_count": 17,
     "metadata": {},
     "output_type": "execute_result"
    }
   ],
   "source": [
    "gaia_psr = [namei for namei in timing_gaia[\"psr_name\"]]\n",
    "vlbi_psr = [namei for namei in timing_vlbi[\"psr_name\"]]\n",
    "\n",
    "gaia_psr = Table((np.unique(gaia_psr),), names=[\"psr_name\"])\n",
    "vlbi_psr = Table((np.unique(vlbi_psr),), names=[\"psr_name\"])\n",
    "\n",
    "join(gaia_psr, vlbi_psr)"
   ]
  },
  {
   "cell_type": "code",
   "execution_count": 18,
   "id": "6fd85d74",
   "metadata": {
    "ExecuteTime": {
     "end_time": "2022-08-20T03:05:50.706465Z",
     "start_time": "2022-08-20T03:05:50.690932Z"
    }
   },
   "outputs": [],
   "source": [
    "timing_tab = vstack((timing_gaia, timing_vlbi))\n",
    "timing_tab.sort(\"pos_epoch\")\n",
    "\n",
    "timing_tab = unique(timing_tab)"
   ]
  },
  {
   "cell_type": "code",
   "execution_count": 19,
   "id": "b5901806",
   "metadata": {
    "ExecuteTime": {
     "end_time": "2022-08-20T03:05:50.711268Z",
     "start_time": "2022-08-20T03:05:50.708157Z"
    }
   },
   "outputs": [
    {
     "name": "stdout",
     "output_type": "stream",
     "text": [
      "There are 93 pulsars with 281 measurements.\n"
     ]
    }
   ],
   "source": [
    "count_psr_nb(timing_tab)"
   ]
  },
  {
   "cell_type": "markdown",
   "id": "55869b2f",
   "metadata": {},
   "source": [
    "Convert the positional epoch from MJD to jyear."
   ]
  },
  {
   "cell_type": "code",
   "execution_count": 20,
   "id": "c1eacf66",
   "metadata": {
    "ExecuteTime": {
     "end_time": "2022-08-20T03:05:50.717849Z",
     "start_time": "2022-08-20T03:05:50.713367Z"
    }
   },
   "outputs": [],
   "source": [
    "jyr = Time(timing_tab[\"pos_epoch\"], format=\"mjd\")\n",
    "jyr = Column(jyr.jyear, name=\"jyr\")\n",
    "\n",
    "timing_tab.add_column(jyr)"
   ]
  },
  {
   "cell_type": "markdown",
   "id": "a697d4a9",
   "metadata": {},
   "source": [
    "MSP list for all data."
   ]
  },
  {
   "cell_type": "code",
   "execution_count": 21,
   "id": "02a1aa64",
   "metadata": {
    "ExecuteTime": {
     "end_time": "2022-08-20T03:05:50.722226Z",
     "start_time": "2022-08-20T03:05:50.719352Z"
    }
   },
   "outputs": [],
   "source": [
    "msp_list = np.unique(vlbi_msp_list + gaia_msp_list)"
   ]
  },
  {
   "cell_type": "markdown",
   "id": "710c1ea0",
   "metadata": {},
   "source": [
    "Various versions of DE ephmeris."
   ]
  },
  {
   "cell_type": "code",
   "execution_count": 22,
   "id": "3fc4cf08",
   "metadata": {
    "ExecuteTime": {
     "end_time": "2022-08-20T03:05:50.729893Z",
     "start_time": "2022-08-20T03:05:50.724526Z"
    }
   },
   "outputs": [
    {
     "data": {
      "text/plain": [
       "array(['DE200', 'DE405', 'DE421', 'DE430', 'DE436', 'DE4??'], dtype='<U5')"
      ]
     },
     "execution_count": 22,
     "metadata": {},
     "output_type": "execute_result"
    }
   ],
   "source": [
    "eph_list = [ephi for ephi in timing_tab[\"eph\"]]\n",
    "np.unique(eph_list)"
   ]
  },
  {
   "cell_type": "markdown",
   "id": "8ad6983d",
   "metadata": {},
   "source": [
    "Divided the table according to the DE ephemerides."
   ]
  },
  {
   "cell_type": "code",
   "execution_count": 23,
   "id": "ab94dfe6",
   "metadata": {
    "ExecuteTime": {
     "end_time": "2022-08-20T03:05:50.738888Z",
     "start_time": "2022-08-20T03:05:50.732592Z"
    }
   },
   "outputs": [],
   "source": [
    "tab200 = timing_tab[timing_tab[\"eph\"] == \"DE200\"]\n",
    "tab405 = timing_tab[timing_tab[\"eph\"] == \"DE405\"]\n",
    "tab421 = timing_tab[timing_tab[\"eph\"] == \"DE421\"]\n",
    "tab430 = timing_tab[timing_tab[\"eph\"] == \"DE430\"]\n",
    "tab436 = timing_tab[timing_tab[\"eph\"] == \"DE436\"]\n",
    "tabels = timing_tab[timing_tab[\"eph\"] == \"DE4??\"]"
   ]
  },
  {
   "cell_type": "markdown",
   "id": "d9bfd5d0",
   "metadata": {},
   "source": [
    "Then divide all DE ephemerides tables into sub-tables."
   ]
  },
  {
   "cell_type": "code",
   "execution_count": 24,
   "id": "c77a28dc",
   "metadata": {
    "ExecuteTime": {
     "end_time": "2022-08-20T03:05:51.949152Z",
     "start_time": "2022-08-20T03:05:50.741100Z"
    }
   },
   "outputs": [],
   "source": [
    "msp_tab200, nmp_tab200 = divide_table(tab200, msp_list)\n",
    "\n",
    "msp_tab405, nmp_tab405 = divide_table(tab405, msp_list)\n",
    "\n",
    "msp_tab421, nmp_tab421 = divide_table(tab421, msp_list)\n",
    "\n",
    "msp_tab430, nmp_tab430 = divide_table(tab430, msp_list)\n",
    "\n",
    "msp_tab436, nmp_tab436 = divide_table(tab436, msp_list)\n",
    "\n",
    "msp_tabels, nmp_tabels = divide_table(tabels, msp_list)"
   ]
  },
  {
   "cell_type": "markdown",
   "id": "bd6ef1a2",
   "metadata": {},
   "source": [
    "Plot the formal uncertainty for timing positions collected from literature."
   ]
  },
  {
   "cell_type": "code",
   "execution_count": 25,
   "id": "9b3fc6c6",
   "metadata": {
    "ExecuteTime": {
     "end_time": "2022-08-20T03:05:53.447608Z",
     "start_time": "2022-08-20T03:05:51.952137Z"
    }
   },
   "outputs": [
    {
     "name": "stderr",
     "output_type": "stream",
     "text": [
      "The PostScript backend does not support transparency; partially transparent artists will be rendered opaque.\n"
     ]
    },
    {
     "data": {
      "image/png": "[encoded data removed]",
      "text/plain": [
       "<Figure size 576x576 with 2 Axes>"
      ]
     },
     "metadata": {
      "needs_background": "light"
     },
     "output_type": "display_data"
    }
   ],
   "source": [
    "fig, (ax0, ax1) = plt.subplots(figsize=(8, 8),\n",
    "                               nrows=2,\n",
    "                               sharex=True,\n",
    "                               sharey=True)\n",
    "\n",
    "ax0.plot(tab200[\"jyr\"],\n",
    "         tab200[\"ra_err\"],\n",
    "         \"^\",\n",
    "         ms=5,\n",
    "         label=\"DE200\",\n",
    "         mfc=\"none\",\n",
    "         mec=\"blue\",\n",
    "         mew=0.5)\n",
    "ax0.plot(tab405[\"jyr\"],\n",
    "         tab405[\"ra_err\"],\n",
    "         \"x\",\n",
    "         ms=5,\n",
    "         label=\"DE405\",\n",
    "         mfc=\"none\",\n",
    "         mec=\"g\",\n",
    "         mew=0.5)\n",
    "ax0.plot(tab421[\"jyr\"],\n",
    "         tab421[\"ra_err\"],\n",
    "         \"v\",\n",
    "         ms=5,\n",
    "         label=\"DE421\",\n",
    "         mfc=\"none\",\n",
    "         mec=\"purple\",\n",
    "         mew=0.5)\n",
    "ax0.plot(tab430[\"jyr\"],\n",
    "         tab430[\"ra_err\"],\n",
    "         \"s\",\n",
    "         ms=5,\n",
    "         label=\"DE430\",\n",
    "         mfc=\"none\",\n",
    "         mec=\"y\",\n",
    "         mew=0.5)\n",
    "ax0.plot(tab436[\"jyr\"],\n",
    "         tab436[\"ra_err\"],\n",
    "         \"o\",\n",
    "         ms=5,\n",
    "         label=\"DE436\",\n",
    "         mfc=\"none\",\n",
    "         mec=\"r\",\n",
    "         mew=0.5)\n",
    "ax0.plot(tabels[\"jyr\"], tabels[\"ra_err\"], \"k.\", ms=5, label=\"Else\")\n",
    "\n",
    "ax1.plot(tab200[\"jyr\"],\n",
    "         tab200[\"dec_err\"],\n",
    "         \"^\",\n",
    "         ms=5,\n",
    "         label=\"DE200\",\n",
    "         mfc=\"none\",\n",
    "         mec=\"blue\",\n",
    "         mew=0.5)\n",
    "ax1.plot(tab405[\"jyr\"],\n",
    "         tab405[\"dec_err\"],\n",
    "         \"x\",\n",
    "         ms=5,\n",
    "         label=\"DE405\",\n",
    "         mfc=\"none\",\n",
    "         mec=\"g\",\n",
    "         mew=0.5)\n",
    "ax1.plot(tab421[\"jyr\"],\n",
    "         tab421[\"dec_err\"],\n",
    "         \"v\",\n",
    "         ms=5,\n",
    "         label=\"DE421\",\n",
    "         mfc=\"none\",\n",
    "         mec=\"purple\",\n",
    "         mew=0.5)\n",
    "ax1.plot(tab430[\"jyr\"],\n",
    "         tab430[\"dec_err\"],\n",
    "         \"s\",\n",
    "         ms=5,\n",
    "         label=\"DE430\",\n",
    "         mfc=\"none\",\n",
    "         mec=\"y\",\n",
    "         mew=0.5)\n",
    "ax1.plot(tab436[\"jyr\"],\n",
    "         tab436[\"dec_err\"],\n",
    "         \"o\",\n",
    "         ms=5,\n",
    "         label=\"DE436\",\n",
    "         mfc=\"none\",\n",
    "         mec=\"r\",\n",
    "         mew=0.5)\n",
    "ax1.plot(tabels[\"jyr\"], tabels[\"dec_err\"], \"k.\", ms=5, label=\"Else\")\n",
    "\n",
    "ax0.set_yscale(\"log\")\n",
    "ax1.set_yscale(\"log\")\n",
    "\n",
    "ax1.xaxis.set_minor_locator(MultipleLocator(1))\n",
    "\n",
    "# ax1.set_xlim([1984, 2020])\n",
    "ax1.set_xlabel(\"Position epoch (Julian year)\", fontsize=15)\n",
    "\n",
    "ax0.set_ylabel(\"$\\sigma_{\\\\alpha^*}$ (mas)\", fontsize=15)\n",
    "ax1.set_ylabel(\"$\\sigma_{\\delta}$ (mas)\", fontsize=15)\n",
    "\n",
    "ax0.legend()\n",
    "ax1.legend()\n",
    "\n",
    "plt.tight_layout()\n",
    "plt.savefig(\"../plots/timing-err.eps\")"
   ]
  },
  {
   "cell_type": "code",
   "execution_count": 26,
   "id": "f3d251f8",
   "metadata": {
    "ExecuteTime": {
     "end_time": "2022-08-20T03:05:53.454052Z",
     "start_time": "2022-08-20T03:05:53.449682Z"
    }
   },
   "outputs": [],
   "source": [
    "def find_med_err(tab):\n",
    "\n",
    "    nb_obs = len(tab)\n",
    "\n",
    "    if nb_obs:\n",
    "\n",
    "        nb_psr = len(tab.group_by(\"psr_name\").groups)\n",
    "\n",
    "        pos_epoch = np.median(tab[\"jyr\"])\n",
    "\n",
    "        ra_err = np.median(tab[\"ra_err\"])\n",
    "        dec_err = np.median(tab[\"dec_err\"])\n",
    "\n",
    "        pos_errs = np.sqrt(tab[\"ra_err\"]**2 + tab[\"dec_err\"]**2)\n",
    "        pos_err = np.median(pos_errs)\n",
    "\n",
    "        mask = (tab[\"pmra_err\"] != 0)\n",
    "        pmra_err = np.median(tab[mask][\"pmra_err\"])\n",
    "\n",
    "        mask = (tab[\"pmdec_err\"] != 0)\n",
    "        pmdec_err = np.median(tab[mask][\"pmdec_err\"])\n",
    "\n",
    "        mask = (tab[\"plx_err\"] != 0)\n",
    "        plx_err = np.median(tab[mask][\"plx_err\"])\n",
    "    else:\n",
    "        return 0, 0, 0, 0, 0, 0, 0, 0, 0\n",
    "\n",
    "    return nb_psr, nb_obs, pos_epoch, ra_err, dec_err, pos_err, plx_err, pmra_err, pmdec_err"
   ]
  },
  {
   "cell_type": "code",
   "execution_count": 27,
   "id": "ba1b33af",
   "metadata": {
    "ExecuteTime": {
     "end_time": "2022-08-20T03:05:53.617457Z",
     "start_time": "2022-08-20T03:05:53.460545Z"
    }
   },
   "outputs": [
    {
     "name": "stdout",
     "output_type": "stream",
     "text": [
      "          Positional formal uncertainty for timing and VLBI positions (mas)           \n",
      "======================================================================================\n",
      "            Nb.PSR Nb.Obs PosEpoch  RA_err dec_err pos_err  plx_err pmRA_err pmDec_err\n",
      "--------------------------------------------------------------------------------------\n",
      "Gaia            49     49  2016.00   0.157   0.178    0.219   0.234    0.218     0.234\n",
      "Gaia (MSP)      23     23  2016.00   0.176   0.187    0.267   0.254    0.241     0.238\n",
      "Gaia (NMP)      26     26  2016.00   0.143   0.139    0.199   0.152    0.201     0.174\n",
      "VLBI            62     62  2012.20   1.440   1.000    1.764   0.060    0.090     0.120\n",
      "VLBI (MSP)       6      6  2012.20   1.455   1.500    2.124   0.085    0.070     0.115\n",
      "VLBI (NMP)      56     56  2012.20   1.431   1.000    1.761   0.055    0.090     0.120\n",
      "DE200           75    142  1994.06  74.891 120.000  172.765   5.000    8.000    13.000\n",
      "DE200 (MSP)     10     20  1996.83   2.764   4.500    5.008   5.000    0.700     1.400\n",
      "DE200 (NMP)     65    122  1993.53  99.402 165.000  192.434     nan   15.000    22.000\n",
      "DE405           23     26  2004.01  51.697  90.000  126.747   0.500    0.150     0.300\n",
      "DE405 (MSP)     10     13  2004.26   2.472   3.000    4.702   0.500    0.150     0.300\n",
      "DE405 (NMP)     13     13  2002.17 748.757 200.000 1074.992     nan      nan       nan\n",
      "DE421           35     54  2009.46   1.540   3.000    3.807   0.197    0.194     0.470\n",
      "DE421 (MSP)     15     32  2009.46   0.160   0.511    0.610   0.197    0.075     0.200\n",
      "DE421 (NMP)     20     22  2010.42  40.446  65.000   76.350     nan    9.000    18.500\n",
      "DE430           26     41  2016.58  80.226 200.000  225.886     nan    2.500     3.500\n",
      "DE430 (MSP)      3      4  2016.58   7.446  20.318   21.645     nan    0.160     0.405\n",
      "DE430 (NMP)     23     37  2016.58  86.235 200.000  236.993     nan    3.000     4.500\n",
      "DE436            8     16  2009.86   0.090   0.200    0.225   0.133    0.028     0.070\n",
      "DE436 (MSP)      8     16  2009.86   0.090   0.200    0.225   0.133    0.028     0.070\n",
      "DE436 (NMP)      0      0     0.00   0.000   0.000    0.000   0.000    0.000     0.000\n",
      "else             2      2  2009.89 232.893 410.000  472.219     nan      nan       nan\n",
      "--------------------------------------------------------------------------------------\n"
     ]
    },
    {
     "name": "stderr",
     "output_type": "stream",
     "text": [
      "/Users/Neo/Scisoft/miniconda3/lib/python3.9/site-packages/numpy/core/fromnumeric.py:758: UserWarning: Warning: 'partition' will ignore the 'mask' of the MaskedColumn.\n",
      "  a.partition(kth, axis=axis, kind=kind, order=order)\n",
      "/Users/Neo/Scisoft/miniconda3/lib/python3.9/site-packages/numpy/core/fromnumeric.py:3430: RuntimeWarning: Mean of empty slice.\n",
      "  return mean(axis=axis, dtype=dtype, out=out, **kwargs)\n",
      "/Users/Neo/Scisoft/miniconda3/lib/python3.9/site-packages/numpy/core/_methods.py:190: RuntimeWarning: invalid value encountered in double_scalars\n",
      "  ret = ret.dtype.type(ret / rcount)\n",
      "/var/folders/cx/w871dcfn6h18zc_07dj7mxgm0000gn/T/ipykernel_25250/1123719569.py:11: UserWarning: Warning: converting a masked element to nan.\n",
      "  sol_err[i, :] = find_med_err(tabs[i])\n"
     ]
    }
   ],
   "source": [
    "sol_err = np.zeros((22, 9))\n",
    "\n",
    "tabs = [\n",
    "    gaia_tab, gaia_msp_tab, gaia_nmp_tab, vlbi_tab, vlbi_msp_tab, vlbi_nmp_tab,\n",
    "    tab200, msp_tab200, nmp_tab200, tab405, msp_tab405, nmp_tab405, tab421,\n",
    "    msp_tab421, nmp_tab421, tab430, msp_tab430, nmp_tab430, tab436, msp_tab436,\n",
    "    nmp_tab436, tabels\n",
    "]\n",
    "\n",
    "for i in range(len(sol_err)):\n",
    "    sol_err[i, :] = find_med_err(tabs[i])\n",
    "\n",
    "myheaders = [\n",
    "    \"Nb.PSR\", \"Nb.Obs\", \"PosEpoch\", \"RA_err\", \"dec_err\", \"pos_err\", \"plx_err\", \"pmRA_err\",\n",
    "    \"pmDec_err\"\n",
    "]\n",
    "mystubs = [\n",
    "    \"Gaia\", \"Gaia (MSP)\", \"Gaia (NMP)\", \"VLBI\", \"VLBI (MSP)\", \"VLBI (NMP)\",\n",
    "    \"DE200\", \"DE200 (MSP)\", \"DE200 (NMP)\", \"DE405\", \"DE405 (MSP)\",\n",
    "    \"DE405 (NMP)\", \"DE421\", \"DE421 (MSP)\", \"DE421 (NMP)\", \"DE430\",\n",
    "    \"DE430 (MSP)\", \"DE430 (NMP)\", \"DE436\", \"DE436 (MSP)\", \"DE436 (NMP)\", \"else\"\n",
    "]\n",
    "\n",
    "tbl = SimpleTable(\n",
    "    sol_err,\n",
    "    myheaders,\n",
    "    mystubs,\n",
    "    title=\"Positional formal uncertainty for timing and VLBI positions (mas)\",\n",
    "    data_fmts=[\n",
    "        \"%2d\",\n",
    "        \"%3d\",\n",
    "        \"%7.2f\",\n",
    "        \"%6.3f\",\n",
    "        \"%6.3f\",\n",
    "        \"%6.3f\",\n",
    "        \"%6.3f\",\n",
    "        \"%6.3f\",\n",
    "        \"%6.3f\",\n",
    "    ])\n",
    "\n",
    "print(tbl)"
   ]
  },
  {
   "cell_type": "markdown",
   "id": "e9afe6f2",
   "metadata": {},
   "source": [
    "Generate a citation list to be included in the table."
   ]
  },
  {
   "cell_type": "code",
   "execution_count": 28,
   "id": "2828ada5",
   "metadata": {
    "ExecuteTime": {
     "end_time": "2022-08-20T03:05:53.630926Z",
     "start_time": "2022-08-20T03:05:53.619852Z"
    }
   },
   "outputs": [],
   "source": [
    "tab_content1 = \"\"\"\n",
    "ref\ttitle\tbibcode\n",
    "smd93\tTiming parameters for 59 pulsars.\t1993MNRAS.262..449S\n",
    "bhl+94\tDiscovery of Three Binary Millisecond Pulsars\t1994ApJ...425L..41B\n",
    "ant94\tTiming Behavior of 96 Radio Pulsars\t1994ApJ...422..671A\n",
    "jml+95\tTiming measurements for 45 pulsars.\t1995A&A...293..795J\n",
    "dgm+96\tThe New Northern Cross Pulsar System: Four Years of Pulsar Timing Observations\t1996ApJS..106..611D\n",
    "dsb+98\tThe Parkes Southern Pulsar Survey - III. Timing of long-period pulsars\t1998MNRAS.297...28D\n",
    "idb98\tNew timing parameters and positions for 16 southern radio pulsars.\t1998MNRAS.295..397I\n",
    "tsb+99\tMillisecond pulsar velocities\t1999MNRAS.307..925T\n",
    "wmz+01\tPulsar timing at Urumqi Astronomical Observatory: observing system and results\t2001MNRAS.328..855W\n",
    "mlc+01\tThe Parkes multi-beam pulsar survey - I. Observing and data analysis systems, discovery and timing of 100 pulsars\t2001MNRAS.328...17M\n",
    "kmb+03\tThe Parkes Multibeam Pulsar Survey - III. Young pulsars and the discovery and timing of 200 pulsars\t2003MNRAS.342.1299K\n",
    "hlk+04\tLong-term timing observations of 374 pulsars.\t2004MNRAS.353.1311H\n",
    "hfs+04\tThe Parkes multibeam pulsar survey - IV. Discovery of 180 pulsars and parameters for 281 previously known pulsars\t2004MNRAS.352.1439H\n",
    "zhw+05\tTiming measurements and proper motions of 74 pulsars using the Nanshan radio telescope.\t2005MNRAS.362.1189Z\n",
    "lfl+06\tThe Parkes Multibeam Pulsar Survey - VI. Discovery and timing of 142 pulsars and a Galactic population analysis.\t2006MNRAS.372..777L\n",
    "hbo06\tHigh-precision baseband timing of 15 millisecond pulsars\t2006MNRAS.369.1502H\n",
    "mfl+06\tDiscovery of 14 Radio Pulsars in a Survey of the Magellanic Clouds\t2006ApJ...649..235M\n",
    "vbc+09\tTiming stability of millisecond pulsars and prospects for gravitational-wave detection\t2009MNRAS.400..951V\n",
    "rkp+11\tPrecise γ-ray Timing and Radio Observations of 17 Fermi γ-ray Pulsars\t2011ApJS..194...17R\n",
    "dfg+13\tLimits on the Stochastic Gravitational Wave Background from the North American Nanohertz Observatory for Gravitational Waves\t2013ApJ...762...94D\n",
    "slr+14\tThe Green Bank Northern Celestial Cap Pulsar Survey. I. Survey Description, Data Analysis, and Initial Results\t2014ApJ...791...67S\n",
    "lwy+16\tProper motions of 15 pulsars: a comparison between Bayesian and frequentist algorithms.\t2016MNRAS.460.4011L\n",
    "dcl+16\tHigh-precision timing of 42 millisecond pulsars with the European Pulsar Timing Array\t2016MNRAS.458.3341D\n",
    "mnf+16\tThe NANOGrav Nine-year Data Set: Astrometric Measurements of 37 Millisecond Pulsars\t2016ApJ...818...92M\n",
    "vlh+16\tThe International Pulsar Timing Array: First data release\t2016MNRAS.458.1267V\n",
    "rhc+16\tTiming analysis for 20 millisecond pulsars in the Parkes Pulsar Timing Array\t2016MNRAS.455.1751R\n",
    "abb+18\tThe NANOGrav 11-year Data Set: High-precision Timing of 45 Millisecond Pulsars\t2018ApJS..235...37A\n",
    "jbs+19\tThe UTMOST pulsar timing programme I: Overview and first results\t2019MNRAS.484.3691J\n",
    "psj+19\tTiming of young radio pulsars - I. Timing noise, periodic modulation, and proper motion\t2019MNRAS.489.3810P\n",
    "pdd+19\tThe International Pulsar Timing Array: second data release\t2019MNRAS.490.4666P\n",
    "lbs+20\tThe UTMOST pulsar timing programme - II. Timing noise across the pulsar population\t2020MNRAS.494..228L\n",
    "dym+20\tResults of 12 yr of Pulsar Timing at Nanshan. I.\t2020ApJ...896..140D\n",
    "lys+20\tNew timing measurement results of 16 pulsars\t2020PASJ...72...70L\n",
    "rsc+21\tThe Parkes pulsar timing array second data release: timing analysis\t2021MNRAS.507.2137R\n",
    "psf+21\tStudy of 72 pulsars discovered in the PALFA survey: Timing analysis, glitch activity, emission variability, and a pulsar in an eccentric binary\t2021arXiv210802320P\n",
    "\"\"\"\n",
    "\n",
    "tab_content2 = \"\"\"\n",
    "ref \tTitle \tbibcode \tComment\n",
    "aft94\tOrbital Variability in the Eclipsing Pulsar Binary PSR B1957+20 \t1994ApJ...426L..85A \t1 PSR\n",
    "cst96\tPrinceton-Arecibo Declination-Strip Survey for Millisecond Pulsars. I. \t1996ApJ...469..819C \t2 PSRs\n",
    "kmb+96\tEvidence from a precessing pulsar orbit for a neutron-star birth kick \t1996Natur.381..584K \t1 PSRs\n",
    "bbm+97\tTiming Measurements and Their Implications for Four Binary Millisecond Pulsars \t1997MNRAS.286..463B \t4 PSRs\n",
    "sac+98\tMeasurement of Relativistic Orbital Decay in the PSR B1534+12 Binary System \t1998ApJ...505..352S \t1 PSR\n",
    "kxc+99\tProfile Instabilities of the Millisecond Pulsar PSR J1022+1001 \t1999ApJ...520..324K \tecliptic coordinate (Not used)\n",
    "wdk+00\tTiming Observations of Four Millisecond Pulsars with the Arecibo and Effelsberg Radio Telescopes \t2000ApJ...528..907W \t4 PSRs\n",
    "clm+01\tDiscovery of Five Binary Radio Pulsars \t2001ApJ...548L.187C \t5 PSRs\n",
    "lcw+01\tPrecision timing measurements of PSR J1012+5307 \t2001MNRAS.326..274L \t1 PSR\n",
    "eb01\tRecycled Pulsars Discovered at High Radio Frequency \t2001ApJ...553..801E \t8 PSRs\n",
    "stt+02\tStudies of the Relativistic Binary Pulsar PSR B1534+12. I. Timing Analysis \t2002ApJ...581..501S \t1 PSR\n",
    "kwh03\tGeodetic Precession and Timing of the Relativistic Binary Pulsars PSR B1534+12 and PSR B1913+16 \t2003ApJ...589..495K \t1 PSR\n",
    "lkd+04\tThe parallax, mass and age of the PSR J2145-0750 binary system \t2004A&A...426..631L \tPM in ecliptic coordinate (transformed)\n",
    "jml+09\tDiscovery of three new pulsars in a 610-MHz pulsar survey with the GMRT. \t2009MNRAS.398..943J \tNo common PSR\n",
    "jsb+09\tDiscovery and timing of the first 8gr8 Cygnus survey pulsars \t2009A&A...498..223J \t3 PSRs\n",
    "lwj+09\tGeneric tests of the existence of the gravitational dipole radiation and the variation of the gravitational constant \t2009MNRAS.400..805L \t1 PSRs\n",
    "gsf+11\tHigh-precision Timing of Five Millisecond Pulsars: Space Velocities, Binary Evolution, and Equivalence Principles \t2011ApJ...743..102G \t5 PSRs\n",
    "pgf+12\tBinary Millisecond Pulsar Discovery via Gamma-Ray Pulsations \t2012Sci...338.1314P \t1 PSR\n",
    "afw+13\tA Massive Pulsar in a Compact Relativistic Binary \t2013Sci...340..448A \t1 PSR\n",
    "cls+13\tPSR J1723-2837: An Eclipsing Binary Radio Millisecond Pulsar \t2013ApJ...776...20C \t1 PSR\n",
    "fst14\tA Comprehensive Study of Relativistic Gravity Using PSR B1534+12 \t2014ApJ...787...82F \t1 PSR\n",
    "sjm14\tThe kinematics and orbital dynamics of the PSR B1259-63/LS 2883 system from 23 yr of pulsar timing \t2014MNRAS.437.3255S \t1 PSR\n",
    "btb+15\tThe High Time Resolution Universe survey - XI. Discovery of five recycled pulsars and the optical detectability of survey white dwarf companions \t2015MNRAS.446.4019B \tUnknown DE version, assumed DE421\n",
    "rbb+15\tDiscovery of Psr J1227-4853: A Transition from a Low-mass X-Ray Binary to a Redback Millisecond Pulsar \t2015ApJ...800L..12R \t1 PSR\n",
    "sab+16\tTiming of Five PALFA-discovered Millisecond Pulsars \t2016ApJ...833..192S \t5 PSRs\n",
    "hnl+17\tMultiwavelength monitoring and X-ray brightening of Be X-ray binary PSR J2032+4127/MT91 213 on its approach to periastron \t2017MNRAS.464.1211H \t1 PSR\n",
    "pkr+19\tEight Millisecond Pulsars Discovered in the Arecibo PALFA Survey \t2019ApJ...886..148P \t8 PSRs\n",
    "mpb+20\tNuSTAR and Parkes observations of the transitional millisecond pulsar binary XSS J12270-4859 in the rotation-powered state \t2020MNRAS.492.5607D \t1 PSR\n",
    "drc+21\tTiming of Eight Binary Millisecond Pulsars Found with Arecibo in Fermi-LAT Unidentified Sources \t2021ApJ...909....6D \t8 PSRs\n",
    "\"\"\"\n",
    "\n",
    "tab1 = Table.read(tab_content1, format=\"ascii\")\n",
    "tab2 = Table.read(tab_content2, format=\"ascii\")"
   ]
  },
  {
   "cell_type": "code",
   "execution_count": 29,
   "id": "fbba0c0c",
   "metadata": {
    "ExecuteTime": {
     "end_time": "2022-08-20T03:05:53.635648Z",
     "start_time": "2022-08-20T03:05:53.632278Z"
    }
   },
   "outputs": [],
   "source": [
    "ref_dict = {}\n",
    "\n",
    "for i in range(len(tab1)):\n",
    "    ref_dict[tab1[\"ref\"][i]] = tab1[\"bibcode\"][i]\n",
    "\n",
    "for i in range(len(tab2)):\n",
    "    ref_dict[tab2[\"ref\"][i]] = tab2[\"bibcode\"][i]"
   ]
  },
  {
   "cell_type": "code",
   "execution_count": 30,
   "id": "825c70c9",
   "metadata": {
    "ExecuteTime": {
     "end_time": "2022-08-20T03:05:53.642831Z",
     "start_time": "2022-08-20T03:05:53.637785Z"
    }
   },
   "outputs": [],
   "source": [
    "de200_tab = timing_tab[timing_tab[\"eph\"] == \"DE200\"]\n",
    "de405_tab = timing_tab[timing_tab[\"eph\"] == \"DE405\"]\n",
    "de421_tab = timing_tab[timing_tab[\"eph\"] == \"DE421\"]\n",
    "de430_tab = timing_tab[timing_tab[\"eph\"] == \"DE430\"]\n",
    "de436_tab = timing_tab[timing_tab[\"eph\"] == \"DE436\"]"
   ]
  },
  {
   "cell_type": "code",
   "execution_count": 31,
   "id": "cb7ee6cd",
   "metadata": {
    "ExecuteTime": {
     "end_time": "2022-08-20T03:05:53.649372Z",
     "start_time": "2022-08-20T03:05:53.644217Z"
    }
   },
   "outputs": [],
   "source": [
    "def print_ref_info(sub_tab, ref_num, ref_list, ref_dict):\n",
    "\n",
    "    sub_ref_num = []\n",
    "#     sub_ref_list = []\n",
    "\n",
    "    for i in range(len(sub_tab)):\n",
    "        refi = sub_tab[\"ref\"][i]\n",
    "\n",
    "        if refi in ref_list:\n",
    "            sub_ref_num.append(ref_list.index(refi)+1)\n",
    "            continue\n",
    "\n",
    "        ref_num += 1\n",
    "        sub_ref_num.append(ref_num)\n",
    "        ref_list.append(refi)\n",
    "\n",
    "        if refi not in ref_dict.keys():\n",
    "            print(\"Key {} not found!\".format(refi))\n",
    "            sys.exit(1)\n",
    "\n",
    "#         sub_ref_list.append(ref_dict[refi])\n",
    "        print(\"(%d)~\\citetads{%s};\" % (ref_num, ref_dict[refi]))\n",
    "\n",
    "    sub_ref_num = np.unique(sub_ref_num)\n",
    "    print(sub_ref_num)\n",
    "\n",
    "    return ref_num, ref_list"
   ]
  },
  {
   "cell_type": "code",
   "execution_count": 32,
   "id": "d664df7a",
   "metadata": {
    "ExecuteTime": {
     "end_time": "2022-08-20T03:05:53.658426Z",
     "start_time": "2022-08-20T03:05:53.651675Z"
    }
   },
   "outputs": [
    {
     "name": "stdout",
     "output_type": "stream",
     "text": [
      "\n",
      "\n",
      "For DE200 table\n",
      "(1)~\\citetads{2004MNRAS.353.1311H};\n",
      "(2)~\\citetads{1994ApJ...422..671A};\n",
      "(3)~\\citetads{1993MNRAS.262..449S};\n",
      "(4)~\\citetads{1996ApJS..106..611D};\n",
      "(5)~\\citetads{2001MNRAS.328..855W};\n",
      "(6)~\\citetads{1998ApJ...505..352S };\n",
      "(7)~\\citetads{2002ApJ...581..501S };\n",
      "(8)~\\citetads{2003ApJ...589..495K };\n",
      "(9)~\\citetads{2000ApJ...528..907W };\n",
      "(10)~\\citetads{1994ApJ...426L..85A };\n",
      "(11)~\\citetads{1996Natur.381..584K };\n",
      "(12)~\\citetads{1997MNRAS.286..463B };\n",
      "(13)~\\citetads{2006ApJ...649..235M};\n",
      "(14)~\\citetads{1998MNRAS.297...28D};\n",
      "(15)~\\citetads{2001MNRAS.326..274L };\n",
      "(16)~\\citetads{1996ApJ...469..819C };\n",
      "(17)~\\citetads{1999MNRAS.307..925T};\n",
      "(18)~\\citetads{2001ApJ...548L.187C };\n",
      "(19)~\\citetads{2001MNRAS.328...17M};\n",
      "(20)~\\citetads{2003MNRAS.342.1299K};\n",
      "(21)~\\citetads{2006MNRAS.372..777L};\n",
      "(22)~\\citetads{1998MNRAS.295..397I};\n",
      "(23)~\\citetads{1994ApJ...425L..41B};\n",
      "[ 1  2  3  4  5  6  7  8  9 10 11 12 13 14 15 16 17 18 19 20 21 22 23]\n",
      "\n",
      "\n",
      "For DE405 table\n",
      "(24)~\\citetads{2005MNRAS.362.1189Z};\n",
      "(25)~\\citetads{2011ApJ...743..102G };\n",
      "(26)~\\citetads{2020MNRAS.494..228L};\n",
      "(27)~\\citetads{2006MNRAS.369.1502H};\n",
      "(28)~\\citetads{2009MNRAS.400..805L };\n",
      "(29)~\\citetads{2009MNRAS.400..951V};\n",
      "(30)~\\citetads{2015ApJ...800L..12R };\n",
      "(31)~\\citetads{2012Sci...338.1314P };\n",
      "(32)~\\citetads{2013ApJ...776...20C };\n",
      "(33)~\\citetads{2011ApJS..194...17R};\n",
      "(34)~\\citetads{2009A&A...498..223J };\n",
      "[24 25 26 27 28 29 30 31 32 33 34]\n",
      "\n",
      "\n",
      "For DE421 table\n",
      "(35)~\\citetads{2020ApJ...896..140D};\n",
      "(36)~\\citetads{2020PASJ...72...70L};\n",
      "(37)~\\citetads{2014MNRAS.437.3255S };\n",
      "(38)~\\citetads{2014ApJ...787...82F };\n",
      "(39)~\\citetads{2016MNRAS.458.1267V};\n",
      "(40)~\\citetads{2016MNRAS.458.3341D};\n",
      "(41)~\\citetads{2016ApJ...818...92M};\n",
      "(42)~\\citetads{2016MNRAS.460.4011L};\n",
      "(43)~\\citetads{2013Sci...340..448A };\n",
      "(44)~\\citetads{2016MNRAS.455.1751R};\n",
      "(45)~\\citetads{2021ApJ...909....6D };\n",
      "(46)~\\citetads{2015MNRAS.446.4019B };\n",
      "(47)~\\citetads{2014ApJ...791...67S};\n",
      "(48)~\\citetads{2019ApJ...886..148P };\n",
      "(49)~\\citetads{2016ApJ...833..192S };\n",
      "(50)~\\citetads{2017MNRAS.464.1211H };\n",
      "[26 35 36 37 38 39 40 41 42 43 44 45 46 47 48 49 50]\n",
      "\n",
      "\n",
      "For DE430 table\n",
      "(51)~\\citetads{2019MNRAS.484.3691J};\n",
      "[26 51]\n",
      "\n",
      "\n",
      "For DE436 table\n",
      "(52)~\\citetads{2019MNRAS.490.4666P};\n",
      "(53)~\\citetads{2018ApJS..235...37A};\n",
      "(54)~\\citetads{2021MNRAS.507.2137R};\n",
      "[52 53 54]\n"
     ]
    }
   ],
   "source": [
    "ref_num = 0\n",
    "\n",
    "ref_list = []\n",
    "\n",
    "print(\"\\n\\nFor DE200 table\")\n",
    "\n",
    "ref_num, ref_list = print_ref_info(de200_tab, ref_num, ref_list, ref_dict)\n",
    "\n",
    "print(\"\\n\\nFor DE405 table\")\n",
    "\n",
    "ref_num, ref_list = print_ref_info(de405_tab, ref_num, ref_list, ref_dict)\n",
    "\n",
    "print(\"\\n\\nFor DE421 table\")\n",
    "\n",
    "ref_num, ref_list = print_ref_info(de421_tab, ref_num, ref_list, ref_dict)\n",
    "\n",
    "print(\"\\n\\nFor DE430 table\")\n",
    "\n",
    "ref_num, ref_list = print_ref_info(de430_tab, ref_num, ref_list, ref_dict)\n",
    "\n",
    "print(\"\\n\\nFor DE436 table\")\n",
    "\n",
    "ref_num, ref_list = print_ref_info(de436_tab, ref_num, ref_list, ref_dict)"
   ]
  }
 ],
 "metadata": {
  "hide_input": false,
  "kernelspec": {
   "display_name": "Python 3 (ipykernel)",
   "language": "python",
   "name": "python3"
  },
  "language_info": {
   "codemirror_mode": {
    "name": "ipython",
    "version": 3
   },
   "file_extension": ".py",
   "mimetype": "text/x-python",
   "name": "python",
   "nbconvert_exporter": "python",
   "pygments_lexer": "ipython3",
   "version": "3.9.12"
  }
 },
 "nbformat": 4,
 "nbformat_minor": 5
}
