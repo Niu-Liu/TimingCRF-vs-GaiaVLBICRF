{
 "cells": [
  {
   "cell_type": "markdown",
   "id": "7f4d401e",
   "metadata": {},
   "source": [
    "This code is used to compare the pulsar proper motions from timing and Gaia astrometry."
   ]
  },
  {
   "cell_type": "code",
   "execution_count": 1,
   "id": "9dbaa63a",
   "metadata": {
    "ExecuteTime": {
     "end_time": "2022-08-19T13:48:41.687894Z",
     "start_time": "2022-08-19T13:48:37.894032Z"
    }
   },
   "outputs": [
    {
     "name": "stderr",
     "output_type": "stream",
     "text": [
      "/Users/Neo/Scisoft/miniconda3/lib/python3.9/site-packages/scipy/__init__.py:146: UserWarning: A NumPy version >=1.16.5 and <1.23.0 is required for this version of SciPy (detected version 1.23.1\n",
      "  warnings.warn(f\"A NumPy version >={np_minversion} and <{np_maxversion}\"\n"
     ]
    }
   ],
   "source": [
    "import numpy as np\n",
    "from numpy import sqrt\n",
    "from matplotlib import pyplot as plt\n",
    "\n",
    "from matplotlib.ticker import MultipleLocator\n",
    "\n",
    "from astropy.table import Table, join\n",
    "from astropy import units as u\n",
    "\n",
    "import seaborn as sns\n",
    "\n",
    "from psrcrf_tools import *\n",
    "\n",
    "# %config InlineBackend.figure_format = \"svg\""
   ]
  },
  {
   "cell_type": "markdown",
   "id": "638fbd76",
   "metadata": {},
   "source": [
    "Read the timing solution data."
   ]
  },
  {
   "cell_type": "code",
   "execution_count": 2,
   "id": "7bc0f6e1",
   "metadata": {
    "ExecuteTime": {
     "end_time": "2022-08-19T13:48:41.711904Z",
     "start_time": "2022-08-19T13:48:41.690378Z"
    },
    "scrolled": true
   },
   "outputs": [],
   "source": [
    "timing_table = Table.read(\"../data/timing_edr3.fits\",)\n",
    "timing_table.sort(\"psr_name\")"
   ]
  },
  {
   "cell_type": "markdown",
   "id": "c47143ce",
   "metadata": {},
   "source": [
    "Add unit information"
   ]
  },
  {
   "cell_type": "code",
   "execution_count": 3,
   "id": "2448bb60",
   "metadata": {
    "ExecuteTime": {
     "end_time": "2022-08-19T13:48:41.719334Z",
     "start_time": "2022-08-19T13:48:41.716063Z"
    }
   },
   "outputs": [],
   "source": [
    "timing_table[\"pmra\"].unit = u.mas / u.yr\n",
    "timing_table[\"pmdec\"].unit = u.mas / u.yr\n",
    "timing_table[\"pmra_err\"].unit = u.mas / u.yr\n",
    "timing_table[\"pmdec_err\"].unit = u.mas / u.yr"
   ]
  },
  {
   "cell_type": "markdown",
   "id": "61b7c9f6",
   "metadata": {},
   "source": [
    "Load the cross-match table."
   ]
  },
  {
   "cell_type": "code",
   "execution_count": 4,
   "id": "de73f913",
   "metadata": {
    "ExecuteTime": {
     "end_time": "2022-08-19T13:48:41.765684Z",
     "start_time": "2022-08-19T13:48:41.725364Z"
    }
   },
   "outputs": [],
   "source": [
    "# edr3_antf_table = Table.read(\"../data/edr3_psrcatv1.65.fits\")\n",
    "# edr3_antf_table = Table.read(\"../data/edr3_psrcatv1.66.fits\")\n",
    "edr3_antf_table = Table.read(\"../data/edr3_psrcatv1.67.fits\")"
   ]
  },
  {
   "cell_type": "markdown",
   "id": "9dbbff3c",
   "metadata": {
    "ExecuteTime": {
     "end_time": "2021-12-04T06:36:56.855768Z",
     "start_time": "2021-12-04T06:36:56.850239Z"
    }
   },
   "source": [
    "Only keep the astrometric parameters from Gaia."
   ]
  },
  {
   "cell_type": "code",
   "execution_count": 5,
   "id": "34d2ecc3",
   "metadata": {
    "ExecuteTime": {
     "end_time": "2022-08-19T13:48:41.772282Z",
     "start_time": "2022-08-19T13:48:41.768473Z"
    }
   },
   "outputs": [],
   "source": [
    "edr3_antf_table = edr3_antf_table['name', 'source_id', 'pmra', 'pmra_error',\n",
    "                                  'pmdec', 'pmdec_error', ]\n",
    "\n",
    "edr3_antf_table.rename_columns([\"name\", \"pmra_error\", \"pmdec_error\"],\n",
    "                               [\"psr_name\", \"pmra_err\", \"pmdec_err\"])"
   ]
  },
  {
   "cell_type": "markdown",
   "id": "d227530d",
   "metadata": {},
   "source": [
    "Add unit information"
   ]
  },
  {
   "cell_type": "code",
   "execution_count": 6,
   "id": "5622099d",
   "metadata": {
    "ExecuteTime": {
     "end_time": "2022-08-19T13:48:41.777244Z",
     "start_time": "2022-08-19T13:48:41.774197Z"
    }
   },
   "outputs": [],
   "source": [
    "edr3_antf_table[\"pmra\"].unit = u.mas / u.yr\n",
    "edr3_antf_table[\"pmdec\"].unit = u.mas / u.yr\n",
    "edr3_antf_table[\"pmra_err\"].unit = u.mas / u.yr\n",
    "edr3_antf_table[\"pmdec_err\"].unit = u.mas / u.yr"
   ]
  },
  {
   "cell_type": "markdown",
   "id": "0ad2adb4",
   "metadata": {},
   "source": [
    "Supplement the timing table with the Gaia astrometrical information."
   ]
  },
  {
   "cell_type": "code",
   "execution_count": 7,
   "id": "66180e36",
   "metadata": {
    "ExecuteTime": {
     "end_time": "2022-08-19T13:48:41.785245Z",
     "start_time": "2022-08-19T13:48:41.778869Z"
    }
   },
   "outputs": [],
   "source": [
    "edr3_timing = join(timing_table,\n",
    "                   edr3_antf_table,\n",
    "                   keys=\"psr_name\",\n",
    "                   join_type=\"left\",\n",
    "                   table_names=[\"t\", \"g\"])"
   ]
  },
  {
   "cell_type": "markdown",
   "id": "db1ed67c",
   "metadata": {},
   "source": [
    "Remove pulsars that do not have proper motion information in Gaia EDR3."
   ]
  },
  {
   "cell_type": "code",
   "execution_count": 8,
   "id": "22049a1f",
   "metadata": {
    "ExecuteTime": {
     "end_time": "2022-08-19T13:48:41.793365Z",
     "start_time": "2022-08-19T13:48:41.789714Z"
    }
   },
   "outputs": [],
   "source": [
    "mask = (edr3_timing[\"pmra_g\"] < 1e10)\n",
    "edr3_timing = edr3_timing[mask]"
   ]
  },
  {
   "cell_type": "markdown",
   "id": "219f7f15",
   "metadata": {},
   "source": [
    "Remove entries without timing PM estimate, i.e., the corresponding uncertainty is 0."
   ]
  },
  {
   "cell_type": "code",
   "execution_count": 9,
   "id": "40b1127b",
   "metadata": {
    "ExecuteTime": {
     "end_time": "2022-08-19T13:48:41.798978Z",
     "start_time": "2022-08-19T13:48:41.795138Z"
    }
   },
   "outputs": [],
   "source": [
    "pm_tab = edr3_timing[edr3_timing[\"pmra_err_t\"] != 0]"
   ]
  },
  {
   "cell_type": "markdown",
   "id": "d2401aa1",
   "metadata": {},
   "source": [
    "Then compute the proper motion differences in RA and declination."
   ]
  },
  {
   "cell_type": "code",
   "execution_count": 11,
   "id": "15cb194b",
   "metadata": {
    "ExecuteTime": {
     "end_time": "2022-08-19T13:48:41.819378Z",
     "start_time": "2022-08-19T13:48:41.814222Z"
    }
   },
   "outputs": [],
   "source": [
    "dpmra = pm_tab[\"pmra_t\"] - pm_tab[\"pmra_g\"]\n",
    "dpmdec = pm_tab[\"pmdec_t\"] - pm_tab[\"pmdec_g\"]\n",
    "\n",
    "dpmra_err = sqrt(pm_tab[\"pmra_err_t\"]**2 + pm_tab[\"pmra_err_g\"]**2)\n",
    "dpmdec_err = sqrt(pm_tab[\"pmdec_err_t\"]**2 + pm_tab[\"pmdec_err_g\"]**2)\n",
    "\n",
    "X_pmra = dpmra / dpmra_err\n",
    "X_pmdec = dpmdec / dpmdec_err\n",
    "\n",
    "pm_tab.add_columns([dpmra, dpmdec, dpmra_err, dpmdec_err, X_pmra, X_pmdec], names=[\n",
    "                   \"dpmra\", \"dpmdec\", \"dpmra_err\", \"dpmdec_err\", \"X_pmra\", \"X_pmdec\"])"
   ]
  },
  {
   "cell_type": "code",
   "execution_count": 12,
   "id": "4309ad17",
   "metadata": {
    "ExecuteTime": {
     "end_time": "2022-08-19T13:48:41.824394Z",
     "start_time": "2022-08-19T13:48:41.821399Z"
    }
   },
   "outputs": [
    {
     "name": "stdout",
     "output_type": "stream",
     "text": [
      "There are 11 pulsars with 40 measurements.\n"
     ]
    }
   ],
   "source": [
    "count_psr_nb(pm_tab)"
   ]
  },
  {
   "cell_type": "markdown",
   "id": "9e951771",
   "metadata": {},
   "source": [
    "Divide entries into several subsets."
   ]
  },
  {
   "cell_type": "markdown",
   "id": "ae548a2b",
   "metadata": {},
   "source": [
    "## DE200 vs. Gaia EDR3"
   ]
  },
  {
   "cell_type": "code",
   "execution_count": 13,
   "id": "13189826",
   "metadata": {
    "ExecuteTime": {
     "end_time": "2022-08-19T13:48:41.835048Z",
     "start_time": "2022-08-19T13:48:41.825806Z"
    }
   },
   "outputs": [
    {
     "data": {
      "text/html": [
       "<div><i>Table length=9</i>\n",
       "<table id=\"table140392071956896\" class=\"table-striped table-bordered table-condensed\">\n",
       "<thead><tr><th>psr_bname</th><th>psr_name</th><th>pos_epoch</th><th>eph</th><th>ra</th><th>dec</th><th>pmra_t</th><th>pmdec_t</th><th>plx</th><th>ra_err</th><th>dec_err</th><th>pmra_err_t</th><th>pmdec_err_t</th><th>plx_err</th><th>ref</th><th>comment</th><th>source_id</th><th>pmra_g</th><th>pmra_err_g</th><th>pmdec_g</th><th>pmdec_err_g</th><th>dpmra</th><th>dpmdec</th><th>dpmra_err</th><th>dpmdec_err</th><th>X_pmra</th><th>X_pmdec</th></tr></thead>\n",
       "<thead><tr><th></th><th></th><th>d</th><th></th><th></th><th></th><th>mas / yr</th><th>mas / yr</th><th></th><th></th><th></th><th>mas / yr</th><th>mas / yr</th><th></th><th></th><th></th><th></th><th>mas / yr</th><th>mas / yr</th><th>mas / yr</th><th>mas / yr</th><th>mas / yr</th><th>mas / yr</th><th>mas / yr</th><th>mas / yr</th><th>mas / yr</th><th>mas / yr</th></tr></thead>\n",
       "<thead><tr><th>bytes10</th><th>bytes12</th><th>float64</th><th>bytes5</th><th>float64</th><th>float64</th><th>float64</th><th>float64</th><th>float64</th><th>float64</th><th>float64</th><th>float64</th><th>float64</th><th>float64</th><th>bytes6</th><th>bytes13</th><th>int64</th><th>float64</th><th>float64</th><th>float64</th><th>float64</th><th>float64</th><th>float64</th><th>float64</th><th>float64</th><th>float64</th><th>float64</th></tr></thead>\n",
       "<tr><td>J0437-4715</td><td>J0437-4715</td><td>49615.0</td><td>DE200</td><td>69.31556254166667</td><td>-47.25226463888889</td><td>121.3</td><td>-70.4</td><td>1.0</td><td>0.20363151618244418</td><td>0.2</td><td>0.2</td><td>0.30000000000000004</td><td>5.0</td><td>bbm+97</td><td></td><td>4789864076732331648</td><td>121.646</td><td>0.574</td><td>-70.697</td><td>0.65</td><td>-0.34600000000000364</td><td>0.29699999999999704</td><td>0.6078453750749445</td><td>0.7158910531638177</td><td>-0.5692237108118877</td><td>0.4148675956871253</td></tr>\n",
       "<tr><td>J1012+5307</td><td>J1012+5307</td><td>50914.0</td><td>DE200</td><td>153.13930791666667</td><td>53.11738166666667</td><td>2.3</td><td>-25.8</td><td>0.0</td><td>1.8005327985444117</td><td>2.0</td><td>0.7</td><td>0.8</td><td>0.0</td><td>hlk+04</td><td></td><td>851610861391010944</td><td>2.736</td><td>0.292</td><td>-25.921</td><td>0.271</td><td>-0.4360000000000004</td><td>0.12099999999999866</td><td>0.7584616008737686</td><td>0.8446543671822221</td><td>-0.5748478228795187</td><td>0.1432538618176524</td></tr>\n",
       "<tr><td>J1012+5307</td><td>J1012+5307</td><td>50700.0</td><td>DE200</td><td>153.1393070833333</td><td>53.117385666666664</td><td>2.4</td><td>-25.2</td><td>0.0</td><td>0.2700798946531054</td><td>0.4</td><td>0.2</td><td>0.2</td><td>0.0</td><td>lcw+01</td><td></td><td>851610861391010944</td><td>2.736</td><td>0.292</td><td>-25.921</td><td>0.271</td><td>-0.3360000000000003</td><td>0.7210000000000001</td><td>0.3539265460515783</td><td>0.3368100354799423</td><td>-0.9493495295801702</td><td>2.140672557373775</td></tr>\n",
       "<tr><td>J1024-0719</td><td>J1024-0719</td><td>50456.0</td><td>DE200</td><td>156.16126666666665</td><td>-7.3219025</td><td>-41.0</td><td>-70.0</td><td>0.0</td><td>1.48776869555416</td><td>3.0</td><td>2.0</td><td>3.0</td><td>0.0</td><td>tsb+99</td><td></td><td>3775277872387310208</td><td>-35.458</td><td>0.318</td><td>-48.352</td><td>0.357</td><td>-5.542000000000002</td><td>-21.648000000000003</td><td>2.0251232061284568</td><td>3.021166827568448</td><td>-2.7366236203450347</td><td>-7.165443431478145</td></tr>\n",
       "<tr><td>J1024-0719</td><td>J1024-0719</td><td>51018.0</td><td>DE200</td><td>156.16125125</td><td>-7.321920833333333</td><td>-35.0</td><td>-48.0</td><td>0.0</td><td>5.95107453754186</td><td>15.0</td><td>4.0</td><td>8.0</td><td>0.0</td><td>hlk+04</td><td></td><td>3775277872387310208</td><td>-35.458</td><td>0.318</td><td>-48.352</td><td>0.357</td><td>0.4579999999999984</td><td>0.35199999999999676</td><td>4.012620590088228</td><td>8.007961600807036</td><td>0.11413987186611332</td><td>0.04395625473085716</td></tr>\n",
       "<tr><td>B1848+12</td><td>J1851+1259</td><td>49908.0</td><td>DE200</td><td>282.8050625</td><td>12.993133333333333</td><td>-23.0</td><td>-71.0</td><td>0.0</td><td>58.46382103552277</td><td>140.0</td><td>17.0</td><td>35.0</td><td>0.0</td><td>hlk+04</td><td></td><td>4504706118346043392</td><td>-3.564</td><td>1.186</td><td>-7.612</td><td>1.247</td><td>-19.436</td><td>-63.388</td><td>17.04132025401788</td><td>35.022207369039435</td><td>-1.1405219613437827</td><td>-1.809937315831117</td></tr>\n",
       "<tr><td>B1953+29</td><td>J1955+2908</td><td>49718.0</td><td>DE200</td><td>298.86614875</td><td>29.145425</td><td>-1.0</td><td>-3.7</td><td>0.0</td><td>2.6201591222646075</td><td>2.0</td><td>0.30000000000000004</td><td>0.30000000000000004</td><td>0.0</td><td>wdk+00</td><td></td><td>2028584968839606784</td><td>-3.167</td><td>0.135</td><td>-7.827</td><td>0.167</td><td>2.167</td><td>4.127</td><td>0.3289756829919197</td><td>0.3433496759864497</td><td>6.5871130057148495</td><td>12.019816206737506</td></tr>\n",
       "<tr><td>B1953+29</td><td>J1955+2908</td><td>49429.0</td><td>DE200</td><td>298.8661583333334</td><td>29.145425</td><td>-2.0</td><td>-2.0</td><td>0.0</td><td>26.201591222646073</td><td>40.0</td><td>9.0</td><td>10.0</td><td>0.0</td><td>hlk+04</td><td></td><td>2028584968839606784</td><td>-3.167</td><td>0.135</td><td>-7.827</td><td>0.167</td><td>1.1669999999999998</td><td>5.827</td><td>9.00101244305328</td><td>10.001394352789015</td><td>0.1296520816278458</td><td>0.5826187623903728</td></tr>\n",
       "<tr><td>B1957+20</td><td>J1959+2048</td><td>48196.0</td><td>DE200</td><td>299.90320783333334</td><td>20.804200611111114</td><td>-16.0</td><td>-25.8</td><td>0.0</td><td>0.7010997295471874</td><td>0.6000000000000001</td><td>0.5</td><td>0.6000000000000001</td><td>0.0</td><td>aft94</td><td></td><td>1823773960079216896</td><td>-19.267</td><td>1.235</td><td>-26.56</td><td>1.244</td><td>3.2669999999999995</td><td>0.759999999999998</td><td>1.3323756977669625</td><td>1.3811357645068787</td><td>2.4520110997787126</td><td>0.5502717542553456</td></tr>\n",
       "</table></div>"
      ],
      "text/plain": [
       "<Table length=9>\n",
       "psr_bname   psr_name  pos_epoch ...        X_pmra             X_pmdec      \n",
       "                          d     ...       mas / yr            mas / yr     \n",
       " bytes10    bytes12    float64  ...       float64             float64      \n",
       "---------- ---------- --------- ... ------------------- -------------------\n",
       "J0437-4715 J0437-4715   49615.0 ... -0.5692237108118877  0.4148675956871253\n",
       "J1012+5307 J1012+5307   50914.0 ... -0.5748478228795187  0.1432538618176524\n",
       "J1012+5307 J1012+5307   50700.0 ... -0.9493495295801702   2.140672557373775\n",
       "J1024-0719 J1024-0719   50456.0 ... -2.7366236203450347  -7.165443431478145\n",
       "J1024-0719 J1024-0719   51018.0 ... 0.11413987186611332 0.04395625473085716\n",
       "  B1848+12 J1851+1259   49908.0 ... -1.1405219613437827  -1.809937315831117\n",
       "  B1953+29 J1955+2908   49718.0 ...  6.5871130057148495  12.019816206737506\n",
       "  B1953+29 J1955+2908   49429.0 ...  0.1296520816278458  0.5826187623903728\n",
       "  B1957+20 J1959+2048   48196.0 ...  2.4520110997787126  0.5502717542553456"
      ]
     },
     "execution_count": 13,
     "metadata": {},
     "output_type": "execute_result"
    }
   ],
   "source": [
    "mask = pm_tab[\"eph\"] == \"DE200\"\n",
    "pm_tab200 = pm_tab[mask]\n",
    "\n",
    "pm_tab200"
   ]
  },
  {
   "cell_type": "markdown",
   "id": "97674f3a",
   "metadata": {},
   "source": [
    "## DE405 vs. Gaia EDR3"
   ]
  },
  {
   "cell_type": "code",
   "execution_count": 14,
   "id": "70fd9735",
   "metadata": {
    "ExecuteTime": {
     "end_time": "2022-08-19T13:48:41.845489Z",
     "start_time": "2022-08-19T13:48:41.836855Z"
    },
    "scrolled": false
   },
   "outputs": [
    {
     "data": {
      "text/html": [
       "<div><i>Table length=5</i>\n",
       "<table id=\"table140392071955456\" class=\"table-striped table-bordered table-condensed\">\n",
       "<thead><tr><th>psr_bname</th><th>psr_name</th><th>pos_epoch</th><th>eph</th><th>ra</th><th>dec</th><th>pmra_t</th><th>pmdec_t</th><th>plx</th><th>ra_err</th><th>dec_err</th><th>pmra_err_t</th><th>pmdec_err_t</th><th>plx_err</th><th>ref</th><th>comment</th><th>source_id</th><th>pmra_g</th><th>pmra_err_g</th><th>pmdec_g</th><th>pmdec_err_g</th><th>dpmra</th><th>dpmdec</th><th>dpmra_err</th><th>dpmdec_err</th><th>X_pmra</th><th>X_pmdec</th></tr></thead>\n",
       "<thead><tr><th></th><th></th><th>d</th><th></th><th></th><th></th><th>mas / yr</th><th>mas / yr</th><th></th><th></th><th></th><th>mas / yr</th><th>mas / yr</th><th></th><th></th><th></th><th></th><th>mas / yr</th><th>mas / yr</th><th>mas / yr</th><th>mas / yr</th><th>mas / yr</th><th>mas / yr</th><th>mas / yr</th><th>mas / yr</th><th>mas / yr</th><th>mas / yr</th></tr></thead>\n",
       "<thead><tr><th>bytes10</th><th>bytes12</th><th>float64</th><th>bytes5</th><th>float64</th><th>float64</th><th>float64</th><th>float64</th><th>float64</th><th>float64</th><th>float64</th><th>float64</th><th>float64</th><th>float64</th><th>bytes6</th><th>bytes13</th><th>int64</th><th>float64</th><th>float64</th><th>float64</th><th>float64</th><th>float64</th><th>float64</th><th>float64</th><th>float64</th><th>float64</th><th>float64</th></tr></thead>\n",
       "<tr><td>J0437-4715</td><td>J0437-4715</td><td>53019.0</td><td>DE405</td><td>69.31603281125</td><td>-47.252450716666665</td><td>121.31</td><td>-71.53</td><td>0.0</td><td>0.008145232028164005</td><td>0.008</td><td>0.01</td><td>0.01</td><td>0.0</td><td>hbo06</td><td></td><td>4789864076732331648</td><td>121.646</td><td>0.574</td><td>-70.697</td><td>0.65</td><td>-0.3359999999999985</td><td>-0.8329999999999984</td><td>0.5740871014053529</td><td>0.6500769185258003</td><td>-0.5852770410230046</td><td>-1.2813868270988893</td></tr>\n",
       "<tr><td>J1012+5307</td><td>J1012+5307</td><td>50700.0</td><td>DE405</td><td>153.13930875416665</td><td>53.117389083333336</td><td>2.562</td><td>-25.61</td><td>1.22</td><td>0.08912635815241264</td><td>0.13</td><td>0.014</td><td>0.02</td><td>0.26</td><td>lwj+09</td><td></td><td>851610861391010944</td><td>2.736</td><td>0.292</td><td>-25.921</td><td>0.271</td><td>-0.17400000000000038</td><td>0.31099999999999994</td><td>0.29233542378576016</td><td>0.2717370052090808</td><td>-0.5952066901324875</td><td>1.1444889508541882</td></tr>\n",
       "<tr><td>J1024-0719</td><td>J1024-0719</td><td>53000.0</td><td>DE405</td><td>156.16120191666664</td><td>-7.3219916666666665</td><td>-35.3</td><td>-48.2</td><td>0.0</td><td>0.44633051941513135</td><td>1.0</td><td>0.2</td><td>0.30000000000000004</td><td>0.0</td><td>vbc+09</td><td></td><td>3775277872387310208</td><td>-35.458</td><td>0.318</td><td>-48.352</td><td>0.357</td><td>0.15800000000000125</td><td>0.15199999999999392</td><td>0.37566474415361367</td><td>0.46631427170954143</td><td>0.4205877779560629</td><td>0.32596042888147314</td></tr>\n",
       "<tr><td>J1024-0719</td><td>J1024-0719</td><td>53000.0</td><td>DE405</td><td>156.161201875</td><td>-7.321991722222222</td><td>-34.9</td><td>-47.0</td><td>0.0</td><td>0.29755367957301526</td><td>0.6000000000000001</td><td>0.4</td><td>1.0</td><td>0.0</td><td>hbo06</td><td></td><td>3775277872387310208</td><td>-35.458</td><td>0.318</td><td>-48.352</td><td>0.357</td><td>0.5579999999999998</td><td>1.3519999999999968</td><td>0.5110029354123125</td><td>1.061814013846116</td><td>1.0919702438690824</td><td>1.2732926693091622</td></tr>\n",
       "<tr><td>B1953+29</td><td>J1955+2908</td><td>54500.0</td><td>DE405</td><td>298.86615</td><td>29.145407194444445</td><td>-0.9</td><td>-4.1</td><td>0.0</td><td>0.3930239364478579</td><td>0.5</td><td>0.1</td><td>0.1</td><td>0.0</td><td>gsf+11</td><td></td><td>2028584968839606784</td><td>-3.167</td><td>0.135</td><td>-7.827</td><td>0.167</td><td>2.267</td><td>3.7270000000000003</td><td>0.16800297616411444</td><td>0.1946509696867704</td><td>13.493808572685468</td><td>19.14709187422717</td></tr>\n",
       "</table></div>"
      ],
      "text/plain": [
       "<Table length=5>\n",
       "psr_bname   psr_name  pos_epoch ...        X_pmra             X_pmdec      \n",
       "                          d     ...       mas / yr            mas / yr     \n",
       " bytes10    bytes12    float64  ...       float64             float64      \n",
       "---------- ---------- --------- ... ------------------- -------------------\n",
       "J0437-4715 J0437-4715   53019.0 ... -0.5852770410230046 -1.2813868270988893\n",
       "J1012+5307 J1012+5307   50700.0 ... -0.5952066901324875  1.1444889508541882\n",
       "J1024-0719 J1024-0719   53000.0 ...  0.4205877779560629 0.32596042888147314\n",
       "J1024-0719 J1024-0719   53000.0 ...  1.0919702438690824  1.2732926693091622\n",
       "  B1953+29 J1955+2908   54500.0 ...  13.493808572685468   19.14709187422717"
      ]
     },
     "execution_count": 14,
     "metadata": {},
     "output_type": "execute_result"
    }
   ],
   "source": [
    "mask = pm_tab[\"eph\"] == \"DE405\"\n",
    "pm_tab405 = pm_tab[mask]\n",
    "\n",
    "pm_tab405"
   ]
  },
  {
   "cell_type": "markdown",
   "id": "dcb208fc",
   "metadata": {},
   "source": [
    "## DE421 vs. Gaia EDR3"
   ]
  },
  {
   "cell_type": "code",
   "execution_count": 15,
   "id": "d1d032fd",
   "metadata": {
    "ExecuteTime": {
     "end_time": "2022-08-19T13:48:41.857614Z",
     "start_time": "2022-08-19T13:48:41.847342Z"
    },
    "scrolled": false
   },
   "outputs": [
    {
     "data": {
      "text/html": [
       "<div><i>Table length=16</i>\n",
       "<table id=\"table140392071955936\" class=\"table-striped table-bordered table-condensed\">\n",
       "<thead><tr><th>psr_bname</th><th>psr_name</th><th>pos_epoch</th><th>eph</th><th>ra</th><th>dec</th><th>pmra_t</th><th>pmdec_t</th><th>plx</th><th>ra_err</th><th>dec_err</th><th>pmra_err_t</th><th>pmdec_err_t</th><th>plx_err</th><th>ref</th><th>comment</th><th>source_id</th><th>pmra_g</th><th>pmra_err_g</th><th>pmdec_g</th><th>pmdec_err_g</th><th>dpmra</th><th>dpmdec</th><th>dpmra_err</th><th>dpmdec_err</th><th>X_pmra</th><th>X_pmdec</th></tr></thead>\n",
       "<thead><tr><th></th><th></th><th>d</th><th></th><th></th><th></th><th>mas / yr</th><th>mas / yr</th><th></th><th></th><th></th><th>mas / yr</th><th>mas / yr</th><th></th><th></th><th></th><th></th><th>mas / yr</th><th>mas / yr</th><th>mas / yr</th><th>mas / yr</th><th>mas / yr</th><th>mas / yr</th><th>mas / yr</th><th>mas / yr</th><th>mas / yr</th><th>mas / yr</th></tr></thead>\n",
       "<thead><tr><th>bytes10</th><th>bytes12</th><th>float64</th><th>bytes5</th><th>float64</th><th>float64</th><th>float64</th><th>float64</th><th>float64</th><th>float64</th><th>float64</th><th>float64</th><th>float64</th><th>float64</th><th>bytes6</th><th>bytes13</th><th>int64</th><th>float64</th><th>float64</th><th>float64</th><th>float64</th><th>float64</th><th>float64</th><th>float64</th><th>float64</th><th>float64</th><th>float64</th></tr></thead>\n",
       "<tr><td>J0348+0432</td><td>J0348+0432</td><td>56000.0</td><td>DE421</td><td>57.18182916666666</td><td>4.536516111111111</td><td>4.04</td><td>3.5</td><td>0.0</td><td>0.05981202763317285</td><td>0.2</td><td>0.16</td><td>0.6000000000000001</td><td>0.0</td><td>afw+13</td><td></td><td>3273288485744249344</td><td>3.438</td><td>1.345</td><td>-0.226</td><td>0.887</td><td>0.6019999999999999</td><td>3.726</td><td>1.354483296316348</td><td>1.0708730083441267</td><td>0.44444992539752887</td><td>3.4794041599399845</td></tr>\n",
       "<tr><td>J0437-4715</td><td>J0437-4715</td><td>54500.0</td><td>DE421</td><td>69.3162340571</td><td>-47.2525307528</td><td>121.439</td><td>-71.475</td><td>6.373</td><td>0.00602974</td><td>0.00626552</td><td>0.001915</td><td>0.001954</td><td>0.086288</td><td>rhc+16</td><td>PPTA-DR1e</td><td>4789864076732331648</td><td>121.646</td><td>0.574</td><td>-70.697</td><td>0.65</td><td>-0.20700000000000784</td><td>-0.7779999999999916</td><td>0.5740031944379752</td><td>0.6500029370056724</td><td>-0.36062517074088435</td><td>-1.1969176686861682</td></tr>\n",
       "<tr><td>J0437-4715</td><td>J0437-4715</td><td>54500.0</td><td>DE421</td><td>69.3162340617</td><td>-47.2525307528</td><td>121.441</td><td>-71.475</td><td>6.441</td><td>0.00373391</td><td>0.00383898</td><td>0.001714</td><td>0.001865</td><td>0.074791</td><td>vlh+16</td><td>IPTA-DR1</td><td>4789864076732331648</td><td>121.646</td><td>0.574</td><td>-70.697</td><td>0.65</td><td>-0.2049999999999983</td><td>-0.7779999999999916</td><td>0.5740025590500446</td><td>0.6500026755521857</td><td>-0.3571412649087603</td><td>-1.1969181501277213</td></tr>\n",
       "<tr><td>J1012+5307</td><td>J1012+5307</td><td>55000.0</td><td>DE421</td><td>153.1393230512</td><td>53.1173055972</td><td>2.627</td><td>-25.458</td><td>0.782</td><td>0.05085026</td><td>0.06366704</td><td>0.010222</td><td>0.013951</td><td>0.193807</td><td>vlh+16</td><td>IPTA-DR1</td><td>851610861391010944</td><td>2.736</td><td>0.292</td><td>-25.921</td><td>0.271</td><td>-0.10900000000000043</td><td>0.46300000000000097</td><td>0.29217886522471126</td><td>0.2713588590796328</td><td>-0.37305915305054604</td><td>1.706227692622076</td></tr>\n",
       "<tr><td>J1012+5307</td><td>J1012+5307</td><td>54902.0</td><td>DE421</td><td>153.1393227083333</td><td>53.117307527777776</td><td>2.5</td><td>-25.6</td><td>1.0</td><td>0.5401607710644697</td><td>0.7000000000000001</td><td>0.2</td><td>0.2</td><td>3.0</td><td>mnf+16</td><td>NANOGrav-9yr</td><td>851610861391010944</td><td>2.736</td><td>0.292</td><td>-25.921</td><td>0.271</td><td>-0.2360000000000002</td><td>0.32099999999999795</td><td>0.3539265460515783</td><td>0.3368100354799423</td><td>-0.666805026728929</td><td>0.9530594880956691</td></tr>\n",
       "<tr><td>...</td><td>...</td><td>...</td><td>...</td><td>...</td><td>...</td><td>...</td><td>...</td><td>...</td><td>...</td><td>...</td><td>...</td><td>...</td><td>...</td><td>...</td><td>...</td><td>...</td><td>...</td><td>...</td><td>...</td><td>...</td><td>...</td><td>...</td><td>...</td><td>...</td><td>...</td><td>...</td></tr>\n",
       "<tr><td>J1431-4715</td><td>J1431-4715</td><td>55756.1</td><td>DE421</td><td>217.93590708333332</td><td>-47.25765944444444</td><td>-7.0</td><td>-8.0</td><td>0.0</td><td>2.036107720142993</td><td>4.0</td><td>3.0</td><td>4.0</td><td>0.0</td><td>btb+15</td><td></td><td>6098156298150016768</td><td>-11.825</td><td>0.135</td><td>-14.519</td><td>0.15</td><td>4.824999999999999</td><td>6.519</td><td>3.003035963820613</td><td>4.002811511925087</td><td>1.6067073648566605</td><td>1.6286052892020373</td></tr>\n",
       "<tr><td>J1816+4510</td><td>J1816+4510</td><td>56047.0</td><td>DE421</td><td>274.14972649999993</td><td>45.17607272222222</td><td>5.3</td><td>-3.0</td><td>0.0</td><td>0.7401769957990335</td><td>0.8</td><td>0.8</td><td>1.0</td><td>0.0</td><td>slr+14</td><td></td><td>2115337192179377792</td><td>-0.059</td><td>0.123</td><td>-4.4</td><td>0.117</td><td>5.359</td><td>1.4000000000000004</td><td>0.8094003953544872</td><td>1.0068212353739863</td><td>6.620950558904728</td><td>1.390514970097911</td></tr>\n",
       "<tr><td>B1953+29</td><td>J1955+2908</td><td>56176.0</td><td>DE421</td><td>298.86614775</td><td>29.145401777777778</td><td>-0.4</td><td>-5.0</td><td>-4.0</td><td>0.6550399286119724</td><td>0.5</td><td>1.2000000000000002</td><td>1.0</td><td>2.0</td><td>mnf+16</td><td>NANOGrav-9yr</td><td>2028584968839606784</td><td>-3.167</td><td>0.135</td><td>-7.827</td><td>0.167</td><td>2.767</td><td>2.827</td><td>1.207569873754724</td><td>1.0138486080278455</td><td>2.2913787931761704</td><td>2.788384752531372</td></tr>\n",
       "<tr><td>B1953+29</td><td>J1955+2908</td><td>55000.0</td><td>DE421</td><td>298.8661488596</td><td>29.1454053139</td><td>-0.638</td><td>-3.81</td><td>0.0</td><td>0.34539584</td><td>0.52258437</td><td>0.197888</td><td>0.31396</td><td>0.0</td><td>vlh+16</td><td>IPTA-DR1</td><td>2028584968839606784</td><td>-3.167</td><td>0.135</td><td>-7.827</td><td>0.167</td><td>2.529</td><td>4.0169999999999995</td><td>0.23955095604902102</td><td>0.3556119818003887</td><td>10.557252793775001</td><td>11.29601983505385</td></tr>\n",
       "<tr><td>B1953+29</td><td>J1955+2908</td><td>55000.0</td><td>DE421</td><td>298.8661489166667</td><td>29.14540552777778</td><td>-0.77</td><td>-4.7</td><td>0.0</td><td>0.3930239428230353</td><td>0.6</td><td>0.19</td><td>0.3</td><td>0.0</td><td>dcl+16</td><td>EPTA</td><td>2028584968839606784</td><td>-3.167</td><td>0.135</td><td>-7.827</td><td>0.167</td><td>2.397</td><td>3.127</td><td>0.23307724041613329</td><td>0.3433496759864497</td><td>10.284144413759254</td><td>9.107333481576976</td></tr>\n",
       "</table></div>"
      ],
      "text/plain": [
       "<Table length=16>\n",
       "psr_bname   psr_name  pos_epoch ...        X_pmra              X_pmdec      \n",
       "                          d     ...       mas / yr             mas / yr     \n",
       " bytes10    bytes12    float64  ...       float64              float64      \n",
       "---------- ---------- --------- ... -------------------- -------------------\n",
       "J0348+0432 J0348+0432   56000.0 ...  0.44444992539752887  3.4794041599399845\n",
       "J0437-4715 J0437-4715   54500.0 ... -0.36062517074088435 -1.1969176686861682\n",
       "J0437-4715 J0437-4715   54500.0 ...  -0.3571412649087603 -1.1969181501277213\n",
       "J1012+5307 J1012+5307   55000.0 ... -0.37305915305054604   1.706227692622076\n",
       "J1012+5307 J1012+5307   54902.0 ...   -0.666805026728929  0.9530594880956691\n",
       "       ...        ...       ... ...                  ...                 ...\n",
       "J1431-4715 J1431-4715   55756.1 ...   1.6067073648566605  1.6286052892020373\n",
       "J1816+4510 J1816+4510   56047.0 ...    6.620950558904728   1.390514970097911\n",
       "  B1953+29 J1955+2908   56176.0 ...   2.2913787931761704   2.788384752531372\n",
       "  B1953+29 J1955+2908   55000.0 ...   10.557252793775001   11.29601983505385\n",
       "  B1953+29 J1955+2908   55000.0 ...   10.284144413759254   9.107333481576976"
      ]
     },
     "execution_count": 15,
     "metadata": {},
     "output_type": "execute_result"
    }
   ],
   "source": [
    "mask = pm_tab[\"eph\"] == \"DE421\"\n",
    "pm_tab421 = pm_tab[mask]\n",
    "\n",
    "pm_tab421"
   ]
  },
  {
   "cell_type": "markdown",
   "id": "cde03c3a",
   "metadata": {},
   "source": [
    "## DE430 vs. Gaia EDR3"
   ]
  },
  {
   "cell_type": "code",
   "execution_count": 16,
   "id": "934556e6",
   "metadata": {
    "ExecuteTime": {
     "end_time": "2022-08-19T13:48:41.866145Z",
     "start_time": "2022-08-19T13:48:41.859117Z"
    },
    "scrolled": false
   },
   "outputs": [
    {
     "data": {
      "text/html": [
       "<div><i>Table length=2</i>\n",
       "<table id=\"table140392175476688\" class=\"table-striped table-bordered table-condensed\">\n",
       "<thead><tr><th>psr_bname</th><th>psr_name</th><th>pos_epoch</th><th>eph</th><th>ra</th><th>dec</th><th>pmra_t</th><th>pmdec_t</th><th>plx</th><th>ra_err</th><th>dec_err</th><th>pmra_err_t</th><th>pmdec_err_t</th><th>plx_err</th><th>ref</th><th>comment</th><th>source_id</th><th>pmra_g</th><th>pmra_err_g</th><th>pmdec_g</th><th>pmdec_err_g</th><th>dpmra</th><th>dpmdec</th><th>dpmra_err</th><th>dpmdec_err</th><th>X_pmra</th><th>X_pmdec</th></tr></thead>\n",
       "<thead><tr><th></th><th></th><th>d</th><th></th><th></th><th></th><th>mas / yr</th><th>mas / yr</th><th></th><th></th><th></th><th>mas / yr</th><th>mas / yr</th><th></th><th></th><th></th><th></th><th>mas / yr</th><th>mas / yr</th><th>mas / yr</th><th>mas / yr</th><th>mas / yr</th><th>mas / yr</th><th>mas / yr</th><th>mas / yr</th><th>mas / yr</th><th>mas / yr</th></tr></thead>\n",
       "<thead><tr><th>bytes10</th><th>bytes12</th><th>float64</th><th>bytes5</th><th>float64</th><th>float64</th><th>float64</th><th>float64</th><th>float64</th><th>float64</th><th>float64</th><th>float64</th><th>float64</th><th>float64</th><th>bytes6</th><th>bytes13</th><th>int64</th><th>float64</th><th>float64</th><th>float64</th><th>float64</th><th>float64</th><th>float64</th><th>float64</th><th>float64</th><th>float64</th><th>float64</th></tr></thead>\n",
       "<tr><td>J0437-4715</td><td>J0437-4715</td><td>57600.0</td><td>DE430</td><td>69.316656</td><td>-47.252699166666666</td><td>121.48</td><td>-71.43</td><td>0.0</td><td>0.10181492269904993</td><td>0.1</td><td>0.02</td><td>0.01</td><td>0.0</td><td>jbs+19</td><td>UTMOST-I</td><td>4789864076732331648</td><td>121.646</td><td>0.574</td><td>-70.697</td><td>0.65</td><td>-0.16599999999999682</td><td>-0.7330000000000041</td><td>0.5743483263665004</td><td>0.6500769185258003</td><td>-0.28902321531980874</td><td>-1.1275588766668583</td></tr>\n",
       "<tr><td>B1813-36</td><td>J1817-3618</td><td>57600.0</td><td>DE430</td><td>274.2744041666667</td><td>-36.30127777777778</td><td>19.0</td><td>-16.0</td><td>0.0</td><td>108.79853570658419</td><td>300.0</td><td>5.0</td><td>17.0</td><td>0.0</td><td>jbs+19</td><td>UTMOST-I</td><td>4038146565444090240</td><td>-3.162</td><td>0.148</td><td>-6.092</td><td>0.109</td><td>22.162</td><td>-9.908000000000001</td><td>5.002189920424853</td><td>17.0003494375851</td><td>4.430459529237088</td><td>-0.582811549631737</td></tr>\n",
       "</table></div>"
      ],
      "text/plain": [
       "<Table length=2>\n",
       "psr_bname   psr_name  pos_epoch ...        X_pmra              X_pmdec      \n",
       "                          d     ...       mas / yr             mas / yr     \n",
       " bytes10    bytes12    float64  ...       float64              float64      \n",
       "---------- ---------- --------- ... -------------------- -------------------\n",
       "J0437-4715 J0437-4715   57600.0 ... -0.28902321531980874 -1.1275588766668583\n",
       "  B1813-36 J1817-3618   57600.0 ...    4.430459529237088  -0.582811549631737"
      ]
     },
     "execution_count": 16,
     "metadata": {},
     "output_type": "execute_result"
    }
   ],
   "source": [
    "mask = pm_tab[\"eph\"] == \"DE430\"\n",
    "pm_tab430 = pm_tab[mask]\n",
    "\n",
    "pm_tab430"
   ]
  },
  {
   "cell_type": "markdown",
   "id": "10ddf857",
   "metadata": {},
   "source": [
    "## DE436 vs. Gaia EDR3"
   ]
  },
  {
   "cell_type": "code",
   "execution_count": 17,
   "id": "a9e9295d",
   "metadata": {
    "ExecuteTime": {
     "end_time": "2022-08-19T13:48:41.877652Z",
     "start_time": "2022-08-19T13:48:41.868457Z"
    },
    "scrolled": false
   },
   "outputs": [
    {
     "data": {
      "text/html": [
       "<div><i>Table length=8</i>\n",
       "<table id=\"table140392175474480\" class=\"table-striped table-bordered table-condensed\">\n",
       "<thead><tr><th>psr_bname</th><th>psr_name</th><th>pos_epoch</th><th>eph</th><th>ra</th><th>dec</th><th>pmra_t</th><th>pmdec_t</th><th>plx</th><th>ra_err</th><th>dec_err</th><th>pmra_err_t</th><th>pmdec_err_t</th><th>plx_err</th><th>ref</th><th>comment</th><th>source_id</th><th>pmra_g</th><th>pmra_err_g</th><th>pmdec_g</th><th>pmdec_err_g</th><th>dpmra</th><th>dpmdec</th><th>dpmra_err</th><th>dpmdec_err</th><th>X_pmra</th><th>X_pmdec</th></tr></thead>\n",
       "<thead><tr><th></th><th></th><th>d</th><th></th><th></th><th></th><th>mas / yr</th><th>mas / yr</th><th></th><th></th><th></th><th>mas / yr</th><th>mas / yr</th><th></th><th></th><th></th><th></th><th>mas / yr</th><th>mas / yr</th><th>mas / yr</th><th>mas / yr</th><th>mas / yr</th><th>mas / yr</th><th>mas / yr</th><th>mas / yr</th><th>mas / yr</th><th>mas / yr</th></tr></thead>\n",
       "<thead><tr><th>bytes10</th><th>bytes12</th><th>float64</th><th>bytes5</th><th>float64</th><th>float64</th><th>float64</th><th>float64</th><th>float64</th><th>float64</th><th>float64</th><th>float64</th><th>float64</th><th>float64</th><th>bytes6</th><th>bytes13</th><th>int64</th><th>float64</th><th>float64</th><th>float64</th><th>float64</th><th>float64</th><th>float64</th><th>float64</th><th>float64</th><th>float64</th><th>float64</th></tr></thead>\n",
       "<tr><td>J0437-4715</td><td>J0437-4715</td><td>55000.0</td><td>DE436</td><td>69.3163022208</td><td>-47.2525579444</td><td>121.443</td><td>-71.474</td><td>6.418</td><td>0.00503983</td><td>0.00530447</td><td>0.001435</td><td>0.00156</td><td>0.067263</td><td>pdd+19</td><td>IPTA-DR2</td><td>4789864076732331648</td><td>121.646</td><td>0.574</td><td>-70.697</td><td>0.65</td><td>-0.20300000000000296</td><td>-0.777000000000001</td><td>0.5740017937471973</td><td>0.6500018719973044</td><td>-0.3536574314076247</td><td>-1.195381172691797</td></tr>\n",
       "<tr><td>J1012+5307</td><td>J1012+5307</td><td>55291.0</td><td>DE436</td><td>153.139324</td><td>53.11730002777778</td><td>2.66</td><td>-25.5</td><td>1.3</td><td>0.09002681088274288</td><td>0.1</td><td>0.03</td><td>0.04</td><td>0.4</td><td>abb+18</td><td>NANOGrav-11yr</td><td>851610861391010944</td><td>2.736</td><td>0.292</td><td>-25.921</td><td>0.271</td><td>-0.07600000000000007</td><td>0.4209999999999994</td><td>0.29353705047233813</td><td>0.27393612394133054</td><td>-0.2589110978587081</td><td>1.5368546285270714</td></tr>\n",
       "<tr><td>J1012+5307</td><td>J1012+5307</td><td>55000.0</td><td>DE436</td><td>153.1393230429</td><td>53.1173056083</td><td>2.614</td><td>-25.486</td><td>0.933</td><td>0.04953387</td><td>0.06394984</td><td>0.010224</td><td>0.013773</td><td>0.192303</td><td>pdd+19</td><td>IPTA-DR2</td><td>851610861391010944</td><td>2.736</td><td>0.292</td><td>-25.921</td><td>0.271</td><td>-0.12200000000000033</td><td>0.4349999999999987</td><td>0.29217893520238586</td><td>0.271349766038226</td><td>-0.4175523465286559</td><td>1.6030970151590944</td></tr>\n",
       "<tr><td>J1024-0719</td><td>J1024-0719</td><td>55636.0</td><td>DE436</td><td>156.1611309125</td><td>-7.322087388888889</td><td>-35.27</td><td>-48.22</td><td>0.83</td><td>0.059510723146806305</td><td>0.1</td><td>0.017</td><td>0.03</td><td>0.13</td><td>rsc+21</td><td>PPTA-DR2e</td><td>3775277872387310208</td><td>-35.458</td><td>0.318</td><td>-48.352</td><td>0.357</td><td>0.18799999999999528</td><td>0.1319999999999979</td><td>0.31845407832213424</td><td>0.35825828671504584</td><td>0.5903519935763633</td><td>0.3684492582442037</td></tr>\n",
       "<tr><td>J1024-0719</td><td>J1024-0719</td><td>56239.0</td><td>DE436</td><td>156.16111399166664</td><td>-7.3221103888888885</td><td>-35.29</td><td>-48.2</td><td>0.8</td><td>0.08926608011575785</td><td>0.2</td><td>0.06</td><td>0.1</td><td>0.2</td><td>abb+18</td><td>NANOGrav-11yr</td><td>3775277872387310208</td><td>-35.458</td><td>0.318</td><td>-48.352</td><td>0.357</td><td>0.16799999999999926</td><td>0.15199999999999392</td><td>0.3236108774438832</td><td>0.37074114959092414</td><td>0.5191420057539068</td><td>0.4099895578565011</td></tr>\n",
       "<tr><td>J1024-0719</td><td>J1024-0719</td><td>55000.0</td><td>DE436</td><td>156.1611475046</td><td>-7.3220649306</td><td>-35.267</td><td>-48.225</td><td>0.822</td><td>0.04801056</td><td>0.09847672</td><td>0.017593</td><td>0.036161</td><td>0.102243</td><td>pdd+19</td><td>IPTA-DR2</td><td>3775277872387310208</td><td>-35.458</td><td>0.318</td><td>-48.352</td><td>0.357</td><td>0.1909999999999954</td><td>0.12699999999999534</td><td>0.31848628486796726</td><td>0.3588267240897757</td><td>0.5997118528327743</td><td>0.3539312751082077</td></tr>\n",
       "<tr><td>B1953+29</td><td>J1955+2908</td><td>56568.0</td><td>DE436</td><td>298.86614760000003</td><td>29.145400416666668</td><td>-1.1</td><td>-4.2</td><td>0.0</td><td>0.11790718871207326</td><td>0.2</td><td>0.1</td><td>0.2</td><td>1.0</td><td>abb+18</td><td>NANOGrav-11yr</td><td>2028584968839606784</td><td>-3.167</td><td>0.135</td><td>-7.827</td><td>0.167</td><td>2.0669999999999997</td><td>3.627</td><td>0.16800297616411444</td><td>0.2605551764981844</td><td>12.303353471433992</td><td>13.92027611481852</td></tr>\n",
       "<tr><td>B1953+29</td><td>J1955+2908</td><td>55000.0</td><td>DE436</td><td>298.8661490629</td><td>29.1454053639</td><td>-1.029</td><td>-4.171</td><td>-1.178</td><td>0.17596624</td><td>0.24031268</td><td>0.055342</td><td>0.078402</td><td>1.098837</td><td>pdd+19</td><td>IPTA-DR2</td><td>2028584968839606784</td><td>-3.167</td><td>0.135</td><td>-7.827</td><td>0.167</td><td>2.138</td><td>3.6559999999999997</td><td>0.14590317667549257</td><td>0.1844881394670129</td><td>14.653553464124958</td><td>19.816992087199758</td></tr>\n",
       "</table></div>"
      ],
      "text/plain": [
       "<Table length=8>\n",
       "psr_bname   psr_name  pos_epoch ...        X_pmra            X_pmdec      \n",
       "                          d     ...       mas / yr           mas / yr     \n",
       " bytes10    bytes12    float64  ...       float64            float64      \n",
       "---------- ---------- --------- ... ------------------- ------------------\n",
       "J0437-4715 J0437-4715   55000.0 ... -0.3536574314076247 -1.195381172691797\n",
       "J1012+5307 J1012+5307   55291.0 ... -0.2589110978587081 1.5368546285270714\n",
       "J1012+5307 J1012+5307   55000.0 ... -0.4175523465286559 1.6030970151590944\n",
       "J1024-0719 J1024-0719   55636.0 ...  0.5903519935763633 0.3684492582442037\n",
       "J1024-0719 J1024-0719   56239.0 ...  0.5191420057539068 0.4099895578565011\n",
       "J1024-0719 J1024-0719   55000.0 ...  0.5997118528327743 0.3539312751082077\n",
       "  B1953+29 J1955+2908   56568.0 ...  12.303353471433992  13.92027611481852\n",
       "  B1953+29 J1955+2908   55000.0 ...  14.653553464124958 19.816992087199758"
      ]
     },
     "execution_count": 17,
     "metadata": {},
     "output_type": "execute_result"
    }
   ],
   "source": [
    "mask = pm_tab[\"eph\"] == \"DE436\"\n",
    "pm_tab436 = pm_tab[mask]\n",
    "\n",
    "pm_tab436"
   ]
  },
  {
   "cell_type": "code",
   "execution_count": 18,
   "id": "f2038201",
   "metadata": {
    "ExecuteTime": {
     "end_time": "2022-08-19T13:48:42.682972Z",
     "start_time": "2022-08-19T13:48:41.879380Z"
    }
   },
   "outputs": [
    {
     "data": {
      "text/plain": [
       "<matplotlib.legend.Legend at 0x7faf93940a00>"
      ]
     },
     "execution_count": 18,
     "metadata": {},
     "output_type": "execute_result"
    },
    {
     "data": {
      "image/png": "[encoded data removed]",
      "text/plain": [
       "<Figure size 432x432 with 1 Axes>"
      ]
     },
     "metadata": {
      "needs_background": "light"
     },
     "output_type": "display_data"
    }
   ],
   "source": [
    "fig, ax = plt.subplots(figsize=(6, 6))\n",
    "\n",
    "ax.errorbar(np.fabs(pm_tab200[\"pmra_t\"]),\n",
    "            np.fabs(pm_tab200[\"pmra_g\"]),\n",
    "            xerr=pm_tab200[\"pmra_err_t\"],\n",
    "            yerr=pm_tab200[\"pmra_err_g\"],\n",
    "            fmt=\"b^\",\n",
    "            ecolor=\"k\",\n",
    "            elinewidth=0.5,\n",
    "            capsize=1,\n",
    "            label=\"DE200\")\n",
    "\n",
    "ax.errorbar(np.fabs(pm_tab405[\"pmra_t\"]),\n",
    "            np.fabs(pm_tab405[\"pmra_g\"]),\n",
    "            xerr=pm_tab405[\"pmra_err_t\"],\n",
    "            yerr=pm_tab405[\"pmra_err_g\"],\n",
    "            fmt=\"gx\",\n",
    "            ecolor=\"k\",\n",
    "            elinewidth=0.5,\n",
    "            capsize=1,\n",
    "            label=\"DE405\")\n",
    "\n",
    "ax.errorbar(np.fabs(pm_tab421[\"pmra_t\"]),\n",
    "            np.fabs(pm_tab421[\"pmra_g\"]),\n",
    "            xerr=pm_tab421[\"pmra_err_t\"],\n",
    "            yerr=pm_tab421[\"pmra_err_g\"],\n",
    "            fmt=\"v\",\n",
    "            color=\"purple\",\n",
    "            ecolor=\"k\",\n",
    "            elinewidth=0.5,\n",
    "            capsize=1,\n",
    "            label=\"DE421\")\n",
    "\n",
    "ax.errorbar(np.fabs(pm_tab430[\"pmra_t\"]),\n",
    "            np.fabs(pm_tab430[\"pmra_g\"]),\n",
    "            xerr=pm_tab430[\"pmra_err_t\"],\n",
    "            yerr=pm_tab430[\"pmra_err_g\"],\n",
    "            fmt=\"ys\",\n",
    "            ecolor=\"k\",\n",
    "            elinewidth=0.5,\n",
    "            capsize=1,\n",
    "            label=\"DE430\")\n",
    "\n",
    "ax.errorbar(np.fabs(pm_tab436[\"pmra_t\"]),\n",
    "            np.fabs(pm_tab436[\"pmra_g\"]),\n",
    "            xerr=pm_tab436[\"pmra_err_t\"],\n",
    "            yerr=pm_tab436[\"pmra_err_g\"],\n",
    "            fmt=\"ro\",\n",
    "            ecolor=\"k\",\n",
    "            elinewidth=0.5,\n",
    "            capsize=1,\n",
    "            label=\"DE436\")\n",
    "\n",
    "x = np.arange(0.01, 250, 5)\n",
    "ax.plot(x, x, \"--\", color=\"tab:grey\", lw=1)\n",
    "ax.text(40, 70, \"$y=x$\", rotation=45, color=\"tab:grey\", fontsize=12)\n",
    "\n",
    "ax.text(2.0, 0.1, \"PSR J1816+4510\", color=\"purple\")\n",
    "ax.text(19, 2.2, \"PSR J1817-3618\", color=\"y\")\n",
    "ax.text(0.3, 4, \"PSR J1955+2908\", color=\"r\")\n",
    "\n",
    "ax.set_yscale(\"log\")\n",
    "ax.set_xscale(\"log\")\n",
    "ax.axis(\"square\")\n",
    "ax.axis([0.05, 150, 0.05, 150])\n",
    "\n",
    "ax.set_xlabel(\"$|\\mu_{\\\\alpha\\cos\\delta}|$ from timing (mas yr$^{-1}$)\",\n",
    "              fontsize=15)\n",
    "ax.set_ylabel(\"$|\\mu_{\\\\alpha\\cos\\delta}|$ from Gaia (mas yr$^{-1}$)\",\n",
    "              fontsize=15)\n",
    "\n",
    "# plt.grid(lw=1)\n",
    "plt.tight_layout()\n",
    "plt.legend(loc=\"upper left\")\n",
    "\n",
    "# plt.savefig(\"../plots/gedr3_pmra-com.eps\")"
   ]
  },
  {
   "cell_type": "code",
   "execution_count": 19,
   "id": "1496c26a",
   "metadata": {
    "ExecuteTime": {
     "end_time": "2022-08-19T13:48:43.247425Z",
     "start_time": "2022-08-19T13:48:42.685406Z"
    },
    "scrolled": false
   },
   "outputs": [
    {
     "data": {
      "text/plain": [
       "<matplotlib.legend.Legend at 0x7fafa069cac0>"
      ]
     },
     "execution_count": 19,
     "metadata": {},
     "output_type": "execute_result"
    },
    {
     "data": {
      "image/png": "[encoded data removed]",
      "text/plain": [
       "<Figure size 432x432 with 1 Axes>"
      ]
     },
     "metadata": {
      "needs_background": "light"
     },
     "output_type": "display_data"
    }
   ],
   "source": [
    "fig, ax = plt.subplots(figsize=(6, 6))\n",
    "\n",
    "ax.errorbar(np.fabs(pm_tab200[\"pmdec_t\"]),\n",
    "            np.fabs(pm_tab200[\"pmdec_g\"]),\n",
    "            xerr=pm_tab200[\"pmdec_err_t\"],\n",
    "            yerr=pm_tab200[\"pmdec_err_g\"],\n",
    "            fmt=\"b^\",\n",
    "            ecolor=\"k\",\n",
    "            elinewidth=0.5,\n",
    "            capsize=1,\n",
    "            label=\"DE200\")\n",
    "\n",
    "ax.errorbar(np.fabs(pm_tab405[\"pmdec_t\"]),\n",
    "            np.fabs(pm_tab405[\"pmdec_g\"]),\n",
    "            xerr=pm_tab405[\"pmdec_err_t\"],\n",
    "            yerr=pm_tab405[\"pmdec_err_g\"],\n",
    "            fmt=\"gx\",\n",
    "            ecolor=\"k\",\n",
    "            elinewidth=0.5,\n",
    "            capsize=1,\n",
    "            label=\"DE405\")\n",
    "\n",
    "ax.errorbar(np.fabs(pm_tab421[\"pmdec_t\"]),\n",
    "            np.fabs(pm_tab421[\"pmdec_g\"]),\n",
    "            xerr=pm_tab421[\"pmdec_err_t\"],\n",
    "            yerr=pm_tab421[\"pmdec_err_g\"],\n",
    "            fmt=\"v\",\n",
    "            color=\"purple\",\n",
    "            ecolor=\"k\",\n",
    "            elinewidth=0.5,\n",
    "            capsize=1,\n",
    "            label=\"DE421\")\n",
    "\n",
    "ax.errorbar(np.fabs(pm_tab430[\"pmdec_t\"]),\n",
    "            np.fabs(pm_tab430[\"pmdec_g\"]),\n",
    "            xerr=pm_tab430[\"pmdec_err_t\"],\n",
    "            yerr=pm_tab430[\"pmdec_err_g\"],\n",
    "            fmt=\"ys\",\n",
    "            ecolor=\"k\",\n",
    "            elinewidth=0.5,\n",
    "            capsize=1,\n",
    "            label=\"DE430\")\n",
    "\n",
    "ax.errorbar(np.fabs(pm_tab436[\"pmdec_t\"]),\n",
    "            np.fabs(pm_tab436[\"pmdec_g\"]),\n",
    "            xerr=pm_tab436[\"pmdec_err_t\"],\n",
    "            yerr=pm_tab436[\"pmdec_err_g\"],\n",
    "            fmt=\"ro\",\n",
    "            ecolor=\"k\",\n",
    "            elinewidth=0.5,\n",
    "            capsize=1,\n",
    "            label=\"DE436\")\n",
    "\n",
    "x = np.arange(0.01, 250, 5)\n",
    "ax.plot(x, x, \"--\", color=\"tab:grey\", lw=1)\n",
    "ax.text(40, 70, \"$y=x$\", rotation=45, color=\"tab:grey\", fontsize=12)\n",
    "\n",
    "ax.text(80, 18, \"PSR J1024-0719\", color=\"b\", rotation=\"vertical\")\n",
    "ax.text(2, 9, \"PSR J1955+2908\", color=\"r\")\n",
    "\n",
    "\n",
    "ax.set_yscale(\"log\")\n",
    "ax.set_xscale(\"log\")\n",
    "ax.axis(\"square\")\n",
    "ax.axis([0.2, 125, 0.2, 125])\n",
    "\n",
    "ax.set_xlabel(\"$|\\mu_{\\delta}|$ from timing (mas yr$^{-1}$)\", fontsize=15)\n",
    "ax.set_ylabel(\"$|\\mu_{\\delta}|$ from Gaia (mas yr$^{-1}$)\", fontsize=15)\n",
    "\n",
    "# plt.grid(lw=1)\n",
    "plt.tight_layout()\n",
    "plt.legend(loc=\"upper left\")\n",
    "\n",
    "# plt.savefig(\"../plots/gedr3_pmdec-com.eps\")"
   ]
  },
  {
   "cell_type": "markdown",
   "id": "0ede1c96",
   "metadata": {},
   "source": [
    "Compute the PM differences."
   ]
  },
  {
   "cell_type": "code",
   "execution_count": 20,
   "id": "cc18093f",
   "metadata": {
    "ExecuteTime": {
     "end_time": "2022-08-19T13:48:43.255818Z",
     "start_time": "2022-08-19T13:48:43.248859Z"
    }
   },
   "outputs": [
    {
     "data": {
      "text/html": [
       "<div><i>Table length=1</i>\n",
       "<table id=\"table140392562893536\" class=\"table-striped table-bordered table-condensed\">\n",
       "<thead><tr><th>psr_name</th><th>eph</th><th>pmra_g</th><th>dpmra</th><th>X_pmra</th><th>pmdec_g</th><th>dpmdec</th><th>X_pmdec</th><th>ref</th></tr></thead>\n",
       "<thead><tr><th></th><th></th><th>mas / yr</th><th>mas / yr</th><th>mas / yr</th><th>mas / yr</th><th>mas / yr</th><th>mas / yr</th><th></th></tr></thead>\n",
       "<thead><tr><th>bytes12</th><th>bytes5</th><th>float64</th><th>float64</th><th>float64</th><th>float64</th><th>float64</th><th>float64</th><th>bytes6</th></tr></thead>\n",
       "<tr><td>J0348+0432</td><td>DE421</td><td>3.438</td><td>0.6019999999999999</td><td>0.44444992539752887</td><td>-0.226</td><td>3.726</td><td>3.4794041599399845</td><td>afw+13</td></tr>\n",
       "</table></div>"
      ],
      "text/plain": [
       "<Table length=1>\n",
       " psr_name   eph    pmra_g  ...  dpmdec       X_pmdec        ref  \n",
       "                  mas / yr ... mas / yr      mas / yr            \n",
       " bytes12   bytes5 float64  ... float64       float64       bytes6\n",
       "---------- ------ -------- ... -------- ------------------ ------\n",
       "J0348+0432  DE421    3.438 ...    3.726 3.4794041599399845 afw+13"
      ]
     },
     "execution_count": 20,
     "metadata": {},
     "output_type": "execute_result"
    }
   ],
   "source": [
    "pm_tab[pm_tab[\"psr_name\"] == \"J0348+0432\"][\"psr_name\",\n",
    "                                           \"eph\", \"pmra_g\", \"dpmra\", \"X_pmra\", \"pmdec_g\", \"dpmdec\", \"X_pmdec\", \"ref\"]"
   ]
  },
  {
   "cell_type": "code",
   "execution_count": 21,
   "id": "e7fd8338",
   "metadata": {
    "ExecuteTime": {
     "end_time": "2022-08-19T13:48:43.265385Z",
     "start_time": "2022-08-19T13:48:43.258171Z"
    }
   },
   "outputs": [
    {
     "data": {
      "text/html": [
       "<div><i>Table length=6</i>\n",
       "<table id=\"table140392562896752\" class=\"table-striped table-bordered table-condensed\">\n",
       "<thead><tr><th>psr_name</th><th>eph</th><th>pmra_g</th><th>dpmra</th><th>X_pmra</th><th>pmdec_g</th><th>dpmdec</th><th>X_pmdec</th><th>ref</th></tr></thead>\n",
       "<thead><tr><th></th><th></th><th>mas / yr</th><th>mas / yr</th><th>mas / yr</th><th>mas / yr</th><th>mas / yr</th><th>mas / yr</th><th></th></tr></thead>\n",
       "<thead><tr><th>bytes12</th><th>bytes5</th><th>float64</th><th>float64</th><th>float64</th><th>float64</th><th>float64</th><th>float64</th><th>bytes6</th></tr></thead>\n",
       "<tr><td>J0437-4715</td><td>DE421</td><td>121.646</td><td>-0.20700000000000784</td><td>-0.36062517074088435</td><td>-70.697</td><td>-0.7779999999999916</td><td>-1.1969176686861682</td><td>rhc+16</td></tr>\n",
       "<tr><td>J0437-4715</td><td>DE430</td><td>121.646</td><td>-0.16599999999999682</td><td>-0.28902321531980874</td><td>-70.697</td><td>-0.7330000000000041</td><td>-1.1275588766668583</td><td>jbs+19</td></tr>\n",
       "<tr><td>J0437-4715</td><td>DE421</td><td>121.646</td><td>-0.2049999999999983</td><td>-0.3571412649087603</td><td>-70.697</td><td>-0.7779999999999916</td><td>-1.1969181501277213</td><td>vlh+16</td></tr>\n",
       "<tr><td>J0437-4715</td><td>DE405</td><td>121.646</td><td>-0.3359999999999985</td><td>-0.5852770410230046</td><td>-70.697</td><td>-0.8329999999999984</td><td>-1.2813868270988893</td><td>hbo06</td></tr>\n",
       "<tr><td>J0437-4715</td><td>DE200</td><td>121.646</td><td>-0.34600000000000364</td><td>-0.5692237108118877</td><td>-70.697</td><td>0.29699999999999704</td><td>0.4148675956871253</td><td>bbm+97</td></tr>\n",
       "<tr><td>J0437-4715</td><td>DE436</td><td>121.646</td><td>-0.20300000000000296</td><td>-0.3536574314076247</td><td>-70.697</td><td>-0.777000000000001</td><td>-1.195381172691797</td><td>pdd+19</td></tr>\n",
       "</table></div>"
      ],
      "text/plain": [
       "<Table length=6>\n",
       " psr_name   eph    pmra_g  ...        dpmdec             X_pmdec        ref  \n",
       "                  mas / yr ...       mas / yr            mas / yr            \n",
       " bytes12   bytes5 float64  ...       float64             float64       bytes6\n",
       "---------- ------ -------- ... ------------------- ------------------- ------\n",
       "J0437-4715  DE421  121.646 ... -0.7779999999999916 -1.1969176686861682 rhc+16\n",
       "J0437-4715  DE430  121.646 ... -0.7330000000000041 -1.1275588766668583 jbs+19\n",
       "J0437-4715  DE421  121.646 ... -0.7779999999999916 -1.1969181501277213 vlh+16\n",
       "J0437-4715  DE405  121.646 ... -0.8329999999999984 -1.2813868270988893  hbo06\n",
       "J0437-4715  DE200  121.646 ... 0.29699999999999704  0.4148675956871253 bbm+97\n",
       "J0437-4715  DE436  121.646 ...  -0.777000000000001  -1.195381172691797 pdd+19"
      ]
     },
     "execution_count": 21,
     "metadata": {},
     "output_type": "execute_result"
    }
   ],
   "source": [
    "pm_tab[pm_tab[\"psr_name\"] == \"J0437-4715\"][\"psr_name\",\n",
    "                                           \"eph\", \"pmra_g\", \"dpmra\", \"X_pmra\", \"pmdec_g\", \"dpmdec\", \"X_pmdec\", \"ref\"]"
   ]
  },
  {
   "cell_type": "code",
   "execution_count": 22,
   "id": "249af92e",
   "metadata": {
    "ExecuteTime": {
     "end_time": "2022-08-19T13:48:43.275123Z",
     "start_time": "2022-08-19T13:48:43.267906Z"
    }
   },
   "outputs": [
    {
     "data": {
      "text/html": [
       "<div><i>Table length=8</i>\n",
       "<table id=\"table140392562895168\" class=\"table-striped table-bordered table-condensed\">\n",
       "<thead><tr><th>psr_name</th><th>eph</th><th>pmra_g</th><th>dpmra</th><th>X_pmra</th><th>pmdec_g</th><th>dpmdec</th><th>X_pmdec</th><th>ref</th></tr></thead>\n",
       "<thead><tr><th></th><th></th><th>mas / yr</th><th>mas / yr</th><th>mas / yr</th><th>mas / yr</th><th>mas / yr</th><th>mas / yr</th><th></th></tr></thead>\n",
       "<thead><tr><th>bytes12</th><th>bytes5</th><th>float64</th><th>float64</th><th>float64</th><th>float64</th><th>float64</th><th>float64</th><th>bytes6</th></tr></thead>\n",
       "<tr><td>J1012+5307</td><td>DE436</td><td>2.736</td><td>-0.07600000000000007</td><td>-0.2589110978587081</td><td>-25.921</td><td>0.4209999999999994</td><td>1.5368546285270714</td><td>abb+18</td></tr>\n",
       "<tr><td>J1012+5307</td><td>DE421</td><td>2.736</td><td>-0.10900000000000043</td><td>-0.37305915305054604</td><td>-25.921</td><td>0.46300000000000097</td><td>1.706227692622076</td><td>vlh+16</td></tr>\n",
       "<tr><td>J1012+5307</td><td>DE200</td><td>2.736</td><td>-0.4360000000000004</td><td>-0.5748478228795187</td><td>-25.921</td><td>0.12099999999999866</td><td>0.1432538618176524</td><td>hlk+04</td></tr>\n",
       "<tr><td>J1012+5307</td><td>DE436</td><td>2.736</td><td>-0.12200000000000033</td><td>-0.4175523465286559</td><td>-25.921</td><td>0.4349999999999987</td><td>1.6030970151590944</td><td>pdd+19</td></tr>\n",
       "<tr><td>J1012+5307</td><td>DE405</td><td>2.736</td><td>-0.17400000000000038</td><td>-0.5952066901324875</td><td>-25.921</td><td>0.31099999999999994</td><td>1.1444889508541882</td><td>lwj+09</td></tr>\n",
       "<tr><td>J1012+5307</td><td>DE421</td><td>2.736</td><td>-0.2360000000000002</td><td>-0.666805026728929</td><td>-25.921</td><td>0.32099999999999795</td><td>0.9530594880956691</td><td>mnf+16</td></tr>\n",
       "<tr><td>J1012+5307</td><td>DE421</td><td>2.736</td><td>-0.12700000000000022</td><td>-0.43476836674348307</td><td>-25.921</td><td>0.43900000000000006</td><td>1.6185933661436656</td><td>dcl+16</td></tr>\n",
       "<tr><td>J1012+5307</td><td>DE200</td><td>2.736</td><td>-0.3360000000000003</td><td>-0.9493495295801702</td><td>-25.921</td><td>0.7210000000000001</td><td>2.140672557373775</td><td>lcw+01</td></tr>\n",
       "</table></div>"
      ],
      "text/plain": [
       "<Table length=8>\n",
       " psr_name   eph    pmra_g  ...        dpmdec            X_pmdec        ref  \n",
       "                  mas / yr ...       mas / yr           mas / yr            \n",
       " bytes12   bytes5 float64  ...       float64            float64       bytes6\n",
       "---------- ------ -------- ... ------------------- ------------------ ------\n",
       "J1012+5307  DE436    2.736 ...  0.4209999999999994 1.5368546285270714 abb+18\n",
       "J1012+5307  DE421    2.736 ... 0.46300000000000097  1.706227692622076 vlh+16\n",
       "J1012+5307  DE200    2.736 ... 0.12099999999999866 0.1432538618176524 hlk+04\n",
       "J1012+5307  DE436    2.736 ...  0.4349999999999987 1.6030970151590944 pdd+19\n",
       "J1012+5307  DE405    2.736 ... 0.31099999999999994 1.1444889508541882 lwj+09\n",
       "J1012+5307  DE421    2.736 ... 0.32099999999999795 0.9530594880956691 mnf+16\n",
       "J1012+5307  DE421    2.736 ... 0.43900000000000006 1.6185933661436656 dcl+16\n",
       "J1012+5307  DE200    2.736 ...  0.7210000000000001  2.140672557373775 lcw+01"
      ]
     },
     "execution_count": 22,
     "metadata": {},
     "output_type": "execute_result"
    }
   ],
   "source": [
    "pm_tab[pm_tab[\"psr_name\"] == \"J1012+5307\"][\"psr_name\",\n",
    "                                           \"eph\", \"pmra_g\", \"dpmra\", \"X_pmra\", \"pmdec_g\", \"dpmdec\", \"X_pmdec\", \"ref\"]"
   ]
  },
  {
   "cell_type": "code",
   "execution_count": 23,
   "id": "53c1c428",
   "metadata": {
    "ExecuteTime": {
     "end_time": "2022-08-19T13:48:43.285017Z",
     "start_time": "2022-08-19T13:48:43.277006Z"
    }
   },
   "outputs": [
    {
     "data": {
      "text/html": [
       "<div><i>Table length=11</i>\n",
       "<table id=\"table140392562834064\" class=\"table-striped table-bordered table-condensed\">\n",
       "<thead><tr><th>psr_name</th><th>eph</th><th>pmra_g</th><th>dpmra</th><th>X_pmra</th><th>pmdec_g</th><th>dpmdec</th><th>X_pmdec</th><th>ref</th></tr></thead>\n",
       "<thead><tr><th></th><th></th><th>mas / yr</th><th>mas / yr</th><th>mas / yr</th><th>mas / yr</th><th>mas / yr</th><th>mas / yr</th><th></th></tr></thead>\n",
       "<thead><tr><th>bytes12</th><th>bytes5</th><th>float64</th><th>float64</th><th>float64</th><th>float64</th><th>float64</th><th>float64</th><th>bytes6</th></tr></thead>\n",
       "<tr><td>J1024-0719</td><td>DE421</td><td>-35.458</td><td>0.12699999999999534</td><td>0.39629688512051797</td><td>-48.352</td><td>0.03399999999999892</td><td>0.09296254329200228</td><td>rhc+16</td></tr>\n",
       "<tr><td>J1024-0719</td><td>DE421</td><td>-35.458</td><td>0.17799999999999727</td><td>0.557274061267622</td><td>-48.352</td><td>0.17199999999999704</td><td>0.4727898177716195</td><td>dcl+16</td></tr>\n",
       "<tr><td>J1024-0719</td><td>DE436</td><td>-35.458</td><td>0.18799999999999528</td><td>0.5903519935763633</td><td>-48.352</td><td>0.1319999999999979</td><td>0.3684492582442037</td><td>rsc+21</td></tr>\n",
       "<tr><td>J1024-0719</td><td>DE405</td><td>-35.458</td><td>0.15800000000000125</td><td>0.4205877779560629</td><td>-48.352</td><td>0.15199999999999392</td><td>0.32596042888147314</td><td>vbc+09</td></tr>\n",
       "<tr><td>J1024-0719</td><td>DE200</td><td>-35.458</td><td>-5.542000000000002</td><td>-2.7366236203450347</td><td>-48.352</td><td>-21.648000000000003</td><td>-7.165443431478145</td><td>tsb+99</td></tr>\n",
       "<tr><td>J1024-0719</td><td>DE200</td><td>-35.458</td><td>0.4579999999999984</td><td>0.11413987186611332</td><td>-48.352</td><td>0.35199999999999676</td><td>0.04395625473085716</td><td>hlk+04</td></tr>\n",
       "<tr><td>J1024-0719</td><td>DE405</td><td>-35.458</td><td>0.5579999999999998</td><td>1.0919702438690824</td><td>-48.352</td><td>1.3519999999999968</td><td>1.2732926693091622</td><td>hbo06</td></tr>\n",
       "<tr><td>J1024-0719</td><td>DE421</td><td>-35.458</td><td>0.25799999999999557</td><td>0.7739551119052132</td><td>-48.352</td><td>0.35199999999999676</td><td>0.8602038546459445</td><td>mnf+16</td></tr>\n",
       "<tr><td>J1024-0719</td><td>DE421</td><td>-35.458</td><td>0.1389999999999958</td><td>0.4355062987621894</td><td>-48.352</td><td>0.06700000000000017</td><td>0.1854424863807389</td><td>vlh+16</td></tr>\n",
       "<tr><td>J1024-0719</td><td>DE436</td><td>-35.458</td><td>0.16799999999999926</td><td>0.5191420057539068</td><td>-48.352</td><td>0.15199999999999392</td><td>0.4099895578565011</td><td>abb+18</td></tr>\n",
       "<tr><td>J1024-0719</td><td>DE436</td><td>-35.458</td><td>0.1909999999999954</td><td>0.5997118528327743</td><td>-48.352</td><td>0.12699999999999534</td><td>0.3539312751082077</td><td>pdd+19</td></tr>\n",
       "</table></div>"
      ],
      "text/plain": [
       "<Table length=11>\n",
       " psr_name   eph    pmra_g  ...        dpmdec             X_pmdec        ref  \n",
       "                  mas / yr ...       mas / yr            mas / yr            \n",
       " bytes12   bytes5 float64  ...       float64             float64       bytes6\n",
       "---------- ------ -------- ... ------------------- ------------------- ------\n",
       "J1024-0719  DE421  -35.458 ... 0.03399999999999892 0.09296254329200228 rhc+16\n",
       "J1024-0719  DE421  -35.458 ... 0.17199999999999704  0.4727898177716195 dcl+16\n",
       "J1024-0719  DE436  -35.458 ...  0.1319999999999979  0.3684492582442037 rsc+21\n",
       "J1024-0719  DE405  -35.458 ... 0.15199999999999392 0.32596042888147314 vbc+09\n",
       "J1024-0719  DE200  -35.458 ... -21.648000000000003  -7.165443431478145 tsb+99\n",
       "J1024-0719  DE200  -35.458 ... 0.35199999999999676 0.04395625473085716 hlk+04\n",
       "J1024-0719  DE405  -35.458 ...  1.3519999999999968  1.2732926693091622  hbo06\n",
       "J1024-0719  DE421  -35.458 ... 0.35199999999999676  0.8602038546459445 mnf+16\n",
       "J1024-0719  DE421  -35.458 ... 0.06700000000000017  0.1854424863807389 vlh+16\n",
       "J1024-0719  DE436  -35.458 ... 0.15199999999999392  0.4099895578565011 abb+18\n",
       "J1024-0719  DE436  -35.458 ... 0.12699999999999534  0.3539312751082077 pdd+19"
      ]
     },
     "execution_count": 23,
     "metadata": {},
     "output_type": "execute_result"
    }
   ],
   "source": [
    "pm_tab[pm_tab[\"psr_name\"] == \"J1024-0719\"][\"psr_name\",\n",
    "                                           \"eph\", \"pmra_g\", \"dpmra\", \"X_pmra\", \"pmdec_g\", \"dpmdec\", \"X_pmdec\", \"ref\"]"
   ]
  },
  {
   "cell_type": "code",
   "execution_count": 24,
   "id": "77f030a0",
   "metadata": {
    "ExecuteTime": {
     "end_time": "2022-08-19T13:48:43.296701Z",
     "start_time": "2022-08-19T13:48:43.288382Z"
    }
   },
   "outputs": [
    {
     "data": {
      "text/html": [
       "<div><i>Table length=1</i>\n",
       "<table id=\"table140392562834592\" class=\"table-striped table-bordered table-condensed\">\n",
       "<thead><tr><th>psr_name</th><th>eph</th><th>pmra_g</th><th>dpmra</th><th>X_pmra</th><th>pmdec_g</th><th>dpmdec</th><th>X_pmdec</th><th>ref</th></tr></thead>\n",
       "<thead><tr><th></th><th></th><th>mas / yr</th><th>mas / yr</th><th>mas / yr</th><th>mas / yr</th><th>mas / yr</th><th>mas / yr</th><th></th></tr></thead>\n",
       "<thead><tr><th>bytes12</th><th>bytes5</th><th>float64</th><th>float64</th><th>float64</th><th>float64</th><th>float64</th><th>float64</th><th>bytes6</th></tr></thead>\n",
       "<tr><td>J1302-6350</td><td>DE421</td><td>-7.093</td><td>0.4930000000000003</td><td>2.732822682351714</td><td>-0.342</td><td>-4.058000000000001</td><td>-28.84186369908669</td><td>sjm14</td></tr>\n",
       "</table></div>"
      ],
      "text/plain": [
       "<Table length=1>\n",
       " psr_name   eph    pmra_g  ...       dpmdec            X_pmdec        ref  \n",
       "                  mas / yr ...      mas / yr           mas / yr            \n",
       " bytes12   bytes5 float64  ...      float64            float64       bytes6\n",
       "---------- ------ -------- ... ------------------ ------------------ ------\n",
       "J1302-6350  DE421   -7.093 ... -4.058000000000001 -28.84186369908669  sjm14"
      ]
     },
     "execution_count": 24,
     "metadata": {},
     "output_type": "execute_result"
    }
   ],
   "source": [
    "pm_tab[pm_tab[\"psr_name\"] == \"J1302-6350\"][\"psr_name\",\n",
    "                                           \"eph\", \"pmra_g\", \"dpmra\", \"X_pmra\", \"pmdec_g\", \"dpmdec\", \"X_pmdec\", \"ref\"]"
   ]
  },
  {
   "cell_type": "code",
   "execution_count": 25,
   "id": "a7d7f21a",
   "metadata": {
    "ExecuteTime": {
     "end_time": "2022-08-19T13:48:43.308222Z",
     "start_time": "2022-08-19T13:48:43.299219Z"
    }
   },
   "outputs": [
    {
     "data": {
      "text/html": [
       "<div><i>Table length=1</i>\n",
       "<table id=\"table140392562896560\" class=\"table-striped table-bordered table-condensed\">\n",
       "<thead><tr><th>psr_name</th><th>eph</th><th>pmra_g</th><th>dpmra</th><th>X_pmra</th><th>pmdec_g</th><th>dpmdec</th><th>X_pmdec</th><th>ref</th></tr></thead>\n",
       "<thead><tr><th></th><th></th><th>mas / yr</th><th>mas / yr</th><th>mas / yr</th><th>mas / yr</th><th>mas / yr</th><th>mas / yr</th><th></th></tr></thead>\n",
       "<thead><tr><th>bytes12</th><th>bytes5</th><th>float64</th><th>float64</th><th>float64</th><th>float64</th><th>float64</th><th>float64</th><th>bytes6</th></tr></thead>\n",
       "<tr><td>J1431-4715</td><td>DE421</td><td>-11.825</td><td>4.824999999999999</td><td>1.6067073648566605</td><td>-14.519</td><td>6.519</td><td>1.6286052892020373</td><td>btb+15</td></tr>\n",
       "</table></div>"
      ],
      "text/plain": [
       "<Table length=1>\n",
       " psr_name   eph    pmra_g  ...  dpmdec       X_pmdec        ref  \n",
       "                  mas / yr ... mas / yr      mas / yr            \n",
       " bytes12   bytes5 float64  ... float64       float64       bytes6\n",
       "---------- ------ -------- ... -------- ------------------ ------\n",
       "J1431-4715  DE421  -11.825 ...    6.519 1.6286052892020373 btb+15"
      ]
     },
     "execution_count": 25,
     "metadata": {},
     "output_type": "execute_result"
    }
   ],
   "source": [
    "pm_tab[pm_tab[\"psr_name\"] == \"J1431-4715\"][\"psr_name\",\n",
    "                                           \"eph\", \"pmra_g\", \"dpmra\", \"X_pmra\", \"pmdec_g\", \"dpmdec\", \"X_pmdec\", \"ref\"]"
   ]
  },
  {
   "cell_type": "code",
   "execution_count": 26,
   "id": "0d5e5ea0",
   "metadata": {
    "ExecuteTime": {
     "end_time": "2022-08-19T13:48:43.323668Z",
     "start_time": "2022-08-19T13:48:43.315485Z"
    }
   },
   "outputs": [
    {
     "data": {
      "text/html": [
       "<div><i>Table length=1</i>\n",
       "<table id=\"table140392175430336\" class=\"table-striped table-bordered table-condensed\">\n",
       "<thead><tr><th>psr_name</th><th>eph</th><th>pmra_g</th><th>pmra_err_g</th><th>dpmra</th><th>X_pmra</th><th>pmdec_g</th><th>pmdec_err_g</th><th>dpmdec</th><th>X_pmdec</th><th>ref</th></tr></thead>\n",
       "<thead><tr><th></th><th></th><th>mas / yr</th><th>mas / yr</th><th>mas / yr</th><th>mas / yr</th><th>mas / yr</th><th>mas / yr</th><th>mas / yr</th><th>mas / yr</th><th></th></tr></thead>\n",
       "<thead><tr><th>bytes12</th><th>bytes5</th><th>float64</th><th>float64</th><th>float64</th><th>float64</th><th>float64</th><th>float64</th><th>float64</th><th>float64</th><th>bytes6</th></tr></thead>\n",
       "<tr><td>J1816+4510</td><td>DE421</td><td>-0.059</td><td>0.123</td><td>5.359</td><td>6.620950558904728</td><td>-4.4</td><td>0.117</td><td>1.4000000000000004</td><td>1.390514970097911</td><td>slr+14</td></tr>\n",
       "</table></div>"
      ],
      "text/plain": [
       "<Table length=1>\n",
       " psr_name   eph    pmra_g  ...       dpmdec            X_pmdec       ref  \n",
       "                  mas / yr ...      mas / yr           mas / yr           \n",
       " bytes12   bytes5 float64  ...      float64            float64      bytes6\n",
       "---------- ------ -------- ... ------------------ ----------------- ------\n",
       "J1816+4510  DE421   -0.059 ... 1.4000000000000004 1.390514970097911 slr+14"
      ]
     },
     "execution_count": 26,
     "metadata": {},
     "output_type": "execute_result"
    }
   ],
   "source": [
    "pm_tab[pm_tab[\"psr_name\"] == \"J1816+4510\"][\"psr_name\",\n",
    "                                          \"eph\", \"pmra_g\", \"pmra_err_g\", \"dpmra\", \"X_pmra\", \"pmdec_g\", \"pmdec_err_g\", \"dpmdec\", \"X_pmdec\", \"ref\"]"
   ]
  },
  {
   "cell_type": "code",
   "execution_count": 27,
   "id": "95bab739",
   "metadata": {
    "ExecuteTime": {
     "end_time": "2022-08-19T13:48:43.333390Z",
     "start_time": "2022-08-19T13:48:43.325461Z"
    }
   },
   "outputs": [
    {
     "data": {
      "text/html": [
       "<div><i>Table length=1</i>\n",
       "<table id=\"table140391475148064\" class=\"table-striped table-bordered table-condensed\">\n",
       "<thead><tr><th>psr_name</th><th>eph</th><th>pmra_g</th><th>pmra_err_g</th><th>dpmra</th><th>X_pmra</th><th>pmdec_g</th><th>pmdec_err_g</th><th>dpmdec</th><th>X_pmdec</th><th>ref</th></tr></thead>\n",
       "<thead><tr><th></th><th></th><th>mas / yr</th><th>mas / yr</th><th>mas / yr</th><th>mas / yr</th><th>mas / yr</th><th>mas / yr</th><th>mas / yr</th><th>mas / yr</th><th></th></tr></thead>\n",
       "<thead><tr><th>bytes12</th><th>bytes5</th><th>float64</th><th>float64</th><th>float64</th><th>float64</th><th>float64</th><th>float64</th><th>float64</th><th>float64</th><th>bytes6</th></tr></thead>\n",
       "<tr><td>J1817-3618</td><td>DE430</td><td>-3.162</td><td>0.148</td><td>22.162</td><td>4.430459529237088</td><td>-6.092</td><td>0.109</td><td>-9.908000000000001</td><td>-0.582811549631737</td><td>jbs+19</td></tr>\n",
       "</table></div>"
      ],
      "text/plain": [
       "<Table length=1>\n",
       " psr_name   eph    pmra_g  ...       dpmdec            X_pmdec        ref  \n",
       "                  mas / yr ...      mas / yr           mas / yr            \n",
       " bytes12   bytes5 float64  ...      float64            float64       bytes6\n",
       "---------- ------ -------- ... ------------------ ------------------ ------\n",
       "J1817-3618  DE430   -3.162 ... -9.908000000000001 -0.582811549631737 jbs+19"
      ]
     },
     "execution_count": 27,
     "metadata": {},
     "output_type": "execute_result"
    }
   ],
   "source": [
    "pm_tab[pm_tab[\"psr_name\"] == \"J1817-3618\"][\"psr_name\",\n",
    "                                           \"eph\", \"pmra_g\", \"pmra_err_g\", \"dpmra\", \"X_pmra\", \"pmdec_g\", \"pmdec_err_g\", \"dpmdec\", \"X_pmdec\", \"ref\"]"
   ]
  },
  {
   "cell_type": "code",
   "execution_count": 28,
   "id": "4506a3bb",
   "metadata": {
    "ExecuteTime": {
     "end_time": "2022-08-19T13:48:43.343134Z",
     "start_time": "2022-08-19T13:48:43.335836Z"
    }
   },
   "outputs": [
    {
     "data": {
      "text/html": [
       "<div><i>Table length=1</i>\n",
       "<table id=\"table140392175431440\" class=\"table-striped table-bordered table-condensed\">\n",
       "<thead><tr><th>psr_name</th><th>eph</th><th>pmra_g</th><th>dpmra</th><th>X_pmra</th><th>pmdec_g</th><th>dpmdec</th><th>X_pmdec</th><th>ref</th></tr></thead>\n",
       "<thead><tr><th></th><th></th><th>mas / yr</th><th>mas / yr</th><th>mas / yr</th><th>mas / yr</th><th>mas / yr</th><th>mas / yr</th><th></th></tr></thead>\n",
       "<thead><tr><th>bytes12</th><th>bytes5</th><th>float64</th><th>float64</th><th>float64</th><th>float64</th><th>float64</th><th>float64</th><th>bytes6</th></tr></thead>\n",
       "<tr><td>J1851+1259</td><td>DE200</td><td>-3.564</td><td>-19.436</td><td>-1.1405219613437827</td><td>-7.612</td><td>-63.388</td><td>-1.809937315831117</td><td>hlk+04</td></tr>\n",
       "</table></div>"
      ],
      "text/plain": [
       "<Table length=1>\n",
       " psr_name   eph    pmra_g   dpmra   ...  dpmdec       X_pmdec        ref  \n",
       "                  mas / yr mas / yr ... mas / yr      mas / yr            \n",
       " bytes12   bytes5 float64  float64  ... float64       float64       bytes6\n",
       "---------- ------ -------- -------- ... -------- ------------------ ------\n",
       "J1851+1259  DE200   -3.564  -19.436 ...  -63.388 -1.809937315831117 hlk+04"
      ]
     },
     "execution_count": 28,
     "metadata": {},
     "output_type": "execute_result"
    }
   ],
   "source": [
    "pm_tab[pm_tab[\"psr_name\"] == \"J1851+1259\"][\"psr_name\",\n",
    "                                           \"eph\", \"pmra_g\", \"dpmra\", \"X_pmra\", \"pmdec_g\", \"dpmdec\", \"X_pmdec\", \"ref\"]"
   ]
  },
  {
   "cell_type": "code",
   "execution_count": 29,
   "id": "e2dc073b",
   "metadata": {
    "ExecuteTime": {
     "end_time": "2022-08-19T13:48:43.353593Z",
     "start_time": "2022-08-19T13:48:43.344911Z"
    }
   },
   "outputs": [
    {
     "data": {
      "text/html": [
       "<div><i>Table length=8</i>\n",
       "<table id=\"table140392562893344\" class=\"table-striped table-bordered table-condensed\">\n",
       "<thead><tr><th>psr_name</th><th>eph</th><th>pmra_g</th><th>dpmra</th><th>X_pmra</th><th>pmdec_g</th><th>dpmdec</th><th>X_pmdec</th><th>ref</th></tr></thead>\n",
       "<thead><tr><th></th><th></th><th>mas / yr</th><th>mas / yr</th><th>mas / yr</th><th>mas / yr</th><th>mas / yr</th><th>mas / yr</th><th></th></tr></thead>\n",
       "<thead><tr><th>bytes12</th><th>bytes5</th><th>float64</th><th>float64</th><th>float64</th><th>float64</th><th>float64</th><th>float64</th><th>bytes6</th></tr></thead>\n",
       "<tr><td>J1955+2908</td><td>DE436</td><td>-3.167</td><td>2.0669999999999997</td><td>12.303353471433992</td><td>-7.827</td><td>3.627</td><td>13.92027611481852</td><td>abb+18</td></tr>\n",
       "<tr><td>J1955+2908</td><td>DE421</td><td>-3.167</td><td>2.767</td><td>2.2913787931761704</td><td>-7.827</td><td>2.827</td><td>2.788384752531372</td><td>mnf+16</td></tr>\n",
       "<tr><td>J1955+2908</td><td>DE421</td><td>-3.167</td><td>2.529</td><td>10.557252793775001</td><td>-7.827</td><td>4.0169999999999995</td><td>11.29601983505385</td><td>vlh+16</td></tr>\n",
       "<tr><td>J1955+2908</td><td>DE421</td><td>-3.167</td><td>2.397</td><td>10.284144413759254</td><td>-7.827</td><td>3.127</td><td>9.107333481576976</td><td>dcl+16</td></tr>\n",
       "<tr><td>J1955+2908</td><td>DE405</td><td>-3.167</td><td>2.267</td><td>13.493808572685468</td><td>-7.827</td><td>3.7270000000000003</td><td>19.14709187422717</td><td>gsf+11</td></tr>\n",
       "<tr><td>J1955+2908</td><td>DE436</td><td>-3.167</td><td>2.138</td><td>14.653553464124958</td><td>-7.827</td><td>3.6559999999999997</td><td>19.816992087199758</td><td>pdd+19</td></tr>\n",
       "<tr><td>J1955+2908</td><td>DE200</td><td>-3.167</td><td>2.167</td><td>6.5871130057148495</td><td>-7.827</td><td>4.127</td><td>12.019816206737506</td><td>wdk+00</td></tr>\n",
       "<tr><td>J1955+2908</td><td>DE200</td><td>-3.167</td><td>1.1669999999999998</td><td>0.1296520816278458</td><td>-7.827</td><td>5.827</td><td>0.5826187623903728</td><td>hlk+04</td></tr>\n",
       "</table></div>"
      ],
      "text/plain": [
       "<Table length=8>\n",
       " psr_name   eph    pmra_g  ...       dpmdec            X_pmdec        ref  \n",
       "                  mas / yr ...      mas / yr           mas / yr            \n",
       " bytes12   bytes5 float64  ...      float64            float64       bytes6\n",
       "---------- ------ -------- ... ------------------ ------------------ ------\n",
       "J1955+2908  DE436   -3.167 ...              3.627  13.92027611481852 abb+18\n",
       "J1955+2908  DE421   -3.167 ...              2.827  2.788384752531372 mnf+16\n",
       "J1955+2908  DE421   -3.167 ... 4.0169999999999995  11.29601983505385 vlh+16\n",
       "J1955+2908  DE421   -3.167 ...              3.127  9.107333481576976 dcl+16\n",
       "J1955+2908  DE405   -3.167 ... 3.7270000000000003  19.14709187422717 gsf+11\n",
       "J1955+2908  DE436   -3.167 ... 3.6559999999999997 19.816992087199758 pdd+19\n",
       "J1955+2908  DE200   -3.167 ...              4.127 12.019816206737506 wdk+00\n",
       "J1955+2908  DE200   -3.167 ...              5.827 0.5826187623903728 hlk+04"
      ]
     },
     "execution_count": 29,
     "metadata": {},
     "output_type": "execute_result"
    }
   ],
   "source": [
    "pm_tab[pm_tab[\"psr_name\"] == \"J1955+2908\"][\"psr_name\",\n",
    "                                           \"eph\", \"pmra_g\", \"dpmra\", \"X_pmra\", \"pmdec_g\", \"dpmdec\", \"X_pmdec\", \"ref\"]"
   ]
  },
  {
   "cell_type": "code",
   "execution_count": 30,
   "id": "4c9125d1",
   "metadata": {
    "ExecuteTime": {
     "end_time": "2022-08-19T13:48:43.362822Z",
     "start_time": "2022-08-19T13:48:43.356573Z"
    }
   },
   "outputs": [
    {
     "data": {
      "text/html": [
       "<div><i>Table length=1</i>\n",
       "<table id=\"table140392562893104\" class=\"table-striped table-bordered table-condensed\">\n",
       "<thead><tr><th>psr_name</th><th>eph</th><th>pmra_g</th><th>dpmra</th><th>X_pmra</th><th>pmdec_g</th><th>dpmdec</th><th>X_pmdec</th><th>ref</th></tr></thead>\n",
       "<thead><tr><th></th><th></th><th>mas / yr</th><th>mas / yr</th><th>mas / yr</th><th>mas / yr</th><th>mas / yr</th><th>mas / yr</th><th></th></tr></thead>\n",
       "<thead><tr><th>bytes12</th><th>bytes5</th><th>float64</th><th>float64</th><th>float64</th><th>float64</th><th>float64</th><th>float64</th><th>bytes6</th></tr></thead>\n",
       "<tr><td>J1959+2048</td><td>DE200</td><td>-19.267</td><td>3.2669999999999995</td><td>2.4520110997787126</td><td>-26.56</td><td>0.759999999999998</td><td>0.5502717542553456</td><td>aft94</td></tr>\n",
       "</table></div>"
      ],
      "text/plain": [
       "<Table length=1>\n",
       " psr_name   eph    pmra_g  ...       dpmdec           X_pmdec        ref  \n",
       "                  mas / yr ...      mas / yr          mas / yr            \n",
       " bytes12   bytes5 float64  ...      float64           float64       bytes6\n",
       "---------- ------ -------- ... ----------------- ------------------ ------\n",
       "J1959+2048  DE200  -19.267 ... 0.759999999999998 0.5502717542553456  aft94"
      ]
     },
     "execution_count": 30,
     "metadata": {},
     "output_type": "execute_result"
    }
   ],
   "source": [
    "pm_tab[pm_tab[\"psr_name\"] == \"J1959+2048\"][\"psr_name\",\n",
    "                                           \"eph\", \"pmra_g\", \"dpmra\", \"X_pmra\", \"pmdec_g\", \"dpmdec\", \"X_pmdec\", \"ref\"]"
   ]
  },
  {
   "cell_type": "markdown",
   "id": "089ed8db",
   "metadata": {},
   "source": [
    "Compute the significance of differences in proper motions."
   ]
  },
  {
   "cell_type": "code",
   "execution_count": 31,
   "id": "b05ead42",
   "metadata": {
    "ExecuteTime": {
     "end_time": "2022-08-19T13:48:43.370920Z",
     "start_time": "2022-08-19T13:48:43.365289Z"
    }
   },
   "outputs": [
    {
     "data": {
      "text/html": [
       "&lt;Column name=&apos;psr_name&apos; dtype=&apos;bytes12&apos; length=11&gt;\n",
       "<table>\n",
       "<tr><td>J0348+0432</td></tr>\n",
       "<tr><td>J0437-4715</td></tr>\n",
       "<tr><td>J1012+5307</td></tr>\n",
       "<tr><td>J1024-0719</td></tr>\n",
       "<tr><td>J1302-6350</td></tr>\n",
       "<tr><td>J1431-4715</td></tr>\n",
       "<tr><td>J1816+4510</td></tr>\n",
       "<tr><td>J1817-3618</td></tr>\n",
       "<tr><td>J1851+1259</td></tr>\n",
       "<tr><td>J1955+2908</td></tr>\n",
       "<tr><td>J1959+2048</td></tr>\n",
       "</table>"
      ],
      "text/plain": [
       "<Column name='psr_name' dtype='bytes12' length=11>\n",
       "J0348+0432\n",
       "J0437-4715\n",
       "J1012+5307\n",
       "J1024-0719\n",
       "J1302-6350\n",
       "J1431-4715\n",
       "J1816+4510\n",
       "J1817-3618\n",
       "J1851+1259\n",
       "J1955+2908\n",
       "J1959+2048"
      ]
     },
     "execution_count": 31,
     "metadata": {},
     "output_type": "execute_result"
    }
   ],
   "source": [
    "np.unique(pm_tab[\"psr_name\"])"
   ]
  },
  {
   "cell_type": "code",
   "execution_count": 32,
   "id": "48f782bb",
   "metadata": {
    "ExecuteTime": {
     "end_time": "2022-08-19T13:48:43.376386Z",
     "start_time": "2022-08-19T13:48:43.372565Z"
    }
   },
   "outputs": [
    {
     "name": "stdout",
     "output_type": "stream",
     "text": [
      "There are 11 pulsars with 40 measurements.\n"
     ]
    }
   ],
   "source": [
    "edr3_timing_pm = edr3_timing[(edr3_timing[\"pmra_err_t\"] != 0)\n",
    "                             & (edr3_timing[\"pmdec_err_t\"] != 0)]\n",
    "# 36 data points\n",
    "count_psr_nb(edr3_timing_pm)"
   ]
  },
  {
   "cell_type": "code",
   "execution_count": 33,
   "id": "3be15904",
   "metadata": {
    "ExecuteTime": {
     "end_time": "2022-08-19T13:48:44.053439Z",
     "start_time": "2022-08-19T13:48:43.378548Z"
    }
   },
   "outputs": [
    {
     "data": {
      "text/plain": [
       "<Figure size 432x288 with 0 Axes>"
      ]
     },
     "metadata": {},
     "output_type": "display_data"
    },
    {
     "data": {
      "image/png": "[encoded data removed]",
      "text/plain": [
       "<Figure size 360x360 with 1 Axes>"
      ]
     },
     "metadata": {
      "needs_background": "light"
     },
     "output_type": "display_data"
    },
    {
     "data": {
      "image/png": "[encoded data removed]",
      "text/plain": [
       "<Figure size 360x360 with 1 Axes>"
      ]
     },
     "metadata": {
      "needs_background": "light"
     },
     "output_type": "display_data"
    }
   ],
   "source": [
    "plt.clf()\n",
    "sns.displot(\n",
    "    X_pmra,\n",
    "    binwidth=0.2, height=5, facet_kws=dict(margin_titles=True),\n",
    ")\n",
    "plt.xlim([-5, 5])\n",
    "plt.xlabel(\"Normalized difference for $\\mu_{\\\\alpha,*}$\")\n",
    "plt.tight_layout()\n",
    "\n",
    "sns.displot(\n",
    "    X_pmdec,\n",
    "    binwidth=0.2, height=5, facet_kws=dict(margin_titles=True),\n",
    ")\n",
    "plt.xlim([-5, 5])\n",
    "plt.xlabel(\"Normalized difference for $\\mu_{\\delta}$\")\n",
    "plt.tight_layout()"
   ]
  },
  {
   "cell_type": "code",
   "execution_count": 34,
   "id": "98cad949",
   "metadata": {
    "ExecuteTime": {
     "end_time": "2022-08-19T13:48:44.060692Z",
     "start_time": "2022-08-19T13:48:44.055682Z"
    }
   },
   "outputs": [
    {
     "name": "stdout",
     "output_type": "stream",
     "text": [
      "N      RA     DEC\n",
      "sigma  %      %\n",
      " 1     62     38\n",
      " 2     70     72\n",
      " 3     80     78\n",
      " 4     80     80\n",
      " 5     82     80\n",
      " 6     82     80\n",
      " 7     88     80\n",
      " 8     88     82\n",
      " 9     88     82\n",
      "10     88     85\n"
     ]
    }
   ],
   "source": [
    "print(\"N      RA     DEC\")\n",
    "print(\"sigma  %      %\")\n",
    "for i in range(1, 11):\n",
    "    per_ra = count_sigma(X_pmra, i)\n",
    "    per_dec = count_sigma(X_pmdec, i)\n",
    "\n",
    "    print(\"{:2d}     {:2.0f}     {:2.0f}\".format(i, per_ra, per_dec))"
   ]
  },
  {
   "cell_type": "markdown",
   "id": "41b8e220",
   "metadata": {},
   "source": [
    "$X_{\\alpha,*} \\ge 3$, or $X_{\\delta} \\ge 3$ suggests that the proper motion differences are statistically significant."
   ]
  },
  {
   "cell_type": "code",
   "execution_count": 35,
   "id": "c57c150d",
   "metadata": {
    "ExecuteTime": {
     "end_time": "2022-08-19T13:48:44.072382Z",
     "start_time": "2022-08-19T13:48:44.063121Z"
    }
   },
   "outputs": [
    {
     "name": "stdout",
     "output_type": "stream",
     "text": [
      "X_ra >= 3\n"
     ]
    },
    {
     "data": {
      "text/html": [
       "<div><i>Table length=8</i>\n",
       "<table id=\"table140392073198704\" class=\"table-striped table-bordered table-condensed\">\n",
       "<thead><tr><th>psr_name</th><th>eph</th><th>pmra_t</th><th>pmra_err_t</th><th>pmra_g</th><th>pmra_err_g</th><th>dpmra</th><th>X_pmra</th><th>ref</th></tr></thead>\n",
       "<thead><tr><th></th><th></th><th>mas / yr</th><th>mas / yr</th><th>mas / yr</th><th>mas / yr</th><th>mas / yr</th><th>mas / yr</th><th></th></tr></thead>\n",
       "<thead><tr><th>bytes12</th><th>bytes5</th><th>float64</th><th>float64</th><th>float64</th><th>float64</th><th>float64</th><th>float64</th><th>bytes6</th></tr></thead>\n",
       "<tr><td>J1817-3618</td><td>DE430</td><td>19.0</td><td>5.0</td><td>-3.162</td><td>0.148</td><td>22.162</td><td>4.430459529237088</td><td>jbs+19</td></tr>\n",
       "<tr><td>J1955+2908</td><td>DE200</td><td>-1.0</td><td>0.30000000000000004</td><td>-3.167</td><td>0.135</td><td>2.167</td><td>6.5871130057148495</td><td>wdk+00</td></tr>\n",
       "<tr><td>J1816+4510</td><td>DE421</td><td>5.3</td><td>0.8</td><td>-0.059</td><td>0.123</td><td>5.359</td><td>6.620950558904728</td><td>slr+14</td></tr>\n",
       "<tr><td>J1955+2908</td><td>DE421</td><td>-0.77</td><td>0.19</td><td>-3.167</td><td>0.135</td><td>2.397</td><td>10.284144413759254</td><td>dcl+16</td></tr>\n",
       "<tr><td>J1955+2908</td><td>DE421</td><td>-0.638</td><td>0.197888</td><td>-3.167</td><td>0.135</td><td>2.529</td><td>10.557252793775001</td><td>vlh+16</td></tr>\n",
       "<tr><td>J1955+2908</td><td>DE436</td><td>-1.1</td><td>0.1</td><td>-3.167</td><td>0.135</td><td>2.0669999999999997</td><td>12.303353471433992</td><td>abb+18</td></tr>\n",
       "<tr><td>J1955+2908</td><td>DE405</td><td>-0.9</td><td>0.1</td><td>-3.167</td><td>0.135</td><td>2.267</td><td>13.493808572685468</td><td>gsf+11</td></tr>\n",
       "<tr><td>J1955+2908</td><td>DE436</td><td>-1.029</td><td>0.055342</td><td>-3.167</td><td>0.135</td><td>2.138</td><td>14.653553464124958</td><td>pdd+19</td></tr>\n",
       "</table></div>"
      ],
      "text/plain": [
       "<Table length=8>\n",
       " psr_name   eph    pmra_t  ...       dpmra              X_pmra        ref  \n",
       "                  mas / yr ...      mas / yr           mas / yr            \n",
       " bytes12   bytes5 float64  ...      float64            float64       bytes6\n",
       "---------- ------ -------- ... ------------------ ------------------ ------\n",
       "J1817-3618  DE430     19.0 ...             22.162  4.430459529237088 jbs+19\n",
       "J1955+2908  DE200     -1.0 ...              2.167 6.5871130057148495 wdk+00\n",
       "J1816+4510  DE421      5.3 ...              5.359  6.620950558904728 slr+14\n",
       "J1955+2908  DE421    -0.77 ...              2.397 10.284144413759254 dcl+16\n",
       "J1955+2908  DE421   -0.638 ...              2.529 10.557252793775001 vlh+16\n",
       "J1955+2908  DE436     -1.1 ... 2.0669999999999997 12.303353471433992 abb+18\n",
       "J1955+2908  DE405     -0.9 ...              2.267 13.493808572685468 gsf+11\n",
       "J1955+2908  DE436   -1.029 ...              2.138 14.653553464124958 pdd+19"
      ]
     },
     "execution_count": 35,
     "metadata": {},
     "output_type": "execute_result"
    }
   ],
   "source": [
    "print(\"X_ra >= 3\")\n",
    "\n",
    "mask = np.fabs(X_pmra) >= 3\n",
    "tmp = pm_tab[mask][\"psr_name\", \"eph\", \"pmra_t\",\n",
    "                   \"pmra_err_t\", \"pmra_g\", \"pmra_err_g\", \"dpmra\", \"X_pmra\", \"ref\"]\n",
    "tmp.sort(\"X_pmra\")\n",
    "tmp"
   ]
  },
  {
   "cell_type": "code",
   "execution_count": 36,
   "id": "c07c381a",
   "metadata": {
    "ExecuteTime": {
     "end_time": "2022-08-19T13:48:44.083512Z",
     "start_time": "2022-08-19T13:48:44.074846Z"
    }
   },
   "outputs": [
    {
     "name": "stdout",
     "output_type": "stream",
     "text": [
      "X_dec >= 3\n"
     ]
    },
    {
     "data": {
      "text/html": [
       "<div><i>Table length=9</i>\n",
       "<table id=\"table140392178979984\" class=\"table-striped table-bordered table-condensed\">\n",
       "<thead><tr><th>psr_name</th><th>eph</th><th>pmdec_t</th><th>pmdec_err_t</th><th>pmdec_g</th><th>pmdec_err_g</th><th>X_pmdec</th><th>ref</th></tr></thead>\n",
       "<thead><tr><th></th><th></th><th>mas / yr</th><th>mas / yr</th><th>mas / yr</th><th>mas / yr</th><th>mas / yr</th><th></th></tr></thead>\n",
       "<thead><tr><th>bytes12</th><th>bytes5</th><th>float64</th><th>float64</th><th>float64</th><th>float64</th><th>float64</th><th>bytes6</th></tr></thead>\n",
       "<tr><td>J1302-6350</td><td>DE421</td><td>-4.4</td><td>0.13999999999999999</td><td>-0.342</td><td>0.014</td><td>-28.84186369908669</td><td>sjm14</td></tr>\n",
       "<tr><td>J1024-0719</td><td>DE200</td><td>-70.0</td><td>3.0</td><td>-48.352</td><td>0.357</td><td>-7.165443431478145</td><td>tsb+99</td></tr>\n",
       "<tr><td>J0348+0432</td><td>DE421</td><td>3.5</td><td>0.6000000000000001</td><td>-0.226</td><td>0.887</td><td>3.4794041599399845</td><td>afw+13</td></tr>\n",
       "<tr><td>J1955+2908</td><td>DE421</td><td>-4.7</td><td>0.3</td><td>-7.827</td><td>0.167</td><td>9.107333481576976</td><td>dcl+16</td></tr>\n",
       "<tr><td>J1955+2908</td><td>DE421</td><td>-3.81</td><td>0.31396</td><td>-7.827</td><td>0.167</td><td>11.29601983505385</td><td>vlh+16</td></tr>\n",
       "<tr><td>J1955+2908</td><td>DE200</td><td>-3.7</td><td>0.30000000000000004</td><td>-7.827</td><td>0.167</td><td>12.019816206737506</td><td>wdk+00</td></tr>\n",
       "<tr><td>J1955+2908</td><td>DE436</td><td>-4.2</td><td>0.2</td><td>-7.827</td><td>0.167</td><td>13.92027611481852</td><td>abb+18</td></tr>\n",
       "<tr><td>J1955+2908</td><td>DE405</td><td>-4.1</td><td>0.1</td><td>-7.827</td><td>0.167</td><td>19.14709187422717</td><td>gsf+11</td></tr>\n",
       "<tr><td>J1955+2908</td><td>DE436</td><td>-4.171</td><td>0.078402</td><td>-7.827</td><td>0.167</td><td>19.816992087199758</td><td>pdd+19</td></tr>\n",
       "</table></div>"
      ],
      "text/plain": [
       "<Table length=9>\n",
       " psr_name   eph   pmdec_t  ... pmdec_err_g      X_pmdec        ref  \n",
       "                  mas / yr ...   mas / yr       mas / yr            \n",
       " bytes12   bytes5 float64  ...   float64        float64       bytes6\n",
       "---------- ------ -------- ... ----------- ------------------ ------\n",
       "J1302-6350  DE421     -4.4 ...       0.014 -28.84186369908669  sjm14\n",
       "J1024-0719  DE200    -70.0 ...       0.357 -7.165443431478145 tsb+99\n",
       "J0348+0432  DE421      3.5 ...       0.887 3.4794041599399845 afw+13\n",
       "J1955+2908  DE421     -4.7 ...       0.167  9.107333481576976 dcl+16\n",
       "J1955+2908  DE421    -3.81 ...       0.167  11.29601983505385 vlh+16\n",
       "J1955+2908  DE200     -3.7 ...       0.167 12.019816206737506 wdk+00\n",
       "J1955+2908  DE436     -4.2 ...       0.167  13.92027611481852 abb+18\n",
       "J1955+2908  DE405     -4.1 ...       0.167  19.14709187422717 gsf+11\n",
       "J1955+2908  DE436   -4.171 ...       0.167 19.816992087199758 pdd+19"
      ]
     },
     "execution_count": 36,
     "metadata": {},
     "output_type": "execute_result"
    }
   ],
   "source": [
    "print(\"X_dec >= 3\")\n",
    "\n",
    "mask = np.fabs(X_pmdec) >= 3\n",
    "tmp = pm_tab[mask][\"psr_name\", \"eph\", \"pmdec_t\",\n",
    "                   \"pmdec_err_t\", \"pmdec_g\", \"pmdec_err_g\", \"X_pmdec\", \"ref\"]\n",
    "tmp.sort(\"X_pmdec\")\n",
    "tmp"
   ]
  },
  {
   "cell_type": "code",
   "execution_count": 37,
   "id": "8e061029",
   "metadata": {
    "ExecuteTime": {
     "end_time": "2022-08-19T13:48:44.808221Z",
     "start_time": "2022-08-19T13:48:44.086323Z"
    }
   },
   "outputs": [
    {
     "name": "stderr",
     "output_type": "stream",
     "text": [
      "The PostScript backend does not support transparency; partially transparent artists will be rendered opaque.\n"
     ]
    },
    {
     "data": {
      "image/png": "[encoded data removed]",
      "text/plain": [
       "<Figure size 576x432 with 1 Axes>"
      ]
     },
     "metadata": {
      "needs_background": "light"
     },
     "output_type": "display_data"
    }
   ],
   "source": [
    "fig, ax = plt.subplots(figsize=(8, 6))\n",
    "\n",
    "ax.errorbar(pm_tab200[\"pmra_g\"], pm_tab200[\"dpmra\"],\n",
    "            xerr=pm_tab200[\"pmra_err_g\"],\n",
    "            yerr=pm_tab200[\"dpmra_err\"],\n",
    "            fmt=\"b^\",\n",
    "            ecolor=\"k\",\n",
    "            elinewidth=0.5,\n",
    "            capsize=2,\n",
    "            label=\"DE200\")\n",
    "\n",
    "ax.errorbar(pm_tab405[\"pmra_g\"], pm_tab405[\"dpmra\"],\n",
    "            xerr=pm_tab405[\"pmra_err_g\"],\n",
    "            yerr=pm_tab405[\"dpmra_err\"],\n",
    "            fmt=\"gx\",\n",
    "            ecolor=\"k\",\n",
    "            elinewidth=0.5,\n",
    "            capsize=2,\n",
    "            label=\"DE405\")\n",
    "\n",
    "ax.errorbar(pm_tab421[\"pmra_g\"], pm_tab421[\"dpmra\"],\n",
    "            xerr=pm_tab421[\"pmra_err_g\"],\n",
    "            yerr=pm_tab421[\"dpmra_err\"],\n",
    "            fmt=\"v\",\n",
    "            color=\"purple\",\n",
    "            ecolor=\"k\",\n",
    "            elinewidth=0.5,\n",
    "            capsize=2,\n",
    "            label=\"DE421\")\n",
    "\n",
    "ax.errorbar(pm_tab430[\"pmra_g\"], pm_tab430[\"dpmra\"],\n",
    "            xerr=pm_tab430[\"pmra_err_g\"],\n",
    "            yerr=pm_tab430[\"dpmra_err\"],\n",
    "            fmt=\"ys\",\n",
    "            ecolor=\"k\",\n",
    "            elinewidth=0.5,\n",
    "            capsize=2,\n",
    "            label=\"DE430\")\n",
    "\n",
    "ax.errorbar(pm_tab436[\"pmra_g\"], pm_tab436[\"dpmra\"],\n",
    "            xerr=pm_tab436[\"pmra_err_g\"],\n",
    "            yerr=pm_tab436[\"dpmra_err\"],\n",
    "            fmt=\"ro\",\n",
    "            ecolor=\"k\",\n",
    "            elinewidth=0.5,\n",
    "            capsize=2,\n",
    "            label=\"DE436\")\n",
    "\n",
    "ax.hlines(0, -50, 250, ls=\"dashed\", color=\"tab:grey\", lw=1)\n",
    "\n",
    "ax.text(15, 2, \"J0348+0432\", color=\"k\")\n",
    "ax.arrow(14, 2.5, -8, -1, width=0.1, color=\"tab:grey\")\n",
    "\n",
    "ax.text(120, -10, \"J0437$-$4715\", color=\"k\", rotation=\"vertical\")\n",
    "\n",
    "ax.text(15, -3, \"J1012+5307\", color=\"k\")\n",
    "ax.arrow(14, -2.5, -8, 1, width=0.1, color=\"tab:grey\")\n",
    "\n",
    "ax.text(-36, -15, \"J1024$-$0719\", color=\"k\", rotation=\"vertical\")\n",
    "\n",
    "ax.text(-25, -5, \"J1302$-$6350\", color=\"k\")\n",
    "ax.arrow(-15, -3.5, 6, 3, width=0.1, color=\"tab:grey\")\n",
    "\n",
    "ax.text(-30, 12, \"J1431$-$4715\", color=\"k\")\n",
    "ax.arrow(-20, 11, 6, -5, width=0.1, color=\"tab:grey\")\n",
    "\n",
    "ax.text(10, 10, \"J1816+4510\", color=\"k\")\n",
    "ax.arrow(14, 9.5, -11, -4, width=0.1, color=\"tab:grey\")\n",
    "\n",
    "ax.text(0.4, 22, \"J1817$-$3618\", color=\"k\")\n",
    "\n",
    "ax.text(0, -20, \"J1851+1259\", color=\"k\")\n",
    "\n",
    "ax.text(10, 5, \"J1955+2908\", color=\"k\")\n",
    "ax.arrow(15, 4.5, -15, -2, width=0.1, color=\"tab:grey\")\n",
    "\n",
    "ax.text(-38, 8, \"J1959+2048\", color=\"k\")\n",
    "ax.arrow(-30, 7.5, 8, -4, width=0.1, color=\"tab:grey\")\n",
    "\n",
    "ax.axis([-40, 125, -25, 25])\n",
    "ax.xaxis.set_minor_locator(MultipleLocator(5))\n",
    "\n",
    "ax.set_ylabel(\"$\\mu_{\\\\alpha\\cos\\delta, {\\\\rm timing}} - \\mu_{\\\\alpha\\cos\\delta, {\\\\rm Gaia}}$(mas yr$^{-1}$)\",\n",
    "              fontsize=15)\n",
    "ax.set_xlabel(\"$\\mu_{\\\\alpha\\cos\\delta, {\\\\rm Gaia}}$ (mas yr$^{-1}$)\",\n",
    "              fontsize=15)\n",
    "\n",
    "plt.tight_layout()\n",
    "plt.legend(loc=\"upper right\")\n",
    "\n",
    "plt.savefig(\"../plots/gedr3_pmra-com.eps\")"
   ]
  },
  {
   "cell_type": "code",
   "execution_count": 38,
   "id": "81bb5464",
   "metadata": {
    "ExecuteTime": {
     "end_time": "2022-08-19T13:48:45.284182Z",
     "start_time": "2022-08-19T13:48:44.809798Z"
    }
   },
   "outputs": [
    {
     "name": "stderr",
     "output_type": "stream",
     "text": [
      "The PostScript backend does not support transparency; partially transparent artists will be rendered opaque.\n"
     ]
    },
    {
     "data": {
      "image/png": "[encoded data removed]",
      "text/plain": [
       "<Figure size 576x432 with 1 Axes>"
      ]
     },
     "metadata": {
      "needs_background": "light"
     },
     "output_type": "display_data"
    }
   ],
   "source": [
    "fig, ax = plt.subplots(figsize=(8, 6))\n",
    "\n",
    "ax.errorbar(pm_tab200[\"pmdec_g\"], pm_tab200[\"dpmdec\"],\n",
    "            xerr=pm_tab200[\"pmdec_err_g\"],\n",
    "            yerr=pm_tab200[\"dpmdec_err\"],\n",
    "            fmt=\"b^\",\n",
    "            ecolor=\"k\",\n",
    "            elinewidth=0.5,\n",
    "            capsize=2,\n",
    "            label=\"DE200\")\n",
    "\n",
    "ax.errorbar(pm_tab405[\"pmdec_g\"], pm_tab405[\"dpmdec\"],\n",
    "            xerr=pm_tab405[\"pmdec_err_g\"],\n",
    "            yerr=pm_tab405[\"dpmdec_err\"],\n",
    "            fmt=\"gx\",\n",
    "            ecolor=\"k\",\n",
    "            elinewidth=0.5,\n",
    "            capsize=2,\n",
    "            label=\"DE405\")\n",
    "\n",
    "ax.errorbar(pm_tab421[\"pmdec_g\"], pm_tab421[\"dpmdec\"],\n",
    "            xerr=pm_tab421[\"pmdec_err_g\"],\n",
    "            yerr=pm_tab421[\"dpmdec_err\"],\n",
    "            fmt=\"v\",\n",
    "            color=\"purple\",\n",
    "            ecolor=\"k\",\n",
    "            elinewidth=0.5,\n",
    "            capsize=2,\n",
    "            label=\"DE421\")\n",
    "\n",
    "ax.errorbar(pm_tab430[\"pmdec_g\"], pm_tab430[\"dpmdec\"],\n",
    "            xerr=pm_tab430[\"pmdec_err_g\"],\n",
    "            yerr=pm_tab430[\"dpmdec_err\"],\n",
    "            fmt=\"ys\",\n",
    "            ecolor=\"k\",\n",
    "            elinewidth=0.5,\n",
    "            capsize=2,\n",
    "            label=\"DE430\")\n",
    "\n",
    "ax.errorbar(pm_tab436[\"pmdec_g\"], pm_tab436[\"dpmdec\"],\n",
    "            xerr=pm_tab436[\"pmdec_err_g\"],\n",
    "            yerr=pm_tab436[\"dpmdec_err\"],\n",
    "            fmt=\"ro\",\n",
    "            ecolor=\"k\",\n",
    "            elinewidth=0.5,\n",
    "            capsize=2,\n",
    "            label=\"DE436\")\n",
    "\n",
    "ax.hlines(0, -100, 250, ls=\"dashed\", color=\"tab:grey\", lw=1)\n",
    "# ax.hlines(1.4, -100, 250, ls=\"dashed\", color=\"tab:grey\", lw=1)\n",
    "# ax.vlines(-4.4, -100, 250, ls=\"dashed\", color=\"tab:grey\", lw=1)\n",
    "\n",
    "ax.text(-10, 15, \"J0348+0432\", color=\"k\")\n",
    "ax.arrow(-5, 14.5, 4, -8, width=0.1, color=\"tab:grey\")\n",
    "\n",
    "ax.text(-72, 3, \"J0437$-$4715\", color=\"k\")\n",
    "\n",
    "ax.text(-35, -5, \"J1012+5307\", color=\"k\")\n",
    "\n",
    "ax.text(-55, -10, \"J1024$-$0719\", color=\"k\")\n",
    "\n",
    "ax.text(-10, -20, \"J1302$-$6350\", color=\"k\")\n",
    "ax.arrow(-5, -18.5, 4, 13, width=0.1, color=\"tab:grey\")\n",
    "\n",
    "ax.text(-30, 10, \"J1431$-$4715\", color=\"k\")\n",
    "ax.arrow(-25, 9.5, 9, -3, width=0.1, color=\"tab:grey\")\n",
    "\n",
    "ax.text(-15, -5, \"J1816+4510\", color=\"k\")\n",
    "ax.arrow(-10, -2.5, 4.5, 3, width=0.1, color=\"tab:grey\")\n",
    "\n",
    "ax.text(-18, -11, \"J1817$-$3618\", color=\"k\")\n",
    "\n",
    "ax.text(-20, -65, \"J1851+1259\", color=\"k\")\n",
    "\n",
    "ax.text(-25, 15, \"J1955+2908\", color=\"k\")\n",
    "ax.arrow(-15, 14, 5, -8, width=0.1, color=\"tab:grey\")\n",
    "\n",
    "ax.text(-40, 5, \"J1959+2048\", color=\"k\")\n",
    "ax.arrow(-34, 4, 6.5, -2.5, width=0.1, color=\"tab:grey\")\n",
    "\n",
    "ax.axis([-75, 5, -70, 20])\n",
    "ax.xaxis.set_minor_locator(MultipleLocator(5))\n",
    "\n",
    "ax.set_ylabel(\"$\\mu_{\\delta, {\\\\rm timing}} - \\mu_{\\delta, {\\\\rm Gaia}}$(mas yr$^{-1}$)\",\n",
    "              fontsize=15)\n",
    "ax.set_xlabel(\"$\\mu_{\\delta, {\\\\rm Gaia}}$ (mas yr$^{-1}$)\",\n",
    "              fontsize=15)\n",
    "\n",
    "plt.tight_layout()\n",
    "plt.legend(loc=\"lower left\")\n",
    "\n",
    "plt.savefig(\"../plots/gedr3_pmdec-com.eps\")"
   ]
  },
  {
   "cell_type": "code",
   "execution_count": 39,
   "id": "1f26079a",
   "metadata": {
    "ExecuteTime": {
     "end_time": "2022-08-19T13:48:45.297470Z",
     "start_time": "2022-08-19T13:48:45.286765Z"
    }
   },
   "outputs": [
    {
     "data": {
      "text/html": [
       "<div><i>Table length=40</i>\n",
       "<table id=\"table140392558174800\" class=\"table-striped table-bordered table-condensed\">\n",
       "<thead><tr><th>psr_bname</th><th>psr_name</th><th>pos_epoch</th><th>eph</th><th>ra</th><th>dec</th><th>pmra_t</th><th>pmdec_t</th><th>plx</th><th>ra_err</th><th>dec_err</th><th>pmra_err_t</th><th>pmdec_err_t</th><th>plx_err</th><th>ref</th><th>comment</th><th>source_id</th><th>pmra_g</th><th>pmra_err_g</th><th>pmdec_g</th><th>pmdec_err_g</th><th>dpmra</th><th>dpmdec</th><th>dpmra_err</th><th>dpmdec_err</th><th>X_pmra</th><th>X_pmdec</th></tr></thead>\n",
       "<thead><tr><th></th><th></th><th>d</th><th></th><th></th><th></th><th>mas / yr</th><th>mas / yr</th><th></th><th></th><th></th><th>mas / yr</th><th>mas / yr</th><th></th><th></th><th></th><th></th><th>mas / yr</th><th>mas / yr</th><th>mas / yr</th><th>mas / yr</th><th>mas / yr</th><th>mas / yr</th><th>mas / yr</th><th>mas / yr</th><th>mas / yr</th><th>mas / yr</th></tr></thead>\n",
       "<thead><tr><th>bytes10</th><th>bytes12</th><th>float64</th><th>bytes5</th><th>float64</th><th>float64</th><th>float64</th><th>float64</th><th>float64</th><th>float64</th><th>float64</th><th>float64</th><th>float64</th><th>float64</th><th>bytes6</th><th>bytes13</th><th>int64</th><th>float64</th><th>float64</th><th>float64</th><th>float64</th><th>float64</th><th>float64</th><th>float64</th><th>float64</th><th>float64</th><th>float64</th></tr></thead>\n",
       "<tr><td>J0348+0432</td><td>J0348+0432</td><td>56000.0</td><td>DE421</td><td>57.18182916666666</td><td>4.536516111111111</td><td>4.04</td><td>3.5</td><td>0.0</td><td>0.05981202763317285</td><td>0.2</td><td>0.16</td><td>0.6000000000000001</td><td>0.0</td><td>afw+13</td><td></td><td>3273288485744249344</td><td>3.438</td><td>1.345</td><td>-0.226</td><td>0.887</td><td>0.6019999999999999</td><td>3.726</td><td>1.354483296316348</td><td>1.0708730083441267</td><td>0.44444992539752887</td><td>3.4794041599399845</td></tr>\n",
       "<tr><td>J0437-4715</td><td>J0437-4715</td><td>54500.0</td><td>DE421</td><td>69.3162340571</td><td>-47.2525307528</td><td>121.439</td><td>-71.475</td><td>6.373</td><td>0.00602974</td><td>0.00626552</td><td>0.001915</td><td>0.001954</td><td>0.086288</td><td>rhc+16</td><td>PPTA-DR1e</td><td>4789864076732331648</td><td>121.646</td><td>0.574</td><td>-70.697</td><td>0.65</td><td>-0.20700000000000784</td><td>-0.7779999999999916</td><td>0.5740031944379752</td><td>0.6500029370056724</td><td>-0.36062517074088435</td><td>-1.1969176686861682</td></tr>\n",
       "<tr><td>J0437-4715</td><td>J0437-4715</td><td>57600.0</td><td>DE430</td><td>69.316656</td><td>-47.252699166666666</td><td>121.48</td><td>-71.43</td><td>0.0</td><td>0.10181492269904993</td><td>0.1</td><td>0.02</td><td>0.01</td><td>0.0</td><td>jbs+19</td><td>UTMOST-I</td><td>4789864076732331648</td><td>121.646</td><td>0.574</td><td>-70.697</td><td>0.65</td><td>-0.16599999999999682</td><td>-0.7330000000000041</td><td>0.5743483263665004</td><td>0.6500769185258003</td><td>-0.28902321531980874</td><td>-1.1275588766668583</td></tr>\n",
       "<tr><td>J0437-4715</td><td>J0437-4715</td><td>54500.0</td><td>DE421</td><td>69.3162340617</td><td>-47.2525307528</td><td>121.441</td><td>-71.475</td><td>6.441</td><td>0.00373391</td><td>0.00383898</td><td>0.001714</td><td>0.001865</td><td>0.074791</td><td>vlh+16</td><td>IPTA-DR1</td><td>4789864076732331648</td><td>121.646</td><td>0.574</td><td>-70.697</td><td>0.65</td><td>-0.2049999999999983</td><td>-0.7779999999999916</td><td>0.5740025590500446</td><td>0.6500026755521857</td><td>-0.3571412649087603</td><td>-1.1969181501277213</td></tr>\n",
       "<tr><td>J0437-4715</td><td>J0437-4715</td><td>53019.0</td><td>DE405</td><td>69.31603281125</td><td>-47.252450716666665</td><td>121.31</td><td>-71.53</td><td>0.0</td><td>0.008145232028164005</td><td>0.008</td><td>0.01</td><td>0.01</td><td>0.0</td><td>hbo06</td><td></td><td>4789864076732331648</td><td>121.646</td><td>0.574</td><td>-70.697</td><td>0.65</td><td>-0.3359999999999985</td><td>-0.8329999999999984</td><td>0.5740871014053529</td><td>0.6500769185258003</td><td>-0.5852770410230046</td><td>-1.2813868270988893</td></tr>\n",
       "<tr><td>...</td><td>...</td><td>...</td><td>...</td><td>...</td><td>...</td><td>...</td><td>...</td><td>...</td><td>...</td><td>...</td><td>...</td><td>...</td><td>...</td><td>...</td><td>...</td><td>...</td><td>...</td><td>...</td><td>...</td><td>...</td><td>...</td><td>...</td><td>...</td><td>...</td><td>...</td><td>...</td></tr>\n",
       "<tr><td>B1953+29</td><td>J1955+2908</td><td>54500.0</td><td>DE405</td><td>298.86615</td><td>29.145407194444445</td><td>-0.9</td><td>-4.1</td><td>0.0</td><td>0.3930239364478579</td><td>0.5</td><td>0.1</td><td>0.1</td><td>0.0</td><td>gsf+11</td><td></td><td>2028584968839606784</td><td>-3.167</td><td>0.135</td><td>-7.827</td><td>0.167</td><td>2.267</td><td>3.7270000000000003</td><td>0.16800297616411444</td><td>0.1946509696867704</td><td>13.493808572685468</td><td>19.14709187422717</td></tr>\n",
       "<tr><td>B1953+29</td><td>J1955+2908</td><td>55000.0</td><td>DE436</td><td>298.8661490629</td><td>29.1454053639</td><td>-1.029</td><td>-4.171</td><td>-1.178</td><td>0.17596624</td><td>0.24031268</td><td>0.055342</td><td>0.078402</td><td>1.098837</td><td>pdd+19</td><td>IPTA-DR2</td><td>2028584968839606784</td><td>-3.167</td><td>0.135</td><td>-7.827</td><td>0.167</td><td>2.138</td><td>3.6559999999999997</td><td>0.14590317667549257</td><td>0.1844881394670129</td><td>14.653553464124958</td><td>19.816992087199758</td></tr>\n",
       "<tr><td>B1953+29</td><td>J1955+2908</td><td>49718.0</td><td>DE200</td><td>298.86614875</td><td>29.145425</td><td>-1.0</td><td>-3.7</td><td>0.0</td><td>2.6201591222646075</td><td>2.0</td><td>0.30000000000000004</td><td>0.30000000000000004</td><td>0.0</td><td>wdk+00</td><td></td><td>2028584968839606784</td><td>-3.167</td><td>0.135</td><td>-7.827</td><td>0.167</td><td>2.167</td><td>4.127</td><td>0.3289756829919197</td><td>0.3433496759864497</td><td>6.5871130057148495</td><td>12.019816206737506</td></tr>\n",
       "<tr><td>B1953+29</td><td>J1955+2908</td><td>49429.0</td><td>DE200</td><td>298.8661583333334</td><td>29.145425</td><td>-2.0</td><td>-2.0</td><td>0.0</td><td>26.201591222646073</td><td>40.0</td><td>9.0</td><td>10.0</td><td>0.0</td><td>hlk+04</td><td></td><td>2028584968839606784</td><td>-3.167</td><td>0.135</td><td>-7.827</td><td>0.167</td><td>1.1669999999999998</td><td>5.827</td><td>9.00101244305328</td><td>10.001394352789015</td><td>0.1296520816278458</td><td>0.5826187623903728</td></tr>\n",
       "<tr><td>B1957+20</td><td>J1959+2048</td><td>48196.0</td><td>DE200</td><td>299.90320783333334</td><td>20.804200611111114</td><td>-16.0</td><td>-25.8</td><td>0.0</td><td>0.7010997295471874</td><td>0.6000000000000001</td><td>0.5</td><td>0.6000000000000001</td><td>0.0</td><td>aft94</td><td></td><td>1823773960079216896</td><td>-19.267</td><td>1.235</td><td>-26.56</td><td>1.244</td><td>3.2669999999999995</td><td>0.759999999999998</td><td>1.3323756977669625</td><td>1.3811357645068787</td><td>2.4520110997787126</td><td>0.5502717542553456</td></tr>\n",
       "</table></div>"
      ],
      "text/plain": [
       "<Table length=40>\n",
       "psr_bname   psr_name  pos_epoch ...        X_pmra              X_pmdec      \n",
       "                          d     ...       mas / yr             mas / yr     \n",
       " bytes10    bytes12    float64  ...       float64              float64      \n",
       "---------- ---------- --------- ... -------------------- -------------------\n",
       "J0348+0432 J0348+0432   56000.0 ...  0.44444992539752887  3.4794041599399845\n",
       "J0437-4715 J0437-4715   54500.0 ... -0.36062517074088435 -1.1969176686861682\n",
       "J0437-4715 J0437-4715   57600.0 ... -0.28902321531980874 -1.1275588766668583\n",
       "J0437-4715 J0437-4715   54500.0 ...  -0.3571412649087603 -1.1969181501277213\n",
       "J0437-4715 J0437-4715   53019.0 ...  -0.5852770410230046 -1.2813868270988893\n",
       "       ...        ...       ... ...                  ...                 ...\n",
       "  B1953+29 J1955+2908   54500.0 ...   13.493808572685468   19.14709187422717\n",
       "  B1953+29 J1955+2908   55000.0 ...   14.653553464124958  19.816992087199758\n",
       "  B1953+29 J1955+2908   49718.0 ...   6.5871130057148495  12.019816206737506\n",
       "  B1953+29 J1955+2908   49429.0 ...   0.1296520816278458  0.5826187623903728\n",
       "  B1957+20 J1959+2048   48196.0 ...   2.4520110997787126  0.5502717542553456"
      ]
     },
     "execution_count": 39,
     "metadata": {},
     "output_type": "execute_result"
    }
   ],
   "source": [
    "pm_tab"
   ]
  },
  {
   "cell_type": "code",
   "execution_count": 40,
   "id": "cca34e5a",
   "metadata": {
    "ExecuteTime": {
     "end_time": "2022-08-19T13:48:45.311811Z",
     "start_time": "2022-08-19T13:48:45.299912Z"
    },
    "scrolled": false
   },
   "outputs": [
    {
     "name": "stdout",
     "output_type": "stream",
     "text": [
      "PMRA\n",
      "J0348+0432 4.04 0.16 3.438 1.345\n",
      "PMDEC\n",
      "J0348+0432 3.5 0.6000000000000001 -0.226 0.887\n",
      "PMRA\n",
      "J0437-4715 121.439 0.001915 121.646 0.574\n",
      "PMDEC\n",
      "J0437-4715 -71.475 0.001954 -70.697 0.65\n",
      "PMRA\n",
      "J0437-4715 121.48 0.02 121.646 0.574\n",
      "PMDEC\n",
      "J0437-4715 -71.43 0.01 -70.697 0.65\n",
      "PMRA\n",
      "J0437-4715 121.441 0.001714 121.646 0.574\n",
      "PMDEC\n",
      "J0437-4715 -71.475 0.001865 -70.697 0.65\n",
      "PMRA\n",
      "J0437-4715 121.31 0.01 121.646 0.574\n",
      "PMDEC\n",
      "J0437-4715 -71.53 0.01 -70.697 0.65\n",
      "PMRA\n",
      "J0437-4715 121.3 0.2 121.646 0.574\n",
      "PMDEC\n",
      "J0437-4715 -70.4 0.30000000000000004 -70.697 0.65\n",
      "PMRA\n",
      "J0437-4715 121.443 0.001435 121.646 0.574\n",
      "PMDEC\n",
      "J0437-4715 -71.474 0.00156 -70.697 0.65\n",
      "PMRA\n",
      "J1012+5307 2.66 0.03 2.736 0.292\n",
      "PMDEC\n",
      "J1012+5307 -25.5 0.04 -25.921 0.271\n",
      "PMRA\n",
      "J1012+5307 2.627 0.010222 2.736 0.292\n",
      "PMDEC\n",
      "J1012+5307 -25.458 0.013951 -25.921 0.271\n",
      "PMRA\n",
      "J1012+5307 2.614 0.010224 2.736 0.292\n",
      "PMDEC\n",
      "J1012+5307 -25.486 0.013773 -25.921 0.271\n",
      "PMRA\n",
      "J1012+5307 2.562 0.014 2.736 0.292\n",
      "PMDEC\n",
      "J1012+5307 -25.61 0.02 -25.921 0.271\n",
      "PMRA\n",
      "J1012+5307 2.5 0.2 2.736 0.292\n",
      "PMDEC\n",
      "J1012+5307 -25.6 0.2 -25.921 0.271\n",
      "PMRA\n",
      "J1012+5307 2.609 0.008 2.736 0.292\n",
      "PMDEC\n",
      "J1012+5307 -25.482 0.011 -25.921 0.271\n",
      "PMRA\n",
      "J1012+5307 2.4 0.2 2.736 0.292\n",
      "PMDEC\n",
      "J1012+5307 -25.2 0.2 -25.921 0.271\n",
      "PMRA\n",
      "J1024-0719 -35.331 0.039686 -35.458 0.318\n",
      "PMDEC\n",
      "J1024-0719 -48.318 0.079472 -48.352 0.357\n",
      "PMRA\n",
      "J1024-0719 -35.28 0.03 -35.458 0.318\n",
      "PMDEC\n",
      "J1024-0719 -48.18 0.07 -48.352 0.357\n",
      "PMRA\n",
      "J1024-0719 -35.27 0.017 -35.458 0.318\n",
      "PMDEC\n",
      "J1024-0719 -48.22 0.03 -48.352 0.357\n",
      "PMRA\n",
      "J1024-0719 -35.3 0.2 -35.458 0.318\n",
      "PMDEC\n",
      "J1024-0719 -48.2 0.30000000000000004 -48.352 0.357\n",
      "PMRA\n",
      "J1024-0719 -35.2 0.1 -35.458 0.318\n",
      "PMDEC\n",
      "J1024-0719 -48.0 0.2 -48.352 0.357\n",
      "PMRA\n",
      "J1024-0719 -35.319 0.027289 -35.458 0.318\n",
      "PMDEC\n",
      "J1024-0719 -48.285 0.055563 -48.352 0.357\n",
      "PMRA\n",
      "J1024-0719 -35.29 0.06 -35.458 0.318\n",
      "PMDEC\n",
      "J1024-0719 -48.2 0.1 -48.352 0.357\n",
      "PMRA\n",
      "J1024-0719 -35.267 0.017593 -35.458 0.318\n",
      "PMDEC\n",
      "J1024-0719 -48.225 0.036161 -48.352 0.357\n",
      "PMRA\n",
      "J1955+2908 -1.1 0.1 -3.167 0.135\n",
      "PMRA\n",
      "J1955+2908 -0.9 0.1 -3.167 0.135\n",
      "PMDEC\n",
      "J1955+2908 -4.1 0.1 -7.827 0.167\n",
      "PMRA\n",
      "J1955+2908 -1.029 0.055342 -3.167 0.135\n",
      "PMDEC\n",
      "J1955+2908 -4.171 0.078402 -7.827 0.167\n",
      "PMRA\n",
      "J1959+2048 -16.0 0.5 -19.267 1.235\n",
      "PMDEC\n",
      "J1959+2048 -25.8 0.6000000000000001 -26.56 1.244\n"
     ]
    }
   ],
   "source": [
    "for i in range(len(pm_tab)):\n",
    "    \n",
    "    if pm_tab[i][\"pmra_err_t\"] < pm_tab[i][\"pmra_err_g\"]:\n",
    "        print(\"PMRA\")\n",
    "        print(pm_tab[\"psr_name\"][i], pm_tab[\"pmra_t\"][i], pm_tab[\"pmra_err_t\"][i], pm_tab[\"pmra_g\"][i], pm_tab[\"pmra_err_g\"][i]) \n",
    "    \n",
    "    if pm_tab[i][\"pmdec_err_t\"] < pm_tab[i][\"pmdec_err_g\"]:\n",
    "        print(\"PMDEC\")\n",
    "        print(pm_tab[\"psr_name\"][i], pm_tab[\"pmdec_t\"][i], pm_tab[\"pmdec_err_t\"][i], pm_tab[\"pmdec_g\"][i], pm_tab[\"pmdec_err_g\"][i]) \n",
    "    "
   ]
  }
 ],
 "metadata": {
  "hide_input": false,
  "kernelspec": {
   "display_name": "Python 3 (ipykernel)",
   "language": "python",
   "name": "python3"
  },
  "language_info": {
   "codemirror_mode": {
    "name": "ipython",
    "version": 3
   },
   "file_extension": ".py",
   "mimetype": "text/x-python",
   "name": "python",
   "nbconvert_exporter": "python",
   "pygments_lexer": "ipython3",
   "version": "3.9.12"
  }
 },
 "nbformat": 4,
 "nbformat_minor": 5
}
