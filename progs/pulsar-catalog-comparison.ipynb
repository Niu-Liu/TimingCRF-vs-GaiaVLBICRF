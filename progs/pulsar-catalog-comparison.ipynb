{
 "cells": [
  {
   "cell_type": "markdown",
   "id": "1c4637b5",
   "metadata": {},
   "source": [
    "This notebook is intended to see if all pulsars in NANOGrav and PPTA are included in ATNF pulsar catalog, which may be not of interest for readers."
   ]
  },
  {
   "cell_type": "code",
   "execution_count": 2,
   "id": "e497bf95",
   "metadata": {
    "ExecuteTime": {
     "end_time": "2022-07-12T06:51:28.392051Z",
     "start_time": "2022-07-12T06:51:28.388378Z"
    }
   },
   "outputs": [],
   "source": [
    "import numpy as np\n",
    "\n",
    "from astropy.table import Table, join, setdiff, vstack, unique"
   ]
  },
  {
   "cell_type": "markdown",
   "id": "a48fc3d3",
   "metadata": {},
   "source": [
    "I used the version 1.66 of the ATNF catalog."
   ]
  },
  {
   "cell_type": "code",
   "execution_count": 2,
   "id": "729d73c2",
   "metadata": {
    "ExecuteTime": {
     "end_time": "2022-01-27T07:34:45.718662Z",
     "start_time": "2022-01-27T07:34:45.678436Z"
    }
   },
   "outputs": [],
   "source": [
    "# atnf_cat_list = Table.read(\n",
    "#     \"../data/jantoniadis-GAIA_pulsars_eDR3-d403f76/pulsars.txt\",\n",
    "#     format=\"ascii.no_header\")\n",
    "atnf_cat_list = Table.read(\n",
    "    \"../data/pulsars-1.66.txt\",\n",
    "    format=\"ascii.no_header\")\n",
    "\n",
    "atnf_cat_list.keep_columns([\"col2\"])\n",
    "atnf_cat_list.rename_column(\"col2\", \"psr_name\")"
   ]
  },
  {
   "cell_type": "markdown",
   "id": "4e91dfbe",
   "metadata": {},
   "source": [
    "Print PSR names withi a Gaia EDR3 match."
   ]
  },
  {
   "cell_type": "code",
   "execution_count": 10,
   "id": "80af5f81",
   "metadata": {
    "ExecuteTime": {
     "end_time": "2022-07-12T12:54:16.585377Z",
     "start_time": "2022-07-12T12:54:16.532633Z"
    }
   },
   "outputs": [
    {
     "name": "stdout",
     "output_type": "stream",
     "text": [
      "J0045-7319\n",
      "J0337+1715\n",
      "J0348+0432\n",
      "J0437-4715\n",
      "J0534+2200\n",
      "J0534-6703\n",
      "J0540-6919\n",
      "J0614+2229\n",
      "J0857-4424\n",
      "J1012+5307\n",
      "J1023+0038\n",
      "J1024-0719\n",
      "J1036-8317\n",
      "J1048+2339\n",
      "J1227-4853\n",
      "J1302-6350\n",
      "J1305-6455\n",
      "J1306-4035\n",
      "J1311-3430\n",
      "J1417-4402\n",
      "J1431-4715\n",
      "J1435-6100\n",
      "J1437-6146\n",
      "J1509-6015\n",
      "J1542-5133\n",
      "J1546-5302\n",
      "J1622-0315\n",
      "J1624-4411\n",
      "J1624-4721\n",
      "J1653-0158\n",
      "J1723-2837\n",
      "J1810+1744\n",
      "J1816+4510\n",
      "J1817-3618\n",
      "J1839-0905\n",
      "J1851+1259\n",
      "J1852+0040\n",
      "J1903-0258\n",
      "J1928+1245\n",
      "J1946+2052\n",
      "J1955+2908\n",
      "J1957+2516\n",
      "J1958+2846\n",
      "J1959+2048\n",
      "J2027+4557\n",
      "J2032+4127\n",
      "J2039-5617\n",
      "J2129-0429\n",
      "J2215+5135\n",
      "J2339-0533\n"
     ]
    }
   ],
   "source": [
    "# # edr3_list = Table.read(\"../data/edr3_psrcatv1.65.fits\")\n",
    "edr3_list = Table.read(\"../data/edr3_psrcatv1.66.fits\")\n",
    "\n",
    "edr3_list.keep_columns([\"name\"])\n",
    "edr3_list.rename_column(\"name\", \"psr_name\")\n",
    "\n",
    "edr3_list = unique(edr3_list)\n",
    "\n",
    "for name in edr3_list[\"psr_name\"]:\n",
    "    print(name)"
   ]
  },
  {
   "cell_type": "code",
   "execution_count": 18,
   "id": "e7fe8f41",
   "metadata": {
    "ExecuteTime": {
     "end_time": "2022-07-12T12:56:06.424815Z",
     "start_time": "2022-07-12T12:56:06.397574Z"
    }
   },
   "outputs": [
    {
     "name": "stdout",
     "output_type": "stream",
     "text": [
      "J0045-7319\n",
      "J0348+0432\n",
      "J0437-4715\n",
      "J0534+2200\n",
      "J0534-6703\n",
      "J0614+2229\n",
      "J0857-4424\n",
      "J1012+5307\n",
      "J1024-0719\n",
      "J1048+2339\n",
      "J1227-4853\n",
      "J1302-6350\n",
      "J1305-6455\n",
      "J1311-3430\n",
      "J1431-4715\n",
      "J1435-6100\n",
      "J1509-6015\n",
      "J1546-5302\n",
      "J1624-4411\n",
      "J1624-4721\n",
      "J1723-2837\n",
      "J1816+4510\n",
      "J1817-3618\n",
      "J1839-0905\n",
      "J1851+1259\n",
      "J1903-0258\n",
      "J1928+1245\n",
      "J1955+2908\n",
      "J1957+2516\n",
      "J1958+2846\n",
      "J2027+4557\n",
      "J2032+4127\n"
     ]
    }
   ],
   "source": [
    "edr3_list = Table.read(\"../data/timing_edr3.fits\")\n",
    "\n",
    "edr3_list = unique(edr3_list, keys=\"psr_name\")\n",
    "\n",
    "for name in edr3_list[\"psr_name\"]:\n",
    "    print(name)"
   ]
  },
  {
   "cell_type": "code",
   "execution_count": 19,
   "id": "820c5460",
   "metadata": {
    "ExecuteTime": {
     "end_time": "2022-07-13T00:25:59.038042Z",
     "start_time": "2022-07-13T00:25:59.014666Z"
    }
   },
   "outputs": [
    {
     "name": "stdout",
     "output_type": "stream",
     "text": [
      "J0040+5716\n",
      "J0055+5117\n",
      "J0102+6537\n",
      "J0108+6608\n",
      "J0147+5922\n",
      "J0151-0635\n",
      "J0152-1637\n",
      "J0157+6212\n",
      "J0323+3944\n",
      "J0332+5434\n",
      "J0335+4555\n",
      "J0357+5236\n",
      "J0406+6138\n",
      "J0601-0527\n",
      "J0614+2229\n",
      "J0629+2415\n",
      "J0729-1836\n",
      "J0823+0159\n",
      "J0826+2637\n",
      "J1012+5307\n",
      "J1022+1001\n",
      "J1136+1551\n",
      "J1257-1027\n",
      "J1321+8323\n",
      "J1532+2745\n",
      "J1543-0620\n",
      "J1607-0032\n",
      "J1623-0908\n",
      "J1645-0317\n",
      "J1650-1654\n",
      "J1703-1846\n",
      "J1735-0724\n",
      "J1741-0840\n",
      "J1754+5201\n",
      "J1820-0427\n",
      "J1833-0338\n",
      "J1840+5640\n",
      "J1901-0906\n",
      "J1912+2104\n",
      "J1913+1400\n",
      "J1917+1353\n",
      "J1919+0021\n",
      "J1937+2544\n",
      "J2006-0807\n",
      "J2010-1323\n",
      "J2046+1540\n",
      "J2046-0421\n",
      "J2113+2754\n",
      "J2113+4644\n",
      "J2145-0750\n",
      "J2149+6329\n",
      "J2150+5247\n",
      "J2212+2933\n",
      "J2225+6535\n",
      "J2248-0101\n",
      "J2305+3100\n",
      "J2317+1439\n",
      "J2317+2149\n",
      "J2325+6316\n",
      "J2346-0609\n",
      "J2354+6155\n"
     ]
    }
   ],
   "source": [
    "vlbi_list = Table.read(\"../data/timing_vlbi.fits\")\n",
    "\n",
    "vlbi_list = unique(vlbi_list, keys=\"psr_name\")\n",
    "\n",
    "for name in vlbi_list[\"psr_name\"]:\n",
    "    print(name)"
   ]
  },
  {
   "cell_type": "code",
   "execution_count": 12,
   "id": "0171c21c",
   "metadata": {
    "ExecuteTime": {
     "end_time": "2022-07-12T12:54:56.921583Z",
     "start_time": "2022-07-12T12:54:56.901105Z"
    }
   },
   "outputs": [
    {
     "data": {
      "text/html": [
       "<div><i>Table length=68</i>\n",
       "<table id=\"table140663420221808\" class=\"table-striped table-bordered table-condensed\">\n",
       "<thead><tr><th>psr_bname</th><th>psr_name</th><th>pos_epoch</th><th>eph</th><th>ra</th><th>dec</th><th>pmra</th><th>pmdec</th><th>plx</th><th>ra_err</th><th>dec_err</th><th>pmra_err</th><th>pmdec_err</th><th>plx_err</th><th>ref</th><th>comment</th></tr></thead>\n",
       "<thead><tr><th></th><th></th><th>d</th><th></th><th></th><th></th><th></th><th></th><th></th><th></th><th></th><th></th><th></th><th></th><th></th><th></th></tr></thead>\n",
       "<thead><tr><th>bytes10</th><th>bytes11</th><th>float64</th><th>bytes5</th><th>float64</th><th>float64</th><th>float64</th><th>float64</th><th>float64</th><th>float64</th><th>float64</th><th>float64</th><th>float64</th><th>float64</th><th>bytes6</th><th>bytes13</th></tr></thead>\n",
       "<tr><td>J0045-7319</td><td>J0045-7319</td><td>49144.0</td><td>DE200</td><td>11.3965</td><td>-73.3175</td><td>0.0</td><td>0.0</td><td>0.0</td><td>301.42135402808975</td><td>200.0</td><td>0.0</td><td>0.0</td><td>0.0</td><td>kmb+96</td><td>--</td></tr>\n",
       "<tr><td>J0348+0432</td><td>J0348+0432</td><td>56000.0</td><td>DE405</td><td>57.1818291667</td><td>4.5365161111</td><td>4.04</td><td>3.5</td><td>0.0</td><td>5.86367213</td><td>24.782</td><td>0.0</td><td>0.0</td><td>0.0</td><td>lbs+20</td><td>UTMOST-II</td></tr>\n",
       "<tr><td>J0348+0432</td><td>J0348+0432</td><td>56000.0</td><td>DE421</td><td>57.18182916666666</td><td>4.536516111111111</td><td>4.04</td><td>3.5</td><td>0.0</td><td>0.05981202763317285</td><td>0.2</td><td>0.16</td><td>0.6000000000000001</td><td>0.0</td><td>afw+13</td><td>--</td></tr>\n",
       "<tr><td>J0437-4715</td><td>J0437-4715</td><td>54500.0</td><td>DE421</td><td>69.3162340617</td><td>-47.2525307528</td><td>121.441</td><td>-71.475</td><td>6.441</td><td>0.00373391</td><td>0.00383898</td><td>0.001714</td><td>0.001865</td><td>0.074791</td><td>vlh+16</td><td>IPTA-DR1</td></tr>\n",
       "<tr><td>J0437-4715</td><td>J0437-4715</td><td>57600.0</td><td>DE430</td><td>69.316656</td><td>-47.252699166666666</td><td>121.48</td><td>-71.43</td><td>0.0</td><td>0.10181492269904993</td><td>0.1</td><td>0.02</td><td>0.01</td><td>0.0</td><td>jbs+19</td><td>UTMOST-I</td></tr>\n",
       "<tr><td>J0437-4715</td><td>J0437-4715</td><td>55000.0</td><td>DE436</td><td>69.3163022208</td><td>-47.2525579444</td><td>121.443</td><td>-71.474</td><td>6.418</td><td>0.00503983</td><td>0.00530447</td><td>0.001435</td><td>0.00156</td><td>0.067263</td><td>pdd+19</td><td>IPTA-DR2</td></tr>\n",
       "<tr><td>J0437-4715</td><td>J0437-4715</td><td>54500.0</td><td>DE421</td><td>69.3162340571</td><td>-47.2525307528</td><td>121.439</td><td>-71.475</td><td>6.373</td><td>0.00602974</td><td>0.00626552</td><td>0.001915</td><td>0.001954</td><td>0.086288</td><td>rhc+16</td><td>PPTA-DR1e</td></tr>\n",
       "<tr><td>J0437-4715</td><td>J0437-4715</td><td>54500.0</td><td>DE421</td><td>69.3162340571</td><td>-47.2525307528</td><td>121.439</td><td>-71.475</td><td>6.373</td><td>6.12744516</td><td>3.0352</td><td>0.0</td><td>0.0</td><td>0.0</td><td>lbs+20</td><td>UTMOST-II</td></tr>\n",
       "<tr><td>J0437-4715</td><td>J0437-4715</td><td>53019.0</td><td>DE405</td><td>69.31603281125</td><td>-47.252450716666665</td><td>121.31</td><td>-71.53</td><td>0.0</td><td>0.008145232028164005</td><td>0.008</td><td>0.01</td><td>0.01</td><td>0.0</td><td>hbo06</td><td>--</td></tr>\n",
       "<tr><td>J0437-4715</td><td>J0437-4715</td><td>49615.0</td><td>DE200</td><td>69.31556254166667</td><td>-47.25226463888889</td><td>121.3</td><td>-70.4</td><td>1.0</td><td>0.20363151618244418</td><td>0.2</td><td>0.2</td><td>0.30000000000000004</td><td>5.0</td><td>bbm+97</td><td>--</td></tr>\n",
       "<tr><td>B0531+21</td><td>J0534+2200</td><td>51816.0</td><td>DE405</td><td>83.6325</td><td>22.019444444444442</td><td>0.0</td><td>0.0</td><td>0.0</td><td>13905.85006643232</td><td>18000.0</td><td>0.0</td><td>0.0</td><td>0.0</td><td>zhw+05</td><td>--</td></tr>\n",
       "<tr><td>J0534-6703</td><td>J0534-6703</td><td>52410.0</td><td>DE200</td><td>83.65070833333331</td><td>-67.06355555555555</td><td>0.0</td><td>0.0</td><td>0.0</td><td>584.5647223434027</td><td>800.0</td><td>0.0</td><td>0.0</td><td>0.0</td><td>mfl+06</td><td>--</td></tr>\n",
       "<tr><td>B0611+22</td><td>J0614+2229</td><td>49674.0</td><td>DE200</td><td>93.5715</td><td>22.51</td><td>0.0</td><td>0.0</td><td>0.0</td><td>415.71572741156695</td><td>17000.0</td><td>0.0</td><td>0.0</td><td>0.0</td><td>hlk+04</td><td>--</td></tr>\n",
       "<tr><td>J0857-4424</td><td>J0857-4424</td><td>49080.0</td><td>DE200</td><td>134.47982916666663</td><td>-44.40286666666667</td><td>0.0</td><td>0.0</td><td>0.0</td><td>21.4331301792672</td><td>30.0</td><td>0.0</td><td>0.0</td><td>0.0</td><td>dsb+98</td><td>--</td></tr>\n",
       "<tr><td>J0857-4424</td><td>J0857-4424</td><td>55335.0</td><td>DE4??</td><td>134.4826333333333</td><td>-44.40295833333333</td><td>0.0</td><td>0.0</td><td>0.0</td><td>21.433096596094472</td><td>20.0</td><td>0.0</td><td>0.0</td><td>0.0</td><td>psj+19</td><td>--</td></tr>\n",
       "<tr><td>J1012+5307</td><td>J1012+5307</td><td>50914.0</td><td>DE200</td><td>153.13930791666667</td><td>53.11738166666667</td><td>2.3</td><td>-25.8</td><td>0.0</td><td>1.8005327985444117</td><td>2.0</td><td>0.7</td><td>0.8</td><td>0.0</td><td>hlk+04</td><td>--</td></tr>\n",
       "<tr><td>J1012+5307</td><td>J1012+5307</td><td>55000.0</td><td>DE436</td><td>153.1393230429</td><td>53.1173056083</td><td>2.614</td><td>-25.486</td><td>0.933</td><td>0.04953387</td><td>0.06394984</td><td>0.010224</td><td>0.013773</td><td>0.192303</td><td>pdd+19</td><td>IPTA-DR2</td></tr>\n",
       "<tr><td>J1012+5307</td><td>J1012+5307</td><td>55000.0</td><td>DE421</td><td>153.13932300416664</td><td>53.11730555277778</td><td>2.609</td><td>-25.482</td><td>0.71</td><td>0.0450133996565745</td><td>0.060000000000000005</td><td>0.008</td><td>0.011</td><td>0.17</td><td>dcl+16</td><td>EPTA</td></tr>\n",
       "<tr><td>J1012+5307</td><td>J1012+5307</td><td>50700.0</td><td>DE405</td><td>153.13930875416665</td><td>53.117389083333336</td><td>2.562</td><td>-25.61</td><td>1.22</td><td>0.08912635815241264</td><td>0.13</td><td>0.014</td><td>0.02</td><td>0.26</td><td>lwj+09</td><td>--</td></tr>\n",
       "<tr><td>J1012+5307</td><td>J1012+5307</td><td>55291.0</td><td>DE436</td><td>153.139324</td><td>53.11730002777778</td><td>2.66</td><td>-25.5</td><td>1.3</td><td>0.09002681088274288</td><td>0.1</td><td>0.03</td><td>0.04</td><td>0.4</td><td>abb+18</td><td>NANOGrav-11yr</td></tr>\n",
       "<tr><td>J1012+5307</td><td>J1012+5307</td><td>50700.0</td><td>DE200</td><td>153.1393070833333</td><td>53.117385666666664</td><td>2.4</td><td>-25.2</td><td>0.0</td><td>0.2700798946531054</td><td>0.4</td><td>0.2</td><td>0.2</td><td>0.0</td><td>lcw+01</td><td>--</td></tr>\n",
       "<tr><td>J1012+5307</td><td>J1012+5307</td><td>54902.0</td><td>DE421</td><td>153.1393227083333</td><td>53.117307527777776</td><td>2.5</td><td>-25.6</td><td>1.0</td><td>0.5401607710644697</td><td>0.7000000000000001</td><td>0.2</td><td>0.2</td><td>3.0</td><td>mnf+16</td><td>NANOGrav-9yr</td></tr>\n",
       "<tr><td>J1012+5307</td><td>J1012+5307</td><td>55000.0</td><td>DE421</td><td>153.1393230512</td><td>53.1173055972</td><td>2.627</td><td>-25.458</td><td>0.782</td><td>0.05085026</td><td>0.06366704</td><td>0.010222</td><td>0.013951</td><td>0.193807</td><td>vlh+16</td><td>IPTA-DR1</td></tr>\n",
       "<tr><td>J1024-0719</td><td>J1024-0719</td><td>56239.0</td><td>DE436</td><td>156.16111399166664</td><td>-7.3221103888888885</td><td>-35.29</td><td>-48.2</td><td>0.8</td><td>0.08926608011575785</td><td>0.2</td><td>0.06</td><td>0.1</td><td>0.2</td><td>abb+18</td><td>NANOGrav-11yr</td></tr>\n",
       "<tr><td>J1024-0719</td><td>J1024-0719</td><td>55000.0</td><td>DE421</td><td>156.1611474146</td><td>-7.3220649833</td><td>-35.319</td><td>-48.285</td><td>0.831</td><td>0.06135341</td><td>0.12732461</td><td>0.027289</td><td>0.055563</td><td>0.135896</td><td>vlh+16</td><td>IPTA-DR1</td></tr>\n",
       "<tr><td>J1024-0719</td><td>J1024-0719</td><td>55800.0</td><td>DE421</td><td>156.1611257875</td><td>-7.322094333333333</td><td>-35.2</td><td>-48.0</td><td>0.6</td><td>0.133899124994967</td><td>0.30000000000000004</td><td>0.1</td><td>0.2</td><td>0.30000000000000004</td><td>mnf+16</td><td>NANOGrav-9yr</td></tr>\n",
       "<tr><td>J1024-0719</td><td>J1024-0719</td><td>54500.0</td><td>DE421</td><td>156.1611609737</td><td>-7.3220466056</td><td>-35.331</td><td>-48.318</td><td>0.526</td><td>0.09145182</td><td>0.18954466</td><td>0.039686</td><td>0.079472</td><td>0.228211</td><td>rhc+16</td><td>PPTA-DR1e</td></tr>\n",
       "<tr><td>J1024-0719</td><td>J1024-0719</td><td>55000.0</td><td>DE436</td><td>156.1611475046</td><td>-7.3220649306</td><td>-35.267</td><td>-48.225</td><td>0.822</td><td>0.04801056</td><td>0.09847672</td><td>0.017593</td><td>0.036161</td><td>0.102243</td><td>pdd+19</td><td>IPTA-DR2</td></tr>\n",
       "<tr><td>J1024-0719</td><td>J1024-0719</td><td>51018.0</td><td>DE200</td><td>156.16125125</td><td>-7.321920833333333</td><td>-35.0</td><td>-48.0</td><td>0.0</td><td>5.95107453754186</td><td>15.0</td><td>4.0</td><td>8.0</td><td>0.0</td><td>hlk+04</td><td>--</td></tr>\n",
       "<tr><td>J1024-0719</td><td>J1024-0719</td><td>55000.0</td><td>DE421</td><td>156.16114740833333</td><td>-7.322064986111111</td><td>-35.28</td><td>-48.18</td><td>0.8</td><td>0.07438840767090601</td><td>0.15</td><td>0.03</td><td>0.07</td><td>0.17</td><td>dcl+16</td><td>EPTA</td></tr>\n",
       "<tr><td>J1024-0719</td><td>J1024-0719</td><td>53000.0</td><td>DE405</td><td>156.161201875</td><td>-7.321991722222222</td><td>-34.9</td><td>-47.0</td><td>0.0</td><td>0.29755367957301526</td><td>0.6000000000000001</td><td>0.4</td><td>1.0</td><td>0.0</td><td>hbo06</td><td>--</td></tr>\n",
       "<tr><td>J1024-0719</td><td>J1024-0719</td><td>55636.0</td><td>DE436</td><td>156.1611309125</td><td>-7.322087388888889</td><td>-35.27</td><td>-48.22</td><td>0.83</td><td>0.059510723146806305</td><td>0.1</td><td>0.017</td><td>0.03</td><td>0.13</td><td>rsc+21</td><td>PPTA-DR2e</td></tr>\n",
       "<tr><td>J1024-0719</td><td>J1024-0719</td><td>50456.0</td><td>DE200</td><td>156.16126666666665</td><td>-7.3219025</td><td>-41.0</td><td>-70.0</td><td>0.0</td><td>1.48776869555416</td><td>3.0</td><td>2.0</td><td>3.0</td><td>0.0</td><td>tsb+99</td><td>--</td></tr>\n",
       "<tr><td>J1024-0719</td><td>J1024-0719</td><td>53000.0</td><td>DE405</td><td>156.16120191666664</td><td>-7.3219916666666665</td><td>-35.3</td><td>-48.2</td><td>0.0</td><td>0.44633051941513135</td><td>1.0</td><td>0.2</td><td>0.30000000000000004</td><td>0.0</td><td>vbc+09</td><td>--</td></tr>\n",
       "<tr><td>J1048+2339</td><td>J1048+2339</td><td>56700.0</td><td>DE421</td><td>162.18090980833333</td><td>23.664834527777778</td><td>0.0</td><td>0.0</td><td>0.0</td><td>1.0441363940934274</td><td>2.0</td><td>0.0</td><td>0.0</td><td>0.0</td><td>drc+21</td><td>--</td></tr>\n",
       "<tr><td>J1227-4853</td><td>J1227-4853</td><td>56708.0</td><td>DE405</td><td>186.99468333333328</td><td>-48.895205833333335</td><td>0.0</td><td>0.0</td><td>0.0</td><td>9.861574457264245</td><td>3.0</td><td>0.0</td><td>0.0</td><td>0.0</td><td>rbb+15</td><td>--</td></tr>\n",
       "<tr><td>B1259-63</td><td>J1302-6350</td><td>57600.0</td><td>DE430</td><td>195.69841666666665</td><td>-63.835750000000004</td><td>0.0</td><td>0.0</td><td>0.0</td><td>132.2837753556639</td><td>200.0</td><td>0.0</td><td>0.0</td><td>0.0</td><td>jbs+19</td><td>UTMOST-I</td></tr>\n",
       "<tr><td>B1302-64</td><td>J1305-6455</td><td>57600.0</td><td>DE430</td><td>196.3478123292</td><td>-64.9245833472</td><td>0.0</td><td>0.0</td><td>0.0</td><td>163.75415143</td><td>171.95</td><td>0.0</td><td>0.0</td><td>0.0</td><td>lbs+20</td><td>UTMOST-II</td></tr>\n",
       "<tr><td>B1302-64</td><td>J1305-6455</td><td>57600.0</td><td>DE430</td><td>196.34745833333335</td><td>-64.92452777777778</td><td>0.0</td><td>0.0</td><td>0.0</td><td>127.14351555159209</td><td>200.0</td><td>0.0</td><td>0.0</td><td>0.0</td><td>jbs+19</td><td>UTMOST-I</td></tr>\n",
       "<tr><td>J1311-3430</td><td>J1311-3430</td><td>55266.9</td><td>DE405</td><td>197.94051749999997</td><td>-34.508430555555556</td><td>0.0</td><td>0.0</td><td>0.0</td><td>2.472128514443755</td><td>4.0</td><td>0.0</td><td>0.0</td><td>0.0</td><td>pgf+12</td><td>--</td></tr>\n",
       "<tr><td>J1431-4715</td><td>J1431-4715</td><td>55756.1</td><td>DE421</td><td>217.93590708333332</td><td>-47.25765944444444</td><td>-7.0</td><td>-8.0</td><td>0.0</td><td>2.036107720142993</td><td>4.0</td><td>3.0</td><td>4.0</td><td>0.0</td><td>btb+15</td><td>--</td></tr>\n",
       "<tr><td>J1435-6100</td><td>J1435-6100</td><td>51270.0</td><td>DE200</td><td>218.83448541666667</td><td>-61.01609888888889</td><td>0.0</td><td>0.0</td><td>0.0</td><td>2.907383110057342</td><td>6.0</td><td>0.0</td><td>0.0</td><td>0.0</td><td>mlc+01</td><td>--</td></tr>\n",
       "<tr><td>J1435-6100</td><td>J1435-6100</td><td>51270.0</td><td>DE200</td><td>218.83448541666664</td><td>-61.01609888888889</td><td>0.0</td><td>0.0</td><td>0.0</td><td>2.907383110057342</td><td>6.0</td><td>0.0</td><td>0.0</td><td>0.0</td><td>clm+01</td><td>--</td></tr>\n",
       "<tr><td>J1509-6015</td><td>J1509-6015</td><td>51759.0</td><td>DE200</td><td>227.28125</td><td>-60.25516666666667</td><td>0.0</td><td>0.0</td><td>0.0</td><td>744.2073172956694</td><td>600.0</td><td>0.0</td><td>0.0</td><td>0.0</td><td>kmb+03</td><td>--</td></tr>\n",
       "<tr><td>J1546-5302</td><td>J1546-5302</td><td>51398.0</td><td>DE200</td><td>236.53083333333336</td><td>-53.03972222222222</td><td>0.0</td><td>0.0</td><td>0.0</td><td>901.8917965422867</td><td>900.0</td><td>0.0</td><td>0.0</td><td>0.0</td><td>kmb+03</td><td>--</td></tr>\n",
       "<tr><td>J1624-4411</td><td>J1624-4411</td><td>53058.0</td><td>DE200</td><td>246.08900416666665</td><td>-44.192722222222216</td><td>0.0</td><td>0.0</td><td>0.0</td><td>193.58977228305633</td><td>500.0</td><td>0.0</td><td>0.0</td><td>0.0</td><td>lfl+06</td><td>--</td></tr>\n",
       "<tr><td>J1624-4721</td><td>J1624-4721</td><td>51683.0</td><td>DE200</td><td>246.22870833333332</td><td>-47.3575</td><td>0.0</td><td>0.0</td><td>0.0</td><td>812.906153309658</td><td>2000.0</td><td>0.0</td><td>0.0</td><td>0.0</td><td>kmb+03</td><td>--</td></tr>\n",
       "<tr><td>J1723-2837</td><td>J1723-2837</td><td>55667.0</td><td>DE405</td><td>260.8466066666666</td><td>-28.63254722222222</td><td>0.0</td><td>0.0</td><td>0.0</td><td>10.532530918947785</td><td>110.0</td><td>0.0</td><td>0.0</td><td>0.0</td><td>cls+13</td><td>--</td></tr>\n",
       "<tr><td>J1816+4510</td><td>J1816+4510</td><td>56047.0</td><td>DE421</td><td>274.14972649999993</td><td>45.17607272222222</td><td>5.3</td><td>-3.0</td><td>0.0</td><td>0.7401769957990335</td><td>0.8</td><td>0.8</td><td>1.0</td><td>0.0</td><td>slr+14</td><td>--</td></tr>\n",
       "<tr><td>B1813-36</td><td>J1817-3618</td><td>57600.0</td><td>DE430</td><td>274.2744041666667</td><td>-36.30127777777778</td><td>19.0</td><td>-16.0</td><td>0.0</td><td>108.79853570658419</td><td>300.0</td><td>5.0</td><td>17.0</td><td>0.0</td><td>jbs+19</td><td>UTMOST-I</td></tr>\n",
       "<tr><td>J1839-0905</td><td>J1839-0905</td><td>54979.0</td><td>DE4??</td><td>279.9727499999999</td><td>-9.087250000000001</td><td>0.0</td><td>0.0</td><td>0.0</td><td>444.35203971073736</td><td>800.0</td><td>0.0</td><td>0.0</td><td>0.0</td><td>psj+19</td><td>--</td></tr>\n",
       "<tr><td>B1848+12</td><td>J1851+1259</td><td>49908.0</td><td>DE200</td><td>282.8050625</td><td>12.993133333333333</td><td>-23.0</td><td>-71.0</td><td>0.0</td><td>58.46382103552277</td><td>140.0</td><td>17.0</td><td>35.0</td><td>0.0</td><td>hlk+04</td><td>--</td></tr>\n",
       "<tr><td>J1903-0258</td><td>J1903-0258</td><td>53095.0</td><td>DE200</td><td>285.87642916666664</td><td>-2.971</td><td>0.0</td><td>0.0</td><td>0.0</td><td>164.77822291346138</td><td>700.0</td><td>0.0</td><td>0.0</td><td>0.0</td><td>lfl+06</td><td>--</td></tr>\n",
       "<tr><td>J1928+1245</td><td>J1928+1245</td><td>57974.0</td><td>DE421</td><td>292.18913999999995</td><td>12.76482611111111</td><td>0.0</td><td>0.0</td><td>0.0</td><td>0.8777566612834643</td><td>3.0</td><td>0.0</td><td>0.0</td><td>0.0</td><td>pkr+19</td><td>PALFA</td></tr>\n",
       "<tr><td>B1953+29</td><td>J1955+2908</td><td>49429.0</td><td>DE200</td><td>298.8661583333334</td><td>29.145425</td><td>-2.0</td><td>-2.0</td><td>0.0</td><td>26.201591222646073</td><td>40.0</td><td>9.0</td><td>10.0</td><td>0.0</td><td>hlk+04</td><td>--</td></tr>\n",
       "<tr><td>B1953+29</td><td>J1955+2908</td><td>55000.0</td><td>DE421</td><td>298.8661488596</td><td>29.1454053139</td><td>-0.638</td><td>-3.81</td><td>0.0</td><td>0.34539584</td><td>0.52258437</td><td>0.197888</td><td>0.31396</td><td>0.0</td><td>vlh+16</td><td>IPTA-DR1</td></tr>\n",
       "<tr><td>B1953+29</td><td>J1955+2908</td><td>49718.0</td><td>DE200</td><td>298.86614875</td><td>29.145425</td><td>-1.0</td><td>-3.7</td><td>0.0</td><td>2.6201591222646075</td><td>2.0</td><td>0.30000000000000004</td><td>0.30000000000000004</td><td>0.0</td><td>wdk+00</td><td>--</td></tr>\n",
       "<tr><td>B1953+29</td><td>J1955+2908</td><td>56176.0</td><td>DE421</td><td>298.86614775</td><td>29.145401777777778</td><td>-0.4</td><td>-5.0</td><td>-4.0</td><td>0.6550399286119724</td><td>0.5</td><td>1.2000000000000002</td><td>1.0</td><td>2.0</td><td>mnf+16</td><td>NANOGrav-9yr</td></tr>\n",
       "<tr><td>B1953+29</td><td>J1955+2908</td><td>56568.0</td><td>DE436</td><td>298.86614760000003</td><td>29.145400416666668</td><td>-1.1</td><td>-4.2</td><td>0.0</td><td>0.11790718871207326</td><td>0.2</td><td>0.1</td><td>0.2</td><td>1.0</td><td>abb+18</td><td>NANOGrav-11yr</td></tr>\n",
       "<tr><td>B1953+29</td><td>J1955+2908</td><td>55000.0</td><td>DE436</td><td>298.8661490629</td><td>29.1454053639</td><td>-1.029</td><td>-4.171</td><td>-1.178</td><td>0.17596624</td><td>0.24031268</td><td>0.055342</td><td>0.078402</td><td>1.098837</td><td>pdd+19</td><td>IPTA-DR2</td></tr>\n",
       "<tr><td>B1953+29</td><td>J1955+2908</td><td>55000.0</td><td>DE421</td><td>298.8661489166667</td><td>29.14540552777778</td><td>-0.77</td><td>-4.7</td><td>0.0</td><td>0.3930239428230353</td><td>0.6</td><td>0.19</td><td>0.3</td><td>0.0</td><td>dcl+16</td><td>EPTA</td></tr>\n",
       "<tr><td>B1953+29</td><td>J1955+2908</td><td>54500.0</td><td>DE405</td><td>298.86615</td><td>29.145407194444445</td><td>-0.9</td><td>-4.1</td><td>0.0</td><td>0.3930239364478579</td><td>0.5</td><td>0.1</td><td>0.1</td><td>0.0</td><td>gsf+11</td><td>--</td></tr>\n",
       "<tr><td>J1957+2516</td><td>J1957+2516</td><td>56408.0</td><td>DE421</td><td>299.3942145833333</td><td>25.267243333333333</td><td>0.0</td><td>0.0</td><td>0.0</td><td>4.069470273210759</td><td>3.0</td><td>0.0</td><td>0.0</td><td>0.0</td><td>sab+16</td><td>PALFA</td></tr>\n",
       "<tr><td>J1958+2846</td><td>J1958+2846</td><td>54800.0</td><td>DE405</td><td>299.6669583333333</td><td>28.765</td><td>0.0</td><td>0.0</td><td>0.0</td><td>394.4703613944387</td><td>1000.0</td><td>0.0</td><td>0.0</td><td>0.0</td><td>rkp+11</td><td>--</td></tr>\n",
       "<tr><td>J2027+4557</td><td>J2027+4557</td><td>54250.0</td><td>DE405</td><td>306.81763749999993</td><td>45.96585555555556</td><td>0.0</td><td>0.0</td><td>0.0</td><td>31.278911642687333</td><td>40.0</td><td>0.0</td><td>0.0</td><td>0.0</td><td>jsb+09</td><td>--</td></tr>\n",
       "<tr><td>J2032+4127</td><td>J2032+4127</td><td>55700.0</td><td>DE421</td><td>308.0546625</td><td>41.45676111111111</td><td>0.0</td><td>0.0</td><td>0.0</td><td>22.483666828913428</td><td>20.0</td><td>0.0</td><td>0.0</td><td>0.0</td><td>hnl+17</td><td>--</td></tr>\n",
       "<tr><td>J2032+4127</td><td>J2032+4127</td><td>54938.0</td><td>DE405</td><td>308.0552083333333</td><td>41.45688888888889</td><td>0.0</td><td>0.0</td><td>0.0</td><td>112.41811267281211</td><td>300.0</td><td>0.0</td><td>0.0</td><td>0.0</td><td>rkp+11</td><td>--</td></tr>\n",
       "<tr><td>B0611+22</td><td>J0614+2229</td><td>56000.0</td><td>DE421</td><td>93.57149999999999</td><td>22.51</td><td>0.0</td><td>0.0</td><td>0.0</td><td>415.71572741156695</td><td>17000.0</td><td>0.0</td><td>0.0</td><td>0.0</td><td>lys+20</td><td>--</td></tr>\n",
       "</table></div>"
      ],
      "text/plain": [
       "<Table length=68>\n",
       "psr_bname   psr_name  pos_epoch  eph   ...       plx_err        ref      comment   \n",
       "                          d            ...                                         \n",
       " bytes10    bytes11    float64  bytes5 ...       float64       bytes6    bytes13   \n",
       "---------- ---------- --------- ------ ... ------------------- ------ -------------\n",
       "J0045-7319 J0045-7319   49144.0  DE200 ...                 0.0 kmb+96            --\n",
       "J0348+0432 J0348+0432   56000.0  DE405 ...                 0.0 lbs+20     UTMOST-II\n",
       "J0348+0432 J0348+0432   56000.0  DE421 ...                 0.0 afw+13            --\n",
       "J0437-4715 J0437-4715   54500.0  DE421 ...            0.074791 vlh+16      IPTA-DR1\n",
       "J0437-4715 J0437-4715   57600.0  DE430 ...                 0.0 jbs+19      UTMOST-I\n",
       "J0437-4715 J0437-4715   55000.0  DE436 ...            0.067263 pdd+19      IPTA-DR2\n",
       "J0437-4715 J0437-4715   54500.0  DE421 ...            0.086288 rhc+16     PPTA-DR1e\n",
       "J0437-4715 J0437-4715   54500.0  DE421 ...                 0.0 lbs+20     UTMOST-II\n",
       "J0437-4715 J0437-4715   53019.0  DE405 ...                 0.0  hbo06            --\n",
       "J0437-4715 J0437-4715   49615.0  DE200 ...                 5.0 bbm+97            --\n",
       "  B0531+21 J0534+2200   51816.0  DE405 ...                 0.0 zhw+05            --\n",
       "J0534-6703 J0534-6703   52410.0  DE200 ...                 0.0 mfl+06            --\n",
       "  B0611+22 J0614+2229   49674.0  DE200 ...                 0.0 hlk+04            --\n",
       "J0857-4424 J0857-4424   49080.0  DE200 ...                 0.0 dsb+98            --\n",
       "J0857-4424 J0857-4424   55335.0  DE4?? ...                 0.0 psj+19            --\n",
       "J1012+5307 J1012+5307   50914.0  DE200 ...                 0.0 hlk+04            --\n",
       "J1012+5307 J1012+5307   55000.0  DE436 ...            0.192303 pdd+19      IPTA-DR2\n",
       "J1012+5307 J1012+5307   55000.0  DE421 ...                0.17 dcl+16          EPTA\n",
       "J1012+5307 J1012+5307   50700.0  DE405 ...                0.26 lwj+09            --\n",
       "J1012+5307 J1012+5307   55291.0  DE436 ...                 0.4 abb+18 NANOGrav-11yr\n",
       "J1012+5307 J1012+5307   50700.0  DE200 ...                 0.0 lcw+01            --\n",
       "J1012+5307 J1012+5307   54902.0  DE421 ...                 3.0 mnf+16  NANOGrav-9yr\n",
       "J1012+5307 J1012+5307   55000.0  DE421 ...            0.193807 vlh+16      IPTA-DR1\n",
       "J1024-0719 J1024-0719   56239.0  DE436 ...                 0.2 abb+18 NANOGrav-11yr\n",
       "J1024-0719 J1024-0719   55000.0  DE421 ...            0.135896 vlh+16      IPTA-DR1\n",
       "J1024-0719 J1024-0719   55800.0  DE421 ... 0.30000000000000004 mnf+16  NANOGrav-9yr\n",
       "J1024-0719 J1024-0719   54500.0  DE421 ...            0.228211 rhc+16     PPTA-DR1e\n",
       "J1024-0719 J1024-0719   55000.0  DE436 ...            0.102243 pdd+19      IPTA-DR2\n",
       "J1024-0719 J1024-0719   51018.0  DE200 ...                 0.0 hlk+04            --\n",
       "J1024-0719 J1024-0719   55000.0  DE421 ...                0.17 dcl+16          EPTA\n",
       "J1024-0719 J1024-0719   53000.0  DE405 ...                 0.0  hbo06            --\n",
       "J1024-0719 J1024-0719   55636.0  DE436 ...                0.13 rsc+21     PPTA-DR2e\n",
       "J1024-0719 J1024-0719   50456.0  DE200 ...                 0.0 tsb+99            --\n",
       "J1024-0719 J1024-0719   53000.0  DE405 ...                 0.0 vbc+09            --\n",
       "J1048+2339 J1048+2339   56700.0  DE421 ...                 0.0 drc+21            --\n",
       "J1227-4853 J1227-4853   56708.0  DE405 ...                 0.0 rbb+15            --\n",
       "  B1259-63 J1302-6350   57600.0  DE430 ...                 0.0 jbs+19      UTMOST-I\n",
       "  B1302-64 J1305-6455   57600.0  DE430 ...                 0.0 lbs+20     UTMOST-II\n",
       "  B1302-64 J1305-6455   57600.0  DE430 ...                 0.0 jbs+19      UTMOST-I\n",
       "J1311-3430 J1311-3430   55266.9  DE405 ...                 0.0 pgf+12            --\n",
       "J1431-4715 J1431-4715   55756.1  DE421 ...                 0.0 btb+15            --\n",
       "J1435-6100 J1435-6100   51270.0  DE200 ...                 0.0 mlc+01            --\n",
       "J1435-6100 J1435-6100   51270.0  DE200 ...                 0.0 clm+01            --\n",
       "J1509-6015 J1509-6015   51759.0  DE200 ...                 0.0 kmb+03            --\n",
       "J1546-5302 J1546-5302   51398.0  DE200 ...                 0.0 kmb+03            --\n",
       "J1624-4411 J1624-4411   53058.0  DE200 ...                 0.0 lfl+06            --\n",
       "J1624-4721 J1624-4721   51683.0  DE200 ...                 0.0 kmb+03            --\n",
       "J1723-2837 J1723-2837   55667.0  DE405 ...                 0.0 cls+13            --\n",
       "J1816+4510 J1816+4510   56047.0  DE421 ...                 0.0 slr+14            --\n",
       "  B1813-36 J1817-3618   57600.0  DE430 ...                 0.0 jbs+19      UTMOST-I\n",
       "J1839-0905 J1839-0905   54979.0  DE4?? ...                 0.0 psj+19            --\n",
       "  B1848+12 J1851+1259   49908.0  DE200 ...                 0.0 hlk+04            --\n",
       "J1903-0258 J1903-0258   53095.0  DE200 ...                 0.0 lfl+06            --\n",
       "J1928+1245 J1928+1245   57974.0  DE421 ...                 0.0 pkr+19         PALFA\n",
       "  B1953+29 J1955+2908   49429.0  DE200 ...                 0.0 hlk+04            --\n",
       "  B1953+29 J1955+2908   55000.0  DE421 ...                 0.0 vlh+16      IPTA-DR1\n",
       "  B1953+29 J1955+2908   49718.0  DE200 ...                 0.0 wdk+00            --\n",
       "  B1953+29 J1955+2908   56176.0  DE421 ...                 2.0 mnf+16  NANOGrav-9yr\n",
       "  B1953+29 J1955+2908   56568.0  DE436 ...                 1.0 abb+18 NANOGrav-11yr\n",
       "  B1953+29 J1955+2908   55000.0  DE436 ...            1.098837 pdd+19      IPTA-DR2\n",
       "  B1953+29 J1955+2908   55000.0  DE421 ...                 0.0 dcl+16          EPTA\n",
       "  B1953+29 J1955+2908   54500.0  DE405 ...                 0.0 gsf+11            --\n",
       "J1957+2516 J1957+2516   56408.0  DE421 ...                 0.0 sab+16         PALFA\n",
       "J1958+2846 J1958+2846   54800.0  DE405 ...                 0.0 rkp+11            --\n",
       "J2027+4557 J2027+4557   54250.0  DE405 ...                 0.0 jsb+09            --\n",
       "J2032+4127 J2032+4127   55700.0  DE421 ...                 0.0 hnl+17            --\n",
       "J2032+4127 J2032+4127   54938.0  DE405 ...                 0.0 rkp+11            --\n",
       "  B0611+22 J0614+2229   56000.0  DE421 ...                 0.0 lys+20            --"
      ]
     },
     "execution_count": 12,
     "metadata": {},
     "output_type": "execute_result"
    }
   ],
   "source": [
    "edr3_list"
   ]
  },
  {
   "cell_type": "markdown",
   "id": "adf9f865",
   "metadata": {},
   "source": [
    "For the VLBI sample"
   ]
  },
  {
   "cell_type": "code",
   "execution_count": 5,
   "id": "5add0522",
   "metadata": {
    "ExecuteTime": {
     "end_time": "2022-07-12T06:52:01.316925Z",
     "start_time": "2022-07-12T06:52:01.262519Z"
    }
   },
   "outputs": [
    {
     "name": "stdout",
     "output_type": "stream",
     "text": [
      "J0045-7319\n",
      "J0337+1715\n",
      "J0348+0432\n",
      "J0437-4715\n",
      "J0534+2200\n",
      "J0534-6703\n",
      "J0540-6919\n",
      "J0614+2229\n",
      "J0857-4424\n",
      "J1012+5307\n",
      "J1023+0038\n",
      "J1024-0719\n",
      "J1036-8317\n",
      "J1048+2339\n",
      "J1227-4853\n",
      "J1302-6350\n",
      "J1305-6455\n",
      "J1306-4035\n",
      "J1311-3430\n",
      "J1417-4402\n",
      "J1431-4715\n",
      "J1435-6100\n",
      "J1437-6146\n",
      "J1509-6015\n",
      "J1542-5133\n",
      "J1546-5302\n",
      "J1622-0315\n",
      "J1624-4411\n",
      "J1624-4721\n",
      "J1653-0158\n",
      "J1723-2837\n",
      "J1810+1744\n",
      "J1816+4510\n",
      "J1817-3618\n",
      "J1839-0905\n",
      "J1851+1259\n",
      "J1852+0040\n",
      "J1903-0258\n",
      "J1928+1245\n",
      "J1946+2052\n",
      "J1955+2908\n",
      "J1957+2516\n",
      "J1958+2846\n",
      "J1959+2048\n",
      "J2027+4557\n",
      "J2032+4127\n",
      "J2039-5617\n",
      "J2129-0429\n",
      "J2215+5135\n",
      "J2339-0533\n"
     ]
    }
   ],
   "source": [
    "# edr3_list = Table.read(\"../data/edr3_psrcatv1.65.fits\")\n",
    "edr3_list = Table.read(\"../data/vlbi_psrcatv1.66.fits\")\n",
    "\n",
    "edr3_list.keep_columns([\"name\"])\n",
    "edr3_list.rename_column(\"name\", \"psr_name\")\n",
    "\n",
    "edr3_list = unique(edr3_list)\n",
    "\n",
    "for name in edr3_list[\"psr_name\"]:\n",
    "    print(name)"
   ]
  },
  {
   "cell_type": "code",
   "execution_count": 13,
   "id": "ca1a75b8",
   "metadata": {
    "ExecuteTime": {
     "end_time": "2022-01-27T07:34:46.108061Z",
     "start_time": "2022-01-27T07:34:46.026849Z"
    }
   },
   "outputs": [
    {
     "data": {
      "text/html": [
       "<i>Table length=50</i>\n",
       "<table id=\"table4650016384-751589\" class=\"table-striped table-bordered table-condensed\">\n",
       "<thead><tr><th>idx</th><th>angDist</th><th>id</th><th>name</th><th>raj</th><th>rajerr</th><th>decj</th><th>TypeRef</th><th>decjerr</th><th>pmra_radio</th><th>pmraerr</th><th>pmdec_radio</th><th>pmdecerr</th><th>px</th><th>pxerr</th><th>posepoch</th><th>p0</th><th>p0err</th><th>p1</th><th>p1err</th><th>dm</th><th>dmerr</th><th>dist</th><th>pb</th><th>pberr</th><th>survey</th><th>Assoc</th><th>raj_now</th><th>decj_now</th><th>ra_epoch2000</th><th>dec_epoch2000</th><th>source_id</th><th>ra</th><th>ra_error</th><th>dec</th><th>dec_error</th><th>parallax</th><th>parallax_error</th><th>pm</th><th>pmra</th><th>pmra_error</th><th>pmdec</th><th>pmdec_error</th><th>phot_g_mean_mag</th><th>phot_bp_mean_mag</th><th>phot_rp_mean_flux</th><th>phot_rp_mean_mag</th><th>bp_rp</th><th>phot_g_mean_mag_error</th><th>phot_bp_mean_mag_error</th><th>phot_rp_mean_mag_error</th><th>poserror</th><th>TrueAngDist</th><th>ra_gaia_psrep</th><th>dec_gaia_psrep</th><th>sigma_ra_gaia</th><th>sigma_dec_gaia</th><th>Associated</th><th>Pass</th><th>g_abs</th><th>b_r_abs</th><th>distance</th><th>distance_min</th><th>distance_max</th><th>dust</th><th>dust_min</th><th>dust_max</th><th>poserror_sys</th></tr></thead>\n",
       "<thead><tr><th></th><th></th><th></th><th></th><th></th><th></th><th></th><th></th><th></th><th></th><th></th><th></th><th></th><th></th><th></th><th></th><th></th><th></th><th></th><th></th><th></th><th></th><th></th><th></th><th></th><th></th><th></th><th></th><th></th><th></th><th></th><th></th><th></th><th></th><th></th><th></th><th></th><th></th><th></th><th></th><th></th><th></th><th></th><th></th><th></th><th></th><th></th><th></th><th></th><th></th><th></th><th>arcsec</th><th>arcsec</th><th>deg</th><th>deg</th><th>mas</th><th>mas</th><th></th><th></th><th></th><th></th><th></th><th></th><th></th><th></th><th></th><th></th><th>arcsec</th></tr></thead>\n",
       "<tr><td>0</td><td>0.510288</td><td>41</td><td>J0045-7319</td><td>11.3965</td><td>0.07</td><td>-73.3175</td><td>999999</td><td>0.07</td><td>0.0</td><td>0.0</td><td>0.0</td><td>0.0</td><td>1e+20</td><td>0.0</td><td>49144.0</td><td>0.92627590497</td><td>3e-11</td><td>4.4632e-15</td><td>9e-19</td><td>105.4</td><td>0.7</td><td>59.7</td><td>51.169451</td><td>5e-06</td><td>misc</td><td>1</td><td>11.3965</td><td>-73.3175</td><td>11.39691953159</td><td>-73.31757475145</td><td>4685849525145183232</td><td>11.39692851057</td><td>0.0382</td><td>-73.31758137143</td><td>0.038</td><td>-0.0416</td><td>0.0411</td><td>1.598</td><td>0.58</td><td>0.051</td><td>-1.489</td><td>0.052</td><td>16.198153</td><td>16.0264</td><td>2394.13</td><td>16.300024</td><td>-0.273624</td><td>0.002864</td><td>0.004308</td><td>0.00624</td><td>0.09899612137438128</td><td>0.5042564656354669</td><td>11.39691847273398</td><td>-73.31757203311058</td><td>0.33735251137341915</td><td>0.34386109738375614</td><td>True</td><td>1.0</td><td>-1.9221060863344217</td><td>-1.098214</td><td>12.966</td><td>8.946</td><td>19.127000000000002</td><td>2.556229</td><td>2.556229</td><td>2.556229</td><td>0.2688870246909866</td></tr>\n",
       "<tr><td>1</td><td>0.090203</td><td>125</td><td>J0337+1715</td><td>54.432607874999995</td><td>0.00013</td><td>17.25411888888889</td><td>999999</td><td>0.00013</td><td>4.81</td><td>0.49</td><td>-4.42</td><td>0.42</td><td>0.73</td><td>0.24</td><td>55920.0</td><td>0.00273258863244</td><td>9e-14</td><td>1.7666e-20</td><td>9e-24</td><td>21.3162</td><td>0.0003</td><td>1.3</td><td>1.629401788</td><td>5e-09</td><td>gb350</td><td>999999</td><td>54.43259186910093</td><td>17.254133597010547</td><td>54.4325879036</td><td>17.25413513877</td><td>44308738051547264</td><td>54.43261340915</td><td>0.1363</td><td>17.25411546192</td><td>0.1413</td><td>0.5417</td><td>0.1951</td><td>7.045</td><td>5.48</td><td>0.188</td><td>-4.427</td><td>0.163</td><td>18.0523</td><td>18.082184</td><td>464.039</td><td>18.081509</td><td>0.000675</td><td>0.003262</td><td>0.015376</td><td>0.02491</td><td>0.0029928798748015055</td><td>0.00809341111305354</td><td>54.43260613900809</td><td>17.25412040735348</td><td>2.256260314053734</td><td>1.9577587543409949</td><td>True</td><td>0.9993360628322566</td><td>6.145920219148116</td><td>-0.10296670181010481</td><td>2.0749999999999997</td><td>1.1179999999999999</td><td>5.23</td><td>0.3212892756113249</td><td>0.32028427134561</td><td>0.32144473552354885</td><td>0.2500179140180659</td></tr>\n",
       "<tr><td>2</td><td>0.040305</td><td>130</td><td>J0348+0432</td><td>57.18182916666666</td><td>4e-06</td><td>4.536516111111111</td><td>999999</td><td>4e-06</td><td>4.04</td><td>0.16</td><td>3.5</td><td>0.6</td><td>1e+20</td><td>0.0</td><td>56000.0</td><td>0.0391226569017806</td><td>7e-16</td><td>2.4075e-19</td><td>5e-23</td><td>40.46313</td><td>0.00011</td><td>2.1</td><td>0.102424062722</td><td>7e-12</td><td>gb350,lotaas,gbncc</td><td>999999</td><td>57.18181547724563</td><td>4.536504251463862</td><td>57.18181798895</td><td>4.53651720035</td><td>3273288485744249344</td><td>57.1818333178</td><td>0.6955</td><td>4.53651619578</td><td>0.6465</td><td>-0.0351</td><td>0.7841</td><td>3.446</td><td>3.438</td><td>1.345</td><td>-0.226</td><td>0.887</td><td>20.589453</td><td>20.583069</td><td>53.0749</td><td>20.435673</td><td>0.147396</td><td>0.007205</td><td>0.135836</td><td>0.142859</td><td>0.019676491678979207</td><td>0.0020550339284305537</td><td>57.18182963851193</td><td>4.536516434555549</td><td>16.421709357803188</td><td>10.839361353916516</td><td>True</td><td>0.9994498886789058</td><td>7.935453530469941</td><td>-0.10785576314022774</td><td>2.358</td><td>1.3279999999999998</td><td>3.561</td><td>0.791280465734706</td><td>0.7911177656130397</td><td>0.7913370000000001</td><td>0.2507731331797586</td></tr>\n",
       "<tr><td>3</td><td>1.135969</td><td>152</td><td>J0437-4715</td><td>69.31623405708334</td><td>6e-07</td><td>-47.25253075388889</td><td>999999</td><td>6e-07</td><td>121.4385</td><td>0.002</td><td>-71.4754</td><td>0.002</td><td>6.37</td><td>0.09</td><td>54500.0</td><td>0.0057574519367126</td><td>1.7e-17</td><td>5.729215e-20</td><td>1.7e-25</td><td>2.64476</td><td>7e-05</td><td>0.157</td><td>5.7410459</td><td>4e-07</td><td>pks70,pkshl</td><td>999999</td><td>69.31596110066234</td><td>-47.2523700983479</td><td>69.31583107574</td><td>-47.25237343101</td><td>4789864076732331648</td><td>69.31662758499</td><td>0.4591</td><td>-47.25268764316</td><td>0.5165</td><td>7.1008</td><td>0.5245</td><td>140.697</td><td>121.646</td><td>0.574</td><td>-70.697</td><td>0.65</td><td>20.348751</td><td>20.73231</td><td>117.692</td><td>19.571026</td><td>1.161284</td><td>0.006881</td><td>0.181055</td><td>0.087086</td><td>0.007050805012130003</td><td>0.31663201173884103</td><td>69.31610450020708</td><td>-47.25253233629245</td><td>4.6672808474315906</td><td>5.284916280347203</td><td>True</td><td>0.999374698444041</td><td>14.368699116703832</td><td>1.1611054125</td><td>0.157</td><td>0.153</td><td>0.16</td><td>0.0005536212500000001</td><td>0.0005395162500000001</td><td>0.0005642</td><td>0.25009940793876156</td></tr>\n",
       "<tr><td>4</td><td>0.540931</td><td>352</td><td>J0857-4424</td><td>134.4826333333333</td><td>0.002</td><td>-44.40295833333333</td><td>999999</td><td>0.002</td><td>0.0</td><td>0.0</td><td>0.0</td><td>0.0</td><td>1e+20</td><td>0.0</td><td>55335.0</td><td>0.32678622125</td><td>5e-11</td><td>2.09462e-14</td><td>1.1e-18</td><td>184.429</td><td>0.004</td><td>2.833</td><td>1e+20</td><td>0.0</td><td>pks70,pksmb,htru_pks</td><td>999999</td><td>134.48263333333333</td><td>-44.40295833333333</td><td>134.48284325256</td><td>-44.40294908816</td><td>5331775184393659264</td><td>134.4827918037</td><td>0.2053</td><td>-44.40291467708</td><td>0.2051</td><td>2.1185</td><td>0.2609</td><td>11.329</td><td>-8.27</td><td>0.296</td><td>7.742</td><td>0.271</td><td>18.391514</td><td>19.991972</td><td>1386.42</td><td>16.893156</td><td>3.098816</td><td>0.004787</td><td>0.060312</td><td>0.00807</td><td>0.005042809451709822</td><td>0.4918941470300937</td><td>134.48281941240256</td><td>-44.40292677007174</td><td>3.0786884927953997</td><td>2.8198589203344837</td><td>True</td><td>0.9977750105257245</td><td>9.376967963163771</td><td>2.9325716749999997</td><td>0.501</td><td>0.41000000000000003</td><td>0.645</td><td>0.5153574075</td><td>0.42174957500000004</td><td>0.6634840875</td><td>0.25005085468193516</td></tr>\n",
       "<tr><td>5</td><td>0.28722</td><td>418</td><td>J1012+5307</td><td>153.13932686666664</td><td>1.1e-05</td><td>53.11729541111111</td><td>999999</td><td>1.1e-05</td><td>2.64</td><td>0.032</td><td>-25.54</td><td>0.038</td><td>1.1</td><td>0.4</td><td>55566.0</td><td>0.0052557490213162</td><td>5e-17</td><td>1.7126999999999998e-20</td><td>5e-25</td><td>9.022146</td><td>0.0</td><td>0.7</td><td>0.604672713808</td><td>7e-12</td><td>misc,lotaas,gbncc</td><td>999999</td><td>153.13931879245624</td><td>53.11737352283795</td><td>153.139310604</td><td>53.11737459516</td><td>851610861391010944</td><td>153.13933086797</td><td>0.2043</td><td>53.11725939018</td><td>0.204</td><td>1.7448</td><td>0.2906</td><td>26.065</td><td>2.736</td><td>0.292</td><td>-25.921</td><td>0.271</td><td>19.586607</td><td>19.71297</td><td>131.788</td><td>19.448206</td><td>0.264765</td><td>0.004171</td><td>0.044469</td><td>0.062844</td><td>0.00439576675272466</td><td>0.017061301395389278</td><td>153.13931897178745</td><td>53.11729531817933</td><td>3.2214826224455715</td><td>2.9907479094103606</td><td>True</td><td>0.9994531055271321</td><td>10.505263229569852</td><td>0.2539439686278024</td><td>0.645</td><td>0.487</td><td>0.967</td><td>0.033545197253812525</td><td>0.03294970856847489</td><td>0.03432089324179438</td><td>0.2500386425441963</td></tr>\n",
       "<tr><td>6</td><td>0.166657</td><td>437</td><td>J1023+0038</td><td>155.94869666666665</td><td>3e-05</td><td>0.6446793055555555</td><td>999999</td><td>3e-05</td><td>4.76</td><td>0.03</td><td>-17.34</td><td>0.04</td><td>0.731</td><td>0.022</td><td>54906.0</td><td>0.0016879874702211</td><td>3e-16</td><td>6.930000000000001e-21</td><td>9e-24</td><td>14.325</td><td>0.01</td><td>1.368</td><td>0.1980963569</td><td>3e-10</td><td>misc</td><td>999999</td><td>155.94868449787805</td><td>0.6447236347136517</td><td>155.94868409363</td><td>0.64472385931</td><td>3831382647922429952</td><td>155.94870458335</td><td>0.0579</td><td>0.64464705475</td><td>0.0549</td><td>0.6862</td><td>0.0706</td><td>17.885</td><td>4.61</td><td>0.071</td><td>-17.281</td><td>0.077</td><td>16.232056</td><td>16.550129</td><td>3786.0</td><td>15.802443</td><td>0.747686</td><td>0.020083</td><td>0.064045</td><td>0.057374</td><td>0.000968158300101383</td><td>0.003141230505575694</td><td>155.94869587894817</td><td>0.6446796809834977</td><td>0.6559934768433048</td><td>0.7107763729865595</td><td>True</td><td>0.9994142253455283</td><td>5.481176281219484</td><td>0.7264948887635632</td><td>1.371</td><td>1.3059999999999998</td><td>1.4429999999999998</td><td>0.06569244483295425</td><td>0.06567282715455332</td><td>0.06571311768791696</td><td>0.25000187465395945</td></tr>\n",
       "<tr><td>7</td><td>0.725852</td><td>439</td><td>J1024-0719</td><td>156.16111379583333</td><td>5.9e-06</td><td>-7.322109722222222</td><td>999999</td><td>5.9e-06</td><td>-35.3</td><td>0.047</td><td>-48.23</td><td>0.093</td><td>0.8</td><td>0.2</td><td>56239.0</td><td>0.0051622045622604</td><td>3e-17</td><td>1.85558e-20</td><td>5e-25</td><td>6.4778</td><td>0.0006</td><td>1.22</td><td>1e+20</td><td>0.0</td><td>pks70,pkshl</td><td>999999</td><td>156.16123982502643</td><td>-7.321937529844066</td><td>156.16124662213</td><td>-7.32195708983</td><td>3775277872387310208</td><td>156.16108773644</td><td>0.2544</td><td>-7.32217198666</td><td>0.2563</td><td>0.8572</td><td>0.2782</td><td>59.96</td><td>-35.458</td><td>0.318</td><td>-48.352</td><td>0.357</td><td>19.153818</td><td>20.075615</td><td>393.762</td><td>18.25981</td><td>1.815805</td><td>0.004191</td><td>0.077993</td><td>0.036343</td><td>0.006155461952498986</td><td>0.07534576578904309</td><td>156.16112002874232</td><td>-7.322129717741442</td><td>4.095112947936329</td><td>4.595616625905324</td><td>True</td><td>0.9993748166115062</td><td>7.6659390672412036</td><td>1.7757949999999998</td><td>1.8739999999999999</td><td>0.975</td><td>5.091</td><td>0.12403099999999999</td><td>0.12377406580379532</td><td>0.12421700000000001</td><td>0.2500757679421352</td></tr>\n",
       "<tr><td>8</td><td>0.34615</td><td>449</td><td>J1036-8317</td><td>159.16900416666667</td><td>0.003</td><td>-83.29889444444444</td><td>999999</td><td>0.003</td><td>0.0</td><td>0.0</td><td>0.0</td><td>0.0</td><td>1e+20</td><td>0.0</td><td>56657.0</td><td>0.003408</td><td>0.0</td><td>1e+20</td><td>0.0</td><td>27.0</td><td>0.0</td><td>0.931</td><td>0.335</td><td>0.0</td><td>FermiAssoc</td><td>999999</td><td>159.16900416666667</td><td>-83.29889444444444</td><td>159.16970567621</td><td>-83.29894488762</td><td>5192229742737133696</td><td>159.16927388459</td><td>0.1312</td><td>-83.2989326125</td><td>0.1231</td><td>0.1936</td><td>0.1356</td><td>11.668</td><td>-11.337</td><td>0.184</td><td>2.762</td><td>0.157</td><td>18.566353</td><td>18.694607</td><td>365.071</td><td>18.341951</td><td>0.352655</td><td>0.003437</td><td>0.018246</td><td>0.021957</td><td>0.005430917280316582</td><td>0.310970889623079</td><td>159.16966159656894</td><td>-83.29893414860746</td><td>2.578835841778949</td><td>2.20101526728262</td><td>True</td><td>0.9969173672903727</td><td>7.123392109813915</td><td>0.31163933374999997</td><td>1.833</td><td>1.494</td><td>2.238</td><td>0.12714856537500002</td><td>0.10363336425000001</td><td>0.15524194725</td><td>0.25005898276707766</td></tr>\n",
       "<tr><td>9</td><td>0.367192</td><td>191</td><td>J0534+2200</td><td>83.63322083333331</td><td>0.005</td><td>22.01446111111111</td><td>999999</td><td>0.005</td><td>-14.7</td><td>0.8</td><td>2.0</td><td>0.8</td><td>1e+20</td><td>0.0</td><td>40706.0</td><td>0.0333924123</td><td>1.2e-09</td><td>4.20972e-13</td><td>3e-18</td><td>56.77118</td><td>0.00024</td><td>2.0</td><td>1e+20</td><td>0.0</td><td>misc,ar4,gb4,lotaas</td><td>999999</td><td>83.63309966368655</td><td>22.014477596730895</td><td>83.63311445609</td><td>22.01448713834</td><td>3403818172572314624</td><td>83.63305926164</td><td>0.0732</td><td>22.01449736799</td><td>0.0606</td><td>0.511</td><td>0.0788</td><td>11.741</td><td>-11.513</td><td>0.098</td><td>2.302</td><td>0.064</td><td>16.52713</td><td>16.816368</td><td>4041.06</td><td>15.731658</td><td>1.08471</td><td>0.00305</td><td>0.012218</td><td>0.016524</td><td>0.007878621309902382</td><td>0.04595579083686865</td><td>83.63320935580388</td><td>22.014468163313072</td><td>2.90899230867182</td><td>1.9001151262341036</td><td>True</td><td>0.9954355971293365</td><td>3.707112145840785</td><td>0.6897140136740856</td><td>2.085</td><td>1.637</td><td>2.8649999999999998</td><td>1.224487557610335</td><td>1.208988581849352</td><td>1.2411174501991877</td><td>0.2501241145386523</td></tr>\n",
       "<tr><td>10</td><td>0.248062</td><td>593</td><td>J1227-4853</td><td>186.99468333333328</td><td>0.001</td><td>-48.895205833333335</td><td>999999</td><td>0.001</td><td>-18.73</td><td>0.2</td><td>7.39</td><td>0.11</td><td>0.62</td><td>0.16</td><td>56707.98</td><td>0.001686375410273</td><td>1.2e-14</td><td>1.11e-20</td><td>1.2e-21</td><td>43.4235</td><td>0.0007</td><td>1.613</td><td>0.287887519</td><td>1e-09</td><td>misc</td><td>999999</td><td>186.99475688420142</td><td>-48.8952348530964</td><td>186.99478201311</td><td>-48.8952290536</td><td>6128369984328414336</td><td>186.99465510705</td><td>0.0972</td><td>-48.89519662091</td><td>0.0607</td><td>0.4635</td><td>0.1276</td><td>20.141</td><td>-18.772</td><td>0.106</td><td>7.297</td><td>0.088</td><td>18.070656</td><td>18.456608</td><td>809.537</td><td>17.477304</td><td>0.979303</td><td>0.011127</td><td>0.039079</td><td>0.025028</td><td>0.002409624201725598</td><td>0.06223906777236128</td><td>186.994708297397</td><td>-48.8952003989917</td><td>1.5016539183156352</td><td>1.2455216991918698</td><td>True</td><td>0.9934195706889792</td><td>6.447050765397556</td><td>0.944585275</td><td>2.01</td><td>1.297</td><td>4.001</td><td>0.1076249475</td><td>0.06944754075</td><td>0.21423254475000003</td><td>0.2500116123078957</td></tr>\n",
       "<tr><td>11</td><td>0.106266</td><td>641</td><td>J1302-6350</td><td>195.6984930708333</td><td>1.2e-05</td><td>-63.83573016388889</td><td>999999</td><td>1.2e-05</td><td>-7.01</td><td>0.03</td><td>-0.53</td><td>0.03</td><td>0.38</td><td>0.05</td><td>57000.0</td><td>0.0477625075</td><td>4e-10</td><td>2.2787e-15</td><td>1.2e-18</td><td>146.73</td><td>0.01</td><td>2.632</td><td>1236.724526</td><td>6e-06</td><td>pks1,pksmb,htru_pks</td><td>999999</td><td>195.69852215521385</td><td>-63.83572796492407</td><td>195.69856000627</td><td>-63.83572971397</td><td>5862299960127967488</td><td>195.69848851536</td><td>0.0089</td><td>-63.83573123377</td><td>0.01</td><td>0.4434</td><td>0.0133</td><td>7.101</td><td>-7.093</td><td>0.012</td><td>-0.342</td><td>0.014</td><td>9.632835</td><td>10.15393</td><td>2157540.0</td><td>8.913</td><td>1.24093</td><td>0.00278</td><td>0.00285</td><td>0.003799</td><td>0.00027625949098766085</td><td>0.059640467205048626</td><td>195.6985305775199</td><td>-63.83573113291977</td><td>0.17945696907505357</td><td>0.20934780295868557</td><td>True</td><td>0.9625549638976133</td><td>-7.909505608208149</td><td>-0.4893651349999999</td><td>2.727</td><td>2.227</td><td>3.509</td><td>5.3639149185</td><td>4.3804321685</td><td>6.9020819394999995</td><td>0.2500001526385661</td></tr>\n",
       "<tr><td>12</td><td>0.480261</td><td>646</td><td>J1305-6455</td><td>196.34779166666667</td><td>0.02</td><td>-64.92458333333335</td><td>999999</td><td>0.02</td><td>0.0</td><td>0.0</td><td>0.0</td><td>0.0</td><td>1e+20</td><td>0.0</td><td>57600.0</td><td>0.571651789863</td><td>7e-12</td><td>4.0317e-15</td><td>3e-19</td><td>505.0</td><td>0.3</td><td>11.9</td><td>1e+20</td><td>0.0</td><td>mol2,pks1,pks70,pksmb,htru_pks</td><td>999999</td><td>196.34779166666664</td><td>-64.92458333333335</td><td>196.34769409698</td><td>-64.92445649807</td><td>5858993350772345984</td><td>196.34762520405</td><td>0.0268</td><td>-64.9244606229</td><td>0.0276</td><td>0.1326</td><td>0.0369</td><td>6.635</td><td>-6.569</td><td>0.034</td><td>-0.928</td><td>0.04</td><td>16.043217</td><td>17.729809</td><td>9409.09</td><td>14.814027</td><td>2.915782</td><td>0.00281</td><td>0.006186</td><td>0.003977</td><td>0.028297685561872805</td><td>0.4823998001138981</td><td>196.3476638448043</td><td>-64.92446077177901</td><td>0.5643246155426397</td><td>0.6637363082810714</td><td>True</td><td>0.9162791852274588</td><td>-2.265397544259293</td><td>1.5830626225</td><td>6.846</td><td>5.023000000000001</td><td>10.033</td><td>4.13143007025</td><td>3.0312844351250003</td><td>6.054723618875</td><td>0.2515964208969568</td></tr>\n",
       "<tr><td>13</td><td>0.30418</td><td>767</td><td>J1417-4402</td><td>214.37749999999997</td><td>0.09</td><td>-44.049277777777775</td><td>999999</td><td>0.09</td><td>-4.7</td><td>0.1</td><td>-5.1</td><td>0.87</td><td>0.221</td><td>0.071</td><td>57022.0</td><td>0.002664216</td><td>4e-10</td><td>1e+20</td><td>0.0</td><td>55.0</td><td>0.03</td><td>4.4</td><td>5.37372</td><td>3e-05</td><td>FermiAssoc</td><td>999999</td><td>214.37751957885826</td><td>-44.04925653262439</td><td>214.37738870855</td><td>-44.049304998</td><td>6096705840454620800</td><td>214.3773592512</td><td>0.04</td><td>-44.04932767897</td><td>0.0332</td><td>0.1974</td><td>0.0471</td><td>6.981</td><td>-4.764</td><td>0.043</td><td>-5.103</td><td>0.047</td><td>15.771324</td><td>16.3564</td><td>7667.78</td><td>15.036222</td><td>1.320178</td><td>0.006447</td><td>0.020624</td><td>0.016737</td><td>0.12728281634083632</td><td>0.3815633736204009</td><td>214.37736886307172</td><td>-44.04932625564715</td><td>0.6460922425837967</td><td>0.7056206269361293</td><td>True</td><td>0.9906978019433264</td><td>2.2398536235746276</td><td>1.2520868950000001</td><td>4.614000000000001</td><td>3.109</td><td>7.695</td><td>0.21108242550000003</td><td>0.14223130925</td><td>0.35203278374999997</td><td>0.2805368341869835</td></tr>\n",
       "<tr><td>14</td><td>0.223157</td><td>791</td><td>J1431-4715</td><td>217.93590708333332</td><td>0.0002</td><td>-47.25765944444444</td><td>999999</td><td>0.0002</td><td>-12.01</td><td>0.33</td><td>14.51</td><td>0.26</td><td>0.64</td><td>0.16</td><td>55756.1</td><td>0.0020119534425332</td><td>9e-16</td><td>1.411e-20</td><td>3e-23</td><td>59.35</td><td>0.01</td><td>1.562</td><td>0.4497391377</td><td>7e-10</td><td>htru_pks,FermiAssoc</td><td>999999</td><td>217.93594555117144</td><td>-47.25770591969543</td><td>217.93596403901</td><td>-47.25761098587</td><td>6098156298150016768</td><td>217.93588660597</td><td>0.0821</td><td>-47.25767551422</td><td>0.1071</td><td>0.5264</td><td>0.1263</td><td>18.725</td><td>-11.825</td><td>0.135</td><td>-14.519</td><td>0.15</td><td>17.728407</td><td>17.992903</td><td>923.246</td><td>17.3346</td><td>0.658302</td><td>0.003984</td><td>0.018611</td><td>0.014729</td><td>0.0023479601319721316</td><td>0.04714766438598662</td><td>217.93592616372388</td><td>-47.25765748994803</td><td>1.5588124057929633</td><td>1.7329225790212146</td><td>True</td><td>0.9881169879919305</td><td>6.17593473496113</td><td>0.6180808000000001</td><td>1.93</td><td>1.262</td><td>3.776</td><td>0.12468572000000001</td><td>0.08153024800000001</td><td>0.243944704</td><td>0.25001102559043537</td></tr>\n",
       "<tr><td>15</td><td>0.411547</td><td>802</td><td>J1435-6100</td><td>218.83448541666664</td><td>0.0005</td><td>-61.01609888888889</td><td>999999</td><td>0.0005</td><td>0.0</td><td>0.0</td><td>0.0</td><td>0.0</td><td>1e+20</td><td>0.0</td><td>51270.0</td><td>0.009347972210248</td><td>7e-15</td><td>2.45e-20</td><td>5.0000000000000005e-22</td><td>113.7</td><td>0.6</td><td>2.814</td><td>1.354885217</td><td>1.8e-09</td><td>pksmb,htru_pks</td><td>999999</td><td>218.83448541666664</td><td>-61.01609888888889</td><td>218.83447239872</td><td>-61.01598474438</td><td>5878387705005976832</td><td>218.83442414284</td><td>0.1251</td><td>-61.01599910659</td><td>0.1783</td><td>0.4205</td><td>0.2539</td><td>6.174</td><td>-5.261</td><td>0.217</td><td>-3.231</td><td>0.238</td><td>18.920815</td><td>20.184677</td><td>775.203</td><td>17.524357</td><td>2.66032</td><td>0.0035</td><td>0.074223</td><td>0.016417</td><td>0.0007784796645663565</td><td>0.41387111294877776</td><td>218.83447349701223</td><td>-61.0159840698728</td><td>0.20553944310761488</td><td>0.2525551929251085</td><td>True</td><td>0.9482609839156346</td><td>-1.1124886772886429</td><td>0.15591493000000023</td><td>2.844</td><td>1.6769999999999998</td><td>4.394</td><td>7.763655717</td><td>4.57793622975</td><td>11.9949026795</td><td>0.2500012120582381</td></tr>\n",
       "<tr><td>16</td><td>0.274111</td><td>648</td><td>J1306-4035</td><td>196.7345833333333</td><td>0.02</td><td>-40.58980555555556</td><td>999999</td><td>0.02</td><td>0.0</td><td>0.0</td><td>0.0</td><td>0.0</td><td>1e+20</td><td>0.0</td><td>57388.0</td><td>0.00220453</td><td>2e-08</td><td>1e+20</td><td>0.0</td><td>35.0</td><td>0.0</td><td>4.7</td><td>1.0972</td><td>0.00016</td><td>pks_superb</td><td>999999</td><td>196.73458333333326</td><td>-40.58980555555556</td><td>196.73450339857</td><td>-40.58985152244</td><td>6140785016794586752</td><td>196.73446719721</td><td>0.1297</td><td>-40.58983302892</td><td>0.1088</td><td>0.3133</td><td>0.1461</td><td>7.455</td><td>-6.185</td><td>0.144</td><td>4.161</td><td>0.111</td><td>18.091967</td><td>18.705957</td><td>884.269</td><td>17.381435</td><td>1.324522</td><td>0.008688</td><td>0.040796</td><td>0.026777</td><td>0.028433955115491932</td><td>0.3098772719766198</td><td>196.7344759120406</td><td>-40.58983303068566</td><td>2.3074509259517555</td><td>1.779177825327263</td><td>True</td><td>0.9971157177104155</td><td>4.972254514772806</td><td>1.279529275</td><td>3.945</td><td>2.346</td><td>6.341</td><td>0.13947744750000002</td><td>0.08294400300000002</td><td>0.22418922550000003</td><td>0.25161178391225997</td></tr>\n",
       "<tr><td>17</td><td>0.083863</td><td>659</td><td>J1311-3430</td><td>197.94051749999997</td><td>0.0002</td><td>-34.508430555555556</td><td>999999</td><td>0.0002</td><td>0.0</td><td>0.0</td><td>0.0</td><td>0.0</td><td>1e+20</td><td>0.0</td><td>55266.91</td><td>0.002560371031672</td><td>3e-16</td><td>2.0964e-20</td><td>1.4000000000000002e-23</td><td>37.84</td><td>0.26</td><td>2.43</td><td>0.0651157335</td><td>7e-10</td><td>FermiBlind</td><td>999999</td><td>197.94051749999997</td><td>-34.508430555555556</td><td>197.94053858839</td><td>-34.5084150416</td><td>6179115508262195200</td><td>197.94050550831</td><td>1.1444</td><td>-34.5084379066</td><td>0.6258</td><td>1.9312</td><td>0.9698</td><td>8.005</td><td>-6.133</td><td>1.604</td><td>-5.145</td><td>0.684</td><td>20.442053</td><td>20.59018</td><td>91.2089</td><td>19.847801</td><td>0.742378</td><td>0.01962</td><td>0.144577</td><td>0.216174</td><td>0.017821328693733113</td><td>0.011569605760050231</td><td>197.9405212261993</td><td>-34.508429606812435</td><td>16.387019514208376</td><td>6.998953339681526</td><td>True</td><td>0.997882151820097</td><td>8.559664128362115</td><td>0.724048415</td><td>2.318</td><td>0.991</td><td>3.809</td><td>0.0568217135</td><td>0.02429263075</td><td>0.09337096925</td><td>0.25063439459980363</td></tr>\n",
       "<tr><td>18</td><td>0.497899</td><td>804</td><td>J1437-6146</td><td>219.31379166666665</td><td>0.09</td><td>-61.76722222222222</td><td>999999</td><td>0.09</td><td>0.0</td><td>0.0</td><td>0.0</td><td>0.0</td><td>1e+20</td><td>0.0</td><td>51614.0</td><td>0.46761632345</td><td>7e-11</td><td>6.3304e-15</td><td>9e-19</td><td>200.5</td><td>1.3</td><td>4.253</td><td>1e+20</td><td>0.0</td><td>pksmb,htru_pks</td><td>999999</td><td>219.31379166666665</td><td>-61.76722222222222</td><td>219.31377305299</td><td>-61.76736024691</td><td>5877587569850654976</td><td>219.31372605872</td><td>0.0188</td><td>-61.76737334957</td><td>0.0235</td><td>0.308</td><td>0.0335</td><td>5.806</td><td>-5.002</td><td>0.032</td><td>-2.948</td><td>0.032</td><td>15.677556</td><td>16.166386</td><td>8150.41</td><td>14.969947</td><td>1.196439</td><td>0.002805</td><td>0.004597</td><td>0.004612</td><td>0.12727922446275886</td><td>0.49848761166648253</td><td>219.31377278860563</td><td>-61.7673604027287</td><td>0.019761469562615507</td><td>0.024276030962127625</td><td>True</td><td>0.9014185171396807</td><td>-0.023522183568513988</td><td>0.19517861000000014</td><td>3.307</td><td>2.799</td><td>4.035</td><td>3.103907209</td><td>2.627105013</td><td>3.787198545</td><td>0.28053520452848935</td></tr>\n",
       "<tr><td>19</td><td>0.199327</td><td>842</td><td>J1509-6015</td><td>227.28124999999997</td><td>0.1</td><td>-60.25516666666667</td><td>999999</td><td>0.1</td><td>0.0</td><td>0.0</td><td>0.0</td><td>0.0</td><td>1e+20</td><td>0.0</td><td>51759.0</td><td>0.3390384487</td><td>4e-11</td><td>2.121e-15</td><td>1.2e-17</td><td>423.6</td><td>1.7</td><td>11.09</td><td>1e+20</td><td>0.0</td><td>pksmb,htru_pks</td><td>999999</td><td>227.28124999999994</td><td>-60.25516666666667</td><td>227.28129829905</td><td>-60.25521658133</td><td>5876497399692841088</td><td>227.28125127396</td><td>0.0744</td><td>-60.25522722041</td><td>0.0803</td><td>0.188</td><td>0.1076</td><td>5.769</td><td>-5.249</td><td>0.111</td><td>-2.394</td><td>0.106</td><td>17.760696</td><td>19.653105</td><td>2036.38</td><td>16.47575</td><td>3.177355</td><td>0.002976</td><td>0.043418</td><td>0.005904</td><td>0.14142142732946417</td><td>0.19994290218426347</td><td>227.28129744277916</td><td>-60.25521697186387</td><td>0.09891757425826399</td><td>0.10160323032250419</td><td>True</td><td>0.9100495112600006</td><td>0.41535672776827637</td><td>1.9176708749999998</td><td>4.876</td><td>2.921</td><td>8.921999999999999</td><td>3.9050207875000003</td><td>2.339328490625</td><td>7.145323106249999</td><td>0.28722816733026535</td></tr>\n",
       "<tr><td>20</td><td>0.275563</td><td>461</td><td>J1048+2339</td><td>162.18090980833333</td><td>7.6e-05</td><td>23.664834527777778</td><td>999999</td><td>7.6e-05</td><td>-18.7</td><td>3.0</td><td>-9.4</td><td>0.7</td><td>1e+20</td><td>0.0</td><td>56700.0</td><td>0.0046651629372704</td><td>5e-16</td><td>3.008e-20</td><td>5e-23</td><td>16.6544</td><td>0.0001</td><td>2.002</td><td>0.25051916</td><td>3e-08</td><td>FermiAssoc</td><td>999999</td><td>162.180983127884</td><td>23.66487138356706</td><td>162.1809748259</td><td>23.66488262115</td><td>3990037124929068032</td><td>162.18089987799</td><td>0.307</td><td>23.66483100064</td><td>0.3803</td><td>0.4869</td><td>0.437</td><td>19.325</td><td>-15.445</td><td>0.353</td><td>-11.615</td><td>0.341</td><td>19.594545</td><td>20.202644</td><td>264.628</td><td>18.691307</td><td>1.511337</td><td>0.012968</td><td>0.124041</td><td>0.046484</td><td>0.006945764957278561</td><td>0.017342484919286607</td><td>162.18091426869432</td><td>23.664837080692195</td><td>4.992040246021439</td><td>4.828212197475259</td><td>True</td><td>0.9995700732698944</td><td>7.825054179752043</td><td>1.493782698550285</td><td>2.203</td><td>1.28</td><td>3.342</td><td>0.05441833449411673</td><td>0.054345235090590846</td><td>0.05444344199812279</td><td>0.2500964686892675</td></tr>\n",
       "<tr><td>21</td><td>0.325916</td><td>933</td><td>J1542-5133</td><td>235.58304166666662</td><td>0.13</td><td>-51.55972222222222</td><td>999999</td><td>0.13</td><td>0.0</td><td>0.0</td><td>0.0</td><td>0.0</td><td>1e+20</td><td>0.0</td><td>51911.0</td><td>1.7838649877</td><td>3e-10</td><td>5.9e-16</td><td>6e-17</td><td>186.0</td><td>4.0</td><td>4.061</td><td>1e+20</td><td>0.0</td><td>pksmb,htru_pks</td><td>999999</td><td>235.58304166666665</td><td>-51.55972222222222</td><td>235.58290264965</td><td>-51.55969526884</td><td>5886184887428050048</td><td>235.58288654376</td><td>0.2104</td><td>-51.55971688314</td><td>0.1873</td><td>-0.2116</td><td>0.2656</td><td>5.36</td><td>-2.253</td><td>0.339</td><td>-4.863</td><td>0.279</td><td>19.029604</td><td>20.160568</td><td>485.131</td><td>18.033249</td><td>2.127319</td><td>0.003929</td><td>0.03574</td><td>0.012323</td><td>0.1838485067469727</td><td>0.32584405068935834</td><td>235.5829020216748</td><td>-51.55969662429631</td><td>0.3999713706715843</td><td>0.336832294026962</td><td>True</td><td>0.9050264055133527</td><td>2.808049227264249</td><td>1.2982653025</td><td>5.3740000000000006</td><td>2.739</td><td>10.283999999999999</td><td>2.5700664622500002</td><td>1.309901756625</td><td>4.9182291585</td><td>0.310322853546257</td></tr>\n",
       "<tr><td>22</td><td>0.557567</td><td>944</td><td>J1546-5302</td><td>236.53083333333333</td><td>0.1</td><td>-53.03972222222222</td><td>999999</td><td>0.1</td><td>0.0</td><td>0.0</td><td>0.0</td><td>0.0</td><td>1e+20</td><td>0.0</td><td>51398.0</td><td>0.58083988615</td><td>4e-11</td><td>1.18e-14</td><td>3e-17</td><td>287.0</td><td>3.0</td><td>5.334</td><td>1e+20</td><td>0.0</td><td>pksmb,htru_pks</td><td>999999</td><td>236.53083333333333</td><td>-53.03972222222222</td><td>236.53109090427</td><td>-53.03972417966</td><td>5885808648276626304</td><td>236.53109090427</td><td>17.7256</td><td>-53.03972417966</td><td>5.1012</td><td>1e+20</td><td>1e+20</td><td>1e+20</td><td>1e+20</td><td>1e+20</td><td>1e+20</td><td>1e+20</td><td>21.108736</td><td>22.30484</td><td>107.678</td><td>19.667578</td><td>2.637262</td><td>0.02433</td><td>0.501681</td><td>0.173243</td><td>0.20112156295341369</td><td>0.5575671946452818</td><td>236.53109090426994</td><td>-53.03972417966</td><td>101.82842859129255</td><td>100.40345718874408</td><td>True</td><td>0.9645469181631378</td><td>-5.155585491519284</td><td>-1.4366271724999993</td><td>5.334</td><td>4.2672</td><td>6.400799999999999</td><td>12.62905643475</td><td>10.103245147800001</td><td>15.1548677217</td><td>0.32085804195130274</td></tr>\n",
       "<tr><td>23</td><td>0.517309</td><td>193</td><td>J0534-6703</td><td>83.65070833333331</td><td>0.1</td><td>-67.06355555555555</td><td>999999</td><td>0.1</td><td>0.0</td><td>0.0</td><td>0.0</td><td>0.0</td><td>1e+20</td><td>0.0</td><td>52410.0</td><td>1.81756503106</td><td>1.7e-10</td><td>4.2505e-13</td><td>6e-17</td><td>94.7</td><td>1.2</td><td>49.7</td><td>1e+20</td><td>0.0</td><td>misc</td><td>999999</td><td>83.65070833333331</td><td>-67.06355555555555</td><td>83.65106169881</td><td>-67.06351451039</td><td>4660152083015919872</td><td>83.65107614046</td><td>0.1555</td><td>-67.0635125567</td><td>0.1541</td><td>0.1642</td><td>0.1585</td><td>1.34</td><td>1.266</td><td>0.258</td><td>0.44</td><td>0.191</td><td>18.860022</td><td>19.301952</td><td>393.863</td><td>18.259533</td><td>1.042419</td><td>0.003191</td><td>0.017651</td><td>0.012773</td><td>0.14142357133793862</td><td>0.5187272421648461</td><td>83.6510625321228</td><td>-67.06351422077101</td><td>0.6308252501053302</td><td>0.4781103228557492</td><td>True</td><td>0.9436421594986573</td><td>5.161254889375669</td><td>0.940709625</td><td>4.75</td><td>2.59</td><td>9.187</td><td>0.3152990625</td><td>0.1719209625</td><td>0.60982157625</td><td>0.2872292229735286</td></tr>\n",
       "<tr><td>24</td><td>0.03037</td><td>199</td><td>J0540-6919</td><td>85.046675</td><td>0.009</td><td>-69.33171388888888</td><td>999999</td><td>0.009</td><td>0.0</td><td>0.0</td><td>0.0</td><td>0.0</td><td>1e+20</td><td>0.0</td><td>51722.0</td><td>0.0505697030222</td><td>1.8e-12</td><td>4.789091e-13</td><td>3e-19</td><td>146.5</td><td>0.2</td><td>49.7</td><td>1e+20</td><td>0.0</td><td>misc</td><td>999999</td><td>85.046675</td><td>-69.33171388888888</td><td>85.04666687102</td><td>-69.33172182217</td><td>4657672890443808512</td><td>85.04671211452</td><td>1.2047</td><td>-69.3316997273</td><td>1.3202</td><td>0.6715</td><td>1.2872</td><td>6.134</td><td>3.593</td><td>2.055</td><td>4.971</td><td>2.339</td><td>20.768072</td><td>18.881462</td><td>579.545</td><td>17.840178</td><td>1.041285</td><td>0.017278</td><td>0.053657</td><td>0.024338</td><td>0.012941545685830955</td><td>0.02788995549523586</td><td>85.04666735604356</td><td>-69.33172115112846</td><td>1.5648113199081435</td><td>1.7421166067562146</td><td>True</td><td>0.9327302499041886</td><td>4.601609383175812</td><td>-0.057674400000000015</td><td>3.564</td><td>1.16</td><td>8.417</td><td>3.4067741400000005</td><td>1.1088266</td><td>8.045684045</td><td>0.2503347431035861</td></tr>\n",
       "<tr><td>25</td><td>0.406252</td><td>225</td><td>J0614+2229</td><td>93.57085749999999</td><td>0.0001</td><td>22.499124444444444</td><td>999999</td><td>0.0001</td><td>-0.24</td><td>0.04</td><td>-1.25</td><td>0.04</td><td>0.28</td><td>0.03</td><td>56000.0</td><td>0.33495996611</td><td>1.6e-10</td><td>5.94494e-14</td><td>1.2e-18</td><td>96.91</td><td>0.04</td><td>3.571</td><td>1e+20</td><td>0.0</td><td>jb1,gb1,gb3,gb4,lotaas</td><td>999999</td><td>93.57085831323296</td><td>22.499128680032698</td><td>93.5709684535</td><td>22.49917163194</td><td>3376990741688176384</td><td>93.57096589888</td><td>0.5437</td><td>22.49916775771</td><td>0.5352</td><td>-1.224</td><td>0.6783</td><td>1.021</td><td>-0.531</td><td>0.678</td><td>-0.872</td><td>0.461</td><td>19.615341</td><td>20.441095</td><td>265.43</td><td>18.688019</td><td>1.753077</td><td>0.006332</td><td>0.119681</td><td>0.040837</td><td>0.010031368018701544</td><td>0.3964325256933158</td><td>93.57096665422216</td><td>22.499168677193627</td><td>8.288430949359913</td><td>5.648916420369967</td><td>True</td><td>0.99208900323276</td><td>3.3119983983716486</td><td>0.8046631330876319</td><td>4.706</td><td>2.0869999999999997</td><td>9.639999999999999</td><td>2.940082987428341</td><td>2.178440351052349</td><td>3.234518682981415</td><td>0.25020117574529227</td></tr>\n",
       "<tr><td>26</td><td>0.186812</td><td>1055</td><td>J1622-0315</td><td>245.74845208333332</td><td>0.0003</td><td>-3.260368888888889</td><td>999999</td><td>0.0003</td><td>-15.4</td><td>1.7</td><td>37.5</td><td>5.1</td><td>1e+20</td><td>0.0</td><td>56769.0</td><td>0.003845429067931</td><td>3e-15</td><td>1.16e-20</td><td>1e-22</td><td>21.4</td><td>0.0</td><td>1.141</td><td>0.1617006798</td><td>7e-10</td><td>FermiAssoc</td><td>999999</td><td>245.7485132722541</td><td>-3.2605178878603387</td><td>245.74850360161</td><td>-3.26036201424</td><td>4358428942492430336</td><td>245.74844490992</td><td>0.2484</td><td>-3.2603518014</td><td>0.1872</td><td>0.6239</td><td>0.3027</td><td>13.383</td><td>-13.184</td><td>0.316</td><td>2.298</td><td>0.234</td><td>19.206276</td><td>19.678719</td><td>261.903</td><td>18.702543</td><td>0.976175</td><td>0.007571</td><td>0.050993</td><td>0.032658</td><td>0.0056489475490361495</td><td>0.05770307342838356</td><td>245.74845121754478</td><td>-3.2603528835815556</td><td>4.526853163416369</td><td>3.352343784376514</td><td>True</td><td>0.9982428356383113</td><td>7.707412485447151</td><td>0.7524583589687174</td><td>1.4489999999999998</td><td>0.997</td><td>2.039</td><td>0.6935215871969763</td><td>0.6924592463864235</td><td>0.6936279193399912</td><td>0.25006381307260706</td></tr>\n",
       "<tr><td>27</td><td>0.30297</td><td>1071</td><td>J1624-4411</td><td>246.0890041666666</td><td>0.018</td><td>-44.192722222222216</td><td>999999</td><td>0.018</td><td>0.0</td><td>0.0</td><td>0.0</td><td>0.0</td><td>1e+20</td><td>0.0</td><td>53058.0</td><td>0.23316407639</td><td>4e-12</td><td>7.992e-16</td><td>8e-19</td><td>139.4</td><td>1.4</td><td>3.344</td><td>1e+20</td><td>0.0</td><td>pksmb,htru_pks</td><td>999999</td><td>246.0890041666666</td><td>-44.192722222222216</td><td>246.08891155383</td><td>-44.19267051888</td><td>5992089027071540352</td><td>246.08889031992</td><td>0.4041</td><td>-44.1927046431</td><td>0.2763</td><td>0.9434</td><td>0.4932</td><td>8.407</td><td>-3.426</td><td>0.51</td><td>-7.678</td><td>0.365</td><td>19.884068</td><td>20.951452</td><td>206.063</td><td>18.962893</td><td>1.98856</td><td>0.005145</td><td>0.080808</td><td>0.02606</td><td>0.02559283587468888</td><td>0.29313751017586365</td><td>246.08890761037287</td><td>-44.192679356550485</td><td>2.1515944944856034</td><td>1.5374944683019969</td><td>True</td><td>0.9532487617178454</td><td>6.228785943569447</td><td>1.5167631250000002</td><td>2.745</td><td>0.987</td><td>7.283</td><td>1.4625703125</td><td>0.5258859375</td><td>3.8804734375000005</td><td>0.2513065722342111</td></tr>\n",
       "<tr><td>28</td><td>0.309935</td><td>1073</td><td>J1624-4721</td><td>246.22870833333326</td><td>0.08</td><td>-47.3575</td><td>999999</td><td>0.08</td><td>0.0</td><td>0.0</td><td>0.0</td><td>0.0</td><td>1e+20</td><td>0.0</td><td>51683.0</td><td>0.44872324857</td><td>7e-11</td><td>4.148e-15</td><td>9e-18</td><td>364.0</td><td>5.0</td><td>5.634</td><td>1e+20</td><td>0.0</td><td>pksmb</td><td>999999</td><td>246.22870833333326</td><td>-47.3575</td><td>246.22872724415</td><td>-47.35741486545</td><td>5941843098026132608</td><td>246.22870176663</td><td>0.8756</td><td>-47.35742577503</td><td>0.4413</td><td>0.2277</td><td>0.9805</td><td>4.594</td><td>-3.883</td><td>1.251</td><td>-2.455</td><td>0.765</td><td>20.391033</td><td>21.25762</td><td>250.679</td><td>18.750101</td><td>2.507519</td><td>0.007874</td><td>0.187094</td><td>0.050987</td><td>0.11314270014111426</td><td>0.3088669636523188</td><td>246.22872683514893</td><td>-47.357415124038106</td><td>0.9958423001435434</td><td>0.5281035271137093</td><td>True</td><td>0.9248487501021722</td><td>3.5255410918919816</td><td>1.2123211349999998</td><td>3.7159999999999997</td><td>1.315</td><td>8.559</td><td>4.0151133815</td><td>1.420848788125</td><td>9.247942796625</td><td>0.2744107698236753</td></tr>\n",
       "<tr><td>29</td><td>0.273065</td><td>1209</td><td>J1653-0158</td><td>253.40855754166662</td><td>5e-05</td><td>-1.9769147222222223</td><td>999999</td><td>5e-05</td><td>-19.62</td><td>1.9</td><td>-3.74</td><td>1.1</td><td>1.88</td><td>1.0</td><td>57205.875</td><td>0.0019676820247057</td><td>2e-16</td><td>2.402e-21</td><td>2.9999999999999996e-24</td><td>1e+20</td><td>0.0</td><td>0.84</td><td>0.0519447575</td><td>4e-10</td><td>FermiAssoc</td><td>999999</td><td>253.4086420166658</td><td>-1.9768986194422977</td><td>253.40863215986</td><td>-1.97690085889</td><td>4379227476242700928</td><td>253.4085552057</td><td>0.6318</td><td>-1.97691526948</td><td>0.3534</td><td>1.7724</td><td>0.7752</td><td>17.606</td><td>-17.304</td><td>0.953</td><td>-3.242</td><td>0.718</td><td>20.447805</td><td>20.943958</td><td>101.115</td><td>19.735857</td><td>1.208101</td><td>0.012315</td><td>0.100663</td><td>0.084276</td><td>0.01850894151619646</td><td>0.0005370487901294925</td><td>253.40855765652606</td><td>-1.9769148174994413</td><td>14.785005359823174</td><td>11.134609672548022</td><td>True</td><td>0.9960409199838661</td><td>9.891687517004222</td><td>0.9611047934224669</td><td>0.908</td><td>0.52</td><td>1.4089999999999998</td><td>0.7656882403903528</td><td>0.7303801032778041</td><td>0.7739247609336863</td><td>0.250684225503022</td></tr>\n",
       "<tr><td>30</td><td>0.114665</td><td>1370</td><td>J1723-2837</td><td>260.8466066666666</td><td>0.0008</td><td>-28.63254722222222</td><td>999999</td><td>0.0008</td><td>-11.713</td><td>0.082</td><td>-23.99</td><td>0.062</td><td>1.077</td><td>0.054</td><td>55667.0</td><td>0.001855732795729</td><td>1.1e-14</td><td>7.5e-21</td><td>5.0000000000000005e-22</td><td>19.688</td><td>0.013</td><td>0.928</td><td>0.615436473</td><td>8e-09</td><td>pksmb</td><td>999999</td><td>260.8466433894652</td><td>-28.63247200830367</td><td>260.84664062788</td><td>-28.63255844668</td><td>4059795674516044800</td><td>260.8465812119</td><td>0.0355</td><td>-28.63266533424</td><td>0.0253</td><td>1.0663</td><td>0.0439</td><td>26.759</td><td>-11.734</td><td>0.044</td><td>-24.05</td><td>0.034</td><td>15.540544</td><td>16.20074</td><td>10128.8</td><td>14.733996</td><td>1.466744</td><td>0.004528</td><td>0.016172</td><td>0.012023</td><td>0.001294525104532263</td><td>0.3119832745846711</td><td>260.846603839189</td><td>-28.632633848701808</td><td>0.4978859679690974</td><td>0.3845839429268099</td><td>True</td><td>0.9257505120589966</td><td>4.190062282294289</td><td>0.9847754599951014</td><td>0.936</td><td>0.864</td><td>1.021</td><td>1.4941024740151858</td><td>1.4829921572336793</td><td>1.5040384546126746</td><td>0.2500033515680265</td></tr>\n",
       "<tr><td>31</td><td>0.165191</td><td>1961</td><td>J1839-0905</td><td>279.9727499999999</td><td>0.03</td><td>-9.087250000000001</td><td>999999</td><td>0.03</td><td>0.0</td><td>0.0</td><td>0.0</td><td>0.0</td><td>1e+20</td><td>0.0</td><td>54979.0</td><td>0.418974903641</td><td>1.3e-11</td><td>2.60227e-14</td><td>1.8e-18</td><td>344.5</td><td>0.3</td><td>6.815</td><td>1e+20</td><td>0.0</td><td>pksmb,htru_pks</td><td>999999</td><td>279.9727499999999</td><td>-9.087250000000001</td><td>279.97279108656</td><td>-9.08727143735</td><td>4155609699080401920</td><td>279.97277643651</td><td>0.0486</td><td>-9.08729188518</td><td>0.0447</td><td>0.4152</td><td>0.0557</td><td>5.636</td><td>-3.255</td><td>0.061</td><td>-4.601</td><td>0.062</td><td>16.505903</td><td>17.582375</td><td>5087.03</td><td>15.481734</td><td>2.10064</td><td>0.002873</td><td>0.008643</td><td>0.005021</td><td>0.04243434047225194</td><td>0.1671001616833678</td><td>279.9727825845463</td><td>-9.087283455096117</td><td>0.5756472978847493</td><td>0.5847063394888282</td><td>True</td><td>0.9467351021492053</td><td>1.8644250813199181</td><td>1.2474657232623585</td><td>2.508</td><td>2.038</td><td>3.253</td><td>2.6448402578866888</td><td>2.3017866178736117</td><td>3.297205455365256</td><td>0.25357577418064803</td></tr>\n",
       "<tr><td>32</td><td>0.047601</td><td>1710</td><td>J1810+1744</td><td>272.6553333333333</td><td>0.01</td><td>17.743716666666668</td><td>999999</td><td>0.01</td><td>0.0</td><td>0.0</td><td>0.0</td><td>0.0</td><td>1e+20</td><td>0.0</td><td>55196.0</td><td>0.00166</td><td>0.0</td><td>1e+20</td><td>0.0</td><td>39.7</td><td>0.0</td><td>2.361</td><td>0.15</td><td>0.0</td><td>FermiAssoc</td><td>999999</td><td>272.6553333333333</td><td>17.743716666666664</td><td>272.65532963812</td><td>17.74372941226</td><td>4526229058440076288</td><td>272.65536481338</td><td>0.3792</td><td>17.74371079376</td><td>0.4409</td><td>0.6476</td><td>0.5358</td><td>8.624</td><td>7.538</td><td>0.454</td><td>-4.189</td><td>0.514</td><td>20.000353</td><td>20.335602</td><td>114.942</td><td>19.596695</td><td>0.738907</td><td>0.020506</td><td>0.119271</td><td>0.076017</td><td>0.015727162366230785</td><td>0.05924008638152358</td><td>272.65535057127477</td><td>17.74371777933357</td><td>4.554570000335164</td><td>5.15747304460589</td><td>True</td><td>0.9938228572950012</td><td>7.609041423538021</td><td>0.5880189800740099</td><td>2.425</td><td>1.287</td><td>3.804</td><td>0.4677528617705695</td><td>0.33050252128784785</td><td>0.4679698745575623</td><td>0.25049419880726537</td></tr>\n",
       "<tr><td>33</td><td>0.062409</td><td>2915</td><td>J2215+5135</td><td>333.88620166666664</td><td>0.0004</td><td>51.593427777777784</td><td>999999</td><td>0.0004</td><td>0.0</td><td>0.0</td><td>0.0</td><td>0.0</td><td>1e+20</td><td>0.0</td><td>55610.0</td><td>0.0026096197234461</td><td>7e-16</td><td>3.34e-20</td><td>7.000000000000001e-22</td><td>69.1951</td><td>0.0002</td><td>2.773</td><td>0.172502105</td><td>8e-09</td><td>FermiAssoc</td><td>999999</td><td>333.88620166666664</td><td>51.593427777777784</td><td>333.88619547893</td><td>51.59344468192</td><td>2001168543319218048</td><td>333.88619558188</td><td>0.1763</td><td>51.59345463883</td><td>0.2004</td><td>0.3016</td><td>0.2345</td><td>2.24</td><td>0.014</td><td>0.241</td><td>2.24</td><td>0.239</td><td>19.204527</td><td>19.550291</td><td>252.961</td><td>18.740261</td><td>0.81003</td><td>0.018501</td><td>0.069529</td><td>0.042822</td><td>0.003829358516214912</td><td>0.08688138580040314</td><td>333.88619552221616</td><td>51.593451607709035</td><td>2.688293664277543</td><td>2.6677825661618737</td><td>True</td><td>0.9846082319366547</td><td>6.365268820408173</td><td>0.6622883227236582</td><td>2.9939999999999998</td><td>1.847</td><td>4.485</td><td>0.4579991995566596</td><td>0.3068570831474271</td><td>0.7005596504783965</td><td>0.25002932625323315</td></tr>\n",
       "<tr><td>34</td><td>0.212267</td><td>2972</td><td>J2339-0533</td><td>354.91141666666664</td><td>0.01</td><td>-5.5514777777777775</td><td>999999</td><td>0.01</td><td>4.15</td><td>0.48</td><td>-10.31</td><td>0.3</td><td>0.75</td><td>0.25</td><td>55100.0</td><td>0.0028842267415472</td><td>1.7e-16</td><td>1.4102e-20</td><td>7e-24</td><td>8.717</td><td>0.004</td><td>1.1</td><td>0.19309840181</td><td>4e-11</td><td>FermiAssoc</td><td>999999</td><td>354.91140544503435</td><td>-5.551449899456125</td><td>354.91142199099</td><td>-5.55141905348</td><td>2440660623886405504</td><td>354.91143951165</td><td>0.1585</td><td>-5.55146474065</td><td>0.1404</td><td>0.5346</td><td>0.1832</td><td>11.003</td><td>3.924</td><td>0.202</td><td>-10.28</td><td>0.186</td><td>18.794209</td><td>18.82446</td><td>534.038</td><td>17.928967</td><td>0.895493</td><td>0.054907</td><td>0.167484</td><td>0.192627</td><td>0.014394084561972758</td><td>0.12512413308834971</td><td>354.9114326015175</td><td>-5.551446850681215</td><td>1.9727322354796646</td><td>1.8160390701539921</td><td>True</td><td>0.9996473342592911</td><td>7.173135094820543</td><td>0.8805015079944007</td><td>2.065</td><td>1.0939999999999999</td><td>5.301</td><td>0.04647362521735765</td><td>0.046407000000000004</td><td>0.04656955091931019</td><td>0.2504140364883271</td></tr>\n",
       "<tr><td>35</td><td>0.05572</td><td>1754</td><td>J1816+4510</td><td>274.14972649999993</td><td>7e-05</td><td>45.17607272222222</td><td>999999</td><td>7e-05</td><td>5.3</td><td>0.8</td><td>-3.0</td><td>1.0</td><td>1e+20</td><td>0.0</td><td>56047.0</td><td>0.0031931035538505</td><td>2e-16</td><td>4.3100000000000004e-20</td><td>1e-23</td><td>38.8874</td><td>0.0004</td><td>4.356</td><td>0.3608934817</td><td>2e-10</td><td>gbncc</td><td>999999</td><td>274.1497083516584</td><td>45.1760829948651</td><td>274.14972623215</td><td>45.17608819898</td><td>2115337192179377792</td><td>274.14972586259</td><td>0.0936</td><td>45.17606864562</td><td>0.0956</td><td>0.2225</td><td>0.1013</td><td>4.4</td><td>-0.059</td><td>0.123</td><td>-4.4</td><td>0.117</td><td>18.195118</td><td>18.166552</td><td>372.133</td><td>18.32115</td><td>-0.154598</td><td>0.003423</td><td>0.016303</td><td>0.025374</td><td>0.0020992523663806717</td><td>0.0018980877569444309</td><td>274.14972603012137</td><td>45.17607313243501</td><td>1.5191285895823972</td><td>1.4454441622134466</td><td>True</td><td>0.9975419150306033</td><td>4.947543686708338</td><td>-0.17982800000000002</td><td>4.304</td><td>2.866</td><td>6.367000000000001</td><td>0.078213</td><td>0.078151</td><td>0.07824521980345779</td><td>0.25000881356563764</td></tr>\n",
       "<tr><td>36</td><td>0.418199</td><td>1761</td><td>J1817-3618</td><td>274.27440416666667</td><td>0.009</td><td>-36.30127777777778</td><td>999999</td><td>0.009</td><td>19.0</td><td>5.0</td><td>-16.0</td><td>17.0</td><td>1e+20</td><td>0.0</td><td>57600.0</td><td>0.3870193974544</td><td>1.5e-12</td><td>2.02298e-15</td><td>1.5e-19</td><td>94.13</td><td>0.1</td><td>4.383</td><td>1e+20</td><td>0.0</td><td>mol2,pks70,pkssw,htru_pks,gbncc</td><td>999999</td><td>274.27431666617895</td><td>-36.30120409305504</td><td>274.27453478184</td><td>-36.30132691027</td><td>4038146565444090240</td><td>274.27451734447</td><td>0.106</td><td>-36.30135398472</td><td>0.1065</td><td>0.1737</td><td>0.1282</td><td>6.863</td><td>-3.162</td><td>0.148</td><td>-6.092</td><td>0.109</td><td>17.618546</td><td>18.048014</td><td>1175.63</td><td>17.072216</td><td>0.975798</td><td>0.003045</td><td>0.008283</td><td>0.007497</td><td>0.013088502395430968</td><td>0.4365607059298878</td><td>274.2745202198977</td><td>-36.301354965715156</td><td>2.455988741358501</td><td>1.8102525397134313</td><td>True</td><td>0.9380021159117756</td><td>3.8929544068759054</td><td>0.88319955</td><td>4.872000000000001</td><td>2.794</td><td>9.145999999999999</td><td>0.28705519500000004</td><td>0.16462073375</td><td>0.5388766037499999</td><td>0.2503423833372112</td></tr>\n",
       "<tr><td>37</td><td>0.332141</td><td>2117</td><td>J1851+1259</td><td>282.8050625</td><td>0.0061</td><td>12.99313611111111</td><td>999999</td><td>0.0061</td><td>0.0</td><td>0.0</td><td>0.0</td><td>0.0</td><td>1e+20</td><td>0.0</td><td>49908.0</td><td>1.20530328456</td><td>1.1e-10</td><td>1.15199e-14</td><td>8e-19</td><td>70.6333</td><td>0.0017</td><td>2.644</td><td>1e+20</td><td>0.0</td><td>gb3,pksmb,lotaas</td><td>999999</td><td>282.8050625</td><td>12.993136111111111</td><td>282.80515655984</td><td>12.99314670146</td><td>4504706118346043392</td><td>282.80514030479</td><td>0.8176</td><td>12.99311287242</td><td>1.0301</td><td>0.9607</td><td>1.0789</td><td>8.405</td><td>-3.564</td><td>1.186</td><td>-7.612</td><td>1.247</td><td>20.49698</td><td>21.322702</td><td>88.2507</td><td>19.8836</td><td>1.439102</td><td>0.009671</td><td>0.146604</td><td>0.076296</td><td>0.011644880882230028</td><td>0.352974954748284</td><td>282.805160995528</td><td>12.9931561752131</td><td>5.376395208073664</td><td>5.6813400996541175</td><td>True</td><td>0.9721313829938255</td><td>6.06276189018922</td><td>0.87126931720538</td><td>3.426</td><td>1.0879999999999999</td><td>8.259</td><td>1.7602813166633222</td><td>0.8796950442131646</td><td>1.8537337226594455</td><td>0.250271059554958</td></tr>\n",
       "<tr><td>38</td><td>0.537583</td><td>2128</td><td>J1852+0040</td><td>283.16070833333333</td><td>0.04</td><td>0.6721666666666666</td><td>999999</td><td>0.04</td><td>0.0</td><td>0.0</td><td>0.0</td><td>0.0</td><td>1e+20</td><td>0.0</td><td>54597.0</td><td>0.104912611147</td><td>4e-12</td><td>8.68e-18</td><td>9e-20</td><td>1e+20</td><td>0.0</td><td>10.0</td><td>1e+20</td><td>0.0</td><td>misc</td><td>999999</td><td>283.16070833333333</td><td>0.6721666666666666</td><td>283.16081813174</td><td>0.67226788418</td><td>4266508881354196736</td><td>283.16081366593</td><td>0.6382</td><td>0.67224732776</td><td>0.7781</td><td>2.3931</td><td>0.9047</td><td>4.733</td><td>-1.005</td><td>0.755</td><td>-4.625</td><td>0.658</td><td>20.213573</td><td>21.72347</td><td>218.048</td><td>18.901518</td><td>2.821953</td><td>0.008633</td><td>0.244295</td><td>0.041076</td><td>0.05719323204434018</td><td>0.505719510459676</td><td>283.1608157986633</td><td>0.6722571473844257</td><td>6.341946834355533</td><td>5.553872705413608</td><td>True</td><td>0.9811878050848506</td><td>4.386329075340104</td><td>1.4774098701681764</td><td>2.147</td><td>0.501</td><td>6.914000000000001</td><td>4.168083702478654</td><td>3.376918361458019</td><td>6.366219520249892</td><td>0.2564587019223129</td></tr>\n",
       "<tr><td>39</td><td>0.163693</td><td>2567</td><td>J1928+1245</td><td>292.18913999999995</td><td>6e-05</td><td>12.76482611111111</td><td>999999</td><td>6e-05</td><td>0.0</td><td>0.0</td><td>0.0</td><td>0.0</td><td>1e+20</td><td>0.0</td><td>57974.0</td><td>0.0030216063479651</td><td>6e-16</td><td>1.68e-20</td><td>1e-22</td><td>179.233</td><td>0.001</td><td>6.079</td><td>0.1366347269</td><td>8e-10</td><td>palfa</td><td>999999</td><td>292.18913999999995</td><td>12.76482611111111</td><td>292.18909362107</td><td>12.76483075284</td><td>4316237348443952128</td><td>292.18909202584</td><td>0.113</td><td>12.7648102135</td><td>0.1328</td><td>0.1483</td><td>0.1697</td><td>4.635</td><td>-0.35</td><td>0.157</td><td>-4.621</td><td>0.156</td><td>18.23367</td><td>19.10658</td><td>866.57</td><td>17.403387</td><td>1.703194</td><td>0.003082</td><td>0.017949</td><td>0.007654</td><td>0.0039008193708121456</td><td>0.1807943191786959</td><td>292.1890919096663</td><td>12.764808157418669</td><td>2.765982012552451</td><td>2.7492790454818326</td><td>True</td><td>0.9493984536655448</td><td>1.2880899726560453</td><td>0.604887310301208</td><td>5.107</td><td>2.931</td><td>8.137</td><td>3.4047507380662556</td><td>2.41844039382601</td><td>3.6081264786150933</td><td>0.2500304309314442</td></tr>\n",
       "<tr><td>40</td><td>0.389746</td><td>2280</td><td>J1903-0258</td><td>285.87642916666664</td><td>0.011</td><td>-2.971</td><td>999999</td><td>0.011</td><td>0.0</td><td>0.0</td><td>0.0</td><td>0.0</td><td>1e+20</td><td>0.0</td><td>53095.0</td><td>0.301458774079</td><td>6e-12</td><td>6.791e-16</td><td>6e-19</td><td>114.1</td><td>0.08</td><td>4.069</td><td>1e+20</td><td>0.0</td><td>pksmb,gbncc</td><td>999999</td><td>285.87642916666664</td><td>-2.971</td><td>285.87653754235</td><td>-2.97100266868</td><td>4261581076409458304</td><td>285.87653491824</td><td>0.2433</td><td>-2.97098587836</td><td>0.2455</td><td>0.613</td><td>0.2643</td><td>3.824</td><td>-0.59</td><td>0.353</td><td>3.778</td><td>0.342</td><td>18.927883</td><td>19.927881</td><td>639.511</td><td>17.733274</td><td>2.194607</td><td>0.004028</td><td>0.054629</td><td>0.015159</td><td>0.01569944883901284</td><td>0.3871802533824703</td><td>285.8765368466354</td><td>-2.9709982137488264</td><td>1.5181212111245177</td><td>1.4724136093886757</td><td>True</td><td>0.9609016402508653</td><td>3.6960049123604235</td><td>1.199532236861084</td><td>2.688</td><td>1.2899999999999998</td><td>6.622000000000001</td><td>3.08473176573064</td><td>0.16231839582751625</td><td>3.5026931509184958</td><td>0.2504924603532984</td></tr>\n",
       "<tr><td>41</td><td>0.36281</td><td>2680</td><td>J1946+2052</td><td>296.55887499999994</td><td>0.006</td><td>20.87351111111111</td><td>999999</td><td>0.006</td><td>0.0</td><td>0.0</td><td>0.0</td><td>0.0</td><td>1e+20</td><td>0.0</td><td>57989.0</td><td>0.01696017532298</td><td>1.5e-13</td><td>9.2e-19</td><td>1.8e-19</td><td>93.965</td><td>0.003</td><td>3.51</td><td>0.07848804</td><td>1e-08</td><td>palfa</td><td>999999</td><td>296.55887499999994</td><td>20.87351111111111</td><td>296.55893276377</td><td>20.87342600151</td><td>1825839908094612992</td><td>296.55892144265</td><td>0.2909</td><td>20.87340257887</td><td>0.3188</td><td>1.1331</td><td>0.4443</td><td>5.783</td><td>-2.38</td><td>0.389</td><td>-5.27</td><td>0.383</td><td>19.863064</td><td>20.654911</td><td>272.288</td><td>18.660324</td><td>1.994587</td><td>0.005343</td><td>0.082717</td><td>0.031538</td><td>0.012843706772081414</td><td>0.4284257140643389</td><td>296.55892109907506</td><td>20.87340017253782</td><td>6.86970877564179</td><td>6.765198074341958</td><td>True</td><td>0.9540512515260424</td><td>4.549678122527242</td><td>0.9716540935823039</td><td>2.682</td><td>1.083</td><td>4.867</td><td>3.171092009894858</td><td>1.4984710865448727</td><td>3.617669281541591</td><td>0.2503297041975786</td></tr>\n",
       "<tr><td>42</td><td>0.074209</td><td>2812</td><td>J2032+4127</td><td>308.0546625</td><td>0.002</td><td>41.45675277777778</td><td>999999</td><td>0.002</td><td>-2.991</td><td>0.048</td><td>-0.742</td><td>0.055</td><td>0.693</td><td>0.033</td><td>55700.0</td><td>0.14324647</td><td>1.9e-07</td><td>1.13e-14</td><td>3e-16</td><td>114.67</td><td>0.04</td><td>1.33</td><td>16835.0</td><td>840.0</td><td>FermiBlind</td><td>999999</td><td>308.0546719525066</td><td>41.45675512273215</td><td>308.05468641266</td><td>41.4567629629</td><td>2067835682818358400</td><td>308.05466935591</td><td>0.0119</td><td>41.45675875004</td><td>0.0146</td><td>0.5678</td><td>0.0156</td><td>3.028</td><td>-2.876</td><td>0.017</td><td>-0.948</td><td>0.02</td><td>11.277184</td><td>11.974401</td><td>570035.0</td><td>10.358142</td><td>1.61626</td><td>0.01004</td><td>0.027443</td><td>0.040767</td><td>0.002844211391794055</td><td>0.04763814699432253</td><td>308.0546773235905</td><td>41.45675996691972</td><td>0.19377710128376213</td><td>0.2280106932535745</td><td>True</td><td>0.9877691324709058</td><td>-3.2805536417548127</td><td>0.4072585290534074</td><td>1.452</td><td>1.3459999999999999</td><td>1.577</td><td>3.747904559934437</td><td>2.5527987269298826</td><td>5.04986495518237</td><td>0.25001617855339126</td></tr>\n",
       "<tr><td>43</td><td>0.242321</td><td>2822</td><td>J2039-5617</td><td>309.8957004166666</td><td>0.0001</td><td>-56.28590777777777</td><td>999999</td><td>0.0001</td><td>4.2</td><td>0.3</td><td>-14.9</td><td>0.3</td><td>0.4</td><td>0.23</td><td>57205.875</td><td>0.0026509071060649</td><td>4e-16</td><td>1.4164e-20</td><td>5e-24</td><td>24.57</td><td>0.03</td><td>1.8</td><td>0.227979805</td><td>3e-09</td><td>FermiAssoc</td><td>999999</td><td>309.8956823333636</td><td>-56.28584362499868</td><td>309.89567062611</td><td>-56.28584252894</td><td>6469722508861870080</td><td>309.89570154275</td><td>0.1246</td><td>-56.28590999423</td><td>0.1017</td><td>0.4887</td><td>0.166</td><td>15.663</td><td>3.861</td><td>0.137</td><td>-15.18</td><td>0.122</td><td>18.516928</td><td>18.93666</td><td>526.912</td><td>17.94355</td><td>0.993111</td><td>0.004452</td><td>0.021093</td><td>0.015786</td><td>0.0028514910660933537</td><td>0.02631249969558893</td><td>309.89568724988845</td><td>-56.28590788727222</td><td>2.1271524181402706</td><td>1.8937327926610976</td><td>True</td><td>0.9988676816823311</td><td>6.864060746613429</td><td>0.97796676875</td><td>2.0949999999999998</td><td>1.4689999999999999</td><td>2.969</td><td>0.046947116875</td><td>0.032919004625</td><td>0.066532692125</td><td>0.25001626147372896</td></tr>\n",
       "<tr><td>44</td><td>1.388665</td><td>2871</td><td>J2129-0429</td><td>322.4376625</td><td>0.001</td><td>-4.484886111111111</td><td>999999</td><td>0.001</td><td>12.34</td><td>0.15</td><td>10.19</td><td>0.14</td><td>0.424</td><td>0.088</td><td>55196.0</td><td>0.00762</td><td>0.0</td><td>1e+20</td><td>0.0</td><td>16.88</td><td>0.008</td><td>1.83</td><td>0.6352274131</td><td>3e-10</td><td>FermiAssoc,gbncc</td><td>1</td><td>322.43762823160563</td><td>-4.484914408916229</td><td>322.43769551642</td><td>-4.48527044451</td><td>2672030065446134656</td><td>322.43774947867</td><td>0.0605</td><td>-4.48522513793</td><td>0.0551</td><td>0.4831</td><td>0.07</td><td>15.825</td><td>12.104</td><td>0.074</td><td>10.194</td><td>0.06</td><td>16.819773</td><td>17.313456</td><td>2695.27</td><td>16.17139</td><td>1.142065</td><td>0.005223</td><td>0.016943</td><td>0.014238</td><td>0.0017069854578626504</td><td>1.3038053308779856</td><td>322.4377291294356</td><td>-4.485242135595245</td><td>0.7422670958818945</td><td>0.60236111405726</td><td>False</td><td>1.0</td><td>4.671159362461711</td><td>1.1190834525831892</td><td>2.6029999999999998</td><td>1.888</td><td>4.088</td><td>0.07124279699211386</td><td>0.071207</td><td>0.07130356837500927</td><td>0.2500058275307865</td></tr>\n",
       "<tr><td>45</td><td>0.114734</td><td>2724</td><td>J1955+2908</td><td>298.86614692916663</td><td>7.3e-06</td><td>29.145398136111112</td><td>999999</td><td>7.3e-06</td><td>-0.98</td><td>0.051</td><td>-4.05</td><td>0.059</td><td>-0.1</td><td>0.7</td><td>56833.0</td><td>0.006133166516234</td><td>3e-17</td><td>2.9739699999999995e-20</td><td>1.2e-24</td><td>104.516916</td><td>0.0</td><td>6.305</td><td>117.34909723</td><td>3e-08</td><td>misc,gbncc</td><td>999999</td><td>298.8661508707065</td><td>29.145414425125427</td><td>298.86611706641</td><td>29.14541645199</td><td>2028584968839606784</td><td>298.86610094843</td><td>0.102</td><td>29.14538166724</td><td>0.1372</td><td>0.4749</td><td>0.1695</td><td>8.443</td><td>-3.167</td><td>0.135</td><td>-7.827</td><td>0.167</td><td>18.697622</td><td>20.567337</td><td>852.629</td><td>17.420996</td><td>3.146341</td><td>0.003235</td><td>0.052916</td><td>0.007373</td><td>0.003113985431382901</td><td>0.14208032396367248</td><td>298.8661043288069</td><td>29.145384971960876</td><td>1.9573412184509162</td><td>2.4219029793572306</td><td>True</td><td>0.9708960880753676</td><td>3.190926206980599</td><td>2.25666289138874</td><td>3.546</td><td>1.849</td><td>6.781000000000001</td><td>2.7580021366949055</td><td>1.8908359361183205</td><td>3.3219601388742466</td><td>0.2500193930583523</td></tr>\n",
       "<tr><td>46</td><td>0.180114</td><td>2732</td><td>J1957+2516</td><td>299.3942145833333</td><td>0.0003</td><td>25.267243333333333</td><td>999999</td><td>0.0003</td><td>0.0</td><td>0.0</td><td>0.0</td><td>0.0</td><td>1e+20</td><td>0.0</td><td>56408.0</td><td>0.003961655342404</td><td>1e-15</td><td>2.7440000000000003e-20</td><td>9.000000000000001e-23</td><td>44.137</td><td>0.003</td><td>2.659</td><td>0.238144721</td><td>7e-10</td><td>palfa,FermiAssoc</td><td>999999</td><td>299.3942145833333</td><td>25.267243333333333</td><td>299.39423197493</td><td>25.26729082871</td><td>1834595731470345472</td><td>299.39420990475</td><td>0.3567</td><td>25.26723620265</td><td>0.6594</td><td>2.1498</td><td>0.8509</td><td>13.086</td><td>-4.491</td><td>0.523</td><td>-12.291</td><td>1.013</td><td>20.283342</td><td>1e+20</td><td>1e+20</td><td>1e+20</td><td>1e+20</td><td>0.006187</td><td>1e+20</td><td>1e+20</td><td>0.015204706224002568</td><td>0.007750418067362236</td><td>299.3942153638034</td><td>25.26724536724546</td><td>6.973155179123813</td><td>13.504747247026174</td><td>True</td><td>0.9630608224286872</td><td>5.896433179603218</td><td>1e+20</td><td>2.335</td><td>0.856</td><td>4.015000000000001</td><td>2.5454743958861274</td><td>0.5901287460772953</td><td>3.601956177976101</td><td>0.25046193940668554</td></tr>\n",
       "<tr><td>47</td><td>0.42897</td><td>2735</td><td>J1958+2846</td><td>299.6669583333333</td><td>0.03</td><td>28.765</td><td>999999</td><td>0.03</td><td>0.0</td><td>0.0</td><td>0.0</td><td>0.0</td><td>1e+20</td><td>0.0</td><td>54800.0</td><td>0.29038924475</td><td>5e-11</td><td>2.12038e-13</td><td>1.7e-17</td><td>1e+20</td><td>0.0</td><td>1.95</td><td>1e+20</td><td>0.0</td><td>FermiBlind</td><td>999999</td><td>299.6669583333333</td><td>28.764999999999997</td><td>299.66708982602</td><td>28.76503020454</td><td>2030000280820200960</td><td>299.66707138828</td><td>0.1574</td><td>28.76499792086</td><td>0.2116</td><td>0.3821</td><td>0.2603</td><td>8.123</td><td>-3.637</td><td>0.218</td><td>-7.264</td><td>0.284</td><td>19.341732</td><td>21.1286</td><td>462.552</td><td>18.084995</td><td>3.043604</td><td>0.003681</td><td>0.092291</td><td>0.012263</td><td>0.04254706261280758</td><td>0.38903834813961696</td><td>299.66708082134176</td><td>28.76501221993859</td><td>1.9494147658991088</td><td>2.540141541070437</td><td>True</td><td>0.9766823342247056</td><td>2.8220164286571947</td><td>1.8322626063676575</td><td>3.572</td><td>1.6849999999999998</td><td>7.949000000000001</td><td>3.7551583202602625</td><td>2.00708816669445</td><td>4.7749776799214425</td><td>0.25359466188580976</td></tr>\n",
       "<tr><td>48</td><td>0.238899</td><td>2737</td><td>J1959+2048</td><td>299.90320783333334</td><td>5e-05</td><td>20.804200611111114</td><td>999999</td><td>5e-05</td><td>-16.0</td><td>0.5</td><td>-25.8</td><td>0.6</td><td>1e+20</td><td>0.0</td><td>48196.0</td><td>0.0016074016848063</td><td>3e-17</td><td>1.68515e-20</td><td>9e-25</td><td>29.1168</td><td>0.0007</td><td>1.4</td><td>0.3819666069</td><td>8e-10</td><td>ar3</td><td>999999</td><td>299.9031670880472</td><td>20.804134909303883</td><td>299.9031846423</td><td>20.80413789111</td><td>1823773960079216896</td><td>299.9030930381</td><td>0.6353</td><td>20.80401984672</td><td>0.7032</td><td>1.1878</td><td>1.3556</td><td>32.812</td><td>-19.267</td><td>1.235</td><td>-26.56</td><td>1.244</td><td>20.172272</td><td>20.33053</td><td>122.281</td><td>19.529503</td><td>0.801027</td><td>0.024249</td><td>0.06001</td><td>0.209345</td><td>0.016098391713892907</td><td>0.0888543077481091</td><td>299.9032337073076</td><td>20.804205528307378</td><td>11.339911108483658</td><td>11.426269374805928</td><td>True</td><td>0.9636114480409366</td><td>8.443331934433205</td><td>0.5588252749573837</td><td>1.569</td><td>0.8260000000000001</td><td>2.406</td><td>0.7508253476321106</td><td>0.5025427632877163</td><td>0.9993039240543894</td><td>0.2505177802387965</td></tr>\n",
       "<tr><td>49</td><td>0.271223</td><td>2802</td><td>J2027+4557</td><td>306.81763749999993</td><td>0.003</td><td>45.96585555555556</td><td>999999</td><td>0.003</td><td>0.0</td><td>0.0</td><td>0.0</td><td>0.0</td><td>1e+20</td><td>0.0</td><td>54250.0</td><td>1.099651368044</td><td>7e-12</td><td>3.094e-16</td><td>4e-19</td><td>229.594</td><td>0.011</td><td>9.005</td><td>1e+20</td><td>0.0</td><td>gb350,misc,gbncc</td><td>999999</td><td>306.81763749999993</td><td>45.96585555555556</td><td>306.81770205656</td><td>45.96579503664</td><td>2071054503122390144</td><td>306.81771537777</td><td>0.0234</td><td>45.96578561394</td><td>0.0247</td><td>0.518</td><td>0.0267</td><td>2.972</td><td>2.083</td><td>0.034</td><td>-2.12</td><td>0.032</td><td>15.711028</td><td>16.39346</td><td>8690.97</td><td>14.900225</td><td>1.493235</td><td>0.002781</td><td>0.003825</td><td>0.004132</td><td>0.004256849615606618</td><td>0.29022585598954675</td><td>306.8177063424799</td><td>45.96579067458958</td><td>0.25293143419966063</td><td>0.23831562998437922</td><td>True</td><td>0.9833001951004775</td><td>1.6376718556134957</td><td>0.6445278576169065</td><td>1.9429999999999998</td><td>1.79</td><td>2.125</td><td>2.6309921413875905</td><td>2.3837257560471516</td><td>2.7197477077495553</td><td>0.25003623891078247</td></tr>\n",
       "</table><style>table.dataTable {clear: both; width: auto !important; margin: 0 !important;}\n",
       ".dataTables_info, .dataTables_length, .dataTables_filter, .dataTables_paginate{\n",
       "display: inline-block; margin-right: 1em; }\n",
       ".paginate_button { margin-right: 5px; }\n",
       "</style>\n",
       "<script>\n",
       "\n",
       "var astropy_sort_num = function(a, b) {\n",
       "    var a_num = parseFloat(a);\n",
       "    var b_num = parseFloat(b);\n",
       "\n",
       "    if (isNaN(a_num) && isNaN(b_num))\n",
       "        return ((a < b) ? -1 : ((a > b) ? 1 : 0));\n",
       "    else if (!isNaN(a_num) && !isNaN(b_num))\n",
       "        return ((a_num < b_num) ? -1 : ((a_num > b_num) ? 1 : 0));\n",
       "    else\n",
       "        return isNaN(a_num) ? -1 : 1;\n",
       "}\n",
       "\n",
       "require.config({paths: {\n",
       "    datatables: 'https://cdn.datatables.net/1.10.12/js/jquery.dataTables.min'\n",
       "}});\n",
       "require([\"datatables\"], function(){\n",
       "    console.log(\"$('#table4650016384-751589').dataTable()\");\n",
       "    \n",
       "jQuery.extend( jQuery.fn.dataTableExt.oSort, {\n",
       "    \"optionalnum-asc\": astropy_sort_num,\n",
       "    \"optionalnum-desc\": function (a,b) { return -astropy_sort_num(a, b); }\n",
       "});\n",
       "\n",
       "    $('#table4650016384-751589').dataTable({\n",
       "        order: [],\n",
       "        pageLength: 50,\n",
       "        lengthMenu: [[10, 25, 50, 100, 500, 1000, -1], [10, 25, 50, 100, 500, 1000, 'All']],\n",
       "        pagingType: \"full_numbers\",\n",
       "        columnDefs: [{targets: [0, 1, 2, 4, 5, 6, 7, 8, 9, 10, 11, 12, 13, 14, 15, 16, 17, 18, 19, 20, 21, 22, 23, 24, 26, 27, 28, 29, 30, 31, 32, 33, 34, 35, 36, 37, 38, 39, 40, 41, 42, 43, 44, 45, 46, 47, 48, 49, 50, 51, 52, 53, 54, 55, 56, 58, 59, 60, 61, 62, 63, 64, 65, 66, 67], type: \"optionalnum\"}]\n",
       "    });\n",
       "});\n",
       "</script>\n"
      ],
      "text/plain": [
       "<IPython.core.display.HTML object>"
      ]
     },
     "execution_count": 13,
     "metadata": {},
     "output_type": "execute_result"
    }
   ],
   "source": [
    "# edr3_antf = Table.read(\"../data/edr3_psrcatv1.65.fits\")\n",
    "edr3_antf = Table.read(\"../data/edr3_psrcatv1.66.fits\")\n",
    "\n",
    "edr3_antf.show_in_notebook()"
   ]
  },
  {
   "cell_type": "code",
   "execution_count": 14,
   "id": "822ed197",
   "metadata": {
    "ExecuteTime": {
     "end_time": "2022-01-27T07:34:46.115904Z",
     "start_time": "2022-01-27T07:34:46.110555Z"
    }
   },
   "outputs": [],
   "source": [
    "sou_list1 = [\n",
    "    \"J0045-7319\",\n",
    "    \"J0337+1715\",\n",
    "    \"J0348+0432\",\n",
    "    \"J0437-4715\",\n",
    "    \"J1012+5307\",\n",
    "    \"J1023+0038\",\n",
    "    \"J1024-0719\",\n",
    "    \"J1048+2339\",\n",
    "    \"J1227-4853\",\n",
    "    \"B1259-63\",\n",
    "    \"J1311-3430\",\n",
    "    \"J1417-4402\",\n",
    "    \"J1431-4715\",\n",
    "    \"J1723-2837\",\n",
    "    \"J1810+1744\",\n",
    "    \"J1816+4510\",\n",
    "    \"J1957+2516\",\n",
    "    \"B1957+20\",\n",
    "    \"J2032+4127\",\n",
    "    \"J2129-0429\",\n",
    "    \"J2215+5135\",\n",
    "    \"J2339-0533\",\n",
    "]\n",
    "\n",
    "sou_list2 = [\n",
    "    \"B0531+21\",\n",
    "    \"B0540-69\",\n",
    "    \"J1036-8317\",\n",
    "    \"J1622-0315\",\n",
    "    \"J1653-0158\",\n",
    "    \"J2039-5617\",\n",
    "]\n",
    "\n",
    "sou_list3 = [\n",
    "    \"B1953+29\",\n",
    "    \"J1435-6100\",\n",
    "]\n",
    "\n",
    "sou_list4 = [\n",
    "    \"J0534-6703\",\n",
    "    \"B0611+22\",\n",
    "    \"J0857-4424\",\n",
    "    \"B1302-64\",\n",
    "    \"J1306-4035\",\n",
    "    \"J1437-6146\",\n",
    "    \"J1509-6015\",\n",
    "    \"J1542-5133\",\n",
    "    \"J1546-5302\",\n",
    "    \"J1624-4411\",\n",
    "    \"J1624-4721\",\n",
    "    \"B1813-36\",\n",
    "    \"J1839-0905\",\n",
    "    \"B1848+12\",\n",
    "    \"J1852+0040\",\n",
    "    \"J1903-0258\",\n",
    "    \"J1928+1245\",\n",
    "    \"J1946+2052\",\n",
    "    \"J1958+2846\",\n",
    "    \"J2027+4557\",\n",
    "]"
   ]
  },
  {
   "cell_type": "code",
   "execution_count": 15,
   "id": "745c293d",
   "metadata": {
    "ExecuteTime": {
     "end_time": "2022-01-27T07:34:46.169450Z",
     "start_time": "2022-01-27T07:34:46.118903Z"
    }
   },
   "outputs": [
    {
     "name": "stdout",
     "output_type": "stream",
     "text": [
      "J0045-7319\n",
      "J0337+1715\n",
      "J0348+0432\n",
      "J0437-4715\n",
      "J1012+5307\n",
      "J1023+0038\n",
      "J1024-0719\n",
      "J1048+2339\n",
      "J1227-4853\n",
      "B1259-63\n",
      "J1311-3430\n",
      "J1417-4402\n",
      "J1431-4715\n",
      "J1723-2837\n",
      "J1810+1744\n",
      "J1816+4510\n",
      "J1957+2516\n",
      "B1957+20\n",
      "J2032+4127\n",
      "J2129-0429\n",
      "J2215+5135\n",
      "J2339-0533\n",
      "B0531+21\n",
      "B0540-69\n",
      "J1036-8317\n",
      "J1622-0315\n",
      "J1653-0158\n",
      "J2039-5617\n",
      "B1953+29\n",
      "J1435-6100\n",
      "J0534-6703\n",
      "B0611+22\n",
      "J0857-4424\n",
      "B1302-64\n",
      "J1306-4035\n",
      "J1437-6146\n",
      "J1509-6015\n",
      "J1542-5133\n",
      "J1546-5302\n",
      "J1624-4411\n",
      "J1624-4721\n",
      "B1813-36\n",
      "J1839-0905\n",
      "B1848+12\n",
      "J1852+0040\n",
      "J1903-0258\n",
      "J1928+1245\n",
      "J1946+2052\n",
      "J1958+2846\n",
      "J2027+4557\n"
     ]
    }
   ],
   "source": [
    "sou_list0 = sou_list1 + sou_list2 + sou_list3 + sou_list4\n",
    "\n",
    "for name in sou_list0:\n",
    "    print(name)"
   ]
  },
  {
   "cell_type": "code",
   "execution_count": 16,
   "id": "d320c3ae",
   "metadata": {
    "ExecuteTime": {
     "end_time": "2022-01-27T07:34:46.175598Z",
     "start_time": "2022-01-27T07:34:46.170893Z"
    }
   },
   "outputs": [],
   "source": [
    "tab = edr3_antf[\"name\", \"TrueAngDist\", \"poserror_sys\", \"Pass\",\n",
    "                \"parallax\", \"parallax_error\", \"px\", \"pxerr\", \n",
    "                \"pmra\", \"pmra_error\", \"pmdec\", \"pmdec_error\", \n",
    "                \"pmra_radio\", \"pmraerr\", \"pmdec_radio\", \"pmdecerr\", \n",
    "                \"p0\", \"p0err\", \"pb\", \"pberr\", \n",
    "                \"phot_g_mean_mag\",\"phot_g_mean_mag_error\", \"g_abs\", \n",
    "                \"distance\", \"distance_min\", \"distance_max\", \"dist\"]"
   ]
  },
  {
   "cell_type": "code",
   "execution_count": 17,
   "id": "eb04c9b6",
   "metadata": {
    "ExecuteTime": {
     "end_time": "2022-01-27T07:34:46.225731Z",
     "start_time": "2022-01-27T07:34:46.178580Z"
    },
    "scrolled": true
   },
   "outputs": [
    {
     "name": "stdout",
     "output_type": "stream",
     "text": [
      "J0045-7319\n",
      "J0337+1715\n",
      "J0348+0432\n",
      "J0437-4715\n",
      "J0857-4424\n",
      "J1012+5307\n",
      "J1023+0038\n",
      "J1024-0719\n",
      "J1036-8317\n",
      "J0534+2200\n",
      "J1227-4853\n",
      "J1302-6350\n",
      "J1305-6455\n",
      "J1417-4402\n",
      "J1431-4715\n",
      "J1435-6100\n",
      "J1306-4035\n",
      "J1311-3430\n",
      "J1437-6146\n",
      "J1509-6015\n",
      "J1048+2339\n",
      "J1542-5133\n",
      "J1546-5302\n",
      "J0534-6703\n",
      "J0540-6919\n",
      "J0614+2229\n",
      "J1622-0315\n",
      "J1624-4411\n",
      "J1624-4721\n",
      "J1653-0158\n",
      "J1723-2837\n",
      "J1839-0905\n",
      "J1810+1744\n",
      "J2215+5135\n",
      "J2339-0533\n",
      "J1816+4510\n",
      "J1817-3618\n",
      "J1851+1259\n",
      "J1852+0040\n",
      "J1928+1245\n",
      "J1903-0258\n",
      "J1946+2052\n",
      "J2032+4127\n",
      "J2039-5617\n",
      "J2129-0429\n",
      "J1955+2908\n",
      "J1957+2516\n",
      "J1958+2846\n",
      "J1959+2048\n",
      "J2027+4557\n"
     ]
    }
   ],
   "source": [
    "for namei in tab[\"name\"]:\n",
    "    print(namei)"
   ]
  },
  {
   "cell_type": "code",
   "execution_count": 18,
   "id": "b8a6829d",
   "metadata": {
    "ExecuteTime": {
     "end_time": "2022-01-27T07:34:46.232856Z",
     "start_time": "2022-01-27T07:34:46.228484Z"
    }
   },
   "outputs": [],
   "source": [
    "def find_element(sou_list, tab):\n",
    "        \n",
    "    sub_table = []\n",
    "\n",
    "    for sou_name in sou_list:\n",
    "        mask = tab[\"name\"] == sou_name\n",
    "        sub_table.append(tab[mask])\n",
    "        \n",
    "    new_table = vstack(sub_table)\n",
    "    \n",
    "    return new_table"
   ]
  },
  {
   "cell_type": "code",
   "execution_count": 19,
   "id": "6eb15037",
   "metadata": {
    "ExecuteTime": {
     "end_time": "2022-01-27T07:34:46.361602Z",
     "start_time": "2022-01-27T07:34:46.235558Z"
    }
   },
   "outputs": [],
   "source": [
    "tab1 = find_element(sou_list1, tab)\n",
    "tab2 = find_element(sou_list2, tab)\n",
    "tab3 = find_element(sou_list3, tab)\n",
    "tab4 = find_element(sou_list4, tab)"
   ]
  },
  {
   "cell_type": "code",
   "execution_count": 20,
   "id": "83ede230",
   "metadata": {
    "ExecuteTime": {
     "end_time": "2022-01-27T07:34:46.366949Z",
     "start_time": "2022-01-27T07:34:46.363959Z"
    }
   },
   "outputs": [],
   "source": [
    "new_sou = [\n",
    "    \"B0611+22\", \"B1302-64\", \"B1813-36\", \"J0857-4424\", \"J1036-8317\",\n",
    "    \"J1306-4035\", \"J1622-0315\", \"J1653-0158\", \"J1839-0905\", \"J1928+1245\",\n",
    "    \"J1946+2052\", \"J2039-5617\"\n",
    "]"
   ]
  },
  {
   "cell_type": "code",
   "execution_count": 21,
   "id": "f7f33524",
   "metadata": {
    "ExecuteTime": {
     "end_time": "2022-01-27T07:34:46.387207Z",
     "start_time": "2022-01-27T07:34:46.371431Z"
    },
    "scrolled": false
   },
   "outputs": [],
   "source": [
    "def print_tab(tab, new_sou):\n",
    "    for i in range(len(tab)):\n",
    "        print(\"%\")\n",
    "\n",
    "        if tab[\"name\"][i] in new_sou:\n",
    "            line_arr1 = [\"%10s\\\\tablefootmark{a}  \" % tab[\"name\"][i]]\n",
    "        else:\n",
    "            line_arr1 = [\"{:10s}  \".format(tab[\"name\"][i])]\n",
    "\n",
    "        # Separation\n",
    "        line_arr1.append(\"&{:7.4f}  &{:7.4f}  &{:4.2f}  \".format(\n",
    "            tab[\"TrueAngDist\"][i], tab[\"poserror_sys\"][i], tab[\"Pass\"][i]))\n",
    "        line_arr2 = [\"&  &  &  \"]\n",
    "\n",
    "        # Gaia parallax\n",
    "        if tab[\"parallax\"][i] <= 1e10:\n",
    "            line_arr1.append(\"&${:7.3f}$  \".format(tab[\"parallax\"][i]))\n",
    "            line_arr2.append(\"&$\\\\pm %7.3f$  \" % tab[\"parallax_error\"][i])\n",
    "        else:\n",
    "            line_arr1.append(\"& --  \")\n",
    "            line_arr2.append(\"&     \")\n",
    "\n",
    "        # Timing parallax\n",
    "        if tab[\"px\"][i] <= 1e10:\n",
    "            line_arr1.append(\"&${:7.2f}$  \".format(tab[\"px\"][i]))\n",
    "            line_arr2.append(\"&$\\\\pm %7.2f$  \" % tab[\"pxerr\"][i])\n",
    "        else:\n",
    "            line_arr1.append(\"& --  \")\n",
    "            line_arr2.append(\"&     \")\n",
    "\n",
    "        # Gaia pm in ra\n",
    "        if tab[\"pmra\"][i] <= 1e10:\n",
    "            line_arr1.append(\"&${:7.3f}$  \".format(tab[\"pmra\"][i]))\n",
    "            line_arr2.append(\"&$\\\\pm %7.3f$  \" % tab[\"pmra_error\"][i])\n",
    "        else:\n",
    "            line_arr1.append(\"& --  \")\n",
    "            line_arr2.append(\"&     \")\n",
    "\n",
    "        # Gaia pm in dec\n",
    "        if tab[\"pmdec\"][i] <= 1e10:\n",
    "            line_arr1.append(\"&${:7.3f}$  \".format(tab[\"pmdec\"][i]))\n",
    "            line_arr2.append(\"&$\\\\pm %7.3f$  \" % tab[\"pmdec_error\"][i])\n",
    "        else:\n",
    "            line_arr1.append(\"& --  \")\n",
    "            line_arr2.append(\"&     \")\n",
    "\n",
    "        # Timing pm in ra\n",
    "        if tab[\"pmra_radio\"][i]:\n",
    "            line_arr1.append(\"&${:7.2f}$  \".format(tab[\"pmra_radio\"][i]))\n",
    "            line_arr2.append(\"&$\\\\pm %7.2f$  \" % tab[\"pmraerr\"][i])\n",
    "        else:\n",
    "            line_arr1.append(\"& --  \")\n",
    "            line_arr2.append(\"&     \")\n",
    "\n",
    "        # Timing pm in dec\n",
    "        if tab[\"pmdec_radio\"][i]:\n",
    "            line_arr1.append(\"&${:7.2f}$  \".format(tab[\"pmdec_radio\"][i]))\n",
    "            line_arr2.append(\"&$\\\\pm %7.2f$  \" % tab[\"pmdecerr\"][i])\n",
    "        else:\n",
    "            line_arr1.append(\"& --  \")\n",
    "            line_arr2.append(\"&     \")\n",
    "\n",
    "        # Spin period\n",
    "        line_arr1.append(\"&{:6.3f}  \".format(tab[\"p0\"][i]))\n",
    "        line_arr2.append(\"&     \")\n",
    "\n",
    "        # Orbital period\n",
    "        if tab[\"pb\"][i] < 1e10:\n",
    "            line_arr1.append(\"&{:10.2f}  \".format(tab[\"pb\"][i]))\n",
    "            line_arr2.append(\"&$\\\\pm %7.2f$  \" % tab[\"pberr\"][i])\n",
    "        else:\n",
    "            line_arr1.append(\"& --  \")\n",
    "            line_arr2.append(\"&     \")\n",
    "\n",
    "        # G-mag\n",
    "        line_arr1.append(\"&{:5.2f}  \".format(tab[\"phot_g_mean_mag\"][i]))\n",
    "        line_arr2.append(\"&     \")\n",
    "\n",
    "        # absolute G-mag\n",
    "        line_arr1.append(\"&{:5.2f}  \".format(tab[\"g_abs\"][i]))\n",
    "        line_arr2.append(\"&     \")\n",
    "\n",
    "        # Distance from trigonometric parallax\n",
    "        line_arr1.append(\"&{:5.2f}  \".format(tab[\"distance\"][i]))\n",
    "        line_arr2.append(\"&${}^{%+5.2f}_{%+5.2f}$ \" % (\n",
    "            tab[\"distance_max\"][i] - tab[\"distance\"][i],\n",
    "            tab[\"distance_min\"][i] - tab[\"distance\"][i],\n",
    "        ))\n",
    "\n",
    "        # Distance from DM measurement\n",
    "        line_arr1.append(\"&{:5.2f}  \".format(tab[\"dist\"][i]))\n",
    "        line_arr2.append(\"&      \")\n",
    "\n",
    "        # End of the line\n",
    "        line_arr1.append(\"\\\\\\\\\")\n",
    "        line_arr2.append(\"\\\\\\\\\")\n",
    "\n",
    "        line1 = \"\".join(line_arr1)\n",
    "        line2 = \"\".join(line_arr2)\n",
    "\n",
    "        print(line1)\n",
    "        print(line2)\n",
    "\n",
    "    print(\"%\")"
   ]
  },
  {
   "cell_type": "code",
   "execution_count": 22,
   "id": "fd5c6e87",
   "metadata": {
    "ExecuteTime": {
     "end_time": "2022-01-27T07:34:46.392309Z",
     "start_time": "2022-01-27T07:34:46.389485Z"
    },
    "scrolled": false
   },
   "outputs": [],
   "source": [
    "# print_tab(tab1, new_sou)"
   ]
  },
  {
   "cell_type": "code",
   "execution_count": 23,
   "id": "bac77e3c",
   "metadata": {
    "ExecuteTime": {
     "end_time": "2022-01-27T07:34:46.397858Z",
     "start_time": "2022-01-27T07:34:46.394921Z"
    }
   },
   "outputs": [],
   "source": [
    "# print_tab(tab2, new_sou)"
   ]
  },
  {
   "cell_type": "code",
   "execution_count": 24,
   "id": "cadd93e2",
   "metadata": {
    "ExecuteTime": {
     "end_time": "2022-01-27T07:34:46.401704Z",
     "start_time": "2022-01-27T07:34:46.399903Z"
    }
   },
   "outputs": [],
   "source": [
    "# print_tab(tab3, new_sou)"
   ]
  },
  {
   "cell_type": "code",
   "execution_count": 25,
   "id": "c2b5b4b4",
   "metadata": {
    "ExecuteTime": {
     "end_time": "2022-01-27T07:34:46.405534Z",
     "start_time": "2022-01-27T07:34:46.403799Z"
    }
   },
   "outputs": [],
   "source": [
    "# print_tab(tab4, new_sou)"
   ]
  },
  {
   "cell_type": "markdown",
   "id": "a88563eb",
   "metadata": {},
   "source": [
    "I also made a similar plot for Antoniadis' result."
   ]
  },
  {
   "cell_type": "code",
   "execution_count": 26,
   "id": "1176ac12",
   "metadata": {
    "ExecuteTime": {
     "end_time": "2022-01-27T07:34:47.783295Z",
     "start_time": "2022-01-27T07:34:46.407401Z"
    }
   },
   "outputs": [],
   "source": [
    "tab = Table.read(\"../data/gaia_atnf_ant2021.dat\", format=\"ascii\")\n",
    "\n",
    "mask = np.where(tab[\"Pass\"] >= 0.9, True,\n",
    "                False)\n",
    "\n",
    "tab = tab[mask]"
   ]
  },
  {
   "cell_type": "code",
   "execution_count": 28,
   "id": "66007764",
   "metadata": {
    "ExecuteTime": {
     "end_time": "2022-01-27T07:34:47.799515Z",
     "start_time": "2022-01-27T07:34:47.794906Z"
    }
   },
   "outputs": [],
   "source": [
    "sou_list1 = [\n",
    "    \"J0045-7319\",\n",
    "    \"J0337+1715\",\n",
    "    \"J0348+0432\",\n",
    "    \"J0437-4715\",\n",
    "    \"J1012+5307\",\n",
    "    \"J1023+0038\",\n",
    "    \"J1024-0719\",\n",
    "    \"J1048+2339\",\n",
    "    \"J1227-4853\",\n",
    "    \"B1259-63\",\n",
    "    \"J1311-3430\",\n",
    "    \"J1417-4402\",\n",
    "    \"J1431-4715\",\n",
    "    \"J1723-2837\",\n",
    "    \"J1810+1744\",\n",
    "    \"J1816+4510\",\n",
    "    \"J1957+2516\",\n",
    "    \"B1957+20\",\n",
    "    \"J2032+4127\",\n",
    "    \"J2129-0429\",\n",
    "    \"J2215+5135\",\n",
    "    \"J2339-0533\",\n",
    "]\n",
    "\n",
    "sou_list2 = [\n",
    "    \"B0531+21\",\n",
    "    \"B0540-69\",\n",
    "]\n",
    "\n",
    "sou_list3 = [\n",
    "    \"B1953+29\",\n",
    "    \"J1435-6100\",\n",
    "]\n",
    "\n",
    "sou_list4 = [\n",
    "    \"J0534-6703\",\n",
    "    \"J1437-6146\",\n",
    "    \"J1509-6015\",\n",
    "    \"J1542-5133\",\n",
    "    \"J1546-5302\",\n",
    "    \"J1624-4411\",\n",
    "    \"J1624-4721\",\n",
    "    \"J1638-4608\",\n",
    "    \"J1838-0549\",\n",
    "    \"B1848+12\",\n",
    "    \"J1852+0040\",\n",
    "    \"J1903-0258\",\n",
    "    \"J1958+2846\",\n",
    "    \"J2027+4557\",\n",
    "]"
   ]
  },
  {
   "cell_type": "code",
   "execution_count": 29,
   "id": "030ef2ac",
   "metadata": {
    "ExecuteTime": {
     "end_time": "2022-01-27T07:34:47.956904Z",
     "start_time": "2022-01-27T07:34:47.801214Z"
    }
   },
   "outputs": [],
   "source": [
    "tab1 = find_element(sou_list1, tab)\n",
    "tab2 = find_element(sou_list2, tab)\n",
    "tab3 = find_element(sou_list3, tab)\n",
    "tab4 = find_element(sou_list4, tab)"
   ]
  },
  {
   "cell_type": "code",
   "execution_count": 30,
   "id": "8ef8b2fd",
   "metadata": {
    "ExecuteTime": {
     "end_time": "2022-01-27T07:34:47.962710Z",
     "start_time": "2022-01-27T07:34:47.959870Z"
    },
    "scrolled": false
   },
   "outputs": [],
   "source": [
    "# print_tab(tab1, new_sou)"
   ]
  },
  {
   "cell_type": "code",
   "execution_count": 31,
   "id": "93ce89fb",
   "metadata": {
    "ExecuteTime": {
     "end_time": "2022-01-27T07:34:47.967759Z",
     "start_time": "2022-01-27T07:34:47.965178Z"
    }
   },
   "outputs": [],
   "source": [
    "# print_tab(tab2, new_sou)"
   ]
  },
  {
   "cell_type": "code",
   "execution_count": 32,
   "id": "022320dc",
   "metadata": {
    "ExecuteTime": {
     "end_time": "2022-01-27T07:34:47.971959Z",
     "start_time": "2022-01-27T07:34:47.969434Z"
    }
   },
   "outputs": [],
   "source": [
    "# print_tab(tab3, new_sou)"
   ]
  },
  {
   "cell_type": "code",
   "execution_count": 33,
   "id": "14134444",
   "metadata": {
    "ExecuteTime": {
     "end_time": "2022-01-27T07:34:47.976072Z",
     "start_time": "2022-01-27T07:34:47.973622Z"
    },
    "scrolled": false
   },
   "outputs": [],
   "source": [
    "# print_tab(tab4, new_sou)"
   ]
  },
  {
   "cell_type": "code",
   "execution_count": 34,
   "id": "ea07727e",
   "metadata": {
    "ExecuteTime": {
     "end_time": "2022-01-27T07:34:47.984983Z",
     "start_time": "2022-01-27T07:34:47.979119Z"
    },
    "scrolled": true
   },
   "outputs": [
    {
     "name": "stdout",
     "output_type": "stream",
     "text": [
      "B0531+21\n",
      "B0540-69\n"
     ]
    }
   ],
   "source": [
    "for name in sou_list2:\n",
    "    print(name)"
   ]
  }
 ],
 "metadata": {
  "hide_input": false,
  "kernelspec": {
   "display_name": "Python 3 (ipykernel)",
   "language": "python",
   "name": "python3"
  },
  "language_info": {
   "codemirror_mode": {
    "name": "ipython",
    "version": 3
   },
   "file_extension": ".py",
   "mimetype": "text/x-python",
   "name": "python",
   "nbconvert_exporter": "python",
   "pygments_lexer": "ipython3",
   "version": "3.9.12"
  }
 },
 "nbformat": 4,
 "nbformat_minor": 5
}
