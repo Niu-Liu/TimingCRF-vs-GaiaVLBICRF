{
 "cells": [
  {
   "cell_type": "markdown",
   "id": "7f4d401e",
   "metadata": {},
   "source": [
    "This code is used to reformat the data quoted from various papers, \n",
    "then compare the pulsar positions from timing and Gaia astrometry."
   ]
  },
  {
   "cell_type": "code",
   "execution_count": 34,
   "id": "9dbaa63a",
   "metadata": {
    "ExecuteTime": {
     "end_time": "2022-08-17T06:49:24.221036Z",
     "start_time": "2022-08-17T06:49:24.215391Z"
    }
   },
   "outputs": [],
   "source": [
    "from functools import reduce\n",
    "\n",
    "import numpy as np\n",
    "from matplotlib import pyplot as plt\n",
    "from matplotlib.ticker import MultipleLocator\n",
    "\n",
    "from astropy.table import Table, join\n",
    "from astropy import units as u\n",
    "\n",
    "import seaborn as sns\n",
    "\n",
    "from psrcrf_tools import *\n",
    "\n",
    "# %config InlineBackend.figure_format = \"svg\""
   ]
  },
  {
   "cell_type": "markdown",
   "id": "c922fcee",
   "metadata": {},
   "source": [
    "# 1. Data preparation"
   ]
  },
  {
   "cell_type": "markdown",
   "id": "638fbd76",
   "metadata": {},
   "source": [
    "Read the timing solution data."
   ]
  },
  {
   "cell_type": "code",
   "execution_count": 2,
   "id": "7bc0f6e1",
   "metadata": {
    "ExecuteTime": {
     "end_time": "2022-08-17T04:34:59.911608Z",
     "start_time": "2022-08-17T04:34:59.894604Z"
    },
    "scrolled": true
   },
   "outputs": [],
   "source": [
    "timing_table = Table.read(\"../data/timing_edr3.fits\",)\n",
    "timing_table.sort(\"psr_name\")"
   ]
  },
  {
   "cell_type": "markdown",
   "id": "c47143ce",
   "metadata": {},
   "source": [
    "Add unit information"
   ]
  },
  {
   "cell_type": "code",
   "execution_count": 3,
   "id": "2448bb60",
   "metadata": {
    "ExecuteTime": {
     "end_time": "2022-08-17T04:34:59.917405Z",
     "start_time": "2022-08-17T04:34:59.915021Z"
    }
   },
   "outputs": [],
   "source": [
    "timing_table[\"plx\"].unit = u.mas\n",
    "timing_table[\"plx_err\"].unit = u.mas"
   ]
  },
  {
   "cell_type": "markdown",
   "id": "61b7c9f6",
   "metadata": {},
   "source": [
    "Load the cross-match table."
   ]
  },
  {
   "cell_type": "code",
   "execution_count": 4,
   "id": "de73f913",
   "metadata": {
    "ExecuteTime": {
     "end_time": "2022-08-17T04:34:59.955531Z",
     "start_time": "2022-08-17T04:34:59.919050Z"
    }
   },
   "outputs": [],
   "source": [
    "# edr3_antf_table = Table.read(\"../data/edr3_psrcatv1.65.fits\")\n",
    "# edr3_antf_table = Table.read(\"../data/edr3_psrcatv1.66.fits\")\n",
    "edr3_antf_table = Table.read(\"../data/edr3_psrcatv1.67.fits\")\n",
    "\n",
    "# edr3_antf_table.show_in_notebook()"
   ]
  },
  {
   "cell_type": "markdown",
   "id": "9dbbff3c",
   "metadata": {
    "ExecuteTime": {
     "end_time": "2021-12-04T06:36:56.855768Z",
     "start_time": "2021-12-04T06:36:56.850239Z"
    }
   },
   "source": [
    "Only keep the astrometric parameters from Gaia."
   ]
  },
  {
   "cell_type": "code",
   "execution_count": 5,
   "id": "34d2ecc3",
   "metadata": {
    "ExecuteTime": {
     "end_time": "2022-08-17T04:34:59.961847Z",
     "start_time": "2022-08-17T04:34:59.957526Z"
    }
   },
   "outputs": [],
   "source": [
    "edr3_antf_table = edr3_antf_table['name', 'source_id', 'parallax',\n",
    "                                  'parallax_error', ]\n",
    "\n",
    "edr3_antf_table.rename_columns([\n",
    "    \"name\",\n",
    "    \"parallax\",\n",
    "    \"parallax_error\",\n",
    "], [\"psr_name\", \"plx\", \"plx_err\"])"
   ]
  },
  {
   "cell_type": "markdown",
   "id": "d227530d",
   "metadata": {},
   "source": [
    "Add unit information"
   ]
  },
  {
   "cell_type": "code",
   "execution_count": 6,
   "id": "5622099d",
   "metadata": {
    "ExecuteTime": {
     "end_time": "2022-08-17T04:34:59.966914Z",
     "start_time": "2022-08-17T04:34:59.964527Z"
    }
   },
   "outputs": [],
   "source": [
    "edr3_antf_table[\"plx\"].unit = u.mas\n",
    "edr3_antf_table[\"plx_err\"].unit = u.mas"
   ]
  },
  {
   "cell_type": "markdown",
   "id": "0ad2adb4",
   "metadata": {},
   "source": [
    "Supplement the timing table with the Gaia astrometrical information."
   ]
  },
  {
   "cell_type": "code",
   "execution_count": 7,
   "id": "66180e36",
   "metadata": {
    "ExecuteTime": {
     "end_time": "2022-08-17T04:34:59.975071Z",
     "start_time": "2022-08-17T04:34:59.969043Z"
    }
   },
   "outputs": [],
   "source": [
    "edr3_timing = join(timing_table,\n",
    "                   edr3_antf_table,\n",
    "                   keys=\"psr_name\",\n",
    "                   join_type=\"left\",\n",
    "                   table_names=[\"t\", \"g\"])\n",
    "\n",
    "# Remove pulsars that do not have proper motion information in Gaia EDR3\n",
    "mask = (edr3_timing[\"plx_g\"] < 1e10)\n",
    "edr3_timing = edr3_timing[mask]"
   ]
  },
  {
   "cell_type": "code",
   "execution_count": 8,
   "id": "4f52eb7f",
   "metadata": {
    "ExecuteTime": {
     "end_time": "2022-08-17T04:34:59.981909Z",
     "start_time": "2022-08-17T04:34:59.977706Z"
    }
   },
   "outputs": [
    {
     "name": "stdout",
     "output_type": "stream",
     "text": [
      "There are 4 pulsars with 20 measurements.\n"
     ]
    }
   ],
   "source": [
    "edr3_timing_pm = edr3_timing[(edr3_timing[\"plx_err_t\"] != 0)]\n",
    "count_psr_nb(edr3_timing_pm)"
   ]
  },
  {
   "cell_type": "code",
   "execution_count": 9,
   "id": "58c0c929",
   "metadata": {
    "ExecuteTime": {
     "end_time": "2022-08-17T04:34:59.994143Z",
     "start_time": "2022-08-17T04:34:59.987147Z"
    },
    "scrolled": false
   },
   "outputs": [
    {
     "data": {
      "text/html": [
       "<div><i>Table length=20</i>\n",
       "<table id=\"table140510419840736\" class=\"table-striped table-bordered table-condensed\">\n",
       "<thead><tr><th>psr_name</th><th>plx_t</th><th>plx_g</th><th>ref</th><th>eph</th></tr></thead>\n",
       "<thead><tr><th></th><th>mas</th><th>mas</th><th></th><th></th></tr></thead>\n",
       "<thead><tr><th>bytes12</th><th>float64</th><th>float64</th><th>bytes6</th><th>bytes5</th></tr></thead>\n",
       "<tr><td>J0437-4715</td><td>6.373</td><td>7.1008</td><td>rhc+16</td><td>DE421</td></tr>\n",
       "<tr><td>J0437-4715</td><td>6.441</td><td>7.1008</td><td>vlh+16</td><td>DE421</td></tr>\n",
       "<tr><td>J0437-4715</td><td>1.0</td><td>7.1008</td><td>bbm+97</td><td>DE200</td></tr>\n",
       "<tr><td>J0437-4715</td><td>6.418</td><td>7.1008</td><td>pdd+19</td><td>DE436</td></tr>\n",
       "<tr><td>J1012+5307</td><td>1.3</td><td>1.7448</td><td>abb+18</td><td>DE436</td></tr>\n",
       "<tr><td>J1012+5307</td><td>0.782</td><td>1.7448</td><td>vlh+16</td><td>DE421</td></tr>\n",
       "<tr><td>J1012+5307</td><td>0.933</td><td>1.7448</td><td>pdd+19</td><td>DE436</td></tr>\n",
       "<tr><td>J1012+5307</td><td>1.22</td><td>1.7448</td><td>lwj+09</td><td>DE405</td></tr>\n",
       "<tr><td>J1012+5307</td><td>1.0</td><td>1.7448</td><td>mnf+16</td><td>DE421</td></tr>\n",
       "<tr><td>J1012+5307</td><td>0.71</td><td>1.7448</td><td>dcl+16</td><td>DE421</td></tr>\n",
       "<tr><td>J1024-0719</td><td>0.526</td><td>0.8572</td><td>rhc+16</td><td>DE421</td></tr>\n",
       "<tr><td>J1024-0719</td><td>0.8</td><td>0.8572</td><td>dcl+16</td><td>DE421</td></tr>\n",
       "<tr><td>J1024-0719</td><td>0.83</td><td>0.8572</td><td>rsc+21</td><td>DE436</td></tr>\n",
       "<tr><td>J1024-0719</td><td>0.6</td><td>0.8572</td><td>mnf+16</td><td>DE421</td></tr>\n",
       "<tr><td>J1024-0719</td><td>0.831</td><td>0.8572</td><td>vlh+16</td><td>DE421</td></tr>\n",
       "<tr><td>J1024-0719</td><td>0.8</td><td>0.8572</td><td>abb+18</td><td>DE436</td></tr>\n",
       "<tr><td>J1024-0719</td><td>0.822</td><td>0.8572</td><td>pdd+19</td><td>DE436</td></tr>\n",
       "<tr><td>J1955+2908</td><td>0.0</td><td>0.4749</td><td>abb+18</td><td>DE436</td></tr>\n",
       "<tr><td>J1955+2908</td><td>-4.0</td><td>0.4749</td><td>mnf+16</td><td>DE421</td></tr>\n",
       "<tr><td>J1955+2908</td><td>-1.178</td><td>0.4749</td><td>pdd+19</td><td>DE436</td></tr>\n",
       "</table></div>"
      ],
      "text/plain": [
       "<Table length=20>\n",
       " psr_name   plx_t   plx_g   ref    eph  \n",
       "             mas     mas                \n",
       " bytes12   float64 float64 bytes6 bytes5\n",
       "---------- ------- ------- ------ ------\n",
       "J0437-4715   6.373  7.1008 rhc+16  DE421\n",
       "J0437-4715   6.441  7.1008 vlh+16  DE421\n",
       "J0437-4715     1.0  7.1008 bbm+97  DE200\n",
       "J0437-4715   6.418  7.1008 pdd+19  DE436\n",
       "J1012+5307     1.3  1.7448 abb+18  DE436\n",
       "J1012+5307   0.782  1.7448 vlh+16  DE421\n",
       "J1012+5307   0.933  1.7448 pdd+19  DE436\n",
       "J1012+5307    1.22  1.7448 lwj+09  DE405\n",
       "J1012+5307     1.0  1.7448 mnf+16  DE421\n",
       "J1012+5307    0.71  1.7448 dcl+16  DE421\n",
       "J1024-0719   0.526  0.8572 rhc+16  DE421\n",
       "J1024-0719     0.8  0.8572 dcl+16  DE421\n",
       "J1024-0719    0.83  0.8572 rsc+21  DE436\n",
       "J1024-0719     0.6  0.8572 mnf+16  DE421\n",
       "J1024-0719   0.831  0.8572 vlh+16  DE421\n",
       "J1024-0719     0.8  0.8572 abb+18  DE436\n",
       "J1024-0719   0.822  0.8572 pdd+19  DE436\n",
       "J1955+2908     0.0  0.4749 abb+18  DE436\n",
       "J1955+2908    -4.0  0.4749 mnf+16  DE421\n",
       "J1955+2908  -1.178  0.4749 pdd+19  DE436"
      ]
     },
     "execution_count": 9,
     "metadata": {},
     "output_type": "execute_result"
    }
   ],
   "source": [
    "edr3_timing_pm[\"psr_name\", \"plx_t\", \"plx_g\", \"ref\", \"eph\"]"
   ]
  },
  {
   "cell_type": "markdown",
   "id": "5954f842",
   "metadata": {},
   "source": [
    "## DE200 vs. Gaia EDR3"
   ]
  },
  {
   "cell_type": "code",
   "execution_count": 10,
   "id": "6daae9b3",
   "metadata": {
    "ExecuteTime": {
     "end_time": "2022-08-17T04:35:00.004184Z",
     "start_time": "2022-08-17T04:34:59.996642Z"
    },
    "scrolled": false
   },
   "outputs": [
    {
     "data": {
      "text/html": [
       "<div><i>Table length=1</i>\n",
       "<table id=\"table140510419839536\" class=\"table-striped table-bordered table-condensed\">\n",
       "<thead><tr><th>psr_bname</th><th>psr_name</th><th>pos_epoch</th><th>eph</th><th>ra</th><th>dec</th><th>pmra</th><th>pmdec</th><th>plx_t</th><th>ra_err</th><th>dec_err</th><th>pmra_err</th><th>pmdec_err</th><th>plx_err_t</th><th>ref</th><th>comment</th><th>source_id</th><th>plx_g</th><th>plx_err_g</th></tr></thead>\n",
       "<thead><tr><th></th><th></th><th>d</th><th></th><th></th><th></th><th></th><th></th><th>mas</th><th></th><th></th><th></th><th></th><th>mas</th><th></th><th></th><th></th><th>mas</th><th>mas</th></tr></thead>\n",
       "<thead><tr><th>bytes10</th><th>bytes12</th><th>float64</th><th>bytes5</th><th>float64</th><th>float64</th><th>float64</th><th>float64</th><th>float64</th><th>float64</th><th>float64</th><th>float64</th><th>float64</th><th>float64</th><th>bytes6</th><th>bytes13</th><th>int64</th><th>float64</th><th>float64</th></tr></thead>\n",
       "<tr><td>J0437-4715</td><td>J0437-4715</td><td>49615.0</td><td>DE200</td><td>69.31556254166667</td><td>-47.25226463888889</td><td>121.3</td><td>-70.4</td><td>1.0</td><td>0.20363151618244418</td><td>0.2</td><td>0.2</td><td>0.30000000000000004</td><td>5.0</td><td>bbm+97</td><td></td><td>4789864076732331648</td><td>7.1008</td><td>0.5245</td></tr>\n",
       "</table></div>"
      ],
      "text/plain": [
       "<Table length=1>\n",
       "psr_bname   psr_name  pos_epoch  eph           ra               dec           pmra   pmdec   plx_t         ra_err       dec_err pmra_err      pmdec_err      plx_err_t  ref   comment      source_id       plx_g  plx_err_g\n",
       "                          d                                                                   mas                                                               mas                                         mas      mas   \n",
       " bytes10    bytes12    float64  bytes5      float64           float64       float64 float64 float64       float64       float64 float64        float64        float64  bytes6 bytes13        int64        float64  float64 \n",
       "---------- ---------- --------- ------ ----------------- ------------------ ------- ------- ------- ------------------- ------- -------- ------------------- --------- ------ ------- ------------------- ------- ---------\n",
       "J0437-4715 J0437-4715   49615.0  DE200 69.31556254166667 -47.25226463888889   121.3   -70.4     1.0 0.20363151618244418     0.2      0.2 0.30000000000000004       5.0 bbm+97         4789864076732331648  7.1008    0.5245"
      ]
     },
     "execution_count": 10,
     "metadata": {},
     "output_type": "execute_result"
    }
   ],
   "source": [
    "mask = edr3_timing_pm[\"eph\"] == \"DE200\"\n",
    "pm_tab200 = edr3_timing_pm[mask]\n",
    "\n",
    "pm_tab200"
   ]
  },
  {
   "cell_type": "markdown",
   "id": "0f44e37c",
   "metadata": {},
   "source": [
    "## DE405 vs. Gaia EDR3"
   ]
  },
  {
   "cell_type": "code",
   "execution_count": 11,
   "id": "cdb6ce9c",
   "metadata": {
    "ExecuteTime": {
     "end_time": "2022-08-17T04:35:00.014406Z",
     "start_time": "2022-08-17T04:35:00.006006Z"
    },
    "scrolled": false
   },
   "outputs": [
    {
     "data": {
      "text/html": [
       "<div><i>Table length=1</i>\n",
       "<table id=\"table140511472540400\" class=\"table-striped table-bordered table-condensed\">\n",
       "<thead><tr><th>psr_bname</th><th>psr_name</th><th>pos_epoch</th><th>eph</th><th>ra</th><th>dec</th><th>pmra</th><th>pmdec</th><th>plx_t</th><th>ra_err</th><th>dec_err</th><th>pmra_err</th><th>pmdec_err</th><th>plx_err_t</th><th>ref</th><th>comment</th><th>source_id</th><th>plx_g</th><th>plx_err_g</th></tr></thead>\n",
       "<thead><tr><th></th><th></th><th>d</th><th></th><th></th><th></th><th></th><th></th><th>mas</th><th></th><th></th><th></th><th></th><th>mas</th><th></th><th></th><th></th><th>mas</th><th>mas</th></tr></thead>\n",
       "<thead><tr><th>bytes10</th><th>bytes12</th><th>float64</th><th>bytes5</th><th>float64</th><th>float64</th><th>float64</th><th>float64</th><th>float64</th><th>float64</th><th>float64</th><th>float64</th><th>float64</th><th>float64</th><th>bytes6</th><th>bytes13</th><th>int64</th><th>float64</th><th>float64</th></tr></thead>\n",
       "<tr><td>J1012+5307</td><td>J1012+5307</td><td>50700.0</td><td>DE405</td><td>153.13930875416665</td><td>53.117389083333336</td><td>2.562</td><td>-25.61</td><td>1.22</td><td>0.08912635815241264</td><td>0.13</td><td>0.014</td><td>0.02</td><td>0.26</td><td>lwj+09</td><td></td><td>851610861391010944</td><td>1.7448</td><td>0.2906</td></tr>\n",
       "</table></div>"
      ],
      "text/plain": [
       "<Table length=1>\n",
       "psr_bname   psr_name  pos_epoch  eph           ra                dec           pmra   pmdec   plx_t         ra_err       dec_err pmra_err pmdec_err plx_err_t  ref   comment     source_id       plx_g  plx_err_g\n",
       "                          d                                                                    mas                                                     mas                                        mas      mas   \n",
       " bytes10    bytes12    float64  bytes5      float64            float64       float64 float64 float64       float64       float64 float64   float64   float64  bytes6 bytes13       int64        float64  float64 \n",
       "---------- ---------- --------- ------ ------------------ ------------------ ------- ------- ------- ------------------- ------- -------- --------- --------- ------ ------- ------------------ ------- ---------\n",
       "J1012+5307 J1012+5307   50700.0  DE405 153.13930875416665 53.117389083333336   2.562  -25.61    1.22 0.08912635815241264    0.13    0.014      0.02      0.26 lwj+09         851610861391010944  1.7448    0.2906"
      ]
     },
     "execution_count": 11,
     "metadata": {},
     "output_type": "execute_result"
    }
   ],
   "source": [
    "mask = edr3_timing_pm[\"eph\"] == \"DE405\"\n",
    "pm_tab405 = edr3_timing_pm[mask]\n",
    "\n",
    "pm_tab405"
   ]
  },
  {
   "cell_type": "markdown",
   "id": "98f5c4fb",
   "metadata": {},
   "source": [
    "## DE421 vs. Gaia EDR3"
   ]
  },
  {
   "cell_type": "code",
   "execution_count": 12,
   "id": "3ff14f93",
   "metadata": {
    "ExecuteTime": {
     "end_time": "2022-08-17T04:35:00.025468Z",
     "start_time": "2022-08-17T04:35:00.016559Z"
    },
    "scrolled": false
   },
   "outputs": [
    {
     "data": {
      "text/html": [
       "<div><i>Table length=10</i>\n",
       "<table id=\"table140510419888736\" class=\"table-striped table-bordered table-condensed\">\n",
       "<thead><tr><th>psr_bname</th><th>psr_name</th><th>pos_epoch</th><th>eph</th><th>ra</th><th>dec</th><th>pmra</th><th>pmdec</th><th>plx_t</th><th>ra_err</th><th>dec_err</th><th>pmra_err</th><th>pmdec_err</th><th>plx_err_t</th><th>ref</th><th>comment</th><th>source_id</th><th>plx_g</th><th>plx_err_g</th></tr></thead>\n",
       "<thead><tr><th></th><th></th><th>d</th><th></th><th></th><th></th><th></th><th></th><th>mas</th><th></th><th></th><th></th><th></th><th>mas</th><th></th><th></th><th></th><th>mas</th><th>mas</th></tr></thead>\n",
       "<thead><tr><th>bytes10</th><th>bytes12</th><th>float64</th><th>bytes5</th><th>float64</th><th>float64</th><th>float64</th><th>float64</th><th>float64</th><th>float64</th><th>float64</th><th>float64</th><th>float64</th><th>float64</th><th>bytes6</th><th>bytes13</th><th>int64</th><th>float64</th><th>float64</th></tr></thead>\n",
       "<tr><td>J0437-4715</td><td>J0437-4715</td><td>54500.0</td><td>DE421</td><td>69.3162340571</td><td>-47.2525307528</td><td>121.439</td><td>-71.475</td><td>6.373</td><td>0.00602974</td><td>0.00626552</td><td>0.001915</td><td>0.001954</td><td>0.086288</td><td>rhc+16</td><td>PPTA-DR1e</td><td>4789864076732331648</td><td>7.1008</td><td>0.5245</td></tr>\n",
       "<tr><td>J0437-4715</td><td>J0437-4715</td><td>54500.0</td><td>DE421</td><td>69.3162340617</td><td>-47.2525307528</td><td>121.441</td><td>-71.475</td><td>6.441</td><td>0.00373391</td><td>0.00383898</td><td>0.001714</td><td>0.001865</td><td>0.074791</td><td>vlh+16</td><td>IPTA-DR1</td><td>4789864076732331648</td><td>7.1008</td><td>0.5245</td></tr>\n",
       "<tr><td>J1012+5307</td><td>J1012+5307</td><td>55000.0</td><td>DE421</td><td>153.1393230512</td><td>53.1173055972</td><td>2.627</td><td>-25.458</td><td>0.782</td><td>0.05085026</td><td>0.06366704</td><td>0.010222</td><td>0.013951</td><td>0.193807</td><td>vlh+16</td><td>IPTA-DR1</td><td>851610861391010944</td><td>1.7448</td><td>0.2906</td></tr>\n",
       "<tr><td>J1012+5307</td><td>J1012+5307</td><td>54902.0</td><td>DE421</td><td>153.1393227083333</td><td>53.117307527777776</td><td>2.5</td><td>-25.6</td><td>1.0</td><td>0.5401607710644697</td><td>0.7000000000000001</td><td>0.2</td><td>0.2</td><td>3.0</td><td>mnf+16</td><td>NANOGrav-9yr</td><td>851610861391010944</td><td>1.7448</td><td>0.2906</td></tr>\n",
       "<tr><td>J1012+5307</td><td>J1012+5307</td><td>55000.0</td><td>DE421</td><td>153.13932300416664</td><td>53.11730555277778</td><td>2.609</td><td>-25.482</td><td>0.71</td><td>0.0450133996565745</td><td>0.060000000000000005</td><td>0.008</td><td>0.011</td><td>0.17</td><td>dcl+16</td><td>EPTA</td><td>851610861391010944</td><td>1.7448</td><td>0.2906</td></tr>\n",
       "<tr><td>J1024-0719</td><td>J1024-0719</td><td>54500.0</td><td>DE421</td><td>156.1611609737</td><td>-7.3220466056</td><td>-35.331</td><td>-48.318</td><td>0.526</td><td>0.09145182</td><td>0.18954466</td><td>0.039686</td><td>0.079472</td><td>0.228211</td><td>rhc+16</td><td>PPTA-DR1e</td><td>3775277872387310208</td><td>0.8572</td><td>0.2782</td></tr>\n",
       "<tr><td>J1024-0719</td><td>J1024-0719</td><td>55000.0</td><td>DE421</td><td>156.16114740833333</td><td>-7.322064986111111</td><td>-35.28</td><td>-48.18</td><td>0.8</td><td>0.07438840767090601</td><td>0.15</td><td>0.03</td><td>0.07</td><td>0.17</td><td>dcl+16</td><td>EPTA</td><td>3775277872387310208</td><td>0.8572</td><td>0.2782</td></tr>\n",
       "<tr><td>J1024-0719</td><td>J1024-0719</td><td>55800.0</td><td>DE421</td><td>156.1611257875</td><td>-7.322094333333333</td><td>-35.2</td><td>-48.0</td><td>0.6</td><td>0.133899124994967</td><td>0.30000000000000004</td><td>0.1</td><td>0.2</td><td>0.30000000000000004</td><td>mnf+16</td><td>NANOGrav-9yr</td><td>3775277872387310208</td><td>0.8572</td><td>0.2782</td></tr>\n",
       "<tr><td>J1024-0719</td><td>J1024-0719</td><td>55000.0</td><td>DE421</td><td>156.1611474146</td><td>-7.3220649833</td><td>-35.319</td><td>-48.285</td><td>0.831</td><td>0.06135341</td><td>0.12732461</td><td>0.027289</td><td>0.055563</td><td>0.135896</td><td>vlh+16</td><td>IPTA-DR1</td><td>3775277872387310208</td><td>0.8572</td><td>0.2782</td></tr>\n",
       "<tr><td>B1953+29</td><td>J1955+2908</td><td>56176.0</td><td>DE421</td><td>298.86614775</td><td>29.145401777777778</td><td>-0.4</td><td>-5.0</td><td>-4.0</td><td>0.6550399286119724</td><td>0.5</td><td>1.2000000000000002</td><td>1.0</td><td>2.0</td><td>mnf+16</td><td>NANOGrav-9yr</td><td>2028584968839606784</td><td>0.4749</td><td>0.1695</td></tr>\n",
       "</table></div>"
      ],
      "text/plain": [
       "<Table length=10>\n",
       "psr_bname   psr_name  pos_epoch  eph           ra                dec           pmra   pmdec   plx_t         ra_err             dec_err             pmra_err      pmdec_err      plx_err_t       ref     comment         source_id       plx_g  plx_err_g\n",
       "                          d                                                                    mas                                                                                 mas                                                   mas      mas   \n",
       " bytes10    bytes12    float64  bytes5      float64            float64       float64 float64 float64       float64             float64             float64        float64        float64       bytes6   bytes13           int64        float64  float64 \n",
       "---------- ---------- --------- ------ ------------------ ------------------ ------- ------- ------- ------------------- -------------------- ------------------ --------- ------------------- ------ ------------ ------------------- ------- ---------\n",
       "J0437-4715 J0437-4715   54500.0  DE421      69.3162340571     -47.2525307528 121.439 -71.475   6.373          0.00602974           0.00626552           0.001915  0.001954            0.086288 rhc+16    PPTA-DR1e 4789864076732331648  7.1008    0.5245\n",
       "J0437-4715 J0437-4715   54500.0  DE421      69.3162340617     -47.2525307528 121.441 -71.475   6.441          0.00373391           0.00383898           0.001714  0.001865            0.074791 vlh+16     IPTA-DR1 4789864076732331648  7.1008    0.5245\n",
       "J1012+5307 J1012+5307   55000.0  DE421     153.1393230512      53.1173055972   2.627 -25.458   0.782          0.05085026           0.06366704           0.010222  0.013951            0.193807 vlh+16     IPTA-DR1  851610861391010944  1.7448    0.2906\n",
       "J1012+5307 J1012+5307   54902.0  DE421  153.1393227083333 53.117307527777776     2.5   -25.6     1.0  0.5401607710644697   0.7000000000000001                0.2       0.2                 3.0 mnf+16 NANOGrav-9yr  851610861391010944  1.7448    0.2906\n",
       "J1012+5307 J1012+5307   55000.0  DE421 153.13932300416664  53.11730555277778   2.609 -25.482    0.71  0.0450133996565745 0.060000000000000005              0.008     0.011                0.17 dcl+16         EPTA  851610861391010944  1.7448    0.2906\n",
       "J1024-0719 J1024-0719   54500.0  DE421     156.1611609737      -7.3220466056 -35.331 -48.318   0.526          0.09145182           0.18954466           0.039686  0.079472            0.228211 rhc+16    PPTA-DR1e 3775277872387310208  0.8572    0.2782\n",
       "J1024-0719 J1024-0719   55000.0  DE421 156.16114740833333 -7.322064986111111  -35.28  -48.18     0.8 0.07438840767090601                 0.15               0.03      0.07                0.17 dcl+16         EPTA 3775277872387310208  0.8572    0.2782\n",
       "J1024-0719 J1024-0719   55800.0  DE421     156.1611257875 -7.322094333333333   -35.2   -48.0     0.6   0.133899124994967  0.30000000000000004                0.1       0.2 0.30000000000000004 mnf+16 NANOGrav-9yr 3775277872387310208  0.8572    0.2782\n",
       "J1024-0719 J1024-0719   55000.0  DE421     156.1611474146      -7.3220649833 -35.319 -48.285   0.831          0.06135341           0.12732461           0.027289  0.055563            0.135896 vlh+16     IPTA-DR1 3775277872387310208  0.8572    0.2782\n",
       "  B1953+29 J1955+2908   56176.0  DE421       298.86614775 29.145401777777778    -0.4    -5.0    -4.0  0.6550399286119724                  0.5 1.2000000000000002       1.0                 2.0 mnf+16 NANOGrav-9yr 2028584968839606784  0.4749    0.1695"
      ]
     },
     "execution_count": 12,
     "metadata": {},
     "output_type": "execute_result"
    }
   ],
   "source": [
    "mask = edr3_timing_pm[\"eph\"] == \"DE421\"\n",
    "pm_tab421 = edr3_timing_pm[mask]\n",
    "\n",
    "pm_tab421"
   ]
  },
  {
   "cell_type": "markdown",
   "id": "48d6bfa9",
   "metadata": {},
   "source": [
    "## DE430 vs. Gaia EDR3"
   ]
  },
  {
   "cell_type": "code",
   "execution_count": 13,
   "id": "bd23e84b",
   "metadata": {
    "ExecuteTime": {
     "end_time": "2022-08-17T04:35:00.034574Z",
     "start_time": "2022-08-17T04:35:00.028076Z"
    },
    "scrolled": false
   },
   "outputs": [
    {
     "data": {
      "text/html": [
       "<div><i>Table length=0</i>\n",
       "<table id=\"table140510419889888\" class=\"table-striped table-bordered table-condensed\">\n",
       "<thead><tr><th>psr_bname</th><th>psr_name</th><th>pos_epoch</th><th>eph</th><th>ra</th><th>dec</th><th>pmra</th><th>pmdec</th><th>plx_t</th><th>ra_err</th><th>dec_err</th><th>pmra_err</th><th>pmdec_err</th><th>plx_err_t</th><th>ref</th><th>comment</th><th>source_id</th><th>plx_g</th><th>plx_err_g</th></tr></thead>\n",
       "<thead><tr><th></th><th></th><th>d</th><th></th><th></th><th></th><th></th><th></th><th>mas</th><th></th><th></th><th></th><th></th><th>mas</th><th></th><th></th><th></th><th>mas</th><th>mas</th></tr></thead>\n",
       "<thead><tr><th>bytes10</th><th>bytes12</th><th>float64</th><th>bytes5</th><th>float64</th><th>float64</th><th>float64</th><th>float64</th><th>float64</th><th>float64</th><th>float64</th><th>float64</th><th>float64</th><th>float64</th><th>bytes6</th><th>bytes13</th><th>int64</th><th>float64</th><th>float64</th></tr></thead>\n",
       "</table></div>"
      ],
      "text/plain": [
       "<Table length=0>\n",
       "psr_bname psr_name pos_epoch  eph      ra     dec     pmra   pmdec   plx_t   ra_err dec_err pmra_err pmdec_err plx_err_t  ref   comment source_id  plx_g  plx_err_g\n",
       "                       d                                              mas                                         mas                               mas      mas   \n",
       " bytes10  bytes12   float64  bytes5 float64 float64 float64 float64 float64 float64 float64 float64   float64   float64  bytes6 bytes13   int64   float64  float64 \n",
       "--------- -------- --------- ------ ------- ------- ------- ------- ------- ------- ------- -------- --------- --------- ------ ------- --------- ------- ---------"
      ]
     },
     "execution_count": 13,
     "metadata": {},
     "output_type": "execute_result"
    }
   ],
   "source": [
    "mask = edr3_timing_pm[\"eph\"] == \"DE430\"\n",
    "pm_tab430 = edr3_timing_pm[mask]\n",
    "\n",
    "pm_tab430"
   ]
  },
  {
   "cell_type": "markdown",
   "id": "ff189bf0",
   "metadata": {},
   "source": [
    "## DE436 vs. Gaia EDR3"
   ]
  },
  {
   "cell_type": "code",
   "execution_count": 14,
   "id": "5e59c762",
   "metadata": {
    "ExecuteTime": {
     "end_time": "2022-08-17T04:35:00.043794Z",
     "start_time": "2022-08-17T04:35:00.036120Z"
    },
    "scrolled": false
   },
   "outputs": [
    {
     "data": {
      "text/html": [
       "<div><i>Table length=8</i>\n",
       "<table id=\"table140510419886528\" class=\"table-striped table-bordered table-condensed\">\n",
       "<thead><tr><th>psr_bname</th><th>psr_name</th><th>pos_epoch</th><th>eph</th><th>ra</th><th>dec</th><th>pmra</th><th>pmdec</th><th>plx_t</th><th>ra_err</th><th>dec_err</th><th>pmra_err</th><th>pmdec_err</th><th>plx_err_t</th><th>ref</th><th>comment</th><th>source_id</th><th>plx_g</th><th>plx_err_g</th></tr></thead>\n",
       "<thead><tr><th></th><th></th><th>d</th><th></th><th></th><th></th><th></th><th></th><th>mas</th><th></th><th></th><th></th><th></th><th>mas</th><th></th><th></th><th></th><th>mas</th><th>mas</th></tr></thead>\n",
       "<thead><tr><th>bytes10</th><th>bytes12</th><th>float64</th><th>bytes5</th><th>float64</th><th>float64</th><th>float64</th><th>float64</th><th>float64</th><th>float64</th><th>float64</th><th>float64</th><th>float64</th><th>float64</th><th>bytes6</th><th>bytes13</th><th>int64</th><th>float64</th><th>float64</th></tr></thead>\n",
       "<tr><td>J0437-4715</td><td>J0437-4715</td><td>55000.0</td><td>DE436</td><td>69.3163022208</td><td>-47.2525579444</td><td>121.443</td><td>-71.474</td><td>6.418</td><td>0.00503983</td><td>0.00530447</td><td>0.001435</td><td>0.00156</td><td>0.067263</td><td>pdd+19</td><td>IPTA-DR2</td><td>4789864076732331648</td><td>7.1008</td><td>0.5245</td></tr>\n",
       "<tr><td>J1012+5307</td><td>J1012+5307</td><td>55291.0</td><td>DE436</td><td>153.139324</td><td>53.11730002777778</td><td>2.66</td><td>-25.5</td><td>1.3</td><td>0.09002681088274288</td><td>0.1</td><td>0.03</td><td>0.04</td><td>0.4</td><td>abb+18</td><td>NANOGrav-11yr</td><td>851610861391010944</td><td>1.7448</td><td>0.2906</td></tr>\n",
       "<tr><td>J1012+5307</td><td>J1012+5307</td><td>55000.0</td><td>DE436</td><td>153.1393230429</td><td>53.1173056083</td><td>2.614</td><td>-25.486</td><td>0.933</td><td>0.04953387</td><td>0.06394984</td><td>0.010224</td><td>0.013773</td><td>0.192303</td><td>pdd+19</td><td>IPTA-DR2</td><td>851610861391010944</td><td>1.7448</td><td>0.2906</td></tr>\n",
       "<tr><td>J1024-0719</td><td>J1024-0719</td><td>55636.0</td><td>DE436</td><td>156.1611309125</td><td>-7.322087388888889</td><td>-35.27</td><td>-48.22</td><td>0.83</td><td>0.059510723146806305</td><td>0.1</td><td>0.017</td><td>0.03</td><td>0.13</td><td>rsc+21</td><td>PPTA-DR2e</td><td>3775277872387310208</td><td>0.8572</td><td>0.2782</td></tr>\n",
       "<tr><td>J1024-0719</td><td>J1024-0719</td><td>56239.0</td><td>DE436</td><td>156.16111399166664</td><td>-7.3221103888888885</td><td>-35.29</td><td>-48.2</td><td>0.8</td><td>0.08926608011575785</td><td>0.2</td><td>0.06</td><td>0.1</td><td>0.2</td><td>abb+18</td><td>NANOGrav-11yr</td><td>3775277872387310208</td><td>0.8572</td><td>0.2782</td></tr>\n",
       "<tr><td>J1024-0719</td><td>J1024-0719</td><td>55000.0</td><td>DE436</td><td>156.1611475046</td><td>-7.3220649306</td><td>-35.267</td><td>-48.225</td><td>0.822</td><td>0.04801056</td><td>0.09847672</td><td>0.017593</td><td>0.036161</td><td>0.102243</td><td>pdd+19</td><td>IPTA-DR2</td><td>3775277872387310208</td><td>0.8572</td><td>0.2782</td></tr>\n",
       "<tr><td>B1953+29</td><td>J1955+2908</td><td>56568.0</td><td>DE436</td><td>298.86614760000003</td><td>29.145400416666668</td><td>-1.1</td><td>-4.2</td><td>0.0</td><td>0.11790718871207326</td><td>0.2</td><td>0.1</td><td>0.2</td><td>1.0</td><td>abb+18</td><td>NANOGrav-11yr</td><td>2028584968839606784</td><td>0.4749</td><td>0.1695</td></tr>\n",
       "<tr><td>B1953+29</td><td>J1955+2908</td><td>55000.0</td><td>DE436</td><td>298.8661490629</td><td>29.1454053639</td><td>-1.029</td><td>-4.171</td><td>-1.178</td><td>0.17596624</td><td>0.24031268</td><td>0.055342</td><td>0.078402</td><td>1.098837</td><td>pdd+19</td><td>IPTA-DR2</td><td>2028584968839606784</td><td>0.4749</td><td>0.1695</td></tr>\n",
       "</table></div>"
      ],
      "text/plain": [
       "<Table length=8>\n",
       "psr_bname   psr_name  pos_epoch  eph           ra                 dec           pmra   pmdec   plx_t         ra_err         dec_err   pmra_err pmdec_err plx_err_t  ref      comment         source_id       plx_g  plx_err_g\n",
       "                          d                                                                     mas                                                         mas                                               mas      mas   \n",
       " bytes10    bytes12    float64  bytes5      float64             float64       float64 float64 float64       float64         float64   float64   float64   float64  bytes6    bytes13           int64        float64  float64 \n",
       "---------- ---------- --------- ------ ------------------ ------------------- ------- ------- ------- -------------------- ---------- -------- --------- --------- ------ ------------- ------------------- ------- ---------\n",
       "J0437-4715 J0437-4715   55000.0  DE436      69.3163022208      -47.2525579444 121.443 -71.474   6.418           0.00503983 0.00530447 0.001435   0.00156  0.067263 pdd+19      IPTA-DR2 4789864076732331648  7.1008    0.5245\n",
       "J1012+5307 J1012+5307   55291.0  DE436         153.139324   53.11730002777778    2.66   -25.5     1.3  0.09002681088274288        0.1     0.03      0.04       0.4 abb+18 NANOGrav-11yr  851610861391010944  1.7448    0.2906\n",
       "J1012+5307 J1012+5307   55000.0  DE436     153.1393230429       53.1173056083   2.614 -25.486   0.933           0.04953387 0.06394984 0.010224  0.013773  0.192303 pdd+19      IPTA-DR2  851610861391010944  1.7448    0.2906\n",
       "J1024-0719 J1024-0719   55636.0  DE436     156.1611309125  -7.322087388888889  -35.27  -48.22    0.83 0.059510723146806305        0.1    0.017      0.03      0.13 rsc+21     PPTA-DR2e 3775277872387310208  0.8572    0.2782\n",
       "J1024-0719 J1024-0719   56239.0  DE436 156.16111399166664 -7.3221103888888885  -35.29   -48.2     0.8  0.08926608011575785        0.2     0.06       0.1       0.2 abb+18 NANOGrav-11yr 3775277872387310208  0.8572    0.2782\n",
       "J1024-0719 J1024-0719   55000.0  DE436     156.1611475046       -7.3220649306 -35.267 -48.225   0.822           0.04801056 0.09847672 0.017593  0.036161  0.102243 pdd+19      IPTA-DR2 3775277872387310208  0.8572    0.2782\n",
       "  B1953+29 J1955+2908   56568.0  DE436 298.86614760000003  29.145400416666668    -1.1    -4.2     0.0  0.11790718871207326        0.2      0.1       0.2       1.0 abb+18 NANOGrav-11yr 2028584968839606784  0.4749    0.1695\n",
       "  B1953+29 J1955+2908   55000.0  DE436     298.8661490629       29.1454053639  -1.029  -4.171  -1.178           0.17596624 0.24031268 0.055342  0.078402  1.098837 pdd+19      IPTA-DR2 2028584968839606784  0.4749    0.1695"
      ]
     },
     "execution_count": 14,
     "metadata": {},
     "output_type": "execute_result"
    }
   ],
   "source": [
    "mask = edr3_timing_pm[\"eph\"] == \"DE436\"\n",
    "pm_tab436 = edr3_timing_pm[mask]\n",
    "\n",
    "pm_tab436"
   ]
  },
  {
   "cell_type": "markdown",
   "id": "36daa235",
   "metadata": {},
   "source": [
    "# 2 Direct comparison"
   ]
  },
  {
   "cell_type": "markdown",
   "id": "899d6bff",
   "metadata": {},
   "source": [
    "## 2.1 Stastically significant offset"
   ]
  },
  {
   "cell_type": "code",
   "execution_count": 15,
   "id": "8766e03d",
   "metadata": {
    "ExecuteTime": {
     "end_time": "2022-08-17T04:35:00.049467Z",
     "start_time": "2022-08-17T04:35:00.046129Z"
    }
   },
   "outputs": [],
   "source": [
    "dplx = edr3_timing_pm[\"plx_t\"] - edr3_timing_pm[\"plx_g\"]\n",
    "dplx_err = np.sqrt(edr3_timing_pm[\"plx_err_g\"]**2 +\n",
    "                   edr3_timing_pm[\"plx_err_t\"]**2)\n",
    "\n",
    "X_plx = dplx / dplx_err"
   ]
  },
  {
   "cell_type": "code",
   "execution_count": 16,
   "id": "3895f2dc",
   "metadata": {
    "ExecuteTime": {
     "end_time": "2022-08-17T04:35:00.432055Z",
     "start_time": "2022-08-17T04:35:00.050935Z"
    }
   },
   "outputs": [
    {
     "data": {
      "text/plain": [
       "<Figure size 432x288 with 0 Axes>"
      ]
     },
     "metadata": {},
     "output_type": "display_data"
    },
    {
     "data": {
      "image/png": "[encoded data removed]",
      "text/plain": [
       "<Figure size 360x360 with 1 Axes>"
      ]
     },
     "metadata": {
      "needs_background": "light"
     },
     "output_type": "display_data"
    }
   ],
   "source": [
    "plt.clf()\n",
    "sns.displot(\n",
    "    X_plx,\n",
    "    binwidth=0.2, height=5, facet_kws=dict(margin_titles=True),\n",
    ")\n",
    "plt.xlim([-5, 5])\n",
    "plt.xlabel(\"Normalized difference for $\\\\varpi$\")\n",
    "plt.tight_layout()"
   ]
  },
  {
   "cell_type": "code",
   "execution_count": 17,
   "id": "e20289bb",
   "metadata": {
    "ExecuteTime": {
     "end_time": "2022-08-17T04:35:00.438643Z",
     "start_time": "2022-08-17T04:35:00.433994Z"
    }
   },
   "outputs": [
    {
     "name": "stdout",
     "output_type": "stream",
     "text": [
      "N      PLX\n",
      "sigma  %\n",
      " 1     50 \n",
      " 2     80 \n",
      " 3     95 \n",
      " 4     100 \n",
      " 5     100 \n",
      " 6     100 \n",
      " 7     100 \n",
      " 8     100 \n",
      " 9     100 \n",
      "10     100 \n"
     ]
    }
   ],
   "source": [
    "print(\"N      PLX\")\n",
    "print(\"sigma  %\")\n",
    "for i in range(1, 11):\n",
    "    per_plx = count_sigma(X_plx, i)\n",
    "\n",
    "    print(\"{:2d}     {:2.0f} \".format(i, per_plx))"
   ]
  },
  {
   "cell_type": "code",
   "execution_count": 18,
   "id": "3cad6be0",
   "metadata": {
    "ExecuteTime": {
     "end_time": "2022-08-17T04:35:00.447701Z",
     "start_time": "2022-08-17T04:35:00.440035Z"
    }
   },
   "outputs": [
    {
     "name": "stdout",
     "output_type": "stream",
     "text": [
      "X_plx >= 3\n"
     ]
    },
    {
     "data": {
      "text/html": [
       "<div><i>Table length=1</i>\n",
       "<table id=\"table140511473570816\" class=\"table-striped table-bordered table-condensed\">\n",
       "<thead><tr><th>psr_name</th><th>eph</th><th>plx_t</th><th>plx_err_t</th><th>plx_g</th><th>plx_err_g</th><th>ref</th></tr></thead>\n",
       "<thead><tr><th></th><th></th><th>mas</th><th>mas</th><th>mas</th><th>mas</th><th></th></tr></thead>\n",
       "<thead><tr><th>bytes12</th><th>bytes5</th><th>float64</th><th>float64</th><th>float64</th><th>float64</th><th>bytes6</th></tr></thead>\n",
       "<tr><td>J1012+5307</td><td>DE421</td><td>0.71</td><td>0.17</td><td>1.7448</td><td>0.2906</td><td>dcl+16</td></tr>\n",
       "</table></div>"
      ],
      "text/plain": [
       "<Table length=1>\n",
       " psr_name   eph    plx_t  plx_err_t  plx_g  plx_err_g  ref  \n",
       "                    mas      mas      mas      mas          \n",
       " bytes12   bytes5 float64  float64  float64  float64  bytes6\n",
       "---------- ------ ------- --------- ------- --------- ------\n",
       "J1012+5307  DE421    0.71      0.17  1.7448    0.2906 dcl+16"
      ]
     },
     "execution_count": 18,
     "metadata": {},
     "output_type": "execute_result"
    }
   ],
   "source": [
    "print(\"X_plx >= 3\")\n",
    "\n",
    "mask = np.fabs(X_plx) >= 3\n",
    "edr3_timing_pm[mask][\"psr_name\", \"eph\", \"plx_t\",\n",
    "                     \"plx_err_t\", \"plx_g\", \"plx_err_g\", \"ref\"]"
   ]
  },
  {
   "cell_type": "markdown",
   "id": "3d8c8490",
   "metadata": {},
   "source": [
    "## 2.1 Gaia (y) vs. Timing (x)"
   ]
  },
  {
   "cell_type": "markdown",
   "id": "65c93646",
   "metadata": {},
   "source": [
    "A ordinary linear regression of y = k * x + b.\n",
    "\n",
    "First, I use all pulsars."
   ]
  },
  {
   "cell_type": "code",
   "execution_count": 19,
   "id": "f20702a8",
   "metadata": {
    "ExecuteTime": {
     "end_time": "2022-08-17T04:35:00.470807Z",
     "start_time": "2022-08-17T04:35:00.449623Z"
    }
   },
   "outputs": [
    {
     "data": {
      "text/html": [
       "<table class=\"simpletable\">\n",
       "<caption>WLS Regression Results</caption>\n",
       "<tr>\n",
       "  <th>Dep. Variable:</th>            <td>y</td>        <th>  R-squared:         </th> <td>   0.940</td>\n",
       "</tr>\n",
       "<tr>\n",
       "  <th>Model:</th>                   <td>WLS</td>       <th>  Adj. R-squared:    </th> <td>   0.937</td>\n",
       "</tr>\n",
       "<tr>\n",
       "  <th>Method:</th>             <td>Least Squares</td>  <th>  F-statistic:       </th> <td>   282.6</td>\n",
       "</tr>\n",
       "<tr>\n",
       "  <th>Date:</th>             <td>Wed, 17 Aug 2022</td> <th>  Prob (F-statistic):</th> <td>1.88e-12</td>\n",
       "</tr>\n",
       "<tr>\n",
       "  <th>Time:</th>                 <td>12:35:00</td>     <th>  Log-Likelihood:    </th> <td> -18.272</td>\n",
       "</tr>\n",
       "<tr>\n",
       "  <th>No. Observations:</th>      <td>    20</td>      <th>  AIC:               </th> <td>   40.54</td>\n",
       "</tr>\n",
       "<tr>\n",
       "  <th>Df Residuals:</th>          <td>    18</td>      <th>  BIC:               </th> <td>   42.54</td>\n",
       "</tr>\n",
       "<tr>\n",
       "  <th>Df Model:</th>              <td>     1</td>      <th>                     </th>     <td> </td>   \n",
       "</tr>\n",
       "<tr>\n",
       "  <th>Covariance Type:</th>      <td>nonrobust</td>    <th>                     </th>     <td> </td>   \n",
       "</tr>\n",
       "</table>\n",
       "<table class=\"simpletable\">\n",
       "<tr>\n",
       "    <td></td>       <th>coef</th>     <th>std err</th>      <th>t</th>      <th>P>|t|</th>  <th>[0.025</th>    <th>0.975]</th>  \n",
       "</tr>\n",
       "<tr>\n",
       "  <th>const</th> <td>    0.3610</td> <td>    0.131</td> <td>    2.749</td> <td> 0.013</td> <td>    0.085</td> <td>    0.637</td>\n",
       "</tr>\n",
       "<tr>\n",
       "  <th>x1</th>    <td>    1.0330</td> <td>    0.061</td> <td>   16.812</td> <td> 0.000</td> <td>    0.904</td> <td>    1.162</td>\n",
       "</tr>\n",
       "</table>\n",
       "<table class=\"simpletable\">\n",
       "<tr>\n",
       "  <th>Omnibus:</th>       <td> 1.158</td> <th>  Durbin-Watson:     </th> <td>   1.010</td>\n",
       "</tr>\n",
       "<tr>\n",
       "  <th>Prob(Omnibus):</th> <td> 0.560</td> <th>  Jarque-Bera (JB):  </th> <td>   0.899</td>\n",
       "</tr>\n",
       "<tr>\n",
       "  <th>Skew:</th>          <td> 0.235</td> <th>  Prob(JB):          </th> <td>   0.638</td>\n",
       "</tr>\n",
       "<tr>\n",
       "  <th>Kurtosis:</th>      <td> 2.074</td> <th>  Cond. No.          </th> <td>    2.98</td>\n",
       "</tr>\n",
       "</table><br/><br/>Notes:<br/>[1] Standard Errors assume that the covariance matrix of the errors is correctly specified."
      ],
      "text/plain": [
       "<class 'statsmodels.iolib.summary.Summary'>\n",
       "\"\"\"\n",
       "                            WLS Regression Results                            \n",
       "==============================================================================\n",
       "Dep. Variable:                      y   R-squared:                       0.940\n",
       "Model:                            WLS   Adj. R-squared:                  0.937\n",
       "Method:                 Least Squares   F-statistic:                     282.6\n",
       "Date:                Wed, 17 Aug 2022   Prob (F-statistic):           1.88e-12\n",
       "Time:                        12:35:00   Log-Likelihood:                -18.272\n",
       "No. Observations:                  20   AIC:                             40.54\n",
       "Df Residuals:                      18   BIC:                             42.54\n",
       "Df Model:                           1                                         \n",
       "Covariance Type:            nonrobust                                         \n",
       "==============================================================================\n",
       "                 coef    std err          t      P>|t|      [0.025      0.975]\n",
       "------------------------------------------------------------------------------\n",
       "const          0.3610      0.131      2.749      0.013       0.085       0.637\n",
       "x1             1.0330      0.061     16.812      0.000       0.904       1.162\n",
       "==============================================================================\n",
       "Omnibus:                        1.158   Durbin-Watson:                   1.010\n",
       "Prob(Omnibus):                  0.560   Jarque-Bera (JB):                0.899\n",
       "Skew:                           0.235   Prob(JB):                        0.638\n",
       "Kurtosis:                       2.074   Cond. No.                         2.98\n",
       "==============================================================================\n",
       "\n",
       "Notes:\n",
       "[1] Standard Errors assume that the covariance matrix of the errors is correctly specified.\n",
       "\"\"\""
      ]
     },
     "execution_count": 19,
     "metadata": {},
     "output_type": "execute_result"
    }
   ],
   "source": [
    "results = fit_plx_offset(edr3_timing_pm[\"plx_t\"], edr3_timing_pm[\"plx_g\"],\n",
    "                         dplx_err)\n",
    "results.summary()"
   ]
  },
  {
   "cell_type": "markdown",
   "id": "d732057f",
   "metadata": {
    "ExecuteTime": {
     "end_time": "2022-02-11T02:50:39.419471Z",
     "start_time": "2022-02-11T02:50:39.397522Z"
    }
   },
   "source": [
    "Then I try to remove points with minus timing parallax."
   ]
  },
  {
   "cell_type": "code",
   "execution_count": 20,
   "id": "b2b8410c",
   "metadata": {
    "ExecuteTime": {
     "end_time": "2022-08-17T04:35:00.492575Z",
     "start_time": "2022-08-17T04:35:00.472869Z"
    }
   },
   "outputs": [
    {
     "name": "stderr",
     "output_type": "stream",
     "text": [
      "/Users/Neo/Scisoft/miniconda3/lib/python3.9/site-packages/scipy/stats/stats.py:1541: UserWarning: kurtosistest only valid for n>=20 ... continuing anyway, n=17\n",
      "  warnings.warn(\"kurtosistest only valid for n>=20 ... continuing \"\n"
     ]
    },
    {
     "data": {
      "text/html": [
       "<table class=\"simpletable\">\n",
       "<caption>WLS Regression Results</caption>\n",
       "<tr>\n",
       "  <th>Dep. Variable:</th>            <td>y</td>        <th>  R-squared:         </th> <td>   0.957</td>\n",
       "</tr>\n",
       "<tr>\n",
       "  <th>Model:</th>                   <td>WLS</td>       <th>  Adj. R-squared:    </th> <td>   0.954</td>\n",
       "</tr>\n",
       "<tr>\n",
       "  <th>Method:</th>             <td>Least Squares</td>  <th>  F-statistic:       </th> <td>   333.2</td>\n",
       "</tr>\n",
       "<tr>\n",
       "  <th>Date:</th>             <td>Wed, 17 Aug 2022</td> <th>  Prob (F-statistic):</th> <td>1.18e-11</td>\n",
       "</tr>\n",
       "<tr>\n",
       "  <th>Time:</th>                 <td>12:35:00</td>     <th>  Log-Likelihood:    </th> <td> -11.587</td>\n",
       "</tr>\n",
       "<tr>\n",
       "  <th>No. Observations:</th>      <td>    17</td>      <th>  AIC:               </th> <td>   27.17</td>\n",
       "</tr>\n",
       "<tr>\n",
       "  <th>Df Residuals:</th>          <td>    15</td>      <th>  BIC:               </th> <td>   28.84</td>\n",
       "</tr>\n",
       "<tr>\n",
       "  <th>Df Model:</th>              <td>     1</td>      <th>                     </th>     <td> </td>   \n",
       "</tr>\n",
       "<tr>\n",
       "  <th>Covariance Type:</th>      <td>nonrobust</td>    <th>                     </th>     <td> </td>   \n",
       "</tr>\n",
       "</table>\n",
       "<table class=\"simpletable\">\n",
       "<tr>\n",
       "    <td></td>       <th>coef</th>     <th>std err</th>      <th>t</th>      <th>P>|t|</th>  <th>[0.025</th>    <th>0.975]</th>  \n",
       "</tr>\n",
       "<tr>\n",
       "  <th>const</th> <td>    0.3025</td> <td>    0.125</td> <td>    2.425</td> <td> 0.028</td> <td>    0.037</td> <td>    0.568</td>\n",
       "</tr>\n",
       "<tr>\n",
       "  <th>x1</th>    <td>    1.0611</td> <td>    0.058</td> <td>   18.254</td> <td> 0.000</td> <td>    0.937</td> <td>    1.185</td>\n",
       "</tr>\n",
       "</table>\n",
       "<table class=\"simpletable\">\n",
       "<tr>\n",
       "  <th>Omnibus:</th>       <td> 1.412</td> <th>  Durbin-Watson:     </th> <td>   1.097</td>\n",
       "</tr>\n",
       "<tr>\n",
       "  <th>Prob(Omnibus):</th> <td> 0.494</td> <th>  Jarque-Bera (JB):  </th> <td>   1.182</td>\n",
       "</tr>\n",
       "<tr>\n",
       "  <th>Skew:</th>          <td> 0.564</td> <th>  Prob(JB):          </th> <td>   0.554</td>\n",
       "</tr>\n",
       "<tr>\n",
       "  <th>Kurtosis:</th>      <td> 2.372</td> <th>  Cond. No.          </th> <td>    3.06</td>\n",
       "</tr>\n",
       "</table><br/><br/>Notes:<br/>[1] Standard Errors assume that the covariance matrix of the errors is correctly specified."
      ],
      "text/plain": [
       "<class 'statsmodels.iolib.summary.Summary'>\n",
       "\"\"\"\n",
       "                            WLS Regression Results                            \n",
       "==============================================================================\n",
       "Dep. Variable:                      y   R-squared:                       0.957\n",
       "Model:                            WLS   Adj. R-squared:                  0.954\n",
       "Method:                 Least Squares   F-statistic:                     333.2\n",
       "Date:                Wed, 17 Aug 2022   Prob (F-statistic):           1.18e-11\n",
       "Time:                        12:35:00   Log-Likelihood:                -11.587\n",
       "No. Observations:                  17   AIC:                             27.17\n",
       "Df Residuals:                      15   BIC:                             28.84\n",
       "Df Model:                           1                                         \n",
       "Covariance Type:            nonrobust                                         \n",
       "==============================================================================\n",
       "                 coef    std err          t      P>|t|      [0.025      0.975]\n",
       "------------------------------------------------------------------------------\n",
       "const          0.3025      0.125      2.425      0.028       0.037       0.568\n",
       "x1             1.0611      0.058     18.254      0.000       0.937       1.185\n",
       "==============================================================================\n",
       "Omnibus:                        1.412   Durbin-Watson:                   1.097\n",
       "Prob(Omnibus):                  0.494   Jarque-Bera (JB):                1.182\n",
       "Skew:                           0.564   Prob(JB):                        0.554\n",
       "Kurtosis:                       2.372   Cond. No.                         3.06\n",
       "==============================================================================\n",
       "\n",
       "Notes:\n",
       "[1] Standard Errors assume that the covariance matrix of the errors is correctly specified.\n",
       "\"\"\""
      ]
     },
     "execution_count": 20,
     "metadata": {},
     "output_type": "execute_result"
    }
   ],
   "source": [
    "mask = edr3_timing_pm[\"plx_t\"] > 0\n",
    "results = fit_plx_offset(edr3_timing_pm[mask][\"plx_t\"],\n",
    "                         edr3_timing_pm[mask][\"plx_g\"], dplx_err[mask])\n",
    "results.summary()"
   ]
  },
  {
   "cell_type": "code",
   "execution_count": 36,
   "id": "2ffd9f52",
   "metadata": {
    "ExecuteTime": {
     "end_time": "2022-08-17T06:50:06.344795Z",
     "start_time": "2022-08-17T06:50:06.112399Z"
    }
   },
   "outputs": [
    {
     "data": {
      "text/plain": [
       "<matplotlib.legend.Legend at 0x7fcb4a745340>"
      ]
     },
     "execution_count": 36,
     "metadata": {},
     "output_type": "execute_result"
    },
    {
     "data": {
      "image/png": "[encoded data removed]",
      "text/plain": [
       "<Figure size 432x432 with 1 Axes>"
      ]
     },
     "metadata": {
      "needs_background": "light"
     },
     "output_type": "display_data"
    }
   ],
   "source": [
    "fig, ax = plt.subplots(figsize=(6, 6))\n",
    "\n",
    "ax.errorbar(pm_tab200[\"plx_t\"],\n",
    "            pm_tab200[\"plx_g\"],\n",
    "            xerr=pm_tab200[\"plx_err_t\"],\n",
    "            yerr=pm_tab200[\"plx_err_g\"],\n",
    "            fmt=\"b^\",\n",
    "            ecolor=\"k\",\n",
    "            elinewidth=0.1,\n",
    "            capsize=1,\n",
    "            label=\"DE200\")\n",
    "\n",
    "ax.errorbar(pm_tab405[\"plx_t\"],\n",
    "            pm_tab405[\"plx_g\"],\n",
    "            xerr=pm_tab405[\"plx_err_t\"],\n",
    "            yerr=pm_tab405[\"plx_err_g\"],\n",
    "            fmt=\"gx\",\n",
    "            ecolor=\"k\",\n",
    "            elinewidth=0.1,\n",
    "            capsize=1,\n",
    "            label=\"DE405\")\n",
    "\n",
    "ax.errorbar(pm_tab436[\"plx_t\"],\n",
    "            pm_tab436[\"plx_g\"],\n",
    "            xerr=pm_tab436[\"plx_err_t\"],\n",
    "            yerr=pm_tab436[\"plx_err_g\"],\n",
    "            fmt=\"ro\",\n",
    "            ecolor=\"k\",\n",
    "            elinewidth=0.1,\n",
    "            capsize=1,\n",
    "            label=\"DE436\")\n",
    "\n",
    "ax.errorbar(pm_tab421[\"plx_t\"],\n",
    "            pm_tab421[\"plx_g\"],\n",
    "            xerr=pm_tab421[\"plx_err_t\"],\n",
    "            yerr=pm_tab421[\"plx_err_g\"],\n",
    "            fmt=\"v\",\n",
    "            color=\"purple\",\n",
    "            ecolor=\"k\",\n",
    "            elinewidth=0.1,\n",
    "            capsize=1,\n",
    "            label=\"DE421\")\n",
    "\n",
    "\n",
    "x = np.arange(-5, 10, 0.1)\n",
    "ax.plot(x, x, \"--\", color=\"tab:grey\", lw=1)\n",
    "ax.text(4, 3.7, \"$y=x$\", rotation=45, color=\"tab:grey\", fontsize=12)\n",
    "\n",
    "ax.plot(x, 1.06 * x + 0.30, ls=\"dotted\", lw=1, color=\"tab:grey\")\n",
    "ax.text(2, 3.2, \"$y=1.06x+0.30$\", rotation=45, color=\"tab:grey\", fontsize=12)\n",
    "\n",
    "ax.text(2.3, 7.2, \"PSR J0437-4715\", color=\"k\")\n",
    "ax.text(0., 2.2, \"PSR J1012+5307\", color=\"k\")\n",
    "ax.text(1.5, 0.8, \"PSR J1024-0719\", color=\"k\")\n",
    "ax.text(-4, 0., \"PSR J1955+2908\", color=\"k\")\n",
    "\n",
    "ax.axis(\"square\")\n",
    "ax.axis([-5, 7, -3, 9])\n",
    "ax.xaxis.set_minor_locator(MultipleLocator(0.5))\n",
    "\n",
    "ax.set_xlabel(\"$\\\\varpi$ from timing (mas)\", fontsize=15)\n",
    "ax.set_ylabel(\"$\\\\varpi$ from Gaia (mas)\", fontsize=15)\n",
    "\n",
    "\n",
    "# plt.grid(lw=1)\n",
    "plt.tight_layout()\n",
    "plt.legend(loc=\"upper left\")\n",
    "\n",
    "# plt.savefig(\"../plots/gedr3_plx-com.eps\")"
   ]
  },
  {
   "cell_type": "markdown",
   "id": "b052d272",
   "metadata": {},
   "source": [
    "## 2.2 Gaia (x) vs. Timing (y)"
   ]
  },
  {
   "cell_type": "markdown",
   "id": "096326c3",
   "metadata": {},
   "source": [
    "A ordinary linear regression of y = k * x + b.\n",
    "\n",
    "First, I use all pulsars."
   ]
  },
  {
   "cell_type": "code",
   "execution_count": 22,
   "id": "151900b6",
   "metadata": {
    "ExecuteTime": {
     "end_time": "2022-08-17T04:35:00.732882Z",
     "start_time": "2022-08-17T04:35:00.719327Z"
    }
   },
   "outputs": [
    {
     "data": {
      "text/html": [
       "<table class=\"simpletable\">\n",
       "<caption>WLS Regression Results</caption>\n",
       "<tr>\n",
       "  <th>Dep. Variable:</th>            <td>y</td>        <th>  R-squared:         </th> <td>   0.940</td>\n",
       "</tr>\n",
       "<tr>\n",
       "  <th>Model:</th>                   <td>WLS</td>       <th>  Adj. R-squared:    </th> <td>   0.937</td>\n",
       "</tr>\n",
       "<tr>\n",
       "  <th>Method:</th>             <td>Least Squares</td>  <th>  F-statistic:       </th> <td>   282.6</td>\n",
       "</tr>\n",
       "<tr>\n",
       "  <th>Date:</th>             <td>Wed, 17 Aug 2022</td> <th>  Prob (F-statistic):</th> <td>1.88e-12</td>\n",
       "</tr>\n",
       "<tr>\n",
       "  <th>Time:</th>                 <td>12:35:00</td>     <th>  Log-Likelihood:    </th> <td> -17.004</td>\n",
       "</tr>\n",
       "<tr>\n",
       "  <th>No. Observations:</th>      <td>    20</td>      <th>  AIC:               </th> <td>   38.01</td>\n",
       "</tr>\n",
       "<tr>\n",
       "  <th>Df Residuals:</th>          <td>    18</td>      <th>  BIC:               </th> <td>   40.00</td>\n",
       "</tr>\n",
       "<tr>\n",
       "  <th>Df Model:</th>              <td>     1</td>      <th>                     </th>     <td> </td>   \n",
       "</tr>\n",
       "<tr>\n",
       "  <th>Covariance Type:</th>      <td>nonrobust</td>    <th>                     </th>     <td> </td>   \n",
       "</tr>\n",
       "</table>\n",
       "<table class=\"simpletable\">\n",
       "<tr>\n",
       "    <td></td>       <th>coef</th>     <th>std err</th>      <th>t</th>      <th>P>|t|</th>  <th>[0.025</th>    <th>0.975]</th>  \n",
       "</tr>\n",
       "<tr>\n",
       "  <th>const</th> <td>   -0.2494</td> <td>    0.135</td> <td>   -1.853</td> <td> 0.080</td> <td>   -0.532</td> <td>    0.033</td>\n",
       "</tr>\n",
       "<tr>\n",
       "  <th>x1</th>    <td>    0.9101</td> <td>    0.054</td> <td>   16.812</td> <td> 0.000</td> <td>    0.796</td> <td>    1.024</td>\n",
       "</tr>\n",
       "</table>\n",
       "<table class=\"simpletable\">\n",
       "<tr>\n",
       "  <th>Omnibus:</th>       <td> 2.229</td> <th>  Durbin-Watson:     </th> <td>   1.155</td>\n",
       "</tr>\n",
       "<tr>\n",
       "  <th>Prob(Omnibus):</th> <td> 0.328</td> <th>  Jarque-Bera (JB):  </th> <td>   1.674</td>\n",
       "</tr>\n",
       "<tr>\n",
       "  <th>Skew:</th>          <td>-0.542</td> <th>  Prob(JB):          </th> <td>   0.433</td>\n",
       "</tr>\n",
       "<tr>\n",
       "  <th>Kurtosis:</th>      <td> 2.087</td> <th>  Cond. No.          </th> <td>    3.75</td>\n",
       "</tr>\n",
       "</table><br/><br/>Notes:<br/>[1] Standard Errors assume that the covariance matrix of the errors is correctly specified."
      ],
      "text/plain": [
       "<class 'statsmodels.iolib.summary.Summary'>\n",
       "\"\"\"\n",
       "                            WLS Regression Results                            \n",
       "==============================================================================\n",
       "Dep. Variable:                      y   R-squared:                       0.940\n",
       "Model:                            WLS   Adj. R-squared:                  0.937\n",
       "Method:                 Least Squares   F-statistic:                     282.6\n",
       "Date:                Wed, 17 Aug 2022   Prob (F-statistic):           1.88e-12\n",
       "Time:                        12:35:00   Log-Likelihood:                -17.004\n",
       "No. Observations:                  20   AIC:                             38.01\n",
       "Df Residuals:                      18   BIC:                             40.00\n",
       "Df Model:                           1                                         \n",
       "Covariance Type:            nonrobust                                         \n",
       "==============================================================================\n",
       "                 coef    std err          t      P>|t|      [0.025      0.975]\n",
       "------------------------------------------------------------------------------\n",
       "const         -0.2494      0.135     -1.853      0.080      -0.532       0.033\n",
       "x1             0.9101      0.054     16.812      0.000       0.796       1.024\n",
       "==============================================================================\n",
       "Omnibus:                        2.229   Durbin-Watson:                   1.155\n",
       "Prob(Omnibus):                  0.328   Jarque-Bera (JB):                1.674\n",
       "Skew:                          -0.542   Prob(JB):                        0.433\n",
       "Kurtosis:                       2.087   Cond. No.                         3.75\n",
       "==============================================================================\n",
       "\n",
       "Notes:\n",
       "[1] Standard Errors assume that the covariance matrix of the errors is correctly specified.\n",
       "\"\"\""
      ]
     },
     "execution_count": 22,
     "metadata": {},
     "output_type": "execute_result"
    }
   ],
   "source": [
    "results = fit_plx_offset(edr3_timing_pm[\"plx_g\"], edr3_timing_pm[\"plx_t\"],\n",
    "                         dplx_err)\n",
    "results.summary()"
   ]
  },
  {
   "cell_type": "markdown",
   "id": "cd5eb6e0",
   "metadata": {
    "ExecuteTime": {
     "end_time": "2022-02-11T02:50:39.419471Z",
     "start_time": "2022-02-11T02:50:39.397522Z"
    }
   },
   "source": [
    "Then I try to remove points with minus timing parallax."
   ]
  },
  {
   "cell_type": "code",
   "execution_count": 23,
   "id": "332c5dc8",
   "metadata": {
    "ExecuteTime": {
     "end_time": "2022-08-17T04:35:00.750179Z",
     "start_time": "2022-08-17T04:35:00.734860Z"
    }
   },
   "outputs": [
    {
     "name": "stderr",
     "output_type": "stream",
     "text": [
      "/Users/Neo/Scisoft/miniconda3/lib/python3.9/site-packages/scipy/stats/stats.py:1541: UserWarning: kurtosistest only valid for n>=20 ... continuing anyway, n=17\n",
      "  warnings.warn(\"kurtosistest only valid for n>=20 ... continuing \"\n"
     ]
    },
    {
     "data": {
      "text/html": [
       "<table class=\"simpletable\">\n",
       "<caption>WLS Regression Results</caption>\n",
       "<tr>\n",
       "  <th>Dep. Variable:</th>            <td>y</td>        <th>  R-squared:         </th> <td>   0.957</td>\n",
       "</tr>\n",
       "<tr>\n",
       "  <th>Model:</th>                   <td>WLS</td>       <th>  Adj. R-squared:    </th> <td>   0.954</td>\n",
       "</tr>\n",
       "<tr>\n",
       "  <th>Method:</th>             <td>Least Squares</td>  <th>  F-statistic:       </th> <td>   333.2</td>\n",
       "</tr>\n",
       "<tr>\n",
       "  <th>Date:</th>             <td>Wed, 17 Aug 2022</td> <th>  Prob (F-statistic):</th> <td>1.18e-11</td>\n",
       "</tr>\n",
       "<tr>\n",
       "  <th>Time:</th>                 <td>12:35:00</td>     <th>  Log-Likelihood:    </th> <td> -10.205</td>\n",
       "</tr>\n",
       "<tr>\n",
       "  <th>No. Observations:</th>      <td>    17</td>      <th>  AIC:               </th> <td>   24.41</td>\n",
       "</tr>\n",
       "<tr>\n",
       "  <th>Df Residuals:</th>          <td>    15</td>      <th>  BIC:               </th> <td>   26.08</td>\n",
       "</tr>\n",
       "<tr>\n",
       "  <th>Df Model:</th>              <td>     1</td>      <th>                     </th>     <td> </td>   \n",
       "</tr>\n",
       "<tr>\n",
       "  <th>Covariance Type:</th>      <td>nonrobust</td>    <th>                     </th>     <td> </td>   \n",
       "</tr>\n",
       "</table>\n",
       "<table class=\"simpletable\">\n",
       "<tr>\n",
       "    <td></td>       <th>coef</th>     <th>std err</th>      <th>t</th>      <th>P>|t|</th>  <th>[0.025</th>    <th>0.975]</th>  \n",
       "</tr>\n",
       "<tr>\n",
       "  <th>const</th> <td>   -0.2140</td> <td>    0.124</td> <td>   -1.727</td> <td> 0.105</td> <td>   -0.478</td> <td>    0.050</td>\n",
       "</tr>\n",
       "<tr>\n",
       "  <th>x1</th>    <td>    0.9018</td> <td>    0.049</td> <td>   18.254</td> <td> 0.000</td> <td>    0.797</td> <td>    1.007</td>\n",
       "</tr>\n",
       "</table>\n",
       "<table class=\"simpletable\">\n",
       "<tr>\n",
       "  <th>Omnibus:</th>       <td> 2.618</td> <th>  Durbin-Watson:     </th> <td>   1.276</td>\n",
       "</tr>\n",
       "<tr>\n",
       "  <th>Prob(Omnibus):</th> <td> 0.270</td> <th>  Jarque-Bera (JB):  </th> <td>   2.026</td>\n",
       "</tr>\n",
       "<tr>\n",
       "  <th>Skew:</th>          <td>-0.800</td> <th>  Prob(JB):          </th> <td>   0.363</td>\n",
       "</tr>\n",
       "<tr>\n",
       "  <th>Kurtosis:</th>      <td> 2.455</td> <th>  Cond. No.          </th> <td>    3.79</td>\n",
       "</tr>\n",
       "</table><br/><br/>Notes:<br/>[1] Standard Errors assume that the covariance matrix of the errors is correctly specified."
      ],
      "text/plain": [
       "<class 'statsmodels.iolib.summary.Summary'>\n",
       "\"\"\"\n",
       "                            WLS Regression Results                            \n",
       "==============================================================================\n",
       "Dep. Variable:                      y   R-squared:                       0.957\n",
       "Model:                            WLS   Adj. R-squared:                  0.954\n",
       "Method:                 Least Squares   F-statistic:                     333.2\n",
       "Date:                Wed, 17 Aug 2022   Prob (F-statistic):           1.18e-11\n",
       "Time:                        12:35:00   Log-Likelihood:                -10.205\n",
       "No. Observations:                  17   AIC:                             24.41\n",
       "Df Residuals:                      15   BIC:                             26.08\n",
       "Df Model:                           1                                         \n",
       "Covariance Type:            nonrobust                                         \n",
       "==============================================================================\n",
       "                 coef    std err          t      P>|t|      [0.025      0.975]\n",
       "------------------------------------------------------------------------------\n",
       "const         -0.2140      0.124     -1.727      0.105      -0.478       0.050\n",
       "x1             0.9018      0.049     18.254      0.000       0.797       1.007\n",
       "==============================================================================\n",
       "Omnibus:                        2.618   Durbin-Watson:                   1.276\n",
       "Prob(Omnibus):                  0.270   Jarque-Bera (JB):                2.026\n",
       "Skew:                          -0.800   Prob(JB):                        0.363\n",
       "Kurtosis:                       2.455   Cond. No.                         3.79\n",
       "==============================================================================\n",
       "\n",
       "Notes:\n",
       "[1] Standard Errors assume that the covariance matrix of the errors is correctly specified.\n",
       "\"\"\""
      ]
     },
     "execution_count": 23,
     "metadata": {},
     "output_type": "execute_result"
    }
   ],
   "source": [
    "mask = edr3_timing_pm[\"plx_t\"] > 0\n",
    "results = fit_plx_offset(edr3_timing_pm[mask][\"plx_g\"], edr3_timing_pm[mask][\"plx_t\"],\n",
    "                         dplx_err[mask])\n",
    "results.summary()"
   ]
  },
  {
   "cell_type": "code",
   "execution_count": 39,
   "id": "8162c25d",
   "metadata": {
    "ExecuteTime": {
     "end_time": "2022-08-17T08:51:28.425959Z",
     "start_time": "2022-08-17T08:51:28.018382Z"
    }
   },
   "outputs": [
    {
     "name": "stderr",
     "output_type": "stream",
     "text": [
      "The PostScript backend does not support transparency; partially transparent artists will be rendered opaque.\n"
     ]
    },
    {
     "data": {
      "image/png": "[encoded data removed]",
      "text/plain": [
       "<Figure size 432x432 with 1 Axes>"
      ]
     },
     "metadata": {
      "needs_background": "light"
     },
     "output_type": "display_data"
    }
   ],
   "source": [
    "fig, ax = plt.subplots(figsize=(6, 6))\n",
    "\n",
    "ax.errorbar(pm_tab200[\"plx_g\"], pm_tab200[\"plx_t\"],\n",
    "\n",
    "            yerr=pm_tab200[\"plx_err_t\"],\n",
    "            xerr=pm_tab200[\"plx_err_g\"],\n",
    "            fmt=\"b^\",\n",
    "            ecolor=\"k\",\n",
    "            elinewidth=0.1,\n",
    "            capsize=1,\n",
    "            label=\"DE200\")\n",
    "\n",
    "ax.errorbar(pm_tab405[\"plx_g\"], pm_tab405[\"plx_t\"],\n",
    "\n",
    "            yerr=pm_tab405[\"plx_err_t\"],\n",
    "            xerr=pm_tab405[\"plx_err_g\"],\n",
    "            fmt=\"gx\",\n",
    "            ecolor=\"k\",\n",
    "            elinewidth=0.1,\n",
    "            capsize=1,\n",
    "            label=\"DE405\")\n",
    "\n",
    "ax.errorbar(pm_tab421[\"plx_g\"], pm_tab421[\"plx_t\"],\n",
    "\n",
    "            yerr=pm_tab421[\"plx_err_t\"],\n",
    "            xerr=pm_tab421[\"plx_err_g\"],\n",
    "            fmt=\"v\",\n",
    "            color=\"purple\",\n",
    "            ecolor=\"k\",\n",
    "            elinewidth=0.1,\n",
    "            capsize=1,\n",
    "            label=\"DE421\")\n",
    "\n",
    "ax.errorbar(pm_tab436[\"plx_g\"], pm_tab436[\"plx_t\"],\n",
    "\n",
    "            yerr=pm_tab436[\"plx_err_t\"],\n",
    "            xerr=pm_tab436[\"plx_err_g\"],\n",
    "            fmt=\"ro\",\n",
    "            ecolor=\"k\",\n",
    "            elinewidth=0.1,\n",
    "            capsize=1,\n",
    "            label=\"DE436\")\n",
    "\n",
    "\n",
    "x = np.arange(-5, 10, 0.1)\n",
    "ax.plot(x, x, \"--\", color=\"tab:grey\", lw=1)\n",
    "ax.text(4, 4.7, \"$y=x$\", rotation=45, color=\"tab:grey\", fontsize=12)\n",
    "\n",
    "ax.plot(x, 0.90 * x - 0.21, ls=\"dotted\", lw=1, color=\"tab:grey\")\n",
    "ax.text(3, 2., \"$y=0.90x-0.21$\", rotation=45, color=\"tab:grey\", fontsize=12)\n",
    "\n",
    "ax.text(7.3, 3., \"J0437$-$4715\", color=\"k\", rotation=90)\n",
    "ax.text(2.2, 1.0, \"J1012+5307\", color=\"k\")\n",
    "ax.text(-1.5, 2.5, \"J1024$-$0719\", color=\"k\")\n",
    "ax.arrow(-0.5, 2.4, 1.1, -1.3, width=0.01, color=\"tab:grey\")\n",
    "ax.text(0., -4, \"J1955+2908\", color=\"k\", rotation=90)\n",
    "\n",
    "ax.axis(\"square\")\n",
    "ax.axis([-3, 9, -5, 7])\n",
    "ax.xaxis.set_minor_locator(MultipleLocator(0.5))\n",
    "ax.yaxis.set_minor_locator(MultipleLocator(0.5))\n",
    "\n",
    "ax.set_ylabel(\"$\\\\varpi$ from timing (mas)\", fontsize=15)\n",
    "ax.set_xlabel(\"$\\\\varpi$ from Gaia (mas)\", fontsize=15)\n",
    "# ax.arrow(-4.5, -2.5, 0, 1, width=0.05, color=\"tab:grey\")\n",
    "\n",
    "# plt.grid(lw=1)\n",
    "plt.tight_layout()\n",
    "plt.legend(loc=\"upper left\")\n",
    "\n",
    "plt.savefig(\"../plots/gedr3_plx-com.eps\")\n"
   ]
  },
  {
   "cell_type": "code",
   "execution_count": 25,
   "id": "5313c402",
   "metadata": {
    "ExecuteTime": {
     "end_time": "2022-08-17T04:35:01.181644Z",
     "start_time": "2022-08-17T04:35:01.175965Z"
    }
   },
   "outputs": [
    {
     "data": {
      "text/html": [
       "<div><i>Table length=20</i>\n",
       "<table id=\"table140511473100112\" class=\"table-striped table-bordered table-condensed\">\n",
       "<thead><tr><th>psr_name</th><th>plx_t</th><th>plx_g</th><th>ref</th><th>eph</th></tr></thead>\n",
       "<thead><tr><th></th><th>mas</th><th>mas</th><th></th><th></th></tr></thead>\n",
       "<thead><tr><th>bytes12</th><th>float64</th><th>float64</th><th>bytes6</th><th>bytes5</th></tr></thead>\n",
       "<tr><td>J0437-4715</td><td>6.373</td><td>7.1008</td><td>rhc+16</td><td>DE421</td></tr>\n",
       "<tr><td>J0437-4715</td><td>6.441</td><td>7.1008</td><td>vlh+16</td><td>DE421</td></tr>\n",
       "<tr><td>J0437-4715</td><td>1.0</td><td>7.1008</td><td>bbm+97</td><td>DE200</td></tr>\n",
       "<tr><td>J0437-4715</td><td>6.418</td><td>7.1008</td><td>pdd+19</td><td>DE436</td></tr>\n",
       "<tr><td>J1012+5307</td><td>1.3</td><td>1.7448</td><td>abb+18</td><td>DE436</td></tr>\n",
       "<tr><td>J1012+5307</td><td>0.782</td><td>1.7448</td><td>vlh+16</td><td>DE421</td></tr>\n",
       "<tr><td>J1012+5307</td><td>0.933</td><td>1.7448</td><td>pdd+19</td><td>DE436</td></tr>\n",
       "<tr><td>J1012+5307</td><td>1.22</td><td>1.7448</td><td>lwj+09</td><td>DE405</td></tr>\n",
       "<tr><td>J1012+5307</td><td>1.0</td><td>1.7448</td><td>mnf+16</td><td>DE421</td></tr>\n",
       "<tr><td>J1012+5307</td><td>0.71</td><td>1.7448</td><td>dcl+16</td><td>DE421</td></tr>\n",
       "<tr><td>J1024-0719</td><td>0.526</td><td>0.8572</td><td>rhc+16</td><td>DE421</td></tr>\n",
       "<tr><td>J1024-0719</td><td>0.8</td><td>0.8572</td><td>dcl+16</td><td>DE421</td></tr>\n",
       "<tr><td>J1024-0719</td><td>0.83</td><td>0.8572</td><td>rsc+21</td><td>DE436</td></tr>\n",
       "<tr><td>J1024-0719</td><td>0.6</td><td>0.8572</td><td>mnf+16</td><td>DE421</td></tr>\n",
       "<tr><td>J1024-0719</td><td>0.831</td><td>0.8572</td><td>vlh+16</td><td>DE421</td></tr>\n",
       "<tr><td>J1024-0719</td><td>0.8</td><td>0.8572</td><td>abb+18</td><td>DE436</td></tr>\n",
       "<tr><td>J1024-0719</td><td>0.822</td><td>0.8572</td><td>pdd+19</td><td>DE436</td></tr>\n",
       "<tr><td>J1955+2908</td><td>0.0</td><td>0.4749</td><td>abb+18</td><td>DE436</td></tr>\n",
       "<tr><td>J1955+2908</td><td>-4.0</td><td>0.4749</td><td>mnf+16</td><td>DE421</td></tr>\n",
       "<tr><td>J1955+2908</td><td>-1.178</td><td>0.4749</td><td>pdd+19</td><td>DE436</td></tr>\n",
       "</table></div>"
      ],
      "text/plain": [
       "<Table length=20>\n",
       " psr_name   plx_t   plx_g   ref    eph  \n",
       "             mas     mas                \n",
       " bytes12   float64 float64 bytes6 bytes5\n",
       "---------- ------- ------- ------ ------\n",
       "J0437-4715   6.373  7.1008 rhc+16  DE421\n",
       "J0437-4715   6.441  7.1008 vlh+16  DE421\n",
       "J0437-4715     1.0  7.1008 bbm+97  DE200\n",
       "J0437-4715   6.418  7.1008 pdd+19  DE436\n",
       "J1012+5307     1.3  1.7448 abb+18  DE436\n",
       "J1012+5307   0.782  1.7448 vlh+16  DE421\n",
       "J1012+5307   0.933  1.7448 pdd+19  DE436\n",
       "J1012+5307    1.22  1.7448 lwj+09  DE405\n",
       "J1012+5307     1.0  1.7448 mnf+16  DE421\n",
       "J1012+5307    0.71  1.7448 dcl+16  DE421\n",
       "J1024-0719   0.526  0.8572 rhc+16  DE421\n",
       "J1024-0719     0.8  0.8572 dcl+16  DE421\n",
       "J1024-0719    0.83  0.8572 rsc+21  DE436\n",
       "J1024-0719     0.6  0.8572 mnf+16  DE421\n",
       "J1024-0719   0.831  0.8572 vlh+16  DE421\n",
       "J1024-0719     0.8  0.8572 abb+18  DE436\n",
       "J1024-0719   0.822  0.8572 pdd+19  DE436\n",
       "J1955+2908     0.0  0.4749 abb+18  DE436\n",
       "J1955+2908    -4.0  0.4749 mnf+16  DE421\n",
       "J1955+2908  -1.178  0.4749 pdd+19  DE436"
      ]
     },
     "execution_count": 25,
     "metadata": {},
     "output_type": "execute_result"
    }
   ],
   "source": [
    "edr3_timing_pm[\"psr_name\", \"plx_t\", \"plx_g\", \"ref\", \"eph\"]"
   ]
  }
 ],
 "metadata": {
  "hide_input": false,
  "kernelspec": {
   "display_name": "Python 3 (ipykernel)",
   "language": "python",
   "name": "python3"
  },
  "language_info": {
   "codemirror_mode": {
    "name": "ipython",
    "version": 3
   },
   "file_extension": ".py",
   "mimetype": "text/x-python",
   "name": "python",
   "nbconvert_exporter": "python",
   "pygments_lexer": "ipython3",
   "version": "3.9.12"
  }
 },
 "nbformat": 4,
 "nbformat_minor": 5
}
