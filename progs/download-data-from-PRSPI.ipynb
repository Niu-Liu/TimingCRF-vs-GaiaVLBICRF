{
 "cells": [
  {
   "cell_type": "code",
   "execution_count": 1,
   "id": "2f1005ae",
   "metadata": {
    "ExecuteTime": {
     "end_time": "2022-01-26T08:27:04.632761Z",
     "start_time": "2022-01-26T08:27:02.724567Z"
    }
   },
   "outputs": [],
   "source": [
    "import re\n",
    "import requests\n",
    "from bs4 import BeautifulSoup\n",
    "import numpy as np\n",
    "\n",
    "from astropy.coordinates import SkyCoord\n",
    "import astropy.units as u"
   ]
  },
  {
   "cell_type": "code",
   "execution_count": 2,
   "id": "6a8f6bc5",
   "metadata": {
    "ExecuteTime": {
     "end_time": "2022-01-26T08:27:08.340369Z",
     "start_time": "2022-01-26T08:27:06.789918Z"
    }
   },
   "outputs": [],
   "source": [
    "url = \"https://safe.nrao.edu/vlba/psrpi\"\n",
    "r = requests.get(\"%s/release.html\" % url)\n",
    "\n",
    "link = re.findall(\"(?<=href=\\\")release/.+?(?=\\\")\", r.text)"
   ]
  },
  {
   "cell_type": "code",
   "execution_count": 3,
   "id": "bcb549d1",
   "metadata": {
    "ExecuteTime": {
     "end_time": "2022-01-26T08:27:17.012539Z",
     "start_time": "2022-01-26T08:27:17.005387Z"
    }
   },
   "outputs": [],
   "source": [
    "def parse_pmline(pm_line):\n",
    "    \"\"\"\n",
    "    \"\"\"\n",
    "    \n",
    "    # Location of - and +\n",
    "    loc_m = pm_line.index(\"-\")\n",
    "    loc_p = pm_line.index(\"+\")\n",
    "\n",
    "\n",
    "    if pm_line.index(\"-\") == 0:\n",
    "        # negative pm\n",
    "        loc_m = pm_line[1:].index(\"-\") + 1\n",
    "        \n",
    "    pm = float(pm_line[:loc_m])\n",
    "    pm_err_low = float(pm_line[loc_m+1:loc_p])\n",
    "    pm_err_hig = float(pm_line[loc_p:])\n",
    "    \n",
    "    pm_err = max([pm_err_low, pm_err_hig])\n",
    "    \n",
    "    return pm, pm_err"
   ]
  },
  {
   "cell_type": "code",
   "execution_count": 4,
   "id": "c9919b0d",
   "metadata": {
    "ExecuteTime": {
     "end_time": "2022-01-26T08:28:41.025575Z",
     "start_time": "2022-01-26T08:27:32.424500Z"
    }
   },
   "outputs": [
    {
     "name": "stdout",
     "output_type": "stream",
     "text": [
      "J0040+5716\n",
      "J0055+5117\n",
      "J0102+6537\n",
      "J0108+6608\n",
      "J0147+5922\n",
      "J0151-0635\n",
      "J0152-1637\n",
      "J0157+6212\n",
      "J0323+3944\n",
      "J0332+5434\n",
      "J0335+4555\n",
      "J0357+5236\n",
      "J0406+6138\n",
      "J0601-0527\n",
      "J0614+2229\n",
      "J0629+2415\n",
      "J0729-1836\n",
      "J0823+0159\n",
      "J0826+2637\n",
      "J1022+1001\n",
      "J1136+1551\n",
      "J1257-1027\n",
      "J1321+8323\n",
      "J1532+2745\n",
      "J1543-0620\n",
      "J1607-0032\n",
      "J1623-0908\n",
      "J1645-0317\n",
      "J1650-1654\n",
      "J1703-1846\n",
      "J1735-0724\n",
      "J1741-0840\n",
      "J1754+5201\n",
      "J1820-0427\n",
      "J1833-0338\n",
      "J1840+5640\n",
      "J1901-0906\n",
      "J1912+2104\n",
      "J1913+1400\n",
      "J1917+1353\n",
      "J1919+0021\n",
      "J1937+2544\n",
      "J2006-0807\n",
      "J2010-1323\n",
      "J2046+1540\n",
      "J2046-0421\n",
      "J2113+2754\n",
      "J2113+4644\n",
      "J2145-0750\n",
      "J2149+6329\n",
      "J2150+5247\n",
      "J2212+2933\n",
      "J2225+6535\n",
      "J2248-0101\n",
      "J2305+3100\n",
      "J2317+1439\n",
      "J2317+2149\n",
      "J2325+6316\n",
      "J2346-0609\n",
      "J2354+6155\n"
     ]
    }
   ],
   "source": [
    "with open(\"../data/psrpi.dat\", \"w\") as fout:\n",
    "    print(\n",
    "        \"psr_name, pos_epoch, ra, dec, pmra, pmdec, plx, \"\n",
    "        \"ra_err, dec_err, pmra_err, pmdec_err, plx_err\\n\"\n",
    "        \"# , MJD, deg, deg, mas/yr, mas/yr, mas,\"\n",
    "        \" mas, mas, mas/yr, mas/yr, mas\",\n",
    "        file=fout)\n",
    "\n",
    "    for linki in link:\n",
    "        r = requests.get(\"%s/%s\" % (url, linki))\n",
    "        soup = BeautifulSoup(r.text, \"lxml\")\n",
    "        data = soup.select(\"body > table:nth-child(8) > tr\")\n",
    "\n",
    "        # PSR name\n",
    "        psr_name = data[0].get_text()\n",
    "        print(psr_name)\n",
    "\n",
    "        # Position epoch\n",
    "        pos_epoch = float(data[1].get_text().split(\"MJD\")[1])\n",
    "\n",
    "        # RA and its error\n",
    "        ra_line = data[2].get_text().split(\"RA\")[1]\n",
    "        ra_str, ra_err_str = ra_line.split(\"(\")\n",
    "        sig_dig = len(ra_str.split(\".\")[1])\n",
    "        ra_err = float(\n",
    "            ra_err_str.split(\")\")[0]) * 10**(3 - sig_dig) * 15  # second -> mas\n",
    "\n",
    "        # Decl. and its error\n",
    "        dec_line = data[3].get_text().split(\"Dec\")[1]\n",
    "        dec_str, dec_err_str = dec_line.split(\"(\")\n",
    "        sig_dig = len(dec_str.split(\".\")[1])\n",
    "        dec_err = float(dec_err_str.split(\")\")[0]) * 10**(3 - sig_dig\n",
    "                                                          )  # arcsec -> mas\n",
    "        if dec_str[:3] == \"$-$\":\n",
    "            dec_str = \"-\" + dec_str[3:]\n",
    "\n",
    "        ra_dec = SkyCoord(ra_str, dec_str, unit=(u.hourangle, u.degree))\n",
    "        # ra_dec\n",
    "        ra = ra_dec.ra.deg\n",
    "        dec = ra_dec.dec.deg\n",
    "\n",
    "        # Correct for the cos(decl.)\n",
    "        ra_err = ra_err * np.cos(ra_dec.dec.rad)\n",
    "\n",
    "        # PMRA\n",
    "        pmra_line = data[4].get_text().split(\"PM_RA (mas/yr)\")[1]\n",
    "        pmra, pmra_err = parse_pmline(pmra_line)\n",
    "\n",
    "        # PMDEC\n",
    "        pmdec_line = data[5].get_text().split(\"PM_Dec (mas/yr)\")[1]\n",
    "        pmdec, pmdec_err = parse_pmline(pmdec_line)\n",
    "\n",
    "        # Parallax\n",
    "        plx_line = data[6].get_text().split(\"Parallax (mas)\")[1]\n",
    "        plx, plx_err = parse_pmline(plx_line)\n",
    "\n",
    "        line_fmt = [\n",
    "            \"{:10s},{:7.1f},{:15.10f},{:15.10f},{:8.3f},{:8.3f},{:8.3f},\"\n",
    "            \"{:6.3f},{:6.3f},{:6.3f},{:6.3f},{:6.3f}\"\n",
    "        ][0]\n",
    "\n",
    "        print(line_fmt.format(psr_name, pos_epoch, ra, dec, pmra, pmdec, plx,\n",
    "                              ra_err, dec_err, pmra_err, pmdec_err, plx_err),\n",
    "              file=fout)"
   ]
  }
 ],
 "metadata": {
  "hide_input": false,
  "kernelspec": {
   "display_name": "Python 3 (ipykernel)",
   "language": "python",
   "name": "python3"
  },
  "language_info": {
   "codemirror_mode": {
    "name": "ipython",
    "version": 3
   },
   "file_extension": ".py",
   "mimetype": "text/x-python",
   "name": "python",
   "nbconvert_exporter": "python",
   "pygments_lexer": "ipython3",
   "version": "3.9.12"
  }
 },
 "nbformat": 4,
 "nbformat_minor": 5
}
