{
 "cells": [
  {
   "cell_type": "markdown",
   "id": "1c4637b5",
   "metadata": {},
   "source": [
    "This notebook is intended to generate the tabular table for the *Gaia* EDR3 pulsars."
   ]
  },
  {
   "cell_type": "code",
   "execution_count": 1,
   "id": "e497bf95",
   "metadata": {
    "ExecuteTime": {
     "end_time": "2022-08-19T11:50:10.097777Z",
     "start_time": "2022-08-19T11:50:09.510185Z"
    }
   },
   "outputs": [],
   "source": [
    "import numpy as np\n",
    "\n",
    "from astropy.table import Table, join, setdiff, vstack"
   ]
  },
  {
   "cell_type": "markdown",
   "id": "ac494eda",
   "metadata": {},
   "source": [
    "However, by manually checking, three sources in the PPTA-DR2e but not in the  "
   ]
  },
  {
   "cell_type": "code",
   "execution_count": 2,
   "id": "ca1a75b8",
   "metadata": {
    "ExecuteTime": {
     "end_time": "2022-08-19T11:50:10.138242Z",
     "start_time": "2022-08-19T11:50:10.099505Z"
    }
   },
   "outputs": [],
   "source": [
    "# edr3_antf = Table.read(\"../data/edr3_psrcatv1.65.fits\")\n",
    "# edr3_antf = Table.read(\"../data/edr3_psrcatv1.66.fits\")\n",
    "edr3_antf = Table.read(\"../data/edr3_psrcatv1.67.fits\")"
   ]
  },
  {
   "cell_type": "code",
   "execution_count": 3,
   "id": "d4a0c91d",
   "metadata": {
    "ExecuteTime": {
     "end_time": "2022-08-19T11:50:10.145467Z",
     "start_time": "2022-08-19T11:50:10.142020Z"
    }
   },
   "outputs": [],
   "source": [
    "psr_name_map ={\n",
    "    \"B1259-63\": \"J1302-6350\",\n",
    "    \"B1957+20\": \"J1959+2048\",\n",
    "    \"B0531+21\": \"J0534+2200\",\n",
    "    \"B0540-69\": \"J0540-6919\",\n",
    "    \"B1953+29\": \"J1955+2908\",\n",
    "    \"B0611+22\": \"J0614+2229\",\n",
    "    \"B1302-64\": \"J1305-6455\",\n",
    "    \"B1813-36\": \"J1817-6455\",\n",
    "    \"B1848+12\": \"J1851+1259\",\n",
    "    \n",
    "}"
   ]
  },
  {
   "cell_type": "code",
   "execution_count": 4,
   "id": "2617a9b8",
   "metadata": {
    "ExecuteTime": {
     "end_time": "2022-08-19T11:50:10.154601Z",
     "start_time": "2022-08-19T11:50:10.147557Z"
    }
   },
   "outputs": [],
   "source": [
    "psr_name = []\n",
    "\n",
    "for psr_namei in edr3_antf[\"name\"]:\n",
    "    if psr_namei in psr_name_map.keys():\n",
    "        psr_name.append(psr_name_map[psr_namei])\n",
    "    else:\n",
    "        psr_name.append(psr_namei)\n",
    "\n",
    "\n",
    "edr3_antf[\"name\"] = psr_name\n",
    "edr3_antf.sort(\"name\")"
   ]
  },
  {
   "cell_type": "code",
   "execution_count": 16,
   "id": "eb04c9b6",
   "metadata": {
    "ExecuteTime": {
     "end_time": "2022-08-19T13:00:26.306969Z",
     "start_time": "2022-08-19T13:00:26.294883Z"
    },
    "scrolled": true
   },
   "outputs": [],
   "source": [
    "def print_tab(tab):\n",
    "    for i in range(len(tab)):\n",
    "        #         print(\"%\")\n",
    "        \n",
    "        psr_name = tab[\"name\"][i]\n",
    "        \n",
    "        if psr_name[5] == \"-\":\n",
    "            psr_name = psr_name[:5] + \"-\" + psr_name[5:]\n",
    "\n",
    "        line_arr1 = [\n",
    "            \"{:11s}  &{:20d}  \".format(psr_name, tab[\"source_id\"][i])\n",
    "        ]\n",
    "\n",
    "        # Separation\n",
    "        line_arr1.append(\"&{:7.2f}  \".format(tab[\"angDist\"][i]))\n",
    "\n",
    "        # ATNF positional uncertainty\n",
    "        atnf_ra_err = \"{:7.3f}\".format(tab[\"rajerr\"][i]*15e3*np.cos(np.deg2rad(tab[\"dec\"][i])))\n",
    "        atnf_dec_err = \"{:7.3f}\".format(tab[\"decjerr\"][i]*1e3)\n",
    "        line_arr1.append(\"&{:7s}  &{:7s}  \".format(\n",
    "            atnf_ra_err.rstrip(\"0\").rstrip(\".\"), atnf_dec_err.rstrip(\"0\").rstrip(\".\")))\n",
    "        \n",
    "        # Gaia positional uncertainty        \n",
    "        line_arr1.append(\"&{:7.3f}  &{:7.3f}  \".format(tab[\"ra_error\"][i], tab[\"dec_error\"][i]))\n",
    "        \n",
    "        # Spin period\n",
    "        line_arr1.append(\"&{:6.3f}  \".format(tab[\"p0\"][i]))\n",
    "\n",
    "        # Orbital period\n",
    "        if tab[\"pb\"][i] < 1e10:\n",
    "            line_arr1.append(\"&{:10.2f}  \".format(tab[\"pb\"][i]))\n",
    "        else:\n",
    "            line_arr1.append(\"&{:10s}  \".format(\"        --\"))\n",
    "\n",
    "        # G-mag\n",
    "        line_arr1.append(\"&{:5.2f}  \".format(tab[\"phot_g_mean_mag\"][i]))\n",
    "\n",
    "        # End of the line\n",
    "        line_arr1.append(\"\\\\\\\\\")\n",
    "\n",
    "        line1 = \"\".join(line_arr1)\n",
    "\n",
    "        print(line1)\n",
    "\n",
    "\n",
    "#     print(\"%\")"
   ]
  },
  {
   "cell_type": "code",
   "execution_count": 17,
   "id": "31e65995",
   "metadata": {
    "ExecuteTime": {
     "end_time": "2022-08-19T13:00:28.915207Z",
     "start_time": "2022-08-19T13:00:28.908337Z"
    },
    "scrolled": false
   },
   "outputs": [
    {
     "name": "stdout",
     "output_type": "stream",
     "text": [
      "J0045--7319  & 4685849525145183232  &   0.51  &301.42   & 70      &  0.038  &  0.038  & 0.926  &     51.17  &16.20  \\\\\n",
      "J0337+1715   &   44308738051547264  &   0.09  &  1.862  &  0.13   &  0.136  &  0.141  & 0.003  &      1.63  &18.05  \\\\\n",
      "J0348+0432   & 3273288485744249344  &   0.04  &  0.06   &  0.004  &  0.696  &  0.646  & 0.039  &      0.10  &20.59  \\\\\n",
      "J0437--4715  & 4789864076732331648  &   1.14  &  0.006  &  0.001  &  0.459  &  0.516  & 0.006  &      5.74  &20.35  \\\\\n",
      "J0534+2200   & 3403818172572314624  &   0.37  & 69.532  &  5      &  0.073  &  0.061  & 0.033  &        --  &16.53  \\\\\n",
      "J0534--6703  & 4660152083015919872  &   0.52  &584.566  &100      &  0.155  &  0.154  & 1.818  &        --  &18.86  \\\\\n",
      "J0540--6919  & 4657672890443808512  &   0.03  & 47.649  &  9      &  1.205  &  1.320  & 0.051  &        --  &20.77  \\\\\n",
      "J0614+2229   & 3376990741688176384  &   0.41  &  1.386  &  0.1    &  0.544  &  0.535  & 0.335  &        --  &19.62  \\\\\n",
      "J0857--4424  & 5331775184393659264  &   0.54  & 21.433  &  2      &  0.205  &  0.205  & 0.327  &        --  &18.39  \\\\\n",
      "J1012+5307   &  851610861391010944  &   0.29  &  0.099  &  0.011  &  0.204  &  0.204  & 0.005  &      0.60  &19.59  \\\\\n",
      "J1023+0038   & 3831382647922429952  &   0.17  &  0.45   &  0.03   &  0.058  &  0.055  & 0.002  &      0.20  &16.23  \\\\\n",
      "J1024--0719  & 3775277872387310208  &   0.62  &  0.052  &  0.004  &  0.254  &  0.256  & 0.005  &        --  &19.15  \\\\\n",
      "J1036--8317  & 5192229742737133696  &   0.35  &  5.251  &  3      &  0.131  &  0.123  & 0.003  &      0.34  &18.57  \\\\\n",
      "J1048+2339   & 3990037124929068032  &   0.28  &  1.044  &  0.076  &  0.307  &  0.380  & 0.005  &      0.25  &19.59  \\\\\n",
      "J1227--4853  & 6128369984328414336  &   0.25  &  9.862  &  1      &  0.097  &  0.061  & 0.002  &      0.29  &18.07  \\\\\n",
      "J1302--6350  & 5862299960127967488  &   0.11  &  0.079  &  0.012  &  0.009  &  0.010  & 0.048  &   1236.72  & 9.63  \\\\\n",
      "J1305--6455  & 5858993350772345984  &   0.48  &127.144  & 20      &  0.027  &  0.028  & 0.572  &        --  &16.04  \\\\\n",
      "J1306--4035  & 6140785016794586752  &   0.27  &227.816  & 20      &  0.130  &  0.109  & 0.002  &      1.10  &18.09  \\\\\n",
      "J1311--3430  & 6179115508262195200  &   0.08  &  2.472  &  0.2    &  1.144  &  0.626  & 0.003  &      0.07  &20.44  \\\\\n",
      "J1417--4402  & 6096705840454620800  &   0.30  &970.301  & 90      &  0.040  &  0.033  & 0.003  &      5.37  &15.77  \\\\\n",
      "J1431--4715  & 6098156298150016768  &   0.22  &  2.036  &  0.2    &  0.082  &  0.107  & 0.002  &      0.45  &17.73  \\\\\n",
      "J1435--6100  & 5878387705005976832  &   0.41  &  3.634  &  0.5    &  0.125  &  0.178  & 0.009  &      1.35  &18.92  \\\\\n",
      "J1509--6015  & 5876497399692841088  &   0.20  &744.206  &100      &  0.074  &  0.080  & 0.339  &        --  &17.76  \\\\\n",
      "J1542--5133  & 5886184887428050048  &   0.33  &1212.312  &130      &  0.210  &  0.187  & 1.784  &        --  &19.03  \\\\\n",
      "J1546--5302  & 5885808648276626304  &   0.56  &901.892  &100      & 17.726  &  5.101  & 0.581  &        --  &21.11  \\\\\n",
      "J1622--0315  & 4358428942492430336  &   0.19  &  4.493  &  0.3    &  0.248  &  0.187  & 0.004  &      0.16  &19.21  \\\\\n",
      "J1624--4411  & 5992089027071540352  &   0.30  &193.59   & 18      &  0.404  &  0.276  & 0.233  &        --  &19.88  \\\\\n",
      "J1624--4721  & 5941843098026132608  &   0.31  &812.907  & 80      &  0.876  &  0.441  & 0.449  &        --  &20.39  \\\\\n",
      "J1653--0158  & 4379227476242700928  &   0.27  &  0.75   &  0.05   &  0.632  &  0.353  & 0.002  &      0.05  &20.45  \\\\\n",
      "J1723--2837  & 4059795674516044800  &   0.11  & 10.533  &  0.8    &  0.035  &  0.025  & 0.002  &      0.62  &15.54  \\\\\n",
      "J1810+1744   & 4526229058440076288  &   0.05  &142.864  & 10      &  0.379  &  0.441  & 0.002  &      0.15  &20.00  \\\\\n",
      "J1816+4510   & 2115337192179377792  &   0.06  &  0.74   &  0.07   &  0.094  &  0.096  & 0.003  &      0.36  &18.20  \\\\\n",
      "J1817--3618  & 4038146565444090240  &   0.42  &108.798  &  9      &  0.106  &  0.106  & 0.387  &        --  &17.62  \\\\\n",
      "J1839--0905  & 4155609699080401920  &   0.17  &444.352  & 30      &  0.049  &  0.045  & 0.419  &        --  &16.51  \\\\\n",
      "J1851+1259   & 4504706118346043392  &   0.33  & 89.157  &  6.1    &  0.818  &  1.030  & 1.205  &        --  &20.50  \\\\\n",
      "J1852+0040   & 4266508881354196736  &   0.54  &599.959  & 40      &  0.638  &  0.778  & 0.105  &        --  &20.21  \\\\\n",
      "J1903--0258  & 4261581076409458304  &   0.39  &164.778  & 11      &  0.243  &  0.245  & 0.301  &        --  &18.93  \\\\\n",
      "J1928+1245   & 4316237348443952128  &   0.16  &  0.878  &  0.06   &  0.113  &  0.133  & 0.003  &      0.14  &18.23  \\\\\n",
      "J1946+2052   & 1825839908094612992  &   0.36  & 84.093  &  6      &  0.291  &  0.319  & 0.017  &      0.08  &19.86  \\\\\n",
      "J1955+2908   & 2028584968839606784  &   0.11  &  0.096  &  0.007  &  0.102  &  0.137  & 0.006  &    117.35  &18.70  \\\\\n",
      "J1957+2516   & 1834595731470345472  &   0.18  &  4.069  &  0.3    &  0.357  &  0.659  & 0.004  &      0.24  &20.28  \\\\\n",
      "J1958+2846   & 2030000280820200960  &   0.43  &394.47   & 30      &  0.157  &  0.212  & 0.290  &        --  &19.34  \\\\\n",
      "J1959+2048   & 1823773960079216896  &   0.24  &  0.701  &  0.05   &  0.635  &  0.703  & 0.002  &      0.38  &20.17  \\\\\n",
      "J2027+4557   & 2071054503122390144  &   0.27  & 31.279  &  3      &  0.023  &  0.025  & 1.100  &        --  &15.71  \\\\\n",
      "J2032+4127   & 2067835682818358400  &   0.07  & 22.484  &  2      &  0.012  &  0.015  & 0.143  &  16835.00  &11.28  \\\\\n",
      "J2039--5617  & 6469722508861870080  &   0.24  &  0.833  &  0.1    &  0.125  &  0.102  & 0.003  &      0.23  &18.52  \\\\\n",
      "J2129--0429  & 2672030065446134656  &   1.39  & 14.954  &  1      &  0.060  &  0.055  & 0.008  &      0.64  &16.82  \\\\\n",
      "J2215+5135   & 2001168543319218048  &   0.06  &  3.727  &  0.4    &  0.176  &  0.200  & 0.003  &      0.17  &19.20  \\\\\n",
      "J2339--0533  & 2440660623886405504  &   0.21  &149.296  & 10      &  0.159  &  0.140  & 0.003  &      0.19  &18.79  \\\\\n"
     ]
    }
   ],
   "source": [
    "print_tab(edr3_antf)"
   ]
  },
  {
   "cell_type": "code",
   "execution_count": 7,
   "id": "f7f33524",
   "metadata": {
    "ExecuteTime": {
     "end_time": "2022-08-19T11:50:10.179542Z",
     "start_time": "2022-08-19T11:50:10.174714Z"
    },
    "scrolled": false
   },
   "outputs": [],
   "source": [
    "# def print_tab(tab, new_sou):\n",
    "#     for i in range(len(tab)):\n",
    "#         print(\"%\")\n",
    "\n",
    "#         if tab[\"name\"][i] in new_sou:\n",
    "#             line_arr1 = [\"%10s\\\\tablefootmark{a}  \" % tab[\"name\"][i]]\n",
    "#         else:\n",
    "#             line_arr1 = [\"{:10s}  \".format(tab[\"name\"][i])]\n",
    "\n",
    "#         # Separation\n",
    "#         line_arr1.append(\"&{:7.4f}  &{:7.4f}  &{:4.2f}  \".format(\n",
    "#             tab[\"TrueAngDist\"][i], tab[\"poserror_sys\"][i], tab[\"Pass\"][i]))\n",
    "#         line_arr2 = [\"&  &  &  \"]\n",
    "\n",
    "#         # Gaia parallax\n",
    "#         if tab[\"parallax\"][i] <= 1e10:\n",
    "#             line_arr1.append(\"&${:7.3f}$  \".format(tab[\"parallax\"][i]))\n",
    "#             line_arr2.append(\"&$\\\\pm %7.3f$  \" % tab[\"parallax_error\"][i])\n",
    "#         else:\n",
    "#             line_arr1.append(\"& --  \")\n",
    "#             line_arr2.append(\"&     \")\n",
    "\n",
    "#         # Timing parallax\n",
    "#         if tab[\"px\"][i] <= 1e10:\n",
    "#             line_arr1.append(\"&${:7.2f}$  \".format(tab[\"px\"][i]))\n",
    "#             line_arr2.append(\"&$\\\\pm %7.2f$  \" % tab[\"pxerr\"][i])\n",
    "#         else:\n",
    "#             line_arr1.append(\"& --  \")\n",
    "#             line_arr2.append(\"&     \")\n",
    "\n",
    "#         # Gaia pm in ra\n",
    "#         if tab[\"pmra\"][i] <= 1e10:\n",
    "#             line_arr1.append(\"&${:7.3f}$  \".format(tab[\"pmra\"][i]))\n",
    "#             line_arr2.append(\"&$\\\\pm %7.3f$  \" % tab[\"pmra_error\"][i])\n",
    "#         else:\n",
    "#             line_arr1.append(\"& --  \")\n",
    "#             line_arr2.append(\"&     \")\n",
    "\n",
    "#         # Gaia pm in dec\n",
    "#         if tab[\"pmdec\"][i] <= 1e10:\n",
    "#             line_arr1.append(\"&${:7.3f}$  \".format(tab[\"pmdec\"][i]))\n",
    "#             line_arr2.append(\"&$\\\\pm %7.3f$  \" % tab[\"pmdec_error\"][i])\n",
    "#         else:\n",
    "#             line_arr1.append(\"& --  \")\n",
    "#             line_arr2.append(\"&     \")\n",
    "\n",
    "#         # Timing pm in ra\n",
    "#         if tab[\"pmra_radio\"][i]:\n",
    "#             line_arr1.append(\"&${:7.2f}$  \".format(tab[\"pmra_radio\"][i]))\n",
    "#             line_arr2.append(\"&$\\\\pm %7.2f$  \" % tab[\"pmraerr\"][i])\n",
    "#         else:\n",
    "#             line_arr1.append(\"& --  \")\n",
    "#             line_arr2.append(\"&     \")\n",
    "\n",
    "#         # Timing pm in dec\n",
    "#         if tab[\"pmdec_radio\"][i]:\n",
    "#             line_arr1.append(\"&${:7.2f}$  \".format(tab[\"pmdec_radio\"][i]))\n",
    "#             line_arr2.append(\"&$\\\\pm %7.2f$  \" % tab[\"pmdecerr\"][i])\n",
    "#         else:\n",
    "#             line_arr1.append(\"& --  \")\n",
    "#             line_arr2.append(\"&     \")\n",
    "\n",
    "#         # Spin period\n",
    "#         line_arr1.append(\"&{:6.3f}  \".format(tab[\"p0\"][i]))\n",
    "#         line_arr2.append(\"&     \")\n",
    "\n",
    "#         # Orbital period\n",
    "#         if tab[\"pb\"][i] < 1e10:\n",
    "#             line_arr1.append(\"&{:10.2f}  \".format(tab[\"pb\"][i]))\n",
    "#             line_arr2.append(\"&$\\\\pm %7.2f$  \" % tab[\"pberr\"][i])\n",
    "#         else:\n",
    "#             line_arr1.append(\"& --  \")\n",
    "#             line_arr2.append(\"&     \")\n",
    "\n",
    "#         # G-mag\n",
    "#         line_arr1.append(\"&{:5.2f}  \".format(tab[\"phot_g_mean_mag\"][i]))\n",
    "#         line_arr2.append(\"&     \")\n",
    "\n",
    "#         # absolute G-mag\n",
    "#         line_arr1.append(\"&{:5.2f}  \".format(tab[\"g_abs\"][i]))\n",
    "#         line_arr2.append(\"&     \")\n",
    "\n",
    "#         # Distance from trigonometric parallax\n",
    "#         line_arr1.append(\"&{:5.2f}  \".format(tab[\"distance\"][i]))\n",
    "#         line_arr2.append(\"&${}^{%+5.2f}_{%+5.2f}$ \" % (\n",
    "#             tab[\"distance_max\"][i] - tab[\"distance\"][i],\n",
    "#             tab[\"distance_min\"][i] - tab[\"distance\"][i],\n",
    "#         ))\n",
    "\n",
    "#         # Distance from DM measurement\n",
    "#         line_arr1.append(\"&{:5.2f}  \".format(tab[\"dist\"][i]))\n",
    "#         line_arr2.append(\"&      \")\n",
    "\n",
    "#         # End of the line\n",
    "#         line_arr1.append(\"\\\\\\\\\")\n",
    "#         line_arr2.append(\"\\\\\\\\\")\n",
    "\n",
    "#         line1 = \"\".join(line_arr1)\n",
    "#         line2 = \"\".join(line_arr2)\n",
    "\n",
    "#         print(line1)\n",
    "#         print(line2)\n",
    "\n",
    "#     print(\"%\")"
   ]
  },
  {
   "cell_type": "code",
   "execution_count": 8,
   "id": "da078bd2",
   "metadata": {
    "ExecuteTime": {
     "end_time": "2022-08-19T11:50:10.188703Z",
     "start_time": "2022-08-19T11:50:10.181922Z"
    },
    "scrolled": false
   },
   "outputs": [],
   "source": [
    "def print_tab2(tab, new_sou):\n",
    "    for i in range(len(tab)):\n",
    "        print(\"%\")\n",
    "\n",
    "#         if tab[\"name\"][i] in new_sou:\n",
    "#             line_arr1 = [\"%10s\\\\tablefootmark{a}  \" % tab[\"name\"][i]]\n",
    "#         else:\n",
    "#             line_arr1 = [\"{:10s}  \".format(tab[\"name\"][i])]\n",
    "        \n",
    "        line_arr1 = [\"{:10s}  \".format(tab[\"name\"][i])]\n",
    "\n",
    "        # Post Epoch\n",
    "        line_arr1.append(\"&{:8.1f}  \".format(\n",
    "            tab[\"posepoch\"][i]))\n",
    "        line_arr2 = [\"&  \"]\n",
    "\n",
    "        # Timing Position\n",
    "        line_arr1.append(\"&${:7.1f}$  &${:+7.1f}$  \".format(\n",
    "            tab[\"raj\"][i], tab[\"decj\"][i]))\n",
    "        line_arr2.append(\"&${:7.1f}$  &${:7.1f}$  \".format(\n",
    "            tab[\"rajerr\"][i]*1e3, tab[\"decjerr\"][i]*1e3))\n",
    "\n",
    "        # Timing pm in ra\n",
    "        if tab[\"pmra_radio\"][i]:\n",
    "            line_arr1.append(\"&${:7.2f}$  \".format(tab[\"pmra_radio\"][i]))\n",
    "            line_arr2.append(\"&$\\\\pm %7.2f$  \" % tab[\"pmraerr\"][i])\n",
    "        else:\n",
    "            line_arr1.append(\"& --  \")\n",
    "            line_arr2.append(\"&     \")\n",
    "\n",
    "        # Timing pm in dec\n",
    "        if tab[\"pmdec_radio\"][i]:\n",
    "            line_arr1.append(\"&${:7.2f}$  \".format(tab[\"pmdec_radio\"][i]))\n",
    "            line_arr2.append(\"&$\\\\pm %7.2f$  \" % tab[\"pmdecerr\"][i])\n",
    "        else:\n",
    "            line_arr1.append(\"& --  \")\n",
    "            line_arr2.append(\"&     \")\n",
    "\n",
    "        # Timing parallax\n",
    "        if tab[\"px\"][i] <= 1e10:\n",
    "            line_arr1.append(\"&${:7.2f}$  \".format(tab[\"px\"][i]))\n",
    "            line_arr2.append(\"&$\\\\pm %7.2f$  \" % tab[\"pxerr\"][i])\n",
    "        else:\n",
    "            line_arr1.append(\"& --  \")\n",
    "            line_arr2.append(\"&     \")\n",
    "\n",
    "            line_arr2.append(\"&     \")\n",
    "\n",
    "        # G-mag\n",
    "        line_arr1.append(\"&{:5.1f}  \".format(tab[\"phot_g_mean_mag\"][i]))\n",
    "        line_arr2.append(\"&     \")\n",
    "\n",
    "\n",
    "        # End of the line\n",
    "        line_arr1.append(\"\\\\\\\\\")\n",
    "        line_arr2.append(\"\\\\\\\\\")\n",
    "\n",
    "        line1 = \"\".join(line_arr1)\n",
    "        line2 = \"\".join(line_arr2)\n",
    "\n",
    "        print(line1)\n",
    "#         print(line2)\n",
    "\n",
    "    print(\"%\")"
   ]
  },
  {
   "cell_type": "markdown",
   "id": "a88563eb",
   "metadata": {},
   "source": [
    "I also made a similar plot for Antoniadis' result."
   ]
  },
  {
   "cell_type": "code",
   "execution_count": 9,
   "id": "1176ac12",
   "metadata": {
    "ExecuteTime": {
     "end_time": "2022-08-19T11:50:10.196713Z",
     "start_time": "2022-08-19T11:50:10.193542Z"
    }
   },
   "outputs": [],
   "source": [
    "# tab = Table.read(\"../data/gaia_atnf_ant2021.dat\", format=\"ascii\")\n",
    "\n",
    "# mask = np.where(tab[\"Pass\"] >= 0.9, True,\n",
    "#                 False)\n",
    "\n",
    "# tab = tab[mask]"
   ]
  },
  {
   "cell_type": "code",
   "execution_count": 11,
   "id": "bb8bf9e9",
   "metadata": {
    "ExecuteTime": {
     "end_time": "2022-08-19T11:53:16.697858Z",
     "start_time": "2022-08-19T11:53:16.691031Z"
    }
   },
   "outputs": [
    {
     "name": "stdout",
     "output_type": "stream",
     "text": [
      "J0045-7319\n",
      "J0337+1715\n",
      "J0348+0432\n",
      "J0437-4715\n",
      "J0534+2200\n",
      "J0534-6703\n",
      "J0540-6919\n",
      "J0614+2229\n",
      "J0857-4424\n",
      "J1012+5307\n",
      "J1023+0038\n",
      "J1024-0719\n",
      "J1036-8317\n",
      "J1048+2339\n",
      "J1227-4853\n",
      "J1302-6350\n",
      "J1305-6455\n",
      "J1306-4035\n",
      "J1311-3430\n",
      "J1417-4402\n",
      "J1431-4715\n",
      "J1435-6100\n",
      "J1509-6015\n",
      "J1542-5133\n",
      "J1546-5302\n",
      "J1622-0315\n",
      "J1624-4411\n",
      "J1624-4721\n",
      "J1653-0158\n",
      "J1723-2837\n",
      "J1810+1744\n",
      "J1816+4510\n",
      "J1817-3618\n",
      "J1839-0905\n",
      "J1851+1259\n",
      "J1852+0040\n",
      "J1903-0258\n",
      "J1928+1245\n",
      "J1946+2052\n",
      "J1955+2908\n",
      "J1957+2516\n",
      "J1958+2846\n",
      "J1959+2048\n",
      "J2027+4557\n",
      "J2032+4127\n",
      "J2039-5617\n",
      "J2129-0429\n",
      "J2215+5135\n",
      "J2339-0533\n"
     ]
    }
   ],
   "source": [
    "for psr_name in edr3_antf[\"name\"]:\n",
    "    print(psr_name)"
   ]
  }
 ],
 "metadata": {
  "hide_input": false,
  "kernelspec": {
   "display_name": "Python 3 (ipykernel)",
   "language": "python",
   "name": "python3"
  },
  "language_info": {
   "codemirror_mode": {
    "name": "ipython",
    "version": 3
   },
   "file_extension": ".py",
   "mimetype": "text/x-python",
   "name": "python",
   "nbconvert_exporter": "python",
   "pygments_lexer": "ipython3",
   "version": "3.9.12"
  }
 },
 "nbformat": 4,
 "nbformat_minor": 5
}
